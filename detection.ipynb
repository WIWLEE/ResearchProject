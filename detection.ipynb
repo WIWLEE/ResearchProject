{
 "cells": [
  {
   "cell_type": "code",
   "execution_count": 85,
   "metadata": {},
   "outputs": [
    {
     "name": "stdout",
     "output_type": "stream",
     "text": [
      "INFO:tensorflow:Using MirroredStrategy with devices ('/job:localhost/replica:0/task:0/device:GPU:0', '/job:localhost/replica:0/task:0/device:GPU:1', '/job:localhost/replica:0/task:0/device:GPU:2', '/job:localhost/replica:0/task:0/device:GPU:3', '/job:localhost/replica:0/task:0/device:GPU:4', '/job:localhost/replica:0/task:0/device:GPU:5', '/job:localhost/replica:0/task:0/device:GPU:6', '/job:localhost/replica:0/task:0/device:GPU:7')\n"
     ]
    },
    {
     "ename": "KeyboardInterrupt",
     "evalue": "",
     "output_type": "error",
     "traceback": [
      "\u001b[0;31m---------------------------------------------------------------------------\u001b[0m",
      "\u001b[0;31mStopIteration\u001b[0m                             Traceback (most recent call last)",
      "File \u001b[0;32m~/miniconda3/envs/tf-2.12.0/lib/python3.8/contextlib.py:120\u001b[0m, in \u001b[0;36m_GeneratorContextManager.__exit__\u001b[0;34m(self, type, value, traceback)\u001b[0m\n\u001b[1;32m    119\u001b[0m \u001b[38;5;28;01mtry\u001b[39;00m:\n\u001b[0;32m--> 120\u001b[0m     \u001b[38;5;28;43mnext\u001b[39;49m\u001b[43m(\u001b[49m\u001b[38;5;28;43mself\u001b[39;49m\u001b[38;5;241;43m.\u001b[39;49m\u001b[43mgen\u001b[49m\u001b[43m)\u001b[49m\n\u001b[1;32m    121\u001b[0m \u001b[38;5;28;01mexcept\u001b[39;00m \u001b[38;5;167;01mStopIteration\u001b[39;00m:\n",
      "\u001b[0;31mStopIteration\u001b[0m: ",
      "\nDuring handling of the above exception, another exception occurred:\n",
      "\u001b[0;31mKeyboardInterrupt\u001b[0m                         Traceback (most recent call last)",
      "Cell \u001b[0;32mIn[85], line 11\u001b[0m\n\u001b[1;32m      7\u001b[0m \u001b[38;5;28;01mfrom\u001b[39;00m \u001b[38;5;21;01mscipy\u001b[39;00m\u001b[38;5;21;01m.\u001b[39;00m\u001b[38;5;21;01mstats\u001b[39;00m \u001b[38;5;28;01mimport\u001b[39;00m norm \u001b[38;5;66;03m#p-value 를 위함\u001b[39;00m\n\u001b[1;32m     10\u001b[0m mirrored_strategy \u001b[38;5;241m=\u001b[39m tf\u001b[38;5;241m.\u001b[39mdistribute\u001b[38;5;241m.\u001b[39mMirroredStrategy()\n\u001b[0;32m---> 11\u001b[0m model \u001b[38;5;241m=\u001b[39m \u001b[43mTFGPT2LMHeadModel\u001b[49m\u001b[38;5;241;43m.\u001b[39;49m\u001b[43mfrom_pretrained\u001b[49m\u001b[43m(\u001b[49m\u001b[38;5;124;43m'\u001b[39;49m\u001b[38;5;124;43mskt/kogpt2-base-v2\u001b[39;49m\u001b[38;5;124;43m'\u001b[39;49m\u001b[43m,\u001b[49m\u001b[43m \u001b[49m\u001b[43mfrom_pt\u001b[49m\u001b[38;5;241;43m=\u001b[39;49m\u001b[38;5;28;43;01mTrue\u001b[39;49;00m\u001b[43m)\u001b[49m\n\u001b[1;32m     12\u001b[0m tokenizer \u001b[38;5;241m=\u001b[39m AutoTokenizer\u001b[38;5;241m.\u001b[39mfrom_pretrained(\u001b[38;5;124m'\u001b[39m\u001b[38;5;124mskt/kogpt2-base-v2\u001b[39m\u001b[38;5;124m'\u001b[39m)\n",
      "File \u001b[0;32m~/miniconda3/envs/tf-2.12.0/lib/python3.8/site-packages/transformers/modeling_tf_utils.py:2961\u001b[0m, in \u001b[0;36mTFPreTrainedModel.from_pretrained\u001b[0;34m(cls, pretrained_model_name_or_path, config, cache_dir, ignore_mismatched_sizes, force_download, local_files_only, token, revision, use_safetensors, *model_args, **kwargs)\u001b[0m\n\u001b[1;32m   2958\u001b[0m     \u001b[38;5;28;01mfrom\u001b[39;00m \u001b[38;5;21;01m.\u001b[39;00m\u001b[38;5;21;01mmodeling_tf_pytorch_utils\u001b[39;00m \u001b[38;5;28;01mimport\u001b[39;00m load_pytorch_checkpoint_in_tf2_model\n\u001b[1;32m   2960\u001b[0m     \u001b[38;5;66;03m# Load from a PyTorch checkpoint\u001b[39;00m\n\u001b[0;32m-> 2961\u001b[0m     \u001b[38;5;28;01mreturn\u001b[39;00m \u001b[43mload_pytorch_checkpoint_in_tf2_model\u001b[49m\u001b[43m(\u001b[49m\n\u001b[1;32m   2962\u001b[0m \u001b[43m        \u001b[49m\u001b[43mmodel\u001b[49m\u001b[43m,\u001b[49m\n\u001b[1;32m   2963\u001b[0m \u001b[43m        \u001b[49m\u001b[43mresolved_archive_file\u001b[49m\u001b[43m,\u001b[49m\n\u001b[1;32m   2964\u001b[0m \u001b[43m        \u001b[49m\u001b[43mallow_missing_keys\u001b[49m\u001b[38;5;241;43m=\u001b[39;49m\u001b[38;5;28;43;01mTrue\u001b[39;49;00m\u001b[43m,\u001b[49m\n\u001b[1;32m   2965\u001b[0m \u001b[43m        \u001b[49m\u001b[43moutput_loading_info\u001b[49m\u001b[38;5;241;43m=\u001b[39;49m\u001b[43moutput_loading_info\u001b[49m\u001b[43m,\u001b[49m\n\u001b[1;32m   2966\u001b[0m \u001b[43m        \u001b[49m\u001b[43m_prefix\u001b[49m\u001b[38;5;241;43m=\u001b[39;49m\u001b[43mload_weight_prefix\u001b[49m\u001b[43m,\u001b[49m\n\u001b[1;32m   2967\u001b[0m \u001b[43m        \u001b[49m\u001b[43mtf_to_pt_weight_rename\u001b[49m\u001b[38;5;241;43m=\u001b[39;49m\u001b[43mtf_to_pt_weight_rename\u001b[49m\u001b[43m,\u001b[49m\n\u001b[1;32m   2968\u001b[0m \u001b[43m    \u001b[49m\u001b[43m)\u001b[49m\n\u001b[1;32m   2970\u001b[0m \u001b[38;5;66;03m# we might need to extend the variable scope for composite models\u001b[39;00m\n\u001b[1;32m   2971\u001b[0m \u001b[38;5;28;01mif\u001b[39;00m load_weight_prefix \u001b[38;5;129;01mis\u001b[39;00m \u001b[38;5;129;01mnot\u001b[39;00m \u001b[38;5;28;01mNone\u001b[39;00m:\n",
      "File \u001b[0;32m~/miniconda3/envs/tf-2.12.0/lib/python3.8/site-packages/transformers/modeling_tf_pytorch_utils.py:212\u001b[0m, in \u001b[0;36mload_pytorch_checkpoint_in_tf2_model\u001b[0;34m(tf_model, pytorch_checkpoint_path, tf_inputs, allow_missing_keys, output_loading_info, _prefix, tf_to_pt_weight_rename)\u001b[0m\n\u001b[1;32m    208\u001b[0m     pt_state_dict\u001b[38;5;241m.\u001b[39mupdate(state_dict)\n\u001b[1;32m    210\u001b[0m logger\u001b[38;5;241m.\u001b[39minfo(\u001b[38;5;124mf\u001b[39m\u001b[38;5;124m\"\u001b[39m\u001b[38;5;124mPyTorch checkpoint contains \u001b[39m\u001b[38;5;132;01m{\u001b[39;00m\u001b[38;5;28msum\u001b[39m(t\u001b[38;5;241m.\u001b[39mnumel()\u001b[38;5;250m \u001b[39m\u001b[38;5;28;01mfor\u001b[39;00m\u001b[38;5;250m \u001b[39mt\u001b[38;5;250m \u001b[39m\u001b[38;5;129;01min\u001b[39;00m\u001b[38;5;250m \u001b[39mpt_state_dict\u001b[38;5;241m.\u001b[39mvalues())\u001b[38;5;132;01m:\u001b[39;00m\u001b[38;5;124m,\u001b[39m\u001b[38;5;132;01m}\u001b[39;00m\u001b[38;5;124m parameters\u001b[39m\u001b[38;5;124m\"\u001b[39m)\n\u001b[0;32m--> 212\u001b[0m \u001b[38;5;28;01mreturn\u001b[39;00m \u001b[43mload_pytorch_weights_in_tf2_model\u001b[49m\u001b[43m(\u001b[49m\n\u001b[1;32m    213\u001b[0m \u001b[43m    \u001b[49m\u001b[43mtf_model\u001b[49m\u001b[43m,\u001b[49m\n\u001b[1;32m    214\u001b[0m \u001b[43m    \u001b[49m\u001b[43mpt_state_dict\u001b[49m\u001b[43m,\u001b[49m\n\u001b[1;32m    215\u001b[0m \u001b[43m    \u001b[49m\u001b[43mtf_inputs\u001b[49m\u001b[38;5;241;43m=\u001b[39;49m\u001b[43mtf_inputs\u001b[49m\u001b[43m,\u001b[49m\n\u001b[1;32m    216\u001b[0m \u001b[43m    \u001b[49m\u001b[43mallow_missing_keys\u001b[49m\u001b[38;5;241;43m=\u001b[39;49m\u001b[43mallow_missing_keys\u001b[49m\u001b[43m,\u001b[49m\n\u001b[1;32m    217\u001b[0m \u001b[43m    \u001b[49m\u001b[43moutput_loading_info\u001b[49m\u001b[38;5;241;43m=\u001b[39;49m\u001b[43moutput_loading_info\u001b[49m\u001b[43m,\u001b[49m\n\u001b[1;32m    218\u001b[0m \u001b[43m    \u001b[49m\u001b[43m_prefix\u001b[49m\u001b[38;5;241;43m=\u001b[39;49m\u001b[43m_prefix\u001b[49m\u001b[43m,\u001b[49m\n\u001b[1;32m    219\u001b[0m \u001b[43m    \u001b[49m\u001b[43mtf_to_pt_weight_rename\u001b[49m\u001b[38;5;241;43m=\u001b[39;49m\u001b[43mtf_to_pt_weight_rename\u001b[49m\u001b[43m,\u001b[49m\n\u001b[1;32m    220\u001b[0m \u001b[43m\u001b[49m\u001b[43m)\u001b[49m\n",
      "File \u001b[0;32m~/miniconda3/envs/tf-2.12.0/lib/python3.8/site-packages/transformers/modeling_tf_pytorch_utils.py:256\u001b[0m, in \u001b[0;36mload_pytorch_weights_in_tf2_model\u001b[0;34m(tf_model, pt_state_dict, tf_inputs, allow_missing_keys, output_loading_info, _prefix, tf_to_pt_weight_rename)\u001b[0m\n\u001b[1;32m    252\u001b[0m \u001b[38;5;66;03m# Numpy doesn't understand bfloat16, so upcast to a dtype that doesn't lose precision\u001b[39;00m\n\u001b[1;32m    253\u001b[0m pt_state_dict \u001b[38;5;241m=\u001b[39m {\n\u001b[1;32m    254\u001b[0m     k: v\u001b[38;5;241m.\u001b[39mnumpy() \u001b[38;5;28;01mif\u001b[39;00m v\u001b[38;5;241m.\u001b[39mdtype \u001b[38;5;241m!=\u001b[39m torch\u001b[38;5;241m.\u001b[39mbfloat16 \u001b[38;5;28;01melse\u001b[39;00m v\u001b[38;5;241m.\u001b[39mfloat()\u001b[38;5;241m.\u001b[39mnumpy() \u001b[38;5;28;01mfor\u001b[39;00m k, v \u001b[38;5;129;01min\u001b[39;00m pt_state_dict\u001b[38;5;241m.\u001b[39mitems()\n\u001b[1;32m    255\u001b[0m }\n\u001b[0;32m--> 256\u001b[0m \u001b[38;5;28;01mreturn\u001b[39;00m \u001b[43mload_pytorch_state_dict_in_tf2_model\u001b[49m\u001b[43m(\u001b[49m\n\u001b[1;32m    257\u001b[0m \u001b[43m    \u001b[49m\u001b[43mtf_model\u001b[49m\u001b[43m,\u001b[49m\n\u001b[1;32m    258\u001b[0m \u001b[43m    \u001b[49m\u001b[43mpt_state_dict\u001b[49m\u001b[43m,\u001b[49m\n\u001b[1;32m    259\u001b[0m \u001b[43m    \u001b[49m\u001b[43mtf_inputs\u001b[49m\u001b[38;5;241;43m=\u001b[39;49m\u001b[43mtf_inputs\u001b[49m\u001b[43m,\u001b[49m\n\u001b[1;32m    260\u001b[0m \u001b[43m    \u001b[49m\u001b[43mallow_missing_keys\u001b[49m\u001b[38;5;241;43m=\u001b[39;49m\u001b[43mallow_missing_keys\u001b[49m\u001b[43m,\u001b[49m\n\u001b[1;32m    261\u001b[0m \u001b[43m    \u001b[49m\u001b[43moutput_loading_info\u001b[49m\u001b[38;5;241;43m=\u001b[39;49m\u001b[43moutput_loading_info\u001b[49m\u001b[43m,\u001b[49m\n\u001b[1;32m    262\u001b[0m \u001b[43m    \u001b[49m\u001b[43m_prefix\u001b[49m\u001b[38;5;241;43m=\u001b[39;49m\u001b[43m_prefix\u001b[49m\u001b[43m,\u001b[49m\n\u001b[1;32m    263\u001b[0m \u001b[43m    \u001b[49m\u001b[43mtf_to_pt_weight_rename\u001b[49m\u001b[38;5;241;43m=\u001b[39;49m\u001b[43mtf_to_pt_weight_rename\u001b[49m\u001b[43m,\u001b[49m\n\u001b[1;32m    264\u001b[0m \u001b[43m\u001b[49m\u001b[43m)\u001b[49m\n",
      "File \u001b[0;32m~/miniconda3/envs/tf-2.12.0/lib/python3.8/site-packages/transformers/modeling_tf_pytorch_utils.py:330\u001b[0m, in \u001b[0;36mload_pytorch_state_dict_in_tf2_model\u001b[0;34m(tf_model, pt_state_dict, tf_inputs, allow_missing_keys, output_loading_info, _prefix, tf_to_pt_weight_rename, ignore_mismatched_sizes, skip_logger_warnings)\u001b[0m\n\u001b[1;32m    328\u001b[0m \u001b[38;5;28;01mif\u001b[39;00m tf_inputs:\n\u001b[1;32m    329\u001b[0m     \u001b[38;5;28;01mwith\u001b[39;00m tf\u001b[38;5;241m.\u001b[39mname_scope(_prefix):\n\u001b[0;32m--> 330\u001b[0m         \u001b[43mtf_model\u001b[49m\u001b[43m(\u001b[49m\u001b[43mtf_inputs\u001b[49m\u001b[43m,\u001b[49m\u001b[43m \u001b[49m\u001b[43mtraining\u001b[49m\u001b[38;5;241;43m=\u001b[39;49m\u001b[38;5;28;43;01mFalse\u001b[39;49;00m\u001b[43m)\u001b[49m  \u001b[38;5;66;03m# Make sure model is built\u001b[39;00m\n\u001b[1;32m    331\u001b[0m \u001b[38;5;66;03m# Convert old format to new format if needed from a PyTorch state_dict\u001b[39;00m\n\u001b[1;32m    332\u001b[0m tf_keys_to_pt_keys \u001b[38;5;241m=\u001b[39m {}\n",
      "File \u001b[0;32m~/miniconda3/envs/tf-2.12.0/lib/python3.8/site-packages/keras/utils/traceback_utils.py:65\u001b[0m, in \u001b[0;36mfilter_traceback.<locals>.error_handler\u001b[0;34m(*args, **kwargs)\u001b[0m\n\u001b[1;32m     63\u001b[0m filtered_tb \u001b[38;5;241m=\u001b[39m \u001b[38;5;28;01mNone\u001b[39;00m\n\u001b[1;32m     64\u001b[0m \u001b[38;5;28;01mtry\u001b[39;00m:\n\u001b[0;32m---> 65\u001b[0m     \u001b[38;5;28;01mreturn\u001b[39;00m \u001b[43mfn\u001b[49m\u001b[43m(\u001b[49m\u001b[38;5;241;43m*\u001b[39;49m\u001b[43margs\u001b[49m\u001b[43m,\u001b[49m\u001b[43m \u001b[49m\u001b[38;5;241;43m*\u001b[39;49m\u001b[38;5;241;43m*\u001b[39;49m\u001b[43mkwargs\u001b[49m\u001b[43m)\u001b[49m\n\u001b[1;32m     66\u001b[0m \u001b[38;5;28;01mexcept\u001b[39;00m \u001b[38;5;167;01mException\u001b[39;00m \u001b[38;5;28;01mas\u001b[39;00m e:\n\u001b[1;32m     67\u001b[0m     filtered_tb \u001b[38;5;241m=\u001b[39m _process_traceback_frames(e\u001b[38;5;241m.\u001b[39m__traceback__)\n",
      "File \u001b[0;32m~/miniconda3/envs/tf-2.12.0/lib/python3.8/site-packages/keras/engine/training.py:558\u001b[0m, in \u001b[0;36mModel.__call__\u001b[0;34m(self, *args, **kwargs)\u001b[0m\n\u001b[1;32m    554\u001b[0m         \u001b[38;5;28msuper\u001b[39m()\u001b[38;5;241m.\u001b[39m\u001b[38;5;21m__call__\u001b[39m(inputs, \u001b[38;5;241m*\u001b[39mcopied_args, \u001b[38;5;241m*\u001b[39m\u001b[38;5;241m*\u001b[39mcopied_kwargs)\n\u001b[1;32m    556\u001b[0m     layout_map_lib\u001b[38;5;241m.\u001b[39m_map_subclass_model_variable(\u001b[38;5;28mself\u001b[39m, \u001b[38;5;28mself\u001b[39m\u001b[38;5;241m.\u001b[39m_layout_map)\n\u001b[0;32m--> 558\u001b[0m \u001b[38;5;28;01mreturn\u001b[39;00m \u001b[38;5;28;43msuper\u001b[39;49m\u001b[43m(\u001b[49m\u001b[43m)\u001b[49m\u001b[38;5;241;43m.\u001b[39;49m\u001b[38;5;21;43m__call__\u001b[39;49m\u001b[43m(\u001b[49m\u001b[38;5;241;43m*\u001b[39;49m\u001b[43margs\u001b[49m\u001b[43m,\u001b[49m\u001b[43m \u001b[49m\u001b[38;5;241;43m*\u001b[39;49m\u001b[38;5;241;43m*\u001b[39;49m\u001b[43mkwargs\u001b[49m\u001b[43m)\u001b[49m\n",
      "File \u001b[0;32m~/miniconda3/envs/tf-2.12.0/lib/python3.8/site-packages/keras/utils/traceback_utils.py:65\u001b[0m, in \u001b[0;36mfilter_traceback.<locals>.error_handler\u001b[0;34m(*args, **kwargs)\u001b[0m\n\u001b[1;32m     63\u001b[0m filtered_tb \u001b[38;5;241m=\u001b[39m \u001b[38;5;28;01mNone\u001b[39;00m\n\u001b[1;32m     64\u001b[0m \u001b[38;5;28;01mtry\u001b[39;00m:\n\u001b[0;32m---> 65\u001b[0m     \u001b[38;5;28;01mreturn\u001b[39;00m \u001b[43mfn\u001b[49m\u001b[43m(\u001b[49m\u001b[38;5;241;43m*\u001b[39;49m\u001b[43margs\u001b[49m\u001b[43m,\u001b[49m\u001b[43m \u001b[49m\u001b[38;5;241;43m*\u001b[39;49m\u001b[38;5;241;43m*\u001b[39;49m\u001b[43mkwargs\u001b[49m\u001b[43m)\u001b[49m\n\u001b[1;32m     66\u001b[0m \u001b[38;5;28;01mexcept\u001b[39;00m \u001b[38;5;167;01mException\u001b[39;00m \u001b[38;5;28;01mas\u001b[39;00m e:\n\u001b[1;32m     67\u001b[0m     filtered_tb \u001b[38;5;241m=\u001b[39m _process_traceback_frames(e\u001b[38;5;241m.\u001b[39m__traceback__)\n",
      "File \u001b[0;32m~/miniconda3/envs/tf-2.12.0/lib/python3.8/site-packages/keras/engine/base_layer.py:1137\u001b[0m, in \u001b[0;36mLayer.__call__\u001b[0;34m(self, *args, **kwargs)\u001b[0m\n\u001b[1;32m   1134\u001b[0m namescope_stack\u001b[38;5;241m.\u001b[39menter_context(tf\u001b[38;5;241m.\u001b[39mname_scope(name_scope))\n\u001b[1;32m   1136\u001b[0m \u001b[38;5;28;01mif\u001b[39;00m \u001b[38;5;129;01mnot\u001b[39;00m \u001b[38;5;28mself\u001b[39m\u001b[38;5;241m.\u001b[39mbuilt:\n\u001b[0;32m-> 1137\u001b[0m     \u001b[38;5;28;43mself\u001b[39;49m\u001b[38;5;241;43m.\u001b[39;49m\u001b[43m_maybe_build\u001b[49m\u001b[43m(\u001b[49m\u001b[43minputs\u001b[49m\u001b[43m)\u001b[49m\n\u001b[1;32m   1139\u001b[0m \u001b[38;5;28;01mif\u001b[39;00m \u001b[38;5;28mself\u001b[39m\u001b[38;5;241m.\u001b[39m_autocast:\n\u001b[1;32m   1140\u001b[0m     inputs \u001b[38;5;241m=\u001b[39m \u001b[38;5;28mself\u001b[39m\u001b[38;5;241m.\u001b[39m_maybe_cast_inputs(inputs, input_list)\n",
      "File \u001b[0;32m~/miniconda3/envs/tf-2.12.0/lib/python3.8/site-packages/keras/engine/base_layer.py:3023\u001b[0m, in \u001b[0;36mLayer._maybe_build\u001b[0;34m(self, inputs)\u001b[0m\n\u001b[1;32m   3018\u001b[0m \u001b[38;5;28;01mif\u001b[39;00m \u001b[38;5;129;01mnot\u001b[39;00m \u001b[38;5;28mhasattr\u001b[39m(\u001b[38;5;28mself\u001b[39m\u001b[38;5;241m.\u001b[39mbuild, \u001b[38;5;124m\"\u001b[39m\u001b[38;5;124m_is_default\u001b[39m\u001b[38;5;124m\"\u001b[39m):\n\u001b[1;32m   3019\u001b[0m     \u001b[38;5;66;03m# Any setup work performed only once should happen in an\u001b[39;00m\n\u001b[1;32m   3020\u001b[0m     \u001b[38;5;66;03m# `init_scope` to avoid creating symbolic Tensors that will\u001b[39;00m\n\u001b[1;32m   3021\u001b[0m     \u001b[38;5;66;03m# later pollute any eager operations.\u001b[39;00m\n\u001b[1;32m   3022\u001b[0m     \u001b[38;5;28;01mwith\u001b[39;00m tf_utils\u001b[38;5;241m.\u001b[39mmaybe_init_scope(\u001b[38;5;28mself\u001b[39m):\n\u001b[0;32m-> 3023\u001b[0m         \u001b[38;5;28;43mself\u001b[39;49m\u001b[38;5;241;43m.\u001b[39;49m\u001b[43mbuild\u001b[49m\u001b[43m(\u001b[49m\u001b[43minput_shapes\u001b[49m\u001b[43m)\u001b[49m\n\u001b[1;32m   3024\u001b[0m \u001b[38;5;66;03m# We must set also ensure that the layer is marked as built, and the\u001b[39;00m\n\u001b[1;32m   3025\u001b[0m \u001b[38;5;66;03m# build shape is stored since user defined build functions may not\u001b[39;00m\n\u001b[1;32m   3026\u001b[0m \u001b[38;5;66;03m# be calling `super.build()`\u001b[39;00m\n\u001b[1;32m   3027\u001b[0m Layer\u001b[38;5;241m.\u001b[39mbuild(\u001b[38;5;28mself\u001b[39m, input_shapes)\n",
      "File \u001b[0;32m~/miniconda3/envs/tf-2.12.0/lib/python3.8/site-packages/transformers/models/gpt2/modeling_tf_gpt2.py:970\u001b[0m, in \u001b[0;36mTFGPT2LMHeadModel.build\u001b[0;34m(self, input_shape)\u001b[0m\n\u001b[1;32m    968\u001b[0m \u001b[38;5;28;01mif\u001b[39;00m \u001b[38;5;28mgetattr\u001b[39m(\u001b[38;5;28mself\u001b[39m, \u001b[38;5;124m\"\u001b[39m\u001b[38;5;124mtransformer\u001b[39m\u001b[38;5;124m\"\u001b[39m, \u001b[38;5;28;01mNone\u001b[39;00m) \u001b[38;5;129;01mis\u001b[39;00m \u001b[38;5;129;01mnot\u001b[39;00m \u001b[38;5;28;01mNone\u001b[39;00m:\n\u001b[1;32m    969\u001b[0m     \u001b[38;5;28;01mwith\u001b[39;00m tf\u001b[38;5;241m.\u001b[39mname_scope(\u001b[38;5;28mself\u001b[39m\u001b[38;5;241m.\u001b[39mtransformer\u001b[38;5;241m.\u001b[39mname):\n\u001b[0;32m--> 970\u001b[0m         \u001b[38;5;28;43mself\u001b[39;49m\u001b[38;5;241;43m.\u001b[39;49m\u001b[43mtransformer\u001b[49m\u001b[38;5;241;43m.\u001b[39;49m\u001b[43mbuild\u001b[49m\u001b[43m(\u001b[49m\u001b[38;5;28;43;01mNone\u001b[39;49;00m\u001b[43m)\u001b[49m\n",
      "File \u001b[0;32m~/miniconda3/envs/tf-2.12.0/lib/python3.8/site-packages/transformers/models/gpt2/modeling_tf_gpt2.py:580\u001b[0m, in \u001b[0;36mTFGPT2MainLayer.build\u001b[0;34m(self, input_shape)\u001b[0m\n\u001b[1;32m    578\u001b[0m \u001b[38;5;28;01mfor\u001b[39;00m layer \u001b[38;5;129;01min\u001b[39;00m \u001b[38;5;28mself\u001b[39m\u001b[38;5;241m.\u001b[39mh:\n\u001b[1;32m    579\u001b[0m     \u001b[38;5;28;01mwith\u001b[39;00m tf\u001b[38;5;241m.\u001b[39mname_scope(layer\u001b[38;5;241m.\u001b[39mname):\n\u001b[0;32m--> 580\u001b[0m         \u001b[43mlayer\u001b[49m\u001b[38;5;241;43m.\u001b[39;49m\u001b[43mbuild\u001b[49m\u001b[43m(\u001b[49m\u001b[38;5;28;43;01mNone\u001b[39;49;00m\u001b[43m)\u001b[49m\n",
      "File \u001b[0;32m~/miniconda3/envs/tf-2.12.0/lib/python3.8/site-packages/transformers/models/gpt2/modeling_tf_gpt2.py:336\u001b[0m, in \u001b[0;36mTFBlock.build\u001b[0;34m(self, input_shape)\u001b[0m\n\u001b[1;32m    334\u001b[0m \u001b[38;5;28;01mif\u001b[39;00m \u001b[38;5;28mgetattr\u001b[39m(\u001b[38;5;28mself\u001b[39m, \u001b[38;5;124m\"\u001b[39m\u001b[38;5;124mattn\u001b[39m\u001b[38;5;124m\"\u001b[39m, \u001b[38;5;28;01mNone\u001b[39;00m) \u001b[38;5;129;01mis\u001b[39;00m \u001b[38;5;129;01mnot\u001b[39;00m \u001b[38;5;28;01mNone\u001b[39;00m:\n\u001b[1;32m    335\u001b[0m     \u001b[38;5;28;01mwith\u001b[39;00m tf\u001b[38;5;241m.\u001b[39mname_scope(\u001b[38;5;28mself\u001b[39m\u001b[38;5;241m.\u001b[39mattn\u001b[38;5;241m.\u001b[39mname):\n\u001b[0;32m--> 336\u001b[0m         \u001b[38;5;28;43mself\u001b[39;49m\u001b[38;5;241;43m.\u001b[39;49m\u001b[43mattn\u001b[49m\u001b[38;5;241;43m.\u001b[39;49m\u001b[43mbuild\u001b[49m\u001b[43m(\u001b[49m\u001b[38;5;28;43;01mNone\u001b[39;49;00m\u001b[43m)\u001b[49m\n\u001b[1;32m    337\u001b[0m \u001b[38;5;28;01mif\u001b[39;00m \u001b[38;5;28mgetattr\u001b[39m(\u001b[38;5;28mself\u001b[39m, \u001b[38;5;124m\"\u001b[39m\u001b[38;5;124mln_2\u001b[39m\u001b[38;5;124m\"\u001b[39m, \u001b[38;5;28;01mNone\u001b[39;00m) \u001b[38;5;129;01mis\u001b[39;00m \u001b[38;5;129;01mnot\u001b[39;00m \u001b[38;5;28;01mNone\u001b[39;00m:\n\u001b[1;32m    338\u001b[0m     \u001b[38;5;28;01mwith\u001b[39;00m tf\u001b[38;5;241m.\u001b[39mname_scope(\u001b[38;5;28mself\u001b[39m\u001b[38;5;241m.\u001b[39mln_2\u001b[38;5;241m.\u001b[39mname):\n",
      "File \u001b[0;32m~/miniconda3/envs/tf-2.12.0/lib/python3.8/site-packages/transformers/models/gpt2/modeling_tf_gpt2.py:214\u001b[0m, in \u001b[0;36mTFAttention.build\u001b[0;34m(self, input_shape)\u001b[0m\n\u001b[1;32m    212\u001b[0m \u001b[38;5;28;01mif\u001b[39;00m \u001b[38;5;28mgetattr\u001b[39m(\u001b[38;5;28mself\u001b[39m, \u001b[38;5;124m\"\u001b[39m\u001b[38;5;124mc_attn\u001b[39m\u001b[38;5;124m\"\u001b[39m, \u001b[38;5;28;01mNone\u001b[39;00m) \u001b[38;5;129;01mis\u001b[39;00m \u001b[38;5;129;01mnot\u001b[39;00m \u001b[38;5;28;01mNone\u001b[39;00m:\n\u001b[1;32m    213\u001b[0m     \u001b[38;5;28;01mwith\u001b[39;00m tf\u001b[38;5;241m.\u001b[39mname_scope(\u001b[38;5;28mself\u001b[39m\u001b[38;5;241m.\u001b[39mc_attn\u001b[38;5;241m.\u001b[39mname):\n\u001b[0;32m--> 214\u001b[0m         \u001b[38;5;28;43mself\u001b[39;49m\u001b[38;5;241;43m.\u001b[39;49m\u001b[43mc_attn\u001b[49m\u001b[38;5;241;43m.\u001b[39;49m\u001b[43mbuild\u001b[49m\u001b[43m(\u001b[49m\u001b[43m[\u001b[49m\u001b[38;5;28;43;01mNone\u001b[39;49;00m\u001b[43m,\u001b[49m\u001b[43m \u001b[49m\u001b[38;5;28;43;01mNone\u001b[39;49;00m\u001b[43m,\u001b[49m\u001b[43m \u001b[49m\u001b[43mc_attn_shape\u001b[49m\u001b[43m]\u001b[49m\u001b[43m)\u001b[49m\n\u001b[1;32m    215\u001b[0m \u001b[38;5;28;01mif\u001b[39;00m \u001b[38;5;28mgetattr\u001b[39m(\u001b[38;5;28mself\u001b[39m, \u001b[38;5;124m\"\u001b[39m\u001b[38;5;124mq_attn\u001b[39m\u001b[38;5;124m\"\u001b[39m, \u001b[38;5;28;01mNone\u001b[39;00m) \u001b[38;5;129;01mis\u001b[39;00m \u001b[38;5;129;01mnot\u001b[39;00m \u001b[38;5;28;01mNone\u001b[39;00m:\n\u001b[1;32m    216\u001b[0m     \u001b[38;5;28;01mwith\u001b[39;00m tf\u001b[38;5;241m.\u001b[39mname_scope(\u001b[38;5;28mself\u001b[39m\u001b[38;5;241m.\u001b[39mq_attn\u001b[38;5;241m.\u001b[39mname):\n",
      "File \u001b[0;32m~/miniconda3/envs/tf-2.12.0/lib/python3.8/site-packages/transformers/modeling_tf_utils.py:3301\u001b[0m, in \u001b[0;36mTFConv1D.build\u001b[0;34m(self, input_shape)\u001b[0m\n\u001b[1;32m   3297\u001b[0m \u001b[38;5;28mself\u001b[39m\u001b[38;5;241m.\u001b[39mbuilt \u001b[38;5;241m=\u001b[39m \u001b[38;5;28;01mTrue\u001b[39;00m\n\u001b[1;32m   3298\u001b[0m \u001b[38;5;28mself\u001b[39m\u001b[38;5;241m.\u001b[39mweight \u001b[38;5;241m=\u001b[39m \u001b[38;5;28mself\u001b[39m\u001b[38;5;241m.\u001b[39madd_weight(\n\u001b[1;32m   3299\u001b[0m     \u001b[38;5;124m\"\u001b[39m\u001b[38;5;124mweight\u001b[39m\u001b[38;5;124m\"\u001b[39m, shape\u001b[38;5;241m=\u001b[39m[\u001b[38;5;28mself\u001b[39m\u001b[38;5;241m.\u001b[39mnx, \u001b[38;5;28mself\u001b[39m\u001b[38;5;241m.\u001b[39mnf], initializer\u001b[38;5;241m=\u001b[39mget_initializer(\u001b[38;5;28mself\u001b[39m\u001b[38;5;241m.\u001b[39minitializer_range)\n\u001b[1;32m   3300\u001b[0m )\n\u001b[0;32m-> 3301\u001b[0m \u001b[38;5;28mself\u001b[39m\u001b[38;5;241m.\u001b[39mbias \u001b[38;5;241m=\u001b[39m \u001b[38;5;28;43mself\u001b[39;49m\u001b[38;5;241;43m.\u001b[39;49m\u001b[43madd_weight\u001b[49m\u001b[43m(\u001b[49m\u001b[38;5;124;43m\"\u001b[39;49m\u001b[38;5;124;43mbias\u001b[39;49m\u001b[38;5;124;43m\"\u001b[39;49m\u001b[43m,\u001b[49m\u001b[43m \u001b[49m\u001b[43mshape\u001b[49m\u001b[38;5;241;43m=\u001b[39;49m\u001b[43m[\u001b[49m\u001b[38;5;241;43m1\u001b[39;49m\u001b[43m,\u001b[49m\u001b[43m \u001b[49m\u001b[38;5;28;43mself\u001b[39;49m\u001b[38;5;241;43m.\u001b[39;49m\u001b[43mnf\u001b[49m\u001b[43m]\u001b[49m\u001b[43m,\u001b[49m\u001b[43m \u001b[49m\u001b[43minitializer\u001b[49m\u001b[38;5;241;43m=\u001b[39;49m\u001b[43mtf\u001b[49m\u001b[38;5;241;43m.\u001b[39;49m\u001b[43mzeros_initializer\u001b[49m\u001b[43m(\u001b[49m\u001b[43m)\u001b[49m\u001b[43m)\u001b[49m\n",
      "File \u001b[0;32m~/miniconda3/envs/tf-2.12.0/lib/python3.8/site-packages/keras/engine/base_layer.py:712\u001b[0m, in \u001b[0;36mLayer.add_weight\u001b[0;34m(self, name, shape, dtype, initializer, regularizer, trainable, constraint, use_resource, synchronization, aggregation, **kwargs)\u001b[0m\n\u001b[1;32m    709\u001b[0m \u001b[38;5;28;01mif\u001b[39;00m layout:\n\u001b[1;32m    710\u001b[0m     getter \u001b[38;5;241m=\u001b[39m functools\u001b[38;5;241m.\u001b[39mpartial(getter, layout\u001b[38;5;241m=\u001b[39mlayout)\n\u001b[0;32m--> 712\u001b[0m variable \u001b[38;5;241m=\u001b[39m \u001b[38;5;28;43mself\u001b[39;49m\u001b[38;5;241;43m.\u001b[39;49m\u001b[43m_add_variable_with_custom_getter\u001b[49m\u001b[43m(\u001b[49m\n\u001b[1;32m    713\u001b[0m \u001b[43m    \u001b[49m\u001b[43mname\u001b[49m\u001b[38;5;241;43m=\u001b[39;49m\u001b[43mname\u001b[49m\u001b[43m,\u001b[49m\n\u001b[1;32m    714\u001b[0m \u001b[43m    \u001b[49m\u001b[43mshape\u001b[49m\u001b[38;5;241;43m=\u001b[39;49m\u001b[43mshape\u001b[49m\u001b[43m,\u001b[49m\n\u001b[1;32m    715\u001b[0m \u001b[43m    \u001b[49m\u001b[38;5;66;43;03m# TODO(allenl): a `make_variable` equivalent should be added as a\u001b[39;49;00m\n\u001b[1;32m    716\u001b[0m \u001b[43m    \u001b[49m\u001b[38;5;66;43;03m# `Trackable` method.\u001b[39;49;00m\n\u001b[1;32m    717\u001b[0m \u001b[43m    \u001b[49m\u001b[43mgetter\u001b[49m\u001b[38;5;241;43m=\u001b[39;49m\u001b[43mgetter\u001b[49m\u001b[43m,\u001b[49m\n\u001b[1;32m    718\u001b[0m \u001b[43m    \u001b[49m\u001b[38;5;66;43;03m# Manage errors in Layer rather than Trackable.\u001b[39;49;00m\n\u001b[1;32m    719\u001b[0m \u001b[43m    \u001b[49m\u001b[43moverwrite\u001b[49m\u001b[38;5;241;43m=\u001b[39;49m\u001b[38;5;28;43;01mTrue\u001b[39;49;00m\u001b[43m,\u001b[49m\n\u001b[1;32m    720\u001b[0m \u001b[43m    \u001b[49m\u001b[43minitializer\u001b[49m\u001b[38;5;241;43m=\u001b[39;49m\u001b[43minitializer\u001b[49m\u001b[43m,\u001b[49m\n\u001b[1;32m    721\u001b[0m \u001b[43m    \u001b[49m\u001b[43mdtype\u001b[49m\u001b[38;5;241;43m=\u001b[39;49m\u001b[43mdtype\u001b[49m\u001b[43m,\u001b[49m\n\u001b[1;32m    722\u001b[0m \u001b[43m    \u001b[49m\u001b[43mconstraint\u001b[49m\u001b[38;5;241;43m=\u001b[39;49m\u001b[43mconstraint\u001b[49m\u001b[43m,\u001b[49m\n\u001b[1;32m    723\u001b[0m \u001b[43m    \u001b[49m\u001b[43mtrainable\u001b[49m\u001b[38;5;241;43m=\u001b[39;49m\u001b[43mtrainable\u001b[49m\u001b[43m,\u001b[49m\n\u001b[1;32m    724\u001b[0m \u001b[43m    \u001b[49m\u001b[43muse_resource\u001b[49m\u001b[38;5;241;43m=\u001b[39;49m\u001b[43muse_resource\u001b[49m\u001b[43m,\u001b[49m\n\u001b[1;32m    725\u001b[0m \u001b[43m    \u001b[49m\u001b[43mcollections\u001b[49m\u001b[38;5;241;43m=\u001b[39;49m\u001b[43mcollections_arg\u001b[49m\u001b[43m,\u001b[49m\n\u001b[1;32m    726\u001b[0m \u001b[43m    \u001b[49m\u001b[43msynchronization\u001b[49m\u001b[38;5;241;43m=\u001b[39;49m\u001b[43msynchronization\u001b[49m\u001b[43m,\u001b[49m\n\u001b[1;32m    727\u001b[0m \u001b[43m    \u001b[49m\u001b[43maggregation\u001b[49m\u001b[38;5;241;43m=\u001b[39;49m\u001b[43maggregation\u001b[49m\u001b[43m,\u001b[49m\n\u001b[1;32m    728\u001b[0m \u001b[43m    \u001b[49m\u001b[43mcaching_device\u001b[49m\u001b[38;5;241;43m=\u001b[39;49m\u001b[43mcaching_device\u001b[49m\u001b[43m,\u001b[49m\n\u001b[1;32m    729\u001b[0m \u001b[43m\u001b[49m\u001b[43m)\u001b[49m\n\u001b[1;32m    730\u001b[0m \u001b[38;5;28;01mif\u001b[39;00m regularizer \u001b[38;5;129;01mis\u001b[39;00m \u001b[38;5;129;01mnot\u001b[39;00m \u001b[38;5;28;01mNone\u001b[39;00m:\n\u001b[1;32m    731\u001b[0m     \u001b[38;5;66;03m# TODO(fchollet): in the future, this should be handled at the\u001b[39;00m\n\u001b[1;32m    732\u001b[0m     \u001b[38;5;66;03m# level of variable creation, and weight regularization losses\u001b[39;00m\n\u001b[1;32m    733\u001b[0m     \u001b[38;5;66;03m# should be variable attributes.\u001b[39;00m\n\u001b[1;32m    734\u001b[0m     name_in_scope \u001b[38;5;241m=\u001b[39m variable\u001b[38;5;241m.\u001b[39mname[: variable\u001b[38;5;241m.\u001b[39mname\u001b[38;5;241m.\u001b[39mfind(\u001b[38;5;124m\"\u001b[39m\u001b[38;5;124m:\u001b[39m\u001b[38;5;124m\"\u001b[39m)]\n",
      "File \u001b[0;32m~/miniconda3/envs/tf-2.12.0/lib/python3.8/site-packages/tensorflow/python/trackable/base.py:489\u001b[0m, in \u001b[0;36mTrackable._add_variable_with_custom_getter\u001b[0;34m(self, name, shape, dtype, initializer, getter, overwrite, **kwargs_for_getter)\u001b[0m\n\u001b[1;32m    479\u001b[0m   \u001b[38;5;28;01mif\u001b[39;00m (checkpoint_initializer \u001b[38;5;129;01mis\u001b[39;00m \u001b[38;5;129;01mnot\u001b[39;00m \u001b[38;5;28;01mNone\u001b[39;00m \u001b[38;5;129;01mand\u001b[39;00m\n\u001b[1;32m    480\u001b[0m       \u001b[38;5;129;01mnot\u001b[39;00m (\u001b[38;5;28misinstance\u001b[39m(initializer, CheckpointInitialValueCallable) \u001b[38;5;129;01mand\u001b[39;00m\n\u001b[1;32m    481\u001b[0m            (initializer\u001b[38;5;241m.\u001b[39mrestore_uid \u001b[38;5;241m>\u001b[39m checkpoint_initializer\u001b[38;5;241m.\u001b[39mrestore_uid))):\n\u001b[0;32m   (...)\u001b[0m\n\u001b[1;32m    486\u001b[0m     \u001b[38;5;66;03m# then we'll catch that when we call _track_trackable. So this is\u001b[39;00m\n\u001b[1;32m    487\u001b[0m     \u001b[38;5;66;03m# \"best effort\" to set the initializer with the highest restore UID.\u001b[39;00m\n\u001b[1;32m    488\u001b[0m     initializer \u001b[38;5;241m=\u001b[39m checkpoint_initializer\n\u001b[0;32m--> 489\u001b[0m new_variable \u001b[38;5;241m=\u001b[39m \u001b[43mgetter\u001b[49m\u001b[43m(\u001b[49m\n\u001b[1;32m    490\u001b[0m \u001b[43m    \u001b[49m\u001b[43mname\u001b[49m\u001b[38;5;241;43m=\u001b[39;49m\u001b[43mname\u001b[49m\u001b[43m,\u001b[49m\n\u001b[1;32m    491\u001b[0m \u001b[43m    \u001b[49m\u001b[43mshape\u001b[49m\u001b[38;5;241;43m=\u001b[39;49m\u001b[43mshape\u001b[49m\u001b[43m,\u001b[49m\n\u001b[1;32m    492\u001b[0m \u001b[43m    \u001b[49m\u001b[43mdtype\u001b[49m\u001b[38;5;241;43m=\u001b[39;49m\u001b[43mdtype\u001b[49m\u001b[43m,\u001b[49m\n\u001b[1;32m    493\u001b[0m \u001b[43m    \u001b[49m\u001b[43minitializer\u001b[49m\u001b[38;5;241;43m=\u001b[39;49m\u001b[43minitializer\u001b[49m\u001b[43m,\u001b[49m\n\u001b[1;32m    494\u001b[0m \u001b[43m    \u001b[49m\u001b[38;5;241;43m*\u001b[39;49m\u001b[38;5;241;43m*\u001b[39;49m\u001b[43mkwargs_for_getter\u001b[49m\u001b[43m)\u001b[49m\n\u001b[1;32m    496\u001b[0m \u001b[38;5;66;03m# If we set an initializer and the variable processed it, tracking will not\u001b[39;00m\n\u001b[1;32m    497\u001b[0m \u001b[38;5;66;03m# assign again. It will add this variable to our dependencies, and if there\u001b[39;00m\n\u001b[1;32m    498\u001b[0m \u001b[38;5;66;03m# is a non-trivial restoration queued, it will handle that. This also\u001b[39;00m\n\u001b[1;32m    499\u001b[0m \u001b[38;5;66;03m# handles slot variables.\u001b[39;00m\n\u001b[1;32m    500\u001b[0m \u001b[38;5;28;01mif\u001b[39;00m \u001b[38;5;129;01mnot\u001b[39;00m overwrite \u001b[38;5;129;01mor\u001b[39;00m \u001b[38;5;28misinstance\u001b[39m(new_variable, Trackable):\n",
      "File \u001b[0;32m~/miniconda3/envs/tf-2.12.0/lib/python3.8/site-packages/keras/engine/base_layer_utils.py:134\u001b[0m, in \u001b[0;36mmake_variable\u001b[0;34m(name, shape, dtype, initializer, trainable, caching_device, validate_shape, constraint, use_resource, collections, synchronization, aggregation, partitioner, layout)\u001b[0m\n\u001b[1;32m    127\u001b[0m     use_resource \u001b[38;5;241m=\u001b[39m \u001b[38;5;28;01mTrue\u001b[39;00m\n\u001b[1;32m    129\u001b[0m \u001b[38;5;28;01mif\u001b[39;00m layout \u001b[38;5;129;01mis\u001b[39;00m \u001b[38;5;28;01mNone\u001b[39;00m:\n\u001b[1;32m    130\u001b[0m     \u001b[38;5;66;03m# In theory, in `use_resource` is True and `collections` is empty\u001b[39;00m\n\u001b[1;32m    131\u001b[0m     \u001b[38;5;66;03m# (that is to say, in TF2), we can use tf.Variable.\u001b[39;00m\n\u001b[1;32m    132\u001b[0m     \u001b[38;5;66;03m# However, this breaks legacy (Estimator) checkpoints because\u001b[39;00m\n\u001b[1;32m    133\u001b[0m     \u001b[38;5;66;03m# it changes variable names. Remove this when V1 is fully deprecated.\u001b[39;00m\n\u001b[0;32m--> 134\u001b[0m     \u001b[38;5;28;01mreturn\u001b[39;00m \u001b[43mtf1\u001b[49m\u001b[38;5;241;43m.\u001b[39;49m\u001b[43mVariable\u001b[49m\u001b[43m(\u001b[49m\n\u001b[1;32m    135\u001b[0m \u001b[43m        \u001b[49m\u001b[43minitial_value\u001b[49m\u001b[38;5;241;43m=\u001b[39;49m\u001b[43minit_val\u001b[49m\u001b[43m,\u001b[49m\n\u001b[1;32m    136\u001b[0m \u001b[43m        \u001b[49m\u001b[43mname\u001b[49m\u001b[38;5;241;43m=\u001b[39;49m\u001b[43mname\u001b[49m\u001b[43m,\u001b[49m\n\u001b[1;32m    137\u001b[0m \u001b[43m        \u001b[49m\u001b[43mtrainable\u001b[49m\u001b[38;5;241;43m=\u001b[39;49m\u001b[43mtrainable\u001b[49m\u001b[43m,\u001b[49m\n\u001b[1;32m    138\u001b[0m \u001b[43m        \u001b[49m\u001b[43mcaching_device\u001b[49m\u001b[38;5;241;43m=\u001b[39;49m\u001b[43mcaching_device\u001b[49m\u001b[43m,\u001b[49m\n\u001b[1;32m    139\u001b[0m \u001b[43m        \u001b[49m\u001b[43mdtype\u001b[49m\u001b[38;5;241;43m=\u001b[39;49m\u001b[43mvariable_dtype\u001b[49m\u001b[43m,\u001b[49m\n\u001b[1;32m    140\u001b[0m \u001b[43m        \u001b[49m\u001b[43mvalidate_shape\u001b[49m\u001b[38;5;241;43m=\u001b[39;49m\u001b[43mvalidate_shape\u001b[49m\u001b[43m,\u001b[49m\n\u001b[1;32m    141\u001b[0m \u001b[43m        \u001b[49m\u001b[43mconstraint\u001b[49m\u001b[38;5;241;43m=\u001b[39;49m\u001b[43mconstraint\u001b[49m\u001b[43m,\u001b[49m\n\u001b[1;32m    142\u001b[0m \u001b[43m        \u001b[49m\u001b[43muse_resource\u001b[49m\u001b[38;5;241;43m=\u001b[39;49m\u001b[43muse_resource\u001b[49m\u001b[43m,\u001b[49m\n\u001b[1;32m    143\u001b[0m \u001b[43m        \u001b[49m\u001b[43mcollections\u001b[49m\u001b[38;5;241;43m=\u001b[39;49m\u001b[43mcollections\u001b[49m\u001b[43m,\u001b[49m\n\u001b[1;32m    144\u001b[0m \u001b[43m        \u001b[49m\u001b[43msynchronization\u001b[49m\u001b[38;5;241;43m=\u001b[39;49m\u001b[43msynchronization\u001b[49m\u001b[43m,\u001b[49m\n\u001b[1;32m    145\u001b[0m \u001b[43m        \u001b[49m\u001b[43maggregation\u001b[49m\u001b[38;5;241;43m=\u001b[39;49m\u001b[43maggregation\u001b[49m\u001b[43m,\u001b[49m\n\u001b[1;32m    146\u001b[0m \u001b[43m        \u001b[49m\u001b[43mshape\u001b[49m\u001b[38;5;241;43m=\u001b[39;49m\u001b[43mvariable_shape\u001b[49m\u001b[43m \u001b[49m\u001b[38;5;28;43;01mif\u001b[39;49;00m\u001b[43m \u001b[49m\u001b[43mvariable_shape\u001b[49m\u001b[43m \u001b[49m\u001b[38;5;28;43;01melse\u001b[39;49;00m\u001b[43m \u001b[49m\u001b[38;5;28;43;01mNone\u001b[39;49;00m\u001b[43m,\u001b[49m\n\u001b[1;32m    147\u001b[0m \u001b[43m    \u001b[49m\u001b[43m)\u001b[49m\n\u001b[1;32m    148\u001b[0m \u001b[38;5;28;01melse\u001b[39;00m:\n\u001b[1;32m    149\u001b[0m     \u001b[38;5;28;01mreturn\u001b[39;00m dtensor\u001b[38;5;241m.\u001b[39mDVariable(\n\u001b[1;32m    150\u001b[0m         initial_value\u001b[38;5;241m=\u001b[39minit_val,\n\u001b[1;32m    151\u001b[0m         name\u001b[38;5;241m=\u001b[39mname,\n\u001b[0;32m   (...)\u001b[0m\n\u001b[1;32m    160\u001b[0m         shape\u001b[38;5;241m=\u001b[39mvariable_shape \u001b[38;5;28;01mif\u001b[39;00m variable_shape \u001b[38;5;28;01melse\u001b[39;00m \u001b[38;5;28;01mNone\u001b[39;00m,\n\u001b[1;32m    161\u001b[0m     )\n",
      "File \u001b[0;32m~/miniconda3/envs/tf-2.12.0/lib/python3.8/site-packages/tensorflow/python/util/traceback_utils.py:150\u001b[0m, in \u001b[0;36mfilter_traceback.<locals>.error_handler\u001b[0;34m(*args, **kwargs)\u001b[0m\n\u001b[1;32m    148\u001b[0m filtered_tb \u001b[38;5;241m=\u001b[39m \u001b[38;5;28;01mNone\u001b[39;00m\n\u001b[1;32m    149\u001b[0m \u001b[38;5;28;01mtry\u001b[39;00m:\n\u001b[0;32m--> 150\u001b[0m   \u001b[38;5;28;01mreturn\u001b[39;00m \u001b[43mfn\u001b[49m\u001b[43m(\u001b[49m\u001b[38;5;241;43m*\u001b[39;49m\u001b[43margs\u001b[49m\u001b[43m,\u001b[49m\u001b[43m \u001b[49m\u001b[38;5;241;43m*\u001b[39;49m\u001b[38;5;241;43m*\u001b[39;49m\u001b[43mkwargs\u001b[49m\u001b[43m)\u001b[49m\n\u001b[1;32m    151\u001b[0m \u001b[38;5;28;01mexcept\u001b[39;00m \u001b[38;5;167;01mException\u001b[39;00m \u001b[38;5;28;01mas\u001b[39;00m e:\n\u001b[1;32m    152\u001b[0m   filtered_tb \u001b[38;5;241m=\u001b[39m _process_traceback_frames(e\u001b[38;5;241m.\u001b[39m__traceback__)\n",
      "File \u001b[0;32m~/miniconda3/envs/tf-2.12.0/lib/python3.8/site-packages/tensorflow/python/ops/variables.py:285\u001b[0m, in \u001b[0;36mVariableMetaclass.__call__\u001b[0;34m(cls, *args, **kwargs)\u001b[0m\n\u001b[1;32m    282\u001b[0m \u001b[38;5;129m@traceback_utils\u001b[39m\u001b[38;5;241m.\u001b[39mfilter_traceback\n\u001b[1;32m    283\u001b[0m \u001b[38;5;28;01mdef\u001b[39;00m \u001b[38;5;21m__call__\u001b[39m(\u001b[38;5;28mcls\u001b[39m, \u001b[38;5;241m*\u001b[39margs, \u001b[38;5;241m*\u001b[39m\u001b[38;5;241m*\u001b[39mkwargs):\n\u001b[1;32m    284\u001b[0m   \u001b[38;5;28;01mif\u001b[39;00m \u001b[38;5;28mcls\u001b[39m \u001b[38;5;129;01mis\u001b[39;00m VariableV1:\n\u001b[0;32m--> 285\u001b[0m     \u001b[38;5;28;01mreturn\u001b[39;00m \u001b[38;5;28;43mcls\u001b[39;49m\u001b[38;5;241;43m.\u001b[39;49m\u001b[43m_variable_v1_call\u001b[49m\u001b[43m(\u001b[49m\u001b[38;5;241;43m*\u001b[39;49m\u001b[43margs\u001b[49m\u001b[43m,\u001b[49m\u001b[43m \u001b[49m\u001b[38;5;241;43m*\u001b[39;49m\u001b[38;5;241;43m*\u001b[39;49m\u001b[43mkwargs\u001b[49m\u001b[43m)\u001b[49m\n\u001b[1;32m    286\u001b[0m   \u001b[38;5;28;01melif\u001b[39;00m \u001b[38;5;28mcls\u001b[39m \u001b[38;5;129;01mis\u001b[39;00m Variable:\n\u001b[1;32m    287\u001b[0m     \u001b[38;5;28;01mreturn\u001b[39;00m \u001b[38;5;28mcls\u001b[39m\u001b[38;5;241m.\u001b[39m_variable_v2_call(\u001b[38;5;241m*\u001b[39margs, \u001b[38;5;241m*\u001b[39m\u001b[38;5;241m*\u001b[39mkwargs)\n",
      "File \u001b[0;32m~/miniconda3/envs/tf-2.12.0/lib/python3.8/site-packages/tensorflow/python/ops/variables.py:226\u001b[0m, in \u001b[0;36mVariableMetaclass._variable_v1_call\u001b[0;34m(cls, initial_value, trainable, collections, validate_shape, caching_device, name, variable_def, dtype, expected_shape, import_scope, constraint, use_resource, synchronization, aggregation, shape)\u001b[0m\n\u001b[1;32m    224\u001b[0m \u001b[38;5;28;01mif\u001b[39;00m aggregation \u001b[38;5;129;01mis\u001b[39;00m \u001b[38;5;28;01mNone\u001b[39;00m:\n\u001b[1;32m    225\u001b[0m   aggregation \u001b[38;5;241m=\u001b[39m VariableAggregation\u001b[38;5;241m.\u001b[39mNONE\n\u001b[0;32m--> 226\u001b[0m \u001b[38;5;28;01mreturn\u001b[39;00m \u001b[43mprevious_getter\u001b[49m\u001b[43m(\u001b[49m\n\u001b[1;32m    227\u001b[0m \u001b[43m    \u001b[49m\u001b[43minitial_value\u001b[49m\u001b[38;5;241;43m=\u001b[39;49m\u001b[43minitial_value\u001b[49m\u001b[43m,\u001b[49m\n\u001b[1;32m    228\u001b[0m \u001b[43m    \u001b[49m\u001b[43mtrainable\u001b[49m\u001b[38;5;241;43m=\u001b[39;49m\u001b[43mtrainable\u001b[49m\u001b[43m,\u001b[49m\n\u001b[1;32m    229\u001b[0m \u001b[43m    \u001b[49m\u001b[43mcollections\u001b[49m\u001b[38;5;241;43m=\u001b[39;49m\u001b[43mcollections\u001b[49m\u001b[43m,\u001b[49m\n\u001b[1;32m    230\u001b[0m \u001b[43m    \u001b[49m\u001b[43mvalidate_shape\u001b[49m\u001b[38;5;241;43m=\u001b[39;49m\u001b[43mvalidate_shape\u001b[49m\u001b[43m,\u001b[49m\n\u001b[1;32m    231\u001b[0m \u001b[43m    \u001b[49m\u001b[43mcaching_device\u001b[49m\u001b[38;5;241;43m=\u001b[39;49m\u001b[43mcaching_device\u001b[49m\u001b[43m,\u001b[49m\n\u001b[1;32m    232\u001b[0m \u001b[43m    \u001b[49m\u001b[43mname\u001b[49m\u001b[38;5;241;43m=\u001b[39;49m\u001b[43mname\u001b[49m\u001b[43m,\u001b[49m\n\u001b[1;32m    233\u001b[0m \u001b[43m    \u001b[49m\u001b[43mvariable_def\u001b[49m\u001b[38;5;241;43m=\u001b[39;49m\u001b[43mvariable_def\u001b[49m\u001b[43m,\u001b[49m\n\u001b[1;32m    234\u001b[0m \u001b[43m    \u001b[49m\u001b[43mdtype\u001b[49m\u001b[38;5;241;43m=\u001b[39;49m\u001b[43mdtype\u001b[49m\u001b[43m,\u001b[49m\n\u001b[1;32m    235\u001b[0m \u001b[43m    \u001b[49m\u001b[43mexpected_shape\u001b[49m\u001b[38;5;241;43m=\u001b[39;49m\u001b[43mexpected_shape\u001b[49m\u001b[43m,\u001b[49m\n\u001b[1;32m    236\u001b[0m \u001b[43m    \u001b[49m\u001b[43mimport_scope\u001b[49m\u001b[38;5;241;43m=\u001b[39;49m\u001b[43mimport_scope\u001b[49m\u001b[43m,\u001b[49m\n\u001b[1;32m    237\u001b[0m \u001b[43m    \u001b[49m\u001b[43mconstraint\u001b[49m\u001b[38;5;241;43m=\u001b[39;49m\u001b[43mconstraint\u001b[49m\u001b[43m,\u001b[49m\n\u001b[1;32m    238\u001b[0m \u001b[43m    \u001b[49m\u001b[43muse_resource\u001b[49m\u001b[38;5;241;43m=\u001b[39;49m\u001b[43muse_resource\u001b[49m\u001b[43m,\u001b[49m\n\u001b[1;32m    239\u001b[0m \u001b[43m    \u001b[49m\u001b[43msynchronization\u001b[49m\u001b[38;5;241;43m=\u001b[39;49m\u001b[43msynchronization\u001b[49m\u001b[43m,\u001b[49m\n\u001b[1;32m    240\u001b[0m \u001b[43m    \u001b[49m\u001b[43maggregation\u001b[49m\u001b[38;5;241;43m=\u001b[39;49m\u001b[43maggregation\u001b[49m\u001b[43m,\u001b[49m\n\u001b[1;32m    241\u001b[0m \u001b[43m    \u001b[49m\u001b[43mshape\u001b[49m\u001b[38;5;241;43m=\u001b[39;49m\u001b[43mshape\u001b[49m\u001b[43m)\u001b[49m\n",
      "File \u001b[0;32m~/miniconda3/envs/tf-2.12.0/lib/python3.8/site-packages/tensorflow/python/ops/variables.py:219\u001b[0m, in \u001b[0;36mVariableMetaclass._variable_v1_call.<locals>.<lambda>\u001b[0;34m(**kwargs)\u001b[0m\n\u001b[1;32m    202\u001b[0m \u001b[38;5;28;01mdef\u001b[39;00m \u001b[38;5;21m_variable_v1_call\u001b[39m(\u001b[38;5;28mcls\u001b[39m,\n\u001b[1;32m    203\u001b[0m                       initial_value\u001b[38;5;241m=\u001b[39m\u001b[38;5;28;01mNone\u001b[39;00m,\n\u001b[1;32m    204\u001b[0m                       trainable\u001b[38;5;241m=\u001b[39m\u001b[38;5;28;01mNone\u001b[39;00m,\n\u001b[0;32m   (...)\u001b[0m\n\u001b[1;32m    216\u001b[0m                       aggregation\u001b[38;5;241m=\u001b[39mVariableAggregation\u001b[38;5;241m.\u001b[39mNONE,\n\u001b[1;32m    217\u001b[0m                       shape\u001b[38;5;241m=\u001b[39m\u001b[38;5;28;01mNone\u001b[39;00m):\n\u001b[1;32m    218\u001b[0m \u001b[38;5;250m  \u001b[39m\u001b[38;5;124;03m\"\"\"Call on Variable class. Useful to force the signature.\"\"\"\u001b[39;00m\n\u001b[0;32m--> 219\u001b[0m   previous_getter \u001b[38;5;241m=\u001b[39m \u001b[38;5;28;01mlambda\u001b[39;00m \u001b[38;5;241m*\u001b[39m\u001b[38;5;241m*\u001b[39mkwargs: \u001b[43mdefault_variable_creator\u001b[49m\u001b[43m(\u001b[49m\u001b[38;5;28;43;01mNone\u001b[39;49;00m\u001b[43m,\u001b[49m\u001b[43m \u001b[49m\u001b[38;5;241;43m*\u001b[39;49m\u001b[38;5;241;43m*\u001b[39;49m\u001b[43mkwargs\u001b[49m\u001b[43m)\u001b[49m\n\u001b[1;32m    220\u001b[0m   \u001b[38;5;28;01mfor\u001b[39;00m _, getter \u001b[38;5;129;01min\u001b[39;00m ops\u001b[38;5;241m.\u001b[39mget_default_graph()\u001b[38;5;241m.\u001b[39m_variable_creator_stack:  \u001b[38;5;66;03m# pylint: disable=protected-access\u001b[39;00m\n\u001b[1;32m    221\u001b[0m     previous_getter \u001b[38;5;241m=\u001b[39m _make_getter(getter, previous_getter)\n",
      "File \u001b[0;32m~/miniconda3/envs/tf-2.12.0/lib/python3.8/site-packages/tensorflow/python/ops/variable_scope.py:2707\u001b[0m, in \u001b[0;36mdefault_variable_creator\u001b[0;34m(next_creator, **kwargs)\u001b[0m\n\u001b[1;32m   2705\u001b[0m \u001b[38;5;28;01mif\u001b[39;00m use_resource:\n\u001b[1;32m   2706\u001b[0m   distribute_strategy \u001b[38;5;241m=\u001b[39m kwargs\u001b[38;5;241m.\u001b[39mget(\u001b[38;5;124m\"\u001b[39m\u001b[38;5;124mdistribute_strategy\u001b[39m\u001b[38;5;124m\"\u001b[39m, \u001b[38;5;28;01mNone\u001b[39;00m)\n\u001b[0;32m-> 2707\u001b[0m   \u001b[38;5;28;01mreturn\u001b[39;00m \u001b[43mresource_variable_ops\u001b[49m\u001b[38;5;241;43m.\u001b[39;49m\u001b[43mResourceVariable\u001b[49m\u001b[43m(\u001b[49m\n\u001b[1;32m   2708\u001b[0m \u001b[43m      \u001b[49m\u001b[43minitial_value\u001b[49m\u001b[38;5;241;43m=\u001b[39;49m\u001b[43minitial_value\u001b[49m\u001b[43m,\u001b[49m\n\u001b[1;32m   2709\u001b[0m \u001b[43m      \u001b[49m\u001b[43mtrainable\u001b[49m\u001b[38;5;241;43m=\u001b[39;49m\u001b[43mtrainable\u001b[49m\u001b[43m,\u001b[49m\n\u001b[1;32m   2710\u001b[0m \u001b[43m      \u001b[49m\u001b[43mcollections\u001b[49m\u001b[38;5;241;43m=\u001b[39;49m\u001b[43mcollections\u001b[49m\u001b[43m,\u001b[49m\n\u001b[1;32m   2711\u001b[0m \u001b[43m      \u001b[49m\u001b[43mvalidate_shape\u001b[49m\u001b[38;5;241;43m=\u001b[39;49m\u001b[43mvalidate_shape\u001b[49m\u001b[43m,\u001b[49m\n\u001b[1;32m   2712\u001b[0m \u001b[43m      \u001b[49m\u001b[43mcaching_device\u001b[49m\u001b[38;5;241;43m=\u001b[39;49m\u001b[43mcaching_device\u001b[49m\u001b[43m,\u001b[49m\n\u001b[1;32m   2713\u001b[0m \u001b[43m      \u001b[49m\u001b[43mname\u001b[49m\u001b[38;5;241;43m=\u001b[39;49m\u001b[43mname\u001b[49m\u001b[43m,\u001b[49m\n\u001b[1;32m   2714\u001b[0m \u001b[43m      \u001b[49m\u001b[43mdtype\u001b[49m\u001b[38;5;241;43m=\u001b[39;49m\u001b[43mdtype\u001b[49m\u001b[43m,\u001b[49m\n\u001b[1;32m   2715\u001b[0m \u001b[43m      \u001b[49m\u001b[43mconstraint\u001b[49m\u001b[38;5;241;43m=\u001b[39;49m\u001b[43mconstraint\u001b[49m\u001b[43m,\u001b[49m\n\u001b[1;32m   2716\u001b[0m \u001b[43m      \u001b[49m\u001b[43mvariable_def\u001b[49m\u001b[38;5;241;43m=\u001b[39;49m\u001b[43mvariable_def\u001b[49m\u001b[43m,\u001b[49m\n\u001b[1;32m   2717\u001b[0m \u001b[43m      \u001b[49m\u001b[43mimport_scope\u001b[49m\u001b[38;5;241;43m=\u001b[39;49m\u001b[43mimport_scope\u001b[49m\u001b[43m,\u001b[49m\n\u001b[1;32m   2718\u001b[0m \u001b[43m      \u001b[49m\u001b[43mdistribute_strategy\u001b[49m\u001b[38;5;241;43m=\u001b[39;49m\u001b[43mdistribute_strategy\u001b[49m\u001b[43m,\u001b[49m\n\u001b[1;32m   2719\u001b[0m \u001b[43m      \u001b[49m\u001b[43msynchronization\u001b[49m\u001b[38;5;241;43m=\u001b[39;49m\u001b[43msynchronization\u001b[49m\u001b[43m,\u001b[49m\n\u001b[1;32m   2720\u001b[0m \u001b[43m      \u001b[49m\u001b[43maggregation\u001b[49m\u001b[38;5;241;43m=\u001b[39;49m\u001b[43maggregation\u001b[49m\u001b[43m,\u001b[49m\n\u001b[1;32m   2721\u001b[0m \u001b[43m      \u001b[49m\u001b[43mshape\u001b[49m\u001b[38;5;241;43m=\u001b[39;49m\u001b[43mshape\u001b[49m\u001b[43m)\u001b[49m\n\u001b[1;32m   2722\u001b[0m \u001b[38;5;28;01melse\u001b[39;00m:\n\u001b[1;32m   2723\u001b[0m   \u001b[38;5;28;01mreturn\u001b[39;00m variables\u001b[38;5;241m.\u001b[39mRefVariable(\n\u001b[1;32m   2724\u001b[0m       initial_value\u001b[38;5;241m=\u001b[39minitial_value,\n\u001b[1;32m   2725\u001b[0m       trainable\u001b[38;5;241m=\u001b[39mtrainable,\n\u001b[0;32m   (...)\u001b[0m\n\u001b[1;32m   2736\u001b[0m       aggregation\u001b[38;5;241m=\u001b[39maggregation,\n\u001b[1;32m   2737\u001b[0m       shape\u001b[38;5;241m=\u001b[39mshape)\n",
      "File \u001b[0;32m~/miniconda3/envs/tf-2.12.0/lib/python3.8/site-packages/tensorflow/python/util/traceback_utils.py:150\u001b[0m, in \u001b[0;36mfilter_traceback.<locals>.error_handler\u001b[0;34m(*args, **kwargs)\u001b[0m\n\u001b[1;32m    148\u001b[0m filtered_tb \u001b[38;5;241m=\u001b[39m \u001b[38;5;28;01mNone\u001b[39;00m\n\u001b[1;32m    149\u001b[0m \u001b[38;5;28;01mtry\u001b[39;00m:\n\u001b[0;32m--> 150\u001b[0m   \u001b[38;5;28;01mreturn\u001b[39;00m \u001b[43mfn\u001b[49m\u001b[43m(\u001b[49m\u001b[38;5;241;43m*\u001b[39;49m\u001b[43margs\u001b[49m\u001b[43m,\u001b[49m\u001b[43m \u001b[49m\u001b[38;5;241;43m*\u001b[39;49m\u001b[38;5;241;43m*\u001b[39;49m\u001b[43mkwargs\u001b[49m\u001b[43m)\u001b[49m\n\u001b[1;32m    151\u001b[0m \u001b[38;5;28;01mexcept\u001b[39;00m \u001b[38;5;167;01mException\u001b[39;00m \u001b[38;5;28;01mas\u001b[39;00m e:\n\u001b[1;32m    152\u001b[0m   filtered_tb \u001b[38;5;241m=\u001b[39m _process_traceback_frames(e\u001b[38;5;241m.\u001b[39m__traceback__)\n",
      "File \u001b[0;32m~/miniconda3/envs/tf-2.12.0/lib/python3.8/site-packages/tensorflow/python/ops/variables.py:289\u001b[0m, in \u001b[0;36mVariableMetaclass.__call__\u001b[0;34m(cls, *args, **kwargs)\u001b[0m\n\u001b[1;32m    287\u001b[0m   \u001b[38;5;28;01mreturn\u001b[39;00m \u001b[38;5;28mcls\u001b[39m\u001b[38;5;241m.\u001b[39m_variable_v2_call(\u001b[38;5;241m*\u001b[39margs, \u001b[38;5;241m*\u001b[39m\u001b[38;5;241m*\u001b[39mkwargs)\n\u001b[1;32m    288\u001b[0m \u001b[38;5;28;01melse\u001b[39;00m:\n\u001b[0;32m--> 289\u001b[0m   \u001b[38;5;28;01mreturn\u001b[39;00m \u001b[38;5;28;43msuper\u001b[39;49m\u001b[43m(\u001b[49m\u001b[43mVariableMetaclass\u001b[49m\u001b[43m,\u001b[49m\u001b[43m \u001b[49m\u001b[38;5;28;43mcls\u001b[39;49m\u001b[43m)\u001b[49m\u001b[38;5;241;43m.\u001b[39;49m\u001b[38;5;21;43m__call__\u001b[39;49m\u001b[43m(\u001b[49m\u001b[38;5;241;43m*\u001b[39;49m\u001b[43margs\u001b[49m\u001b[43m,\u001b[49m\u001b[43m \u001b[49m\u001b[38;5;241;43m*\u001b[39;49m\u001b[38;5;241;43m*\u001b[39;49m\u001b[43mkwargs\u001b[49m\u001b[43m)\u001b[49m\n",
      "File \u001b[0;32m~/miniconda3/envs/tf-2.12.0/lib/python3.8/site-packages/tensorflow/python/ops/resource_variable_ops.py:1768\u001b[0m, in \u001b[0;36mResourceVariable.__init__\u001b[0;34m(self, initial_value, trainable, collections, validate_shape, caching_device, name, dtype, variable_def, import_scope, constraint, distribute_strategy, synchronization, aggregation, shape, handle, experimental_enable_variable_lifting)\u001b[0m\n\u001b[1;32m   1763\u001b[0m   \u001b[38;5;28mself\u001b[39m\u001b[38;5;241m.\u001b[39m_init_from_handle(trainable\u001b[38;5;241m=\u001b[39mtrainable,\n\u001b[1;32m   1764\u001b[0m                          shape\u001b[38;5;241m=\u001b[39mshape,\n\u001b[1;32m   1765\u001b[0m                          dtype\u001b[38;5;241m=\u001b[39mdtype,\n\u001b[1;32m   1766\u001b[0m                          handle\u001b[38;5;241m=\u001b[39mhandle)\n\u001b[1;32m   1767\u001b[0m \u001b[38;5;28;01melse\u001b[39;00m:\n\u001b[0;32m-> 1768\u001b[0m   \u001b[38;5;28;43mself\u001b[39;49m\u001b[38;5;241;43m.\u001b[39;49m\u001b[43m_init_from_args\u001b[49m\u001b[43m(\u001b[49m\n\u001b[1;32m   1769\u001b[0m \u001b[43m      \u001b[49m\u001b[43minitial_value\u001b[49m\u001b[38;5;241;43m=\u001b[39;49m\u001b[43minitial_value\u001b[49m\u001b[43m,\u001b[49m\n\u001b[1;32m   1770\u001b[0m \u001b[43m      \u001b[49m\u001b[43mtrainable\u001b[49m\u001b[38;5;241;43m=\u001b[39;49m\u001b[43mtrainable\u001b[49m\u001b[43m,\u001b[49m\n\u001b[1;32m   1771\u001b[0m \u001b[43m      \u001b[49m\u001b[43mcollections\u001b[49m\u001b[38;5;241;43m=\u001b[39;49m\u001b[43mcollections\u001b[49m\u001b[43m,\u001b[49m\n\u001b[1;32m   1772\u001b[0m \u001b[43m      \u001b[49m\u001b[43mcaching_device\u001b[49m\u001b[38;5;241;43m=\u001b[39;49m\u001b[43mcaching_device\u001b[49m\u001b[43m,\u001b[49m\n\u001b[1;32m   1773\u001b[0m \u001b[43m      \u001b[49m\u001b[43mname\u001b[49m\u001b[38;5;241;43m=\u001b[39;49m\u001b[43mname\u001b[49m\u001b[43m,\u001b[49m\n\u001b[1;32m   1774\u001b[0m \u001b[43m      \u001b[49m\u001b[43mdtype\u001b[49m\u001b[38;5;241;43m=\u001b[39;49m\u001b[43mdtype\u001b[49m\u001b[43m,\u001b[49m\n\u001b[1;32m   1775\u001b[0m \u001b[43m      \u001b[49m\u001b[43mconstraint\u001b[49m\u001b[38;5;241;43m=\u001b[39;49m\u001b[43mconstraint\u001b[49m\u001b[43m,\u001b[49m\n\u001b[1;32m   1776\u001b[0m \u001b[43m      \u001b[49m\u001b[43msynchronization\u001b[49m\u001b[38;5;241;43m=\u001b[39;49m\u001b[43msynchronization\u001b[49m\u001b[43m,\u001b[49m\n\u001b[1;32m   1777\u001b[0m \u001b[43m      \u001b[49m\u001b[43maggregation\u001b[49m\u001b[38;5;241;43m=\u001b[39;49m\u001b[43maggregation\u001b[49m\u001b[43m,\u001b[49m\n\u001b[1;32m   1778\u001b[0m \u001b[43m      \u001b[49m\u001b[43mshape\u001b[49m\u001b[38;5;241;43m=\u001b[39;49m\u001b[43mshape\u001b[49m\u001b[43m,\u001b[49m\n\u001b[1;32m   1779\u001b[0m \u001b[43m      \u001b[49m\u001b[43mdistribute_strategy\u001b[49m\u001b[38;5;241;43m=\u001b[39;49m\u001b[43mdistribute_strategy\u001b[49m\u001b[43m,\u001b[49m\n\u001b[1;32m   1780\u001b[0m \u001b[43m      \u001b[49m\u001b[43mvalidate_shape\u001b[49m\u001b[38;5;241;43m=\u001b[39;49m\u001b[43mvalidate_shape\u001b[49m\u001b[43m,\u001b[49m\n\u001b[1;32m   1781\u001b[0m \u001b[43m      \u001b[49m\u001b[43mexperimental_enable_variable_lifting\u001b[49m\u001b[38;5;241;43m=\u001b[39;49m\u001b[43mexperimental_enable_variable_lifting\u001b[49m\u001b[43m,\u001b[49m\n\u001b[1;32m   1782\u001b[0m \u001b[43m      \u001b[49m\u001b[43m)\u001b[49m\n",
      "File \u001b[0;32m~/miniconda3/envs/tf-2.12.0/lib/python3.8/site-packages/tensorflow/python/ops/resource_variable_ops.py:1975\u001b[0m, in \u001b[0;36mResourceVariable._init_from_args\u001b[0;34m(self, initial_value, trainable, collections, caching_device, name, dtype, constraint, synchronization, aggregation, distribute_strategy, shape, validate_shape, experimental_enable_variable_lifting)\u001b[0m\n\u001b[1;32m   1973\u001b[0m   handle\u001b[38;5;241m.\u001b[39m_parent_trackable \u001b[38;5;241m=\u001b[39m weakref\u001b[38;5;241m.\u001b[39mref(\u001b[38;5;28mself\u001b[39m)\n\u001b[1;32m   1974\u001b[0m   handle\u001b[38;5;241m.\u001b[39m_name \u001b[38;5;241m=\u001b[39m handle_name \u001b[38;5;241m+\u001b[39m \u001b[38;5;124m\"\u001b[39m\u001b[38;5;124m:0\u001b[39m\u001b[38;5;124m\"\u001b[39m\n\u001b[0;32m-> 1975\u001b[0m   handle\u001b[38;5;241m.\u001b[39m_unique_id \u001b[38;5;241m=\u001b[39m unique_id\n\u001b[1;32m   1976\u001b[0m \u001b[38;5;66;03m# pylint: disable=protected-access\u001b[39;00m\n\u001b[1;32m   1977\u001b[0m \u001b[38;5;28;01mif\u001b[39;00m (\u001b[38;5;28mself\u001b[39m\u001b[38;5;241m.\u001b[39m_in_graph_mode \u001b[38;5;129;01mand\u001b[39;00m initial_value \u001b[38;5;129;01mis\u001b[39;00m \u001b[38;5;129;01mnot\u001b[39;00m \u001b[38;5;28;01mNone\u001b[39;00m \u001b[38;5;129;01mand\u001b[39;00m\n\u001b[1;32m   1978\u001b[0m     initial_value\u001b[38;5;241m.\u001b[39mop\u001b[38;5;241m.\u001b[39m_get_control_flow_context() \u001b[38;5;129;01mis\u001b[39;00m \u001b[38;5;129;01mnot\u001b[39;00m \u001b[38;5;28;01mNone\u001b[39;00m):\n",
      "File \u001b[0;32m~/miniconda3/envs/tf-2.12.0/lib/python3.8/contextlib.py:120\u001b[0m, in \u001b[0;36m_GeneratorContextManager.__exit__\u001b[0;34m(self, type, value, traceback)\u001b[0m\n\u001b[1;32m    118\u001b[0m \u001b[38;5;28;01mif\u001b[39;00m \u001b[38;5;28mtype\u001b[39m \u001b[38;5;129;01mis\u001b[39;00m \u001b[38;5;28;01mNone\u001b[39;00m:\n\u001b[1;32m    119\u001b[0m     \u001b[38;5;28;01mtry\u001b[39;00m:\n\u001b[0;32m--> 120\u001b[0m         \u001b[38;5;28;43mnext\u001b[39;49m\u001b[43m(\u001b[49m\u001b[38;5;28;43mself\u001b[39;49m\u001b[38;5;241;43m.\u001b[39;49m\u001b[43mgen\u001b[49m\u001b[43m)\u001b[49m\n\u001b[1;32m    121\u001b[0m     \u001b[38;5;28;01mexcept\u001b[39;00m \u001b[38;5;167;01mStopIteration\u001b[39;00m:\n\u001b[1;32m    122\u001b[0m         \u001b[38;5;28;01mreturn\u001b[39;00m \u001b[38;5;28;01mFalse\u001b[39;00m\n",
      "\u001b[0;31mKeyboardInterrupt\u001b[0m: "
     ]
    }
   ],
   "source": [
    "import tensorflow as tf\n",
    "from transformers import AutoTokenizer\n",
    "from transformers import TFGPT2LMHeadModel #tensorflow GPT2 LM\n",
    "import numpy as np\n",
    "import torch\n",
    "from tqdm import tqdm  # 진행률 표시를 위한 tqdm 라이브러리\n",
    "from scipy.stats import norm #p-value 를 위함\n",
    "\n",
    "\n",
    "mirrored_strategy = tf.distribute.MirroredStrategy()\n",
    "model = TFGPT2LMHeadModel.from_pretrained('skt/kogpt2-base-v2', from_pt=True)\n",
    "tokenizer = AutoTokenizer.from_pretrained('skt/kogpt2-base-v2')"
   ]
  },
  {
   "cell_type": "code",
   "execution_count": null,
   "metadata": {},
   "outputs": [
    {
     "name": "stdout",
     "output_type": "stream",
     "text": [
      "['아침 일과 시작하기\\n', '책 읽기의 즐거움\\n', '가족과 함께 하는 저녁 식사\\n', '친구와의 영화 관람\\n', '주말 동안의 여행 계획\\n', '정원 가꾸기의 효과\\n', '요리를 통한 스트레스 해소\\n', '자전거 타기의 장점\\n', '집안 정리 정돈 팁\\n', '개인 운동 루틴 유지하기\\n', '취미 활동의 중요성\\n', '새로운 언어 배우기\\n', '음악 연주와 그 영향\\n', '사진 촬영을 통한 추억 만들기\\n', '지역 사회 봉사의 보람\\n', '패션과 개인 스타일 표현\\n', '휴일을 활용한 가족 모임\\n', '건강한 식생활을 위한 조리법\\n', '애완동물과 보내는 시간\\n', '독서 클럽에서의 토론\\n', '도서관 방문의 장점\\n', '집에서의 필름 감상\\n', '커피 한 잔과의 여유\\n', '일기 쓰기의 치유 효과\\n', '홈 베이킹의 즐거움\\n', '직접 만든 공예품\\n', '새로운 요리법 시도하기\\n', '지역 공연 관람\\n', '자연 속에서의 하이킹\\n', '가구 리폼 프로젝트\\n', '아이와 함께하는 공원 나들이\\n', '새로운 스포츠 도전\\n', '개인 기록의 개선\\n', '집에서의 요가 세션\\n', '반려동물과의 산책\\n', '가족 앨범 만들기\\n', '매일의 명상 시간\\n', '가벼운 아침 조깅\\n', '주말 브런치 준비\\n', '일상의 소소한 행복 찾기\\n', '스마트폰 없는 하루\\n', '책상 정리의 중요성\\n', '옷장 정리하기\\n', '새벽 시간의 고요함\\n', '오후의 티타임\\n', '자기 전 명상\\n', '집안 식물 가꾸기\\n', '근처 박물관 탐방\\n', '집에서의 칵테일 파티\\n', '커뮤니티 클래스 참여\\n', '셀프 케어 루틴\\n', '장거리 걷기의 이점\\n', '텃밭 가꾸기\\n', '개인적인 스타일 개발\\n', '책 추천 공유\\n', '로컬 마켓 쇼핑\\n', '장기 게임의 즐거움\\n', '가족과의 보드게임 밤\\n', '디지털 디톡스\\n', '가까운 도시 탐험\\n', '수제 비누 만들기\\n', '로컬 아티스트 지원\\n', '실내 데코레이션 변경\\n', '뜨개질의 즐거움\\n', '핸드폰 배경화면 만들기\\n', '지속 가능한 생활 실천\\n', '주방 도구 정비\\n', '전통 축제 참여\\n', '친구와의 화상 통화\\n', '가족 사진 정리\\n', '주변 환경 정화 활동\\n', '하루의 목표 세우기\\n', '온라인 학습 코스\\n', '집에서의 필라테스\\n', '베란다 텃밭 가꾸기\\n', '평화로운 아침 산책\\n', '친구와의 장거리 여행 계획\\n', '커피숍에서의 독서\\n', '로컬 음식 시도\\n', '스마트폰 사진술\\n', '주변 사람들과의 교류\\n', '홈 오피스 최적화\\n', '스트리트 아트 감상\\n', '새로운 헤어스타일 시도\\n', '집에서의 영화 마라톤\\n', '시골 마을 여행\\n', '가족 요리 대결\\n', '집안 고장 난 물건 수리\\n', '친구와 함께하는 쇼핑\\n', '재활용 프로젝트 참여\\n', '커뮤니티 정원 가꾸기\\n', '개인 재정 관리\\n', '차량 관리와 유지\\n', '올드테크 아이템 수집\\n', '반려동물의 건강 관리\\n', '일상 속 작은 모험 찾기\\n', '스트레스 관리 방법\\n', '지역사회와의 소통 강화\\n', '가족과의 소중한 대화\\n', '개인 발전을 위한 목표 설정']\n",
      "----------\n"
     ]
    }
   ],
   "source": [
    "filename = 'prompt.txt'\n",
    "f = open(filename, 'r')\n",
    "lines = f.readlines()\n",
    "print(lines)\n",
    "print('-' * 10)"
   ]
  },
  {
   "cell_type": "code",
   "execution_count": 120,
   "metadata": {},
   "outputs": [],
   "source": [
    "def detection(final_sequence, logit_shape, gamma, initial_ids) :\n",
    "    \n",
    "    input_ids = tokenizer.encode(final_sequence, return_tensors='tf')\n",
    "    input_ids_list = input_ids.numpy().tolist()[0]\n",
    "    prev_tk = input_ids[0]\n",
    "    green_counts = 0\n",
    "    \n",
    "    seed = initial_ids[-1]\n",
    "    np.random.seed(seed)\n",
    "    indices = np.arange(logit_shape) #0~51999\n",
    "    green_list_size = int(logit_shape * gamma)  #25600\n",
    "    green_list = np.random.choice(indices, green_list_size, replace=False)\n",
    "    \n",
    "    num = 0\n",
    "    for id in input_ids_list :\n",
    "        \n",
    "        if id in green_list :\n",
    "            green_counts = green_counts + 1\n",
    "        \n",
    "        seed = id % logit_shape\n",
    "        #print(f\"seed in detection : {seed}\")\n",
    "        np.random.seed(seed)\n",
    "        \n",
    "        indices = np.arange(logit_shape) #0~51999\n",
    "        green_list_size = int(logit_shape * gamma)  #25600\n",
    "        green_list = np.random.choice(indices, green_list_size, replace=False)\n",
    "       #print(f\"detection greenList : {green_list}\")\n",
    "       \n",
    "        num += 1\n",
    "        \n",
    "\n",
    "    print(f\"green list 단어 개수 : {green_counts}\")\n",
    "    print(f\"red list 단어 개수 : {len(input_ids_list)-green_counts}\")\n",
    "    green_proportion = green_counts/len(input_ids_list) #u2\n",
    "    red_proportion = 1-green_proportion \n",
    "    print(f\"green list 단어 비율 : {green_proportion}\")\n",
    "    print(f\"red list 단어 비율 : {red_proportion}\")\n",
    "    #expected_proportion = 0.5 #green list 를 모를 것이다 -> H0 #u1\n",
    "    #std_error = np.sqrt(expected_proportion * (1 - expected_proportion) / len(input_ids))\n",
    "    #z_score = 2*(green_counts - len(input_ids_list)/2)/np.sqrt(len(input_ids_list)) #기댓값에서 많이 벗어나면 기각\n",
    "    z_score = (green_counts - len(input_ids_list)*gamma)/(np.sqrt(len(input_ids_list)*gamma*(1-gamma)))\n",
    "    #p_value = norm.sf(np.abs(z_score)) #기댓값에 못미치면 green list를 안다!\n",
    "    \n",
    "    with open('Z_score_g=0.5_d=100.0.txt', 'a') as f:  # with 문을 사용하여 파일을 열면 자동으로 닫힙니다.\n",
    "        f.write(str(z_score) + '\\n')\n",
    "            \n",
    "    print(f\"Z-score: {z_score}\")\n",
    "    if z_score > 4 :\n",
    "        return True\n",
    "    else :\n",
    "        return False\n",
    "\n",
    "#g=0.7, d=10.0 ->red list 단어 비율 : 0.580000000000000\n",
    "#sentence = \"책 읽기의 즐거움도 함께 느낄 수 있다. 이번 전시는 '책 읽는 즐거움'이라는 주제로 '책 읽는 즐거움'이라는 주제로 진행된다. 전시에는 책 읽는 즐거움이란 주제로 '책 읽는 즐거움'이라는 주제로 '책 읽는 즐거움'이라는 주제로 '책 읽는 즐거움'이라는 주제로 '책 읽는 즐거움'이라는 주제로 '책 읽는 즐거움'이라는 주제로 '책 읽는 즐거움'이라는 주제로 '책 읽는 즐거움'이라는 주제로 '책 읽는 즐거움'이라는 주제로 '책 읽는 즐거움'이라는 주제로\"\n",
    "#g=0.5, d=50.0 -> red list 단어 비율 : 0.5252525252525253\n",
    "#sentence = \"책 읽기의 즐거움도 함께 느낄 것이다.이번 전시는 '책과 세상을 잇는 길'이라는 주제 하에 작가인 김혜숙씨가 참여했다. 이번 전시는 '책과 세상을 잇는 길'이라는 주제 하에 김혜숙씨가 참여한 '책과 세상을 잇는 길'이라는 주제 하에 작가인 김혜숙씨가 참여한 '책과 세상을 잇는 길'이라는 주제 하에 진행됐고 전시는 '책과 세상을 잇는 길'이라는 주제 하에 진행됐고 전시는 '책과 세상을 잇는 길'이라는 주제 하에 진행됐고 전시는\"\n",
    "#g=0.5, d=20.0 -> red list 단어 비율 : 0.53\n",
    "#sentence = \"책 읽기의 즐거움도 함께 느낄 것이다.이번 전시는 '책과 세상을 잇는 길'이라는 주제 하에 작가인 김혜숙씨가 참여했다. 이번 전시는 '책과 세상을 잇는 길'이라는 주제 하에 김혜숙씨가 참여한 '책과 세상을 잇는 길'이라는 주제 하에 작가인 김혜숙씨가 참여한 '책과 세상을 잇는 길'이라는 주제 하에 진행됐고 전시는 '책과 세상을 잇는 길'이라는 주제 하에 진행됐고 전시는 '책과 세상을 잇는 길'이라는 주제 하에 진행됐고 전시는 \"\n",
    "#g=0.5, d=10.0 -> red list 단어 비율 : 0.5252525252525253\n",
    "#sentence = \"책 읽기의 즐거움도 함께 느낄 것이다.이번 전시는 '책과 세상을 잇는 길'이라는 주제 하에 작가인 김혜숙씨가 참여했다. 이번 전시는 '책과 세상을 잇는 길'이라는 주제 하에 김혜숙씨가 참여한 '책과 세상을 잇는 길'이라는 주제 하에 작가인 김혜숙씨가 참여한 '책과 세상을 잇는 길'이라는 주제 하에 진행됐고 전시는 '책과 세상을 잇는 길'이라는 주제 하에 진행됐고 전시는 '책과 세상을 잇는 길'이라는 주제 하에 진행됐고 전시는\"\n",
    "#g=0.5, d=5.0 -> red list 단어 비율 : 0.505050505050505\n",
    "#sentence = \"책 읽기의 즐거움도 함께 느낄 수 있다. 이번 전시는 '책과 나눔'이라는 주제 하에 지난달 27일 개막한 '책과 나눔'전을 통해 처음 선보였으며, 오는 9월까지 계속된다. 특히, 전시 기간 동안 '책과 나눔'전을 통해서는 '책과 나눔'전을 통해서는 '책과 나눔'전을 통해서는 '책과 나눔'전을 통해서는 '책과 나눔'전을 통해서는 '책과 나눔'전을 통해서는 '책과 나눔'전을 통해\"\n",
    "#g=0.5, d=1.0 -> red list 단어 비율 : 0.6\n",
    "#sentence = \"책 읽기의 즐거움도 함께 느낄 수 있다.이번 전시는 ‘책 읽는 즐거움’을 주제로 한 ‘책 읽는 즐거움’ 전시를 비롯해 ‘책 읽는 즐거움’ 전시, ‘책 읽는 즐거움’ 전시, ‘책 읽는 즐거움’ 전시, ‘책 읽는 즐거움’ 전시, ‘책 읽는 즐거움’ 전시, ‘책 읽는 즐거움’ 전시, ‘책 읽는 즐거움’ 전시, ‘책 읽는 즐거움’ 전시, ‘책 읽는 즐거움\"\n",
    "#g=1.0, d=0.0 -> red list 단어 비율 : 0.5700000000000001\n",
    "#sentence = \"책 읽기의 즐거움도 함께 느낄 수 있다. 이번 전시는 '책 읽는 즐거움'이라는 주제로 '책 읽는 즐거움'이라는 주제로 진행된다. 전시에서는 '책 읽는 즐거움'이라는 주제로 '책 읽는 즐거움'이라는 주제로 '책 읽는 즐거움'이라는 주제로 '책 읽는 즐거움'이라는 주제로 '책 읽는 즐거움'이라는 주제로 '책 읽는 즐거움'이라는 주제로 '책 읽는 즐거움'이라는 주제로 '책 읽는 즐거움'이라는 주제로 '책 읽는 즐거움'이라는 주제로 '책 읽는 즐거움'이라는\"\n",
    "\n",
    "#g=0.5\n",
    "#sentence = \"아침 일과 시작하기 전에 미리 준비해두면 좋겠습니다. 오늘은 전국이 대체로 맑겠습니다. 하지만 제주도는 구름이 많이 끼겠고요. 강원 영동 지역은 밤 한때 비가 조금 내리겠습니다. 내일 아침 기온 오늘과 비슷하겠습니다. 서울이 4도, 대구 6도로 출발하겠습니다. 낮 기온은 서울이 13도, 대구와 광주 16도로 오늘과 비슷하겠습니다. 바다의 물결은 동해 먼바다에서 최고 2.5미터까지 높게 일겠습니다. 내일 아침 기온 오늘과 비슷하겠습니다.\"\n",
    "\n",
    "#사람\n",
    "#sentence = \"안정된 순방향 전파: 만약 우리가 오프셋 δ를 0으로 초기화하고 스케일 γ를 1로 초기화한다면, 각 출력 활성화는 단위 분산을 갖게 됩니다. 일반적인 네트워크에서는 이는 초기화 과정에서 순방향 전파 중에 분산이 안정적으로 유지됨을 보장합니다. 하지만 잔차 네트워크에서는 분산은 여전히 새로운 변동 요소가 각 레이어에서 입력에 추가되면서 증가해야 합니다. 그러나 잔차 블록마다 분산은 선형적으로 증가할 것입니다. k번째 레이어는 k의 기존\"\n",
    "\n",
    "#사람\n",
    "#sentence = \"이건 사람이 작성한 글입니다. 절대 절대 p-value 가 낮게 나와서도 안되고 z-score가 0 근처여서도 안됩니다. 제발 좀 잘 나와보자 제발제발 할말이 없네 이게 다야\"\n",
    "#detection(sentence, 25600, 0.5)"
   ]
  },
  {
   "cell_type": "code",
   "execution_count": 118,
   "metadata": {},
   "outputs": [],
   "source": [
    "# Set the repetition penalty\n",
    "penalty_coefficient = 1.2\n",
    "\n",
    "# Function to apply dynamic repetition penalty to logits\n",
    "def apply_repetition_penalty(logits, token_counts, penalty_coefficient):\n",
    "    penalty_factors = np.ones(logits.shape[-1])\n",
    "\n",
    "    for token_id, count in enumerate(token_counts):\n",
    "        if count > 0:\n",
    "            penalty_factors[token_id] = penalty_coefficient ** count\n",
    "\n",
    "    # Apply the calculated penalties to logits\n",
    "    return logits / penalty_factors"
   ]
  },
  {
   "cell_type": "code",
   "execution_count": 115,
   "metadata": {},
   "outputs": [],
   "source": [
    "# def lsoftmax(x):\n",
    "#     z = x-max(x)\n",
    "#     return (z - np.log(np.sum(np.exp(z),keepdims=True)))"
   ]
  },
  {
   "cell_type": "code",
   "execution_count": 134,
   "metadata": {},
   "outputs": [
    {
     "name": "stdout",
     "output_type": "stream",
     "text": [
      "prompt2 : 아침 일과 시작하기\n"
     ]
    },
    {
     "name": "stderr",
     "output_type": "stream",
     "text": [
      " 92%|█████████▏| 46/50 [00:07<00:00,  6.50it/s]\n"
     ]
    },
    {
     "name": "stdout",
     "output_type": "stream",
     "text": [
      "아침 일과 시작하기 전이 되면 잠잘 곳을 찾아야 한다”고도 경고한다.\n",
      "잠자리는 하루 7~8시간 정도 길게 뻗었다\n",
      "폈다를 반복하므로 적당한 간격을 유지하며 자는 습관을 기르는 지혜가 요구된다.\n",
      "취침을 전후로 눕거나 엎드려 자는 습관도 좋지않아지\n",
      "Perplexity:  7.3643174\n",
      "아침 일과 시작하기 전이 되면 잠잘 곳을 찾아야 한다”고도 경고한다.\n",
      "잠자리는 하루 7~8시간 정도 길게 뻗었다\n",
      "폈다를 반복하므로 적당한 간격을 유지하며 자는 습관을 기르는 지혜가 요구된다.\n",
      "취침을 전후로 눕거나 엎드려 자는 습관도 좋지않아지\n",
      "green list 단어 개수 : 48\n",
      "red list 단어 개수 : 2\n",
      "green list 단어 비율 : 0.96\n",
      "red list 단어 비율 : 0.040000000000000036\n",
      "Z-score: 6.505382386916237\n",
      "is this sentence written by machine? True\n",
      "Perplexity:  7.3643174\n",
      "prompt2 : 책 읽기의 즐거움\n"
     ]
    },
    {
     "name": "stderr",
     "output_type": "stream",
     "text": [
      " 90%|█████████ | 45/50 [00:06<00:00,  6.53it/s]\n"
     ]
    },
    {
     "name": "stdout",
     "output_type": "stream",
     "text": [
      "책 읽기의 즐거움 이외에 새로운 차원의 깨달음의 기쁨을 발견할 때가 많다.\n",
      "좋은 글은 나쁜 글, 나쁜 글, 악한 글이 구별되게 마련이다.\n",
      "좋은 글의 핵심은 바른 글이다.\n",
      "바른 글에 쓰인 문장은 바른 문장 안에서 이루어진다.\n",
      "바른 문장이 옳음을 증명하는 근거는 첫째, 문장의 짜임새 둘째, 문장 안의\n",
      "Perplexity:  11.545321\n",
      "책 읽기의 즐거움 이외에 새로운 차원의 깨달음의 기쁨을 발견할 때가 많다.\n",
      "좋은 글은 나쁜 글, 나쁜 글, 악한 글이 구별되게 마련이다.\n",
      "좋은 글의 핵심은 바른 글이다.\n",
      "바른 글에 쓰인 문장은 바른 문장 안에서 이루어진다.\n",
      "바른 문장이 옳음을 증명하는 근거는 첫째, 문장의 짜임새 둘째, 문장 안의\n",
      "green list 단어 개수 : 43\n",
      "red list 단어 개수 : 7\n",
      "green list 단어 비율 : 0.86\n",
      "red list 단어 비율 : 0.14\n",
      "Z-score: 5.091168824543142\n",
      "is this sentence written by machine? True\n",
      "Perplexity:  11.545321\n",
      "prompt2 : 가족과 함께 하는 저녁 식사\n"
     ]
    },
    {
     "name": "stderr",
     "output_type": "stream",
     "text": [
      " 90%|█████████ | 45/50 [00:06<00:00,  6.50it/s]\n"
     ]
    },
    {
     "name": "stdout",
     "output_type": "stream",
     "text": [
      "가족과 함께 하는 저녁 식사 대접 등으로 구성된 생일잔치와 크리스마스 트리 장식 장식을 포함해 산타 복장으로 꾸며졌다. 라틴 댄스파티는 이탈리아 북부 밀라노 교외 지역에 거주하는 산타 복장에 속하는 소규모 사교 클럽 형태였으며, 크리스마스 트리 장식은 이탈리아 전역에서 활동하는 라틴 댄\n",
      "Perplexity:  9.429741\n",
      "가족과 함께 하는 저녁 식사 대접 등으로 구성된 생일잔치와 크리스마스 트리 장식 장식을 포함해 산타 복장으로 꾸며졌다. 라틴 댄스파티는 이탈리아 북부 밀라노 교외 지역에 거주하는 산타 복장에 속하는 소규모 사교 클럽 형태였으며, 크리스마스 트리 장식은 이탈리아 전역에서 활동하는 라틴 댄\n",
      "green list 단어 개수 : 46\n",
      "red list 단어 개수 : 4\n",
      "green list 단어 비율 : 0.92\n",
      "red list 단어 비율 : 0.07999999999999996\n",
      "Z-score: 5.939696961966999\n",
      "is this sentence written by machine? True\n",
      "Perplexity:  9.429741\n",
      "prompt2 : 친구와의 영화 관람\n"
     ]
    },
    {
     "name": "stderr",
     "output_type": "stream",
     "text": [
      " 92%|█████████▏| 46/50 [00:06<00:00,  6.61it/s]\n"
     ]
    },
    {
     "name": "stdout",
     "output_type": "stream",
     "text": [
      "친구와의 영화 관람 약속을 지키기 싫어서, 그리고 엄마한테 버림받게 되어서 아이를 낳았다는 핑계로 아이를 입양시키려 하나, 엄마의 끈질겼던 설득 노력에 의해서 결국에는 입양 절차를 밟았고, 그곳에서 자라났음에도 불구하고, 아빠와는 완전히 단절되었던 모양이다.\n",
      "애초에\n",
      "Perplexity:  10.599473\n",
      "친구와의 영화 관람 약속을 지키기 싫어서, 그리고 엄마한테 버림받게 되어서 아이를 낳았다는 핑계로 아이를 입양시키려 하나, 엄마의 끈질겼던 설득 노력에 의해서 결국에는 입양 절차를 밟았고, 그곳에서 자라났음에도 불구하고, 아빠와는 완전히 단절되었던 모양이다.\n",
      "애초에\n",
      "green list 단어 개수 : 43\n",
      "red list 단어 개수 : 8\n",
      "green list 단어 비율 : 0.8431372549019608\n",
      "red list 단어 비율 : 0.1568627450980392\n",
      "Z-score: 4.900980294098034\n",
      "is this sentence written by machine? True\n",
      "Perplexity:  10.599473\n",
      "prompt2 : 주말 동안의 여행 계획\n"
     ]
    },
    {
     "name": "stderr",
     "output_type": "stream",
     "text": [
      " 90%|█████████ | 45/50 [00:06<00:00,  6.58it/s]\n"
     ]
    },
    {
     "name": "stdout",
     "output_type": "stream",
     "text": [
      "주말 동안의 여행 계획표와 지역별 일정을 짤 때, 비행기편을 확정지을 때나 비행시간과 체류일정표, 목적지까지 동행 취재진을 대동해도 상관없다는 결론을 내린다.\n",
      "항공편과 숙박비는 본인이 부담하더라도 항공권과 호텔 숙박비의 합산은 본인의 몫이니 알아서\n",
      "Perplexity:  9.578098\n",
      "주말 동안의 여행 계획표와 지역별 일정을 짤 때, 비행기편을 확정지을 때나 비행시간과 체류일정표, 목적지까지 동행 취재진을 대동해도 상관없다는 결론을 내린다.\n",
      "항공편과 숙박비는 본인이 부담하더라도 항공권과 호텔 숙박비의 합산은 본인의 몫이니 알아서\n",
      "green list 단어 개수 : 46\n",
      "red list 단어 개수 : 4\n",
      "green list 단어 비율 : 0.92\n",
      "red list 단어 비율 : 0.07999999999999996\n",
      "Z-score: 5.939696961966999\n",
      "is this sentence written by machine? True\n",
      "Perplexity:  9.578098\n",
      "prompt2 : 정원 가꾸기의 효과\n"
     ]
    },
    {
     "name": "stderr",
     "output_type": "stream",
     "text": [
      " 92%|█████████▏| 46/50 [00:07<00:00,  6.51it/s]\n"
     ]
    },
    {
     "name": "stdout",
     "output_type": "stream",
     "text": [
      "정원 가꾸기의 효과적 관리를 도모하고자 마련되었다.\n",
      "대구한의대학교는 대구한의대학교의료원과 한방병원, 한방요양병원·노인복지관·노인복지시설·산악산·휴양·치유센터를 통합하여 보건·의료와 한의학에 융·복합을 더한 한의학교육 특성화대학을 설립하였다.\n",
      "\n",
      "Perplexity:  6.771421\n",
      "정원 가꾸기의 효과적 관리를 도모하고자 마련되었다.\n",
      "대구한의대학교는 대구한의대학교의료원과 한방병원, 한방요양병원·노인복지관·노인복지시설·산악산·휴양·치유센터를 통합하여 보건·의료와 한의학에 융·복합을 더한 한의학교육 특성화대학을 설립하였다.\n",
      "\n",
      "green list 단어 개수 : 47\n",
      "red list 단어 개수 : 3\n",
      "green list 단어 비율 : 0.94\n",
      "red list 단어 비율 : 0.06000000000000005\n",
      "Z-score: 6.222539674441618\n",
      "is this sentence written by machine? True\n",
      "Perplexity:  6.771421\n",
      "prompt2 : 요리를 통한 스트레스 해소\n"
     ]
    },
    {
     "name": "stderr",
     "output_type": "stream",
     "text": [
      " 90%|█████████ | 45/50 [00:06<00:00,  6.52it/s]\n"
     ]
    },
    {
     "name": "stdout",
     "output_type": "stream",
     "text": [
      "요리를 통한 스트레스 해소방법으로 우유 섭취량은 줄여주고, 단백질을 보충해주고 칼륨 함유 비율을 높여주어 다이어트가 한결 수월해졌다.\n",
      "단백질은 뼈와 뼈 형성에 필수적인 미네랄소로 칼슘흡수는 근육의 수축작용 즉, 뼈를 튼튼하게 만드는 효능과도 직결되기 때문에, 단백질이 풍부한\n",
      "Perplexity:  7.4790335\n",
      "요리를 통한 스트레스 해소방법으로 우유 섭취량은 줄여주고, 단백질을 보충해주고 칼륨 함유 비율을 높여주어 다이어트가 한결 수월해졌다.\n",
      "단백질은 뼈와 뼈 형성에 필수적인 미네랄소로 칼슘흡수는 근육의 수축작용 즉, 뼈를 튼튼하게 만드는 효능과도 직결되기 때문에, 단백질이 풍부한\n",
      "green list 단어 개수 : 46\n",
      "red list 단어 개수 : 4\n",
      "green list 단어 비율 : 0.92\n",
      "red list 단어 비율 : 0.07999999999999996\n",
      "Z-score: 5.939696961966999\n",
      "is this sentence written by machine? True\n",
      "Perplexity:  7.4790335\n",
      "prompt2 : 자전거 타기의 장점\n"
     ]
    },
    {
     "name": "stderr",
     "output_type": "stream",
     "text": [
      " 92%|█████████▏| 46/50 [00:07<00:00,  6.49it/s]\n"
     ]
    },
    {
     "name": "stdout",
     "output_type": "stream",
     "text": [
      "자전거 타기의 장점이라면, 무엇보다 주변에 산이 많아 탁 트인 곳에서 삼림욕을 즐기기에 좋고, 계곡 주변의 울창한 숲이 우거진 곳에 서면 멀리서도 산바람 소리가 들릴 만큼 맑은 공기와 물이 흐르는 천혜의 환경이 특징이다.\n",
      "웅덩이(천연기념물 제326호) 일대는 천연기념물 제432\n",
      "Perplexity:  7.9637985\n",
      "자전거 타기의 장점이라면, 무엇보다 주변에 산이 많아 탁 트인 곳에서 삼림욕을 즐기기에 좋고, 계곡 주변의 울창한 숲이 우거진 곳에 서면 멀리서도 산바람 소리가 들릴 만큼 맑은 공기와 물이 흐르는 천혜의 환경이 특징이다.\n",
      "웅덩이(천연기념물 제326호) 일대는 천연기념물 제432\n",
      "green list 단어 개수 : 48\n",
      "red list 단어 개수 : 2\n",
      "green list 단어 비율 : 0.96\n",
      "red list 단어 비율 : 0.040000000000000036\n",
      "Z-score: 6.505382386916237\n",
      "is this sentence written by machine? True\n",
      "Perplexity:  7.9637985\n",
      "prompt2 : 집안 정리 정돈 팁\n"
     ]
    },
    {
     "name": "stderr",
     "output_type": "stream",
     "text": [
      " 90%|█████████ | 45/50 [00:06<00:00,  6.55it/s]\n"
     ]
    },
    {
     "name": "stdout",
     "output_type": "stream",
     "text": [
      "집안 정리 정돈 팁 잊지 말아야겠어.\n",
      "살짝 닦아내면 금새 깨끗해져서 깨끗하게 닦이는데, 그러면 씻겨나가는 동안에 곰팡이가 생길 염려가 없습니다.\n",
      "꼭 소독제를 뿌려줘야, 곰팡이는 깨끗이 제거할 것이고 세균 번식 억제효과와 탈취효과에 아주\n",
      "Perplexity:  7.5647154\n",
      "집안 정리 정돈 팁 잊지 말아야겠어.\n",
      "살짝 닦아내면 금새 깨끗해져서 깨끗하게 닦이는데, 그러면 씻겨나가는 동안에 곰팡이가 생길 염려가 없습니다.\n",
      "꼭 소독제를 뿌려줘야, 곰팡이는 깨끗이 제거할 것이고 세균 번식 억제효과와 탈취효과에 아주\n",
      "green list 단어 개수 : 48\n",
      "red list 단어 개수 : 2\n",
      "green list 단어 비율 : 0.96\n",
      "red list 단어 비율 : 0.040000000000000036\n",
      "Z-score: 6.505382386916237\n",
      "is this sentence written by machine? True\n",
      "Perplexity:  7.5647154\n",
      "prompt2 : 개인 운동 루틴 유지하기\n"
     ]
    },
    {
     "name": "stderr",
     "output_type": "stream",
     "text": [
      " 90%|█████████ | 45/50 [00:06<00:00,  6.50it/s]\n"
     ]
    },
    {
     "name": "stdout",
     "output_type": "stream",
     "text": [
      "개인 운동 루틴 유지하기 힘듦(deep breakout humanity)이란 개념을 제시했다.\n",
      "즉 운동의 목적은 개인의 신체적정신적신체적정신적,정서적,경제적문화적사회적문화적역사적신체적물리적정신적 정신적 육체적육체적 정신적 육체적육체적 정신적으로 신체적정신적\n",
      "Perplexity:  8.199239\n",
      "개인 운동 루틴 유지하기 힘듦(deep breakout humanity)이란 개념을 제시했다.\n",
      "즉 운동의 목적은 개인의 신체적정신적신체적정신적,정서적,경제적문화적사회적문화적역사적신체적물리적정신적 정신적 육체적육체적 정신적 육체적육체적 정신적으로 신체적정신적\n",
      "green list 단어 개수 : 44\n",
      "red list 단어 개수 : 6\n",
      "green list 단어 비율 : 0.88\n",
      "red list 단어 비율 : 0.12\n",
      "Z-score: 5.374011537017761\n",
      "is this sentence written by machine? True\n",
      "Perplexity:  8.199239\n",
      "prompt2 : 취미 활동의 중요성\n"
     ]
    },
    {
     "name": "stderr",
     "output_type": "stream",
     "text": [
      " 94%|█████████▍| 47/50 [00:07<00:00,  6.54it/s]\n"
     ]
    },
    {
     "name": "stdout",
     "output_type": "stream",
     "text": [
      "취미 활동의 중요성 인식 제고 필요성에 공감을 표시하고 구체적인 실천을 독려하기 위함이었다고 시는 소개했다.\n",
      "수원시는 수원시에서 시행하는 각종 평생교육 프로그램의 원활한 운영에 기여한 공을 인정받아 보건복지부장관 표창패를 받았으며 행정자치부장관 표창패는 화성시가 수상한 안양시니어·안양의 소리합창단이 받았으며,\n",
      "Perplexity:  8.454842\n",
      "취미 활동의 중요성 인식 제고 필요성에 공감을 표시하고 구체적인 실천을 독려하기 위함이었다고 시는 소개했다.\n",
      "수원시는 수원시에서 시행하는 각종 평생교육 프로그램의 원활한 운영에 기여한 공을 인정받아 보건복지부장관 표창패를 받았으며 행정자치부장관 표창패는 화성시가 수상한 안양시니어·안양의 소리합창단이 받았으며,\n",
      "green list 단어 개수 : 46\n",
      "red list 단어 개수 : 4\n",
      "green list 단어 비율 : 0.92\n",
      "red list 단어 비율 : 0.07999999999999996\n",
      "Z-score: 5.939696961966999\n",
      "is this sentence written by machine? True\n",
      "Perplexity:  8.454842\n",
      "prompt2 : 새로운 언어 배우기\n"
     ]
    },
    {
     "name": "stderr",
     "output_type": "stream",
     "text": [
      " 94%|█████████▍| 47/50 [00:07<00:00,  6.50it/s]\n"
     ]
    },
    {
     "name": "stdout",
     "output_type": "stream",
     "text": [
      "새로운 언어 배우기'가 주된 내용이다.\n",
      "한글 창제 원리와 한글의 음운 구조, 한글 자음 표기 체계, 훈민정음으로 대표되는 훈민정음 창제 원리가 한자어로 표현된 한글 문자의 변천 과정을 살펴볼 기회이기도 하지만, 국어학자들에게는 우리말의 기원과 유래를 설명하기 어려웠던 조선어학회 창립 초기의 혼란스러웠던 우리말\n",
      "Perplexity:  11.019351\n",
      "새로운 언어 배우기'가 주된 내용이다.\n",
      "한글 창제 원리와 한글의 음운 구조, 한글 자음 표기 체계, 훈민정음으로 대표되는 훈민정음 창제 원리가 한자어로 표현된 한글 문자의 변천 과정을 살펴볼 기회이기도 하지만, 국어학자들에게는 우리말의 기원과 유래를 설명하기 어려웠던 조선어학회 창립 초기의 혼란스러웠던 우리말\n",
      "green list 단어 개수 : 47\n",
      "red list 단어 개수 : 3\n",
      "green list 단어 비율 : 0.94\n",
      "red list 단어 비율 : 0.06000000000000005\n",
      "Z-score: 6.222539674441618\n",
      "is this sentence written by machine? True\n",
      "Perplexity:  11.019351\n",
      "prompt2 : 음악 연주와 그 영향\n"
     ]
    },
    {
     "name": "stderr",
     "output_type": "stream",
     "text": [
      " 90%|█████████ | 45/50 [00:06<00:00,  6.51it/s]\n"
     ]
    },
    {
     "name": "stdout",
     "output_type": "stream",
     "text": [
      "음악 연주와 그 영향력에 매료되었던 베토벤 피아노 협주곡 5번 ‘비창 소나타 1번’과 브람스의 교향곡 3번 ‘비창 소나타 2번’은 낭만주의적 색채가 짙은 곡이다.\n",
      "바흐 현악 4중주단의 지휘봉을 잡았다.\n",
      "슈베르트는 모차르트 교향곡의 창시자이다.\n",
      "피아노의\n",
      "Perplexity:  5.67261\n",
      "음악 연주와 그 영향력에 매료되었던 베토벤 피아노 협주곡 5번 ‘비창 소나타 1번’과 브람스의 교향곡 3번 ‘비창 소나타 2번’은 낭만주의적 색채가 짙은 곡이다.\n",
      "바흐 현악 4중주단의 지휘봉을 잡았다.\n",
      "슈베르트는 모차르트 교향곡의 창시자이다.\n",
      "피아노의\n",
      "green list 단어 개수 : 44\n",
      "red list 단어 개수 : 6\n",
      "green list 단어 비율 : 0.88\n",
      "red list 단어 비율 : 0.12\n",
      "Z-score: 5.374011537017761\n",
      "is this sentence written by machine? True\n",
      "Perplexity:  5.67261\n",
      "prompt2 : 사진 촬영을 통한 추억 만들기\n"
     ]
    },
    {
     "name": "stderr",
     "output_type": "stream",
     "text": [
      " 88%|████████▊ | 44/50 [00:06<00:00,  6.53it/s]\n"
     ]
    },
    {
     "name": "stdout",
     "output_type": "stream",
     "text": [
      "사진 촬영을 통한 추억 만들기 프로그램이 잇따라 열리고 있습니다.\n",
      "제주 서귀포에서 KBS 제주방송총국이 주최·주관으로 마련한 제5회 제주도민의 날에 즈음해서 열린 '도민이 여는 세상' 세미나에서는, 제주도의 미래 청사진에 관해 논의해보았는데요,\n",
      "좌절과 갈등을 극복하고 화해\n",
      "Perplexity:  9.0640135\n",
      "사진 촬영을 통한 추억 만들기 프로그램이 잇따라 열리고 있습니다.\n",
      "제주 서귀포에서 KBS 제주방송총국이 주최·주관으로 마련한 제5회 제주도민의 날에 즈음해서 열린 '도민이 여는 세상' 세미나에서는, 제주도의 미래 청사진에 관해 논의해보았는데요,\n",
      "좌절과 갈등을 극복하고 화해\n",
      "green list 단어 개수 : 45\n",
      "red list 단어 개수 : 5\n",
      "green list 단어 비율 : 0.9\n",
      "red list 단어 비율 : 0.09999999999999998\n",
      "Z-score: 5.65685424949238\n",
      "is this sentence written by machine? True\n",
      "Perplexity:  9.0640135\n",
      "prompt2 : 지역 사회 봉사의 보람\n"
     ]
    },
    {
     "name": "stderr",
     "output_type": "stream",
     "text": [
      " 90%|█████████ | 45/50 [00:06<00:00,  6.51it/s]\n"
     ]
    },
    {
     "name": "stdout",
     "output_type": "stream",
     "text": [
      "지역 사회 봉사의 보람찬 역사가 이어질 것이라고 믿는다' '고령 사회에 살고 계신분들에겐 노후생활이 안정적이고 활기차게 살아갈 힘이 솟으리라 믿는다'라는 내용의 성명을 발표하려다 무산되기도 했는가 하면, 일부 언론 매체 등에서도 은퇴선언문과 성명발표 계획을\n",
      "Perplexity:  8.534245\n",
      "지역 사회 봉사의 보람찬 역사가 이어질 것이라고 믿는다' '고령 사회에 살고 계신분들에겐 노후생활이 안정적이고 활기차게 살아갈 힘이 솟으리라 믿는다'라는 내용의 성명을 발표하려다 무산되기도 했는가 하면, 일부 언론 매체 등에서도 은퇴선언문과 성명발표 계획을\n",
      "green list 단어 개수 : 44\n",
      "red list 단어 개수 : 6\n",
      "green list 단어 비율 : 0.88\n",
      "red list 단어 비율 : 0.12\n",
      "Z-score: 5.374011537017761\n",
      "is this sentence written by machine? True\n",
      "Perplexity:  8.534245\n",
      "prompt2 : 패션과 개인 스타일 표현\n"
     ]
    },
    {
     "name": "stderr",
     "output_type": "stream",
     "text": [
      " 90%|█████████ | 45/50 [00:06<00:00,  6.53it/s]\n"
     ]
    },
    {
     "name": "stdout",
     "output_type": "stream",
     "text": [
      "패션과 개인 스타일 표현 모두에 유용하도록 고안해낸 패션 센서리 브랜드 '비너스'와 협업을 완성했다.\n",
      "패턴은 화려함과 세련미를 강조한 디자인에 현대적인 감각을 가미시킨 디자인을 선보였다.\n",
      "캐릭터, 레터링 패턴 모두 유니섹스 캐쥬얼 느낌이 물씬 난다.\n",
      "\n",
      "Perplexity:  9.05603\n",
      "패션과 개인 스타일 표현 모두에 유용하도록 고안해낸 패션 센서리 브랜드 '비너스'와 협업을 완성했다.\n",
      "패턴은 화려함과 세련미를 강조한 디자인에 현대적인 감각을 가미시킨 디자인을 선보였다.\n",
      "캐릭터, 레터링 패턴 모두 유니섹스 캐쥬얼 느낌이 물씬 난다.\n",
      "\n",
      "green list 단어 개수 : 45\n",
      "red list 단어 개수 : 5\n",
      "green list 단어 비율 : 0.9\n",
      "red list 단어 비율 : 0.09999999999999998\n",
      "Z-score: 5.65685424949238\n",
      "is this sentence written by machine? True\n",
      "Perplexity:  9.05603\n",
      "prompt2 : 휴일을 활용한 가족 모임\n"
     ]
    },
    {
     "name": "stderr",
     "output_type": "stream",
     "text": [
      " 90%|█████████ | 45/50 [00:06<00:00,  6.55it/s]\n"
     ]
    },
    {
     "name": "stdout",
     "output_type": "stream",
     "text": [
      "휴일을 활용한 가족 모임·행사에 참여토록 유도한다는 계획에 따른 것이다.\n",
      "구는 구청 대회의실에서 각 부서 과장급을 위원으로 추대했으며, 위원회 심의를 거쳐 확정된 세부추진계획에 동의안을 상정·의결한 뒤 구의회에 제출할 예정으로 빠르르면 7월부터 실시될 예정이다.\n",
      "구의원들은\n",
      "Perplexity:  7.4069414\n",
      "휴일을 활용한 가족 모임·행사에 참여토록 유도한다는 계획에 따른 것이다.\n",
      "구는 구청 대회의실에서 각 부서 과장급을 위원으로 추대했으며, 위원회 심의를 거쳐 확정된 세부추진계획에 동의안을 상정·의결한 뒤 구의회에 제출할 예정으로 빠르르면 7월부터 실시될 예정이다.\n",
      "구의원들은\n",
      "green list 단어 개수 : 42\n",
      "red list 단어 개수 : 8\n",
      "green list 단어 비율 : 0.84\n",
      "red list 단어 비율 : 0.16000000000000003\n",
      "Z-score: 4.808326112068523\n",
      "is this sentence written by machine? True\n",
      "Perplexity:  7.4069414\n",
      "prompt2 : 건강한 식생활을 위한 조리법\n"
     ]
    },
    {
     "name": "stderr",
     "output_type": "stream",
     "text": [
      " 88%|████████▊ | 44/50 [00:06<00:00,  6.53it/s]\n"
     ]
    },
    {
     "name": "stdout",
     "output_type": "stream",
     "text": [
      "건강한 식생활을 위한 조리법 개발 보급에 힘쓰기로 약속했다.\n",
      "영양학자들은 식생활 변화와 건강에 해로운 나트륨 섭취를 줄이려면 나트륨 섭취가 줄어든 채소 위주의 식단을 짜는 게 좋다고 조언해왔지만, 현실적으로 마땅찮았기 때문으로 보인다.\n",
      "나트륨 과다섭취는 고혈압·당뇨병을\n",
      "Perplexity:  5.752976\n",
      "건강한 식생활을 위한 조리법 개발 보급에 힘쓰기로 약속했다.\n",
      "영양학자들은 식생활 변화와 건강에 해로운 나트륨 섭취를 줄이려면 나트륨 섭취가 줄어든 채소 위주의 식단을 짜는 게 좋다고 조언해왔지만, 현실적으로 마땅찮았기 때문으로 보인다.\n",
      "나트륨 과다섭취는 고혈압·당뇨병을\n",
      "green list 단어 개수 : 44\n",
      "red list 단어 개수 : 6\n",
      "green list 단어 비율 : 0.88\n",
      "red list 단어 비율 : 0.12\n",
      "Z-score: 5.374011537017761\n",
      "is this sentence written by machine? True\n",
      "Perplexity:  5.752976\n",
      "prompt2 : 애완동물과 보내는 시간\n"
     ]
    },
    {
     "name": "stderr",
     "output_type": "stream",
     "text": [
      " 92%|█████████▏| 46/50 [00:06<00:00,  6.58it/s]\n"
     ]
    },
    {
     "name": "stdout",
     "output_type": "stream",
     "text": [
      "애완동물과 보내는 시간보다 빨리 떠나는 경우가 많아서 그런것 같다.\n",
      "사실 이쪽은 기본적으로 자기가 싫어하는 동물의 종류를 선택할 권리가 없지만 그렇다고 동물이 좋아하지도 않는다는 이유로 동물을 죽였을 경우에 보상이 주어지는 경우도 있으니 주의하자!\n",
      "펫팸족은 원래 초식동물이 아니다.\n",
      "동물 애호가를\n",
      "Perplexity:  18.492281\n",
      "애완동물과 보내는 시간보다 빨리 떠나는 경우가 많아서 그런것 같다.\n",
      "사실 이쪽은 기본적으로 자기가 싫어하는 동물의 종류를 선택할 권리가 없지만 그렇다고 동물이 좋아하지도 않는다는 이유로 동물을 죽였을 경우에 보상이 주어지는 경우도 있으니 주의하자!\n",
      "펫팸족은 원래 초식동물이 아니다.\n",
      "동물 애호가를\n",
      "green list 단어 개수 : 46\n",
      "red list 단어 개수 : 4\n",
      "green list 단어 비율 : 0.92\n",
      "red list 단어 비율 : 0.07999999999999996\n",
      "Z-score: 5.939696961966999\n",
      "is this sentence written by machine? True\n",
      "Perplexity:  18.492281\n",
      "prompt2 : 독서 클럽에서의 토론\n"
     ]
    },
    {
     "name": "stderr",
     "output_type": "stream",
     "text": [
      " 92%|█████████▏| 46/50 [00:07<00:00,  6.54it/s]\n"
     ]
    },
    {
     "name": "stdout",
     "output_type": "stream",
     "text": [
      "독서 클럽에서의 토론회를 개최, 학생들의 동아리 활동 역량을 키워주고 동아리 선배·후배·동아리 활동을 장려함으로써 선후배가 협동심과 유대감을 형성해 나가는 장이 됐으면 좋겟다\"라는 의견을 내놓았다.\n",
      "선문대는 동아리가 중심이 돼 창의적인 아이디어를 도출·적용, 대학의 위상을\n",
      "Perplexity:  7.031091\n",
      "독서 클럽에서의 토론회를 개최, 학생들의 동아리 활동 역량을 키워주고 동아리 선배·후배·동아리 활동을 장려함으로써 선후배가 협동심과 유대감을 형성해 나가는 장이 됐으면 좋겟다\"라는 의견을 내놓았다.\n",
      "선문대는 동아리가 중심이 돼 창의적인 아이디어를 도출·적용, 대학의 위상을\n",
      "green list 단어 개수 : 47\n",
      "red list 단어 개수 : 3\n",
      "green list 단어 비율 : 0.94\n",
      "red list 단어 비율 : 0.06000000000000005\n",
      "Z-score: 6.222539674441618\n",
      "is this sentence written by machine? True\n",
      "Perplexity:  7.031091\n",
      "prompt2 : 도서관 방문의 장점\n"
     ]
    },
    {
     "name": "stderr",
     "output_type": "stream",
     "text": [
      " 92%|█████████▏| 46/50 [00:07<00:00,  6.55it/s]\n"
     ]
    },
    {
     "name": "stdout",
     "output_type": "stream",
     "text": [
      "도서관 방문의 장점만 간추리자면. 예를 들면, 태릉선수촌, 태릉CC 부근 스키장, 대관령의 하늘길, 설악산, 오대산, 태백산도 가깝다.\n",
      "강원도는 강원도 면적의 4분의 1에 해당하는 면적이 강원도이다.\n",
      "강원도 면적은 강원도 전체면적의 1/7, 북한면적의\n",
      "Perplexity:  9.352399\n",
      "도서관 방문의 장점만 간추리자면. 예를 들면, 태릉선수촌, 태릉CC 부근 스키장, 대관령의 하늘길, 설악산, 오대산, 태백산도 가깝다.\n",
      "강원도는 강원도 면적의 4분의 1에 해당하는 면적이 강원도이다.\n",
      "강원도 면적은 강원도 전체면적의 1/7, 북한면적의\n",
      "green list 단어 개수 : 44\n",
      "red list 단어 개수 : 6\n",
      "green list 단어 비율 : 0.88\n",
      "red list 단어 비율 : 0.12\n",
      "Z-score: 5.374011537017761\n",
      "is this sentence written by machine? True\n",
      "Perplexity:  9.352399\n",
      "prompt2 : 집에서의 필름 감상\n"
     ]
    },
    {
     "name": "stderr",
     "output_type": "stream",
     "text": [
      " 92%|█████████▏| 46/50 [00:07<00:00,  6.52it/s]\n"
     ]
    },
    {
     "name": "stdout",
     "output_type": "stream",
     "text": [
      "집에서의 필름 감상법도 알려준다.\n",
      "영화 속 주인공인 잭 리처즈는 할리우드에서 활동하고 있었던 톰 피터슨과 사랑에 빠지지만 로버트 다우니는 프랭클린 D. 케네디 암살사건을 소재로 삼아 영화에 삽입곡으로 삽입곡을 작곡해냈다.\n",
      "톰 피터슨은 잭 리처즈가 죽기 직전 남긴 유서\n",
      "Perplexity:  10.122425\n",
      "집에서의 필름 감상법도 알려준다.\n",
      "영화 속 주인공인 잭 리처즈는 할리우드에서 활동하고 있었던 톰 피터슨과 사랑에 빠지지만 로버트 다우니는 프랭클린 D. 케네디 암살사건을 소재로 삼아 영화에 삽입곡으로 삽입곡을 작곡해냈다.\n",
      "톰 피터슨은 잭 리처즈가 죽기 직전 남긴 유서\n",
      "green list 단어 개수 : 41\n",
      "red list 단어 개수 : 9\n",
      "green list 단어 비율 : 0.82\n",
      "red list 단어 비율 : 0.18000000000000005\n",
      "Z-score: 4.525483399593904\n",
      "is this sentence written by machine? True\n",
      "Perplexity:  10.122425\n",
      "prompt2 : 커피 한 잔과의 여유\n"
     ]
    },
    {
     "name": "stderr",
     "output_type": "stream",
     "text": [
      " 90%|█████████ | 45/50 [00:06<00:00,  6.54it/s]\n"
     ]
    },
    {
     "name": "stdout",
     "output_type": "stream",
     "text": [
      "커피 한 잔과의 여유롭고 편안함에 흠뻑 젖어들었다가 이내 사라지기도 했을 테지요.\n",
      "하지만 그 시절의 기억 속에는 그때의 기쁨으로만 간직되듯이, 지금의 삶은 그저 평범한 일상일지라도 결코 평범해질 틈이 없음을 깨닫게 됩니다,\n",
      "혹은 과거와의 이별조차도\n",
      "Perplexity:  10.231778\n",
      "커피 한 잔과의 여유롭고 편안함에 흠뻑 젖어들었다가 이내 사라지기도 했을 테지요.\n",
      "하지만 그 시절의 기억 속에는 그때의 기쁨으로만 간직되듯이, 지금의 삶은 그저 평범한 일상일지라도 결코 평범해질 틈이 없음을 깨닫게 됩니다,\n",
      "혹은 과거와의 이별조차도\n",
      "green list 단어 개수 : 47\n",
      "red list 단어 개수 : 3\n",
      "green list 단어 비율 : 0.94\n",
      "red list 단어 비율 : 0.06000000000000005\n",
      "Z-score: 6.222539674441618\n",
      "is this sentence written by machine? True\n",
      "Perplexity:  10.231778\n",
      "prompt2 : 일기 쓰기의 치유 효과\n"
     ]
    },
    {
     "name": "stderr",
     "output_type": "stream",
     "text": [
      " 90%|█████████ | 45/50 [00:06<00:00,  6.54it/s]\n"
     ]
    },
    {
     "name": "stdout",
     "output_type": "stream",
     "text": [
      "일기 쓰기의 치유 효과 발동 조건이 까다롭다.\n",
      "회복 효과는 공격 타입 불문하고 랜덤이며, 특수 소환 조건은 몬무스 타입 몬무스 타입 몬무스 / 일반 소환 조건이 동일하다.\n",
      "일러스트상으로는 특수 소환조건이 없는 대신에 속성 공격력이 증가한다.\n",
      "일러스트를 보아 속성 공격으로\n",
      "Perplexity:  12.994601\n",
      "일기 쓰기의 치유 효과 발동 조건이 까다롭다.\n",
      "회복 효과는 공격 타입 불문하고 랜덤이며, 특수 소환 조건은 몬무스 타입 몬무스 타입 몬무스 / 일반 소환 조건이 동일하다.\n",
      "일러스트상으로는 특수 소환조건이 없는 대신에 속성 공격력이 증가한다.\n",
      "일러스트를 보아 속성 공격으로\n",
      "green list 단어 개수 : 44\n",
      "red list 단어 개수 : 6\n",
      "green list 단어 비율 : 0.88\n",
      "red list 단어 비율 : 0.12\n",
      "Z-score: 5.374011537017761\n",
      "is this sentence written by machine? True\n",
      "Perplexity:  12.994601\n",
      "prompt2 : 홈 베이킹의 즐거움\n"
     ]
    },
    {
     "name": "stderr",
     "output_type": "stream",
     "text": [
      " 88%|████████▊ | 44/50 [00:06<00:00,  6.56it/s]\n"
     ]
    },
    {
     "name": "stdout",
     "output_type": "stream",
     "text": [
      "홈 베이킹의 즐거움뿐만 아니라, 아이들의 집중력 향상, 두뇌 발달을 돕는 똑똑해진 영양제인 글루텐프리 성분의 도움말로 아이들이 안심 먹을 안전한 재료로 키운다.\n",
      "글로벌이 인정한 세계적 프로바이오틱스 원료 생산업체 존슨앤드존의 유산균은 장내 미생물 균주와\n",
      "Perplexity:  9.427384\n",
      "홈 베이킹의 즐거움뿐만 아니라, 아이들의 집중력 향상, 두뇌 발달을 돕는 똑똑해진 영양제인 글루텐프리 성분의 도움말로 아이들이 안심 먹을 안전한 재료로 키운다.\n",
      "글로벌이 인정한 세계적 프로바이오틱스 원료 생산업체 존슨앤드존의 유산균은 장내 미생물 균주와\n",
      "green list 단어 개수 : 47\n",
      "red list 단어 개수 : 3\n",
      "green list 단어 비율 : 0.94\n",
      "red list 단어 비율 : 0.06000000000000005\n",
      "Z-score: 6.222539674441618\n",
      "is this sentence written by machine? True\n",
      "Perplexity:  9.427384\n",
      "prompt2 : 직접 만든 공예품\n"
     ]
    },
    {
     "name": "stderr",
     "output_type": "stream",
     "text": [
      " 92%|█████████▏| 46/50 [00:06<00:00,  6.59it/s]\n"
     ]
    },
    {
     "name": "stdout",
     "output_type": "stream",
     "text": [
      "직접 만든 공예품 50여점도 출품·시흥시장상인연합회 회원으로 등록·출품을 하게 되며 시흥시장은 부천시장과 안산시장이 상인단체로 지정받게 되며 시흥시장은 부천시장과 안산시장이 상인단체로 새로 탄생되게 된다. 고양시민은 재래시장을 애용하거나 재래시장으로 향하는\n",
      "Perplexity:  6.862703\n",
      "직접 만든 공예품 50여점도 출품·시흥시장상인연합회 회원으로 등록·출품을 하게 되며 시흥시장은 부천시장과 안산시장이 상인단체로 지정받게 되며 시흥시장은 부천시장과 안산시장이 상인단체로 새로 탄생되게 된다. 고양시민은 재래시장을 애용하거나 재래시장으로 향하는\n",
      "green list 단어 개수 : 47\n",
      "red list 단어 개수 : 5\n",
      "green list 단어 비율 : 0.9038461538461539\n",
      "red list 단어 비율 : 0.09615384615384615\n",
      "Z-score: 5.824352060364906\n",
      "is this sentence written by machine? True\n",
      "Perplexity:  6.862703\n",
      "prompt2 : 새로운 요리법 시도하기\n"
     ]
    },
    {
     "name": "stderr",
     "output_type": "stream",
     "text": [
      " 90%|█████████ | 45/50 [00:06<00:00,  6.58it/s]\n"
     ]
    },
    {
     "name": "stdout",
     "output_type": "stream",
     "text": [
      "새로운 요리법 시도하기 시작하였다.\n",
      "요리법이 알려지기 이전에는 밀가루 반죽 반죽을 얇게 펴서 밀가루를 묻힌 반죽을 손으로 비벼가며 굽았는데, 밀가루 반죽 반죽을 손가락 사이로 밀어 넣음으로써 구운 음식을 구워 내는 방법을 배웠다.\n",
      "서양식으로 말하자면 밀가루를 묻혀 튀겨서 기름을 두른 팬에 볶\n",
      "Perplexity:  10.424941\n",
      "새로운 요리법 시도하기 시작하였다.\n",
      "요리법이 알려지기 이전에는 밀가루 반죽 반죽을 얇게 펴서 밀가루를 묻힌 반죽을 손으로 비벼가며 굽았는데, 밀가루 반죽 반죽을 손가락 사이로 밀어 넣음으로써 구운 음식을 구워 내는 방법을 배웠다.\n",
      "서양식으로 말하자면 밀가루를 묻혀 튀겨서 기름을 두른 팬에 볶\n",
      "green list 단어 개수 : 45\n",
      "red list 단어 개수 : 5\n",
      "green list 단어 비율 : 0.9\n",
      "red list 단어 비율 : 0.09999999999999998\n",
      "Z-score: 5.65685424949238\n",
      "is this sentence written by machine? True\n",
      "Perplexity:  10.424941\n",
      "prompt2 : 지역 공연 관람\n"
     ]
    },
    {
     "name": "stderr",
     "output_type": "stream",
     "text": [
      " 94%|█████████▍| 47/50 [00:07<00:00,  6.57it/s]\n"
     ]
    },
    {
     "name": "stdout",
     "output_type": "stream",
     "text": [
      "지역 공연 관람료를 받지 못하게 되자 극단 대표 이윤택(66)에게 극단을 떠맡겼다.\n",
      "극단 단원 40여 명은 공연에 참여하지 않겠다는 의사를 수차례 문서로 통지받았고, 극단 대표가 일방적으로 공연을 거부했다.\n",
      "공연을 강행하려 하자 극단의 스태프 일부가 항의 시위를 벌였다.\n",
      "연극인들은 연극을 중단하고\n",
      "Perplexity:  8.21284\n",
      "지역 공연 관람료를 받지 못하게 되자 극단 대표 이윤택(66)에게 극단을 떠맡겼다.\n",
      "극단 단원 40여 명은 공연에 참여하지 않겠다는 의사를 수차례 문서로 통지받았고, 극단 대표가 일방적으로 공연을 거부했다.\n",
      "공연을 강행하려 하자 극단의 스태프 일부가 항의 시위를 벌였다.\n",
      "연극인들은 연극을 중단하고\n",
      "green list 단어 개수 : 44\n",
      "red list 단어 개수 : 6\n",
      "green list 단어 비율 : 0.88\n",
      "red list 단어 비율 : 0.12\n",
      "Z-score: 5.374011537017761\n",
      "is this sentence written by machine? True\n",
      "Perplexity:  8.21284\n",
      "prompt2 : 자연 속에서의 하이킹\n"
     ]
    },
    {
     "name": "stderr",
     "output_type": "stream",
     "text": [
      " 90%|█████████ | 45/50 [00:06<00:00,  6.54it/s]\n"
     ]
    },
    {
     "name": "stdout",
     "output_type": "stream",
     "text": [
      "자연 속에서의 하이킹(highkicking) 능력을 겨루는 세계선수권대회 우승을 차지한 일본의 야마모토 쇼타가 금메달을 목에 걸고 당당 히 겨뤄 우승컵 2개를 들어올렸다고 도쿄 신문이 15일 일제히 보도했다\n",
      "일본 기상청에 의하면, 일본 남부 규슈 지방에서 발생한 태풍\n",
      "Perplexity:  8.388339\n",
      "자연 속에서의 하이킹(highkicking) 능력을 겨루는 세계선수권대회 우승을 차지한 일본의 야마모토 쇼타가 금메달을 목에 걸고 당당 히 겨뤄 우승컵 2개를 들어올렸다고 도쿄 신문이 15일 일제히 보도했다\n",
      "일본 기상청에 의하면, 일본 남부 규슈 지방에서 발생한 태풍\n",
      "green list 단어 개수 : 42\n",
      "red list 단어 개수 : 8\n",
      "green list 단어 비율 : 0.84\n",
      "red list 단어 비율 : 0.16000000000000003\n",
      "Z-score: 4.808326112068523\n",
      "is this sentence written by machine? True\n",
      "Perplexity:  8.388339\n",
      "prompt2 : 가구 리폼 프로젝트\n"
     ]
    },
    {
     "name": "stderr",
     "output_type": "stream",
     "text": [
      " 92%|█████████▏| 46/50 [00:06<00:00,  6.58it/s]\n"
     ]
    },
    {
     "name": "stdout",
     "output_type": "stream",
     "text": [
      "가구 리폼 프로젝트’라고 명명지었다.\n",
      "올해는 독일 베를린 중심가인 브란덴부르크문, 함부르크 중심가인 브란덴부르크문, 프랑크푸르트 대성당 일대 3개 건물을 리모델링·리모델링·리뉴얼·신축·대규모 복합건물 공간으로 탈바꿈시킨다는 구상안에 착수했다.\n",
      "독일 건축가 한스\n",
      "Perplexity:  6.9639406\n",
      "가구 리폼 프로젝트’라고 명명지었다.\n",
      "올해는 독일 베를린 중심가인 브란덴부르크문, 함부르크 중심가인 브란덴부르크문, 프랑크푸르트 대성당 일대 3개 건물을 리모델링·리모델링·리뉴얼·신축·대규모 복합건물 공간으로 탈바꿈시킨다는 구상안에 착수했다.\n",
      "독일 건축가 한스\n",
      "green list 단어 개수 : 44\n",
      "red list 단어 개수 : 6\n",
      "green list 단어 비율 : 0.88\n",
      "red list 단어 비율 : 0.12\n",
      "Z-score: 5.374011537017761\n",
      "is this sentence written by machine? True\n",
      "Perplexity:  6.9639406\n",
      "prompt2 : 아이와 함께하는 공원 나들이\n"
     ]
    },
    {
     "name": "stderr",
     "output_type": "stream",
     "text": [
      " 86%|████████▌ | 43/50 [00:06<00:01,  6.56it/s]\n"
     ]
    },
    {
     "name": "stdout",
     "output_type": "stream",
     "text": [
      "아이와 함께하는 공원 나들이 가방에 넣어뒀다가, 나중에 잃어버렸을 때를 상상하시라.\n",
      "거울 거울 앞에 서서 거울 안을 들여다보십시오(아마도 당신의 손은 보이지 않았을 것입니다.)\n",
      "손을 내밀었다가 떨어뜨리거나 벽에 부딪히면 반사신경증이 생깁니다.\n",
      "손가락 끝을\n",
      "Perplexity:  9.247951\n",
      "아이와 함께하는 공원 나들이 가방에 넣어뒀다가, 나중에 잃어버렸을 때를 상상하시라.\n",
      "거울 거울 앞에 서서 거울 안을 들여다보십시오(아마도 당신의 손은 보이지 않았을 것입니다.)\n",
      "손을 내밀었다가 떨어뜨리거나 벽에 부딪히면 반사신경증이 생깁니다.\n",
      "손가락 끝을\n",
      "green list 단어 개수 : 44\n",
      "red list 단어 개수 : 6\n",
      "green list 단어 비율 : 0.88\n",
      "red list 단어 비율 : 0.12\n",
      "Z-score: 5.374011537017761\n",
      "is this sentence written by machine? True\n",
      "Perplexity:  9.247951\n",
      "prompt2 : 새로운 스포츠 도전\n"
     ]
    },
    {
     "name": "stderr",
     "output_type": "stream",
     "text": [
      " 94%|█████████▍| 47/50 [00:07<00:00,  6.53it/s]\n"
     ]
    },
    {
     "name": "stdout",
     "output_type": "stream",
     "text": [
      "새로운 스포츠 도전 정신과 열정 없이는 불가능한 일이다.\n",
      "스포츠 정신은 끊임없는 노력으로 다져진 기량을 유감 없이 발휘할 때만 빛을 낼 뿐, 궁극적으로는 승리의 원동력으로 작용한다.\n",
      "성공 신화를 창조해낸 위대한 지도자들은 한결같이 승리를 쟁취해야만 비로소 승리자로 인정받을 자격을 얻는다.\n",
      "위대한 지도자들만이 승리를 쟁취\n",
      "Perplexity:  8.466763\n",
      "새로운 스포츠 도전 정신과 열정 없이는 불가능한 일이다.\n",
      "스포츠 정신은 끊임없는 노력으로 다져진 기량을 유감 없이 발휘할 때만 빛을 낼 뿐, 궁극적으로는 승리의 원동력으로 작용한다.\n",
      "성공 신화를 창조해낸 위대한 지도자들은 한결같이 승리를 쟁취해야만 비로소 승리자로 인정받을 자격을 얻는다.\n",
      "위대한 지도자들만이 승리를 쟁취\n",
      "green list 단어 개수 : 43\n",
      "red list 단어 개수 : 8\n",
      "green list 단어 비율 : 0.8431372549019608\n",
      "red list 단어 비율 : 0.1568627450980392\n",
      "Z-score: 4.900980294098034\n",
      "is this sentence written by machine? True\n",
      "Perplexity:  8.466763\n",
      "prompt2 : 개인 기록의 개선\n"
     ]
    },
    {
     "name": "stderr",
     "output_type": "stream",
     "text": [
      " 92%|█████████▏| 46/50 [00:07<00:00,  6.56it/s]\n"
     ]
    },
    {
     "name": "stdout",
     "output_type": "stream",
     "text": [
      "개인 기록의 개선속도가 빨라졌다고 평가하고 등급전망 상향 이유를 들었다.\n",
      "크레딧스위스퍼스트의 수석 투자책임자였던 마크 헨델버그 펀드매니저(44·사망)도 골드만은 스탠더의 등급을 올릴 준비가 돼 있었다고 인정했다.\n",
      "헨델버그 펀드는 골드만과\n",
      "Perplexity:  5.335339\n",
      "개인 기록의 개선속도가 빨라졌다고 평가하고 등급전망 상향 이유를 들었다.\n",
      "크레딧스위스퍼스트의 수석 투자책임자였던 마크 헨델버그 펀드매니저(44·사망)도 골드만은 스탠더의 등급을 올릴 준비가 돼 있었다고 인정했다.\n",
      "헨델버그 펀드는 골드만과\n",
      "green list 단어 개수 : 41\n",
      "red list 단어 개수 : 9\n",
      "green list 단어 비율 : 0.82\n",
      "red list 단어 비율 : 0.18000000000000005\n",
      "Z-score: 4.525483399593904\n",
      "is this sentence written by machine? True\n",
      "Perplexity:  5.335339\n",
      "prompt2 : 집에서의 요가 세션\n"
     ]
    },
    {
     "name": "stderr",
     "output_type": "stream",
     "text": [
      " 90%|█████████ | 45/50 [00:06<00:00,  6.55it/s]\n"
     ]
    },
    {
     "name": "stdout",
     "output_type": "stream",
     "text": [
      "집에서의 요가 세션에서는 척추 질환 치료법과 재활훈련방법에 대해서도 강의했다.\n",
      "강좌 이후에는 관절질환 예방교육과 관절염 자가진단 검사를 시행했다.\n",
      "척추질환 진단을 앞둔 환자는 병원에서 상담을 받고, 물리치료실을 이용하면 치료가 용이해진다.\n",
      "상담 이후에도 환자가 언제든지 병원에 찾아와 재활훈련을\n",
      "Perplexity:  10.395249\n",
      "집에서의 요가 세션에서는 척추 질환 치료법과 재활훈련방법에 대해서도 강의했다.\n",
      "강좌 이후에는 관절질환 예방교육과 관절염 자가진단 검사를 시행했다.\n",
      "척추질환 진단을 앞둔 환자는 병원에서 상담을 받고, 물리치료실을 이용하면 치료가 용이해진다.\n",
      "상담 이후에도 환자가 언제든지 병원에 찾아와 재활훈련을\n",
      "green list 단어 개수 : 42\n",
      "red list 단어 개수 : 8\n",
      "green list 단어 비율 : 0.84\n",
      "red list 단어 비율 : 0.16000000000000003\n",
      "Z-score: 4.808326112068523\n",
      "is this sentence written by machine? True\n",
      "Perplexity:  10.395249\n",
      "prompt2 : 반려동물과의 산책\n"
     ]
    },
    {
     "name": "stderr",
     "output_type": "stream",
     "text": [
      " 90%|█████████ | 45/50 [00:06<00:00,  6.54it/s]\n"
     ]
    },
    {
     "name": "stdout",
     "output_type": "stream",
     "text": [
      "반려동물과의 산책거리를 넓히려는 움직임이 나타나고 있다\"는 반응을 보이기도 했다.\n",
      "앞으로의 관심은 과연 누가 어디까지 갈 것인가 여부 정도가 될 듯하다.\n",
      "현재로서는 반려동물과 교감관계가 형성되기까지 남은 기간이 얼마나 걸릴 지가 관건이 아닌가 여겨진다.\n",
      "유기묘 사육 현황 조사에\n",
      "Perplexity:  9.930643\n",
      "반려동물과의 산책거리를 넓히려는 움직임이 나타나고 있다\"는 반응을 보이기도 했다.\n",
      "앞으로의 관심은 과연 누가 어디까지 갈 것인가 여부 정도가 될 듯하다.\n",
      "현재로서는 반려동물과 교감관계가 형성되기까지 남은 기간이 얼마나 걸릴 지가 관건이 아닌가 여겨진다.\n",
      "유기묘 사육 현황 조사에\n",
      "green list 단어 개수 : 43\n",
      "red list 단어 개수 : 7\n",
      "green list 단어 비율 : 0.86\n",
      "red list 단어 비율 : 0.14\n",
      "Z-score: 5.091168824543142\n",
      "is this sentence written by machine? True\n",
      "Perplexity:  9.930643\n",
      "prompt2 : 가족 앨범 만들기\n"
     ]
    },
    {
     "name": "stderr",
     "output_type": "stream",
     "text": [
      " 94%|█████████▍| 47/50 [00:07<00:00,  6.55it/s]\n"
     ]
    },
    {
     "name": "stdout",
     "output_type": "stream",
     "text": [
      "가족 앨범 만들기 대회에서 입상하였고, 데뷔작인 '그놈 목소리'는 미국에서 발매되었는데, 한국에서 싱글앨범인 '그놈 목소리'는 미국에서 발매되었는데 미국에서는 오리온의 후속곡이 되었다.\n",
      "타이틀 곡은 '마지막 잎새를 훔쳐서 날아오르는 새의 울음소리'로 오리온의\n",
      "Perplexity:  9.7246895\n",
      "가족 앨범 만들기 대회에서 입상하였고, 데뷔작인 '그놈 목소리'는 미국에서 발매되었는데, 한국에서 싱글앨범인 '그놈 목소리'는 미국에서 발매되었는데 미국에서는 오리온의 후속곡이 되었다.\n",
      "타이틀 곡은 '마지막 잎새를 훔쳐서 날아오르는 새의 울음소리'로 오리온의\n",
      "green list 단어 개수 : 45\n",
      "red list 단어 개수 : 5\n",
      "green list 단어 비율 : 0.9\n",
      "red list 단어 비율 : 0.09999999999999998\n",
      "Z-score: 5.65685424949238\n",
      "is this sentence written by machine? True\n",
      "Perplexity:  9.7246895\n",
      "prompt2 : 매일의 명상 시간\n"
     ]
    },
    {
     "name": "stderr",
     "output_type": "stream",
     "text": [
      " 92%|█████████▏| 46/50 [00:07<00:00,  6.55it/s]\n"
     ]
    },
    {
     "name": "stdout",
     "output_type": "stream",
     "text": [
      "매일의 명상 시간이었는데, 스님께 기도를 드리는 모습은 참으로 장엄하고도 경건하였을 것이며 기도하신 부처님의 가르침을 다시금 상기시키면서 부처님 가르침 실천에 힘써 달라는 뜻으로 여겨졌던 것입니다.\n",
      "부처님 가르침은 부처님을 본받아 중생 구원을 구하는 근본 사명이었으며, 부처의 가르침이 세상에 퍼져나갈수록\n",
      "Perplexity:  10.52661\n",
      "매일의 명상 시간이었는데, 스님께 기도를 드리는 모습은 참으로 장엄하고도 경건하였을 것이며 기도하신 부처님의 가르침을 다시금 상기시키면서 부처님 가르침 실천에 힘써 달라는 뜻으로 여겨졌던 것입니다.\n",
      "부처님 가르침은 부처님을 본받아 중생 구원을 구하는 근본 사명이었으며, 부처의 가르침이 세상에 퍼져나갈수록\n",
      "green list 단어 개수 : 49\n",
      "red list 단어 개수 : 1\n",
      "green list 단어 비율 : 0.98\n",
      "red list 단어 비율 : 0.020000000000000018\n",
      "Z-score: 6.788225099390856\n",
      "is this sentence written by machine? True\n",
      "Perplexity:  10.52661\n",
      "prompt2 : 가벼운 아침 조깅\n"
     ]
    },
    {
     "name": "stderr",
     "output_type": "stream",
     "text": [
      " 92%|█████████▏| 46/50 [00:07<00:00,  6.54it/s]\n"
     ]
    },
    {
     "name": "stdout",
     "output_type": "stream",
     "text": [
      "가벼운 아침 조깅 트랙 위에서 맨발로 달리깅 하다가 넘어졌을 경우, 응급조치 미흡으로 사망 위험에 처했다면 업무상 과실 치유가 인정된다'는 판결이 나왔는데, 대법원 판례가 달라진 것인지 궁금증이 증폭되고 있습니다. 대법원도 하급심에 해당하는 판단을 내린 것일 텐\n",
      "Perplexity:  7.716357\n",
      "가벼운 아침 조깅 트랙 위에서 맨발로 달리깅 하다가 넘어졌을 경우, 응급조치 미흡으로 사망 위험에 처했다면 업무상 과실 치유가 인정된다'는 판결이 나왔는데, 대법원 판례가 달라진 것인지 궁금증이 증폭되고 있습니다. 대법원도 하급심에 해당하는 판단을 내린 것일 텐\n",
      "green list 단어 개수 : 46\n",
      "red list 단어 개수 : 4\n",
      "green list 단어 비율 : 0.92\n",
      "red list 단어 비율 : 0.07999999999999996\n",
      "Z-score: 5.939696961966999\n",
      "is this sentence written by machine? True\n",
      "Perplexity:  7.716357\n",
      "prompt2 : 주말 브런치 준비\n"
     ]
    },
    {
     "name": "stderr",
     "output_type": "stream",
     "text": [
      " 88%|████████▊ | 44/50 [00:06<00:00,  6.56it/s]\n"
     ]
    },
    {
     "name": "stdout",
     "output_type": "stream",
     "text": [
      "주말 브런치 준비물을 챙긴다.\n",
      "푸짐하면서도 넉넉잡힌 음식과 곁들여 먹기 좋고 곁들이는 사이드 디쉬 위에 곁들임 소스를 곁들인다.\n",
      "샌프란시스코 근교 해변 휴양지에서 즐기는 브런은 이국적이지 않으면서 소박한 맛이 일품이다.\n",
      "샌프란시스코 근교 해안\n",
      "Perplexity:  7.7553988\n",
      "주말 브런치 준비물을 챙긴다.\n",
      "푸짐하면서도 넉넉잡힌 음식과 곁들여 먹기 좋고 곁들이는 사이드 디쉬 위에 곁들임 소스를 곁들인다.\n",
      "샌프란시스코 근교 해변 휴양지에서 즐기는 브런은 이국적이지 않으면서 소박한 맛이 일품이다.\n",
      "샌프란시스코 근교 해안\n",
      "green list 단어 개수 : 43\n",
      "red list 단어 개수 : 7\n",
      "green list 단어 비율 : 0.86\n",
      "red list 단어 비율 : 0.14\n",
      "Z-score: 5.091168824543142\n",
      "is this sentence written by machine? True\n",
      "Perplexity:  7.7553988\n",
      "prompt2 : 일상의 소소한 행복 찾기\n"
     ]
    },
    {
     "name": "stderr",
     "output_type": "stream",
     "text": [
      " 90%|█████████ | 45/50 [00:06<00:00,  6.60it/s]\n"
     ]
    },
    {
     "name": "stdout",
     "output_type": "stream",
     "text": [
      "일상의 소소한 행복 찾기”라는 제목의 글에서 “정치인들끼리 주고받는 사적인 대화록 수십 개를 분석해봤더니, 놀랍게도 국회의원 보좌관들이 주고받은 사적인 메모 수십 개에 불과하다“라고 썼다.\n",
      "국회의원이 공적인 자리에서 나눈 일상적인 대화를 기록한 기록은 국회의원의 직무 범위를 벗어난\n",
      "Perplexity:  10.332434\n",
      "일상의 소소한 행복 찾기”라는 제목의 글에서 “정치인들끼리 주고받는 사적인 대화록 수십 개를 분석해봤더니, 놀랍게도 국회의원 보좌관들이 주고받은 사적인 메모 수십 개에 불과하다“라고 썼다.\n",
      "국회의원이 공적인 자리에서 나눈 일상적인 대화를 기록한 기록은 국회의원의 직무 범위를 벗어난\n",
      "green list 단어 개수 : 44\n",
      "red list 단어 개수 : 6\n",
      "green list 단어 비율 : 0.88\n",
      "red list 단어 비율 : 0.12\n",
      "Z-score: 5.374011537017761\n",
      "is this sentence written by machine? True\n",
      "Perplexity:  10.332434\n",
      "prompt2 : 스마트폰 없는 하루\n"
     ]
    },
    {
     "name": "stderr",
     "output_type": "stream",
     "text": [
      " 94%|█████████▍| 47/50 [00:07<00:00,  6.54it/s]\n"
     ]
    },
    {
     "name": "stdout",
     "output_type": "stream",
     "text": [
      "스마트폰 없는 하루살이 생활이 시작된다.\n",
      "큰 맘 먹고 사는 사람도 많지만 그나마 나은 편이다.\n",
      "돈 주고 사는 사람과 비교하면 수입이 적고, 경제적으로 독립하기에는 벅찼으므로 차라리 집에서 생활하는 편이 낫고(또는 경제적인 어려움 외에는 그럴 상황이다)\n",
      "집을 처분하기보다는 밖에서 생활하는 쪽으로 돌아간다.\n",
      "외로\n",
      "Perplexity:  15.164077\n",
      "스마트폰 없는 하루살이 생활이 시작된다.\n",
      "큰 맘 먹고 사는 사람도 많지만 그나마 나은 편이다.\n",
      "돈 주고 사는 사람과 비교하면 수입이 적고, 경제적으로 독립하기에는 벅찼으므로 차라리 집에서 생활하는 편이 낫고(또는 경제적인 어려움 외에는 그럴 상황이다)\n",
      "집을 처분하기보다는 밖에서 생활하는 쪽으로 돌아간다.\n",
      "외로\n",
      "green list 단어 개수 : 45\n",
      "red list 단어 개수 : 5\n",
      "green list 단어 비율 : 0.9\n",
      "red list 단어 비율 : 0.09999999999999998\n",
      "Z-score: 5.65685424949238\n",
      "is this sentence written by machine? True\n",
      "Perplexity:  15.164077\n",
      "prompt2 : 책상 정리의 중요성\n"
     ]
    },
    {
     "name": "stderr",
     "output_type": "stream",
     "text": [
      " 92%|█████████▏| 46/50 [00:06<00:00,  6.58it/s]\n"
     ]
    },
    {
     "name": "stdout",
     "output_type": "stream",
     "text": [
      "책상 정리의 중요성’을 역설하곤 하는데, 여기에는 저자의 철학철학과 맞닿아 있으면서도 철학적 통찰력도 녹아들어 있음은 부인 못하리라. 저자 스스로 철학의 핵심을 꿰뚫으면서도 철학적 통찰력은 잃지 않았음을 보여준 대목 같다. 저자는 책에서 철학을 관통해가는 열쇠 하나를 제시하고 있지는 않다고 주장한다.\n",
      "\n",
      "Perplexity:  11.463992\n",
      "책상 정리의 중요성’을 역설하곤 하는데, 여기에는 저자의 철학철학과 맞닿아 있으면서도 철학적 통찰력도 녹아들어 있음은 부인 못하리라. 저자 스스로 철학의 핵심을 꿰뚫으면서도 철학적 통찰력은 잃지 않았음을 보여준 대목 같다. 저자는 책에서 철학을 관통해가는 열쇠 하나를 제시하고 있지는 않다고 주장한다.\n",
      "\n",
      "green list 단어 개수 : 46\n",
      "red list 단어 개수 : 4\n",
      "green list 단어 비율 : 0.92\n",
      "red list 단어 비율 : 0.07999999999999996\n",
      "Z-score: 5.939696961966999\n",
      "is this sentence written by machine? True\n",
      "Perplexity:  11.463992\n",
      "prompt2 : 옷장 정리하기\n"
     ]
    },
    {
     "name": "stderr",
     "output_type": "stream",
     "text": [
      " 92%|█████████▏| 46/50 [00:06<00:00,  6.58it/s]\n"
     ]
    },
    {
     "name": "stdout",
     "output_type": "stream",
     "text": [
      "옷장 정리하기 용이한 곳으로 꾸몄다.\n",
      "지하층은 입주민을 수용하기에 알맞은 넓은 방으로 꾸몄으며, 지상층은 다락방으로 꾸몄다.\n",
      "지하층의 중앙에는 회의실과 다목적실로 이루어진 다목적실이 별도로 들어섰다.\n",
      "사무실도 지하에 배치시켰다.\n",
      "주택 내부에는 냉장고와 정수시설이 갖춰졌고 세탁\n",
      "Perplexity:  9.511\n",
      "옷장 정리하기 용이한 곳으로 꾸몄다.\n",
      "지하층은 입주민을 수용하기에 알맞은 넓은 방으로 꾸몄으며, 지상층은 다락방으로 꾸몄다.\n",
      "지하층의 중앙에는 회의실과 다목적실로 이루어진 다목적실이 별도로 들어섰다.\n",
      "사무실도 지하에 배치시켰다.\n",
      "주택 내부에는 냉장고와 정수시설이 갖춰졌고 세탁\n",
      "green list 단어 개수 : 43\n",
      "red list 단어 개수 : 7\n",
      "green list 단어 비율 : 0.86\n",
      "red list 단어 비율 : 0.14\n",
      "Z-score: 5.091168824543142\n",
      "is this sentence written by machine? True\n",
      "Perplexity:  9.511\n",
      "prompt2 : 새벽 시간의 고요함\n"
     ]
    },
    {
     "name": "stderr",
     "output_type": "stream",
     "text": [
      " 90%|█████████ | 45/50 [00:06<00:00,  6.55it/s]\n"
     ]
    },
    {
     "name": "stdout",
     "output_type": "stream",
     "text": [
      "새벽 시간의 고요함 속에서 울려 퍼진 노래는 조용필의 ‘그대를 향하여’로 끝나는 노래가 아니었다.\n",
      "노래 가사는 ‘고요한 밤의 노래’가 담고 있는, 서정적이며 낭만적인 리듬감이 돋보였고 가사의 후렴구에서 흘러나오기 시작하고 이어지는 후렴구의 리듬감은 부드럽고 힘찬 멜로디가 주를\n",
      "Perplexity:  10.433863\n",
      "새벽 시간의 고요함 속에서 울려 퍼진 노래는 조용필의 ‘그대를 향하여’로 끝나는 노래가 아니었다.\n",
      "노래 가사는 ‘고요한 밤의 노래’가 담고 있는, 서정적이며 낭만적인 리듬감이 돋보였고 가사의 후렴구에서 흘러나오기 시작하고 이어지는 후렴구의 리듬감은 부드럽고 힘찬 멜로디가 주를\n",
      "green list 단어 개수 : 47\n",
      "red list 단어 개수 : 3\n",
      "green list 단어 비율 : 0.94\n",
      "red list 단어 비율 : 0.06000000000000005\n",
      "Z-score: 6.222539674441618\n",
      "is this sentence written by machine? True\n",
      "Perplexity:  10.433863\n",
      "prompt2 : 오후의 티타임\n"
     ]
    },
    {
     "name": "stderr",
     "output_type": "stream",
     "text": [
      " 92%|█████████▏| 46/50 [00:06<00:00,  6.64it/s]\n"
     ]
    },
    {
     "name": "stdout",
     "output_type": "stream",
     "text": [
      "오후의 티타임 이후에 나타나는 증상으로는 설사, 복통, 식욕 감소, 구토, 구역감, 불면증, 호흡곤란, 어지럼증 등이었다.\n",
      "흔히 만성피로증후군(ADL)이라고 불리는 만성피로증후군에 시달리다 돌연사한 경우를 흔히 보게 되는데, 이때는 단순한 피로감으로 생각하고\n",
      "Perplexity:  6.2075\n",
      "오후의 티타임 이후에 나타나는 증상으로는 설사, 복통, 식욕 감소, 구토, 구역감, 불면증, 호흡곤란, 어지럼증 등이었다.\n",
      "흔히 만성피로증후군(ADL)이라고 불리는 만성피로증후군에 시달리다 돌연사한 경우를 흔히 보게 되는데, 이때는 단순한 피로감으로 생각하고\n",
      "green list 단어 개수 : 46\n",
      "red list 단어 개수 : 4\n",
      "green list 단어 비율 : 0.92\n",
      "red list 단어 비율 : 0.07999999999999996\n",
      "Z-score: 5.939696961966999\n",
      "is this sentence written by machine? True\n",
      "Perplexity:  6.2075\n",
      "prompt2 : 자기 전 명상\n"
     ]
    },
    {
     "name": "stderr",
     "output_type": "stream",
     "text": [
      " 94%|█████████▍| 47/50 [00:07<00:00,  6.55it/s]\n"
     ]
    },
    {
     "name": "stdout",
     "output_type": "stream",
     "text": [
      "자기 전 명상 수련법이다.\n",
      "불교 경전 중에 으뜸 되는 경전 가운데 하나로, 석가모니가 제자들에게 설법을 시키기까지의 이야기다.\n",
      "불교의 경전에 등장하는 구절 가운데는 부처가 깨달음을 얻었음을 의미하는 구절을 많이 포함하고 있어서, 석가모니가 깨달음을 얻은 뒤에 제자들이 설법하였다고 전해지는 구절들도 상당수 존재한다.\n",
      "석가모니 부처가 깨달음을\n",
      "Perplexity:  11.440315\n",
      "자기 전 명상 수련법이다.\n",
      "불교 경전 중에 으뜸 되는 경전 가운데 하나로, 석가모니가 제자들에게 설법을 시키기까지의 이야기다.\n",
      "불교의 경전에 등장하는 구절 가운데는 부처가 깨달음을 얻었음을 의미하는 구절을 많이 포함하고 있어서, 석가모니가 깨달음을 얻은 뒤에 제자들이 설법하였다고 전해지는 구절들도 상당수 존재한다.\n",
      "석가모니 부처가 깨달음을\n",
      "green list 단어 개수 : 43\n",
      "red list 단어 개수 : 6\n",
      "green list 단어 비율 : 0.8775510204081632\n",
      "red list 단어 비율 : 0.12244897959183676\n",
      "Z-score: 5.285714285714286\n",
      "is this sentence written by machine? True\n",
      "Perplexity:  11.440315\n",
      "prompt2 : 집안 식물 가꾸기\n"
     ]
    },
    {
     "name": "stderr",
     "output_type": "stream",
     "text": [
      " 92%|█████████▏| 46/50 [00:07<00:00,  6.48it/s]\n"
     ]
    },
    {
     "name": "stdout",
     "output_type": "stream",
     "text": [
      "집안 식물 가꾸기 사업은 농촌의 노령화와 노동력 부족을 해결하기 위해서였다.\n",
      "농업기술보급사업이 끝나면 농민들이 농사를 짓기 시작하여 수확량을 늘려가고 소득을 증대시키게 됨으로써 농촌에 활력을 불어넣었다.\n",
      "농민사관학교를 졸업한 농민공은 농촌진흥청에서 농촌지도자 양성에 기여했다.\n",
      "농민사관학교는 농업의\n",
      "Perplexity:  8.240371\n",
      "집안 식물 가꾸기 사업은 농촌의 노령화와 노동력 부족을 해결하기 위해서였다.\n",
      "농업기술보급사업이 끝나면 농민들이 농사를 짓기 시작하여 수확량을 늘려가고 소득을 증대시키게 됨으로써 농촌에 활력을 불어넣었다.\n",
      "농민사관학교를 졸업한 농민공은 농촌진흥청에서 농촌지도자 양성에 기여했다.\n",
      "농민사관학교는 농업의\n",
      "green list 단어 개수 : 47\n",
      "red list 단어 개수 : 3\n",
      "green list 단어 비율 : 0.94\n",
      "red list 단어 비율 : 0.06000000000000005\n",
      "Z-score: 6.222539674441618\n",
      "is this sentence written by machine? True\n",
      "Perplexity:  8.240371\n",
      "prompt2 : 근처 박물관 탐방\n"
     ]
    },
    {
     "name": "stderr",
     "output_type": "stream",
     "text": [
      " 94%|█████████▍| 47/50 [00:07<00:00,  6.57it/s]\n"
     ]
    },
    {
     "name": "stdout",
     "output_type": "stream",
     "text": [
      "근처 박물관 탐방안내소에 들러 유적지를 둘러보았다.\n",
      "박물관에 가기 싫다면, 박물관에 가자.\"\n",
      "박물관이 가까워지자 박물관이 가까워지자 호기심으로 주변을 돌아다녔는지 몇몇 관광객이 박물관을 방문했다.\n",
      "박물관에서 바라본 고대 로마시대의 건축물 모형도(로마 황제 아우구스투스 황제의 궁전 모형도와 동일한\n",
      "Perplexity:  12.315561\n",
      "근처 박물관 탐방안내소에 들러 유적지를 둘러보았다.\n",
      "박물관에 가기 싫다면, 박물관에 가자.\"\n",
      "박물관이 가까워지자 박물관이 가까워지자 호기심으로 주변을 돌아다녔는지 몇몇 관광객이 박물관을 방문했다.\n",
      "박물관에서 바라본 고대 로마시대의 건축물 모형도(로마 황제 아우구스투스 황제의 궁전 모형도와 동일한\n",
      "green list 단어 개수 : 45\n",
      "red list 단어 개수 : 5\n",
      "green list 단어 비율 : 0.9\n",
      "red list 단어 비율 : 0.09999999999999998\n",
      "Z-score: 5.65685424949238\n",
      "is this sentence written by machine? True\n",
      "Perplexity:  12.315561\n",
      "prompt2 : 집에서의 칵테일 파티\n"
     ]
    },
    {
     "name": "stderr",
     "output_type": "stream",
     "text": [
      " 86%|████████▌ | 43/50 [00:06<00:01,  6.53it/s]\n"
     ]
    },
    {
     "name": "stdout",
     "output_type": "stream",
     "text": [
      "집에서의 칵테일 파티’는 로맨틱 코메디의 대명사로 불린다.\n",
      "칵테는 서양풍 향신료의 일종인 마늘 향료와 견과가 들어간 정통 스파이스 바를 기본으로 에피타이저와 핫 초콜릿 칩바, 마카로니 롤빵, 소시지배침, 스파이크로 구성되어\n",
      "Perplexity:  9.883803\n",
      "집에서의 칵테일 파티’는 로맨틱 코메디의 대명사로 불린다.\n",
      "칵테는 서양풍 향신료의 일종인 마늘 향료와 견과가 들어간 정통 스파이스 바를 기본으로 에피타이저와 핫 초콜릿 칩바, 마카로니 롤빵, 소시지배침, 스파이크로 구성되어\n",
      "green list 단어 개수 : 41\n",
      "red list 단어 개수 : 9\n",
      "green list 단어 비율 : 0.82\n",
      "red list 단어 비율 : 0.18000000000000005\n",
      "Z-score: 4.525483399593904\n",
      "is this sentence written by machine? True\n",
      "Perplexity:  9.883803\n",
      "prompt2 : 커뮤니티 클래스 참여\n"
     ]
    },
    {
     "name": "stderr",
     "output_type": "stream",
     "text": [
      " 90%|█████████ | 45/50 [00:06<00:00,  6.52it/s]\n"
     ]
    },
    {
     "name": "stdout",
     "output_type": "stream",
     "text": [
      "커뮤니티 클래스 참여 시, 소정의 상품이 주어지며, 기타 자세한 정보는 G마켓 홈페이지 공고를 참고하거나, 콜센터, 15888-11798.goom 참조 바람직하고 빠른 정보 입수를 바란다.”라고 덧붙여 말하였다.\n",
      "2015년에 오픈하였던 G마켓 슈퍼스토어에서\n",
      "Perplexity:  6.9498606\n",
      "커뮤니티 클래스 참여 시, 소정의 상품이 주어지며, 기타 자세한 정보는 G마켓 홈페이지 공고를 참고하거나, 콜센터, 15888-11798.goom 참조 바람직하고 빠른 정보 입수를 바란다.”라고 덧붙여 말하였다.\n",
      "2015년에 오픈하였던 G마켓 슈퍼스토어에서\n",
      "green list 단어 개수 : 46\n",
      "red list 단어 개수 : 4\n",
      "green list 단어 비율 : 0.92\n",
      "red list 단어 비율 : 0.07999999999999996\n",
      "Z-score: 5.939696961966999\n",
      "is this sentence written by machine? True\n",
      "Perplexity:  6.9498606\n",
      "prompt2 : 셀프 케어 루틴\n"
     ]
    },
    {
     "name": "stderr",
     "output_type": "stream",
     "text": [
      " 88%|████████▊ | 44/50 [00:06<00:00,  6.57it/s]\n"
     ]
    },
    {
     "name": "stdout",
     "output_type": "stream",
     "text": [
      "셀프 케어 루틴 케어를 전문으로 취급하는 뷰티카카(Veatica) 매장 1호점인 명동 2호점에 이어, 2호점도 개장하였다.\n",
      "시코르 바이 메디컬 스토어는 메디컬 제품과 뷰티가 결합된 혁신적인 개념의 인테리어 공간으로 큐브와 바디 클리닉\n",
      "Perplexity:  8.468402\n",
      "셀프 케어 루틴 케어를 전문으로 취급하는 뷰티카카(Veatica) 매장 1호점인 명동 2호점에 이어, 2호점도 개장하였다.\n",
      "시코르 바이 메디컬 스토어는 메디컬 제품과 뷰티가 결합된 혁신적인 개념의 인테리어 공간으로 큐브와 바디 클리닉\n",
      "green list 단어 개수 : 42\n",
      "red list 단어 개수 : 7\n",
      "green list 단어 비율 : 0.8571428571428571\n",
      "red list 단어 비율 : 0.1428571428571429\n",
      "Z-score: 5.0\n",
      "is this sentence written by machine? True\n",
      "Perplexity:  8.468402\n",
      "prompt2 : 장거리 걷기의 이점\n"
     ]
    },
    {
     "name": "stderr",
     "output_type": "stream",
     "text": [
      " 90%|█████████ | 45/50 [00:06<00:00,  6.54it/s]\n"
     ]
    },
    {
     "name": "stdout",
     "output_type": "stream",
     "text": [
      "장거리 걷기의 이점 때문인 듯싶었으나...\n",
      "옆모습으로만 봐선 그냥 평범한 남자같았다\n",
      "뭔가에 끌려다니는듯한 모습이었으며 심지어 뒤에서 무언가의 목소리가 들려오자 당황스러워 하기도 했다\n",
      "거의 본능같은 행동을 보여주었다.\n",
      "뒷모습으로만 보아도 확실히 남자\n",
      "Perplexity:  15.695601\n",
      "장거리 걷기의 이점 때문인 듯싶었으나...\n",
      "옆모습으로만 봐선 그냥 평범한 남자같았다\n",
      "뭔가에 끌려다니는듯한 모습이었으며 심지어 뒤에서 무언가의 목소리가 들려오자 당황스러워 하기도 했다\n",
      "거의 본능같은 행동을 보여주었다.\n",
      "뒷모습으로만 보아도 확실히 남자\n",
      "green list 단어 개수 : 42\n",
      "red list 단어 개수 : 8\n",
      "green list 단어 비율 : 0.84\n",
      "red list 단어 비율 : 0.16000000000000003\n",
      "Z-score: 4.808326112068523\n",
      "is this sentence written by machine? True\n",
      "Perplexity:  15.695601\n",
      "prompt2 : 텃밭 가꾸기\n"
     ]
    },
    {
     "name": "stderr",
     "output_type": "stream",
     "text": [
      " 90%|█████████ | 45/50 [00:06<00:00,  6.55it/s]\n"
     ]
    },
    {
     "name": "stdout",
     "output_type": "stream",
     "text": [
      "텃밭 가꾸기 사업 등에 쓰일 예산을 확보했다.\n",
      "군 의회는 예산 심의 과정에서 군의 열악한 살림살이를 개선하기 위해, 의회 상임위원회와 총무위원회에서 의정활동의 투명성과 공정성에 중점을 두었다.\n",
      "군정 전반에 걸친 전반적·종합적이고도 체계적인 의사결정 구조를 갖추기 위해서 의장 직속 상설\n",
      "Perplexity:  7.44181\n",
      "텃밭 가꾸기 사업 등에 쓰일 예산을 확보했다.\n",
      "군 의회는 예산 심의 과정에서 군의 열악한 살림살이를 개선하기 위해, 의회 상임위원회와 총무위원회에서 의정활동의 투명성과 공정성에 중점을 두었다.\n",
      "군정 전반에 걸친 전반적·종합적이고도 체계적인 의사결정 구조를 갖추기 위해서 의장 직속 상설\n",
      "green list 단어 개수 : 46\n",
      "red list 단어 개수 : 4\n",
      "green list 단어 비율 : 0.92\n",
      "red list 단어 비율 : 0.07999999999999996\n",
      "Z-score: 5.939696961966999\n",
      "is this sentence written by machine? True\n",
      "Perplexity:  7.44181\n",
      "prompt2 : 개인적인 스타일 개발\n"
     ]
    },
    {
     "name": "stderr",
     "output_type": "stream",
     "text": [
      " 94%|█████████▍| 47/50 [00:07<00:00,  6.54it/s]\n"
     ]
    },
    {
     "name": "stdout",
     "output_type": "stream",
     "text": [
      "개인적인 스타일 개발 비결을 물어 보았다.\n",
      "자신이 누구인지, 무엇을 잘하는 사람인지도 모른 채 그저 무작위로 뽑은 신입사원들이었다.\n",
      "새로운 입사시험에 합격하기까지 몇 번의 우여곡절을 겪었지만 결국은 합격한 것이나 다름없었다는 듯이 뿌듯함이 밀려왔다.\n",
      "입사시험 준비를 하면서, 신입\n",
      "Perplexity:  8.16266\n",
      "개인적인 스타일 개발 비결을 물어 보았다.\n",
      "자신이 누구인지, 무엇을 잘하는 사람인지도 모른 채 그저 무작위로 뽑은 신입사원들이었다.\n",
      "새로운 입사시험에 합격하기까지 몇 번의 우여곡절을 겪었지만 결국은 합격한 것이나 다름없었다는 듯이 뿌듯함이 밀려왔다.\n",
      "입사시험 준비를 하면서, 신입\n",
      "green list 단어 개수 : 41\n",
      "red list 단어 개수 : 9\n",
      "green list 단어 비율 : 0.82\n",
      "red list 단어 비율 : 0.18000000000000005\n",
      "Z-score: 4.525483399593904\n",
      "is this sentence written by machine? True\n",
      "Perplexity:  8.16266\n",
      "prompt2 : 책 추천 공유\n"
     ]
    },
    {
     "name": "stderr",
     "output_type": "stream",
     "text": [
      " 94%|█████████▍| 47/50 [00:07<00:00,  6.52it/s]\n"
     ]
    },
    {
     "name": "stdout",
     "output_type": "stream",
     "text": [
      "책 추천 공유 사이트 와이즈( wisize)’를 통해서 만나뵐 예정입니다.”라며 웃었다. 라이엇게임즈의 e-START 액션 RPG 장르 IP 포트리스 2의 첫번째 에피소드로 기대를 모으고있는 ‘이브의 비밀’은 방대한 시나리오 구성과 방대한\n",
      "Perplexity:  8.442327\n",
      "책 추천 공유 사이트 와이즈( wisize)’를 통해서 만나뵐 예정입니다.”라며 웃었다. 라이엇게임즈의 e-START 액션 RPG 장르 IP 포트리스 2의 첫번째 에피소드로 기대를 모으고있는 ‘이브의 비밀’은 방대한 시나리오 구성과 방대한\n",
      "green list 단어 개수 : 43\n",
      "red list 단어 개수 : 7\n",
      "green list 단어 비율 : 0.86\n",
      "red list 단어 비율 : 0.14\n",
      "Z-score: 5.091168824543142\n",
      "is this sentence written by machine? True\n",
      "Perplexity:  8.442327\n",
      "prompt2 : 로컬 마켓 쇼핑\n"
     ]
    },
    {
     "name": "stderr",
     "output_type": "stream",
     "text": [
      " 90%|█████████ | 45/50 [00:06<00:00,  6.55it/s]\n"
     ]
    },
    {
     "name": "stdout",
     "output_type": "stream",
     "text": [
      "로컬 마켓 쇼핑 플랫폼 무신사에서 단독 론칭 쇼룸 '더 플라워 오브 러브레흐(The Flaw Order of Laurource)'라는 이름으로 문을 열었다.\n",
      "플라워 오브 러브레흐(GLAROUNBORAW.\n",
      "Perplexity:  3.9615102\n",
      "로컬 마켓 쇼핑 플랫폼 무신사에서 단독 론칭 쇼룸 '더 플라워 오브 러브레흐(The Flaw Order of Laurource)'라는 이름으로 문을 열었다.\n",
      "플라워 오브 러브레흐(GLAROUNBORAW.\n",
      "green list 단어 개수 : 43\n",
      "red list 단어 개수 : 7\n",
      "green list 단어 비율 : 0.86\n",
      "red list 단어 비율 : 0.14\n",
      "Z-score: 5.091168824543142\n",
      "is this sentence written by machine? True\n",
      "Perplexity:  3.9615102\n",
      "prompt2 : 장기 게임의 즐거움\n"
     ]
    },
    {
     "name": "stderr",
     "output_type": "stream",
     "text": [
      " 90%|█████████ | 45/50 [00:06<00:00,  6.60it/s]\n"
     ]
    },
    {
     "name": "stdout",
     "output_type": "stream",
     "text": [
      "장기 게임의 즐거움 추구 목적이 다르기 때문이라고 설명한다.\n",
      "게이머 입장에선, 게이밍 게임 시장에서 성공을 거둘 수만 있다면 기꺼이 져버리는 존재가 아니겠는가?\n",
      "굳건한(?)하게 보이는 PC방에서 게임을 즐겼든, 게이밍 기기 사용에 열중한다면, 분명히 성공한 회사가 되\n",
      "Perplexity:  14.296799\n",
      "장기 게임의 즐거움 추구 목적이 다르기 때문이라고 설명한다.\n",
      "게이머 입장에선, 게이밍 게임 시장에서 성공을 거둘 수만 있다면 기꺼이 져버리는 존재가 아니겠는가?\n",
      "굳건한(?)하게 보이는 PC방에서 게임을 즐겼든, 게이밍 기기 사용에 열중한다면, 분명히 성공한 회사가 되\n",
      "green list 단어 개수 : 44\n",
      "red list 단어 개수 : 6\n",
      "green list 단어 비율 : 0.88\n",
      "red list 단어 비율 : 0.12\n",
      "Z-score: 5.374011537017761\n",
      "is this sentence written by machine? True\n",
      "Perplexity:  14.296799\n",
      "prompt2 : 가족과의 보드게임 밤\n"
     ]
    },
    {
     "name": "stderr",
     "output_type": "stream",
     "text": [
      " 88%|████████▊ | 44/50 [00:06<00:00,  6.53it/s]\n"
     ]
    },
    {
     "name": "stdout",
     "output_type": "stream",
     "text": [
      "가족과의 보드게임 밤 11시, 17~18일, 23~25일에 차례로 진행된다.\n",
      "보드게임 밤이 진행되는 동안에는 플레이어가 직접 제작한 3D 입체 애니메이션 작품도 만날수 있게 됐다.\n",
      "네오플램웍스코리아 김진겸 지사장(부사장·왼쪽에서 다섯번째)을\n",
      "Perplexity:  7.844711\n",
      "가족과의 보드게임 밤 11시, 17~18일, 23~25일에 차례로 진행된다.\n",
      "보드게임 밤이 진행되는 동안에는 플레이어가 직접 제작한 3D 입체 애니메이션 작품도 만날수 있게 됐다.\n",
      "네오플램웍스코리아 김진겸 지사장(부사장·왼쪽에서 다섯번째)을\n",
      "green list 단어 개수 : 41\n",
      "red list 단어 개수 : 9\n",
      "green list 단어 비율 : 0.82\n",
      "red list 단어 비율 : 0.18000000000000005\n",
      "Z-score: 4.525483399593904\n",
      "is this sentence written by machine? True\n",
      "Perplexity:  7.844711\n",
      "prompt2 : 디지털 디톡스\n"
     ]
    },
    {
     "name": "stderr",
     "output_type": "stream",
     "text": [
      " 92%|█████████▏| 46/50 [00:07<00:00,  6.54it/s]\n"
     ]
    },
    {
     "name": "stdout",
     "output_type": "stream",
     "text": [
      "디지털 디톡스 기술로 무장한 바이오 의약품 개발이 활기를 띠고 있음은, 제약바이오 산업이 차세대 신성사업으로 떠오름에 결정적 기여를 했을 것이다\n",
      "(Futures to food things from a growth transition with requirements, new st\n",
      "Perplexity:  6.441296\n",
      "디지털 디톡스 기술로 무장한 바이오 의약품 개발이 활기를 띠고 있음은, 제약바이오 산업이 차세대 신성사업으로 떠오름에 결정적 기여를 했을 것이다\n",
      "(Futures to food things from a growth transition with requirements, new st\n",
      "green list 단어 개수 : 44\n",
      "red list 단어 개수 : 6\n",
      "green list 단어 비율 : 0.88\n",
      "red list 단어 비율 : 0.12\n",
      "Z-score: 5.374011537017761\n",
      "is this sentence written by machine? True\n",
      "Perplexity:  6.441296\n",
      "prompt2 : 가까운 도시 탐험\n"
     ]
    },
    {
     "name": "stderr",
     "output_type": "stream",
     "text": [
      " 94%|█████████▍| 47/50 [00:07<00:00,  6.56it/s]\n"
     ]
    },
    {
     "name": "stdout",
     "output_type": "stream",
     "text": [
      "가까운 도시 탐험가로 명성을 떨쳤다.\n",
      "그의 고향 아틀라스 지방은 기원전 5세기경부터 번성하였는데 기원전 1세기 무렵에는 지중해 연안의 패권을 장악한 셀레우키아 제국(BC 39∼49)으로부터 소아시아 지역으로 세력을 확장해갔다.\n",
      "기원전 4세기경에 이르러 안티오키아 제국은 그리스 본토 전역을 정복하고 아나톨리아 반도 전체에\n",
      "Perplexity:  9.018234\n",
      "가까운 도시 탐험가로 명성을 떨쳤다.\n",
      "그의 고향 아틀라스 지방은 기원전 5세기경부터 번성하였는데 기원전 1세기 무렵에는 지중해 연안의 패권을 장악한 셀레우키아 제국(BC 39∼49)으로부터 소아시아 지역으로 세력을 확장해갔다.\n",
      "기원전 4세기경에 이르러 안티오키아 제국은 그리스 본토 전역을 정복하고 아나톨리아 반도 전체에\n",
      "green list 단어 개수 : 48\n",
      "red list 단어 개수 : 2\n",
      "green list 단어 비율 : 0.96\n",
      "red list 단어 비율 : 0.040000000000000036\n",
      "Z-score: 6.505382386916237\n",
      "is this sentence written by machine? True\n",
      "Perplexity:  9.018234\n",
      "prompt2 : 수제 비누 만들기\n"
     ]
    },
    {
     "name": "stderr",
     "output_type": "stream",
     "text": [
      " 94%|█████████▍| 47/50 [00:07<00:00,  6.53it/s]\n"
     ]
    },
    {
     "name": "stdout",
     "output_type": "stream",
     "text": [
      "수제 비누 만들기 클래스' 강연회가 열렸다.\n",
      "강연회에서는 김은주(35·서대문구·구로·금천·동작·노원) 작가가 '나폴레옹 나폴레옹의 향수'란 강연을 펼쳤고, 강연이 끝날 무렵 패널 1명이 나서서 나폴레옹 향수를 하나씩 꺼내보며 나폴레옹의 향수 이야기를 풀어 나갔다.\n",
      "\n",
      "Perplexity:  9.07697\n",
      "수제 비누 만들기 클래스' 강연회가 열렸다.\n",
      "강연회에서는 김은주(35·서대문구·구로·금천·동작·노원) 작가가 '나폴레옹 나폴레옹의 향수'란 강연을 펼쳤고, 강연이 끝날 무렵 패널 1명이 나서서 나폴레옹 향수를 하나씩 꺼내보며 나폴레옹의 향수 이야기를 풀어 나갔다.\n",
      "\n",
      "green list 단어 개수 : 43\n",
      "red list 단어 개수 : 7\n",
      "green list 단어 비율 : 0.86\n",
      "red list 단어 비율 : 0.14\n",
      "Z-score: 5.091168824543142\n",
      "is this sentence written by machine? True\n",
      "Perplexity:  9.07697\n",
      "prompt2 : 로컬 아티스트 지원\n"
     ]
    },
    {
     "name": "stderr",
     "output_type": "stream",
     "text": [
      " 90%|█████████ | 45/50 [00:06<00:00,  6.61it/s]\n"
     ]
    },
    {
     "name": "stdout",
     "output_type": "stream",
     "text": [
      "로컬 아티스트 지원사업과 연계시켜 예술적 감수성이 풍부하고 감성 표현의 잠재력을 갖춘 신인 창작자를 양성할 것” 이라 말하고 “어린이 합창단으로 하여금 합창음악의 세계로 이끈 주역으로서 자부심과 긍긍심을 갖도록 지속적으로 뒷받침 해나갈 것이며 음악적 재능을 가진 어린\n",
      "Perplexity:  8.263629\n",
      "로컬 아티스트 지원사업과 연계시켜 예술적 감수성이 풍부하고 감성 표현의 잠재력을 갖춘 신인 창작자를 양성할 것” 이라 말하고 “어린이 합창단으로 하여금 합창음악의 세계로 이끈 주역으로서 자부심과 긍긍심을 갖도록 지속적으로 뒷받침 해나갈 것이며 음악적 재능을 가진 어린\n",
      "green list 단어 개수 : 44\n",
      "red list 단어 개수 : 6\n",
      "green list 단어 비율 : 0.88\n",
      "red list 단어 비율 : 0.12\n",
      "Z-score: 5.374011537017761\n",
      "is this sentence written by machine? True\n",
      "Perplexity:  8.263629\n",
      "prompt2 : 실내 데코레이션 변경\n"
     ]
    },
    {
     "name": "stderr",
     "output_type": "stream",
     "text": [
      " 90%|█████████ | 45/50 [00:06<00:00,  6.54it/s]\n"
     ]
    },
    {
     "name": "stdout",
     "output_type": "stream",
     "text": [
      "실내 데코레이션 변경작업이 순조롭게 이루어져 조기 폐차를 단행키 어려울 전망이다.\n",
      "폐차에 소요되는 인건비와 감가상으로 인한 이자비용을 제외하면 폐차의무가 소멸됨에 따른다.\n",
      "기아차는 폐차와 관련하여 발생할 손실보전금에 상응하는 금액을 기아차로 환원시킬 방침을 세웠다.\n",
      "\n",
      "Perplexity:  7.274571\n",
      "실내 데코레이션 변경작업이 순조롭게 이루어져 조기 폐차를 단행키 어려울 전망이다.\n",
      "폐차에 소요되는 인건비와 감가상으로 인한 이자비용을 제외하면 폐차의무가 소멸됨에 따른다.\n",
      "기아차는 폐차와 관련하여 발생할 손실보전금에 상응하는 금액을 기아차로 환원시킬 방침을 세웠다.\n",
      "\n",
      "green list 단어 개수 : 44\n",
      "red list 단어 개수 : 6\n",
      "green list 단어 비율 : 0.88\n",
      "red list 단어 비율 : 0.12\n",
      "Z-score: 5.374011537017761\n",
      "is this sentence written by machine? True\n",
      "Perplexity:  7.274571\n",
      "prompt2 : 뜨개질의 즐거움\n"
     ]
    },
    {
     "name": "stderr",
     "output_type": "stream",
     "text": [
      " 90%|█████████ | 45/50 [00:06<00:00,  6.55it/s]\n"
     ]
    },
    {
     "name": "stdout",
     "output_type": "stream",
     "text": [
      "뜨개질의 즐거움 또한 덤이요 동시에 묘미의 원천이라고도 불리우며 특히 여성의 자궁근종은 생리통과 월경통에 의한 출혈등으로 인하여 임신중독증의 일종으로 간주되어왔다.\n",
      "여성호르몬 에스트로겐의 결핍증은 태아의 생식기능을 저해시키며 태아내의 산소부족\n",
      "Perplexity:  10.22932\n",
      "뜨개질의 즐거움 또한 덤이요 동시에 묘미의 원천이라고도 불리우며 특히 여성의 자궁근종은 생리통과 월경통에 의한 출혈등으로 인하여 임신중독증의 일종으로 간주되어왔다.\n",
      "여성호르몬 에스트로겐의 결핍증은 태아의 생식기능을 저해시키며 태아내의 산소부족\n",
      "green list 단어 개수 : 46\n",
      "red list 단어 개수 : 4\n",
      "green list 단어 비율 : 0.92\n",
      "red list 단어 비율 : 0.07999999999999996\n",
      "Z-score: 5.939696961966999\n",
      "is this sentence written by machine? True\n",
      "Perplexity:  10.22932\n",
      "prompt2 : 핸드폰 배경화면 만들기\n"
     ]
    },
    {
     "name": "stderr",
     "output_type": "stream",
     "text": [
      " 86%|████████▌ | 43/50 [00:06<00:01,  6.51it/s]\n"
     ]
    },
    {
     "name": "stdout",
     "output_type": "stream",
     "text": [
      "핸드폰 배경화면 만들기 기능을 구현해냈다.\n",
      "갤럭시(speed view)란 스마트폰 화면을 세로로 배열시키면 화면의 세로축이 자동으로 상하 방향으로 움직여 화면 크기를 좌우 조절하는 시스템이다.\n",
      "삼성전자 애니콜(samsung-collectualization Co\n",
      "Perplexity:  5.9067283\n",
      "핸드폰 배경화면 만들기 기능을 구현해냈다.\n",
      "갤럭시(speed view)란 스마트폰 화면을 세로로 배열시키면 화면의 세로축이 자동으로 상하 방향으로 움직여 화면 크기를 좌우 조절하는 시스템이다.\n",
      "삼성전자 애니콜(samsung-collectualization Co\n",
      "green list 단어 개수 : 43\n",
      "red list 단어 개수 : 7\n",
      "green list 단어 비율 : 0.86\n",
      "red list 단어 비율 : 0.14\n",
      "Z-score: 5.091168824543142\n",
      "is this sentence written by machine? True\n",
      "Perplexity:  5.9067283\n",
      "prompt2 : 지속 가능한 생활 실천\n"
     ]
    },
    {
     "name": "stderr",
     "output_type": "stream",
     "text": [
      " 92%|█████████▏| 46/50 [00:07<00:00,  6.54it/s]\n"
     ]
    },
    {
     "name": "stdout",
     "output_type": "stream",
     "text": [
      "지속 가능한 생활 실천 운동으로 자리매김되기를 기대하고 있다.</d> 전남 여수시의 해양생태계 복원 사업이 닻줄이 끊겼다.\n",
      "해수부의 해양생태계 복원 5개년 계획과 해양수산부의 해수 담수화(水營化化) 계획의 충돌 양상이 빚어지면서 여수시의 반발을 초래했다는\n",
      "Perplexity:  8.526703\n",
      "지속 가능한 생활 실천 운동으로 자리매김되기를 기대하고 있다.</d> 전남 여수시의 해양생태계 복원 사업이 닻줄이 끊겼다.\n",
      "해수부의 해양생태계 복원 5개년 계획과 해양수산부의 해수 담수화(水營化化) 계획의 충돌 양상이 빚어지면서 여수시의 반발을 초래했다는\n",
      "green list 단어 개수 : 44\n",
      "red list 단어 개수 : 6\n",
      "green list 단어 비율 : 0.88\n",
      "red list 단어 비율 : 0.12\n",
      "Z-score: 5.374011537017761\n",
      "is this sentence written by machine? True\n",
      "Perplexity:  8.526703\n",
      "prompt2 : 주방 도구 정비\n"
     ]
    },
    {
     "name": "stderr",
     "output_type": "stream",
     "text": [
      " 92%|█████████▏| 46/50 [00:07<00:00,  6.52it/s]\n"
     ]
    },
    {
     "name": "stdout",
     "output_type": "stream",
     "text": [
      "주방 도구 정비 비용 절약 효과를 기대할 만합니다.\n",
      "또 부엌 바닥에 깔개를 깔고 앉는 가구의 불편함 없애 줍줍니다.\n",
      "전기 사용량 줄일 뿐 아닙니다.\n",
      "좁은 공간에 놓인 전기요를 가스레인지로 대체해주기 때문입니다.\n",
      "설치비용 절감한 집은 보일러 교체 비용을 절감\n",
      "Perplexity:  10.565984\n",
      "주방 도구 정비 비용 절약 효과를 기대할 만합니다.\n",
      "또 부엌 바닥에 깔개를 깔고 앉는 가구의 불편함 없애 줍줍니다.\n",
      "전기 사용량 줄일 뿐 아닙니다.\n",
      "좁은 공간에 놓인 전기요를 가스레인지로 대체해주기 때문입니다.\n",
      "설치비용 절감한 집은 보일러 교체 비용을 절감\n",
      "green list 단어 개수 : 48\n",
      "red list 단어 개수 : 2\n",
      "green list 단어 비율 : 0.96\n",
      "red list 단어 비율 : 0.040000000000000036\n",
      "Z-score: 6.505382386916237\n",
      "is this sentence written by machine? True\n",
      "Perplexity:  10.565984\n",
      "prompt2 : 전통 축제 참여\n"
     ]
    },
    {
     "name": "stderr",
     "output_type": "stream",
     "text": [
      " 94%|█████████▍| 47/50 [00:07<00:00,  6.56it/s]\n"
     ]
    },
    {
     "name": "stdout",
     "output_type": "stream",
     "text": [
      "전통 축제 참여 인원을 대폭 줄인 반면 축제기간 중에는 관광객의 편의를 고려해 상시개방 체제로 변경했다.\n",
      "축제 기간에는 관광객 불편을 최소화시키기위해 임시 휴관에 들어갔으나 축제의 성공적인 개최를 기원하며 안전관리와 질서유지 대책을 철저히 이행하라고 일선 시·군과 시·군·구 민원담당\n",
      "Perplexity:  8.125711\n",
      "전통 축제 참여 인원을 대폭 줄인 반면 축제기간 중에는 관광객의 편의를 고려해 상시개방 체제로 변경했다.\n",
      "축제 기간에는 관광객 불편을 최소화시키기위해 임시 휴관에 들어갔으나 축제의 성공적인 개최를 기원하며 안전관리와 질서유지 대책을 철저히 이행하라고 일선 시·군과 시·군·구 민원담당\n",
      "green list 단어 개수 : 43\n",
      "red list 단어 개수 : 7\n",
      "green list 단어 비율 : 0.86\n",
      "red list 단어 비율 : 0.14\n",
      "Z-score: 5.091168824543142\n",
      "is this sentence written by machine? True\n",
      "Perplexity:  8.125711\n",
      "prompt2 : 친구와의 화상 통화\n"
     ]
    },
    {
     "name": "stderr",
     "output_type": "stream",
     "text": [
      " 90%|█████████ | 45/50 [00:06<00:00,  6.56it/s]\n"
     ]
    },
    {
     "name": "stdout",
     "output_type": "stream",
     "text": [
      "친구와의 화상 통화 연결음, 전화번호를 가르쳐 달라고 부탁해오기도 했는데 잘 몰랐답니다.\n",
      "전화번호부를 만들어달라고 요청해오기만 해도 연락처를 알려줄 때까지 기다려달라고 떼쓴 적도 있었는데 지금은 연락처가 없어서 연락을 끊어도 연락을 계속 받지 못했던 거\n",
      "Perplexity:  10.310006\n",
      "친구와의 화상 통화 연결음, 전화번호를 가르쳐 달라고 부탁해오기도 했는데 잘 몰랐답니다.\n",
      "전화번호부를 만들어달라고 요청해오기만 해도 연락처를 알려줄 때까지 기다려달라고 떼쓴 적도 있었는데 지금은 연락처가 없어서 연락을 끊어도 연락을 계속 받지 못했던 거\n",
      "green list 단어 개수 : 44\n",
      "red list 단어 개수 : 6\n",
      "green list 단어 비율 : 0.88\n",
      "red list 단어 비율 : 0.12\n",
      "Z-score: 5.374011537017761\n",
      "is this sentence written by machine? True\n",
      "Perplexity:  10.310006\n",
      "prompt2 : 가족 사진 정리\n"
     ]
    },
    {
     "name": "stderr",
     "output_type": "stream",
     "text": [
      " 94%|█████████▍| 47/50 [00:07<00:00,  6.54it/s]\n"
     ]
    },
    {
     "name": "stdout",
     "output_type": "stream",
     "text": [
      "가족 사진 정리함\n",
      "개인 소장품 모음집인 <우리 생애 처음으로 만나는 그대>, <아름다운 이별> 그리고, <아름답다’라는 이름의 추모 문집 <사랑이 빛나는 날의 일기>가 출간되었다.\n",
      "<우리 생애 처음으로 만난 그대>는 1991년 발표된 시집 <이별의 끝에서>를 번역한\n",
      "Perplexity:  10.415823\n",
      "가족 사진 정리함\n",
      "개인 소장품 모음집인 <우리 생애 처음으로 만나는 그대>, <아름다운 이별> 그리고, <아름답다’라는 이름의 추모 문집 <사랑이 빛나는 날의 일기>가 출간되었다.\n",
      "<우리 생애 처음으로 만난 그대>는 1991년 발표된 시집 <이별의 끝에서>를 번역한\n",
      "green list 단어 개수 : 47\n",
      "red list 단어 개수 : 3\n",
      "green list 단어 비율 : 0.94\n",
      "red list 단어 비율 : 0.06000000000000005\n",
      "Z-score: 6.222539674441618\n",
      "is this sentence written by machine? True\n",
      "Perplexity:  10.415823\n",
      "prompt2 : 주변 환경 정화 활동\n"
     ]
    },
    {
     "name": "stderr",
     "output_type": "stream",
     "text": [
      " 92%|█████████▏| 46/50 [00:06<00:00,  6.58it/s]\n"
     ]
    },
    {
     "name": "stdout",
     "output_type": "stream",
     "text": [
      "주변 환경 정화 활동 등에도 힘을 쏟는다는 계획 아래 하천정화 활동도 대대적으로 펼쳐나간다.”는 방침을 세웠다.” 며 철저한 수질 관리로 하천의 생태계를 지키겠다는 의지를 드러냈다.\n",
      "금강유역환경청은 금강 상류지역인 충북 청원군에서 대청호를 끼고 청주천과 부용천을 잇는 ‘청\n",
      "Perplexity:  5.873569\n",
      "주변 환경 정화 활동 등에도 힘을 쏟는다는 계획 아래 하천정화 활동도 대대적으로 펼쳐나간다.”는 방침을 세웠다.” 며 철저한 수질 관리로 하천의 생태계를 지키겠다는 의지를 드러냈다.\n",
      "금강유역환경청은 금강 상류지역인 충북 청원군에서 대청호를 끼고 청주천과 부용천을 잇는 ‘청\n",
      "green list 단어 개수 : 42\n",
      "red list 단어 개수 : 8\n",
      "green list 단어 비율 : 0.84\n",
      "red list 단어 비율 : 0.16000000000000003\n",
      "Z-score: 4.808326112068523\n",
      "is this sentence written by machine? True\n",
      "Perplexity:  5.873569\n",
      "prompt2 : 하루의 목표 세우기\n"
     ]
    },
    {
     "name": "stderr",
     "output_type": "stream",
     "text": [
      " 92%|█████████▏| 46/50 [00:07<00:00,  6.56it/s]\n"
     ]
    },
    {
     "name": "stdout",
     "output_type": "stream",
     "text": [
      "하루의 목표 세우기 과정으로 삼을 뿐이다.\n",
      "우여곡절은 있었지만 포기하지 않는다면 끝까지 도전하는 인내심이 필요한 까닭 이다.\n",
      "힘겹게는 실패 이후의 삶까지를 생각하면 더욱 그렇으리라.\n",
      "성공이란 무엇인가?\n",
      "인간관계에서 일어나는 갖가지 갈등과 갈등, 다툼 가운데서 성공 여부는 어디에 있을까?\n",
      "인간의 이기심,\n",
      "Perplexity:  13.480675\n",
      "하루의 목표 세우기 과정으로 삼을 뿐이다.\n",
      "우여곡절은 있었지만 포기하지 않는다면 끝까지 도전하는 인내심이 필요한 까닭 이다.\n",
      "힘겹게는 실패 이후의 삶까지를 생각하면 더욱 그렇으리라.\n",
      "성공이란 무엇인가?\n",
      "인간관계에서 일어나는 갖가지 갈등과 갈등, 다툼 가운데서 성공 여부는 어디에 있을까?\n",
      "인간의 이기심,\n",
      "green list 단어 개수 : 47\n",
      "red list 단어 개수 : 3\n",
      "green list 단어 비율 : 0.94\n",
      "red list 단어 비율 : 0.06000000000000005\n",
      "Z-score: 6.222539674441618\n",
      "is this sentence written by machine? True\n",
      "Perplexity:  13.480675\n",
      "prompt2 : 온라인 학습 코스\n"
     ]
    },
    {
     "name": "stderr",
     "output_type": "stream",
     "text": [
      " 94%|█████████▍| 47/50 [00:07<00:00,  6.54it/s]\n"
     ]
    },
    {
     "name": "stdout",
     "output_type": "stream",
     "text": [
      "온라인 학습 코스 개발, 사이버 외교사절단 파견 운영, 외국어 연수기관 설립, 재외동포 권익신장 사업, 재외국민 한국어교육, 유학생 유치 전담부서 신설·운영 등도 주요 과제로 꼽혔습니다. 라오스·캄보(필리핀·베트남·인도네시아·태국·러시아·우즈베\n",
      "Perplexity:  5.298164\n",
      "온라인 학습 코스 개발, 사이버 외교사절단 파견 운영, 외국어 연수기관 설립, 재외동포 권익신장 사업, 재외국민 한국어교육, 유학생 유치 전담부서 신설·운영 등도 주요 과제로 꼽혔습니다. 라오스·캄보(필리핀·베트남·인도네시아·태국·러시아·우즈베\n",
      "green list 단어 개수 : 40\n",
      "red list 단어 개수 : 10\n",
      "green list 단어 비율 : 0.8\n",
      "red list 단어 비율 : 0.19999999999999996\n",
      "Z-score: 4.242640687119285\n",
      "is this sentence written by machine? True\n",
      "Perplexity:  5.298164\n",
      "prompt2 : 집에서의 필라테스\n"
     ]
    },
    {
     "name": "stderr",
     "output_type": "stream",
     "text": [
      " 92%|█████████▏| 46/50 [00:07<00:00,  6.51it/s]\n"
     ]
    },
    {
     "name": "stdout",
     "output_type": "stream",
     "text": [
      "집에서의 필라테스 교육은 기본이고 몸에 밴 운동기구를 사용해 전신운동으로 전신운동과 스트레스는 줄이고 유연성도 기르되 근골격계의 균형을 잡아주기 위해서이다.\n",
      "운동기구는 인체공학적이어서 신체에 가해지는 충격을 흡수하는 성질을 지녀 충격흡수능력이 뛰어나고 탄력기능이 강하여 일상생활\n",
      "Perplexity:  9.8717\n",
      "집에서의 필라테스 교육은 기본이고 몸에 밴 운동기구를 사용해 전신운동으로 전신운동과 스트레스는 줄이고 유연성도 기르되 근골격계의 균형을 잡아주기 위해서이다.\n",
      "운동기구는 인체공학적이어서 신체에 가해지는 충격을 흡수하는 성질을 지녀 충격흡수능력이 뛰어나고 탄력기능이 강하여 일상생활\n",
      "green list 단어 개수 : 47\n",
      "red list 단어 개수 : 3\n",
      "green list 단어 비율 : 0.94\n",
      "red list 단어 비율 : 0.06000000000000005\n",
      "Z-score: 6.222539674441618\n",
      "is this sentence written by machine? True\n",
      "Perplexity:  9.8717\n",
      "prompt2 : 베란다 텃밭 가꾸기\n"
     ]
    },
    {
     "name": "stderr",
     "output_type": "stream",
     "text": [
      " 84%|████████▍ | 42/50 [00:06<00:01,  6.56it/s]\n"
     ]
    },
    {
     "name": "stdout",
     "output_type": "stream",
     "text": [
      "베란다 텃밭 가꾸기 행사’도 마련했다.\n",
      "박람회에서는 다육식물이 자라는 모습과 다육식물로 장식한 조형물도 설치했다.\n",
      "박람회 둘째 날은 박람회장 한쪽에 조성한 야생국화 정원을 배경으로 국화 꽃잎 모양을 본뜬 장미 터널 모형을 설치하고 꽃의 개화시기를 알리는 엽서·엽\n",
      "Perplexity:  11.116936\n",
      "베란다 텃밭 가꾸기 행사’도 마련했다.\n",
      "박람회에서는 다육식물이 자라는 모습과 다육식물로 장식한 조형물도 설치했다.\n",
      "박람회 둘째 날은 박람회장 한쪽에 조성한 야생국화 정원을 배경으로 국화 꽃잎 모양을 본뜬 장미 터널 모형을 설치하고 꽃의 개화시기를 알리는 엽서·엽\n",
      "green list 단어 개수 : 43\n",
      "red list 단어 개수 : 7\n",
      "green list 단어 비율 : 0.86\n",
      "red list 단어 비율 : 0.14\n",
      "Z-score: 5.091168824543142\n",
      "is this sentence written by machine? True\n",
      "Perplexity:  11.116936\n",
      "prompt2 : 평화로운 아침 산책\n"
     ]
    },
    {
     "name": "stderr",
     "output_type": "stream",
     "text": [
      " 92%|█████████▏| 46/50 [00:06<00:00,  6.60it/s]\n"
     ]
    },
    {
     "name": "stdout",
     "output_type": "stream",
     "text": [
      "평화로운 아침 산책길이 만들어질 것\"이라고 덧붙였다. 가족은 아들 내외와 딸 내외 언니와 사위 사촌 오빠 2명을 두고 태어난 막내딸 은희(9)양과 조카며느리(7)군, 막내딸 은숙(5)군도 포함되나 언니의 남편은 아직 확인되지 않았다. 가족은 셋째\n",
      "Perplexity:  9.076159\n",
      "평화로운 아침 산책길이 만들어질 것\"이라고 덧붙였다. 가족은 아들 내외와 딸 내외 언니와 사위 사촌 오빠 2명을 두고 태어난 막내딸 은희(9)양과 조카며느리(7)군, 막내딸 은숙(5)군도 포함되나 언니의 남편은 아직 확인되지 않았다. 가족은 셋째\n",
      "green list 단어 개수 : 45\n",
      "red list 단어 개수 : 5\n",
      "green list 단어 비율 : 0.9\n",
      "red list 단어 비율 : 0.09999999999999998\n",
      "Z-score: 5.65685424949238\n",
      "is this sentence written by machine? True\n",
      "Perplexity:  9.076159\n",
      "prompt2 : 친구와의 장거리 여행 계획\n"
     ]
    },
    {
     "name": "stderr",
     "output_type": "stream",
     "text": [
      " 90%|█████████ | 45/50 [00:06<00:00,  6.57it/s]\n"
     ]
    },
    {
     "name": "stdout",
     "output_type": "stream",
     "text": [
      "친구와의 장거리 여행 계획 여부를 확인하기 어렵다면 여행을 취소시켜야 한다고 충고한 적이 있는가?\n",
      "여행계획이 없거나 아예 없으면, 여행을 떠날 의사가 없다면 일단 여행을 떠나보는 쪽을 선택하라고 권고한다(예: 비행기 값 상승)나 혹은 약간의 자금 소요(예를 들면 세금 환급 등)\n",
      "Perplexity:  14.7954645\n",
      "친구와의 장거리 여행 계획 여부를 확인하기 어렵다면 여행을 취소시켜야 한다고 충고한 적이 있는가?\n",
      "여행계획이 없거나 아예 없으면, 여행을 떠날 의사가 없다면 일단 여행을 떠나보는 쪽을 선택하라고 권고한다(예: 비행기 값 상승)나 혹은 약간의 자금 소요(예를 들면 세금 환급 등)\n",
      "green list 단어 개수 : 44\n",
      "red list 단어 개수 : 6\n",
      "green list 단어 비율 : 0.88\n",
      "red list 단어 비율 : 0.12\n",
      "Z-score: 5.374011537017761\n",
      "is this sentence written by machine? True\n",
      "Perplexity:  14.7954645\n",
      "prompt2 : 커피숍에서의 독서\n"
     ]
    },
    {
     "name": "stderr",
     "output_type": "stream",
     "text": [
      " 92%|█████████▏| 46/50 [00:07<00:00,  6.55it/s]\n"
     ]
    },
    {
     "name": "stdout",
     "output_type": "stream",
     "text": [
      "커피숍에서의 독서습관이나 생활방식을 바꾸든지 아니면 취미생활과 취미생활에 충실하느냐에 따라서도 달라진다.\n",
      "일상생활에서 접하는 대부분의 서적목록들을 정리해 보자.\n",
      "책을 읽을 때의 태도와 태도는 어떠한가?\n",
      "책이 가지고 있어야 배울 내용이 무엇인지 정확하게 알고 있는지를 파악하고 있는가?\n",
      "책, 그중에서도 수필집의\n",
      "Perplexity:  10.144053\n",
      "커피숍에서의 독서습관이나 생활방식을 바꾸든지 아니면 취미생활과 취미생활에 충실하느냐에 따라서도 달라진다.\n",
      "일상생활에서 접하는 대부분의 서적목록들을 정리해 보자.\n",
      "책을 읽을 때의 태도와 태도는 어떠한가?\n",
      "책이 가지고 있어야 배울 내용이 무엇인지 정확하게 알고 있는지를 파악하고 있는가?\n",
      "책, 그중에서도 수필집의\n",
      "green list 단어 개수 : 47\n",
      "red list 단어 개수 : 3\n",
      "green list 단어 비율 : 0.94\n",
      "red list 단어 비율 : 0.06000000000000005\n",
      "Z-score: 6.222539674441618\n",
      "is this sentence written by machine? True\n",
      "Perplexity:  10.144053\n",
      "prompt2 : 로컬 음식 시도\n"
     ]
    },
    {
     "name": "stderr",
     "output_type": "stream",
     "text": [
      " 92%|█████████▏| 46/50 [00:07<00:00,  6.57it/s]\n"
     ]
    },
    {
     "name": "stdout",
     "output_type": "stream",
     "text": [
      "로컬 음식 시도 금지 규정을 위반했는지 여부에 대해서도 조사를 벌이고 있다고 교도 통신 등은 지적했다.\n",
      "교도통신 신문은 아베 신조 총리가 후쿠오카현을 방문한 니카이 도시미(新井敏充·경제산업상도 동일집단 거주 지역인 후쿠오카현을 방문하는 길에 이시카와현(\n",
      "Perplexity:  6.4873023\n",
      "로컬 음식 시도 금지 규정을 위반했는지 여부에 대해서도 조사를 벌이고 있다고 교도 통신 등은 지적했다.\n",
      "교도통신 신문은 아베 신조 총리가 후쿠오카현을 방문한 니카이 도시미(新井敏充·경제산업상도 동일집단 거주 지역인 후쿠오카현을 방문하는 길에 이시카와현(\n",
      "green list 단어 개수 : 40\n",
      "red list 단어 개수 : 10\n",
      "green list 단어 비율 : 0.8\n",
      "red list 단어 비율 : 0.19999999999999996\n",
      "Z-score: 4.242640687119285\n",
      "is this sentence written by machine? True\n",
      "Perplexity:  6.4873023\n",
      "prompt2 : 스마트폰 사진술\n"
     ]
    },
    {
     "name": "stderr",
     "output_type": "stream",
     "text": [
      " 94%|█████████▍| 47/50 [00:07<00:00,  6.57it/s]\n"
     ]
    },
    {
     "name": "stdout",
     "output_type": "stream",
     "text": [
      "스마트폰 사진술 강의 수강생이 급증세를 나타내고 있고, 취업사이트 파워잡 채용공고수도 역대 최고치에 이르고 있어 주목받고 있다\\​​​\n",
      "채용절차 관련 상세설명 ▶ 이력서(서류작성)/직무소개 ▶ 인적성/외국어 성적증명서 첨부\n",
      "Perplexity:  7.811346\n",
      "스마트폰 사진술 강의 수강생이 급증세를 나타내고 있고, 취업사이트 파워잡 채용공고수도 역대 최고치에 이르고 있어 주목받고 있다\\​​​\n",
      "채용절차 관련 상세설명 ▶ 이력서(서류작성)/직무소개 ▶ 인적성/외국어 성적증명서 첨부\n",
      "green list 단어 개수 : 41\n",
      "red list 단어 개수 : 9\n",
      "green list 단어 비율 : 0.82\n",
      "red list 단어 비율 : 0.18000000000000005\n",
      "Z-score: 4.525483399593904\n",
      "is this sentence written by machine? True\n",
      "Perplexity:  7.811346\n",
      "prompt2 : 주변 사람들과의 교류\n"
     ]
    },
    {
     "name": "stderr",
     "output_type": "stream",
     "text": [
      " 92%|█████████▏| 46/50 [00:06<00:00,  6.57it/s]\n"
     ]
    },
    {
     "name": "stdout",
     "output_type": "stream",
     "text": [
      "주변 사람들과의 교류 활성화를 꾀하는 자리로 꾸려졌으며 200여명의 주민이 참석했다.\n",
      "춘천YMCA 사무총장인 이영탁 춘천YMCA 사무총장과 이광준 춘천지방법원장 권한대행 변호사, 이광준 원주지방법원사 판사 등이, 강원일보 편집국 간부 10여 명도 참석했다.\n",
      "춘천지검은\n",
      "Perplexity:  7.6992464\n",
      "주변 사람들과의 교류 활성화를 꾀하는 자리로 꾸려졌으며 200여명의 주민이 참석했다.\n",
      "춘천YMCA 사무총장인 이영탁 춘천YMCA 사무총장과 이광준 춘천지방법원장 권한대행 변호사, 이광준 원주지방법원사 판사 등이, 강원일보 편집국 간부 10여 명도 참석했다.\n",
      "춘천지검은\n",
      "green list 단어 개수 : 35\n",
      "red list 단어 개수 : 15\n",
      "green list 단어 비율 : 0.7\n",
      "red list 단어 비율 : 0.30000000000000004\n",
      "Z-score: 2.82842712474619\n",
      "is this sentence written by machine? False\n",
      "Perplexity:  7.6992464\n",
      "prompt2 : 홈 오피스 최적화\n"
     ]
    },
    {
     "name": "stderr",
     "output_type": "stream",
     "text": [
      " 90%|█████████ | 45/50 [00:06<00:00,  6.61it/s]\n"
     ]
    },
    {
     "name": "stdout",
     "output_type": "stream",
     "text": [
      "홈 오피스 최적화 서비스로 사용자 편의성을 높였으며 안드로이드OS 태블릿 사용자 특성에 최적화시킨 최신 안드로이드 OS. iOS 태블렛 기반 웹 표준 규격(UI)으로 구동됨을 확인 가능하게 하여 윈도의 장점을 완벽하게 결합한 완벽한 하드웨어와\n",
      "Perplexity:  7.603733\n",
      "홈 오피스 최적화 서비스로 사용자 편의성을 높였으며 안드로이드OS 태블릿 사용자 특성에 최적화시킨 최신 안드로이드 OS. iOS 태블렛 기반 웹 표준 규격(UI)으로 구동됨을 확인 가능하게 하여 윈도의 장점을 완벽하게 결합한 완벽한 하드웨어와\n",
      "green list 단어 개수 : 44\n",
      "red list 단어 개수 : 6\n",
      "green list 단어 비율 : 0.88\n",
      "red list 단어 비율 : 0.12\n",
      "Z-score: 5.374011537017761\n",
      "is this sentence written by machine? True\n",
      "Perplexity:  7.603733\n",
      "prompt2 : 스트리트 아트 감상\n"
     ]
    },
    {
     "name": "stderr",
     "output_type": "stream",
     "text": [
      " 92%|█████████▏| 46/50 [00:07<00:00,  6.56it/s]\n"
     ]
    },
    {
     "name": "stdout",
     "output_type": "stream",
     "text": [
      "스트리트 아트 감상 공간’으로 변신시킨다.\n",
      "시즌 오프 스페이스 서울의 유일한 야외조각극장 ‘아레나(Arena)’가 9월 중순 재개관에 들어간다.\n",
      "아르헨티나와 칠레 출신의 세계적인 조각가(제프 루이스 그라치아노프·이사장 안드레아스 아르투르지오)가 작업\n",
      "Perplexity:  9.965056\n",
      "스트리트 아트 감상 공간’으로 변신시킨다.\n",
      "시즌 오프 스페이스 서울의 유일한 야외조각극장 ‘아레나(Arena)’가 9월 중순 재개관에 들어간다.\n",
      "아르헨티나와 칠레 출신의 세계적인 조각가(제프 루이스 그라치아노프·이사장 안드레아스 아르투르지오)가 작업\n",
      "green list 단어 개수 : 44\n",
      "red list 단어 개수 : 7\n",
      "green list 단어 비율 : 0.8627450980392157\n",
      "red list 단어 비율 : 0.13725490196078427\n",
      "Z-score: 5.181036310903636\n",
      "is this sentence written by machine? True\n",
      "Perplexity:  9.965056\n",
      "prompt2 : 새로운 헤어스타일 시도\n"
     ]
    },
    {
     "name": "stderr",
     "output_type": "stream",
     "text": [
      " 90%|█████████ | 45/50 [00:06<00:00,  6.57it/s]\n"
     ]
    },
    {
     "name": "stdout",
     "output_type": "stream",
     "text": [
      "새로운 헤어스타일 시도'라는 설문결과를 발표해 주목을 끌었다.\n",
      "설문조사 결과를 살펴보면, 남성 선호 색상 1위를 차지한 오렌지색은 여성스러움을 강조하면서 강렬한 레드 계열의 브라운 톤 의상을 입어 여성들이 선호하는 색상이다.\n",
      "브라운은 파스텔톤 계통의 블루계열의 컬러 보다는 밝고 경쾌한 느낌을 주면서\n",
      "Perplexity:  7.4943695\n",
      "새로운 헤어스타일 시도'라는 설문결과를 발표해 주목을 끌었다.\n",
      "설문조사 결과를 살펴보면, 남성 선호 색상 1위를 차지한 오렌지색은 여성스러움을 강조하면서 강렬한 레드 계열의 브라운 톤 의상을 입어 여성들이 선호하는 색상이다.\n",
      "브라운은 파스텔톤 계통의 블루계열의 컬러 보다는 밝고 경쾌한 느낌을 주면서\n",
      "green list 단어 개수 : 46\n",
      "red list 단어 개수 : 4\n",
      "green list 단어 비율 : 0.92\n",
      "red list 단어 비율 : 0.07999999999999996\n",
      "Z-score: 5.939696961966999\n",
      "is this sentence written by machine? True\n",
      "Perplexity:  7.4943695\n",
      "prompt2 : 집에서의 영화 마라톤\n"
     ]
    },
    {
     "name": "stderr",
     "output_type": "stream",
     "text": [
      " 92%|█████████▏| 46/50 [00:07<00:00,  6.56it/s]\n"
     ]
    },
    {
     "name": "stdout",
     "output_type": "stream",
     "text": [
      "집에서의 영화 마라톤 대회가 열린다.\n",
      "전국 아마추어 마라톤의 메카 전북 익산시를 출발해 군산마라톤대회에 참가한 선수들이 완주에 이르는 왕복 8km 구간 마라톤 경기가 펼쳐진다.\n",
      "순천향대부흥마라톤, 목포해상마라톤, 영암해상산악연맹 주관 제3회 순천매화국제매화\n",
      "Perplexity:  7.8198676\n",
      "집에서의 영화 마라톤 대회가 열린다.\n",
      "전국 아마추어 마라톤의 메카 전북 익산시를 출발해 군산마라톤대회에 참가한 선수들이 완주에 이르는 왕복 8km 구간 마라톤 경기가 펼쳐진다.\n",
      "순천향대부흥마라톤, 목포해상마라톤, 영암해상산악연맹 주관 제3회 순천매화국제매화\n",
      "green list 단어 개수 : 44\n",
      "red list 단어 개수 : 6\n",
      "green list 단어 비율 : 0.88\n",
      "red list 단어 비율 : 0.12\n",
      "Z-score: 5.374011537017761\n",
      "is this sentence written by machine? True\n",
      "Perplexity:  7.8198676\n",
      "prompt2 : 시골 마을 여행\n"
     ]
    },
    {
     "name": "stderr",
     "output_type": "stream",
     "text": [
      " 94%|█████████▍| 47/50 [00:07<00:00,  6.58it/s]\n"
     ]
    },
    {
     "name": "stdout",
     "output_type": "stream",
     "text": [
      "시골 마을 여행길은 온통 흙투성이였지만 마을은 온통 진흙 덩어리였고 군데군데 움푹 파인 곳에는 온갖 쓰레기가 널려 있었으며 여기저기 엉켜버린 흔적들만 남았다.\n",
      "사람들이 버린 것들은 하나도 남아있지 않았으며 아무것도 발견되지 않았기 대문 밖에 쌓아올린 것들도 더러 발견되었다.\n",
      "흙더미 위에는 자갈\n",
      "Perplexity:  10.720369\n",
      "시골 마을 여행길은 온통 흙투성이였지만 마을은 온통 진흙 덩어리였고 군데군데 움푹 파인 곳에는 온갖 쓰레기가 널려 있었으며 여기저기 엉켜버린 흔적들만 남았다.\n",
      "사람들이 버린 것들은 하나도 남아있지 않았으며 아무것도 발견되지 않았기 대문 밖에 쌓아올린 것들도 더러 발견되었다.\n",
      "흙더미 위에는 자갈\n",
      "green list 단어 개수 : 45\n",
      "red list 단어 개수 : 5\n",
      "green list 단어 비율 : 0.9\n",
      "red list 단어 비율 : 0.09999999999999998\n",
      "Z-score: 5.65685424949238\n",
      "is this sentence written by machine? True\n",
      "Perplexity:  10.720369\n",
      "prompt2 : 가족 요리 대결\n"
     ]
    },
    {
     "name": "stderr",
     "output_type": "stream",
     "text": [
      " 94%|█████████▍| 47/50 [00:07<00:00,  6.56it/s]\n"
     ]
    },
    {
     "name": "stdout",
     "output_type": "stream",
     "text": [
      "가족 요리 대결전을 벌이던 도중 갑자기 튀어나온 칼잡이에게 당해 쓰러졌다가 간신히 탈출했지만 또다시 칼을 휘두르다 칼날이 닿았다고 전해진다.\n",
      "칼잡이 켄드릭 윌리엄스는 생전에 칼싸움 장면을 찍은 동영상 비디오 테이프 2개를 남겼으나, 테러범 체포 작전을\n",
      "Perplexity:  14.032419\n",
      "가족 요리 대결전을 벌이던 도중 갑자기 튀어나온 칼잡이에게 당해 쓰러졌다가 간신히 탈출했지만 또다시 칼을 휘두르다 칼날이 닿았다고 전해진다.\n",
      "칼잡이 켄드릭 윌리엄스는 생전에 칼싸움 장면을 찍은 동영상 비디오 테이프 2개를 남겼으나, 테러범 체포 작전을\n",
      "green list 단어 개수 : 46\n",
      "red list 단어 개수 : 4\n",
      "green list 단어 비율 : 0.92\n",
      "red list 단어 비율 : 0.07999999999999996\n",
      "Z-score: 5.939696961966999\n",
      "is this sentence written by machine? True\n",
      "Perplexity:  14.032419\n",
      "prompt2 : 집안 고장 난 물건 수리\n"
     ]
    },
    {
     "name": "stderr",
     "output_type": "stream",
     "text": [
      " 90%|█████████ | 45/50 [00:06<00:00,  6.62it/s]\n"
     ]
    },
    {
     "name": "stdout",
     "output_type": "stream",
     "text": [
      "집안 고장 난 물건 수리비를 청구하느냐\", \"나는 고장 났느냐\", \"나는 고장났느냐\"라는 식의 질문조로 일관하다가, 나중에는 감정이 격해지기까지 했다는 이야기가 전해져 주위를 놀라게 만들기도 하였다\n",
      "(조지아주, 조지아주의 원주민 보호구역 보호구역 보호구역 해제 주장 비판 여론\n",
      "Perplexity:  11.846371\n",
      "집안 고장 난 물건 수리비를 청구하느냐\", \"나는 고장 났느냐\", \"나는 고장났느냐\"라는 식의 질문조로 일관하다가, 나중에는 감정이 격해지기까지 했다는 이야기가 전해져 주위를 놀라게 만들기도 하였다\n",
      "(조지아주, 조지아주의 원주민 보호구역 보호구역 보호구역 해제 주장 비판 여론\n",
      "green list 단어 개수 : 44\n",
      "red list 단어 개수 : 5\n",
      "green list 단어 비율 : 0.8979591836734694\n",
      "red list 단어 비율 : 0.10204081632653061\n",
      "Z-score: 5.571428571428571\n",
      "is this sentence written by machine? True\n",
      "Perplexity:  11.846371\n",
      "prompt2 : 친구와 함께하는 쇼핑\n"
     ]
    },
    {
     "name": "stderr",
     "output_type": "stream",
     "text": [
      " 90%|█████████ | 45/50 [00:06<00:00,  6.53it/s]\n"
     ]
    },
    {
     "name": "stdout",
     "output_type": "stream",
     "text": [
      "친구와 함께하는 쇼핑투어에 나선 주인공 이지혜(38·여·서울 서초구 반포동2가 34번지 일대 재건축 아파트 재건축 조합원이다.\n",
      "이지혜의 부모는 1998년 부모를 여의고 어렵게 생계를 유지해 오던 차에 친척동생 이지혜(48·지휘·명지대 회화과·4년\n",
      "Perplexity:  8.983574\n",
      "친구와 함께하는 쇼핑투어에 나선 주인공 이지혜(38·여·서울 서초구 반포동2가 34번지 일대 재건축 아파트 재건축 조합원이다.\n",
      "이지혜의 부모는 1998년 부모를 여의고 어렵게 생계를 유지해 오던 차에 친척동생 이지혜(48·지휘·명지대 회화과·4년\n",
      "green list 단어 개수 : 46\n",
      "red list 단어 개수 : 4\n",
      "green list 단어 비율 : 0.92\n",
      "red list 단어 비율 : 0.07999999999999996\n",
      "Z-score: 5.939696961966999\n",
      "is this sentence written by machine? True\n",
      "Perplexity:  8.983574\n",
      "prompt2 : 재활용 프로젝트 참여\n"
     ]
    },
    {
     "name": "stderr",
     "output_type": "stream",
     "text": [
      " 94%|█████████▍| 47/50 [00:07<00:00,  6.58it/s]\n"
     ]
    },
    {
     "name": "stdout",
     "output_type": "stream",
     "text": [
      "재활용 프로젝트 참여 기업과 협력을 강화하기로 합의했고 인도네시아 자카르타 항만청을 방문해 항만·물류에너지 분야에 진출 협력방안을 논의한다. 아세안(ASEAN·동아시아국가연합)과의 자유무역협정(FATA·나프타와 Framio Agreement Part\n",
      "Perplexity:  4.5628934\n",
      "재활용 프로젝트 참여 기업과 협력을 강화하기로 합의했고 인도네시아 자카르타 항만청을 방문해 항만·물류에너지 분야에 진출 협력방안을 논의한다. 아세안(ASEAN·동아시아국가연합)과의 자유무역협정(FATA·나프타와 Framio Agreement Part\n",
      "green list 단어 개수 : 45\n",
      "red list 단어 개수 : 5\n",
      "green list 단어 비율 : 0.9\n",
      "red list 단어 비율 : 0.09999999999999998\n",
      "Z-score: 5.65685424949238\n",
      "is this sentence written by machine? True\n",
      "Perplexity:  4.5628934\n",
      "prompt2 : 커뮤니티 정원 가꾸기\n"
     ]
    },
    {
     "name": "stderr",
     "output_type": "stream",
     "text": [
      " 90%|█████████ | 45/50 [00:06<00:00,  6.60it/s]\n"
     ]
    },
    {
     "name": "stdout",
     "output_type": "stream",
     "text": [
      "커뮤니티 정원 가꾸기 운동, 재활용 분리배출운동, 재활용 분리용기 사용, 비닐하우스 철거작업 등이며, 폐기물 배출신고 스티커를 붙임으로써 신고자에게는 과태료(90g/600원) 부과처분 면제(상한 250~330m2) 혜택을 주기로 결정했다.\n",
      "재활용이\n",
      "Perplexity:  8.017802\n",
      "커뮤니티 정원 가꾸기 운동, 재활용 분리배출운동, 재활용 분리용기 사용, 비닐하우스 철거작업 등이며, 폐기물 배출신고 스티커를 붙임으로써 신고자에게는 과태료(90g/600원) 부과처분 면제(상한 250~330m2) 혜택을 주기로 결정했다.\n",
      "재활용이\n",
      "green list 단어 개수 : 41\n",
      "red list 단어 개수 : 9\n",
      "green list 단어 비율 : 0.82\n",
      "red list 단어 비율 : 0.18000000000000005\n",
      "Z-score: 4.525483399593904\n",
      "is this sentence written by machine? True\n",
      "Perplexity:  8.017802\n",
      "prompt2 : 개인 재정 관리\n"
     ]
    },
    {
     "name": "stderr",
     "output_type": "stream",
     "text": [
      " 94%|█████████▍| 47/50 [00:07<00:00,  6.55it/s]\n"
     ]
    },
    {
     "name": "stdout",
     "output_type": "stream",
     "text": [
      "개인 재정 관리 능력에 의문을 품고 있었음이 드러난다.\n",
      "재무 관리는 부실 채권 매입 자금을 조달하려는 기관투자가들로부터 빌린 차입금의 상환 독촉 수단이었고, 은행은 예금 인출 사태를 막을 수단이 필요했다.\n",
      "은행의 대차대조표는 은행의 재무 통제 능력의 한계점에 도달했으므로 은행 내부의 도덕적 책임은 전적으로\n",
      "Perplexity:  10.867736\n",
      "개인 재정 관리 능력에 의문을 품고 있었음이 드러난다.\n",
      "재무 관리는 부실 채권 매입 자금을 조달하려는 기관투자가들로부터 빌린 차입금의 상환 독촉 수단이었고, 은행은 예금 인출 사태를 막을 수단이 필요했다.\n",
      "은행의 대차대조표는 은행의 재무 통제 능력의 한계점에 도달했으므로 은행 내부의 도덕적 책임은 전적으로\n",
      "green list 단어 개수 : 45\n",
      "red list 단어 개수 : 5\n",
      "green list 단어 비율 : 0.9\n",
      "red list 단어 비율 : 0.09999999999999998\n",
      "Z-score: 5.65685424949238\n",
      "is this sentence written by machine? True\n",
      "Perplexity:  10.867736\n",
      "prompt2 : 차량 관리와 유지\n"
     ]
    },
    {
     "name": "stderr",
     "output_type": "stream",
     "text": [
      " 94%|█████████▍| 47/50 [00:07<00:00,  6.58it/s]\n"
     ]
    },
    {
     "name": "stdout",
     "output_type": "stream",
     "text": [
      "차량 관리와 유지보수를 소홀히 해서는 절대 근절되지 않는다는 교훈을 새겨둬달라\"는 주문사항을 쏟아냈습니다.\n",
      "기자] 네슬레는 브라질 월드컵 공식 스폰서로서 브라질의 뜨거운 축구팬들과 언론의 찬사를 받으며 월드컵 본선에서 선전했고, 코카콜라 역시 펩시와 어깨를 나란히\n",
      "Perplexity:  7.155567\n",
      "차량 관리와 유지보수를 소홀히 해서는 절대 근절되지 않는다는 교훈을 새겨둬달라\"는 주문사항을 쏟아냈습니다.\n",
      "기자] 네슬레는 브라질 월드컵 공식 스폰서로서 브라질의 뜨거운 축구팬들과 언론의 찬사를 받으며 월드컵 본선에서 선전했고, 코카콜라 역시 펩시와 어깨를 나란히\n",
      "green list 단어 개수 : 44\n",
      "red list 단어 개수 : 6\n",
      "green list 단어 비율 : 0.88\n",
      "red list 단어 비율 : 0.12\n",
      "Z-score: 5.374011537017761\n",
      "is this sentence written by machine? True\n",
      "Perplexity:  7.155567\n",
      "prompt2 : 올드테크 아이템 수집\n"
     ]
    },
    {
     "name": "stderr",
     "output_type": "stream",
     "text": [
      " 88%|████████▊ | 44/50 [00:06<00:00,  6.62it/s]\n"
     ]
    },
    {
     "name": "stdout",
     "output_type": "stream",
     "text": [
      "올드테크 아이템 수집욕구를 불러일으키는 소셜 미디어 콘텐츠 제작을 지원하고 소셜 미디어업체를 지원하는 비영리 재단법인 ‘한국미디어재단’의 설립을 도왔다.\n",
      "미디어재단 설립 실무를 총괄지휘했던 김인호 한국방송광고공사 본부장(58·연수원 16·19∼19대·고려\n",
      "Perplexity:  7.440273\n",
      "올드테크 아이템 수집욕구를 불러일으키는 소셜 미디어 콘텐츠 제작을 지원하고 소셜 미디어업체를 지원하는 비영리 재단법인 ‘한국미디어재단’의 설립을 도왔다.\n",
      "미디어재단 설립 실무를 총괄지휘했던 김인호 한국방송광고공사 본부장(58·연수원 16·19∼19대·고려\n",
      "green list 단어 개수 : 41\n",
      "red list 단어 개수 : 8\n",
      "green list 단어 비율 : 0.8367346938775511\n",
      "red list 단어 비율 : 0.16326530612244894\n",
      "Z-score: 4.714285714285714\n",
      "is this sentence written by machine? True\n",
      "Perplexity:  7.440273\n",
      "prompt2 : 반려동물의 건강 관리\n"
     ]
    },
    {
     "name": "stderr",
     "output_type": "stream",
     "text": [
      " 90%|█████████ | 45/50 [00:06<00:00,  6.58it/s]\n"
     ]
    },
    {
     "name": "stdout",
     "output_type": "stream",
     "text": [
      "반려동물의 건강 관리 실태를 파악하기 어려웠다.\n",
      "보건복지부에 다르푸르 분쟁 해결을 의뢰했으나 스리랑카의 중재위원회가 개입하기는 어려웠다.\n",
      "분쟁 당사자였던 케냐 정부는 자국 대사관을 동원해 분쟁 당사국인 에티오피아 정부에 도움을 요청했다.\n",
      "분쟁 당사자의 요청을 받아들여 외교 경로를 폐쇄·봉쇄 조처했으나,\n",
      "Perplexity:  9.582804\n",
      "반려동물의 건강 관리 실태를 파악하기 어려웠다.\n",
      "보건복지부에 다르푸르 분쟁 해결을 의뢰했으나 스리랑카의 중재위원회가 개입하기는 어려웠다.\n",
      "분쟁 당사자였던 케냐 정부는 자국 대사관을 동원해 분쟁 당사국인 에티오피아 정부에 도움을 요청했다.\n",
      "분쟁 당사자의 요청을 받아들여 외교 경로를 폐쇄·봉쇄 조처했으나,\n",
      "green list 단어 개수 : 43\n",
      "red list 단어 개수 : 7\n",
      "green list 단어 비율 : 0.86\n",
      "red list 단어 비율 : 0.14\n",
      "Z-score: 5.091168824543142\n",
      "is this sentence written by machine? True\n",
      "Perplexity:  9.582804\n",
      "prompt2 : 일상 속 작은 모험 찾기\n"
     ]
    },
    {
     "name": "stderr",
     "output_type": "stream",
     "text": [
      " 90%|█████████ | 45/50 [00:06<00:00,  6.59it/s]\n"
     ]
    },
    {
     "name": "stdout",
     "output_type": "stream",
     "text": [
      "일상 속 작은 모험 찾기 같은 것들이다.\n",
      "이야기적 모험이야기는 때로 상상력을 자극시키기도 하지만, 이야기의 소재가 되기도 하지요.\n",
      "어떤 이야기는 이야기의 소재를 차용하는데, 이를테면 우리가 흔히 생각하는 이야기 구조는 대개 소설의 줄거리예요.\n",
      "소설을 쓰는 사람들은 이야기에 나오는 인물들이 겪는 고통을 생생하게 표현하기 때문이에요.\n",
      "소설 속의\n",
      "Perplexity:  18.678064\n",
      "일상 속 작은 모험 찾기 같은 것들이다.\n",
      "이야기적 모험이야기는 때로 상상력을 자극시키기도 하지만, 이야기의 소재가 되기도 하지요.\n",
      "어떤 이야기는 이야기의 소재를 차용하는데, 이를테면 우리가 흔히 생각하는 이야기 구조는 대개 소설의 줄거리예요.\n",
      "소설을 쓰는 사람들은 이야기에 나오는 인물들이 겪는 고통을 생생하게 표현하기 때문이에요.\n",
      "소설 속의\n",
      "green list 단어 개수 : 47\n",
      "red list 단어 개수 : 3\n",
      "green list 단어 비율 : 0.94\n",
      "red list 단어 비율 : 0.06000000000000005\n",
      "Z-score: 6.222539674441618\n",
      "is this sentence written by machine? True\n",
      "Perplexity:  18.678064\n",
      "prompt2 : 스트레스 관리 방법\n"
     ]
    },
    {
     "name": "stderr",
     "output_type": "stream",
     "text": [
      " 94%|█████████▍| 47/50 [00:07<00:00,  6.59it/s]\n"
     ]
    },
    {
     "name": "stdout",
     "output_type": "stream",
     "text": [
      "스트레스 관리 방법론을 제시하는 임상심리학자인 폴 마틴 교수가 고안한 심리요법 방법이다.\n",
      "심리학계에서 보편적으로 사용하고 사용되고 널리 이용되는 심리요법 방법으로는 약물치료(consultant level or diod)라고 불리며 약물 투여 후에 나타나는 통증반응을 억제하는 약물을 사용한다.\n",
      "물리 치료는 통증을\n",
      "Perplexity:  9.3210745\n",
      "스트레스 관리 방법론을 제시하는 임상심리학자인 폴 마틴 교수가 고안한 심리요법 방법이다.\n",
      "심리학계에서 보편적으로 사용하고 사용되고 널리 이용되는 심리요법 방법으로는 약물치료(consultant level or diod)라고 불리며 약물 투여 후에 나타나는 통증반응을 억제하는 약물을 사용한다.\n",
      "물리 치료는 통증을\n",
      "green list 단어 개수 : 46\n",
      "red list 단어 개수 : 4\n",
      "green list 단어 비율 : 0.92\n",
      "red list 단어 비율 : 0.07999999999999996\n",
      "Z-score: 5.939696961966999\n",
      "is this sentence written by machine? True\n",
      "Perplexity:  9.3210745\n",
      "prompt2 : 지역사회와의 소통 강화\n"
     ]
    },
    {
     "name": "stderr",
     "output_type": "stream",
     "text": [
      " 92%|█████████▏| 46/50 [00:07<00:00,  6.54it/s]\n"
     ]
    },
    {
     "name": "stdout",
     "output_type": "stream",
     "text": [
      "지역사회와의 소통 강화 및 지역사회 공헌을 촉진하기 위해 노력한 공로를 인정받았다.\n",
      "쌍방울 임직원 모임인 굿윌굿윌굿네이처는 1999년 설립되어 매월 첫째 주에 모여 이웃사랑의 정을 나누고, 정기적인 봉사기간에 걸쳐 소외 계층 가정을 찾아가 명절 음식과 부식세트 배달 봉투를\n",
      "Perplexity:  8.296552\n",
      "지역사회와의 소통 강화 및 지역사회 공헌을 촉진하기 위해 노력한 공로를 인정받았다.\n",
      "쌍방울 임직원 모임인 굿윌굿윌굿네이처는 1999년 설립되어 매월 첫째 주에 모여 이웃사랑의 정을 나누고, 정기적인 봉사기간에 걸쳐 소외 계층 가정을 찾아가 명절 음식과 부식세트 배달 봉투를\n",
      "green list 단어 개수 : 47\n",
      "red list 단어 개수 : 3\n",
      "green list 단어 비율 : 0.94\n",
      "red list 단어 비율 : 0.06000000000000005\n",
      "Z-score: 6.222539674441618\n",
      "is this sentence written by machine? True\n",
      "Perplexity:  8.296552\n",
      "prompt2 : 가족과의 소중한 대화\n"
     ]
    },
    {
     "name": "stderr",
     "output_type": "stream",
     "text": [
      " 92%|█████████▏| 46/50 [00:07<00:00,  6.56it/s]\n"
     ]
    },
    {
     "name": "stdout",
     "output_type": "stream",
     "text": [
      "가족과의 소중한 대화 기회를 갖지 못했다는 아쉬움은 컸다.\n",
      "평상시엔 부모님의 간섭받지 않기 바빴는지, 평소 친밀하게 지냈는지를 묻고 싶은 마음이 굴뚝 같았다.\n",
      "부모님은 딸이 학교에 다닐 때부터 줄곧 곁에 머물렀다.\n",
      "초등학교 시절에는 선생님의 권유로 학급 친구들과 어울리는 친구가 생겼다.\n",
      "\n",
      "Perplexity:  10.638528\n",
      "가족과의 소중한 대화 기회를 갖지 못했다는 아쉬움은 컸다.\n",
      "평상시엔 부모님의 간섭받지 않기 바빴는지, 평소 친밀하게 지냈는지를 묻고 싶은 마음이 굴뚝 같았다.\n",
      "부모님은 딸이 학교에 다닐 때부터 줄곧 곁에 머물렀다.\n",
      "초등학교 시절에는 선생님의 권유로 학급 친구들과 어울리는 친구가 생겼다.\n",
      "\n",
      "green list 단어 개수 : 45\n",
      "red list 단어 개수 : 5\n",
      "green list 단어 비율 : 0.9\n",
      "red list 단어 비율 : 0.09999999999999998\n",
      "Z-score: 5.65685424949238\n",
      "is this sentence written by machine? True\n",
      "Perplexity:  10.638528\n",
      "prompt2 : 개인 발전을 위한 목표 설정\n"
     ]
    },
    {
     "name": "stderr",
     "output_type": "stream",
     "text": [
      " 90%|█████████ | 45/50 [00:06<00:00,  6.54it/s]"
     ]
    },
    {
     "name": "stdout",
     "output_type": "stream",
     "text": [
      "개인 발전을 위한 목표 설정’이라는 과제를 제시했다.\n",
      "곽 신임 이사장은 연세대(언론대학원 석사과정 재학 중이던 1989년 동아일보 기자로 입사하면서부터 신문사 논설위원, 편집국 부지부장직을 역임했다.\n",
      "조선일보 재직시절이던 1994년 동아일보 신춘문예 등단작이 단편소설 ‘부엌데기’(동아일보 신춘호),\n",
      "Perplexity:  7.239161\n",
      "개인 발전을 위한 목표 설정’이라는 과제를 제시했다.\n",
      "곽 신임 이사장은 연세대(언론대학원 석사과정 재학 중이던 1989년 동아일보 기자로 입사하면서부터 신문사 논설위원, 편집국 부지부장직을 역임했다.\n",
      "조선일보 재직시절이던 1994년 동아일보 신춘문예 등단작이 단편소설 ‘부엌데기’(동아일보 신춘호),\n",
      "green list 단어 개수 : 45\n",
      "red list 단어 개수 : 5\n",
      "green list 단어 비율 : 0.9\n",
      "red list 단어 비율 : 0.09999999999999998\n",
      "Z-score: 5.65685424949238\n",
      "is this sentence written by machine? True\n",
      "Perplexity:  7.239161\n"
     ]
    },
    {
     "name": "stderr",
     "output_type": "stream",
     "text": [
      "\n"
     ]
    }
   ],
   "source": [
    "\n",
    "with open('Z_score_g=0.5_d=100.0.txt', 'w') as f:  #file내용 clear\n",
    "    f.write('')\n",
    "    \n",
    "with open('perplexity.txt', 'w') as f:  #file내용 clear\n",
    "    f.write('')\n",
    "    \n",
    "for line in lines:\n",
    "    line = line.strip()\n",
    "    print(f\"prompt2 : {line}\")\n",
    "\n",
    "    input_text = line\n",
    "    input_ids = tokenizer.encode(input_text, return_tensors='tf')\n",
    "    initial_ids = input_ids\n",
    "    #term = 3\n",
    "\n",
    "    last_index = input_ids.shape[-1]\n",
    "    nlls = []\n",
    "            \n",
    "    with mirrored_strategy.scope():\n",
    "        for _ in tqdm(range(50)):  # 최대 100번 반복\n",
    "            if input_ids.shape[-1] >= 50:\n",
    "                break  # input_ids의 길이가 100 이상이면 반복 중단\n",
    "            \n",
    "            #print(\"================================\")\n",
    "            #print(f\"문장의 토큰 개수 : {input_ids.shape[-1]}\")\n",
    "            #set 나눠서 green set 로짓을 촉진하기\n",
    "            gamma = 0.5\n",
    "            delta = 2.0\n",
    "            Logits = model(input_ids).logits\n",
    "            #print(f\"original Logits : {Logits}\")\n",
    "            \n",
    "            #seed 생성\n",
    "            seed = input_ids[-1] % Logits.shape[-1]\n",
    "            #print(f\"seed : {seed[-1]}\")\n",
    "            np.random.seed(seed[-1])\n",
    "\n",
    "            #random green list 설정\n",
    "            indices = np.arange(Logits.shape[-1]) #0~51999\n",
    "            green_list_size = int(Logits.shape[-1] * gamma)  #25600\n",
    "            green_list = np.random.choice(indices, green_list_size, replace=False)\n",
    "            #print(f\"green list : {green_list} {green_list[200]} {green_list[1000]}\") #25600개의 green list\n",
    "\n",
    "            #--여기부터 probability 구하기\n",
    "            # green logit과 red logit의 값을 담을 리스트 생성\n",
    "            green_logits = tf.zeros(green_list_size)\n",
    "            red_logits = tf.zeros(Logits.shape[-1] - green_list_size)\n",
    "\n",
    "            #그린 리스트에 속한 idx 값의 Logit에는 델타 추가!!!!!!\n",
    "            Logits_num = np.zeros((0,last_index-1,Logits.shape[-1]))\n",
    "            Logits_num = Logits.numpy()\n",
    "            Logits_num[0, -1, :] = apply_repetition_penalty(Logits_num[0, -1, :], token_counts, penalty_coefficient)\n",
    "            \n",
    "            for i in green_list :\n",
    "                Logits_num[0,last_index-1,i] = Logits_num[0,last_index-1,i]+delta\n",
    "            Logits = tf.convert_to_tensor(Logits_num, dtype=tf.float32)\n",
    "            #print(Logits)\n",
    "            #stable_logits = Logits - max(Logits)\n",
    "            #print(stable_logits)\n",
    "            #print(f\"updated Logits : {Logits}\")\n",
    "            \n",
    "            probs = tf.nn.softmax(Logits[0,last_index-1,:])\n",
    "            #print(probs)\n",
    "            \n",
    "            #softmax 계산을 위한 분모\n",
    "            #denominator = tf.reduce_sum(tf.exp(stable_logits), axis=-1)  \n",
    "            #print(f\"denominator : {denominator}\") #25600개의 green list\n",
    "            #Logits 텐서에 softmax 적용하여 확률 계산 (병렬 계산), softmax_tensor = probability\n",
    "            #softmax_tensor = Logits.numpy()\n",
    "            #softmax_tensor[0, last_index-1, :] = np.exp(softmax_tensor[0, last_index-1, :])\n",
    "            #softmax_tensor[0, last_index-1, :] /= denominator[0,last_index-1]\n",
    "            #print(softmax_tensor.shape)\n",
    "            #print(f\"Probabilities : {softmax_tensor}\")\n",
    "\n",
    "            # 데이터 타입 확인 및 조정\n",
    "            #add_token_id = tf.argmax(softmax_tensor[0][last_index-1])\n",
    "            #print(f\"max : {max(softmax_tensor[0][last_index-1])}\")\n",
    "            #print(f\"updated Logits Max value : {add_token_id}\")\n",
    "            \n",
    "            add_token_id = tf.argmax(probs)\n",
    "            #print(f\"max : {max(probs)}\")\n",
    "            \n",
    "            token_counts[add_token_id] += 1\n",
    "            \n",
    "            # Calculate perplexity\n",
    "            # 참고 https://huggingface.co/docs/transformers/main/ko/perplexity\n",
    "            #selected_probability = softmax_tensor[0, last_index-1, add_token_id]\n",
    "            #nlls.append(np.log(selected_probability))\n",
    "            selected_probability = probs[add_token_id]\n",
    "            nlls.append(np.log(selected_probability))\n",
    "            \n",
    "            #print(softmax_tensor[0, last_index-1, add_token_id])\n",
    "\n",
    "            # 텐서 연결\n",
    "            add_token_id = tf.reshape(add_token_id, [1,1])\n",
    "            add_token_id = tf.cast(add_token_id, input_ids.dtype)\n",
    "            input_ids = tf.concat([input_ids, add_token_id], axis=-1)\n",
    "            next_token = tokenizer.decode(input_ids.numpy()[0,:])\n",
    "            #print(f\"next token : {next_token}\")\n",
    "            \n",
    "            last_index = input_ids.shape[-1]\n",
    "            #term = 3\n",
    "        final_token = tokenizer.decode(input_ids.numpy()[0,:])\n",
    "        print(final_token)\n",
    "\n",
    "        # Calculate perplexity\n",
    "        perplexity = tf.exp(-tf.reduce_mean(nlls))\n",
    "        print(\"Perplexity: \", perplexity.numpy())\n",
    "        \n",
    "        final_token = tokenizer.decode(input_ids.numpy()[0,:])\n",
    "        print(final_token)\n",
    "        print(f\"is this sentence written by machine? {detection(final_token, Logits.shape[-1], gamma, initial_ids)}\")\n",
    "\n",
    "        # Calculate perplexity\n",
    "        perplexity = tf.exp(-tf.reduce_mean(nlls))\n",
    "        print(\"Perplexity: \", perplexity.numpy())\n",
    "        \n",
    "        perplexity_str = str(perplexity.numpy())  # perplexity를 문자열로 변환\n",
    "        with open('perplexity.txt', 'a') as f:  # with 문을 사용하여 파일을 열면 자동으로 닫힙니다.\n",
    "            f.write(perplexity_str + '\\n')"
   ]
  },
  {
   "cell_type": "code",
   "execution_count": null,
   "metadata": {},
   "outputs": [
    {
     "name": "stdout",
     "output_type": "stream",
     "text": [
      "green list : [18100 37771 17147 ... 26412 26911 43793] (25600,)\n"
     ]
    }
   ],
   "source": [
    "np.random.seed(9154)\n",
    "green_list_size = int(Logits.shape[-1] * gamma)  #25600\n",
    "green_list = np.random.choice(indices, green_list_size, replace=False)\n",
    "print(f\"green list : {green_list} {green_list.shape}\") #25600개의 green list"
   ]
  },
  {
   "cell_type": "code",
   "execution_count": null,
   "metadata": {},
   "outputs": [],
   "source": [
    "#model_generate\n",
    "\n",
    "sent = '아침 일과 시작하기'\n",
    "input_ids = tokenizer.encode(sent)\n",
    "input_ids = tf.convert_to_tensor([input_ids])\n",
    "with mirrored_strategy.scope():\n",
    "    output = model.generate(input_ids,\n",
    "                        max_length=100,\n",
    "                        use_cache=False,\n",
    "                        repetition_penalty=2.0)\n",
    "    output_ids = output.numpy().tolist()[0]\n",
    "    print(tokenizer.decode(output_ids))"
   ]
  }
 ],
 "metadata": {
  "kernelspec": {
   "display_name": "tf-2.12.0",
   "language": "python",
   "name": "python3"
  },
  "language_info": {
   "codemirror_mode": {
    "name": "ipython",
    "version": 3
   },
   "file_extension": ".py",
   "mimetype": "text/x-python",
   "name": "python",
   "nbconvert_exporter": "python",
   "pygments_lexer": "ipython3",
   "version": "3.8.19"
  }
 },
 "nbformat": 4,
 "nbformat_minor": 2
}
