{
 "cells": [
  {
   "cell_type": "code",
   "execution_count": 13,
   "metadata": {},
   "outputs": [],
   "source": [
    "import tensorflow as tf\n",
    "from transformers import AutoTokenizer\n",
    "from transformers import TFGPT2LMHeadModel #tensorflow GPT2 LM\n",
    "import numpy as np\n",
    "import torch"
   ]
  },
  {
   "cell_type": "code",
   "execution_count": 23,
   "metadata": {},
   "outputs": [
    {
     "data": {
      "text/plain": [
       "[PhysicalDevice(name='/physical_device:GPU:0', device_type='GPU'),\n",
       " PhysicalDevice(name='/physical_device:GPU:1', device_type='GPU'),\n",
       " PhysicalDevice(name='/physical_device:GPU:2', device_type='GPU'),\n",
       " PhysicalDevice(name='/physical_device:GPU:3', device_type='GPU'),\n",
       " PhysicalDevice(name='/physical_device:GPU:4', device_type='GPU'),\n",
       " PhysicalDevice(name='/physical_device:GPU:5', device_type='GPU'),\n",
       " PhysicalDevice(name='/physical_device:GPU:6', device_type='GPU'),\n",
       " PhysicalDevice(name='/physical_device:GPU:7', device_type='GPU')]"
      ]
     },
     "execution_count": 23,
     "metadata": {},
     "output_type": "execute_result"
    },
    {
     "ename": "",
     "evalue": "",
     "output_type": "error",
     "traceback": [
      "\u001b[1;31m현재 셀 또는 이전 셀에서 코드를 실행하는 동안 Kernel이 충돌했습니다. \n",
      "\u001b[1;31m셀의 코드를 검토하여 가능한 오류 원인을 식별하세요. \n",
      "\u001b[1;31m자세한 내용을 보려면 <a href='https://aka.ms/vscodeJupyterKernelCrash'>여기</a>를 클릭하세요. \n",
      "\u001b[1;31m자세한 내용은 Jupyter <a href='command:jupyter.viewOutput'>로그</a>를 참조하세요."
     ]
    }
   ],
   "source": [
    "tf.config.list_physical_devices('GPU') "
   ]
  },
  {
   "cell_type": "code",
   "execution_count": 11,
   "metadata": {},
   "outputs": [
    {
     "name": "stdout",
     "output_type": "stream",
     "text": [
      "INFO:tensorflow:Using MirroredStrategy with devices ('/job:localhost/replica:0/task:0/device:GPU:0', '/job:localhost/replica:0/task:0/device:GPU:1', '/job:localhost/replica:0/task:0/device:GPU:2', '/job:localhost/replica:0/task:0/device:GPU:3', '/job:localhost/replica:0/task:0/device:GPU:4', '/job:localhost/replica:0/task:0/device:GPU:5', '/job:localhost/replica:0/task:0/device:GPU:6', '/job:localhost/replica:0/task:0/device:GPU:7')\n"
     ]
    }
   ],
   "source": [
    "mirrored_strategy = tf.distribute.MirroredStrategy()"
   ]
  },
  {
   "cell_type": "code",
   "execution_count": 15,
   "metadata": {},
   "outputs": [
    {
     "name": "stderr",
     "output_type": "stream",
     "text": [
      "Some weights of the PyTorch model were not used when initializing the TF 2.0 model TFGPT2LMHeadModel: ['transformer.h.5.attn.masked_bias', 'transformer.h.11.attn.masked_bias', 'transformer.h.10.attn.masked_bias', 'transformer.h.2.attn.masked_bias', 'lm_head.weight', 'transformer.h.4.attn.masked_bias', 'transformer.h.0.attn.masked_bias', 'transformer.h.1.attn.masked_bias', 'transformer.h.7.attn.masked_bias', 'transformer.h.6.attn.masked_bias', 'transformer.h.3.attn.masked_bias', 'transformer.h.9.attn.masked_bias', 'transformer.h.8.attn.masked_bias']\n",
      "- This IS expected if you are initializing TFGPT2LMHeadModel from a PyTorch model trained on another task or with another architecture (e.g. initializing a TFBertForSequenceClassification model from a BertForPreTraining model).\n",
      "- This IS NOT expected if you are initializing TFGPT2LMHeadModel from a PyTorch model that you expect to be exactly identical (e.g. initializing a TFBertForSequenceClassification model from a BertForSequenceClassification model).\n",
      "All the weights of TFGPT2LMHeadModel were initialized from the PyTorch model.\n",
      "If your task is similar to the task the model of the checkpoint was trained on, you can already use TFGPT2LMHeadModel for predictions without further training.\n"
     ]
    }
   ],
   "source": [
    "model = TFGPT2LMHeadModel.from_pretrained('skt/kogpt2-base-v2', from_pt=True)\n",
    "tokenizer = AutoTokenizer.from_pretrained('skt/kogpt2-base-v2')"
   ]
  },
  {
   "cell_type": "code",
   "execution_count": 16,
   "metadata": {},
   "outputs": [],
   "source": [
    "#실제 모델에서 제공하는 generate (추론 과정))\n",
    "sent = '아이들의 정서적인 발달에 동화책은'\n",
    "input_ids = tokenizer.encode(sent)\n",
    "input_ids = tf.convert_to_tensor([input_ids])\n",
    "with mirrored_strategy.scope():\n",
    "    output = model.generate(input_ids,\n",
    "                        max_length=200,\n",
    "                        repetition_penalty=2.0,\n",
    "                        use_cache=False)\n",
    "\n",
    "#=====여기부터 워터마킹======"
   ]
  },
  {
   "cell_type": "code",
   "execution_count": 17,
   "metadata": {},
   "outputs": [
    {
     "data": {
      "text/plain": [
       "'아이들의 정서적인 발달에 동화책은 큰 도움이 될 수 있다.\\n또한 책읽는 습관을 길러주는 효과도 기대할 만하다.\\n책 읽기를 통해 아이들은 자연스럽게 책을 읽을 기회를 갖게 된다.\\n책을 읽는 동안 아이는 스스로에게 질문을 던지고 답을 찾는 과정을 반복하게 되고, 그 과정에서 아이가 어떤 생각을 하게 되는지 알게 되면서, 자신의 생각과 느낌을 글로 표현하는 능력을 키울 수도 있게 된다.</d> 지난해 12월 31일 오후 2시쯤 서울 강남구 역삼동 한 아파트에서 A(40)씨가 숨진 채 발견됐다.\\nA씨는 이날 오전 9시경 경찰 조사 도중 “아파트 엘리베이터 안에서 목을 매 자살했다”고 진술했다.\\n경찰은 유서가 발견되지 않은 점 등으로 미뤄 정확한 사인을 밝히기 위해 부검을 의뢰할 방침이다.\\n유서는 없었다.\\n숨지기 전날인 30일에는 경기도 용인시에서 택시기사 B씨(47)가 술에 취해 귀가하던 중 흉기에 찔려 사망했다.\\nB씨의 시신은 인근 병원으로 옮겨졌으나 끝내 숨을 거뒀다.\\n이날 새벽 1시부터 자정까지 경기 수원시의 CCTV'"
      ]
     },
     "execution_count": 17,
     "metadata": {},
     "output_type": "execute_result"
    }
   ],
   "source": [
    "output_ids = output.numpy().tolist()[0]\n",
    "tokenizer.decode(output_ids)"
   ]
  },
  {
   "cell_type": "code",
   "execution_count": 18,
   "metadata": {},
   "outputs": [],
   "source": [
    "sent = '아이들의 정서적인 발달에 동화책은'"
   ]
  },
  {
   "cell_type": "code",
   "execution_count": 19,
   "metadata": {},
   "outputs": [
    {
     "name": "stdout",
     "output_type": "stream",
     "text": [
      "tf.Tensor([[42738 17381  9090 24004 19383 16095]], shape=(1, 6), dtype=int32)\n"
     ]
    }
   ],
   "source": [
    "input_ids = tokenizer.encode(sent)\n",
    "input_ids = tf.convert_to_tensor([input_ids])\n",
    "print(input_ids)"
   ]
  },
  {
   "cell_type": "code",
   "execution_count": 20,
   "metadata": {},
   "outputs": [
    {
     "data": {
      "text/plain": [
       "<tf.Tensor: shape=(1, 6, 51200), dtype=float32, numpy=\n",
       "array([[[-6.3650374 , -5.9244194 , -5.5607867 , ...,  0.78603697,\n",
       "         -5.022273  , -2.9620056 ],\n",
       "        [-7.120081  , -7.1628304 , -6.602664  , ..., -2.2832334 ,\n",
       "         -5.9630513 , -4.78648   ],\n",
       "        [-7.444871  , -6.6141295 , -4.999629  , ...,  0.51350355,\n",
       "         -2.3515596 , -4.5314565 ],\n",
       "        [-5.8011975 , -6.3517947 , -5.1028595 , ...,  2.6300447 ,\n",
       "         -0.4167254 , -1.6408297 ],\n",
       "        [-6.1230216 , -6.6718645 , -5.732671  , ...,  1.2544551 ,\n",
       "         -0.70743334, -2.309436  ],\n",
       "        [-5.313277  , -5.550266  , -5.276083  , ...,  5.036843  ,\n",
       "          0.1513547 , -2.1300857 ]]], dtype=float32)>"
      ]
     },
     "execution_count": 20,
     "metadata": {},
     "output_type": "execute_result"
    }
   ],
   "source": [
    "#output = model.generate(input_ids,\n",
    "#                        max_length=128,\n",
    "#                        repetition_penalty=2.0,\n",
    "#                        use_cache=True)\n",
    "\n",
    "output = model(input_ids)\n",
    "Logits = output.logits\n",
    "Logits"
   ]
  },
  {
   "cell_type": "code",
   "execution_count": 21,
   "metadata": {},
   "outputs": [
    {
     "data": {
      "text/plain": [
       "TensorShape([1, 6, 51200])"
      ]
     },
     "execution_count": 21,
     "metadata": {},
     "output_type": "execute_result"
    }
   ],
   "source": [
    "Logits.shape"
   ]
  },
  {
   "cell_type": "code",
   "execution_count": null,
   "metadata": {},
   "outputs": [],
   "source": [
    "\n",
    "with mirrored_strategy.scope(): # Logit 계속 받아오는거랑 generate 랑 같은 지 보기\n",
    "    while input_ids.shape[-1] < 100:\n",
    "     \n",
    "        print(\"================================\")\n",
    "        print(input_ids.shape[-1])\n",
    "        Logits = model(input_ids).logits\n",
    "        \n",
    "        add_token_id = tf.argmax(Logits)\n",
    "        add_token_id = tf.reshape(add_token_id, [1,1])\n",
    "        add_token_id = tf.cast(add_token_id, input_ids.dtype)\n",
    "        input_ids = tf.concat([input_ids, add_token_id], axis=-1)\n",
    "        \n",
    "        next_token = tokenizer.decode(input_ids.numpy()[0,:])\n",
    "        print(next_token)\n",
    "    \n",
    "        \n"
   ]
  },
  {
   "cell_type": "code",
   "execution_count": 22,
   "metadata": {},
   "outputs": [
    {
     "name": "stdout",
     "output_type": "stream",
     "text": [
      "================================\n",
      "6\n",
      "original Logits : [[[-6.3650374  -5.9244194  -5.5607867  ...  0.78603697 -5.022273\n",
      "   -2.9620056 ]\n",
      "  [-7.120081   -7.1628304  -6.602664   ... -2.2832334  -5.9630513\n",
      "   -4.78648   ]\n",
      "  [-7.444871   -6.6141295  -4.999629   ...  0.51350355 -2.3515596\n",
      "   -4.5314565 ]\n",
      "  [-5.8011975  -6.3517947  -5.1028595  ...  2.6300447  -0.4167254\n",
      "   -1.6408297 ]\n",
      "  [-6.1230216  -6.6718645  -5.732671   ...  1.2544551  -0.70743334\n",
      "   -2.309436  ]\n",
      "  [-5.313277   -5.550266   -5.276083   ...  5.036843    0.1513547\n",
      "   -2.1300857 ]]]\n",
      "seed : 16095\n",
      "green list : [33079 19547 38315 ... 42505 30137 32538] (51200,)\n",
      "last index = last words : 6\n",
      "updated Logits : [[[-6.3650374  -5.9244194  -5.5607867  ...  0.78603697 -5.022273\n",
      "   -2.9620056 ]\n",
      "  [-7.120081   -7.1628304  -6.602664   ... -2.2832334  -5.9630513\n",
      "   -4.78648   ]\n",
      "  [-7.444871   -6.6141295  -4.999629   ...  0.51350355 -2.3515596\n",
      "   -4.5314565 ]\n",
      "  [-5.8011975  -6.3517947  -5.1028595  ...  2.6300447  -0.4167254\n",
      "   -1.6408297 ]\n",
      "  [-6.1230216  -6.6718645  -5.732671   ...  1.2544551  -0.70743334\n",
      "   -2.309436  ]\n",
      "  [-5.313277   -5.550266   -5.276083   ...  5.036843    0.1513547\n",
      "   -2.1300857 ]]]\n",
      "dominants : [[  163335.44  3296523.5   6148524.   11526362.    3410755.    2380311.5 ]]\n",
      "tf.Tensor(\n",
      "[2.0693769e-09 1.6327367e-09 2.1477933e-09 ... 6.4690306e-05 4.8876342e-07\n",
      " 4.9920807e-08], shape=(51200,), dtype=float32)\n",
      "(51200,)\n",
      "make Probabilities : [2.0693769e-09 1.6327367e-09 2.1477933e-09 ... 6.4690306e-05 4.8876342e-07\n",
      " 4.9920807e-08]\n",
      "updated Logits Max value : 9458\n",
      "next token : 아이들의 정서적인 발달에 동화책은 큰\n",
      "================================\n",
      "7\n",
      "original Logits : [[[-6.3650374  -5.9244194  -5.5607867  ...  0.78603697 -5.022273\n",
      "   -2.9620056 ]\n",
      "  [-7.120081   -7.1628304  -6.602664   ... -2.2832334  -5.9630513\n",
      "   -4.78648   ]\n",
      "  [-7.444871   -6.6141295  -4.999629   ...  0.51350355 -2.3515596\n",
      "   -4.5314565 ]\n",
      "  ...\n",
      "  [-6.1230216  -6.6718645  -5.732671   ...  1.2544551  -0.70743334\n",
      "   -2.309436  ]\n",
      "  [-5.313277   -5.550266   -5.276083   ...  5.036843    0.1513547\n",
      "   -2.1300857 ]\n",
      "  [-6.5101585  -6.136811   -6.118112   ...  2.4861598  -3.2500486\n",
      "   -8.959919  ]]]\n",
      "seed : 9458\n",
      "green list : [46177 48006 24629 ... 29348 40180 48919] (51200,)\n",
      "last index = last words : 7\n",
      "updated Logits : [[[-6.3650374  -5.9244194  -5.5607867  ...  0.78603697 -5.022273\n",
      "   -2.9620056 ]\n",
      "  [-7.120081   -7.1628304  -6.602664   ... -2.2832334  -5.9630513\n",
      "   -4.78648   ]\n",
      "  [-7.444871   -6.6141295  -4.999629   ...  0.51350355 -2.3515596\n",
      "   -4.5314565 ]\n",
      "  ...\n",
      "  [-6.1230216  -6.6718645  -5.732671   ...  1.2544551  -0.70743334\n",
      "   -2.309436  ]\n",
      "  [-5.313277   -5.550266   -5.276083   ...  5.036843    0.1513547\n",
      "   -2.1300857 ]\n",
      "  [-6.5101585  -6.136811   -6.118112   ...  2.4861598  -3.2500486\n",
      "   -8.959919  ]]]\n",
      "dominants : [[  163335.44  3296523.5   6148524.   11526362.    3410755.    2380311.5\n",
      "  82014176.  ]]\n",
      "tf.Tensor(\n",
      "[1.8146179e-11 2.6358958e-11 2.6856449e-11 ... 1.4649972e-07 4.7275189e-10\n",
      " 1.5662739e-12], shape=(51200,), dtype=float32)\n",
      "(51200,)\n",
      "make Probabilities : [1.8146179e-11 2.6358958e-11 2.6856449e-11 ... 1.4649972e-07 4.7275189e-10\n",
      " 1.5662739e-12]\n",
      "updated Logits Max value : 13229\n",
      "next token : 아이들의 정서적인 발달에 동화책은 큰 도움이\n",
      "================================\n",
      "8\n",
      "original Logits : [[[-6.3650374  -5.9244194  -5.5607867  ...  0.78603697 -5.022273\n",
      "   -2.9620056 ]\n",
      "  [-7.120081   -7.1628304  -6.602664   ... -2.2832334  -5.9630513\n",
      "   -4.78648   ]\n",
      "  [-7.444871   -6.6141295  -4.999629   ...  0.51350355 -2.3515596\n",
      "   -4.5314565 ]\n",
      "  ...\n",
      "  [-5.313277   -5.550266   -5.276083   ...  5.036843    0.1513547\n",
      "   -2.1300857 ]\n",
      "  [-6.5101585  -6.136811   -6.118112   ...  2.4861598  -3.2500486\n",
      "   -8.959919  ]\n",
      "  [-5.017399   -4.6070423  -3.3189592  ...  0.29729173  5.8741074\n",
      "   -3.4174812 ]]]\n",
      "seed : 13229\n",
      "green list : [48594 28390 35946 ... 38736 25189 31653] (51200,)\n",
      "last index = last words : 8\n",
      "updated Logits : [[[-6.3650374  -5.9244194  -5.5607867  ...  0.78603697 -5.022273\n",
      "   -2.9620056 ]\n",
      "  [-7.120081   -7.1628304  -6.602664   ... -2.2832334  -5.9630513\n",
      "   -4.78648   ]\n",
      "  [-7.444871   -6.6141295  -4.999629   ...  0.51350355 -2.3515596\n",
      "   -4.5314565 ]\n",
      "  ...\n",
      "  [-5.313277   -5.550266   -5.276083   ...  5.036843    0.1513547\n",
      "   -2.1300857 ]\n",
      "  [-6.5101585  -6.136811   -6.118112   ...  2.4861598  -3.2500486\n",
      "   -8.959919  ]\n",
      "  [-5.017399   -4.6070423  -3.3189592  ...  0.29729173  5.8741074\n",
      "   -3.4174812 ]]]\n",
      "dominants : [[1.6333544e+05 3.2965235e+06 6.1485240e+06 1.1526362e+07 3.4107550e+06\n",
      "  2.3803115e+06 8.2014176e+07 8.2798042e+08]]\n",
      "tf.Tensor(\n",
      "[7.9974456e-12 1.2054991e-11 4.3709297e-11 ... 1.6258920e-09 4.2960798e-07\n",
      " 3.9608372e-11], shape=(51200,), dtype=float32)\n",
      "(51200,)\n",
      "make Probabilities : [7.9974456e-12 1.2054991e-11 4.3709297e-11 ... 1.6258920e-09 4.2960798e-07\n",
      " 3.9608372e-11]\n",
      "updated Logits Max value : 10341\n",
      "next token : 아이들의 정서적인 발달에 동화책은 큰 도움이 될\n",
      "================================\n",
      "9\n",
      "original Logits : [[[-6.3650374  -5.9244194  -5.5607867  ...  0.78603697 -5.022273\n",
      "   -2.9620056 ]\n",
      "  [-7.120081   -7.1628304  -6.602664   ... -2.2832334  -5.9630513\n",
      "   -4.78648   ]\n",
      "  [-7.445446   -6.615079   -5.000116   ...  0.51375747 -2.350807\n",
      "   -4.5313773 ]\n",
      "  ...\n",
      "  [-6.5095935  -6.1358786  -6.1189585  ...  2.486251   -3.248695\n",
      "   -8.958793  ]\n",
      "  [-5.017875   -4.6060886  -3.3185089  ...  0.2986555   5.8720407\n",
      "   -3.4178505 ]\n",
      "  [-5.2133045  -4.9701653  -5.015261   ...  2.056118   -1.2719979\n",
      "   -2.278308  ]]]\n",
      "seed : 10341\n",
      "green list : [22647  9303 37742 ...  7644 32475 21765] (51200,)\n",
      "last index = last words : 9\n",
      "updated Logits : [[[-6.3650374  -5.9244194  -5.5607867  ...  0.78603697 -5.022273\n",
      "   -2.9620056 ]\n",
      "  [-7.120081   -7.1628304  -6.602664   ... -2.2832334  -5.9630513\n",
      "   -4.78648   ]\n",
      "  [-7.445446   -6.615079   -5.000116   ...  0.51375747 -2.350807\n",
      "   -4.5313773 ]\n",
      "  ...\n",
      "  [-6.5095935  -6.1358786  -6.1189585  ...  2.486251   -3.248695\n",
      "   -8.958793  ]\n",
      "  [-5.017875   -4.6060886  -3.3185089  ...  0.2986555   5.8720407\n",
      "   -3.4178505 ]\n",
      "  [-5.2133045  -4.9701653  -5.015261   ...  2.056118   -1.2719979\n",
      "   -2.278308  ]]]\n",
      "dominants : [[1.6333544e+05 3.2965235e+06 6.1454335e+06 1.1524978e+07 3.4066432e+06\n",
      "  2.3808170e+06 8.1966704e+07 8.2758528e+08 9.8956264e+07]]\n",
      "tf.Tensor(\n",
      "[5.5010725e-11 7.0152217e-11 6.7058942e-11 ... 7.8980058e-08 2.8322740e-09\n",
      " 1.0353800e-09], shape=(51200,), dtype=float32)\n",
      "(51200,)\n",
      "make Probabilities : [5.5010725e-11 7.0152217e-11 6.7058942e-11 ... 7.8980058e-08 2.8322740e-09\n",
      " 1.0353800e-09]\n",
      "updated Logits Max value : 9025\n",
      "next token : 아이들의 정서적인 발달에 동화책은 큰 도움이 될 수\n",
      "================================\n",
      "10\n",
      "original Logits : [[[-6.3650374  -5.9244194  -5.5607867  ...  0.78603697 -5.022273\n",
      "   -2.9620056 ]\n",
      "  [-7.120081   -7.1628304  -6.602664   ... -2.2832334  -5.9630513\n",
      "   -4.78648   ]\n",
      "  [-7.445446   -6.615079   -5.000116   ...  0.51375747 -2.350807\n",
      "   -4.5313773 ]\n",
      "  ...\n",
      "  [-5.017875   -4.6060886  -3.3185089  ...  0.2986555   5.8720407\n",
      "   -3.4178505 ]\n",
      "  [-5.2133045  -4.9701653  -5.015261   ...  2.056118   -1.2719979\n",
      "   -2.278308  ]\n",
      "  [-3.266001   -3.7187915  -4.4926977  ...  0.3910773  -0.32450968\n",
      "   -2.8045366 ]]]\n",
      "seed : 9025\n",
      "green list : [ 2431 21699 49597 ... 42239 13455 16161] (51200,)\n",
      "last index = last words : 10\n"
     ]
    },
    {
     "ename": "KeyboardInterrupt",
     "evalue": "",
     "output_type": "error",
     "traceback": [
      "\u001b[0;31m---------------------------------------------------------------------------\u001b[0m",
      "\u001b[0;31mKeyboardInterrupt\u001b[0m                         Traceback (most recent call last)",
      "Cell \u001b[0;32mIn[22], line 33\u001b[0m\n\u001b[1;32m     31\u001b[0m \u001b[38;5;28;01mfor\u001b[39;00m i \u001b[38;5;129;01min\u001b[39;00m green_list:\n\u001b[1;32m     32\u001b[0m     indices \u001b[38;5;241m=\u001b[39m [[\u001b[38;5;241m0\u001b[39m, last_index \u001b[38;5;241m-\u001b[39m \u001b[38;5;241m1\u001b[39m, i]]  \u001b[38;5;66;03m# 차원에 맞는 인덱스 설정\u001b[39;00m\n\u001b[0;32m---> 33\u001b[0m     updates \u001b[38;5;241m=\u001b[39m [\u001b[43mLogits\u001b[49m\u001b[43m[\u001b[49m\u001b[38;5;241;43m0\u001b[39;49m\u001b[43m,\u001b[49m\u001b[43m \u001b[49m\u001b[43mlast_index\u001b[49m\u001b[43m \u001b[49m\u001b[38;5;241;43m-\u001b[39;49m\u001b[43m \u001b[49m\u001b[38;5;241;43m1\u001b[39;49m\u001b[43m,\u001b[49m\u001b[43m \u001b[49m\u001b[43mi\u001b[49m\u001b[43m]\u001b[49m \u001b[38;5;241m+\u001b[39m delta]  \u001b[38;5;66;03m# 업데이트할 값\u001b[39;00m\n\u001b[1;32m     34\u001b[0m     Logits \u001b[38;5;241m=\u001b[39m tf\u001b[38;5;241m.\u001b[39mtensor_scatter_nd_update(Logits, indices, updates)\n\u001b[1;32m     36\u001b[0m \u001b[38;5;28mprint\u001b[39m(\u001b[38;5;124mf\u001b[39m\u001b[38;5;124m\"\u001b[39m\u001b[38;5;124mupdated Logits : \u001b[39m\u001b[38;5;132;01m{\u001b[39;00mLogits\u001b[38;5;132;01m}\u001b[39;00m\u001b[38;5;124m\"\u001b[39m)\n",
      "File \u001b[0;32m~/miniconda3/envs/tf-2.12.0/lib/python3.8/site-packages/tensorflow/python/util/traceback_utils.py:150\u001b[0m, in \u001b[0;36mfilter_traceback.<locals>.error_handler\u001b[0;34m(*args, **kwargs)\u001b[0m\n\u001b[1;32m    148\u001b[0m filtered_tb \u001b[38;5;241m=\u001b[39m \u001b[38;5;28;01mNone\u001b[39;00m\n\u001b[1;32m    149\u001b[0m \u001b[38;5;28;01mtry\u001b[39;00m:\n\u001b[0;32m--> 150\u001b[0m   \u001b[38;5;28;01mreturn\u001b[39;00m \u001b[43mfn\u001b[49m\u001b[43m(\u001b[49m\u001b[38;5;241;43m*\u001b[39;49m\u001b[43margs\u001b[49m\u001b[43m,\u001b[49m\u001b[43m \u001b[49m\u001b[38;5;241;43m*\u001b[39;49m\u001b[38;5;241;43m*\u001b[39;49m\u001b[43mkwargs\u001b[49m\u001b[43m)\u001b[49m\n\u001b[1;32m    151\u001b[0m \u001b[38;5;28;01mexcept\u001b[39;00m \u001b[38;5;167;01mException\u001b[39;00m \u001b[38;5;28;01mas\u001b[39;00m e:\n\u001b[1;32m    152\u001b[0m   filtered_tb \u001b[38;5;241m=\u001b[39m _process_traceback_frames(e\u001b[38;5;241m.\u001b[39m__traceback__)\n",
      "File \u001b[0;32m~/miniconda3/envs/tf-2.12.0/lib/python3.8/site-packages/tensorflow/python/util/dispatch.py:1176\u001b[0m, in \u001b[0;36madd_dispatch_support.<locals>.decorator.<locals>.op_dispatch_handler\u001b[0;34m(*args, **kwargs)\u001b[0m\n\u001b[1;32m   1174\u001b[0m \u001b[38;5;66;03m# Fallback dispatch system (dispatch v1):\u001b[39;00m\n\u001b[1;32m   1175\u001b[0m \u001b[38;5;28;01mtry\u001b[39;00m:\n\u001b[0;32m-> 1176\u001b[0m   \u001b[38;5;28;01mreturn\u001b[39;00m \u001b[43mdispatch_target\u001b[49m\u001b[43m(\u001b[49m\u001b[38;5;241;43m*\u001b[39;49m\u001b[43margs\u001b[49m\u001b[43m,\u001b[49m\u001b[43m \u001b[49m\u001b[38;5;241;43m*\u001b[39;49m\u001b[38;5;241;43m*\u001b[39;49m\u001b[43mkwargs\u001b[49m\u001b[43m)\u001b[49m\n\u001b[1;32m   1177\u001b[0m \u001b[38;5;28;01mexcept\u001b[39;00m (\u001b[38;5;167;01mTypeError\u001b[39;00m, \u001b[38;5;167;01mValueError\u001b[39;00m):\n\u001b[1;32m   1178\u001b[0m   \u001b[38;5;66;03m# Note: convert_to_eager_tensor currently raises a ValueError, not a\u001b[39;00m\n\u001b[1;32m   1179\u001b[0m   \u001b[38;5;66;03m# TypeError, when given unexpected types.  So we need to catch both.\u001b[39;00m\n\u001b[1;32m   1180\u001b[0m   result \u001b[38;5;241m=\u001b[39m dispatch(op_dispatch_handler, args, kwargs)\n",
      "File \u001b[0;32m~/miniconda3/envs/tf-2.12.0/lib/python3.8/site-packages/tensorflow/python/ops/array_ops.py:1089\u001b[0m, in \u001b[0;36m_slice_helper\u001b[0;34m(tensor, slice_spec, var)\u001b[0m\n\u001b[1;32m   1084\u001b[0m \u001b[38;5;28;01mwith\u001b[39;00m ops\u001b[38;5;241m.\u001b[39mname_scope(\n\u001b[1;32m   1085\u001b[0m     \u001b[38;5;28;01mNone\u001b[39;00m,\n\u001b[1;32m   1086\u001b[0m     \u001b[38;5;124m\"\u001b[39m\u001b[38;5;124mstrided_slice\u001b[39m\u001b[38;5;124m\"\u001b[39m, [tensor] \u001b[38;5;241m+\u001b[39m begin \u001b[38;5;241m+\u001b[39m end \u001b[38;5;241m+\u001b[39m strides,\n\u001b[1;32m   1087\u001b[0m     skip_on_eager\u001b[38;5;241m=\u001b[39m\u001b[38;5;28;01mFalse\u001b[39;00m) \u001b[38;5;28;01mas\u001b[39;00m name:\n\u001b[1;32m   1088\u001b[0m   \u001b[38;5;28;01mif\u001b[39;00m begin:\n\u001b[0;32m-> 1089\u001b[0m     packed_begin, packed_end, packed_strides \u001b[38;5;241m=\u001b[39m (\u001b[43mstack\u001b[49m\u001b[43m(\u001b[49m\u001b[43mbegin\u001b[49m\u001b[43m)\u001b[49m, stack(end),\n\u001b[1;32m   1090\u001b[0m                                                 stack(strides))\n\u001b[1;32m   1091\u001b[0m     \u001b[38;5;66;03m# TODO(mdan): Instead of implicitly casting, it's better to enforce the\u001b[39;00m\n\u001b[1;32m   1092\u001b[0m     \u001b[38;5;66;03m# same dtypes.\u001b[39;00m\n\u001b[1;32m   1093\u001b[0m     \u001b[38;5;28;01mif\u001b[39;00m (packed_begin\u001b[38;5;241m.\u001b[39mdtype \u001b[38;5;241m==\u001b[39m dtypes\u001b[38;5;241m.\u001b[39mint64 \u001b[38;5;129;01mor\u001b[39;00m\n\u001b[1;32m   1094\u001b[0m         packed_end\u001b[38;5;241m.\u001b[39mdtype \u001b[38;5;241m==\u001b[39m dtypes\u001b[38;5;241m.\u001b[39mint64 \u001b[38;5;129;01mor\u001b[39;00m\n\u001b[1;32m   1095\u001b[0m         packed_strides\u001b[38;5;241m.\u001b[39mdtype \u001b[38;5;241m==\u001b[39m dtypes\u001b[38;5;241m.\u001b[39mint64):\n",
      "File \u001b[0;32m~/miniconda3/envs/tf-2.12.0/lib/python3.8/site-packages/tensorflow/python/util/traceback_utils.py:150\u001b[0m, in \u001b[0;36mfilter_traceback.<locals>.error_handler\u001b[0;34m(*args, **kwargs)\u001b[0m\n\u001b[1;32m    148\u001b[0m filtered_tb \u001b[38;5;241m=\u001b[39m \u001b[38;5;28;01mNone\u001b[39;00m\n\u001b[1;32m    149\u001b[0m \u001b[38;5;28;01mtry\u001b[39;00m:\n\u001b[0;32m--> 150\u001b[0m   \u001b[38;5;28;01mreturn\u001b[39;00m \u001b[43mfn\u001b[49m\u001b[43m(\u001b[49m\u001b[38;5;241;43m*\u001b[39;49m\u001b[43margs\u001b[49m\u001b[43m,\u001b[49m\u001b[43m \u001b[49m\u001b[38;5;241;43m*\u001b[39;49m\u001b[38;5;241;43m*\u001b[39;49m\u001b[43mkwargs\u001b[49m\u001b[43m)\u001b[49m\n\u001b[1;32m    151\u001b[0m \u001b[38;5;28;01mexcept\u001b[39;00m \u001b[38;5;167;01mException\u001b[39;00m \u001b[38;5;28;01mas\u001b[39;00m e:\n\u001b[1;32m    152\u001b[0m   filtered_tb \u001b[38;5;241m=\u001b[39m _process_traceback_frames(e\u001b[38;5;241m.\u001b[39m__traceback__)\n",
      "File \u001b[0;32m~/miniconda3/envs/tf-2.12.0/lib/python3.8/site-packages/tensorflow/python/util/dispatch.py:1176\u001b[0m, in \u001b[0;36madd_dispatch_support.<locals>.decorator.<locals>.op_dispatch_handler\u001b[0;34m(*args, **kwargs)\u001b[0m\n\u001b[1;32m   1174\u001b[0m \u001b[38;5;66;03m# Fallback dispatch system (dispatch v1):\u001b[39;00m\n\u001b[1;32m   1175\u001b[0m \u001b[38;5;28;01mtry\u001b[39;00m:\n\u001b[0;32m-> 1176\u001b[0m   \u001b[38;5;28;01mreturn\u001b[39;00m \u001b[43mdispatch_target\u001b[49m\u001b[43m(\u001b[49m\u001b[38;5;241;43m*\u001b[39;49m\u001b[43margs\u001b[49m\u001b[43m,\u001b[49m\u001b[43m \u001b[49m\u001b[38;5;241;43m*\u001b[39;49m\u001b[38;5;241;43m*\u001b[39;49m\u001b[43mkwargs\u001b[49m\u001b[43m)\u001b[49m\n\u001b[1;32m   1177\u001b[0m \u001b[38;5;28;01mexcept\u001b[39;00m (\u001b[38;5;167;01mTypeError\u001b[39;00m, \u001b[38;5;167;01mValueError\u001b[39;00m):\n\u001b[1;32m   1178\u001b[0m   \u001b[38;5;66;03m# Note: convert_to_eager_tensor currently raises a ValueError, not a\u001b[39;00m\n\u001b[1;32m   1179\u001b[0m   \u001b[38;5;66;03m# TypeError, when given unexpected types.  So we need to catch both.\u001b[39;00m\n\u001b[1;32m   1180\u001b[0m   result \u001b[38;5;241m=\u001b[39m dispatch(op_dispatch_handler, args, kwargs)\n",
      "File \u001b[0;32m~/miniconda3/envs/tf-2.12.0/lib/python3.8/site-packages/tensorflow/python/ops/array_ops.py:1484\u001b[0m, in \u001b[0;36mstack\u001b[0;34m(values, axis, name)\u001b[0m\n\u001b[1;32m   1481\u001b[0m \u001b[38;5;28;01mif\u001b[39;00m axis \u001b[38;5;241m==\u001b[39m \u001b[38;5;241m0\u001b[39m:\n\u001b[1;32m   1482\u001b[0m   \u001b[38;5;28;01mtry\u001b[39;00m:\n\u001b[1;32m   1483\u001b[0m     \u001b[38;5;66;03m# If the input is a constant list, it can be converted to a constant op\u001b[39;00m\n\u001b[0;32m-> 1484\u001b[0m     \u001b[38;5;28;01mreturn\u001b[39;00m \u001b[43mops\u001b[49m\u001b[38;5;241;43m.\u001b[39;49m\u001b[43mconvert_to_tensor\u001b[49m\u001b[43m(\u001b[49m\u001b[43mvalues\u001b[49m\u001b[43m,\u001b[49m\u001b[43m \u001b[49m\u001b[43mname\u001b[49m\u001b[38;5;241;43m=\u001b[39;49m\u001b[43mname\u001b[49m\u001b[43m)\u001b[49m\n\u001b[1;32m   1485\u001b[0m   \u001b[38;5;28;01mexcept\u001b[39;00m (\u001b[38;5;167;01mTypeError\u001b[39;00m, \u001b[38;5;167;01mValueError\u001b[39;00m, \u001b[38;5;167;01mNotImplementedError\u001b[39;00m):\n\u001b[1;32m   1486\u001b[0m     \u001b[38;5;28;01mpass\u001b[39;00m  \u001b[38;5;66;03m# Input list contains non-constant tensors\u001b[39;00m\n",
      "File \u001b[0;32m~/miniconda3/envs/tf-2.12.0/lib/python3.8/site-packages/tensorflow/python/profiler/trace.py:183\u001b[0m, in \u001b[0;36mtrace_wrapper.<locals>.inner_wrapper.<locals>.wrapped\u001b[0;34m(*args, **kwargs)\u001b[0m\n\u001b[1;32m    181\u001b[0m   \u001b[38;5;28;01mwith\u001b[39;00m Trace(trace_name, \u001b[38;5;241m*\u001b[39m\u001b[38;5;241m*\u001b[39mtrace_kwargs):\n\u001b[1;32m    182\u001b[0m     \u001b[38;5;28;01mreturn\u001b[39;00m func(\u001b[38;5;241m*\u001b[39margs, \u001b[38;5;241m*\u001b[39m\u001b[38;5;241m*\u001b[39mkwargs)\n\u001b[0;32m--> 183\u001b[0m \u001b[38;5;28;01mreturn\u001b[39;00m \u001b[43mfunc\u001b[49m\u001b[43m(\u001b[49m\u001b[38;5;241;43m*\u001b[39;49m\u001b[43margs\u001b[49m\u001b[43m,\u001b[49m\u001b[43m \u001b[49m\u001b[38;5;241;43m*\u001b[39;49m\u001b[38;5;241;43m*\u001b[39;49m\u001b[43mkwargs\u001b[49m\u001b[43m)\u001b[49m\n",
      "File \u001b[0;32m~/miniconda3/envs/tf-2.12.0/lib/python3.8/site-packages/tensorflow/python/framework/ops.py:1642\u001b[0m, in \u001b[0;36mconvert_to_tensor\u001b[0;34m(value, dtype, name, as_ref, preferred_dtype, dtype_hint, ctx, accepted_result_types)\u001b[0m\n\u001b[1;32m   1633\u001b[0m       \u001b[38;5;28;01mraise\u001b[39;00m \u001b[38;5;167;01mRuntimeError\u001b[39;00m(\n\u001b[1;32m   1634\u001b[0m           _add_error_prefix(\n\u001b[1;32m   1635\u001b[0m               \u001b[38;5;124mf\u001b[39m\u001b[38;5;124m\"\u001b[39m\u001b[38;5;124mConversion function \u001b[39m\u001b[38;5;132;01m{\u001b[39;00mconversion_func\u001b[38;5;132;01m!r}\u001b[39;00m\u001b[38;5;124m for type \u001b[39m\u001b[38;5;124m\"\u001b[39m\n\u001b[0;32m   (...)\u001b[0m\n\u001b[1;32m   1638\u001b[0m               \u001b[38;5;124mf\u001b[39m\u001b[38;5;124m\"\u001b[39m\u001b[38;5;124mactual = \u001b[39m\u001b[38;5;132;01m{\u001b[39;00mret\u001b[38;5;241m.\u001b[39mdtype\u001b[38;5;241m.\u001b[39mbase_dtype\u001b[38;5;241m.\u001b[39mname\u001b[38;5;132;01m}\u001b[39;00m\u001b[38;5;124m\"\u001b[39m,\n\u001b[1;32m   1639\u001b[0m               name\u001b[38;5;241m=\u001b[39mname))\n\u001b[1;32m   1641\u001b[0m \u001b[38;5;28;01mif\u001b[39;00m ret \u001b[38;5;129;01mis\u001b[39;00m \u001b[38;5;28;01mNone\u001b[39;00m:\n\u001b[0;32m-> 1642\u001b[0m   ret \u001b[38;5;241m=\u001b[39m \u001b[43mconversion_func\u001b[49m\u001b[43m(\u001b[49m\u001b[43mvalue\u001b[49m\u001b[43m,\u001b[49m\u001b[43m \u001b[49m\u001b[43mdtype\u001b[49m\u001b[38;5;241;43m=\u001b[39;49m\u001b[43mdtype\u001b[49m\u001b[43m,\u001b[49m\u001b[43m \u001b[49m\u001b[43mname\u001b[49m\u001b[38;5;241;43m=\u001b[39;49m\u001b[43mname\u001b[49m\u001b[43m,\u001b[49m\u001b[43m \u001b[49m\u001b[43mas_ref\u001b[49m\u001b[38;5;241;43m=\u001b[39;49m\u001b[43mas_ref\u001b[49m\u001b[43m)\u001b[49m\n\u001b[1;32m   1644\u001b[0m \u001b[38;5;28;01mif\u001b[39;00m ret \u001b[38;5;129;01mis\u001b[39;00m \u001b[38;5;28mNotImplemented\u001b[39m:\n\u001b[1;32m   1645\u001b[0m   \u001b[38;5;28;01mcontinue\u001b[39;00m\n",
      "File \u001b[0;32m~/miniconda3/envs/tf-2.12.0/lib/python3.8/site-packages/tensorflow/python/framework/constant_op.py:344\u001b[0m, in \u001b[0;36m_constant_tensor_conversion_function\u001b[0;34m(v, dtype, name, as_ref)\u001b[0m\n\u001b[1;32m    341\u001b[0m \u001b[38;5;28;01mdef\u001b[39;00m \u001b[38;5;21m_constant_tensor_conversion_function\u001b[39m(v, dtype\u001b[38;5;241m=\u001b[39m\u001b[38;5;28;01mNone\u001b[39;00m, name\u001b[38;5;241m=\u001b[39m\u001b[38;5;28;01mNone\u001b[39;00m,\n\u001b[1;32m    342\u001b[0m                                          as_ref\u001b[38;5;241m=\u001b[39m\u001b[38;5;28;01mFalse\u001b[39;00m):\n\u001b[1;32m    343\u001b[0m   _ \u001b[38;5;241m=\u001b[39m as_ref\n\u001b[0;32m--> 344\u001b[0m   \u001b[38;5;28;01mreturn\u001b[39;00m \u001b[43mconstant\u001b[49m\u001b[43m(\u001b[49m\u001b[43mv\u001b[49m\u001b[43m,\u001b[49m\u001b[43m \u001b[49m\u001b[43mdtype\u001b[49m\u001b[38;5;241;43m=\u001b[39;49m\u001b[43mdtype\u001b[49m\u001b[43m,\u001b[49m\u001b[43m \u001b[49m\u001b[43mname\u001b[49m\u001b[38;5;241;43m=\u001b[39;49m\u001b[43mname\u001b[49m\u001b[43m)\u001b[49m\n",
      "File \u001b[0;32m~/miniconda3/envs/tf-2.12.0/lib/python3.8/site-packages/tensorflow/python/framework/constant_op.py:268\u001b[0m, in \u001b[0;36mconstant\u001b[0;34m(value, dtype, shape, name)\u001b[0m\n\u001b[1;32m    171\u001b[0m \u001b[38;5;129m@tf_export\u001b[39m(\u001b[38;5;124m\"\u001b[39m\u001b[38;5;124mconstant\u001b[39m\u001b[38;5;124m\"\u001b[39m, v1\u001b[38;5;241m=\u001b[39m[])\n\u001b[1;32m    172\u001b[0m \u001b[38;5;28;01mdef\u001b[39;00m \u001b[38;5;21mconstant\u001b[39m(value, dtype\u001b[38;5;241m=\u001b[39m\u001b[38;5;28;01mNone\u001b[39;00m, shape\u001b[38;5;241m=\u001b[39m\u001b[38;5;28;01mNone\u001b[39;00m, name\u001b[38;5;241m=\u001b[39m\u001b[38;5;124m\"\u001b[39m\u001b[38;5;124mConst\u001b[39m\u001b[38;5;124m\"\u001b[39m):\n\u001b[1;32m    173\u001b[0m \u001b[38;5;250m  \u001b[39m\u001b[38;5;124;03m\"\"\"Creates a constant tensor from a tensor-like object.\u001b[39;00m\n\u001b[1;32m    174\u001b[0m \n\u001b[1;32m    175\u001b[0m \u001b[38;5;124;03m  Note: All eager `tf.Tensor` values are immutable (in contrast to\u001b[39;00m\n\u001b[0;32m   (...)\u001b[0m\n\u001b[1;32m    266\u001b[0m \u001b[38;5;124;03m    ValueError: if called on a symbolic tensor.\u001b[39;00m\n\u001b[1;32m    267\u001b[0m \u001b[38;5;124;03m  \"\"\"\u001b[39;00m\n\u001b[0;32m--> 268\u001b[0m   \u001b[38;5;28;01mreturn\u001b[39;00m \u001b[43m_constant_impl\u001b[49m\u001b[43m(\u001b[49m\u001b[43mvalue\u001b[49m\u001b[43m,\u001b[49m\u001b[43m \u001b[49m\u001b[43mdtype\u001b[49m\u001b[43m,\u001b[49m\u001b[43m \u001b[49m\u001b[43mshape\u001b[49m\u001b[43m,\u001b[49m\u001b[43m \u001b[49m\u001b[43mname\u001b[49m\u001b[43m,\u001b[49m\u001b[43m \u001b[49m\u001b[43mverify_shape\u001b[49m\u001b[38;5;241;43m=\u001b[39;49m\u001b[38;5;28;43;01mFalse\u001b[39;49;00m\u001b[43m,\u001b[49m\n\u001b[1;32m    269\u001b[0m \u001b[43m                        \u001b[49m\u001b[43mallow_broadcast\u001b[49m\u001b[38;5;241;43m=\u001b[39;49m\u001b[38;5;28;43;01mTrue\u001b[39;49;00m\u001b[43m)\u001b[49m\n",
      "File \u001b[0;32m~/miniconda3/envs/tf-2.12.0/lib/python3.8/site-packages/tensorflow/python/framework/constant_op.py:280\u001b[0m, in \u001b[0;36m_constant_impl\u001b[0;34m(value, dtype, shape, name, verify_shape, allow_broadcast)\u001b[0m\n\u001b[1;32m    278\u001b[0m     \u001b[38;5;28;01mwith\u001b[39;00m trace\u001b[38;5;241m.\u001b[39mTrace(\u001b[38;5;124m\"\u001b[39m\u001b[38;5;124mtf.constant\u001b[39m\u001b[38;5;124m\"\u001b[39m):\n\u001b[1;32m    279\u001b[0m       \u001b[38;5;28;01mreturn\u001b[39;00m _constant_eager_impl(ctx, value, dtype, shape, verify_shape)\n\u001b[0;32m--> 280\u001b[0m   \u001b[38;5;28;01mreturn\u001b[39;00m \u001b[43m_constant_eager_impl\u001b[49m\u001b[43m(\u001b[49m\u001b[43mctx\u001b[49m\u001b[43m,\u001b[49m\u001b[43m \u001b[49m\u001b[43mvalue\u001b[49m\u001b[43m,\u001b[49m\u001b[43m \u001b[49m\u001b[43mdtype\u001b[49m\u001b[43m,\u001b[49m\u001b[43m \u001b[49m\u001b[43mshape\u001b[49m\u001b[43m,\u001b[49m\u001b[43m \u001b[49m\u001b[43mverify_shape\u001b[49m\u001b[43m)\u001b[49m\n\u001b[1;32m    282\u001b[0m g \u001b[38;5;241m=\u001b[39m ops\u001b[38;5;241m.\u001b[39mget_default_graph()\n\u001b[1;32m    283\u001b[0m tensor_value \u001b[38;5;241m=\u001b[39m attr_value_pb2\u001b[38;5;241m.\u001b[39mAttrValue()\n",
      "File \u001b[0;32m~/miniconda3/envs/tf-2.12.0/lib/python3.8/site-packages/tensorflow/python/framework/constant_op.py:305\u001b[0m, in \u001b[0;36m_constant_eager_impl\u001b[0;34m(ctx, value, dtype, shape, verify_shape)\u001b[0m\n\u001b[1;32m    303\u001b[0m \u001b[38;5;28;01mdef\u001b[39;00m \u001b[38;5;21m_constant_eager_impl\u001b[39m(ctx, value, dtype, shape, verify_shape):\n\u001b[1;32m    304\u001b[0m \u001b[38;5;250m  \u001b[39m\u001b[38;5;124;03m\"\"\"Creates a constant on the current device.\"\"\"\u001b[39;00m\n\u001b[0;32m--> 305\u001b[0m   t \u001b[38;5;241m=\u001b[39m \u001b[43mconvert_to_eager_tensor\u001b[49m\u001b[43m(\u001b[49m\u001b[43mvalue\u001b[49m\u001b[43m,\u001b[49m\u001b[43m \u001b[49m\u001b[43mctx\u001b[49m\u001b[43m,\u001b[49m\u001b[43m \u001b[49m\u001b[43mdtype\u001b[49m\u001b[43m)\u001b[49m\n\u001b[1;32m    306\u001b[0m   \u001b[38;5;28;01mif\u001b[39;00m shape \u001b[38;5;129;01mis\u001b[39;00m \u001b[38;5;28;01mNone\u001b[39;00m:\n\u001b[1;32m    307\u001b[0m     \u001b[38;5;28;01mreturn\u001b[39;00m t\n",
      "File \u001b[0;32m~/miniconda3/envs/tf-2.12.0/lib/python3.8/site-packages/tensorflow/python/framework/constant_op.py:103\u001b[0m, in \u001b[0;36mconvert_to_eager_tensor\u001b[0;34m(value, ctx, dtype)\u001b[0m\n\u001b[1;32m    101\u001b[0m     dtype \u001b[38;5;241m=\u001b[39m dtypes\u001b[38;5;241m.\u001b[39mas_dtype(dtype)\u001b[38;5;241m.\u001b[39mas_datatype_enum\n\u001b[1;32m    102\u001b[0m ctx\u001b[38;5;241m.\u001b[39mensure_initialized()\n\u001b[0;32m--> 103\u001b[0m \u001b[38;5;28;01mreturn\u001b[39;00m \u001b[43mops\u001b[49m\u001b[38;5;241;43m.\u001b[39;49m\u001b[43mEagerTensor\u001b[49m\u001b[43m(\u001b[49m\u001b[43mvalue\u001b[49m\u001b[43m,\u001b[49m\u001b[43m \u001b[49m\u001b[43mctx\u001b[49m\u001b[38;5;241;43m.\u001b[39;49m\u001b[43mdevice_name\u001b[49m\u001b[43m,\u001b[49m\u001b[43m \u001b[49m\u001b[43mdtype\u001b[49m\u001b[43m)\u001b[49m\n",
      "\u001b[0;31mKeyboardInterrupt\u001b[0m: "
     ]
    }
   ],
   "source": [
    "\n",
    "last_index = input_ids.shape[-1]\n",
    "\n",
    "with mirrored_strategy.scope():\n",
    "    while input_ids.shape[-1] < 100:\n",
    "        print(\"================================\")\n",
    "        print(input_ids.shape[-1])\n",
    "        #set 나눠서 green set 로짓을 촉진하기\n",
    "        gamma = 1.0\n",
    "        delta = 0.0\n",
    "        Logits = model(input_ids).logits\n",
    "        print(f\"original Logits : {Logits}\")\n",
    "\n",
    "        #seed = int(hash(input_ids % 51200))\n",
    "        seed = input_ids[-1] % Logits.shape[-1]\n",
    "        print(f\"seed : {seed[-1]}\")\n",
    "        np.random.seed(seed[-1])\n",
    "\n",
    "        indices = np.arange(Logits.shape[-1]) #0~51999\n",
    "        green_list_size = int(Logits.shape[-1] * gamma)  #25600\n",
    "        green_list = np.random.choice(indices, green_list_size, replace=False)\n",
    "        print(f\"green list : {green_list} {green_list.shape}\") #25600개의 green list\n",
    "\n",
    "        #그린 리스트에 속한 idx 값의 Logit에는 델타 추가!!!!!!\n",
    "        # 인덱스와 업데이트를 위한 텐서 생성\n",
    "        print(f\"last index = last words : {last_index}\")\n",
    "        \n",
    "        #--여기부터 probability 구하기\n",
    "        \n",
    "        green_logits = tf.zeros(green_list_size)\n",
    "        red_logits = tf.zeros(Logits.shape[-1] - green_list_size)\n",
    "        for i in green_list:\n",
    "            indices = [[0, last_index - 1, i]]  # 차원에 맞는 인덱스 설정\n",
    "            updates = [Logits[0, last_index - 1, i] + delta]  # 업데이트할 값\n",
    "            Logits = tf.tensor_scatter_nd_update(Logits, indices, updates)\n",
    "\n",
    "        print(f\"updated Logits : {Logits}\")\n",
    "        \n",
    "        denominator = tf.reduce_sum(tf.exp(Logits), axis=-1)  # softmax 계산을 위한 분모\n",
    "        print(f\"dominants : {denominator}\") #25600개의 green list\n",
    "\n",
    "        # Logits 텐서에 softmax 적용하여 확률 계산\n",
    "        softmax_tensor = tf.nn.softmax(Logits[0, last_index - 1, :])\n",
    "        print(softmax_tensor)\n",
    "        print(softmax_tensor.shape)\n",
    "\n",
    "\n",
    "        print(f\"make Probabilities : {softmax_tensor}\")\n",
    "\n",
    "        # 데이터 타입 확인 및 조정\n",
    "        add_token_id = tf.argmax(softmax_tensor)\n",
    "        print(f\"updated Logits Max value : {add_token_id}\")\n",
    "\n",
    "\n",
    "        # 텐서 연결\n",
    "        add_token_id = tf.reshape(add_token_id, [1,1])\n",
    "        add_token_id = tf.cast(add_token_id, input_ids.dtype)\n",
    "        input_ids = tf.concat([input_ids, add_token_id], axis=-1)\n",
    "        next_token = tokenizer.decode(input_ids.numpy()[0,:])\n",
    "        print(f\"next token : {next_token}\")\n",
    "        \n",
    "        last_index = input_ids.shape[-1]"
   ]
  },
  {
   "cell_type": "code",
   "execution_count": null,
   "metadata": {},
   "outputs": [],
   "source": [
    "#top5 = tf.math.top_k(output.logits[0, -1], k=5)"
   ]
  },
  {
   "cell_type": "code",
   "execution_count": null,
   "metadata": {},
   "outputs": [],
   "source": []
  },
  {
   "cell_type": "code",
   "execution_count": null,
   "metadata": {},
   "outputs": [],
   "source": []
  },
  {
   "cell_type": "code",
   "execution_count": null,
   "metadata": {},
   "outputs": [],
   "source": []
  },
  {
   "cell_type": "code",
   "execution_count": null,
   "metadata": {},
   "outputs": [],
   "source": []
  },
  {
   "cell_type": "code",
   "execution_count": null,
   "metadata": {},
   "outputs": [],
   "source": []
  },
  {
   "cell_type": "code",
   "execution_count": null,
   "metadata": {},
   "outputs": [],
   "source": []
  },
  {
   "cell_type": "code",
   "execution_count": null,
   "metadata": {},
   "outputs": [],
   "source": []
  }
 ],
 "metadata": {
  "kernelspec": {
   "display_name": "tf-2.12.0",
   "language": "python",
   "name": "python3"
  },
  "language_info": {
   "codemirror_mode": {
    "name": "ipython",
    "version": 3
   },
   "file_extension": ".py",
   "mimetype": "text/x-python",
   "name": "python",
   "nbconvert_exporter": "python",
   "pygments_lexer": "ipython3",
   "version": "3.8.19"
  }
 },
 "nbformat": 4,
 "nbformat_minor": 2
}
