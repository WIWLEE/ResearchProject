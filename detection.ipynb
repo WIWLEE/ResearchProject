{
 "cells": [
  {
   "cell_type": "code",
   "execution_count": 10,
   "metadata": {},
   "outputs": [
    {
     "name": "stdout",
     "output_type": "stream",
     "text": [
      "INFO:tensorflow:Using MirroredStrategy with devices ('/job:localhost/replica:0/task:0/device:GPU:0', '/job:localhost/replica:0/task:0/device:GPU:1', '/job:localhost/replica:0/task:0/device:GPU:2')\n"
     ]
    },
    {
     "name": "stderr",
     "output_type": "stream",
     "text": [
      "Some weights of the PyTorch model were not used when initializing the TF 2.0 model TFGPT2LMHeadModel: ['transformer.h.8.attn.masked_bias', 'transformer.h.9.attn.masked_bias', 'transformer.h.0.attn.masked_bias', 'transformer.h.5.attn.masked_bias', 'transformer.h.10.attn.masked_bias', 'transformer.h.7.attn.masked_bias', 'transformer.h.1.attn.masked_bias', 'transformer.h.6.attn.masked_bias', 'transformer.h.11.attn.masked_bias', 'transformer.h.2.attn.masked_bias', 'transformer.h.3.attn.masked_bias', 'transformer.h.4.attn.masked_bias', 'lm_head.weight']\n",
      "- This IS expected if you are initializing TFGPT2LMHeadModel from a PyTorch model trained on another task or with another architecture (e.g. initializing a TFBertForSequenceClassification model from a BertForPreTraining model).\n",
      "- This IS NOT expected if you are initializing TFGPT2LMHeadModel from a PyTorch model that you expect to be exactly identical (e.g. initializing a TFBertForSequenceClassification model from a BertForSequenceClassification model).\n",
      "All the weights of TFGPT2LMHeadModel were initialized from the PyTorch model.\n",
      "If your task is similar to the task the model of the checkpoint was trained on, you can already use TFGPT2LMHeadModel for predictions without further training.\n"
     ]
    }
   ],
   "source": [
    "import tensorflow as tf\n",
    "from transformers import AutoTokenizer\n",
    "from transformers import TFGPT2LMHeadModel #tensorflow GPT2 LM\n",
    "import numpy as np\n",
    "import torch\n",
    "from tqdm import tqdm  # 진행률 표시를 위한 tqdm 라이브러리\n",
    "from scipy.stats import norm #p-value 를 위함\n",
    "\n",
    "\n",
    "mirrored_strategy = tf.distribute.MirroredStrategy()\n",
    "model = TFGPT2LMHeadModel.from_pretrained('skt/kogpt2-base-v2', from_pt=True)\n",
    "tokenizer = AutoTokenizer.from_pretrained('skt/kogpt2-base-v2')"
   ]
  },
  {
   "cell_type": "code",
   "execution_count": 2,
   "metadata": {},
   "outputs": [
    {
     "name": "stdout",
     "output_type": "stream",
     "text": [
      "['아침 일과 시작하기\\n', '책 읽기의 즐거움\\n', '가족과 함께 하는 저녁 식사\\n', '친구와의 영화 관람\\n', '주말 동안의 여행 계획\\n', '정원 가꾸기의 효과\\n', '요리를 통한 스트레스 해소\\n', '자전거 타기의 장점\\n', '집안 정리 정돈 팁\\n', '개인 운동 루틴 유지하기\\n', '취미 활동의 중요성\\n', '새로운 언어 배우기\\n', '음악 연주와 그 영향\\n', '사진 촬영을 통한 추억 만들기\\n', '지역 사회 봉사의 보람\\n', '패션과 개인 스타일 표현\\n', '휴일을 활용한 가족 모임\\n', '건강한 식생활을 위한 조리법\\n', '애완동물과 보내는 시간\\n', '독서 클럽에서의 토론\\n', '도서관 방문의 장점\\n', '집에서의 필름 감상\\n', '커피 한 잔과의 여유\\n', '일기 쓰기의 치유 효과\\n', '홈 베이킹의 즐거움\\n', '직접 만든 공예품\\n', '새로운 요리법 시도하기\\n', '지역 공연 관람\\n', '자연 속에서의 하이킹\\n', '가구 리폼 프로젝트\\n', '아이와 함께하는 공원 나들이\\n', '새로운 스포츠 도전\\n', '개인 기록의 개선\\n', '집에서의 요가 세션\\n', '반려동물과의 산책\\n', '가족 앨범 만들기\\n', '매일의 명상 시간\\n', '가벼운 아침 조깅\\n', '주말 브런치 준비\\n', '일상의 소소한 행복 찾기\\n', '스마트폰 없는 하루\\n', '책상 정리의 중요성\\n', '옷장 정리하기\\n', '새벽 시간의 고요함\\n', '오후의 티타임\\n', '자기 전 명상\\n', '집안 식물 가꾸기\\n', '근처 박물관 탐방\\n', '집에서의 칵테일 파티\\n', '커뮤니티 클래스 참여\\n', '셀프 케어 루틴\\n', '장거리 걷기의 이점\\n', '텃밭 가꾸기\\n', '개인적인 스타일 개발\\n', '책 추천 공유\\n', '로컬 마켓 쇼핑\\n', '장기 게임의 즐거움\\n', '가족과의 보드게임 밤\\n', '디지털 디톡스\\n', '가까운 도시 탐험\\n', '수제 비누 만들기\\n', '로컬 아티스트 지원\\n', '실내 데코레이션 변경\\n', '뜨개질의 즐거움\\n', '핸드폰 배경화면 만들기\\n', '지속 가능한 생활 실천\\n', '주방 도구 정비\\n', '전통 축제 참여\\n', '친구와의 화상 통화\\n', '가족 사진 정리\\n', '주변 환경 정화 활동\\n', '하루의 목표 세우기\\n', '온라인 학습 코스\\n', '집에서의 필라테스\\n', '베란다 텃밭 가꾸기\\n', '평화로운 아침 산책\\n', '친구와의 장거리 여행 계획\\n', '커피숍에서의 독서\\n', '로컬 음식 시도\\n', '스마트폰 사진술\\n', '주변 사람들과의 교류\\n', '홈 오피스 최적화\\n', '스트리트 아트 감상\\n', '새로운 헤어스타일 시도\\n', '집에서의 영화 마라톤\\n', '시골 마을 여행\\n', '가족 요리 대결\\n', '집안 고장 난 물건 수리\\n', '친구와 함께하는 쇼핑\\n', '재활용 프로젝트 참여\\n', '커뮤니티 정원 가꾸기\\n', '개인 재정 관리\\n', '차량 관리와 유지\\n', '올드테크 아이템 수집\\n', '반려동물의 건강 관리\\n', '일상 속 작은 모험 찾기\\n', '스트레스 관리 방법\\n', '지역사회와의 소통 강화\\n', '가족과의 소중한 대화\\n', '개인 발전을 위한 목표 설정']\n",
      "----------\n"
     ]
    }
   ],
   "source": [
    "filename = 'prompt.txt'\n",
    "f = open(filename, 'r')\n",
    "lines = f.readlines()\n",
    "print(lines)\n",
    "print('-' * 10)"
   ]
  },
  {
   "cell_type": "code",
   "execution_count": 95,
   "metadata": {},
   "outputs": [
    {
     "name": "stdout",
     "output_type": "stream",
     "text": [
      "green list 단어 개수 : 42\n",
      "red list 단어 개수 : 58\n",
      "green list 단어 비율 : 0.42\n",
      "red list 단어 비율 : 0.5800000000000001\n",
      "Z-score: -0.16000000000000003, P-value: 0.8728810742171342\n"
     ]
    },
    {
     "data": {
      "text/plain": [
       "False"
      ]
     },
     "execution_count": 95,
     "metadata": {},
     "output_type": "execute_result"
    },
    {
     "ename": "",
     "evalue": "",
     "output_type": "error",
     "traceback": [
      "\u001b[1;31m현재 셀 또는 이전 셀에서 코드를 실행하는 동안 Kernel이 충돌했습니다. \n",
      "\u001b[1;31m셀의 코드를 검토하여 가능한 오류 원인을 식별하세요. \n",
      "\u001b[1;31m자세한 내용을 보려면 <a href='https://aka.ms/vscodeJupyterKernelCrash'>여기</a>를 클릭하세요. \n",
      "\u001b[1;31m자세한 내용은 Jupyter <a href='command:jupyter.viewOutput'>로그</a>를 참조하세요."
     ]
    }
   ],
   "source": [
    "def detection(final_sequence, logit_shape, gamma) :\n",
    "    \n",
    "    input_ids = tokenizer.encode(final_sequence, return_tensors='tf')\n",
    "    input_ids_list = input_ids.numpy().tolist()[0]\n",
    "    prev_tk = input_ids[0]\n",
    "    green_counts = 0\n",
    "    \n",
    "    for id in input_ids_list :\n",
    "        seed = id % logit_shape\n",
    "        #print(f\"seed : {seed[-1]}\")\n",
    "        np.random.seed(seed)\n",
    "        \n",
    "        indices = np.arange(logit_shape) #0~51999\n",
    "        green_list_size = int(logit_shape * gamma)  #25600\n",
    "        green_list = np.random.choice(indices, green_list_size, replace=False)\n",
    "       #print(f\"detection greenList : {green_list}\")\n",
    "        \n",
    "        if id in green_list :\n",
    "            green_counts = green_counts + 1\n",
    "        prev_id = id\n",
    "\n",
    "    print(f\"green list 단어 개수 : {green_counts}\")\n",
    "    print(f\"red list 단어 개수 : {len(input_ids_list)-green_counts}\")\n",
    "    green_proportion = green_counts/len(input_ids_list)\n",
    "    red_proportion = 1-green_proportion\n",
    "    print(f\"green list 단어 비율 : {green_proportion}\")\n",
    "    print(f\"red list 단어 비율 : {red_proportion}\")\n",
    "    expected_proportion = 0.5 #green list 를 모를 것이다 -> H0\n",
    "    std_error = np.sqrt(expected_proportion * (1 - expected_proportion) / len(input_ids))\n",
    "    z_score = (green_proportion - expected_proportion) / std_error\n",
    "    p_value = 2 * norm.sf(np.abs(z_score))\n",
    "    \n",
    "    print(f\"Z-score: {z_score}, P-value: {p_value}\")\n",
    "    if p_value < 0.05 :\n",
    "        return True\n",
    "    else :\n",
    "        return False\n",
    "\n",
    "#g=0.7, d=10.0 ->red list 단어 비율 : 0.580000000000000\n",
    "#sentence = \"책 읽기의 즐거움도 함께 느낄 수 있다. 이번 전시는 '책 읽는 즐거움'이라는 주제로 '책 읽는 즐거움'이라는 주제로 진행된다. 전시에는 책 읽는 즐거움이란 주제로 '책 읽는 즐거움'이라는 주제로 '책 읽는 즐거움'이라는 주제로 '책 읽는 즐거움'이라는 주제로 '책 읽는 즐거움'이라는 주제로 '책 읽는 즐거움'이라는 주제로 '책 읽는 즐거움'이라는 주제로 '책 읽는 즐거움'이라는 주제로 '책 읽는 즐거움'이라는 주제로 '책 읽는 즐거움'이라는 주제로\"\n",
    "#g=0.5, d=50.0 -> red list 단어 비율 : 0.5252525252525253\n",
    "#sentence = \"책 읽기의 즐거움도 함께 느낄 것이다.이번 전시는 '책과 세상을 잇는 길'이라는 주제 하에 작가인 김혜숙씨가 참여했다. 이번 전시는 '책과 세상을 잇는 길'이라는 주제 하에 김혜숙씨가 참여한 '책과 세상을 잇는 길'이라는 주제 하에 작가인 김혜숙씨가 참여한 '책과 세상을 잇는 길'이라는 주제 하에 진행됐고 전시는 '책과 세상을 잇는 길'이라는 주제 하에 진행됐고 전시는 '책과 세상을 잇는 길'이라는 주제 하에 진행됐고 전시는\"\n",
    "#g=0.5, d=20.0 -> red list 단어 비율 : 0.53\n",
    "#sentence = \"책 읽기의 즐거움도 함께 느낄 것이다.이번 전시는 '책과 세상을 잇는 길'이라는 주제 하에 작가인 김혜숙씨가 참여했다. 이번 전시는 '책과 세상을 잇는 길'이라는 주제 하에 김혜숙씨가 참여한 '책과 세상을 잇는 길'이라는 주제 하에 작가인 김혜숙씨가 참여한 '책과 세상을 잇는 길'이라는 주제 하에 진행됐고 전시는 '책과 세상을 잇는 길'이라는 주제 하에 진행됐고 전시는 '책과 세상을 잇는 길'이라는 주제 하에 진행됐고 전시는 \"\n",
    "#g=0.5, d=10.0 -> red list 단어 비율 : 0.5252525252525253\n",
    "#sentence = \"책 읽기의 즐거움도 함께 느낄 것이다.이번 전시는 '책과 세상을 잇는 길'이라는 주제 하에 작가인 김혜숙씨가 참여했다. 이번 전시는 '책과 세상을 잇는 길'이라는 주제 하에 김혜숙씨가 참여한 '책과 세상을 잇는 길'이라는 주제 하에 작가인 김혜숙씨가 참여한 '책과 세상을 잇는 길'이라는 주제 하에 진행됐고 전시는 '책과 세상을 잇는 길'이라는 주제 하에 진행됐고 전시는 '책과 세상을 잇는 길'이라는 주제 하에 진행됐고 전시는\"\n",
    "#g=0.5, d=5.0 -> red list 단어 비율 : 0.505050505050505\n",
    "#sentence = \"책 읽기의 즐거움도 함께 느낄 수 있다. 이번 전시는 '책과 나눔'이라는 주제 하에 지난달 27일 개막한 '책과 나눔'전을 통해 처음 선보였으며, 오는 9월까지 계속된다. 특히, 전시 기간 동안 '책과 나눔'전을 통해서는 '책과 나눔'전을 통해서는 '책과 나눔'전을 통해서는 '책과 나눔'전을 통해서는 '책과 나눔'전을 통해서는 '책과 나눔'전을 통해서는 '책과 나눔'전을 통해\"\n",
    "#g=0.5, d=1.0 -> red list 단어 비율 : 0.6\n",
    "#sentence = \"책 읽기의 즐거움도 함께 느낄 수 있다.이번 전시는 ‘책 읽는 즐거움’을 주제로 한 ‘책 읽는 즐거움’ 전시를 비롯해 ‘책 읽는 즐거움’ 전시, ‘책 읽는 즐거움’ 전시, ‘책 읽는 즐거움’ 전시, ‘책 읽는 즐거움’ 전시, ‘책 읽는 즐거움’ 전시, ‘책 읽는 즐거움’ 전시, ‘책 읽는 즐거움’ 전시, ‘책 읽는 즐거움’ 전시, ‘책 읽는 즐거움\"\n",
    "#g=1.0, d=0.0 -> red list 단어 비율 : 0.5700000000000001\n",
    "#sentence = \"책 읽기의 즐거움도 함께 느낄 수 있다. 이번 전시는 '책 읽는 즐거움'이라는 주제로 '책 읽는 즐거움'이라는 주제로 진행된다. 전시에서는 '책 읽는 즐거움'이라는 주제로 '책 읽는 즐거움'이라는 주제로 '책 읽는 즐거움'이라는 주제로 '책 읽는 즐거움'이라는 주제로 '책 읽는 즐거움'이라는 주제로 '책 읽는 즐거움'이라는 주제로 '책 읽는 즐거움'이라는 주제로 '책 읽는 즐거움'이라는 주제로 '책 읽는 즐거움'이라는 주제로 '책 읽는 즐거움'이라는\"\n",
    "\n",
    "#g=0.5\n",
    "#sentence = \"아침 일과 시작하기 전에 미리 준비해두면 좋겠습니다. 오늘은 전국이 대체로 맑겠습니다. 하지만 제주도는 구름이 많이 끼겠고요. 강원 영동 지역은 밤 한때 비가 조금 내리겠습니다. 내일 아침 기온 오늘과 비슷하겠습니다. 서울이 4도, 대구 6도로 출발하겠습니다. 낮 기온은 서울이 13도, 대구와 광주 16도로 오늘과 비슷하겠습니다. 바다의 물결은 동해 먼바다에서 최고 2.5미터까지 높게 일겠습니다. 내일 아침 기온 오늘과 비슷하겠습니다.\"\n",
    "\n",
    "#사람\n",
    "#sentence = \"안정된 순방향 전파: 만약 우리가 오프셋 δ를 0으로 초기화하고 스케일 γ를 1로 초기화한다면, 각 출력 활성화는 단위 분산을 갖게 됩니다. 일반적인 네트워크에서는 이는 초기화 과정에서 순방향 전파 중에 분산이 안정적으로 유지됨을 보장합니다. 하지만 잔차 네트워크에서는 분산은 여전히 새로운 변동 요소가 각 레이어에서 입력에 추가되면서 증가해야 합니다. 그러나 잔차 블록마다 분산은 선형적으로 증가할 것입니다. k번째 레이어는 k의 기존\"\n",
    "\n",
    "#사람\n",
    "#sentence = \"이건 사람이 작성한 글입니다. 절대 절대 p-value 가 낮게 나와서도 안되고 z-score가 0 근처여서도 안됩니다. 제발 좀 잘 나와보자 제발제발 할말이 없네 이게 다야\"\n",
    "detection(sentence, 25600, 0.5)"
   ]
  },
  {
   "cell_type": "code",
   "execution_count": 65,
   "metadata": {},
   "outputs": [
    {
     "name": "stdout",
     "output_type": "stream",
     "text": [
      "prompt : 아침 일과 시작하기\n"
     ]
    },
    {
     "name": "stderr",
     "output_type": "stream",
     "text": [
      "  0%|          | 0/100 [00:00<?, ?it/s]"
     ]
    },
    {
     "name": "stdout",
     "output_type": "stream",
     "text": [
      "seed : 9154\n",
      "green list : [18100 37771 17147 ... 40004 30326 39041] (35840,)\n"
     ]
    },
    {
     "name": "stderr",
     "output_type": "stream",
     "text": [
      "  1%|          | 1/100 [00:00<00:20,  4.73it/s]"
     ]
    },
    {
     "name": "stdout",
     "output_type": "stream",
     "text": [
      "next token : 아침 일과 시작하기 전에\n",
      "seed : 10993\n",
      "green list : [45309 34829 24174 ... 46073 12161 17041] (35840,)\n"
     ]
    },
    {
     "name": "stderr",
     "output_type": "stream",
     "text": [
      "  2%|▏         | 2/100 [00:00<00:18,  5.25it/s]"
     ]
    },
    {
     "name": "stdout",
     "output_type": "stream",
     "text": [
      "next token : 아침 일과 시작하기 전에 미리\n"
     ]
    },
    {
     "name": "stderr",
     "output_type": "stream",
     "text": [
      "  3%|▎         | 3/100 [00:00<00:18,  5.25it/s]"
     ]
    },
    {
     "name": "stdout",
     "output_type": "stream",
     "text": [
      "seed : 14110\n",
      "green list : [18272 35052  3724 ... 38159 28470  8216] (35840,)\n",
      "next token : 아침 일과 시작하기 전에 미리 준비\n",
      "seed : 11630\n",
      "green list : [36939 27856 40491 ... 20502  3014 50464] (35840,)\n"
     ]
    },
    {
     "name": "stderr",
     "output_type": "stream",
     "text": [
      "  4%|▍         | 4/100 [00:00<00:17,  5.39it/s]"
     ]
    },
    {
     "name": "stdout",
     "output_type": "stream",
     "text": [
      "next token : 아침 일과 시작하기 전에 미리 준비해\n",
      "seed : 8711\n",
      "green list : [16607  8455 30476 ... 32361 47544 16610] (35840,)\n"
     ]
    },
    {
     "name": "stderr",
     "output_type": "stream",
     "text": [
      "  5%|▌         | 5/100 [00:00<00:17,  5.49it/s]"
     ]
    },
    {
     "name": "stdout",
     "output_type": "stream",
     "text": [
      "next token : 아침 일과 시작하기 전에 미리 준비해두\n"
     ]
    },
    {
     "name": "stderr",
     "output_type": "stream",
     "text": [
      "  6%|▌         | 6/100 [00:01<00:17,  5.49it/s]"
     ]
    },
    {
     "name": "stdout",
     "output_type": "stream",
     "text": [
      "seed : 7258\n",
      "green list : [43534 39901 10580 ...  4556 28268  7691] (35840,)\n",
      "next token : 아침 일과 시작하기 전에 미리 준비해두면\n",
      "seed : 7532\n",
      "green list : [27662 42013 45704 ... 37105 48182 20257] (35840,)\n"
     ]
    },
    {
     "name": "stderr",
     "output_type": "stream",
     "text": [
      "  7%|▋         | 7/100 [00:01<00:16,  5.49it/s]"
     ]
    },
    {
     "name": "stdout",
     "output_type": "stream",
     "text": [
      "next token : 아침 일과 시작하기 전에 미리 준비해두면 좋다.\n",
      "\n",
      "seed : 14441\n",
      "green list : [35324  3216 49929 ... 32903 33785 35304] (35840,)\n"
     ]
    },
    {
     "name": "stderr",
     "output_type": "stream",
     "text": [
      "  8%|▊         | 8/100 [00:01<00:17,  5.40it/s]"
     ]
    },
    {
     "name": "stdout",
     "output_type": "stream",
     "text": [
      "next token : 아침 일과 시작하기 전에 미리 준비해두면 좋다.\n",
      "아\n"
     ]
    },
    {
     "name": "stderr",
     "output_type": "stream",
     "text": [
      "  9%|▉         | 9/100 [00:01<00:16,  5.48it/s]"
     ]
    },
    {
     "name": "stdout",
     "output_type": "stream",
     "text": [
      "seed : 7965\n",
      "green list : [15416 47541 32014 ... 11428 17311 36327] (35840,)\n",
      "next token : 아침 일과 시작하기 전에 미리 준비해두면 좋다.\n",
      "아침에\n",
      "seed : 30593\n",
      "green list : [38355 32246 36823 ... 42956 34298 11487] (35840,)\n"
     ]
    },
    {
     "name": "stderr",
     "output_type": "stream",
     "text": [
      " 10%|█         | 10/100 [00:01<00:16,  5.52it/s]"
     ]
    },
    {
     "name": "stdout",
     "output_type": "stream",
     "text": [
      "next token : 아침 일과 시작하기 전에 미리 준비해두면 좋다.\n",
      "아침에 일어나\n",
      "seed : 10124\n",
      "green list : [ 3979 21635  5352 ...  7039 34597  4414] (35840,)\n"
     ]
    },
    {
     "name": "stderr",
     "output_type": "stream",
     "text": [
      " 11%|█         | 11/100 [00:02<00:16,  5.55it/s]"
     ]
    },
    {
     "name": "stdout",
     "output_type": "stream",
     "text": [
      "next token : 아침 일과 시작하기 전에 미리 준비해두면 좋다.\n",
      "아침에 일어나서\n"
     ]
    },
    {
     "name": "stderr",
     "output_type": "stream",
     "text": [
      " 12%|█▏        | 12/100 [00:02<00:15,  5.56it/s]"
     ]
    },
    {
     "name": "stdout",
     "output_type": "stream",
     "text": [
      "seed : 7788\n",
      "green list : [39283 20964 34672 ... 14741 17430 16856] (35840,)\n",
      "next token : 아침 일과 시작하기 전에 미리 준비해두면 좋다.\n",
      "아침에 일어나서 일어나\n",
      "seed : 10124\n",
      "green list : [ 3979 21635  5352 ...  7039 34597  4414] (35840,)\n"
     ]
    },
    {
     "name": "stderr",
     "output_type": "stream",
     "text": [
      " 13%|█▎        | 13/100 [00:02<00:15,  5.54it/s]"
     ]
    },
    {
     "name": "stdout",
     "output_type": "stream",
     "text": [
      "next token : 아침 일과 시작하기 전에 미리 준비해두면 좋다.\n",
      "아침에 일어나서 일어나서\n",
      "seed : 7788\n",
      "green list : [39283 20964 34672 ... 14741 17430 16856] (35840,)\n"
     ]
    },
    {
     "name": "stderr",
     "output_type": "stream",
     "text": [
      " 14%|█▍        | 14/100 [00:02<00:15,  5.54it/s]"
     ]
    },
    {
     "name": "stdout",
     "output_type": "stream",
     "text": [
      "next token : 아침 일과 시작하기 전에 미리 준비해두면 좋다.\n",
      "아침에 일어나서 일어나서 일어나\n"
     ]
    },
    {
     "name": "stderr",
     "output_type": "stream",
     "text": [
      " 15%|█▌        | 15/100 [00:02<00:15,  5.55it/s]"
     ]
    },
    {
     "name": "stdout",
     "output_type": "stream",
     "text": [
      "seed : 10124\n",
      "green list : [ 3979 21635  5352 ...  7039 34597  4414] (35840,)\n",
      "next token : 아침 일과 시작하기 전에 미리 준비해두면 좋다.\n",
      "아침에 일어나서 일어나서 일어나서\n",
      "seed : 7788\n",
      "green list : [39283 20964 34672 ... 14741 17430 16856] (35840,)\n"
     ]
    },
    {
     "name": "stderr",
     "output_type": "stream",
     "text": [
      " 16%|█▌        | 16/100 [00:02<00:15,  5.56it/s]"
     ]
    },
    {
     "name": "stdout",
     "output_type": "stream",
     "text": [
      "next token : 아침 일과 시작하기 전에 미리 준비해두면 좋다.\n",
      "아침에 일어나서 일어나서 일어나서 일어나\n",
      "seed : 10124\n",
      "green list : [ 3979 21635  5352 ...  7039 34597  4414] (35840,)\n"
     ]
    },
    {
     "name": "stderr",
     "output_type": "stream",
     "text": [
      " 17%|█▋        | 17/100 [00:03<00:14,  5.58it/s]"
     ]
    },
    {
     "name": "stdout",
     "output_type": "stream",
     "text": [
      "next token : 아침 일과 시작하기 전에 미리 준비해두면 좋다.\n",
      "아침에 일어나서 일어나서 일어나서 일어나서\n"
     ]
    },
    {
     "name": "stderr",
     "output_type": "stream",
     "text": [
      " 18%|█▊        | 18/100 [00:03<00:14,  5.58it/s]"
     ]
    },
    {
     "name": "stdout",
     "output_type": "stream",
     "text": [
      "seed : 7788\n",
      "green list : [39283 20964 34672 ... 14741 17430 16856] (35840,)\n",
      "next token : 아침 일과 시작하기 전에 미리 준비해두면 좋다.\n",
      "아침에 일어나서 일어나서 일어나서 일어나서 일어나\n",
      "seed : 10124\n",
      "green list : [ 3979 21635  5352 ...  7039 34597  4414] (35840,)\n"
     ]
    },
    {
     "name": "stderr",
     "output_type": "stream",
     "text": [
      " 19%|█▉        | 19/100 [00:03<00:14,  5.55it/s]"
     ]
    },
    {
     "name": "stdout",
     "output_type": "stream",
     "text": [
      "next token : 아침 일과 시작하기 전에 미리 준비해두면 좋다.\n",
      "아침에 일어나서 일어나서 일어나서 일어나서 일어나서\n",
      "seed : 7788\n",
      "green list : [39283 20964 34672 ... 14741 17430 16856] (35840,)\n"
     ]
    },
    {
     "name": "stderr",
     "output_type": "stream",
     "text": [
      " 20%|██        | 20/100 [00:03<00:14,  5.57it/s]"
     ]
    },
    {
     "name": "stdout",
     "output_type": "stream",
     "text": [
      "next token : 아침 일과 시작하기 전에 미리 준비해두면 좋다.\n",
      "아침에 일어나서 일어나서 일어나서 일어나서 일어나서 일어나\n"
     ]
    },
    {
     "name": "stderr",
     "output_type": "stream",
     "text": [
      " 21%|██        | 21/100 [00:03<00:14,  5.57it/s]"
     ]
    },
    {
     "name": "stdout",
     "output_type": "stream",
     "text": [
      "seed : 10124\n",
      "green list : [ 3979 21635  5352 ...  7039 34597  4414] (35840,)\n",
      "next token : 아침 일과 시작하기 전에 미리 준비해두면 좋다.\n",
      "아침에 일어나서 일어나서 일어나서 일어나서 일어나서 일어나서\n",
      "seed : 7788\n",
      "green list : [39283 20964 34672 ... 14741 17430 16856] (35840,)\n"
     ]
    },
    {
     "name": "stderr",
     "output_type": "stream",
     "text": [
      " 22%|██▏       | 22/100 [00:03<00:14,  5.56it/s]"
     ]
    },
    {
     "name": "stdout",
     "output_type": "stream",
     "text": [
      "next token : 아침 일과 시작하기 전에 미리 준비해두면 좋다.\n",
      "아침에 일어나서 일어나서 일어나서 일어나서 일어나서 일어나서 일어나\n",
      "seed : 10124\n",
      "green list : [ 3979 21635  5352 ...  7039 34597  4414] (35840,)\n"
     ]
    },
    {
     "name": "stderr",
     "output_type": "stream",
     "text": [
      " 23%|██▎       | 23/100 [00:04<00:13,  5.55it/s]"
     ]
    },
    {
     "name": "stdout",
     "output_type": "stream",
     "text": [
      "next token : 아침 일과 시작하기 전에 미리 준비해두면 좋다.\n",
      "아침에 일어나서 일어나서 일어나서 일어나서 일어나서 일어나서 일어나서\n"
     ]
    },
    {
     "name": "stderr",
     "output_type": "stream",
     "text": [
      " 24%|██▍       | 24/100 [00:04<00:13,  5.55it/s]"
     ]
    },
    {
     "name": "stdout",
     "output_type": "stream",
     "text": [
      "seed : 7788\n",
      "green list : [39283 20964 34672 ... 14741 17430 16856] (35840,)\n",
      "next token : 아침 일과 시작하기 전에 미리 준비해두면 좋다.\n",
      "아침에 일어나서 일어나서 일어나서 일어나서 일어나서 일어나서 일어나서 일어나\n",
      "seed : 10124\n",
      "green list : [ 3979 21635  5352 ...  7039 34597  4414] (35840,)\n"
     ]
    },
    {
     "name": "stderr",
     "output_type": "stream",
     "text": [
      " 25%|██▌       | 25/100 [00:04<00:13,  5.54it/s]"
     ]
    },
    {
     "name": "stdout",
     "output_type": "stream",
     "text": [
      "next token : 아침 일과 시작하기 전에 미리 준비해두면 좋다.\n",
      "아침에 일어나서 일어나서 일어나서 일어나서 일어나서 일어나서 일어나서 일어나서\n",
      "seed : 7788\n",
      "green list : [39283 20964 34672 ... 14741 17430 16856] (35840,)\n"
     ]
    },
    {
     "name": "stderr",
     "output_type": "stream",
     "text": [
      " 26%|██▌       | 26/100 [00:04<00:13,  5.54it/s]"
     ]
    },
    {
     "name": "stdout",
     "output_type": "stream",
     "text": [
      "next token : 아침 일과 시작하기 전에 미리 준비해두면 좋다.\n",
      "아침에 일어나서 일어나서 일어나서 일어나서 일어나서 일어나서 일어나서 일어나서 일어나\n"
     ]
    },
    {
     "name": "stderr",
     "output_type": "stream",
     "text": [
      " 27%|██▋       | 27/100 [00:04<00:13,  5.53it/s]"
     ]
    },
    {
     "name": "stdout",
     "output_type": "stream",
     "text": [
      "seed : 10124\n",
      "green list : [ 3979 21635  5352 ...  7039 34597  4414] (35840,)\n",
      "next token : 아침 일과 시작하기 전에 미리 준비해두면 좋다.\n",
      "아침에 일어나서 일어나서 일어나서 일어나서 일어나서 일어나서 일어나서 일어나서 일어나서\n",
      "seed : 7788\n",
      "green list : [39283 20964 34672 ... 14741 17430 16856] (35840,)\n"
     ]
    },
    {
     "name": "stderr",
     "output_type": "stream",
     "text": [
      " 28%|██▊       | 28/100 [00:05<00:13,  5.49it/s]"
     ]
    },
    {
     "name": "stdout",
     "output_type": "stream",
     "text": [
      "next token : 아침 일과 시작하기 전에 미리 준비해두면 좋다.\n",
      "아침에 일어나서 일어나서 일어나서 일어나서 일어나서 일어나서 일어나서 일어나서 일어나서 일어나\n",
      "seed : 10124\n",
      "green list : [ 3979 21635  5352 ...  7039 34597  4414] (35840,)\n"
     ]
    },
    {
     "name": "stderr",
     "output_type": "stream",
     "text": [
      " 29%|██▉       | 29/100 [00:05<00:13,  5.38it/s]"
     ]
    },
    {
     "name": "stdout",
     "output_type": "stream",
     "text": [
      "next token : 아침 일과 시작하기 전에 미리 준비해두면 좋다.\n",
      "아침에 일어나서 일어나서 일어나서 일어나서 일어나서 일어나서 일어나서 일어나서 일어나서 일어나서\n"
     ]
    },
    {
     "name": "stderr",
     "output_type": "stream",
     "text": [
      " 30%|███       | 30/100 [00:05<00:12,  5.41it/s]"
     ]
    },
    {
     "name": "stdout",
     "output_type": "stream",
     "text": [
      "seed : 7788\n",
      "green list : [39283 20964 34672 ... 14741 17430 16856] (35840,)\n",
      "next token : 아침 일과 시작하기 전에 미리 준비해두면 좋다.\n",
      "아침에 일어나서 일어나서 일어나서 일어나서 일어나서 일어나서 일어나서 일어나서 일어나서 일어나서 일어나\n",
      "seed : 10124\n",
      "green list : [ 3979 21635  5352 ...  7039 34597  4414] (35840,)\n"
     ]
    },
    {
     "name": "stderr",
     "output_type": "stream",
     "text": [
      " 31%|███       | 31/100 [00:05<00:12,  5.43it/s]"
     ]
    },
    {
     "name": "stdout",
     "output_type": "stream",
     "text": [
      "next token : 아침 일과 시작하기 전에 미리 준비해두면 좋다.\n",
      "아침에 일어나서 일어나서 일어나서 일어나서 일어나서 일어나서 일어나서 일어나서 일어나서 일어나서 일어나서\n",
      "seed : 7788\n",
      "green list : [39283 20964 34672 ... 14741 17430 16856] (35840,)\n"
     ]
    },
    {
     "name": "stderr",
     "output_type": "stream",
     "text": [
      " 32%|███▏      | 32/100 [00:05<00:12,  5.45it/s]"
     ]
    },
    {
     "name": "stdout",
     "output_type": "stream",
     "text": [
      "next token : 아침 일과 시작하기 전에 미리 준비해두면 좋다.\n",
      "아침에 일어나서 일어나서 일어나서 일어나서 일어나서 일어나서 일어나서 일어나서 일어나서 일어나서 일어나서 일어나\n"
     ]
    },
    {
     "name": "stderr",
     "output_type": "stream",
     "text": [
      " 33%|███▎      | 33/100 [00:06<00:12,  5.43it/s]"
     ]
    },
    {
     "name": "stdout",
     "output_type": "stream",
     "text": [
      "seed : 10124\n",
      "green list : [ 3979 21635  5352 ...  7039 34597  4414] (35840,)\n",
      "next token : 아침 일과 시작하기 전에 미리 준비해두면 좋다.\n",
      "아침에 일어나서 일어나서 일어나서 일어나서 일어나서 일어나서 일어나서 일어나서 일어나서 일어나서 일어나서 일어나서\n",
      "seed : 7788\n",
      "green list : [39283 20964 34672 ... 14741 17430 16856] (35840,)\n"
     ]
    },
    {
     "name": "stderr",
     "output_type": "stream",
     "text": [
      " 34%|███▍      | 34/100 [00:06<00:12,  5.45it/s]"
     ]
    },
    {
     "name": "stdout",
     "output_type": "stream",
     "text": [
      "next token : 아침 일과 시작하기 전에 미리 준비해두면 좋다.\n",
      "아침에 일어나서 일어나서 일어나서 일어나서 일어나서 일어나서 일어나서 일어나서 일어나서 일어나서 일어나서 일어나서 일어나\n",
      "seed : 10124\n",
      "green list : [ 3979 21635  5352 ...  7039 34597  4414] (35840,)\n"
     ]
    },
    {
     "name": "stderr",
     "output_type": "stream",
     "text": [
      " 35%|███▌      | 35/100 [00:06<00:11,  5.46it/s]"
     ]
    },
    {
     "name": "stdout",
     "output_type": "stream",
     "text": [
      "next token : 아침 일과 시작하기 전에 미리 준비해두면 좋다.\n",
      "아침에 일어나서 일어나서 일어나서 일어나서 일어나서 일어나서 일어나서 일어나서 일어나서 일어나서 일어나서 일어나서 일어나서\n"
     ]
    },
    {
     "name": "stderr",
     "output_type": "stream",
     "text": [
      " 36%|███▌      | 36/100 [00:06<00:11,  5.44it/s]"
     ]
    },
    {
     "name": "stdout",
     "output_type": "stream",
     "text": [
      "seed : 7788\n",
      "green list : [39283 20964 34672 ... 14741 17430 16856] (35840,)\n",
      "next token : 아침 일과 시작하기 전에 미리 준비해두면 좋다.\n",
      "아침에 일어나서 일어나서 일어나서 일어나서 일어나서 일어나서 일어나서 일어나서 일어나서 일어나서 일어나서 일어나서 일어나서 일어나\n",
      "seed : 10124\n",
      "green list : [ 3979 21635  5352 ...  7039 34597  4414] (35840,)\n"
     ]
    },
    {
     "name": "stderr",
     "output_type": "stream",
     "text": [
      " 37%|███▋      | 37/100 [00:06<00:11,  5.44it/s]"
     ]
    },
    {
     "name": "stdout",
     "output_type": "stream",
     "text": [
      "next token : 아침 일과 시작하기 전에 미리 준비해두면 좋다.\n",
      "아침에 일어나서 일어나서 일어나서 일어나서 일어나서 일어나서 일어나서 일어나서 일어나서 일어나서 일어나서 일어나서 일어나서 일어나서\n",
      "seed : 7788\n",
      "green list : [39283 20964 34672 ... 14741 17430 16856] (35840,)\n"
     ]
    },
    {
     "name": "stderr",
     "output_type": "stream",
     "text": [
      " 38%|███▊      | 38/100 [00:06<00:11,  5.47it/s]"
     ]
    },
    {
     "name": "stdout",
     "output_type": "stream",
     "text": [
      "next token : 아침 일과 시작하기 전에 미리 준비해두면 좋다.\n",
      "아침에 일어나서 일어나서 일어나서 일어나서 일어나서 일어나서 일어나서 일어나서 일어나서 일어나서 일어나서 일어나서 일어나서 일어나서 일어나\n"
     ]
    },
    {
     "name": "stderr",
     "output_type": "stream",
     "text": [
      " 39%|███▉      | 39/100 [00:07<00:11,  5.47it/s]"
     ]
    },
    {
     "name": "stdout",
     "output_type": "stream",
     "text": [
      "seed : 10124\n",
      "green list : [ 3979 21635  5352 ...  7039 34597  4414] (35840,)\n",
      "next token : 아침 일과 시작하기 전에 미리 준비해두면 좋다.\n",
      "아침에 일어나서 일어나서 일어나서 일어나서 일어나서 일어나서 일어나서 일어나서 일어나서 일어나서 일어나서 일어나서 일어나서 일어나서 일어나서\n",
      "seed : 7788\n",
      "green list : [39283 20964 34672 ... 14741 17430 16856] (35840,)\n"
     ]
    },
    {
     "name": "stderr",
     "output_type": "stream",
     "text": [
      " 40%|████      | 40/100 [00:07<00:11,  5.34it/s]"
     ]
    },
    {
     "name": "stdout",
     "output_type": "stream",
     "text": [
      "next token : 아침 일과 시작하기 전에 미리 준비해두면 좋다.\n",
      "아침에 일어나서 일어나서 일어나서 일어나서 일어나서 일어나서 일어나서 일어나서 일어나서 일어나서 일어나서 일어나서 일어나서 일어나서 일어나서 일어나\n",
      "seed : 10124\n",
      "green list : [ 3979 21635  5352 ...  7039 34597  4414] (35840,)\n"
     ]
    },
    {
     "name": "stderr",
     "output_type": "stream",
     "text": [
      " 41%|████      | 41/100 [00:07<00:10,  5.38it/s]"
     ]
    },
    {
     "name": "stdout",
     "output_type": "stream",
     "text": [
      "next token : 아침 일과 시작하기 전에 미리 준비해두면 좋다.\n",
      "아침에 일어나서 일어나서 일어나서 일어나서 일어나서 일어나서 일어나서 일어나서 일어나서 일어나서 일어나서 일어나서 일어나서 일어나서 일어나서 일어나서\n"
     ]
    },
    {
     "name": "stderr",
     "output_type": "stream",
     "text": [
      " 42%|████▏     | 42/100 [00:07<00:10,  5.38it/s]"
     ]
    },
    {
     "name": "stdout",
     "output_type": "stream",
     "text": [
      "seed : 7788\n",
      "green list : [39283 20964 34672 ... 14741 17430 16856] (35840,)\n",
      "next token : 아침 일과 시작하기 전에 미리 준비해두면 좋다.\n",
      "아침에 일어나서 일어나서 일어나서 일어나서 일어나서 일어나서 일어나서 일어나서 일어나서 일어나서 일어나서 일어나서 일어나서 일어나서 일어나서 일어나서 일어나\n",
      "seed : 10124\n",
      "green list : [ 3979 21635  5352 ...  7039 34597  4414] (35840,)\n"
     ]
    },
    {
     "name": "stderr",
     "output_type": "stream",
     "text": [
      " 43%|████▎     | 43/100 [00:07<00:10,  5.39it/s]"
     ]
    },
    {
     "name": "stdout",
     "output_type": "stream",
     "text": [
      "next token : 아침 일과 시작하기 전에 미리 준비해두면 좋다.\n",
      "아침에 일어나서 일어나서 일어나서 일어나서 일어나서 일어나서 일어나서 일어나서 일어나서 일어나서 일어나서 일어나서 일어나서 일어나서 일어나서 일어나서 일어나서\n",
      "seed : 7788\n",
      "green list : [39283 20964 34672 ... 14741 17430 16856] (35840,)\n"
     ]
    },
    {
     "name": "stderr",
     "output_type": "stream",
     "text": [
      " 44%|████▍     | 44/100 [00:08<00:10,  5.37it/s]"
     ]
    },
    {
     "name": "stdout",
     "output_type": "stream",
     "text": [
      "next token : 아침 일과 시작하기 전에 미리 준비해두면 좋다.\n",
      "아침에 일어나서 일어나서 일어나서 일어나서 일어나서 일어나서 일어나서 일어나서 일어나서 일어나서 일어나서 일어나서 일어나서 일어나서 일어나서 일어나서 일어나서 일어나\n"
     ]
    },
    {
     "name": "stderr",
     "output_type": "stream",
     "text": [
      " 45%|████▌     | 45/100 [00:08<00:10,  5.38it/s]"
     ]
    },
    {
     "name": "stdout",
     "output_type": "stream",
     "text": [
      "seed : 10124\n",
      "green list : [ 3979 21635  5352 ...  7039 34597  4414] (35840,)\n",
      "next token : 아침 일과 시작하기 전에 미리 준비해두면 좋다.\n",
      "아침에 일어나서 일어나서 일어나서 일어나서 일어나서 일어나서 일어나서 일어나서 일어나서 일어나서 일어나서 일어나서 일어나서 일어나서 일어나서 일어나서 일어나서 일어나서\n",
      "seed : 7788\n",
      "green list : [39283 20964 34672 ... 14741 17430 16856] (35840,)\n"
     ]
    },
    {
     "name": "stderr",
     "output_type": "stream",
     "text": [
      " 46%|████▌     | 46/100 [00:08<00:10,  5.35it/s]"
     ]
    },
    {
     "name": "stdout",
     "output_type": "stream",
     "text": [
      "next token : 아침 일과 시작하기 전에 미리 준비해두면 좋다.\n",
      "아침에 일어나서 일어나서 일어나서 일어나서 일어나서 일어나서 일어나서 일어나서 일어나서 일어나서 일어나서 일어나서 일어나서 일어나서 일어나서 일어나서 일어나서 일어나서 일어나\n",
      "seed : 10124\n",
      "green list : [ 3979 21635  5352 ...  7039 34597  4414] (35840,)\n"
     ]
    },
    {
     "name": "stderr",
     "output_type": "stream",
     "text": [
      " 47%|████▋     | 47/100 [00:08<00:09,  5.35it/s]"
     ]
    },
    {
     "name": "stdout",
     "output_type": "stream",
     "text": [
      "next token : 아침 일과 시작하기 전에 미리 준비해두면 좋다.\n",
      "아침에 일어나서 일어나서 일어나서 일어나서 일어나서 일어나서 일어나서 일어나서 일어나서 일어나서 일어나서 일어나서 일어나서 일어나서 일어나서 일어나서 일어나서 일어나서 일어나서\n"
     ]
    },
    {
     "name": "stderr",
     "output_type": "stream",
     "text": [
      " 48%|████▊     | 48/100 [00:08<00:09,  5.34it/s]"
     ]
    },
    {
     "name": "stdout",
     "output_type": "stream",
     "text": [
      "seed : 7788\n",
      "green list : [39283 20964 34672 ... 14741 17430 16856] (35840,)\n",
      "next token : 아침 일과 시작하기 전에 미리 준비해두면 좋다.\n",
      "아침에 일어나서 일어나서 일어나서 일어나서 일어나서 일어나서 일어나서 일어나서 일어나서 일어나서 일어나서 일어나서 일어나서 일어나서 일어나서 일어나서 일어나서 일어나서 일어나서 일어나\n",
      "seed : 10124\n",
      "green list : [ 3979 21635  5352 ...  7039 34597  4414] (35840,)\n"
     ]
    },
    {
     "name": "stderr",
     "output_type": "stream",
     "text": [
      " 49%|████▉     | 49/100 [00:08<00:09,  5.33it/s]"
     ]
    },
    {
     "name": "stdout",
     "output_type": "stream",
     "text": [
      "next token : 아침 일과 시작하기 전에 미리 준비해두면 좋다.\n",
      "아침에 일어나서 일어나서 일어나서 일어나서 일어나서 일어나서 일어나서 일어나서 일어나서 일어나서 일어나서 일어나서 일어나서 일어나서 일어나서 일어나서 일어나서 일어나서 일어나서 일어나서\n",
      "seed : 7788\n",
      "green list : [39283 20964 34672 ... 14741 17430 16856] (35840,)\n"
     ]
    },
    {
     "name": "stderr",
     "output_type": "stream",
     "text": [
      " 50%|█████     | 50/100 [00:09<00:09,  5.32it/s]"
     ]
    },
    {
     "name": "stdout",
     "output_type": "stream",
     "text": [
      "next token : 아침 일과 시작하기 전에 미리 준비해두면 좋다.\n",
      "아침에 일어나서 일어나서 일어나서 일어나서 일어나서 일어나서 일어나서 일어나서 일어나서 일어나서 일어나서 일어나서 일어나서 일어나서 일어나서 일어나서 일어나서 일어나서 일어나서 일어나서 일어나\n"
     ]
    },
    {
     "name": "stderr",
     "output_type": "stream",
     "text": [
      " 51%|█████     | 51/100 [00:09<00:09,  5.30it/s]"
     ]
    },
    {
     "name": "stdout",
     "output_type": "stream",
     "text": [
      "seed : 10124\n",
      "green list : [ 3979 21635  5352 ...  7039 34597  4414] (35840,)\n",
      "next token : 아침 일과 시작하기 전에 미리 준비해두면 좋다.\n",
      "아침에 일어나서 일어나서 일어나서 일어나서 일어나서 일어나서 일어나서 일어나서 일어나서 일어나서 일어나서 일어나서 일어나서 일어나서 일어나서 일어나서 일어나서 일어나서 일어나서 일어나서 일어나서\n",
      "seed : 7788\n",
      "green list : [39283 20964 34672 ... 14741 17430 16856] (35840,)\n"
     ]
    },
    {
     "name": "stderr",
     "output_type": "stream",
     "text": [
      " 52%|█████▏    | 52/100 [00:09<00:09,  5.30it/s]"
     ]
    },
    {
     "name": "stdout",
     "output_type": "stream",
     "text": [
      "next token : 아침 일과 시작하기 전에 미리 준비해두면 좋다.\n",
      "아침에 일어나서 일어나서 일어나서 일어나서 일어나서 일어나서 일어나서 일어나서 일어나서 일어나서 일어나서 일어나서 일어나서 일어나서 일어나서 일어나서 일어나서 일어나서 일어나서 일어나서 일어나서 일어나\n",
      "seed : 10124\n",
      "green list : [ 3979 21635  5352 ...  7039 34597  4414] (35840,)\n"
     ]
    },
    {
     "name": "stderr",
     "output_type": "stream",
     "text": [
      " 53%|█████▎    | 53/100 [00:09<00:08,  5.30it/s]"
     ]
    },
    {
     "name": "stdout",
     "output_type": "stream",
     "text": [
      "next token : 아침 일과 시작하기 전에 미리 준비해두면 좋다.\n",
      "아침에 일어나서 일어나서 일어나서 일어나서 일어나서 일어나서 일어나서 일어나서 일어나서 일어나서 일어나서 일어나서 일어나서 일어나서 일어나서 일어나서 일어나서 일어나서 일어나서 일어나서 일어나서 일어나서\n"
     ]
    },
    {
     "name": "stderr",
     "output_type": "stream",
     "text": [
      " 54%|█████▍    | 54/100 [00:09<00:08,  5.29it/s]"
     ]
    },
    {
     "name": "stdout",
     "output_type": "stream",
     "text": [
      "seed : 7788\n",
      "green list : [39283 20964 34672 ... 14741 17430 16856] (35840,)\n",
      "next token : 아침 일과 시작하기 전에 미리 준비해두면 좋다.\n",
      "아침에 일어나서 일어나서 일어나서 일어나서 일어나서 일어나서 일어나서 일어나서 일어나서 일어나서 일어나서 일어나서 일어나서 일어나서 일어나서 일어나서 일어나서 일어나서 일어나서 일어나서 일어나서 일어나서 일어나\n",
      "seed : 10124\n",
      "green list : [ 3979 21635  5352 ...  7039 34597  4414] (35840,)\n"
     ]
    },
    {
     "name": "stderr",
     "output_type": "stream",
     "text": [
      " 55%|█████▌    | 55/100 [00:10<00:08,  5.28it/s]"
     ]
    },
    {
     "name": "stdout",
     "output_type": "stream",
     "text": [
      "next token : 아침 일과 시작하기 전에 미리 준비해두면 좋다.\n",
      "아침에 일어나서 일어나서 일어나서 일어나서 일어나서 일어나서 일어나서 일어나서 일어나서 일어나서 일어나서 일어나서 일어나서 일어나서 일어나서 일어나서 일어나서 일어나서 일어나서 일어나서 일어나서 일어나서 일어나서\n",
      "seed : 7788\n",
      "green list : [39283 20964 34672 ... 14741 17430 16856] (35840,)\n"
     ]
    },
    {
     "name": "stderr",
     "output_type": "stream",
     "text": [
      " 56%|█████▌    | 56/100 [00:10<00:08,  5.28it/s]"
     ]
    },
    {
     "name": "stdout",
     "output_type": "stream",
     "text": [
      "next token : 아침 일과 시작하기 전에 미리 준비해두면 좋다.\n",
      "아침에 일어나서 일어나서 일어나서 일어나서 일어나서 일어나서 일어나서 일어나서 일어나서 일어나서 일어나서 일어나서 일어나서 일어나서 일어나서 일어나서 일어나서 일어나서 일어나서 일어나서 일어나서 일어나서 일어나서 일어나\n"
     ]
    },
    {
     "name": "stderr",
     "output_type": "stream",
     "text": [
      " 57%|█████▋    | 57/100 [00:10<00:08,  5.27it/s]"
     ]
    },
    {
     "name": "stdout",
     "output_type": "stream",
     "text": [
      "seed : 10124\n",
      "green list : [ 3979 21635  5352 ...  7039 34597  4414] (35840,)\n",
      "next token : 아침 일과 시작하기 전에 미리 준비해두면 좋다.\n",
      "아침에 일어나서 일어나서 일어나서 일어나서 일어나서 일어나서 일어나서 일어나서 일어나서 일어나서 일어나서 일어나서 일어나서 일어나서 일어나서 일어나서 일어나서 일어나서 일어나서 일어나서 일어나서 일어나서 일어나서 일어나서\n",
      "seed : 7788\n",
      "green list : [39283 20964 34672 ... 14741 17430 16856] (35840,)\n"
     ]
    },
    {
     "name": "stderr",
     "output_type": "stream",
     "text": [
      " 58%|█████▊    | 58/100 [00:10<00:08,  5.22it/s]"
     ]
    },
    {
     "name": "stdout",
     "output_type": "stream",
     "text": [
      "next token : 아침 일과 시작하기 전에 미리 준비해두면 좋다.\n",
      "아침에 일어나서 일어나서 일어나서 일어나서 일어나서 일어나서 일어나서 일어나서 일어나서 일어나서 일어나서 일어나서 일어나서 일어나서 일어나서 일어나서 일어나서 일어나서 일어나서 일어나서 일어나서 일어나서 일어나서 일어나서 일어나\n",
      "seed : 10124\n",
      "green list : [ 3979 21635  5352 ...  7039 34597  4414] (35840,)\n"
     ]
    },
    {
     "name": "stderr",
     "output_type": "stream",
     "text": [
      " 59%|█████▉    | 59/100 [00:10<00:07,  5.23it/s]"
     ]
    },
    {
     "name": "stdout",
     "output_type": "stream",
     "text": [
      "next token : 아침 일과 시작하기 전에 미리 준비해두면 좋다.\n",
      "아침에 일어나서 일어나서 일어나서 일어나서 일어나서 일어나서 일어나서 일어나서 일어나서 일어나서 일어나서 일어나서 일어나서 일어나서 일어나서 일어나서 일어나서 일어나서 일어나서 일어나서 일어나서 일어나서 일어나서 일어나서 일어나서\n"
     ]
    },
    {
     "name": "stderr",
     "output_type": "stream",
     "text": [
      " 60%|██████    | 60/100 [00:11<00:07,  5.24it/s]"
     ]
    },
    {
     "name": "stdout",
     "output_type": "stream",
     "text": [
      "seed : 7788\n",
      "green list : [39283 20964 34672 ... 14741 17430 16856] (35840,)\n",
      "next token : 아침 일과 시작하기 전에 미리 준비해두면 좋다.\n",
      "아침에 일어나서 일어나서 일어나서 일어나서 일어나서 일어나서 일어나서 일어나서 일어나서 일어나서 일어나서 일어나서 일어나서 일어나서 일어나서 일어나서 일어나서 일어나서 일어나서 일어나서 일어나서 일어나서 일어나서 일어나서 일어나서 일어나\n",
      "seed : 10124\n",
      "green list : [ 3979 21635  5352 ...  7039 34597  4414] (35840,)\n"
     ]
    },
    {
     "name": "stderr",
     "output_type": "stream",
     "text": [
      " 61%|██████    | 61/100 [00:11<00:07,  5.22it/s]"
     ]
    },
    {
     "name": "stdout",
     "output_type": "stream",
     "text": [
      "next token : 아침 일과 시작하기 전에 미리 준비해두면 좋다.\n",
      "아침에 일어나서 일어나서 일어나서 일어나서 일어나서 일어나서 일어나서 일어나서 일어나서 일어나서 일어나서 일어나서 일어나서 일어나서 일어나서 일어나서 일어나서 일어나서 일어나서 일어나서 일어나서 일어나서 일어나서 일어나서 일어나서 일어나서\n",
      "seed : 7788\n",
      "green list : [39283 20964 34672 ... 14741 17430 16856] (35840,)\n"
     ]
    },
    {
     "name": "stderr",
     "output_type": "stream",
     "text": [
      " 62%|██████▏   | 62/100 [00:11<00:07,  5.23it/s]"
     ]
    },
    {
     "name": "stdout",
     "output_type": "stream",
     "text": [
      "next token : 아침 일과 시작하기 전에 미리 준비해두면 좋다.\n",
      "아침에 일어나서 일어나서 일어나서 일어나서 일어나서 일어나서 일어나서 일어나서 일어나서 일어나서 일어나서 일어나서 일어나서 일어나서 일어나서 일어나서 일어나서 일어나서 일어나서 일어나서 일어나서 일어나서 일어나서 일어나서 일어나서 일어나서 일어나\n"
     ]
    },
    {
     "name": "stderr",
     "output_type": "stream",
     "text": [
      " 63%|██████▎   | 63/100 [00:11<00:07,  5.19it/s]"
     ]
    },
    {
     "name": "stdout",
     "output_type": "stream",
     "text": [
      "seed : 10124\n",
      "green list : [ 3979 21635  5352 ...  7039 34597  4414] (35840,)\n",
      "next token : 아침 일과 시작하기 전에 미리 준비해두면 좋다.\n",
      "아침에 일어나서 일어나서 일어나서 일어나서 일어나서 일어나서 일어나서 일어나서 일어나서 일어나서 일어나서 일어나서 일어나서 일어나서 일어나서 일어나서 일어나서 일어나서 일어나서 일어나서 일어나서 일어나서 일어나서 일어나서 일어나서 일어나서 일어나서\n",
      "seed : 7788\n",
      "green list : [39283 20964 34672 ... 14741 17430 16856] (35840,)\n"
     ]
    },
    {
     "name": "stderr",
     "output_type": "stream",
     "text": [
      " 64%|██████▍   | 64/100 [00:11<00:06,  5.16it/s]"
     ]
    },
    {
     "name": "stdout",
     "output_type": "stream",
     "text": [
      "next token : 아침 일과 시작하기 전에 미리 준비해두면 좋다.\n",
      "아침에 일어나서 일어나서 일어나서 일어나서 일어나서 일어나서 일어나서 일어나서 일어나서 일어나서 일어나서 일어나서 일어나서 일어나서 일어나서 일어나서 일어나서 일어나서 일어나서 일어나서 일어나서 일어나서 일어나서 일어나서 일어나서 일어나서 일어나서 일어나\n",
      "seed : 10124\n",
      "green list : [ 3979 21635  5352 ...  7039 34597  4414] (35840,)\n"
     ]
    },
    {
     "name": "stderr",
     "output_type": "stream",
     "text": [
      " 65%|██████▌   | 65/100 [00:12<00:06,  5.17it/s]"
     ]
    },
    {
     "name": "stdout",
     "output_type": "stream",
     "text": [
      "next token : 아침 일과 시작하기 전에 미리 준비해두면 좋다.\n",
      "아침에 일어나서 일어나서 일어나서 일어나서 일어나서 일어나서 일어나서 일어나서 일어나서 일어나서 일어나서 일어나서 일어나서 일어나서 일어나서 일어나서 일어나서 일어나서 일어나서 일어나서 일어나서 일어나서 일어나서 일어나서 일어나서 일어나서 일어나서 일어나서\n"
     ]
    },
    {
     "name": "stderr",
     "output_type": "stream",
     "text": [
      " 66%|██████▌   | 66/100 [00:12<00:06,  5.18it/s]"
     ]
    },
    {
     "name": "stdout",
     "output_type": "stream",
     "text": [
      "seed : 7788\n",
      "green list : [39283 20964 34672 ... 14741 17430 16856] (35840,)\n",
      "next token : 아침 일과 시작하기 전에 미리 준비해두면 좋다.\n",
      "아침에 일어나서 일어나서 일어나서 일어나서 일어나서 일어나서 일어나서 일어나서 일어나서 일어나서 일어나서 일어나서 일어나서 일어나서 일어나서 일어나서 일어나서 일어나서 일어나서 일어나서 일어나서 일어나서 일어나서 일어나서 일어나서 일어나서 일어나서 일어나서 일어나\n",
      "seed : 10124\n",
      "green list : [ 3979 21635  5352 ...  7039 34597  4414] (35840,)\n"
     ]
    },
    {
     "name": "stderr",
     "output_type": "stream",
     "text": [
      " 67%|██████▋   | 67/100 [00:12<00:06,  5.18it/s]"
     ]
    },
    {
     "name": "stdout",
     "output_type": "stream",
     "text": [
      "next token : 아침 일과 시작하기 전에 미리 준비해두면 좋다.\n",
      "아침에 일어나서 일어나서 일어나서 일어나서 일어나서 일어나서 일어나서 일어나서 일어나서 일어나서 일어나서 일어나서 일어나서 일어나서 일어나서 일어나서 일어나서 일어나서 일어나서 일어나서 일어나서 일어나서 일어나서 일어나서 일어나서 일어나서 일어나서 일어나서 일어나서\n",
      "seed : 7788\n",
      "green list : [39283 20964 34672 ... 14741 17430 16856] (35840,)\n"
     ]
    },
    {
     "name": "stderr",
     "output_type": "stream",
     "text": [
      " 68%|██████▊   | 68/100 [00:12<00:06,  5.17it/s]"
     ]
    },
    {
     "name": "stdout",
     "output_type": "stream",
     "text": [
      "next token : 아침 일과 시작하기 전에 미리 준비해두면 좋다.\n",
      "아침에 일어나서 일어나서 일어나서 일어나서 일어나서 일어나서 일어나서 일어나서 일어나서 일어나서 일어나서 일어나서 일어나서 일어나서 일어나서 일어나서 일어나서 일어나서 일어나서 일어나서 일어나서 일어나서 일어나서 일어나서 일어나서 일어나서 일어나서 일어나서 일어나서 일어나\n"
     ]
    },
    {
     "name": "stderr",
     "output_type": "stream",
     "text": [
      " 69%|██████▉   | 69/100 [00:12<00:06,  5.15it/s]"
     ]
    },
    {
     "name": "stdout",
     "output_type": "stream",
     "text": [
      "seed : 10124\n",
      "green list : [ 3979 21635  5352 ...  7039 34597  4414] (35840,)\n",
      "next token : 아침 일과 시작하기 전에 미리 준비해두면 좋다.\n",
      "아침에 일어나서 일어나서 일어나서 일어나서 일어나서 일어나서 일어나서 일어나서 일어나서 일어나서 일어나서 일어나서 일어나서 일어나서 일어나서 일어나서 일어나서 일어나서 일어나서 일어나서 일어나서 일어나서 일어나서 일어나서 일어나서 일어나서 일어나서 일어나서 일어나서 일어나서\n",
      "seed : 7788\n",
      "green list : [39283 20964 34672 ... 14741 17430 16856] (35840,)\n"
     ]
    },
    {
     "name": "stderr",
     "output_type": "stream",
     "text": [
      " 70%|███████   | 70/100 [00:13<00:05,  5.14it/s]"
     ]
    },
    {
     "name": "stdout",
     "output_type": "stream",
     "text": [
      "next token : 아침 일과 시작하기 전에 미리 준비해두면 좋다.\n",
      "아침에 일어나서 일어나서 일어나서 일어나서 일어나서 일어나서 일어나서 일어나서 일어나서 일어나서 일어나서 일어나서 일어나서 일어나서 일어나서 일어나서 일어나서 일어나서 일어나서 일어나서 일어나서 일어나서 일어나서 일어나서 일어나서 일어나서 일어나서 일어나서 일어나서 일어나서 일어나\n",
      "seed : 10124\n",
      "green list : [ 3979 21635  5352 ...  7039 34597  4414] (35840,)\n"
     ]
    },
    {
     "name": "stderr",
     "output_type": "stream",
     "text": [
      " 71%|███████   | 71/100 [00:13<00:05,  5.16it/s]"
     ]
    },
    {
     "name": "stdout",
     "output_type": "stream",
     "text": [
      "next token : 아침 일과 시작하기 전에 미리 준비해두면 좋다.\n",
      "아침에 일어나서 일어나서 일어나서 일어나서 일어나서 일어나서 일어나서 일어나서 일어나서 일어나서 일어나서 일어나서 일어나서 일어나서 일어나서 일어나서 일어나서 일어나서 일어나서 일어나서 일어나서 일어나서 일어나서 일어나서 일어나서 일어나서 일어나서 일어나서 일어나서 일어나서 일어나서\n"
     ]
    },
    {
     "name": "stderr",
     "output_type": "stream",
     "text": [
      " 72%|███████▏  | 72/100 [00:13<00:05,  5.14it/s]"
     ]
    },
    {
     "name": "stdout",
     "output_type": "stream",
     "text": [
      "seed : 7788\n",
      "green list : [39283 20964 34672 ... 14741 17430 16856] (35840,)\n",
      "next token : 아침 일과 시작하기 전에 미리 준비해두면 좋다.\n",
      "아침에 일어나서 일어나서 일어나서 일어나서 일어나서 일어나서 일어나서 일어나서 일어나서 일어나서 일어나서 일어나서 일어나서 일어나서 일어나서 일어나서 일어나서 일어나서 일어나서 일어나서 일어나서 일어나서 일어나서 일어나서 일어나서 일어나서 일어나서 일어나서 일어나서 일어나서 일어나서 일어나\n",
      "seed : 10124\n",
      "green list : [ 3979 21635  5352 ...  7039 34597  4414] (35840,)\n"
     ]
    },
    {
     "name": "stderr",
     "output_type": "stream",
     "text": [
      " 73%|███████▎  | 73/100 [00:13<00:05,  5.13it/s]"
     ]
    },
    {
     "name": "stdout",
     "output_type": "stream",
     "text": [
      "next token : 아침 일과 시작하기 전에 미리 준비해두면 좋다.\n",
      "아침에 일어나서 일어나서 일어나서 일어나서 일어나서 일어나서 일어나서 일어나서 일어나서 일어나서 일어나서 일어나서 일어나서 일어나서 일어나서 일어나서 일어나서 일어나서 일어나서 일어나서 일어나서 일어나서 일어나서 일어나서 일어나서 일어나서 일어나서 일어나서 일어나서 일어나서 일어나서 일어나서\n",
      "seed : 7788\n",
      "green list : [39283 20964 34672 ... 14741 17430 16856] (35840,)\n"
     ]
    },
    {
     "name": "stderr",
     "output_type": "stream",
     "text": [
      " 74%|███████▍  | 74/100 [00:13<00:05,  5.11it/s]"
     ]
    },
    {
     "name": "stdout",
     "output_type": "stream",
     "text": [
      "next token : 아침 일과 시작하기 전에 미리 준비해두면 좋다.\n",
      "아침에 일어나서 일어나서 일어나서 일어나서 일어나서 일어나서 일어나서 일어나서 일어나서 일어나서 일어나서 일어나서 일어나서 일어나서 일어나서 일어나서 일어나서 일어나서 일어나서 일어나서 일어나서 일어나서 일어나서 일어나서 일어나서 일어나서 일어나서 일어나서 일어나서 일어나서 일어나서 일어나서 일어나\n"
     ]
    },
    {
     "name": "stderr",
     "output_type": "stream",
     "text": [
      " 75%|███████▌  | 75/100 [00:14<00:04,  5.09it/s]"
     ]
    },
    {
     "name": "stdout",
     "output_type": "stream",
     "text": [
      "seed : 10124\n",
      "green list : [ 3979 21635  5352 ...  7039 34597  4414] (35840,)\n",
      "next token : 아침 일과 시작하기 전에 미리 준비해두면 좋다.\n",
      "아침에 일어나서 일어나서 일어나서 일어나서 일어나서 일어나서 일어나서 일어나서 일어나서 일어나서 일어나서 일어나서 일어나서 일어나서 일어나서 일어나서 일어나서 일어나서 일어나서 일어나서 일어나서 일어나서 일어나서 일어나서 일어나서 일어나서 일어나서 일어나서 일어나서 일어나서 일어나서 일어나서 일어나서\n",
      "seed : 7788\n",
      "green list : [39283 20964 34672 ... 14741 17430 16856] (35840,)\n"
     ]
    },
    {
     "name": "stderr",
     "output_type": "stream",
     "text": [
      " 76%|███████▌  | 76/100 [00:14<00:04,  5.08it/s]"
     ]
    },
    {
     "name": "stdout",
     "output_type": "stream",
     "text": [
      "next token : 아침 일과 시작하기 전에 미리 준비해두면 좋다.\n",
      "아침에 일어나서 일어나서 일어나서 일어나서 일어나서 일어나서 일어나서 일어나서 일어나서 일어나서 일어나서 일어나서 일어나서 일어나서 일어나서 일어나서 일어나서 일어나서 일어나서 일어나서 일어나서 일어나서 일어나서 일어나서 일어나서 일어나서 일어나서 일어나서 일어나서 일어나서 일어나서 일어나서 일어나서 일어나\n",
      "seed : 10124\n",
      "green list : [ 3979 21635  5352 ...  7039 34597  4414] (35840,)\n"
     ]
    },
    {
     "name": "stderr",
     "output_type": "stream",
     "text": [
      " 77%|███████▋  | 77/100 [00:14<00:04,  5.10it/s]"
     ]
    },
    {
     "name": "stdout",
     "output_type": "stream",
     "text": [
      "next token : 아침 일과 시작하기 전에 미리 준비해두면 좋다.\n",
      "아침에 일어나서 일어나서 일어나서 일어나서 일어나서 일어나서 일어나서 일어나서 일어나서 일어나서 일어나서 일어나서 일어나서 일어나서 일어나서 일어나서 일어나서 일어나서 일어나서 일어나서 일어나서 일어나서 일어나서 일어나서 일어나서 일어나서 일어나서 일어나서 일어나서 일어나서 일어나서 일어나서 일어나서 일어나서\n"
     ]
    },
    {
     "name": "stderr",
     "output_type": "stream",
     "text": [
      " 78%|███████▊  | 78/100 [00:14<00:04,  5.08it/s]"
     ]
    },
    {
     "name": "stdout",
     "output_type": "stream",
     "text": [
      "seed : 7788\n",
      "green list : [39283 20964 34672 ... 14741 17430 16856] (35840,)\n",
      "next token : 아침 일과 시작하기 전에 미리 준비해두면 좋다.\n",
      "아침에 일어나서 일어나서 일어나서 일어나서 일어나서 일어나서 일어나서 일어나서 일어나서 일어나서 일어나서 일어나서 일어나서 일어나서 일어나서 일어나서 일어나서 일어나서 일어나서 일어나서 일어나서 일어나서 일어나서 일어나서 일어나서 일어나서 일어나서 일어나서 일어나서 일어나서 일어나서 일어나서 일어나서 일어나서 일어나\n",
      "seed : 10124\n",
      "green list : [ 3979 21635  5352 ...  7039 34597  4414] (35840,)\n"
     ]
    },
    {
     "name": "stderr",
     "output_type": "stream",
     "text": [
      " 79%|███████▉  | 79/100 [00:14<00:04,  5.10it/s]"
     ]
    },
    {
     "name": "stdout",
     "output_type": "stream",
     "text": [
      "next token : 아침 일과 시작하기 전에 미리 준비해두면 좋다.\n",
      "아침에 일어나서 일어나서 일어나서 일어나서 일어나서 일어나서 일어나서 일어나서 일어나서 일어나서 일어나서 일어나서 일어나서 일어나서 일어나서 일어나서 일어나서 일어나서 일어나서 일어나서 일어나서 일어나서 일어나서 일어나서 일어나서 일어나서 일어나서 일어나서 일어나서 일어나서 일어나서 일어나서 일어나서 일어나서 일어나서\n",
      "seed : 7788\n",
      "green list : [39283 20964 34672 ... 14741 17430 16856] (35840,)\n"
     ]
    },
    {
     "name": "stderr",
     "output_type": "stream",
     "text": [
      " 80%|████████  | 80/100 [00:14<00:03,  5.08it/s]"
     ]
    },
    {
     "name": "stdout",
     "output_type": "stream",
     "text": [
      "next token : 아침 일과 시작하기 전에 미리 준비해두면 좋다.\n",
      "아침에 일어나서 일어나서 일어나서 일어나서 일어나서 일어나서 일어나서 일어나서 일어나서 일어나서 일어나서 일어나서 일어나서 일어나서 일어나서 일어나서 일어나서 일어나서 일어나서 일어나서 일어나서 일어나서 일어나서 일어나서 일어나서 일어나서 일어나서 일어나서 일어나서 일어나서 일어나서 일어나서 일어나서 일어나서 일어나서 일어나\n"
     ]
    },
    {
     "name": "stderr",
     "output_type": "stream",
     "text": [
      " 81%|████████  | 81/100 [00:15<00:03,  5.09it/s]"
     ]
    },
    {
     "name": "stdout",
     "output_type": "stream",
     "text": [
      "seed : 10124\n",
      "green list : [ 3979 21635  5352 ...  7039 34597  4414] (35840,)\n",
      "next token : 아침 일과 시작하기 전에 미리 준비해두면 좋다.\n",
      "아침에 일어나서 일어나서 일어나서 일어나서 일어나서 일어나서 일어나서 일어나서 일어나서 일어나서 일어나서 일어나서 일어나서 일어나서 일어나서 일어나서 일어나서 일어나서 일어나서 일어나서 일어나서 일어나서 일어나서 일어나서 일어나서 일어나서 일어나서 일어나서 일어나서 일어나서 일어나서 일어나서 일어나서 일어나서 일어나서 일어나서\n",
      "seed : 7788\n",
      "green list : [39283 20964 34672 ... 14741 17430 16856] (35840,)\n"
     ]
    },
    {
     "name": "stderr",
     "output_type": "stream",
     "text": [
      " 82%|████████▏ | 82/100 [00:15<00:03,  5.06it/s]"
     ]
    },
    {
     "name": "stdout",
     "output_type": "stream",
     "text": [
      "next token : 아침 일과 시작하기 전에 미리 준비해두면 좋다.\n",
      "아침에 일어나서 일어나서 일어나서 일어나서 일어나서 일어나서 일어나서 일어나서 일어나서 일어나서 일어나서 일어나서 일어나서 일어나서 일어나서 일어나서 일어나서 일어나서 일어나서 일어나서 일어나서 일어나서 일어나서 일어나서 일어나서 일어나서 일어나서 일어나서 일어나서 일어나서 일어나서 일어나서 일어나서 일어나서 일어나서 일어나서 일어나\n"
     ]
    },
    {
     "name": "stderr",
     "output_type": "stream",
     "text": [
      " 83%|████████▎ | 83/100 [00:15<00:03,  5.04it/s]"
     ]
    },
    {
     "name": "stdout",
     "output_type": "stream",
     "text": [
      "seed : 10124\n",
      "green list : [ 3979 21635  5352 ...  7039 34597  4414] (35840,)\n",
      "next token : 아침 일과 시작하기 전에 미리 준비해두면 좋다.\n",
      "아침에 일어나서 일어나서 일어나서 일어나서 일어나서 일어나서 일어나서 일어나서 일어나서 일어나서 일어나서 일어나서 일어나서 일어나서 일어나서 일어나서 일어나서 일어나서 일어나서 일어나서 일어나서 일어나서 일어나서 일어나서 일어나서 일어나서 일어나서 일어나서 일어나서 일어나서 일어나서 일어나서 일어나서 일어나서 일어나서 일어나서 일어나서\n"
     ]
    },
    {
     "name": "stderr",
     "output_type": "stream",
     "text": [
      " 84%|████████▍ | 84/100 [00:15<00:03,  5.05it/s]"
     ]
    },
    {
     "name": "stdout",
     "output_type": "stream",
     "text": [
      "seed : 7788\n",
      "green list : [39283 20964 34672 ... 14741 17430 16856] (35840,)\n",
      "next token : 아침 일과 시작하기 전에 미리 준비해두면 좋다.\n",
      "아침에 일어나서 일어나서 일어나서 일어나서 일어나서 일어나서 일어나서 일어나서 일어나서 일어나서 일어나서 일어나서 일어나서 일어나서 일어나서 일어나서 일어나서 일어나서 일어나서 일어나서 일어나서 일어나서 일어나서 일어나서 일어나서 일어나서 일어나서 일어나서 일어나서 일어나서 일어나서 일어나서 일어나서 일어나서 일어나서 일어나서 일어나서 일어나\n",
      "seed : 10124\n",
      "green list : [ 3979 21635  5352 ...  7039 34597  4414] (35840,)\n"
     ]
    },
    {
     "name": "stderr",
     "output_type": "stream",
     "text": [
      " 85%|████████▌ | 85/100 [00:15<00:02,  5.03it/s]"
     ]
    },
    {
     "name": "stdout",
     "output_type": "stream",
     "text": [
      "next token : 아침 일과 시작하기 전에 미리 준비해두면 좋다.\n",
      "아침에 일어나서 일어나서 일어나서 일어나서 일어나서 일어나서 일어나서 일어나서 일어나서 일어나서 일어나서 일어나서 일어나서 일어나서 일어나서 일어나서 일어나서 일어나서 일어나서 일어나서 일어나서 일어나서 일어나서 일어나서 일어나서 일어나서 일어나서 일어나서 일어나서 일어나서 일어나서 일어나서 일어나서 일어나서 일어나서 일어나서 일어나서 일어나서\n",
      "seed : 7788\n",
      "green list : [39283 20964 34672 ... 14741 17430 16856] (35840,)\n"
     ]
    },
    {
     "name": "stderr",
     "output_type": "stream",
     "text": [
      " 87%|████████▋ | 87/100 [00:16<00:02,  5.03it/s]"
     ]
    },
    {
     "name": "stdout",
     "output_type": "stream",
     "text": [
      "next token : 아침 일과 시작하기 전에 미리 준비해두면 좋다.\n",
      "아침에 일어나서 일어나서 일어나서 일어나서 일어나서 일어나서 일어나서 일어나서 일어나서 일어나서 일어나서 일어나서 일어나서 일어나서 일어나서 일어나서 일어나서 일어나서 일어나서 일어나서 일어나서 일어나서 일어나서 일어나서 일어나서 일어나서 일어나서 일어나서 일어나서 일어나서 일어나서 일어나서 일어나서 일어나서 일어나서 일어나서 일어나서 일어나서 일어나\n",
      "seed : 10124\n",
      "green list : [ 3979 21635  5352 ...  7039 34597  4414] (35840,)\n",
      "next token : 아침 일과 시작하기 전에 미리 준비해두면 좋다.\n",
      "아침에 일어나서 일어나서 일어나서 일어나서 일어나서 일어나서 일어나서 일어나서 일어나서 일어나서 일어나서 일어나서 일어나서 일어나서 일어나서 일어나서 일어나서 일어나서 일어나서 일어나서 일어나서 일어나서 일어나서 일어나서 일어나서 일어나서 일어나서 일어나서 일어나서 일어나서 일어나서 일어나서 일어나서 일어나서 일어나서 일어나서 일어나서 일어나서 일어나서\n"
     ]
    },
    {
     "name": "stderr",
     "output_type": "stream",
     "text": [
      " 88%|████████▊ | 88/100 [00:16<00:02,  5.02it/s]"
     ]
    },
    {
     "name": "stdout",
     "output_type": "stream",
     "text": [
      "seed : 7788\n",
      "green list : [39283 20964 34672 ... 14741 17430 16856] (35840,)\n",
      "next token : 아침 일과 시작하기 전에 미리 준비해두면 좋다.\n",
      "아침에 일어나서 일어나서 일어나서 일어나서 일어나서 일어나서 일어나서 일어나서 일어나서 일어나서 일어나서 일어나서 일어나서 일어나서 일어나서 일어나서 일어나서 일어나서 일어나서 일어나서 일어나서 일어나서 일어나서 일어나서 일어나서 일어나서 일어나서 일어나서 일어나서 일어나서 일어나서 일어나서 일어나서 일어나서 일어나서 일어나서 일어나서 일어나서 일어나서 일어나\n",
      "seed : 10124\n",
      "green list : [ 3979 21635  5352 ...  7039 34597  4414] (35840,)\n"
     ]
    },
    {
     "name": "stderr",
     "output_type": "stream",
     "text": [
      " 89%|████████▉ | 89/100 [00:16<00:02,  5.04it/s]"
     ]
    },
    {
     "name": "stdout",
     "output_type": "stream",
     "text": [
      "next token : 아침 일과 시작하기 전에 미리 준비해두면 좋다.\n",
      "아침에 일어나서 일어나서 일어나서 일어나서 일어나서 일어나서 일어나서 일어나서 일어나서 일어나서 일어나서 일어나서 일어나서 일어나서 일어나서 일어나서 일어나서 일어나서 일어나서 일어나서 일어나서 일어나서 일어나서 일어나서 일어나서 일어나서 일어나서 일어나서 일어나서 일어나서 일어나서 일어나서 일어나서 일어나서 일어나서 일어나서 일어나서 일어나서 일어나서 일어나서\n",
      "seed : 7788\n",
      "green list : [39283 20964 34672 ... 14741 17430 16856] (35840,)\n"
     ]
    },
    {
     "name": "stderr",
     "output_type": "stream",
     "text": [
      " 91%|█████████ | 91/100 [00:17<00:01,  5.02it/s]"
     ]
    },
    {
     "name": "stdout",
     "output_type": "stream",
     "text": [
      "next token : 아침 일과 시작하기 전에 미리 준비해두면 좋다.\n",
      "아침에 일어나서 일어나서 일어나서 일어나서 일어나서 일어나서 일어나서 일어나서 일어나서 일어나서 일어나서 일어나서 일어나서 일어나서 일어나서 일어나서 일어나서 일어나서 일어나서 일어나서 일어나서 일어나서 일어나서 일어나서 일어나서 일어나서 일어나서 일어나서 일어나서 일어나서 일어나서 일어나서 일어나서 일어나서 일어나서 일어나서 일어나서 일어나서 일어나서 일어나서 일어나\n",
      "seed : 10124\n",
      "green list : [ 3979 21635  5352 ...  7039 34597  4414] (35840,)\n",
      "next token : 아침 일과 시작하기 전에 미리 준비해두면 좋다.\n",
      "아침에 일어나서 일어나서 일어나서 일어나서 일어나서 일어나서 일어나서 일어나서 일어나서 일어나서 일어나서 일어나서 일어나서 일어나서 일어나서 일어나서 일어나서 일어나서 일어나서 일어나서 일어나서 일어나서 일어나서 일어나서 일어나서 일어나서 일어나서 일어나서 일어나서 일어나서 일어나서 일어나서 일어나서 일어나서 일어나서 일어나서 일어나서 일어나서 일어나서 일어나서 일어나서\n"
     ]
    },
    {
     "name": "stderr",
     "output_type": "stream",
     "text": [
      " 92%|█████████▏| 92/100 [00:17<00:01,  5.00it/s]"
     ]
    },
    {
     "name": "stdout",
     "output_type": "stream",
     "text": [
      "seed : 7788\n",
      "green list : [39283 20964 34672 ... 14741 17430 16856] (35840,)\n",
      "next token : 아침 일과 시작하기 전에 미리 준비해두면 좋다.\n",
      "아침에 일어나서 일어나서 일어나서 일어나서 일어나서 일어나서 일어나서 일어나서 일어나서 일어나서 일어나서 일어나서 일어나서 일어나서 일어나서 일어나서 일어나서 일어나서 일어나서 일어나서 일어나서 일어나서 일어나서 일어나서 일어나서 일어나서 일어나서 일어나서 일어나서 일어나서 일어나서 일어나서 일어나서 일어나서 일어나서 일어나서 일어나서 일어나서 일어나서 일어나서 일어나서 일어나\n",
      "seed : 10124\n"
     ]
    },
    {
     "name": "stderr",
     "output_type": "stream",
     "text": [
      " 93%|█████████▎| 93/100 [00:17<00:01,  4.98it/s]"
     ]
    },
    {
     "name": "stdout",
     "output_type": "stream",
     "text": [
      "green list : [ 3979 21635  5352 ...  7039 34597  4414] (35840,)\n",
      "next token : 아침 일과 시작하기 전에 미리 준비해두면 좋다.\n",
      "아침에 일어나서 일어나서 일어나서 일어나서 일어나서 일어나서 일어나서 일어나서 일어나서 일어나서 일어나서 일어나서 일어나서 일어나서 일어나서 일어나서 일어나서 일어나서 일어나서 일어나서 일어나서 일어나서 일어나서 일어나서 일어나서 일어나서 일어나서 일어나서 일어나서 일어나서 일어나서 일어나서 일어나서 일어나서 일어나서 일어나서 일어나서 일어나서 일어나서 일어나서 일어나서 일어나서\n"
     ]
    },
    {
     "name": "stderr",
     "output_type": "stream",
     "text": [
      " 94%|█████████▍| 94/100 [00:17<00:01,  4.96it/s]"
     ]
    },
    {
     "name": "stdout",
     "output_type": "stream",
     "text": [
      "seed : 7788\n",
      "green list : [39283 20964 34672 ... 14741 17430 16856] (35840,)\n",
      "next token : 아침 일과 시작하기 전에 미리 준비해두면 좋다.\n",
      "아침에 일어나서 일어나서 일어나서 일어나서 일어나서 일어나서 일어나서 일어나서 일어나서 일어나서 일어나서 일어나서 일어나서 일어나서 일어나서 일어나서 일어나서 일어나서 일어나서 일어나서 일어나서 일어나서 일어나서 일어나서 일어나서 일어나서 일어나서 일어나서 일어나서 일어나서 일어나서 일어나서 일어나서 일어나서 일어나서 일어나서 일어나서 일어나서 일어나서 일어나서 일어나서 일어나서 일어나\n"
     ]
    },
    {
     "name": "stderr",
     "output_type": "stream",
     "text": [
      " 95%|█████████▌| 95/100 [00:17<00:01,  4.94it/s]"
     ]
    },
    {
     "name": "stdout",
     "output_type": "stream",
     "text": [
      "seed : 10124\n",
      "green list : [ 3979 21635  5352 ...  7039 34597  4414] (35840,)\n",
      "next token : 아침 일과 시작하기 전에 미리 준비해두면 좋다.\n",
      "아침에 일어나서 일어나서 일어나서 일어나서 일어나서 일어나서 일어나서 일어나서 일어나서 일어나서 일어나서 일어나서 일어나서 일어나서 일어나서 일어나서 일어나서 일어나서 일어나서 일어나서 일어나서 일어나서 일어나서 일어나서 일어나서 일어나서 일어나서 일어나서 일어나서 일어나서 일어나서 일어나서 일어나서 일어나서 일어나서 일어나서 일어나서 일어나서 일어나서 일어나서 일어나서 일어나서 일어나서\n"
     ]
    },
    {
     "name": "stderr",
     "output_type": "stream",
     "text": [
      " 96%|█████████▌| 96/100 [00:18<00:00,  5.28it/s]"
     ]
    },
    {
     "name": "stdout",
     "output_type": "stream",
     "text": [
      "seed : 7788\n",
      "green list : [39283 20964 34672 ... 14741 17430 16856] (35840,)\n",
      "next token : 아침 일과 시작하기 전에 미리 준비해두면 좋다.\n",
      "아침에 일어나서 일어나서 일어나서 일어나서 일어나서 일어나서 일어나서 일어나서 일어나서 일어나서 일어나서 일어나서 일어나서 일어나서 일어나서 일어나서 일어나서 일어나서 일어나서 일어나서 일어나서 일어나서 일어나서 일어나서 일어나서 일어나서 일어나서 일어나서 일어나서 일어나서 일어나서 일어나서 일어나서 일어나서 일어나서 일어나서 일어나서 일어나서 일어나서 일어나서 일어나서 일어나서 일어나서 일어나\n",
      "아침 일과 시작하기 전에 미리 준비해두면 좋다.\n",
      "아침에 일어나서 일어나서 일어나서 일어나서 일어나서 일어나서 일어나서 일어나서 일어나서 일어나서 일어나서 일어나서 일어나서 일어나서 일어나서 일어나서 일어나서 일어나서 일어나서 일어나서 일어나서 일어나서 일어나서 일어나서 일어나서 일어나서 일어나서 일어나서 일어나서 일어나서 일어나서 일어나서 일어나서 일어나서 일어나서 일어나서 일어나서 일어나서 일어나서 일어나서 일어나서 일어나서 일어나서 일어나\n"
     ]
    },
    {
     "name": "stderr",
     "output_type": "stream",
     "text": [
      "\n"
     ]
    },
    {
     "name": "stdout",
     "output_type": "stream",
     "text": [
      "green list 단어 개수 : 3\n",
      "green list 단어 비율 : 0.012048192771084338\n",
      "Z-score: -7.037341043676702, P-value: 1.9594286186670405e-12\n",
      "is this sentence written by machine? True\n",
      "Perplexity:  1.4200104\n",
      "prompt : 책 읽기의 즐거움\n"
     ]
    },
    {
     "name": "stderr",
     "output_type": "stream",
     "text": [
      "  1%|          | 1/100 [00:00<00:17,  5.69it/s]"
     ]
    },
    {
     "name": "stdout",
     "output_type": "stream",
     "text": [
      "seed : 8098\n",
      "green list : [31069 40026 24486 ... 39942 44004 50983] (35840,)\n",
      "next token : 책 읽기의 즐거움도\n",
      "seed : 7235\n",
      "green list : [46150 10769 47607 ... 28369   835 17484] (35840,)\n"
     ]
    },
    {
     "name": "stderr",
     "output_type": "stream",
     "text": [
      "  2%|▏         | 2/100 [00:00<00:17,  5.68it/s]"
     ]
    },
    {
     "name": "stdout",
     "output_type": "stream",
     "text": [
      "next token : 책 읽기의 즐거움도 함께\n",
      "seed : 9304\n",
      "green list : [19988 50888  7588 ... 40296 13382 24736] (35840,)\n"
     ]
    },
    {
     "name": "stderr",
     "output_type": "stream",
     "text": [
      "  3%|▎         | 3/100 [00:00<00:16,  5.71it/s]"
     ]
    },
    {
     "name": "stdout",
     "output_type": "stream",
     "text": [
      "next token : 책 읽기의 즐거움도 함께 느낄\n"
     ]
    },
    {
     "name": "stderr",
     "output_type": "stream",
     "text": [
      "  4%|▍         | 4/100 [00:00<00:16,  5.71it/s]"
     ]
    },
    {
     "name": "stdout",
     "output_type": "stream",
     "text": [
      "seed : 20166\n",
      "green list : [47519 42165 29522 ... 47619 29063  9393] (35840,)\n",
      "next token : 책 읽기의 즐거움도 함께 느낄 수\n",
      "seed : 9025\n",
      "green list : [ 2431 21699 49597 ... 33389 18546 22767] (35840,)\n"
     ]
    },
    {
     "name": "stderr",
     "output_type": "stream",
     "text": [
      "  5%|▌         | 5/100 [00:00<00:16,  5.70it/s]"
     ]
    },
    {
     "name": "stdout",
     "output_type": "stream",
     "text": [
      "next token : 책 읽기의 즐거움도 함께 느낄 수 있다.\n",
      "\n",
      "seed : 9029\n",
      "green list : [16170 13049 40503 ... 14433 38071 39234] (35840,)\n"
     ]
    },
    {
     "name": "stderr",
     "output_type": "stream",
     "text": [
      "  6%|▌         | 6/100 [00:01<00:16,  5.71it/s]"
     ]
    },
    {
     "name": "stdout",
     "output_type": "stream",
     "text": [
      "next token : 책 읽기의 즐거움도 함께 느낄 수 있다.\n",
      "이\n"
     ]
    },
    {
     "name": "stderr",
     "output_type": "stream",
     "text": [
      "  7%|▋         | 7/100 [00:01<00:16,  5.69it/s]"
     ]
    },
    {
     "name": "stdout",
     "output_type": "stream",
     "text": [
      "seed : 8146\n",
      "green list : [21856 26450 39092 ...  7771 17525 32238] (35840,)\n",
      "next token : 책 읽기의 즐거움도 함께 느낄 수 있다.\n",
      "이번\n",
      "seed : 7623\n",
      "green list : [27983  6373 29252 ...  4615  8036   771] (35840,)\n"
     ]
    },
    {
     "name": "stderr",
     "output_type": "stream",
     "text": [
      "  8%|▊         | 8/100 [00:01<00:16,  5.65it/s]"
     ]
    },
    {
     "name": "stdout",
     "output_type": "stream",
     "text": [
      "next token : 책 읽기의 즐거움도 함께 느낄 수 있다.\n",
      "이번 전시\n",
      "seed : 10647\n",
      "green list : [ 6999 38642 25828 ...  9495 43813   507] (35840,)\n"
     ]
    },
    {
     "name": "stderr",
     "output_type": "stream",
     "text": [
      "  9%|▉         | 9/100 [00:01<00:16,  5.64it/s]"
     ]
    },
    {
     "name": "stdout",
     "output_type": "stream",
     "text": [
      "next token : 책 읽기의 즐거움도 함께 느낄 수 있다.\n",
      "이번 전시는\n"
     ]
    },
    {
     "name": "stderr",
     "output_type": "stream",
     "text": [
      " 10%|█         | 10/100 [00:01<00:15,  5.64it/s]"
     ]
    },
    {
     "name": "stdout",
     "output_type": "stream",
     "text": [
      "seed : 7162\n",
      "green list : [ 4607 19800 18068 ... 32432 14114  2768] (35840,)\n",
      "next token : 책 읽기의 즐거움도 함께 느낄 수 있다.\n",
      "이번 전시는 '\n",
      "seed : 9194\n",
      "green list : [20908 32814 19565 ... 33479  5607 33505] (35840,)\n"
     ]
    },
    {
     "name": "stderr",
     "output_type": "stream",
     "text": [
      " 11%|█         | 11/100 [00:01<00:15,  5.62it/s]"
     ]
    },
    {
     "name": "stdout",
     "output_type": "stream",
     "text": [
      "next token : 책 읽기의 즐거움도 함께 느낄 수 있다.\n",
      "이번 전시는 '책\n",
      "seed : 8347\n",
      "green list : [31863 24245 40106 ... 34885 14486   964] (35840,)\n"
     ]
    },
    {
     "name": "stderr",
     "output_type": "stream",
     "text": [
      " 12%|█▏        | 12/100 [00:02<00:15,  5.63it/s]"
     ]
    },
    {
     "name": "stdout",
     "output_type": "stream",
     "text": [
      "next token : 책 읽기의 즐거움도 함께 느낄 수 있다.\n",
      "이번 전시는 '책 읽는\n"
     ]
    },
    {
     "name": "stderr",
     "output_type": "stream",
     "text": [
      " 13%|█▎        | 13/100 [00:02<00:15,  5.61it/s]"
     ]
    },
    {
     "name": "stdout",
     "output_type": "stream",
     "text": [
      "seed : 26347\n",
      "green list : [27141 13330 30747 ... 10735 11638  5754] (35840,)\n",
      "next token : 책 읽기의 즐거움도 함께 느낄 수 있다.\n",
      "이번 전시는 '책 읽는 즐거\n",
      "seed : 20244\n",
      "green list : [37463 11462  1511 ... 19122 15279 30224] (35840,)\n"
     ]
    },
    {
     "name": "stderr",
     "output_type": "stream",
     "text": [
      " 14%|█▍        | 14/100 [00:02<00:15,  5.60it/s]"
     ]
    },
    {
     "name": "stdout",
     "output_type": "stream",
     "text": [
      "next token : 책 읽기의 즐거움도 함께 느낄 수 있다.\n",
      "이번 전시는 '책 읽는 즐거움\n",
      "seed : 8098\n",
      "green list : [31069 40026 24486 ... 39942 44004 50983] (35840,)\n"
     ]
    },
    {
     "name": "stderr",
     "output_type": "stream",
     "text": [
      " 15%|█▌        | 15/100 [00:02<00:15,  5.60it/s]"
     ]
    },
    {
     "name": "stdout",
     "output_type": "stream",
     "text": [
      "next token : 책 읽기의 즐거움도 함께 느낄 수 있다.\n",
      "이번 전시는 '책 읽는 즐거움'이라는\n"
     ]
    },
    {
     "name": "stderr",
     "output_type": "stream",
     "text": [
      " 16%|█▌        | 16/100 [00:02<00:14,  5.61it/s]"
     ]
    },
    {
     "name": "stdout",
     "output_type": "stream",
     "text": [
      "seed : 12951\n",
      "green list : [39117 51134 18850 ... 39795 39253  1076] (35840,)\n",
      "next token : 책 읽기의 즐거움도 함께 느낄 수 있다.\n",
      "이번 전시는 '책 읽는 즐거움'이라는 주제로\n",
      "seed : 16727\n",
      "green list : [26919 41641  8210 ... 41666 41998 38169] (35840,)\n"
     ]
    },
    {
     "name": "stderr",
     "output_type": "stream",
     "text": [
      " 17%|█▋        | 17/100 [00:03<00:14,  5.60it/s]"
     ]
    },
    {
     "name": "stdout",
     "output_type": "stream",
     "text": [
      "next token : 책 읽기의 즐거움도 함께 느낄 수 있다.\n",
      "이번 전시는 '책 읽는 즐거움'이라는 주제로 '\n",
      "seed : 9194\n",
      "green list : [20908 32814 19565 ... 33479  5607 33505] (35840,)\n"
     ]
    },
    {
     "name": "stderr",
     "output_type": "stream",
     "text": [
      " 18%|█▊        | 18/100 [00:03<00:14,  5.62it/s]"
     ]
    },
    {
     "name": "stdout",
     "output_type": "stream",
     "text": [
      "next token : 책 읽기의 즐거움도 함께 느낄 수 있다.\n",
      "이번 전시는 '책 읽는 즐거움'이라는 주제로 '책\n"
     ]
    },
    {
     "name": "stderr",
     "output_type": "stream",
     "text": [
      " 19%|█▉        | 19/100 [00:03<00:14,  5.60it/s]"
     ]
    },
    {
     "name": "stdout",
     "output_type": "stream",
     "text": [
      "seed : 8347\n",
      "green list : [31863 24245 40106 ... 34885 14486   964] (35840,)\n",
      "next token : 책 읽기의 즐거움도 함께 느낄 수 있다.\n",
      "이번 전시는 '책 읽는 즐거움'이라는 주제로 '책 읽는\n",
      "seed : 26347\n",
      "green list : [27141 13330 30747 ... 10735 11638  5754] (35840,)\n"
     ]
    },
    {
     "name": "stderr",
     "output_type": "stream",
     "text": [
      " 20%|██        | 20/100 [00:03<00:14,  5.59it/s]"
     ]
    },
    {
     "name": "stdout",
     "output_type": "stream",
     "text": [
      "next token : 책 읽기의 즐거움도 함께 느낄 수 있다.\n",
      "이번 전시는 '책 읽는 즐거움'이라는 주제로 '책 읽는 즐거\n",
      "seed : 20244\n",
      "green list : [37463 11462  1511 ... 19122 15279 30224] (35840,)\n"
     ]
    },
    {
     "name": "stderr",
     "output_type": "stream",
     "text": [
      " 21%|██        | 21/100 [00:03<00:14,  5.58it/s]"
     ]
    },
    {
     "name": "stdout",
     "output_type": "stream",
     "text": [
      "next token : 책 읽기의 즐거움도 함께 느낄 수 있다.\n",
      "이번 전시는 '책 읽는 즐거움'이라는 주제로 '책 읽는 즐거움\n"
     ]
    },
    {
     "name": "stderr",
     "output_type": "stream",
     "text": [
      " 22%|██▏       | 22/100 [00:03<00:14,  5.54it/s]"
     ]
    },
    {
     "name": "stdout",
     "output_type": "stream",
     "text": [
      "seed : 8098\n",
      "green list : [31069 40026 24486 ... 39942 44004 50983] (35840,)\n",
      "next token : 책 읽기의 즐거움도 함께 느낄 수 있다.\n",
      "이번 전시는 '책 읽는 즐거움'이라는 주제로 '책 읽는 즐거움'이라는\n",
      "seed : 12951\n",
      "green list : [39117 51134 18850 ... 39795 39253  1076] (35840,)\n"
     ]
    },
    {
     "name": "stderr",
     "output_type": "stream",
     "text": [
      " 23%|██▎       | 23/100 [00:04<00:13,  5.54it/s]"
     ]
    },
    {
     "name": "stdout",
     "output_type": "stream",
     "text": [
      "next token : 책 읽기의 즐거움도 함께 느낄 수 있다.\n",
      "이번 전시는 '책 읽는 즐거움'이라는 주제로 '책 읽는 즐거움'이라는 주제로\n",
      "seed : 16727\n",
      "green list : [26919 41641  8210 ... 41666 41998 38169] (35840,)\n"
     ]
    },
    {
     "name": "stderr",
     "output_type": "stream",
     "text": [
      " 24%|██▍       | 24/100 [00:04<00:13,  5.56it/s]"
     ]
    },
    {
     "name": "stdout",
     "output_type": "stream",
     "text": [
      "next token : 책 읽기의 즐거움도 함께 느낄 수 있다.\n",
      "이번 전시는 '책 읽는 즐거움'이라는 주제로 '책 읽는 즐거움'이라는 주제로 진행된다.\n",
      "\n"
     ]
    },
    {
     "name": "stderr",
     "output_type": "stream",
     "text": [
      " 25%|██▌       | 25/100 [00:04<00:13,  5.55it/s]"
     ]
    },
    {
     "name": "stdout",
     "output_type": "stream",
     "text": [
      "seed : 32800\n",
      "green list : [ 6198 15199 30391 ... 32563 13048 11943] (35840,)\n",
      "next token : 책 읽기의 즐거움도 함께 느낄 수 있다.\n",
      "이번 전시는 '책 읽는 즐거움'이라는 주제로 '책 읽는 즐거움'이라는 주제로 진행된다.\n",
      "전시\n",
      "seed : 14453\n",
      "green list : [13906 34658 42060 ... 43277 50349 16237] (35840,)\n"
     ]
    },
    {
     "name": "stderr",
     "output_type": "stream",
     "text": [
      " 26%|██▌       | 26/100 [00:04<00:13,  5.54it/s]"
     ]
    },
    {
     "name": "stdout",
     "output_type": "stream",
     "text": [
      "next token : 책 읽기의 즐거움도 함께 느낄 수 있다.\n",
      "이번 전시는 '책 읽는 즐거움'이라는 주제로 '책 읽는 즐거움'이라는 주제로 진행된다.\n",
      "전시에는\n",
      "seed : 9052\n",
      "green list : [45308 15221 18651 ... 17168 46220 25596] (35840,)\n"
     ]
    },
    {
     "name": "stderr",
     "output_type": "stream",
     "text": [
      " 27%|██▋       | 27/100 [00:04<00:13,  5.52it/s]"
     ]
    },
    {
     "name": "stdout",
     "output_type": "stream",
     "text": [
      "next token : 책 읽기의 즐거움도 함께 느낄 수 있다.\n",
      "이번 전시는 '책 읽는 즐거움'이라는 주제로 '책 읽는 즐거움'이라는 주제로 진행된다.\n",
      "전시에는 책\n"
     ]
    },
    {
     "name": "stderr",
     "output_type": "stream",
     "text": [
      " 28%|██▊       | 28/100 [00:04<00:13,  5.52it/s]"
     ]
    },
    {
     "name": "stdout",
     "output_type": "stream",
     "text": [
      "seed : 9450\n",
      "green list : [32934 15998 17078 ...   603 50310 31097] (35840,)\n",
      "next token : 책 읽기의 즐거움도 함께 느낄 수 있다.\n",
      "이번 전시는 '책 읽는 즐거움'이라는 주제로 '책 읽는 즐거움'이라는 주제로 진행된다.\n",
      "전시에는 책 읽는\n",
      "seed : 26347\n",
      "green list : [27141 13330 30747 ... 10735 11638  5754] (35840,)\n"
     ]
    },
    {
     "name": "stderr",
     "output_type": "stream",
     "text": [
      " 29%|██▉       | 29/100 [00:05<00:12,  5.52it/s]"
     ]
    },
    {
     "name": "stdout",
     "output_type": "stream",
     "text": [
      "next token : 책 읽기의 즐거움도 함께 느낄 수 있다.\n",
      "이번 전시는 '책 읽는 즐거움'이라는 주제로 '책 읽는 즐거움'이라는 주제로 진행된다.\n",
      "전시에는 책 읽는 즐거\n",
      "seed : 20244\n",
      "green list : [37463 11462  1511 ... 19122 15279 30224] (35840,)\n"
     ]
    },
    {
     "name": "stderr",
     "output_type": "stream",
     "text": [
      " 30%|███       | 30/100 [00:05<00:12,  5.52it/s]"
     ]
    },
    {
     "name": "stdout",
     "output_type": "stream",
     "text": [
      "next token : 책 읽기의 즐거움도 함께 느낄 수 있다.\n",
      "이번 전시는 '책 읽는 즐거움'이라는 주제로 '책 읽는 즐거움'이라는 주제로 진행된다.\n",
      "전시에는 책 읽는 즐거움\n"
     ]
    },
    {
     "name": "stderr",
     "output_type": "stream",
     "text": [
      " 31%|███       | 31/100 [00:05<00:12,  5.50it/s]"
     ]
    },
    {
     "name": "stdout",
     "output_type": "stream",
     "text": [
      "seed : 8098\n",
      "green list : [31069 40026 24486 ... 39942 44004 50983] (35840,)\n",
      "next token : 책 읽기의 즐거움도 함께 느낄 수 있다.\n",
      "이번 전시는 '책 읽는 즐거움'이라는 주제로 '책 읽는 즐거움'이라는 주제로 진행된다.\n",
      "전시에는 책 읽는 즐거움이란\n",
      "seed : 10479\n",
      "green list : [32658 42750 39539 ... 25385 14673 43346] (35840,)\n"
     ]
    },
    {
     "name": "stderr",
     "output_type": "stream",
     "text": [
      " 32%|███▏      | 32/100 [00:05<00:12,  5.49it/s]"
     ]
    },
    {
     "name": "stdout",
     "output_type": "stream",
     "text": [
      "next token : 책 읽기의 즐거움도 함께 느낄 수 있다.\n",
      "이번 전시는 '책 읽는 즐거움'이라는 주제로 '책 읽는 즐거움'이라는 주제로 진행된다.\n",
      "전시에는 책 읽는 즐거움이란 주제로\n",
      "seed : 16727\n",
      "green list : [26919 41641  8210 ... 41666 41998 38169] (35840,)\n"
     ]
    },
    {
     "name": "stderr",
     "output_type": "stream",
     "text": [
      " 33%|███▎      | 33/100 [00:05<00:12,  5.49it/s]"
     ]
    },
    {
     "name": "stdout",
     "output_type": "stream",
     "text": [
      "next token : 책 읽기의 즐거움도 함께 느낄 수 있다.\n",
      "이번 전시는 '책 읽는 즐거움'이라는 주제로 '책 읽는 즐거움'이라는 주제로 진행된다.\n",
      "전시에는 책 읽는 즐거움이란 주제로 '\n"
     ]
    },
    {
     "name": "stderr",
     "output_type": "stream",
     "text": [
      " 34%|███▍      | 34/100 [00:06<00:12,  5.49it/s]"
     ]
    },
    {
     "name": "stdout",
     "output_type": "stream",
     "text": [
      "seed : 9194\n",
      "green list : [20908 32814 19565 ... 33479  5607 33505] (35840,)\n",
      "next token : 책 읽기의 즐거움도 함께 느낄 수 있다.\n",
      "이번 전시는 '책 읽는 즐거움'이라는 주제로 '책 읽는 즐거움'이라는 주제로 진행된다.\n",
      "전시에는 책 읽는 즐거움이란 주제로 '책\n",
      "seed : 8347\n",
      "green list : [31863 24245 40106 ... 34885 14486   964] (35840,)\n"
     ]
    },
    {
     "name": "stderr",
     "output_type": "stream",
     "text": [
      " 35%|███▌      | 35/100 [00:06<00:11,  5.48it/s]"
     ]
    },
    {
     "name": "stdout",
     "output_type": "stream",
     "text": [
      "next token : 책 읽기의 즐거움도 함께 느낄 수 있다.\n",
      "이번 전시는 '책 읽는 즐거움'이라는 주제로 '책 읽는 즐거움'이라는 주제로 진행된다.\n",
      "전시에는 책 읽는 즐거움이란 주제로 '책 읽는\n",
      "seed : 26347\n",
      "green list : [27141 13330 30747 ... 10735 11638  5754] (35840,)\n"
     ]
    },
    {
     "name": "stderr",
     "output_type": "stream",
     "text": [
      " 36%|███▌      | 36/100 [00:06<00:11,  5.47it/s]"
     ]
    },
    {
     "name": "stdout",
     "output_type": "stream",
     "text": [
      "next token : 책 읽기의 즐거움도 함께 느낄 수 있다.\n",
      "이번 전시는 '책 읽는 즐거움'이라는 주제로 '책 읽는 즐거움'이라는 주제로 진행된다.\n",
      "전시에는 책 읽는 즐거움이란 주제로 '책 읽는 즐거\n",
      "seed : 20244\n",
      "green list : [37463 11462  1511 ... 19122 15279 30224] (35840,)\n"
     ]
    },
    {
     "name": "stderr",
     "output_type": "stream",
     "text": [
      " 37%|███▋      | 37/100 [00:06<00:12,  5.24it/s]"
     ]
    },
    {
     "name": "stdout",
     "output_type": "stream",
     "text": [
      "next token : 책 읽기의 즐거움도 함께 느낄 수 있다.\n",
      "이번 전시는 '책 읽는 즐거움'이라는 주제로 '책 읽는 즐거움'이라는 주제로 진행된다.\n",
      "전시에는 책 읽는 즐거움이란 주제로 '책 읽는 즐거움\n",
      "seed : 8098\n",
      "green list : [31069 40026 24486 ... 39942 44004 50983] (35840,)\n"
     ]
    },
    {
     "name": "stderr",
     "output_type": "stream",
     "text": [
      " 38%|███▊      | 38/100 [00:06<00:11,  5.30it/s]"
     ]
    },
    {
     "name": "stdout",
     "output_type": "stream",
     "text": [
      "next token : 책 읽기의 즐거움도 함께 느낄 수 있다.\n",
      "이번 전시는 '책 읽는 즐거움'이라는 주제로 '책 읽는 즐거움'이라는 주제로 진행된다.\n",
      "전시에는 책 읽는 즐거움이란 주제로 '책 읽는 즐거움'이라는\n"
     ]
    },
    {
     "name": "stderr",
     "output_type": "stream",
     "text": [
      " 39%|███▉      | 39/100 [00:07<00:11,  5.35it/s]"
     ]
    },
    {
     "name": "stdout",
     "output_type": "stream",
     "text": [
      "seed : 12951\n",
      "green list : [39117 51134 18850 ... 39795 39253  1076] (35840,)\n",
      "next token : 책 읽기의 즐거움도 함께 느낄 수 있다.\n",
      "이번 전시는 '책 읽는 즐거움'이라는 주제로 '책 읽는 즐거움'이라는 주제로 진행된다.\n",
      "전시에는 책 읽는 즐거움이란 주제로 '책 읽는 즐거움'이라는 주제로\n",
      "seed : 16727\n",
      "green list : [26919 41641  8210 ... 41666 41998 38169] (35840,)\n"
     ]
    },
    {
     "name": "stderr",
     "output_type": "stream",
     "text": [
      " 40%|████      | 40/100 [00:07<00:11,  5.37it/s]"
     ]
    },
    {
     "name": "stdout",
     "output_type": "stream",
     "text": [
      "next token : 책 읽기의 즐거움도 함께 느낄 수 있다.\n",
      "이번 전시는 '책 읽는 즐거움'이라는 주제로 '책 읽는 즐거움'이라는 주제로 진행된다.\n",
      "전시에는 책 읽는 즐거움이란 주제로 '책 읽는 즐거움'이라는 주제로 '\n",
      "seed : 9194\n",
      "green list : [20908 32814 19565 ... 33479  5607 33505] (35840,)\n"
     ]
    },
    {
     "name": "stderr",
     "output_type": "stream",
     "text": [
      " 41%|████      | 41/100 [00:07<00:10,  5.39it/s]"
     ]
    },
    {
     "name": "stdout",
     "output_type": "stream",
     "text": [
      "next token : 책 읽기의 즐거움도 함께 느낄 수 있다.\n",
      "이번 전시는 '책 읽는 즐거움'이라는 주제로 '책 읽는 즐거움'이라는 주제로 진행된다.\n",
      "전시에는 책 읽는 즐거움이란 주제로 '책 읽는 즐거움'이라는 주제로 '책\n"
     ]
    },
    {
     "name": "stderr",
     "output_type": "stream",
     "text": [
      " 42%|████▏     | 42/100 [00:07<00:10,  5.40it/s]"
     ]
    },
    {
     "name": "stdout",
     "output_type": "stream",
     "text": [
      "seed : 8347\n",
      "green list : [31863 24245 40106 ... 34885 14486   964] (35840,)\n",
      "next token : 책 읽기의 즐거움도 함께 느낄 수 있다.\n",
      "이번 전시는 '책 읽는 즐거움'이라는 주제로 '책 읽는 즐거움'이라는 주제로 진행된다.\n",
      "전시에는 책 읽는 즐거움이란 주제로 '책 읽는 즐거움'이라는 주제로 '책 읽는\n",
      "seed : 26347\n",
      "green list : [27141 13330 30747 ... 10735 11638  5754] (35840,)\n"
     ]
    },
    {
     "name": "stderr",
     "output_type": "stream",
     "text": [
      " 43%|████▎     | 43/100 [00:07<00:10,  5.38it/s]"
     ]
    },
    {
     "name": "stdout",
     "output_type": "stream",
     "text": [
      "next token : 책 읽기의 즐거움도 함께 느낄 수 있다.\n",
      "이번 전시는 '책 읽는 즐거움'이라는 주제로 '책 읽는 즐거움'이라는 주제로 진행된다.\n",
      "전시에는 책 읽는 즐거움이란 주제로 '책 읽는 즐거움'이라는 주제로 '책 읽는 즐거\n",
      "seed : 20244\n",
      "green list : [37463 11462  1511 ... 19122 15279 30224] (35840,)\n"
     ]
    },
    {
     "name": "stderr",
     "output_type": "stream",
     "text": [
      " 44%|████▍     | 44/100 [00:07<00:10,  5.37it/s]"
     ]
    },
    {
     "name": "stdout",
     "output_type": "stream",
     "text": [
      "next token : 책 읽기의 즐거움도 함께 느낄 수 있다.\n",
      "이번 전시는 '책 읽는 즐거움'이라는 주제로 '책 읽는 즐거움'이라는 주제로 진행된다.\n",
      "전시에는 책 읽는 즐거움이란 주제로 '책 읽는 즐거움'이라는 주제로 '책 읽는 즐거움\n"
     ]
    },
    {
     "name": "stderr",
     "output_type": "stream",
     "text": [
      " 45%|████▌     | 45/100 [00:08<00:10,  5.36it/s]"
     ]
    },
    {
     "name": "stdout",
     "output_type": "stream",
     "text": [
      "seed : 8098\n",
      "green list : [31069 40026 24486 ... 39942 44004 50983] (35840,)\n",
      "next token : 책 읽기의 즐거움도 함께 느낄 수 있다.\n",
      "이번 전시는 '책 읽는 즐거움'이라는 주제로 '책 읽는 즐거움'이라는 주제로 진행된다.\n",
      "전시에는 책 읽는 즐거움이란 주제로 '책 읽는 즐거움'이라는 주제로 '책 읽는 즐거움'이라는\n",
      "seed : 12951\n",
      "green list : [39117 51134 18850 ... 39795 39253  1076] (35840,)\n"
     ]
    },
    {
     "name": "stderr",
     "output_type": "stream",
     "text": [
      " 46%|████▌     | 46/100 [00:08<00:10,  5.32it/s]"
     ]
    },
    {
     "name": "stdout",
     "output_type": "stream",
     "text": [
      "next token : 책 읽기의 즐거움도 함께 느낄 수 있다.\n",
      "이번 전시는 '책 읽는 즐거움'이라는 주제로 '책 읽는 즐거움'이라는 주제로 진행된다.\n",
      "전시에는 책 읽는 즐거움이란 주제로 '책 읽는 즐거움'이라는 주제로 '책 읽는 즐거움'이라는 주제로\n",
      "seed : 16727\n",
      "green list : [26919 41641  8210 ... 41666 41998 38169] (35840,)\n"
     ]
    },
    {
     "name": "stderr",
     "output_type": "stream",
     "text": [
      " 47%|████▋     | 47/100 [00:08<00:09,  5.31it/s]"
     ]
    },
    {
     "name": "stdout",
     "output_type": "stream",
     "text": [
      "next token : 책 읽기의 즐거움도 함께 느낄 수 있다.\n",
      "이번 전시는 '책 읽는 즐거움'이라는 주제로 '책 읽는 즐거움'이라는 주제로 진행된다.\n",
      "전시에는 책 읽는 즐거움이란 주제로 '책 읽는 즐거움'이라는 주제로 '책 읽는 즐거움'이라는 주제로 '\n"
     ]
    },
    {
     "name": "stderr",
     "output_type": "stream",
     "text": [
      " 48%|████▊     | 48/100 [00:08<00:09,  5.32it/s]"
     ]
    },
    {
     "name": "stdout",
     "output_type": "stream",
     "text": [
      "seed : 9194\n",
      "green list : [20908 32814 19565 ... 33479  5607 33505] (35840,)\n",
      "next token : 책 읽기의 즐거움도 함께 느낄 수 있다.\n",
      "이번 전시는 '책 읽는 즐거움'이라는 주제로 '책 읽는 즐거움'이라는 주제로 진행된다.\n",
      "전시에는 책 읽는 즐거움이란 주제로 '책 읽는 즐거움'이라는 주제로 '책 읽는 즐거움'이라는 주제로 '책\n",
      "seed : 8347\n",
      "green list : [31863 24245 40106 ... 34885 14486   964] (35840,)\n"
     ]
    },
    {
     "name": "stderr",
     "output_type": "stream",
     "text": [
      " 49%|████▉     | 49/100 [00:08<00:09,  5.31it/s]"
     ]
    },
    {
     "name": "stdout",
     "output_type": "stream",
     "text": [
      "next token : 책 읽기의 즐거움도 함께 느낄 수 있다.\n",
      "이번 전시는 '책 읽는 즐거움'이라는 주제로 '책 읽는 즐거움'이라는 주제로 진행된다.\n",
      "전시에는 책 읽는 즐거움이란 주제로 '책 읽는 즐거움'이라는 주제로 '책 읽는 즐거움'이라는 주제로 '책 읽는\n",
      "seed : 26347\n",
      "green list : [27141 13330 30747 ... 10735 11638  5754] (35840,)\n"
     ]
    },
    {
     "name": "stderr",
     "output_type": "stream",
     "text": [
      " 50%|█████     | 50/100 [00:09<00:09,  5.27it/s]"
     ]
    },
    {
     "name": "stdout",
     "output_type": "stream",
     "text": [
      "next token : 책 읽기의 즐거움도 함께 느낄 수 있다.\n",
      "이번 전시는 '책 읽는 즐거움'이라는 주제로 '책 읽는 즐거움'이라는 주제로 진행된다.\n",
      "전시에는 책 읽는 즐거움이란 주제로 '책 읽는 즐거움'이라는 주제로 '책 읽는 즐거움'이라는 주제로 '책 읽는 즐거\n"
     ]
    },
    {
     "name": "stderr",
     "output_type": "stream",
     "text": [
      " 51%|█████     | 51/100 [00:09<00:09,  5.25it/s]"
     ]
    },
    {
     "name": "stdout",
     "output_type": "stream",
     "text": [
      "seed : 20244\n",
      "green list : [37463 11462  1511 ... 19122 15279 30224] (35840,)\n",
      "next token : 책 읽기의 즐거움도 함께 느낄 수 있다.\n",
      "이번 전시는 '책 읽는 즐거움'이라는 주제로 '책 읽는 즐거움'이라는 주제로 진행된다.\n",
      "전시에는 책 읽는 즐거움이란 주제로 '책 읽는 즐거움'이라는 주제로 '책 읽는 즐거움'이라는 주제로 '책 읽는 즐거움\n",
      "seed : 8098\n",
      "green list : [31069 40026 24486 ... 39942 44004 50983] (35840,)\n"
     ]
    },
    {
     "name": "stderr",
     "output_type": "stream",
     "text": [
      " 52%|█████▏    | 52/100 [00:09<00:09,  5.24it/s]"
     ]
    },
    {
     "name": "stdout",
     "output_type": "stream",
     "text": [
      "next token : 책 읽기의 즐거움도 함께 느낄 수 있다.\n",
      "이번 전시는 '책 읽는 즐거움'이라는 주제로 '책 읽는 즐거움'이라는 주제로 진행된다.\n",
      "전시에는 책 읽는 즐거움이란 주제로 '책 읽는 즐거움'이라는 주제로 '책 읽는 즐거움'이라는 주제로 '책 읽는 즐거움'이라는\n",
      "seed : 12951\n",
      "green list : [39117 51134 18850 ... 39795 39253  1076] (35840,)\n"
     ]
    },
    {
     "name": "stderr",
     "output_type": "stream",
     "text": [
      " 53%|█████▎    | 53/100 [00:09<00:08,  5.25it/s]"
     ]
    },
    {
     "name": "stdout",
     "output_type": "stream",
     "text": [
      "next token : 책 읽기의 즐거움도 함께 느낄 수 있다.\n",
      "이번 전시는 '책 읽는 즐거움'이라는 주제로 '책 읽는 즐거움'이라는 주제로 진행된다.\n",
      "전시에는 책 읽는 즐거움이란 주제로 '책 읽는 즐거움'이라는 주제로 '책 읽는 즐거움'이라는 주제로 '책 읽는 즐거움'이라는 주제로\n"
     ]
    },
    {
     "name": "stderr",
     "output_type": "stream",
     "text": [
      " 54%|█████▍    | 54/100 [00:09<00:08,  5.26it/s]"
     ]
    },
    {
     "name": "stdout",
     "output_type": "stream",
     "text": [
      "seed : 16727\n",
      "green list : [26919 41641  8210 ... 41666 41998 38169] (35840,)\n",
      "next token : 책 읽기의 즐거움도 함께 느낄 수 있다.\n",
      "이번 전시는 '책 읽는 즐거움'이라는 주제로 '책 읽는 즐거움'이라는 주제로 진행된다.\n",
      "전시에는 책 읽는 즐거움이란 주제로 '책 읽는 즐거움'이라는 주제로 '책 읽는 즐거움'이라는 주제로 '책 읽는 즐거움'이라는 주제로 '\n",
      "seed : 9194\n",
      "green list : [20908 32814 19565 ... 33479  5607 33505] (35840,)\n"
     ]
    },
    {
     "name": "stderr",
     "output_type": "stream",
     "text": [
      " 55%|█████▌    | 55/100 [00:10<00:08,  5.26it/s]"
     ]
    },
    {
     "name": "stdout",
     "output_type": "stream",
     "text": [
      "next token : 책 읽기의 즐거움도 함께 느낄 수 있다.\n",
      "이번 전시는 '책 읽는 즐거움'이라는 주제로 '책 읽는 즐거움'이라는 주제로 진행된다.\n",
      "전시에는 책 읽는 즐거움이란 주제로 '책 읽는 즐거움'이라는 주제로 '책 읽는 즐거움'이라는 주제로 '책 읽는 즐거움'이라는 주제로 '책\n",
      "seed : 8347\n",
      "green list : [31863 24245 40106 ... 34885 14486   964] (35840,)\n"
     ]
    },
    {
     "name": "stderr",
     "output_type": "stream",
     "text": [
      " 56%|█████▌    | 56/100 [00:10<00:08,  5.26it/s]"
     ]
    },
    {
     "name": "stdout",
     "output_type": "stream",
     "text": [
      "next token : 책 읽기의 즐거움도 함께 느낄 수 있다.\n",
      "이번 전시는 '책 읽는 즐거움'이라는 주제로 '책 읽는 즐거움'이라는 주제로 진행된다.\n",
      "전시에는 책 읽는 즐거움이란 주제로 '책 읽는 즐거움'이라는 주제로 '책 읽는 즐거움'이라는 주제로 '책 읽는 즐거움'이라는 주제로 '책 읽는\n"
     ]
    },
    {
     "name": "stderr",
     "output_type": "stream",
     "text": [
      " 57%|█████▋    | 57/100 [00:10<00:08,  5.26it/s]"
     ]
    },
    {
     "name": "stdout",
     "output_type": "stream",
     "text": [
      "seed : 26347\n",
      "green list : [27141 13330 30747 ... 10735 11638  5754] (35840,)\n",
      "next token : 책 읽기의 즐거움도 함께 느낄 수 있다.\n",
      "이번 전시는 '책 읽는 즐거움'이라는 주제로 '책 읽는 즐거움'이라는 주제로 진행된다.\n",
      "전시에는 책 읽는 즐거움이란 주제로 '책 읽는 즐거움'이라는 주제로 '책 읽는 즐거움'이라는 주제로 '책 읽는 즐거움'이라는 주제로 '책 읽는 즐거\n",
      "seed : 20244\n",
      "green list : [37463 11462  1511 ... 19122 15279 30224] (35840,)\n"
     ]
    },
    {
     "name": "stderr",
     "output_type": "stream",
     "text": [
      " 58%|█████▊    | 58/100 [00:10<00:08,  5.24it/s]"
     ]
    },
    {
     "name": "stdout",
     "output_type": "stream",
     "text": [
      "next token : 책 읽기의 즐거움도 함께 느낄 수 있다.\n",
      "이번 전시는 '책 읽는 즐거움'이라는 주제로 '책 읽는 즐거움'이라는 주제로 진행된다.\n",
      "전시에는 책 읽는 즐거움이란 주제로 '책 읽는 즐거움'이라는 주제로 '책 읽는 즐거움'이라는 주제로 '책 읽는 즐거움'이라는 주제로 '책 읽는 즐거움\n",
      "seed : 8098\n",
      "green list : [31069 40026 24486 ... 39942 44004 50983] (35840,)\n"
     ]
    },
    {
     "name": "stderr",
     "output_type": "stream",
     "text": [
      " 59%|█████▉    | 59/100 [00:10<00:07,  5.24it/s]"
     ]
    },
    {
     "name": "stdout",
     "output_type": "stream",
     "text": [
      "next token : 책 읽기의 즐거움도 함께 느낄 수 있다.\n",
      "이번 전시는 '책 읽는 즐거움'이라는 주제로 '책 읽는 즐거움'이라는 주제로 진행된다.\n",
      "전시에는 책 읽는 즐거움이란 주제로 '책 읽는 즐거움'이라는 주제로 '책 읽는 즐거움'이라는 주제로 '책 읽는 즐거움'이라는 주제로 '책 읽는 즐거움'이라는\n"
     ]
    },
    {
     "name": "stderr",
     "output_type": "stream",
     "text": [
      " 60%|██████    | 60/100 [00:11<00:07,  5.24it/s]"
     ]
    },
    {
     "name": "stdout",
     "output_type": "stream",
     "text": [
      "seed : 12951\n",
      "green list : [39117 51134 18850 ... 39795 39253  1076] (35840,)\n",
      "next token : 책 읽기의 즐거움도 함께 느낄 수 있다.\n",
      "이번 전시는 '책 읽는 즐거움'이라는 주제로 '책 읽는 즐거움'이라는 주제로 진행된다.\n",
      "전시에는 책 읽는 즐거움이란 주제로 '책 읽는 즐거움'이라는 주제로 '책 읽는 즐거움'이라는 주제로 '책 읽는 즐거움'이라는 주제로 '책 읽는 즐거움'이라는 주제로\n",
      "seed : 16727\n",
      "green list : [26919 41641  8210 ... 41666 41998 38169] (35840,)\n"
     ]
    },
    {
     "name": "stderr",
     "output_type": "stream",
     "text": [
      " 61%|██████    | 61/100 [00:11<00:07,  5.23it/s]"
     ]
    },
    {
     "name": "stdout",
     "output_type": "stream",
     "text": [
      "next token : 책 읽기의 즐거움도 함께 느낄 수 있다.\n",
      "이번 전시는 '책 읽는 즐거움'이라는 주제로 '책 읽는 즐거움'이라는 주제로 진행된다.\n",
      "전시에는 책 읽는 즐거움이란 주제로 '책 읽는 즐거움'이라는 주제로 '책 읽는 즐거움'이라는 주제로 '책 읽는 즐거움'이라는 주제로 '책 읽는 즐거움'이라는 주제로 '\n",
      "seed : 9194\n",
      "green list : [20908 32814 19565 ... 33479  5607 33505] (35840,)\n"
     ]
    },
    {
     "name": "stderr",
     "output_type": "stream",
     "text": [
      " 62%|██████▏   | 62/100 [00:11<00:07,  5.23it/s]"
     ]
    },
    {
     "name": "stdout",
     "output_type": "stream",
     "text": [
      "next token : 책 읽기의 즐거움도 함께 느낄 수 있다.\n",
      "이번 전시는 '책 읽는 즐거움'이라는 주제로 '책 읽는 즐거움'이라는 주제로 진행된다.\n",
      "전시에는 책 읽는 즐거움이란 주제로 '책 읽는 즐거움'이라는 주제로 '책 읽는 즐거움'이라는 주제로 '책 읽는 즐거움'이라는 주제로 '책 읽는 즐거움'이라는 주제로 '책\n"
     ]
    },
    {
     "name": "stderr",
     "output_type": "stream",
     "text": [
      " 63%|██████▎   | 63/100 [00:11<00:07,  5.21it/s]"
     ]
    },
    {
     "name": "stdout",
     "output_type": "stream",
     "text": [
      "seed : 8347\n",
      "green list : [31863 24245 40106 ... 34885 14486   964] (35840,)\n",
      "next token : 책 읽기의 즐거움도 함께 느낄 수 있다.\n",
      "이번 전시는 '책 읽는 즐거움'이라는 주제로 '책 읽는 즐거움'이라는 주제로 진행된다.\n",
      "전시에는 책 읽는 즐거움이란 주제로 '책 읽는 즐거움'이라는 주제로 '책 읽는 즐거움'이라는 주제로 '책 읽는 즐거움'이라는 주제로 '책 읽는 즐거움'이라는 주제로 '책 읽는\n",
      "seed : 26347\n",
      "green list : [27141 13330 30747 ... 10735 11638  5754] (35840,)\n"
     ]
    },
    {
     "name": "stderr",
     "output_type": "stream",
     "text": [
      " 64%|██████▍   | 64/100 [00:11<00:06,  5.15it/s]"
     ]
    },
    {
     "name": "stdout",
     "output_type": "stream",
     "text": [
      "next token : 책 읽기의 즐거움도 함께 느낄 수 있다.\n",
      "이번 전시는 '책 읽는 즐거움'이라는 주제로 '책 읽는 즐거움'이라는 주제로 진행된다.\n",
      "전시에는 책 읽는 즐거움이란 주제로 '책 읽는 즐거움'이라는 주제로 '책 읽는 즐거움'이라는 주제로 '책 읽는 즐거움'이라는 주제로 '책 읽는 즐거움'이라는 주제로 '책 읽는 즐거\n"
     ]
    },
    {
     "name": "stderr",
     "output_type": "stream",
     "text": [
      " 65%|██████▌   | 65/100 [00:11<00:06,  5.11it/s]"
     ]
    },
    {
     "name": "stdout",
     "output_type": "stream",
     "text": [
      "seed : 20244\n",
      "green list : [37463 11462  1511 ... 19122 15279 30224] (35840,)\n",
      "next token : 책 읽기의 즐거움도 함께 느낄 수 있다.\n",
      "이번 전시는 '책 읽는 즐거움'이라는 주제로 '책 읽는 즐거움'이라는 주제로 진행된다.\n",
      "전시에는 책 읽는 즐거움이란 주제로 '책 읽는 즐거움'이라는 주제로 '책 읽는 즐거움'이라는 주제로 '책 읽는 즐거움'이라는 주제로 '책 읽는 즐거움'이라는 주제로 '책 읽는 즐거움\n",
      "seed : 8098\n",
      "green list : [31069 40026 24486 ... 39942 44004 50983] (35840,)\n"
     ]
    },
    {
     "name": "stderr",
     "output_type": "stream",
     "text": [
      " 66%|██████▌   | 66/100 [00:12<00:06,  5.07it/s]"
     ]
    },
    {
     "name": "stdout",
     "output_type": "stream",
     "text": [
      "next token : 책 읽기의 즐거움도 함께 느낄 수 있다.\n",
      "이번 전시는 '책 읽는 즐거움'이라는 주제로 '책 읽는 즐거움'이라는 주제로 진행된다.\n",
      "전시에는 책 읽는 즐거움이란 주제로 '책 읽는 즐거움'이라는 주제로 '책 읽는 즐거움'이라는 주제로 '책 읽는 즐거움'이라는 주제로 '책 읽는 즐거움'이라는 주제로 '책 읽는 즐거움'이라는\n",
      "seed : 12951\n",
      "green list : [39117 51134 18850 ... 39795 39253  1076] (35840,)\n"
     ]
    },
    {
     "name": "stderr",
     "output_type": "stream",
     "text": [
      " 67%|██████▋   | 67/100 [00:12<00:06,  5.07it/s]"
     ]
    },
    {
     "name": "stdout",
     "output_type": "stream",
     "text": [
      "next token : 책 읽기의 즐거움도 함께 느낄 수 있다.\n",
      "이번 전시는 '책 읽는 즐거움'이라는 주제로 '책 읽는 즐거움'이라는 주제로 진행된다.\n",
      "전시에는 책 읽는 즐거움이란 주제로 '책 읽는 즐거움'이라는 주제로 '책 읽는 즐거움'이라는 주제로 '책 읽는 즐거움'이라는 주제로 '책 읽는 즐거움'이라는 주제로 '책 읽는 즐거움'이라는 주제로\n"
     ]
    },
    {
     "name": "stderr",
     "output_type": "stream",
     "text": [
      " 68%|██████▊   | 68/100 [00:12<00:06,  5.08it/s]"
     ]
    },
    {
     "name": "stdout",
     "output_type": "stream",
     "text": [
      "seed : 16727\n",
      "green list : [26919 41641  8210 ... 41666 41998 38169] (35840,)\n",
      "next token : 책 읽기의 즐거움도 함께 느낄 수 있다.\n",
      "이번 전시는 '책 읽는 즐거움'이라는 주제로 '책 읽는 즐거움'이라는 주제로 진행된다.\n",
      "전시에는 책 읽는 즐거움이란 주제로 '책 읽는 즐거움'이라는 주제로 '책 읽는 즐거움'이라는 주제로 '책 읽는 즐거움'이라는 주제로 '책 읽는 즐거움'이라는 주제로 '책 읽는 즐거움'이라는 주제로 '\n"
     ]
    },
    {
     "name": "stderr",
     "output_type": "stream",
     "text": [
      " 69%|██████▉   | 69/100 [00:12<00:06,  4.96it/s]"
     ]
    },
    {
     "name": "stdout",
     "output_type": "stream",
     "text": [
      "seed : 9194\n",
      "green list : [20908 32814 19565 ... 33479  5607 33505] (35840,)\n",
      "next token : 책 읽기의 즐거움도 함께 느낄 수 있다.\n",
      "이번 전시는 '책 읽는 즐거움'이라는 주제로 '책 읽는 즐거움'이라는 주제로 진행된다.\n",
      "전시에는 책 읽는 즐거움이란 주제로 '책 읽는 즐거움'이라는 주제로 '책 읽는 즐거움'이라는 주제로 '책 읽는 즐거움'이라는 주제로 '책 읽는 즐거움'이라는 주제로 '책 읽는 즐거움'이라는 주제로 '책\n",
      "seed : 8347\n",
      "green list : [31863 24245 40106 ... 34885 14486   964] (35840,)\n"
     ]
    },
    {
     "name": "stderr",
     "output_type": "stream",
     "text": [
      " 71%|███████   | 71/100 [00:13<00:05,  5.04it/s]"
     ]
    },
    {
     "name": "stdout",
     "output_type": "stream",
     "text": [
      "next token : 책 읽기의 즐거움도 함께 느낄 수 있다.\n",
      "이번 전시는 '책 읽는 즐거움'이라는 주제로 '책 읽는 즐거움'이라는 주제로 진행된다.\n",
      "전시에는 책 읽는 즐거움이란 주제로 '책 읽는 즐거움'이라는 주제로 '책 읽는 즐거움'이라는 주제로 '책 읽는 즐거움'이라는 주제로 '책 읽는 즐거움'이라는 주제로 '책 읽는 즐거움'이라는 주제로 '책 읽는\n",
      "seed : 26347\n",
      "green list : [27141 13330 30747 ... 10735 11638  5754] (35840,)\n",
      "next token : 책 읽기의 즐거움도 함께 느낄 수 있다.\n",
      "이번 전시는 '책 읽는 즐거움'이라는 주제로 '책 읽는 즐거움'이라는 주제로 진행된다.\n",
      "전시에는 책 읽는 즐거움이란 주제로 '책 읽는 즐거움'이라는 주제로 '책 읽는 즐거움'이라는 주제로 '책 읽는 즐거움'이라는 주제로 '책 읽는 즐거움'이라는 주제로 '책 읽는 즐거움'이라는 주제로 '책 읽는 즐거\n"
     ]
    },
    {
     "name": "stderr",
     "output_type": "stream",
     "text": [
      " 72%|███████▏  | 72/100 [00:13<00:05,  5.05it/s]"
     ]
    },
    {
     "name": "stdout",
     "output_type": "stream",
     "text": [
      "seed : 20244\n",
      "green list : [37463 11462  1511 ... 19122 15279 30224] (35840,)\n",
      "next token : 책 읽기의 즐거움도 함께 느낄 수 있다.\n",
      "이번 전시는 '책 읽는 즐거움'이라는 주제로 '책 읽는 즐거움'이라는 주제로 진행된다.\n",
      "전시에는 책 읽는 즐거움이란 주제로 '책 읽는 즐거움'이라는 주제로 '책 읽는 즐거움'이라는 주제로 '책 읽는 즐거움'이라는 주제로 '책 읽는 즐거움'이라는 주제로 '책 읽는 즐거움'이라는 주제로 '책 읽는 즐거움\n",
      "seed : 8098\n",
      "green list : [31069 40026 24486 ... 39942 44004 50983] (35840,)\n"
     ]
    },
    {
     "name": "stderr",
     "output_type": "stream",
     "text": [
      " 73%|███████▎  | 73/100 [00:13<00:05,  5.06it/s]"
     ]
    },
    {
     "name": "stdout",
     "output_type": "stream",
     "text": [
      "next token : 책 읽기의 즐거움도 함께 느낄 수 있다.\n",
      "이번 전시는 '책 읽는 즐거움'이라는 주제로 '책 읽는 즐거움'이라는 주제로 진행된다.\n",
      "전시에는 책 읽는 즐거움이란 주제로 '책 읽는 즐거움'이라는 주제로 '책 읽는 즐거움'이라는 주제로 '책 읽는 즐거움'이라는 주제로 '책 읽는 즐거움'이라는 주제로 '책 읽는 즐거움'이라는 주제로 '책 읽는 즐거움'이라는\n",
      "seed : 12951\n",
      "green list : [39117 51134 18850 ... 39795 39253  1076] (35840,)\n"
     ]
    },
    {
     "name": "stderr",
     "output_type": "stream",
     "text": [
      " 75%|███████▌  | 75/100 [00:13<00:04,  5.04it/s]"
     ]
    },
    {
     "name": "stdout",
     "output_type": "stream",
     "text": [
      "next token : 책 읽기의 즐거움도 함께 느낄 수 있다.\n",
      "이번 전시는 '책 읽는 즐거움'이라는 주제로 '책 읽는 즐거움'이라는 주제로 진행된다.\n",
      "전시에는 책 읽는 즐거움이란 주제로 '책 읽는 즐거움'이라는 주제로 '책 읽는 즐거움'이라는 주제로 '책 읽는 즐거움'이라는 주제로 '책 읽는 즐거움'이라는 주제로 '책 읽는 즐거움'이라는 주제로 '책 읽는 즐거움'이라는 주제로\n",
      "seed : 16727\n",
      "green list : [26919 41641  8210 ... 41666 41998 38169] (35840,)\n",
      "next token : 책 읽기의 즐거움도 함께 느낄 수 있다.\n",
      "이번 전시는 '책 읽는 즐거움'이라는 주제로 '책 읽는 즐거움'이라는 주제로 진행된다.\n",
      "전시에는 책 읽는 즐거움이란 주제로 '책 읽는 즐거움'이라는 주제로 '책 읽는 즐거움'이라는 주제로 '책 읽는 즐거움'이라는 주제로 '책 읽는 즐거움'이라는 주제로 '책 읽는 즐거움'이라는 주제로 '책 읽는 즐거움'이라는 주제로 '\n"
     ]
    },
    {
     "name": "stderr",
     "output_type": "stream",
     "text": [
      " 76%|███████▌  | 76/100 [00:14<00:04,  5.04it/s]"
     ]
    },
    {
     "name": "stdout",
     "output_type": "stream",
     "text": [
      "seed : 9194\n",
      "green list : [20908 32814 19565 ... 33479  5607 33505] (35840,)\n",
      "next token : 책 읽기의 즐거움도 함께 느낄 수 있다.\n",
      "이번 전시는 '책 읽는 즐거움'이라는 주제로 '책 읽는 즐거움'이라는 주제로 진행된다.\n",
      "전시에는 책 읽는 즐거움이란 주제로 '책 읽는 즐거움'이라는 주제로 '책 읽는 즐거움'이라는 주제로 '책 읽는 즐거움'이라는 주제로 '책 읽는 즐거움'이라는 주제로 '책 읽는 즐거움'이라는 주제로 '책 읽는 즐거움'이라는 주제로 '책\n",
      "seed : 8347\n",
      "green list : [31863 24245 40106 ... 34885 14486   964] (35840,)\n"
     ]
    },
    {
     "name": "stderr",
     "output_type": "stream",
     "text": [
      " 78%|███████▊  | 78/100 [00:14<00:04,  5.03it/s]"
     ]
    },
    {
     "name": "stdout",
     "output_type": "stream",
     "text": [
      "next token : 책 읽기의 즐거움도 함께 느낄 수 있다.\n",
      "이번 전시는 '책 읽는 즐거움'이라는 주제로 '책 읽는 즐거움'이라는 주제로 진행된다.\n",
      "전시에는 책 읽는 즐거움이란 주제로 '책 읽는 즐거움'이라는 주제로 '책 읽는 즐거움'이라는 주제로 '책 읽는 즐거움'이라는 주제로 '책 읽는 즐거움'이라는 주제로 '책 읽는 즐거움'이라는 주제로 '책 읽는 즐거움'이라는 주제로 '책 읽는\n",
      "seed : 26347\n",
      "green list : [27141 13330 30747 ... 10735 11638  5754] (35840,)\n",
      "next token : 책 읽기의 즐거움도 함께 느낄 수 있다.\n",
      "이번 전시는 '책 읽는 즐거움'이라는 주제로 '책 읽는 즐거움'이라는 주제로 진행된다.\n",
      "전시에는 책 읽는 즐거움이란 주제로 '책 읽는 즐거움'이라는 주제로 '책 읽는 즐거움'이라는 주제로 '책 읽는 즐거움'이라는 주제로 '책 읽는 즐거움'이라는 주제로 '책 읽는 즐거움'이라는 주제로 '책 읽는 즐거움'이라는 주제로 '책 읽는 즐거\n"
     ]
    },
    {
     "name": "stderr",
     "output_type": "stream",
     "text": [
      " 79%|███████▉  | 79/100 [00:14<00:04,  5.04it/s]"
     ]
    },
    {
     "name": "stdout",
     "output_type": "stream",
     "text": [
      "seed : 20244\n",
      "green list : [37463 11462  1511 ... 19122 15279 30224] (35840,)\n",
      "next token : 책 읽기의 즐거움도 함께 느낄 수 있다.\n",
      "이번 전시는 '책 읽는 즐거움'이라는 주제로 '책 읽는 즐거움'이라는 주제로 진행된다.\n",
      "전시에는 책 읽는 즐거움이란 주제로 '책 읽는 즐거움'이라는 주제로 '책 읽는 즐거움'이라는 주제로 '책 읽는 즐거움'이라는 주제로 '책 읽는 즐거움'이라는 주제로 '책 읽는 즐거움'이라는 주제로 '책 읽는 즐거움'이라는 주제로 '책 읽는 즐거움\n",
      "seed : 8098\n",
      "green list : [31069 40026 24486 ... 39942 44004 50983] (35840,)\n"
     ]
    },
    {
     "name": "stderr",
     "output_type": "stream",
     "text": [
      " 81%|████████  | 81/100 [00:15<00:03,  5.06it/s]"
     ]
    },
    {
     "name": "stdout",
     "output_type": "stream",
     "text": [
      "next token : 책 읽기의 즐거움도 함께 느낄 수 있다.\n",
      "이번 전시는 '책 읽는 즐거움'이라는 주제로 '책 읽는 즐거움'이라는 주제로 진행된다.\n",
      "전시에는 책 읽는 즐거움이란 주제로 '책 읽는 즐거움'이라는 주제로 '책 읽는 즐거움'이라는 주제로 '책 읽는 즐거움'이라는 주제로 '책 읽는 즐거움'이라는 주제로 '책 읽는 즐거움'이라는 주제로 '책 읽는 즐거움'이라는 주제로 '책 읽는 즐거움'이라는\n",
      "seed : 12951\n",
      "green list : [39117 51134 18850 ... 39795 39253  1076] (35840,)\n",
      "next token : 책 읽기의 즐거움도 함께 느낄 수 있다.\n",
      "이번 전시는 '책 읽는 즐거움'이라는 주제로 '책 읽는 즐거움'이라는 주제로 진행된다.\n",
      "전시에는 책 읽는 즐거움이란 주제로 '책 읽는 즐거움'이라는 주제로 '책 읽는 즐거움'이라는 주제로 '책 읽는 즐거움'이라는 주제로 '책 읽는 즐거움'이라는 주제로 '책 읽는 즐거움'이라는 주제로 '책 읽는 즐거움'이라는 주제로 '책 읽는 즐거움'이라는 주제로\n"
     ]
    },
    {
     "name": "stderr",
     "output_type": "stream",
     "text": [
      " 82%|████████▏ | 82/100 [00:15<00:03,  5.02it/s]"
     ]
    },
    {
     "name": "stdout",
     "output_type": "stream",
     "text": [
      "seed : 16727\n",
      "green list : [26919 41641  8210 ... 41666 41998 38169] (35840,)\n",
      "next token : 책 읽기의 즐거움도 함께 느낄 수 있다.\n",
      "이번 전시는 '책 읽는 즐거움'이라는 주제로 '책 읽는 즐거움'이라는 주제로 진행된다.\n",
      "전시에는 책 읽는 즐거움이란 주제로 '책 읽는 즐거움'이라는 주제로 '책 읽는 즐거움'이라는 주제로 '책 읽는 즐거움'이라는 주제로 '책 읽는 즐거움'이라는 주제로 '책 읽는 즐거움'이라는 주제로 '책 읽는 즐거움'이라는 주제로 '책 읽는 즐거움'이라는 주제로 '\n",
      "seed : 9194\n",
      "green list : [20908 32814 19565 ... 33479  5607 33505] (35840,)\n"
     ]
    },
    {
     "name": "stderr",
     "output_type": "stream",
     "text": [
      " 84%|████████▍ | 84/100 [00:15<00:03,  5.03it/s]"
     ]
    },
    {
     "name": "stdout",
     "output_type": "stream",
     "text": [
      "next token : 책 읽기의 즐거움도 함께 느낄 수 있다.\n",
      "이번 전시는 '책 읽는 즐거움'이라는 주제로 '책 읽는 즐거움'이라는 주제로 진행된다.\n",
      "전시에는 책 읽는 즐거움이란 주제로 '책 읽는 즐거움'이라는 주제로 '책 읽는 즐거움'이라는 주제로 '책 읽는 즐거움'이라는 주제로 '책 읽는 즐거움'이라는 주제로 '책 읽는 즐거움'이라는 주제로 '책 읽는 즐거움'이라는 주제로 '책 읽는 즐거움'이라는 주제로 '책\n",
      "seed : 8347\n",
      "green list : [31863 24245 40106 ... 34885 14486   964] (35840,)\n",
      "next token : 책 읽기의 즐거움도 함께 느낄 수 있다.\n",
      "이번 전시는 '책 읽는 즐거움'이라는 주제로 '책 읽는 즐거움'이라는 주제로 진행된다.\n",
      "전시에는 책 읽는 즐거움이란 주제로 '책 읽는 즐거움'이라는 주제로 '책 읽는 즐거움'이라는 주제로 '책 읽는 즐거움'이라는 주제로 '책 읽는 즐거움'이라는 주제로 '책 읽는 즐거움'이라는 주제로 '책 읽는 즐거움'이라는 주제로 '책 읽는 즐거움'이라는 주제로 '책 읽는\n"
     ]
    },
    {
     "name": "stderr",
     "output_type": "stream",
     "text": [
      " 85%|████████▌ | 85/100 [00:15<00:03,  4.99it/s]"
     ]
    },
    {
     "name": "stdout",
     "output_type": "stream",
     "text": [
      "seed : 26347\n",
      "green list : [27141 13330 30747 ... 10735 11638  5754] (35840,)\n",
      "next token : 책 읽기의 즐거움도 함께 느낄 수 있다.\n",
      "이번 전시는 '책 읽는 즐거움'이라는 주제로 '책 읽는 즐거움'이라는 주제로 진행된다.\n",
      "전시에는 책 읽는 즐거움이란 주제로 '책 읽는 즐거움'이라는 주제로 '책 읽는 즐거움'이라는 주제로 '책 읽는 즐거움'이라는 주제로 '책 읽는 즐거움'이라는 주제로 '책 읽는 즐거움'이라는 주제로 '책 읽는 즐거움'이라는 주제로 '책 읽는 즐거움'이라는 주제로 '책 읽는 즐거\n"
     ]
    },
    {
     "name": "stderr",
     "output_type": "stream",
     "text": [
      " 86%|████████▌ | 86/100 [00:16<00:02,  4.96it/s]"
     ]
    },
    {
     "name": "stdout",
     "output_type": "stream",
     "text": [
      "seed : 20244\n",
      "green list : [37463 11462  1511 ... 19122 15279 30224] (35840,)\n",
      "next token : 책 읽기의 즐거움도 함께 느낄 수 있다.\n",
      "이번 전시는 '책 읽는 즐거움'이라는 주제로 '책 읽는 즐거움'이라는 주제로 진행된다.\n",
      "전시에는 책 읽는 즐거움이란 주제로 '책 읽는 즐거움'이라는 주제로 '책 읽는 즐거움'이라는 주제로 '책 읽는 즐거움'이라는 주제로 '책 읽는 즐거움'이라는 주제로 '책 읽는 즐거움'이라는 주제로 '책 읽는 즐거움'이라는 주제로 '책 읽는 즐거움'이라는 주제로 '책 읽는 즐거움\n"
     ]
    },
    {
     "name": "stderr",
     "output_type": "stream",
     "text": [
      " 87%|████████▋ | 87/100 [00:16<00:02,  4.95it/s]"
     ]
    },
    {
     "name": "stdout",
     "output_type": "stream",
     "text": [
      "seed : 8098\n",
      "green list : [31069 40026 24486 ... 39942 44004 50983] (35840,)\n",
      "next token : 책 읽기의 즐거움도 함께 느낄 수 있다.\n",
      "이번 전시는 '책 읽는 즐거움'이라는 주제로 '책 읽는 즐거움'이라는 주제로 진행된다.\n",
      "전시에는 책 읽는 즐거움이란 주제로 '책 읽는 즐거움'이라는 주제로 '책 읽는 즐거움'이라는 주제로 '책 읽는 즐거움'이라는 주제로 '책 읽는 즐거움'이라는 주제로 '책 읽는 즐거움'이라는 주제로 '책 읽는 즐거움'이라는 주제로 '책 읽는 즐거움'이라는 주제로 '책 읽는 즐거움'이라는\n"
     ]
    },
    {
     "name": "stderr",
     "output_type": "stream",
     "text": [
      " 88%|████████▊ | 88/100 [00:16<00:02,  4.92it/s]"
     ]
    },
    {
     "name": "stdout",
     "output_type": "stream",
     "text": [
      "seed : 12951\n",
      "green list : [39117 51134 18850 ... 39795 39253  1076] (35840,)\n",
      "next token : 책 읽기의 즐거움도 함께 느낄 수 있다.\n",
      "이번 전시는 '책 읽는 즐거움'이라는 주제로 '책 읽는 즐거움'이라는 주제로 진행된다.\n",
      "전시에는 책 읽는 즐거움이란 주제로 '책 읽는 즐거움'이라는 주제로 '책 읽는 즐거움'이라는 주제로 '책 읽는 즐거움'이라는 주제로 '책 읽는 즐거움'이라는 주제로 '책 읽는 즐거움'이라는 주제로 '책 읽는 즐거움'이라는 주제로 '책 읽는 즐거움'이라는 주제로 '책 읽는 즐거움'이라는 주제로\n"
     ]
    },
    {
     "name": "stderr",
     "output_type": "stream",
     "text": [
      " 89%|████████▉ | 89/100 [00:16<00:02,  4.89it/s]"
     ]
    },
    {
     "name": "stdout",
     "output_type": "stream",
     "text": [
      "seed : 16727\n",
      "green list : [26919 41641  8210 ... 41666 41998 38169] (35840,)\n",
      "next token : 책 읽기의 즐거움도 함께 느낄 수 있다.\n",
      "이번 전시는 '책 읽는 즐거움'이라는 주제로 '책 읽는 즐거움'이라는 주제로 진행된다.\n",
      "전시에는 책 읽는 즐거움이란 주제로 '책 읽는 즐거움'이라는 주제로 '책 읽는 즐거움'이라는 주제로 '책 읽는 즐거움'이라는 주제로 '책 읽는 즐거움'이라는 주제로 '책 읽는 즐거움'이라는 주제로 '책 읽는 즐거움'이라는 주제로 '책 읽는 즐거움'이라는 주제로 '책 읽는 즐거움'이라는 주제로 '\n"
     ]
    },
    {
     "name": "stderr",
     "output_type": "stream",
     "text": [
      " 90%|█████████ | 90/100 [00:16<00:02,  4.88it/s]"
     ]
    },
    {
     "name": "stdout",
     "output_type": "stream",
     "text": [
      "seed : 9194\n",
      "green list : [20908 32814 19565 ... 33479  5607 33505] (35840,)\n",
      "next token : 책 읽기의 즐거움도 함께 느낄 수 있다.\n",
      "이번 전시는 '책 읽는 즐거움'이라는 주제로 '책 읽는 즐거움'이라는 주제로 진행된다.\n",
      "전시에는 책 읽는 즐거움이란 주제로 '책 읽는 즐거움'이라는 주제로 '책 읽는 즐거움'이라는 주제로 '책 읽는 즐거움'이라는 주제로 '책 읽는 즐거움'이라는 주제로 '책 읽는 즐거움'이라는 주제로 '책 읽는 즐거움'이라는 주제로 '책 읽는 즐거움'이라는 주제로 '책 읽는 즐거움'이라는 주제로 '책\n"
     ]
    },
    {
     "name": "stderr",
     "output_type": "stream",
     "text": [
      " 91%|█████████ | 91/100 [00:17<00:01,  4.87it/s]"
     ]
    },
    {
     "name": "stdout",
     "output_type": "stream",
     "text": [
      "seed : 8347\n",
      "green list : [31863 24245 40106 ... 34885 14486   964] (35840,)\n",
      "next token : 책 읽기의 즐거움도 함께 느낄 수 있다.\n",
      "이번 전시는 '책 읽는 즐거움'이라는 주제로 '책 읽는 즐거움'이라는 주제로 진행된다.\n",
      "전시에는 책 읽는 즐거움이란 주제로 '책 읽는 즐거움'이라는 주제로 '책 읽는 즐거움'이라는 주제로 '책 읽는 즐거움'이라는 주제로 '책 읽는 즐거움'이라는 주제로 '책 읽는 즐거움'이라는 주제로 '책 읽는 즐거움'이라는 주제로 '책 읽는 즐거움'이라는 주제로 '책 읽는 즐거움'이라는 주제로 '책 읽는\n"
     ]
    },
    {
     "name": "stderr",
     "output_type": "stream",
     "text": [
      " 92%|█████████▏| 92/100 [00:17<00:01,  4.88it/s]"
     ]
    },
    {
     "name": "stdout",
     "output_type": "stream",
     "text": [
      "seed : 26347\n",
      "green list : [27141 13330 30747 ... 10735 11638  5754] (35840,)\n",
      "next token : 책 읽기의 즐거움도 함께 느낄 수 있다.\n",
      "이번 전시는 '책 읽는 즐거움'이라는 주제로 '책 읽는 즐거움'이라는 주제로 진행된다.\n",
      "전시에는 책 읽는 즐거움이란 주제로 '책 읽는 즐거움'이라는 주제로 '책 읽는 즐거움'이라는 주제로 '책 읽는 즐거움'이라는 주제로 '책 읽는 즐거움'이라는 주제로 '책 읽는 즐거움'이라는 주제로 '책 읽는 즐거움'이라는 주제로 '책 읽는 즐거움'이라는 주제로 '책 읽는 즐거움'이라는 주제로 '책 읽는 즐거\n"
     ]
    },
    {
     "name": "stderr",
     "output_type": "stream",
     "text": [
      " 93%|█████████▎| 93/100 [00:17<00:01,  4.90it/s]"
     ]
    },
    {
     "name": "stdout",
     "output_type": "stream",
     "text": [
      "seed : 20244\n",
      "green list : [37463 11462  1511 ... 19122 15279 30224] (35840,)\n",
      "next token : 책 읽기의 즐거움도 함께 느낄 수 있다.\n",
      "이번 전시는 '책 읽는 즐거움'이라는 주제로 '책 읽는 즐거움'이라는 주제로 진행된다.\n",
      "전시에는 책 읽는 즐거움이란 주제로 '책 읽는 즐거움'이라는 주제로 '책 읽는 즐거움'이라는 주제로 '책 읽는 즐거움'이라는 주제로 '책 읽는 즐거움'이라는 주제로 '책 읽는 즐거움'이라는 주제로 '책 읽는 즐거움'이라는 주제로 '책 읽는 즐거움'이라는 주제로 '책 읽는 즐거움'이라는 주제로 '책 읽는 즐거움\n",
      "seed : 8098\n",
      "green list : [31069 40026 24486 ... 39942 44004 50983] (35840,)\n"
     ]
    },
    {
     "name": "stderr",
     "output_type": "stream",
     "text": [
      " 94%|█████████▍| 94/100 [00:17<00:01,  4.89it/s]"
     ]
    },
    {
     "name": "stdout",
     "output_type": "stream",
     "text": [
      "next token : 책 읽기의 즐거움도 함께 느낄 수 있다.\n",
      "이번 전시는 '책 읽는 즐거움'이라는 주제로 '책 읽는 즐거움'이라는 주제로 진행된다.\n",
      "전시에는 책 읽는 즐거움이란 주제로 '책 읽는 즐거움'이라는 주제로 '책 읽는 즐거움'이라는 주제로 '책 읽는 즐거움'이라는 주제로 '책 읽는 즐거움'이라는 주제로 '책 읽는 즐거움'이라는 주제로 '책 읽는 즐거움'이라는 주제로 '책 읽는 즐거움'이라는 주제로 '책 읽는 즐거움'이라는 주제로 '책 읽는 즐거움'이라는\n",
      "seed : 12951\n",
      "green list : [39117 51134 18850 ... 39795 39253  1076] (35840,)\n"
     ]
    },
    {
     "name": "stderr",
     "output_type": "stream",
     "text": [
      " 95%|█████████▌| 95/100 [00:18<00:00,  5.27it/s]\n"
     ]
    },
    {
     "name": "stdout",
     "output_type": "stream",
     "text": [
      "next token : 책 읽기의 즐거움도 함께 느낄 수 있다.\n",
      "이번 전시는 '책 읽는 즐거움'이라는 주제로 '책 읽는 즐거움'이라는 주제로 진행된다.\n",
      "전시에는 책 읽는 즐거움이란 주제로 '책 읽는 즐거움'이라는 주제로 '책 읽는 즐거움'이라는 주제로 '책 읽는 즐거움'이라는 주제로 '책 읽는 즐거움'이라는 주제로 '책 읽는 즐거움'이라는 주제로 '책 읽는 즐거움'이라는 주제로 '책 읽는 즐거움'이라는 주제로 '책 읽는 즐거움'이라는 주제로 '책 읽는 즐거움'이라는 주제로\n",
      "책 읽기의 즐거움도 함께 느낄 수 있다.\n",
      "이번 전시는 '책 읽는 즐거움'이라는 주제로 '책 읽는 즐거움'이라는 주제로 진행된다.\n",
      "전시에는 책 읽는 즐거움이란 주제로 '책 읽는 즐거움'이라는 주제로 '책 읽는 즐거움'이라는 주제로 '책 읽는 즐거움'이라는 주제로 '책 읽는 즐거움'이라는 주제로 '책 읽는 즐거움'이라는 주제로 '책 읽는 즐거움'이라는 주제로 '책 읽는 즐거움'이라는 주제로 '책 읽는 즐거움'이라는 주제로 '책 읽는 즐거움'이라는 주제로\n",
      "green list 단어 개수 : 28\n",
      "green list 단어 비율 : 0.11067193675889328\n",
      "Z-score: -5.980971194980695, P-value: 2.2181110059097164e-09\n",
      "is this sentence written by machine? True\n",
      "Perplexity:  1.9951465\n",
      "prompt : 가족과 함께 하는 저녁 식사\n"
     ]
    },
    {
     "name": "stderr",
     "output_type": "stream",
     "text": [
      "  1%|          | 1/100 [00:00<00:17,  5.68it/s]"
     ]
    },
    {
     "name": "stdout",
     "output_type": "stream",
     "text": [
      "seed : 33101\n",
      "green list : [20213 16314  2185 ... 50243 30678 38762] (35840,)\n",
      "next token : 가족과 함께 하는 저녁 식사 시간\n",
      "seed : 10135\n",
      "green list : [23047  1641  4197 ... 43134 28244 50835] (35840,)\n"
     ]
    },
    {
     "name": "stderr",
     "output_type": "stream",
     "text": [
      "  3%|▎         | 3/100 [00:00<00:16,  5.74it/s]"
     ]
    },
    {
     "name": "stdout",
     "output_type": "stream",
     "text": [
      "next token : 가족과 함께 하는 저녁 식사 시간도\n",
      "seed : 7235\n",
      "green list : [46150 10769 47607 ... 28369   835 17484] (35840,)\n",
      "next token : 가족과 함께 하는 저녁 식사 시간도 마련했다.\n",
      "\n"
     ]
    },
    {
     "name": "stderr",
     "output_type": "stream",
     "text": [
      "  4%|▍         | 4/100 [00:00<00:16,  5.69it/s]"
     ]
    },
    {
     "name": "stdout",
     "output_type": "stream",
     "text": [
      "seed : 25976\n",
      "green list : [12096 27836 30628 ... 36830 42136 14008] (35840,)\n",
      "next token : 가족과 함께 하는 저녁 식사 시간도 마련했다.\n",
      "이\n",
      "seed : 8146\n",
      "green list : [21856 26450 39092 ...  7771 17525 32238] (35840,)\n"
     ]
    },
    {
     "name": "stderr",
     "output_type": "stream",
     "text": [
      "  6%|▌         | 6/100 [00:01<00:16,  5.55it/s]"
     ]
    },
    {
     "name": "stdout",
     "output_type": "stream",
     "text": [
      "next token : 가족과 함께 하는 저녁 식사 시간도 마련했다.\n",
      "이날\n",
      "seed : 7060\n",
      "green list : [40113  5482  8283 ... 30040 15927 29322] (35840,)\n",
      "next token : 가족과 함께 하는 저녁 식사 시간도 마련했다.\n",
      "이날 행사\n"
     ]
    },
    {
     "name": "stderr",
     "output_type": "stream",
     "text": [
      "  7%|▋         | 7/100 [00:01<00:16,  5.52it/s]"
     ]
    },
    {
     "name": "stdout",
     "output_type": "stream",
     "text": [
      "seed : 11570\n",
      "green list : [37652 33290 31512 ...  3380  7989 32813] (35840,)\n",
      "next token : 가족과 함께 하는 저녁 식사 시간도 마련했다.\n",
      "이날 행사에는\n"
     ]
    },
    {
     "name": "stderr",
     "output_type": "stream",
     "text": [
      "\n"
     ]
    },
    {
     "ename": "KeyboardInterrupt",
     "evalue": "",
     "output_type": "error",
     "traceback": [
      "\u001b[0;31m---------------------------------------------------------------------------\u001b[0m",
      "\u001b[0;31mKeyboardInterrupt\u001b[0m                         Traceback (most recent call last)",
      "Cell \u001b[0;32mIn[65], line 25\u001b[0m\n\u001b[1;32m     23\u001b[0m gamma \u001b[38;5;241m=\u001b[39m \u001b[38;5;241m0.7\u001b[39m\n\u001b[1;32m     24\u001b[0m delta \u001b[38;5;241m=\u001b[39m \u001b[38;5;241m10.0\u001b[39m\n\u001b[0;32m---> 25\u001b[0m Logits \u001b[38;5;241m=\u001b[39m \u001b[43mmodel\u001b[49m\u001b[43m(\u001b[49m\u001b[43minput_ids\u001b[49m\u001b[43m)\u001b[49m\u001b[38;5;241m.\u001b[39mlogits\n\u001b[1;32m     26\u001b[0m \u001b[38;5;66;03m#print(f\"original Logits : {Logits}\")\u001b[39;00m\n\u001b[1;32m     27\u001b[0m \n\u001b[1;32m     28\u001b[0m \u001b[38;5;66;03m#seed 생성\u001b[39;00m\n\u001b[1;32m     29\u001b[0m seed \u001b[38;5;241m=\u001b[39m input_ids[\u001b[38;5;241m-\u001b[39m\u001b[38;5;241m1\u001b[39m] \u001b[38;5;241m%\u001b[39m Logits\u001b[38;5;241m.\u001b[39mshape[\u001b[38;5;241m-\u001b[39m\u001b[38;5;241m1\u001b[39m]\n",
      "File \u001b[0;32m~/miniconda3/envs/tf-2.12.0/lib/python3.8/site-packages/keras/src/utils/traceback_utils.py:65\u001b[0m, in \u001b[0;36mfilter_traceback.<locals>.error_handler\u001b[0;34m(*args, **kwargs)\u001b[0m\n\u001b[1;32m     63\u001b[0m filtered_tb \u001b[38;5;241m=\u001b[39m \u001b[38;5;28;01mNone\u001b[39;00m\n\u001b[1;32m     64\u001b[0m \u001b[38;5;28;01mtry\u001b[39;00m:\n\u001b[0;32m---> 65\u001b[0m     \u001b[38;5;28;01mreturn\u001b[39;00m \u001b[43mfn\u001b[49m\u001b[43m(\u001b[49m\u001b[38;5;241;43m*\u001b[39;49m\u001b[43margs\u001b[49m\u001b[43m,\u001b[49m\u001b[43m \u001b[49m\u001b[38;5;241;43m*\u001b[39;49m\u001b[38;5;241;43m*\u001b[39;49m\u001b[43mkwargs\u001b[49m\u001b[43m)\u001b[49m\n\u001b[1;32m     66\u001b[0m \u001b[38;5;28;01mexcept\u001b[39;00m \u001b[38;5;167;01mException\u001b[39;00m \u001b[38;5;28;01mas\u001b[39;00m e:\n\u001b[1;32m     67\u001b[0m     filtered_tb \u001b[38;5;241m=\u001b[39m _process_traceback_frames(e\u001b[38;5;241m.\u001b[39m__traceback__)\n",
      "File \u001b[0;32m~/miniconda3/envs/tf-2.12.0/lib/python3.8/site-packages/keras/src/engine/training.py:569\u001b[0m, in \u001b[0;36mModel.__call__\u001b[0;34m(self, *args, **kwargs)\u001b[0m\n\u001b[1;32m    565\u001b[0m         \u001b[38;5;28msuper\u001b[39m()\u001b[38;5;241m.\u001b[39m\u001b[38;5;21m__call__\u001b[39m(inputs, \u001b[38;5;241m*\u001b[39mcopied_args, \u001b[38;5;241m*\u001b[39m\u001b[38;5;241m*\u001b[39mcopied_kwargs)\n\u001b[1;32m    567\u001b[0m     layout_map_lib\u001b[38;5;241m.\u001b[39m_map_subclass_model_variable(\u001b[38;5;28mself\u001b[39m, \u001b[38;5;28mself\u001b[39m\u001b[38;5;241m.\u001b[39m_layout_map)\n\u001b[0;32m--> 569\u001b[0m \u001b[38;5;28;01mreturn\u001b[39;00m \u001b[38;5;28;43msuper\u001b[39;49m\u001b[43m(\u001b[49m\u001b[43m)\u001b[49m\u001b[38;5;241;43m.\u001b[39;49m\u001b[38;5;21;43m__call__\u001b[39;49m\u001b[43m(\u001b[49m\u001b[38;5;241;43m*\u001b[39;49m\u001b[43margs\u001b[49m\u001b[43m,\u001b[49m\u001b[43m \u001b[49m\u001b[38;5;241;43m*\u001b[39;49m\u001b[38;5;241;43m*\u001b[39;49m\u001b[43mkwargs\u001b[49m\u001b[43m)\u001b[49m\n",
      "File \u001b[0;32m~/miniconda3/envs/tf-2.12.0/lib/python3.8/site-packages/keras/src/utils/traceback_utils.py:65\u001b[0m, in \u001b[0;36mfilter_traceback.<locals>.error_handler\u001b[0;34m(*args, **kwargs)\u001b[0m\n\u001b[1;32m     63\u001b[0m filtered_tb \u001b[38;5;241m=\u001b[39m \u001b[38;5;28;01mNone\u001b[39;00m\n\u001b[1;32m     64\u001b[0m \u001b[38;5;28;01mtry\u001b[39;00m:\n\u001b[0;32m---> 65\u001b[0m     \u001b[38;5;28;01mreturn\u001b[39;00m \u001b[43mfn\u001b[49m\u001b[43m(\u001b[49m\u001b[38;5;241;43m*\u001b[39;49m\u001b[43margs\u001b[49m\u001b[43m,\u001b[49m\u001b[43m \u001b[49m\u001b[38;5;241;43m*\u001b[39;49m\u001b[38;5;241;43m*\u001b[39;49m\u001b[43mkwargs\u001b[49m\u001b[43m)\u001b[49m\n\u001b[1;32m     66\u001b[0m \u001b[38;5;28;01mexcept\u001b[39;00m \u001b[38;5;167;01mException\u001b[39;00m \u001b[38;5;28;01mas\u001b[39;00m e:\n\u001b[1;32m     67\u001b[0m     filtered_tb \u001b[38;5;241m=\u001b[39m _process_traceback_frames(e\u001b[38;5;241m.\u001b[39m__traceback__)\n",
      "File \u001b[0;32m~/miniconda3/envs/tf-2.12.0/lib/python3.8/site-packages/keras/src/engine/base_layer.py:1150\u001b[0m, in \u001b[0;36mLayer.__call__\u001b[0;34m(self, *args, **kwargs)\u001b[0m\n\u001b[1;32m   1145\u001b[0m     inputs \u001b[38;5;241m=\u001b[39m \u001b[38;5;28mself\u001b[39m\u001b[38;5;241m.\u001b[39m_maybe_cast_inputs(inputs, input_list)\n\u001b[1;32m   1147\u001b[0m \u001b[38;5;28;01mwith\u001b[39;00m autocast_variable\u001b[38;5;241m.\u001b[39menable_auto_cast_variables(\n\u001b[1;32m   1148\u001b[0m     \u001b[38;5;28mself\u001b[39m\u001b[38;5;241m.\u001b[39m_compute_dtype_object\n\u001b[1;32m   1149\u001b[0m ):\n\u001b[0;32m-> 1150\u001b[0m     outputs \u001b[38;5;241m=\u001b[39m \u001b[43mcall_fn\u001b[49m\u001b[43m(\u001b[49m\u001b[43minputs\u001b[49m\u001b[43m,\u001b[49m\u001b[43m \u001b[49m\u001b[38;5;241;43m*\u001b[39;49m\u001b[43margs\u001b[49m\u001b[43m,\u001b[49m\u001b[43m \u001b[49m\u001b[38;5;241;43m*\u001b[39;49m\u001b[38;5;241;43m*\u001b[39;49m\u001b[43mkwargs\u001b[49m\u001b[43m)\u001b[49m\n\u001b[1;32m   1152\u001b[0m \u001b[38;5;28;01mif\u001b[39;00m \u001b[38;5;28mself\u001b[39m\u001b[38;5;241m.\u001b[39m_activity_regularizer:\n\u001b[1;32m   1153\u001b[0m     \u001b[38;5;28mself\u001b[39m\u001b[38;5;241m.\u001b[39m_handle_activity_regularization(inputs, outputs)\n",
      "File \u001b[0;32m~/miniconda3/envs/tf-2.12.0/lib/python3.8/site-packages/keras/src/utils/traceback_utils.py:96\u001b[0m, in \u001b[0;36minject_argument_info_in_traceback.<locals>.error_handler\u001b[0;34m(*args, **kwargs)\u001b[0m\n\u001b[1;32m     94\u001b[0m bound_signature \u001b[38;5;241m=\u001b[39m \u001b[38;5;28;01mNone\u001b[39;00m\n\u001b[1;32m     95\u001b[0m \u001b[38;5;28;01mtry\u001b[39;00m:\n\u001b[0;32m---> 96\u001b[0m     \u001b[38;5;28;01mreturn\u001b[39;00m \u001b[43mfn\u001b[49m\u001b[43m(\u001b[49m\u001b[38;5;241;43m*\u001b[39;49m\u001b[43margs\u001b[49m\u001b[43m,\u001b[49m\u001b[43m \u001b[49m\u001b[38;5;241;43m*\u001b[39;49m\u001b[38;5;241;43m*\u001b[39;49m\u001b[43mkwargs\u001b[49m\u001b[43m)\u001b[49m\n\u001b[1;32m     97\u001b[0m \u001b[38;5;28;01mexcept\u001b[39;00m \u001b[38;5;167;01mException\u001b[39;00m \u001b[38;5;28;01mas\u001b[39;00m e:\n\u001b[1;32m     98\u001b[0m     \u001b[38;5;28;01mif\u001b[39;00m \u001b[38;5;28mhasattr\u001b[39m(e, \u001b[38;5;124m\"\u001b[39m\u001b[38;5;124m_keras_call_info_injected\u001b[39m\u001b[38;5;124m\"\u001b[39m):\n\u001b[1;32m     99\u001b[0m         \u001b[38;5;66;03m# Only inject info for the innermost failing call\u001b[39;00m\n",
      "File \u001b[0;32m~/miniconda3/envs/tf-2.12.0/lib/python3.8/site-packages/transformers/modeling_tf_utils.py:437\u001b[0m, in \u001b[0;36munpack_inputs.<locals>.run_call_with_unpacked_inputs\u001b[0;34m(self, *args, **kwargs)\u001b[0m\n\u001b[1;32m    434\u001b[0m     config \u001b[38;5;241m=\u001b[39m \u001b[38;5;28mself\u001b[39m\u001b[38;5;241m.\u001b[39mconfig\n\u001b[1;32m    436\u001b[0m unpacked_inputs \u001b[38;5;241m=\u001b[39m input_processing(func, config, \u001b[38;5;241m*\u001b[39m\u001b[38;5;241m*\u001b[39mfn_args_and_kwargs)\n\u001b[0;32m--> 437\u001b[0m \u001b[38;5;28;01mreturn\u001b[39;00m \u001b[43mfunc\u001b[49m\u001b[43m(\u001b[49m\u001b[38;5;28;43mself\u001b[39;49m\u001b[43m,\u001b[49m\u001b[43m \u001b[49m\u001b[38;5;241;43m*\u001b[39;49m\u001b[38;5;241;43m*\u001b[39;49m\u001b[43munpacked_inputs\u001b[49m\u001b[43m)\u001b[49m\n",
      "File \u001b[0;32m~/miniconda3/envs/tf-2.12.0/lib/python3.8/site-packages/transformers/models/gpt2/modeling_tf_gpt2.py:925\u001b[0m, in \u001b[0;36mTFGPT2LMHeadModel.call\u001b[0;34m(self, input_ids, past_key_values, attention_mask, token_type_ids, position_ids, head_mask, inputs_embeds, encoder_hidden_states, encoder_attention_mask, use_cache, output_attentions, output_hidden_states, return_dict, labels, training)\u001b[0m\n\u001b[1;32m    876\u001b[0m \u001b[38;5;129m@unpack_inputs\u001b[39m\n\u001b[1;32m    877\u001b[0m \u001b[38;5;129m@add_start_docstrings_to_model_forward\u001b[39m(GPT2_INPUTS_DOCSTRING)\n\u001b[1;32m    878\u001b[0m \u001b[38;5;129m@add_code_sample_docstrings\u001b[39m(\n\u001b[0;32m   (...)\u001b[0m\n\u001b[1;32m    899\u001b[0m     training: Optional[\u001b[38;5;28mbool\u001b[39m] \u001b[38;5;241m=\u001b[39m \u001b[38;5;28;01mFalse\u001b[39;00m,\n\u001b[1;32m    900\u001b[0m ) \u001b[38;5;241m-\u001b[39m\u001b[38;5;241m>\u001b[39m Union[TFCausalLMOutputWithCrossAttentions, Tuple[tf\u001b[38;5;241m.\u001b[39mTensor]]:\n\u001b[1;32m    901\u001b[0m \u001b[38;5;250m    \u001b[39m\u001b[38;5;124mr\u001b[39m\u001b[38;5;124;03m\"\"\"\u001b[39;00m\n\u001b[1;32m    902\u001b[0m \u001b[38;5;124;03m    encoder_hidden_states  (`tf.Tensor` of shape `(batch_size, sequence_length, hidden_size)`, *optional*):\u001b[39;00m\n\u001b[1;32m    903\u001b[0m \u001b[38;5;124;03m        Sequence of hidden-states at the output of the last layer of the encoder. Used in the cross-attention if\u001b[39;00m\n\u001b[0;32m   (...)\u001b[0m\n\u001b[1;32m    922\u001b[0m \u001b[38;5;124;03m        config.vocab_size - 1]`.\u001b[39;00m\n\u001b[1;32m    923\u001b[0m \u001b[38;5;124;03m    \"\"\"\u001b[39;00m\n\u001b[0;32m--> 925\u001b[0m     transformer_outputs \u001b[38;5;241m=\u001b[39m \u001b[38;5;28;43mself\u001b[39;49m\u001b[38;5;241;43m.\u001b[39;49m\u001b[43mtransformer\u001b[49m\u001b[43m(\u001b[49m\n\u001b[1;32m    926\u001b[0m \u001b[43m        \u001b[49m\u001b[43minput_ids\u001b[49m\u001b[38;5;241;43m=\u001b[39;49m\u001b[43minput_ids\u001b[49m\u001b[43m,\u001b[49m\n\u001b[1;32m    927\u001b[0m \u001b[43m        \u001b[49m\u001b[43mpast_key_values\u001b[49m\u001b[38;5;241;43m=\u001b[39;49m\u001b[43mpast_key_values\u001b[49m\u001b[43m,\u001b[49m\n\u001b[1;32m    928\u001b[0m \u001b[43m        \u001b[49m\u001b[43mattention_mask\u001b[49m\u001b[38;5;241;43m=\u001b[39;49m\u001b[43mattention_mask\u001b[49m\u001b[43m,\u001b[49m\n\u001b[1;32m    929\u001b[0m \u001b[43m        \u001b[49m\u001b[43mtoken_type_ids\u001b[49m\u001b[38;5;241;43m=\u001b[39;49m\u001b[43mtoken_type_ids\u001b[49m\u001b[43m,\u001b[49m\n\u001b[1;32m    930\u001b[0m \u001b[43m        \u001b[49m\u001b[43mposition_ids\u001b[49m\u001b[38;5;241;43m=\u001b[39;49m\u001b[43mposition_ids\u001b[49m\u001b[43m,\u001b[49m\n\u001b[1;32m    931\u001b[0m \u001b[43m        \u001b[49m\u001b[43mhead_mask\u001b[49m\u001b[38;5;241;43m=\u001b[39;49m\u001b[43mhead_mask\u001b[49m\u001b[43m,\u001b[49m\n\u001b[1;32m    932\u001b[0m \u001b[43m        \u001b[49m\u001b[43minputs_embeds\u001b[49m\u001b[38;5;241;43m=\u001b[39;49m\u001b[43minputs_embeds\u001b[49m\u001b[43m,\u001b[49m\n\u001b[1;32m    933\u001b[0m \u001b[43m        \u001b[49m\u001b[43mencoder_hidden_states\u001b[49m\u001b[38;5;241;43m=\u001b[39;49m\u001b[43mencoder_hidden_states\u001b[49m\u001b[43m,\u001b[49m\n\u001b[1;32m    934\u001b[0m \u001b[43m        \u001b[49m\u001b[43mencoder_attention_mask\u001b[49m\u001b[38;5;241;43m=\u001b[39;49m\u001b[43mencoder_attention_mask\u001b[49m\u001b[43m,\u001b[49m\n\u001b[1;32m    935\u001b[0m \u001b[43m        \u001b[49m\u001b[43muse_cache\u001b[49m\u001b[38;5;241;43m=\u001b[39;49m\u001b[43muse_cache\u001b[49m\u001b[43m,\u001b[49m\n\u001b[1;32m    936\u001b[0m \u001b[43m        \u001b[49m\u001b[43moutput_attentions\u001b[49m\u001b[38;5;241;43m=\u001b[39;49m\u001b[43moutput_attentions\u001b[49m\u001b[43m,\u001b[49m\n\u001b[1;32m    937\u001b[0m \u001b[43m        \u001b[49m\u001b[43moutput_hidden_states\u001b[49m\u001b[38;5;241;43m=\u001b[39;49m\u001b[43moutput_hidden_states\u001b[49m\u001b[43m,\u001b[49m\n\u001b[1;32m    938\u001b[0m \u001b[43m        \u001b[49m\u001b[43mreturn_dict\u001b[49m\u001b[38;5;241;43m=\u001b[39;49m\u001b[43mreturn_dict\u001b[49m\u001b[43m,\u001b[49m\n\u001b[1;32m    939\u001b[0m \u001b[43m        \u001b[49m\u001b[43mtraining\u001b[49m\u001b[38;5;241;43m=\u001b[39;49m\u001b[43mtraining\u001b[49m\u001b[43m,\u001b[49m\n\u001b[1;32m    940\u001b[0m \u001b[43m    \u001b[49m\u001b[43m)\u001b[49m\n\u001b[1;32m    941\u001b[0m     hidden_states \u001b[38;5;241m=\u001b[39m transformer_outputs[\u001b[38;5;241m0\u001b[39m]\n\u001b[1;32m    942\u001b[0m     logits \u001b[38;5;241m=\u001b[39m tf\u001b[38;5;241m.\u001b[39mmatmul(hidden_states, \u001b[38;5;28mself\u001b[39m\u001b[38;5;241m.\u001b[39mtransformer\u001b[38;5;241m.\u001b[39mwte\u001b[38;5;241m.\u001b[39mweights, transpose_b\u001b[38;5;241m=\u001b[39m\u001b[38;5;28;01mTrue\u001b[39;00m)\n",
      "File \u001b[0;32m~/miniconda3/envs/tf-2.12.0/lib/python3.8/site-packages/keras/src/utils/traceback_utils.py:65\u001b[0m, in \u001b[0;36mfilter_traceback.<locals>.error_handler\u001b[0;34m(*args, **kwargs)\u001b[0m\n\u001b[1;32m     63\u001b[0m filtered_tb \u001b[38;5;241m=\u001b[39m \u001b[38;5;28;01mNone\u001b[39;00m\n\u001b[1;32m     64\u001b[0m \u001b[38;5;28;01mtry\u001b[39;00m:\n\u001b[0;32m---> 65\u001b[0m     \u001b[38;5;28;01mreturn\u001b[39;00m \u001b[43mfn\u001b[49m\u001b[43m(\u001b[49m\u001b[38;5;241;43m*\u001b[39;49m\u001b[43margs\u001b[49m\u001b[43m,\u001b[49m\u001b[43m \u001b[49m\u001b[38;5;241;43m*\u001b[39;49m\u001b[38;5;241;43m*\u001b[39;49m\u001b[43mkwargs\u001b[49m\u001b[43m)\u001b[49m\n\u001b[1;32m     66\u001b[0m \u001b[38;5;28;01mexcept\u001b[39;00m \u001b[38;5;167;01mException\u001b[39;00m \u001b[38;5;28;01mas\u001b[39;00m e:\n\u001b[1;32m     67\u001b[0m     filtered_tb \u001b[38;5;241m=\u001b[39m _process_traceback_frames(e\u001b[38;5;241m.\u001b[39m__traceback__)\n",
      "File \u001b[0;32m~/miniconda3/envs/tf-2.12.0/lib/python3.8/site-packages/keras/src/engine/base_layer.py:1150\u001b[0m, in \u001b[0;36mLayer.__call__\u001b[0;34m(self, *args, **kwargs)\u001b[0m\n\u001b[1;32m   1145\u001b[0m     inputs \u001b[38;5;241m=\u001b[39m \u001b[38;5;28mself\u001b[39m\u001b[38;5;241m.\u001b[39m_maybe_cast_inputs(inputs, input_list)\n\u001b[1;32m   1147\u001b[0m \u001b[38;5;28;01mwith\u001b[39;00m autocast_variable\u001b[38;5;241m.\u001b[39menable_auto_cast_variables(\n\u001b[1;32m   1148\u001b[0m     \u001b[38;5;28mself\u001b[39m\u001b[38;5;241m.\u001b[39m_compute_dtype_object\n\u001b[1;32m   1149\u001b[0m ):\n\u001b[0;32m-> 1150\u001b[0m     outputs \u001b[38;5;241m=\u001b[39m \u001b[43mcall_fn\u001b[49m\u001b[43m(\u001b[49m\u001b[43minputs\u001b[49m\u001b[43m,\u001b[49m\u001b[43m \u001b[49m\u001b[38;5;241;43m*\u001b[39;49m\u001b[43margs\u001b[49m\u001b[43m,\u001b[49m\u001b[43m \u001b[49m\u001b[38;5;241;43m*\u001b[39;49m\u001b[38;5;241;43m*\u001b[39;49m\u001b[43mkwargs\u001b[49m\u001b[43m)\u001b[49m\n\u001b[1;32m   1152\u001b[0m \u001b[38;5;28;01mif\u001b[39;00m \u001b[38;5;28mself\u001b[39m\u001b[38;5;241m.\u001b[39m_activity_regularizer:\n\u001b[1;32m   1153\u001b[0m     \u001b[38;5;28mself\u001b[39m\u001b[38;5;241m.\u001b[39m_handle_activity_regularization(inputs, outputs)\n",
      "File \u001b[0;32m~/miniconda3/envs/tf-2.12.0/lib/python3.8/site-packages/keras/src/utils/traceback_utils.py:96\u001b[0m, in \u001b[0;36minject_argument_info_in_traceback.<locals>.error_handler\u001b[0;34m(*args, **kwargs)\u001b[0m\n\u001b[1;32m     94\u001b[0m bound_signature \u001b[38;5;241m=\u001b[39m \u001b[38;5;28;01mNone\u001b[39;00m\n\u001b[1;32m     95\u001b[0m \u001b[38;5;28;01mtry\u001b[39;00m:\n\u001b[0;32m---> 96\u001b[0m     \u001b[38;5;28;01mreturn\u001b[39;00m \u001b[43mfn\u001b[49m\u001b[43m(\u001b[49m\u001b[38;5;241;43m*\u001b[39;49m\u001b[43margs\u001b[49m\u001b[43m,\u001b[49m\u001b[43m \u001b[49m\u001b[38;5;241;43m*\u001b[39;49m\u001b[38;5;241;43m*\u001b[39;49m\u001b[43mkwargs\u001b[49m\u001b[43m)\u001b[49m\n\u001b[1;32m     97\u001b[0m \u001b[38;5;28;01mexcept\u001b[39;00m \u001b[38;5;167;01mException\u001b[39;00m \u001b[38;5;28;01mas\u001b[39;00m e:\n\u001b[1;32m     98\u001b[0m     \u001b[38;5;28;01mif\u001b[39;00m \u001b[38;5;28mhasattr\u001b[39m(e, \u001b[38;5;124m\"\u001b[39m\u001b[38;5;124m_keras_call_info_injected\u001b[39m\u001b[38;5;124m\"\u001b[39m):\n\u001b[1;32m     99\u001b[0m         \u001b[38;5;66;03m# Only inject info for the innermost failing call\u001b[39;00m\n",
      "File \u001b[0;32m~/miniconda3/envs/tf-2.12.0/lib/python3.8/site-packages/transformers/modeling_tf_utils.py:437\u001b[0m, in \u001b[0;36munpack_inputs.<locals>.run_call_with_unpacked_inputs\u001b[0;34m(self, *args, **kwargs)\u001b[0m\n\u001b[1;32m    434\u001b[0m     config \u001b[38;5;241m=\u001b[39m \u001b[38;5;28mself\u001b[39m\u001b[38;5;241m.\u001b[39mconfig\n\u001b[1;32m    436\u001b[0m unpacked_inputs \u001b[38;5;241m=\u001b[39m input_processing(func, config, \u001b[38;5;241m*\u001b[39m\u001b[38;5;241m*\u001b[39mfn_args_and_kwargs)\n\u001b[0;32m--> 437\u001b[0m \u001b[38;5;28;01mreturn\u001b[39;00m \u001b[43mfunc\u001b[49m\u001b[43m(\u001b[49m\u001b[38;5;28;43mself\u001b[39;49m\u001b[43m,\u001b[49m\u001b[43m \u001b[49m\u001b[38;5;241;43m*\u001b[39;49m\u001b[38;5;241;43m*\u001b[39;49m\u001b[43munpacked_inputs\u001b[49m\u001b[43m)\u001b[49m\n",
      "File \u001b[0;32m~/miniconda3/envs/tf-2.12.0/lib/python3.8/site-packages/transformers/models/gpt2/modeling_tf_gpt2.py:516\u001b[0m, in \u001b[0;36mTFGPT2MainLayer.call\u001b[0;34m(self, input_ids, past_key_values, attention_mask, token_type_ids, position_ids, head_mask, inputs_embeds, encoder_hidden_states, encoder_attention_mask, use_cache, output_attentions, output_hidden_states, return_dict, training)\u001b[0m\n\u001b[1;32m    513\u001b[0m \u001b[38;5;28;01mif\u001b[39;00m output_hidden_states:\n\u001b[1;32m    514\u001b[0m     all_hidden_states \u001b[38;5;241m=\u001b[39m all_hidden_states \u001b[38;5;241m+\u001b[39m (tf\u001b[38;5;241m.\u001b[39mreshape(hidden_states, output_shape),)\n\u001b[0;32m--> 516\u001b[0m outputs \u001b[38;5;241m=\u001b[39m \u001b[43mblock\u001b[49m\u001b[43m(\u001b[49m\n\u001b[1;32m    517\u001b[0m \u001b[43m    \u001b[49m\u001b[43mhidden_states\u001b[49m\u001b[43m,\u001b[49m\n\u001b[1;32m    518\u001b[0m \u001b[43m    \u001b[49m\u001b[43mlayer_past\u001b[49m\u001b[43m,\u001b[49m\n\u001b[1;32m    519\u001b[0m \u001b[43m    \u001b[49m\u001b[43mattention_mask\u001b[49m\u001b[43m,\u001b[49m\n\u001b[1;32m    520\u001b[0m \u001b[43m    \u001b[49m\u001b[43mhead_mask\u001b[49m\u001b[43m[\u001b[49m\u001b[43mi\u001b[49m\u001b[43m]\u001b[49m\u001b[43m,\u001b[49m\n\u001b[1;32m    521\u001b[0m \u001b[43m    \u001b[49m\u001b[43mencoder_hidden_states\u001b[49m\u001b[43m,\u001b[49m\n\u001b[1;32m    522\u001b[0m \u001b[43m    \u001b[49m\u001b[43mencoder_attention_mask\u001b[49m\u001b[43m,\u001b[49m\n\u001b[1;32m    523\u001b[0m \u001b[43m    \u001b[49m\u001b[43muse_cache\u001b[49m\u001b[43m,\u001b[49m\n\u001b[1;32m    524\u001b[0m \u001b[43m    \u001b[49m\u001b[43moutput_attentions\u001b[49m\u001b[43m,\u001b[49m\n\u001b[1;32m    525\u001b[0m \u001b[43m    \u001b[49m\u001b[43mtraining\u001b[49m\u001b[38;5;241;43m=\u001b[39;49m\u001b[43mtraining\u001b[49m\u001b[43m,\u001b[49m\n\u001b[1;32m    526\u001b[0m \u001b[43m\u001b[49m\u001b[43m)\u001b[49m\n\u001b[1;32m    528\u001b[0m hidden_states, present \u001b[38;5;241m=\u001b[39m outputs[:\u001b[38;5;241m2\u001b[39m]\n\u001b[1;32m    529\u001b[0m \u001b[38;5;28;01mif\u001b[39;00m use_cache:\n",
      "File \u001b[0;32m~/miniconda3/envs/tf-2.12.0/lib/python3.8/site-packages/keras/src/utils/traceback_utils.py:65\u001b[0m, in \u001b[0;36mfilter_traceback.<locals>.error_handler\u001b[0;34m(*args, **kwargs)\u001b[0m\n\u001b[1;32m     63\u001b[0m filtered_tb \u001b[38;5;241m=\u001b[39m \u001b[38;5;28;01mNone\u001b[39;00m\n\u001b[1;32m     64\u001b[0m \u001b[38;5;28;01mtry\u001b[39;00m:\n\u001b[0;32m---> 65\u001b[0m     \u001b[38;5;28;01mreturn\u001b[39;00m \u001b[43mfn\u001b[49m\u001b[43m(\u001b[49m\u001b[38;5;241;43m*\u001b[39;49m\u001b[43margs\u001b[49m\u001b[43m,\u001b[49m\u001b[43m \u001b[49m\u001b[38;5;241;43m*\u001b[39;49m\u001b[38;5;241;43m*\u001b[39;49m\u001b[43mkwargs\u001b[49m\u001b[43m)\u001b[49m\n\u001b[1;32m     66\u001b[0m \u001b[38;5;28;01mexcept\u001b[39;00m \u001b[38;5;167;01mException\u001b[39;00m \u001b[38;5;28;01mas\u001b[39;00m e:\n\u001b[1;32m     67\u001b[0m     filtered_tb \u001b[38;5;241m=\u001b[39m _process_traceback_frames(e\u001b[38;5;241m.\u001b[39m__traceback__)\n",
      "File \u001b[0;32m~/miniconda3/envs/tf-2.12.0/lib/python3.8/site-packages/keras/src/engine/base_layer.py:1150\u001b[0m, in \u001b[0;36mLayer.__call__\u001b[0;34m(self, *args, **kwargs)\u001b[0m\n\u001b[1;32m   1145\u001b[0m     inputs \u001b[38;5;241m=\u001b[39m \u001b[38;5;28mself\u001b[39m\u001b[38;5;241m.\u001b[39m_maybe_cast_inputs(inputs, input_list)\n\u001b[1;32m   1147\u001b[0m \u001b[38;5;28;01mwith\u001b[39;00m autocast_variable\u001b[38;5;241m.\u001b[39menable_auto_cast_variables(\n\u001b[1;32m   1148\u001b[0m     \u001b[38;5;28mself\u001b[39m\u001b[38;5;241m.\u001b[39m_compute_dtype_object\n\u001b[1;32m   1149\u001b[0m ):\n\u001b[0;32m-> 1150\u001b[0m     outputs \u001b[38;5;241m=\u001b[39m \u001b[43mcall_fn\u001b[49m\u001b[43m(\u001b[49m\u001b[43minputs\u001b[49m\u001b[43m,\u001b[49m\u001b[43m \u001b[49m\u001b[38;5;241;43m*\u001b[39;49m\u001b[43margs\u001b[49m\u001b[43m,\u001b[49m\u001b[43m \u001b[49m\u001b[38;5;241;43m*\u001b[39;49m\u001b[38;5;241;43m*\u001b[39;49m\u001b[43mkwargs\u001b[49m\u001b[43m)\u001b[49m\n\u001b[1;32m   1152\u001b[0m \u001b[38;5;28;01mif\u001b[39;00m \u001b[38;5;28mself\u001b[39m\u001b[38;5;241m.\u001b[39m_activity_regularizer:\n\u001b[1;32m   1153\u001b[0m     \u001b[38;5;28mself\u001b[39m\u001b[38;5;241m.\u001b[39m_handle_activity_regularization(inputs, outputs)\n",
      "File \u001b[0;32m~/miniconda3/envs/tf-2.12.0/lib/python3.8/site-packages/keras/src/utils/traceback_utils.py:96\u001b[0m, in \u001b[0;36minject_argument_info_in_traceback.<locals>.error_handler\u001b[0;34m(*args, **kwargs)\u001b[0m\n\u001b[1;32m     94\u001b[0m bound_signature \u001b[38;5;241m=\u001b[39m \u001b[38;5;28;01mNone\u001b[39;00m\n\u001b[1;32m     95\u001b[0m \u001b[38;5;28;01mtry\u001b[39;00m:\n\u001b[0;32m---> 96\u001b[0m     \u001b[38;5;28;01mreturn\u001b[39;00m \u001b[43mfn\u001b[49m\u001b[43m(\u001b[49m\u001b[38;5;241;43m*\u001b[39;49m\u001b[43margs\u001b[49m\u001b[43m,\u001b[49m\u001b[43m \u001b[49m\u001b[38;5;241;43m*\u001b[39;49m\u001b[38;5;241;43m*\u001b[39;49m\u001b[43mkwargs\u001b[49m\u001b[43m)\u001b[49m\n\u001b[1;32m     97\u001b[0m \u001b[38;5;28;01mexcept\u001b[39;00m \u001b[38;5;167;01mException\u001b[39;00m \u001b[38;5;28;01mas\u001b[39;00m e:\n\u001b[1;32m     98\u001b[0m     \u001b[38;5;28;01mif\u001b[39;00m \u001b[38;5;28mhasattr\u001b[39m(e, \u001b[38;5;124m\"\u001b[39m\u001b[38;5;124m_keras_call_info_injected\u001b[39m\u001b[38;5;124m\"\u001b[39m):\n\u001b[1;32m     99\u001b[0m         \u001b[38;5;66;03m# Only inject info for the innermost failing call\u001b[39;00m\n",
      "File \u001b[0;32m~/miniconda3/envs/tf-2.12.0/lib/python3.8/site-packages/transformers/models/gpt2/modeling_tf_gpt2.py:280\u001b[0m, in \u001b[0;36mTFBlock.call\u001b[0;34m(self, x, layer_past, attention_mask, head_mask, encoder_hidden_states, encoder_attention_mask, use_cache, output_attentions, training)\u001b[0m\n\u001b[1;32m    267\u001b[0m \u001b[38;5;28;01mdef\u001b[39;00m \u001b[38;5;21mcall\u001b[39m(\n\u001b[1;32m    268\u001b[0m     \u001b[38;5;28mself\u001b[39m,\n\u001b[1;32m    269\u001b[0m     x,\n\u001b[0;32m   (...)\u001b[0m\n\u001b[1;32m    277\u001b[0m     training\u001b[38;5;241m=\u001b[39m\u001b[38;5;28;01mFalse\u001b[39;00m,\n\u001b[1;32m    278\u001b[0m ):\n\u001b[1;32m    279\u001b[0m     a \u001b[38;5;241m=\u001b[39m \u001b[38;5;28mself\u001b[39m\u001b[38;5;241m.\u001b[39mln_1(x)\n\u001b[0;32m--> 280\u001b[0m     output_attn \u001b[38;5;241m=\u001b[39m \u001b[38;5;28;43mself\u001b[39;49m\u001b[38;5;241;43m.\u001b[39;49m\u001b[43mattn\u001b[49m\u001b[43m(\u001b[49m\n\u001b[1;32m    281\u001b[0m \u001b[43m        \u001b[49m\u001b[43ma\u001b[49m\u001b[43m,\u001b[49m\n\u001b[1;32m    282\u001b[0m \u001b[43m        \u001b[49m\u001b[43mlayer_past\u001b[49m\u001b[38;5;241;43m=\u001b[39;49m\u001b[43mlayer_past\u001b[49m\u001b[43m,\u001b[49m\n\u001b[1;32m    283\u001b[0m \u001b[43m        \u001b[49m\u001b[43mattention_mask\u001b[49m\u001b[38;5;241;43m=\u001b[39;49m\u001b[43mattention_mask\u001b[49m\u001b[43m,\u001b[49m\n\u001b[1;32m    284\u001b[0m \u001b[43m        \u001b[49m\u001b[43mhead_mask\u001b[49m\u001b[38;5;241;43m=\u001b[39;49m\u001b[43mhead_mask\u001b[49m\u001b[43m,\u001b[49m\n\u001b[1;32m    285\u001b[0m \u001b[43m        \u001b[49m\u001b[43mencoder_hidden_states\u001b[49m\u001b[38;5;241;43m=\u001b[39;49m\u001b[38;5;28;43;01mNone\u001b[39;49;00m\u001b[43m,\u001b[49m\n\u001b[1;32m    286\u001b[0m \u001b[43m        \u001b[49m\u001b[43mencoder_attention_mask\u001b[49m\u001b[38;5;241;43m=\u001b[39;49m\u001b[38;5;28;43;01mNone\u001b[39;49;00m\u001b[43m,\u001b[49m\n\u001b[1;32m    287\u001b[0m \u001b[43m        \u001b[49m\u001b[43muse_cache\u001b[49m\u001b[38;5;241;43m=\u001b[39;49m\u001b[43muse_cache\u001b[49m\u001b[43m,\u001b[49m\n\u001b[1;32m    288\u001b[0m \u001b[43m        \u001b[49m\u001b[43moutput_attentions\u001b[49m\u001b[38;5;241;43m=\u001b[39;49m\u001b[43moutput_attentions\u001b[49m\u001b[43m,\u001b[49m\n\u001b[1;32m    289\u001b[0m \u001b[43m        \u001b[49m\u001b[43mtraining\u001b[49m\u001b[38;5;241;43m=\u001b[39;49m\u001b[43mtraining\u001b[49m\u001b[43m,\u001b[49m\n\u001b[1;32m    290\u001b[0m \u001b[43m    \u001b[49m\u001b[43m)\u001b[49m\n\u001b[1;32m    291\u001b[0m     a \u001b[38;5;241m=\u001b[39m output_attn[\u001b[38;5;241m0\u001b[39m]  \u001b[38;5;66;03m# output_attn: a, present, (attentions)\u001b[39;00m\n\u001b[1;32m    292\u001b[0m     outputs \u001b[38;5;241m=\u001b[39m output_attn[\u001b[38;5;241m1\u001b[39m:]\n",
      "File \u001b[0;32m~/miniconda3/envs/tf-2.12.0/lib/python3.8/site-packages/keras/src/utils/traceback_utils.py:65\u001b[0m, in \u001b[0;36mfilter_traceback.<locals>.error_handler\u001b[0;34m(*args, **kwargs)\u001b[0m\n\u001b[1;32m     63\u001b[0m filtered_tb \u001b[38;5;241m=\u001b[39m \u001b[38;5;28;01mNone\u001b[39;00m\n\u001b[1;32m     64\u001b[0m \u001b[38;5;28;01mtry\u001b[39;00m:\n\u001b[0;32m---> 65\u001b[0m     \u001b[38;5;28;01mreturn\u001b[39;00m \u001b[43mfn\u001b[49m\u001b[43m(\u001b[49m\u001b[38;5;241;43m*\u001b[39;49m\u001b[43margs\u001b[49m\u001b[43m,\u001b[49m\u001b[43m \u001b[49m\u001b[38;5;241;43m*\u001b[39;49m\u001b[38;5;241;43m*\u001b[39;49m\u001b[43mkwargs\u001b[49m\u001b[43m)\u001b[49m\n\u001b[1;32m     66\u001b[0m \u001b[38;5;28;01mexcept\u001b[39;00m \u001b[38;5;167;01mException\u001b[39;00m \u001b[38;5;28;01mas\u001b[39;00m e:\n\u001b[1;32m     67\u001b[0m     filtered_tb \u001b[38;5;241m=\u001b[39m _process_traceback_frames(e\u001b[38;5;241m.\u001b[39m__traceback__)\n",
      "File \u001b[0;32m~/miniconda3/envs/tf-2.12.0/lib/python3.8/site-packages/keras/src/engine/base_layer.py:1150\u001b[0m, in \u001b[0;36mLayer.__call__\u001b[0;34m(self, *args, **kwargs)\u001b[0m\n\u001b[1;32m   1145\u001b[0m     inputs \u001b[38;5;241m=\u001b[39m \u001b[38;5;28mself\u001b[39m\u001b[38;5;241m.\u001b[39m_maybe_cast_inputs(inputs, input_list)\n\u001b[1;32m   1147\u001b[0m \u001b[38;5;28;01mwith\u001b[39;00m autocast_variable\u001b[38;5;241m.\u001b[39menable_auto_cast_variables(\n\u001b[1;32m   1148\u001b[0m     \u001b[38;5;28mself\u001b[39m\u001b[38;5;241m.\u001b[39m_compute_dtype_object\n\u001b[1;32m   1149\u001b[0m ):\n\u001b[0;32m-> 1150\u001b[0m     outputs \u001b[38;5;241m=\u001b[39m \u001b[43mcall_fn\u001b[49m\u001b[43m(\u001b[49m\u001b[43minputs\u001b[49m\u001b[43m,\u001b[49m\u001b[43m \u001b[49m\u001b[38;5;241;43m*\u001b[39;49m\u001b[43margs\u001b[49m\u001b[43m,\u001b[49m\u001b[43m \u001b[49m\u001b[38;5;241;43m*\u001b[39;49m\u001b[38;5;241;43m*\u001b[39;49m\u001b[43mkwargs\u001b[49m\u001b[43m)\u001b[49m\n\u001b[1;32m   1152\u001b[0m \u001b[38;5;28;01mif\u001b[39;00m \u001b[38;5;28mself\u001b[39m\u001b[38;5;241m.\u001b[39m_activity_regularizer:\n\u001b[1;32m   1153\u001b[0m     \u001b[38;5;28mself\u001b[39m\u001b[38;5;241m.\u001b[39m_handle_activity_regularization(inputs, outputs)\n",
      "File \u001b[0;32m~/miniconda3/envs/tf-2.12.0/lib/python3.8/site-packages/keras/src/utils/traceback_utils.py:96\u001b[0m, in \u001b[0;36minject_argument_info_in_traceback.<locals>.error_handler\u001b[0;34m(*args, **kwargs)\u001b[0m\n\u001b[1;32m     94\u001b[0m bound_signature \u001b[38;5;241m=\u001b[39m \u001b[38;5;28;01mNone\u001b[39;00m\n\u001b[1;32m     95\u001b[0m \u001b[38;5;28;01mtry\u001b[39;00m:\n\u001b[0;32m---> 96\u001b[0m     \u001b[38;5;28;01mreturn\u001b[39;00m \u001b[43mfn\u001b[49m\u001b[43m(\u001b[49m\u001b[38;5;241;43m*\u001b[39;49m\u001b[43margs\u001b[49m\u001b[43m,\u001b[49m\u001b[43m \u001b[49m\u001b[38;5;241;43m*\u001b[39;49m\u001b[38;5;241;43m*\u001b[39;49m\u001b[43mkwargs\u001b[49m\u001b[43m)\u001b[49m\n\u001b[1;32m     97\u001b[0m \u001b[38;5;28;01mexcept\u001b[39;00m \u001b[38;5;167;01mException\u001b[39;00m \u001b[38;5;28;01mas\u001b[39;00m e:\n\u001b[1;32m     98\u001b[0m     \u001b[38;5;28;01mif\u001b[39;00m \u001b[38;5;28mhasattr\u001b[39m(e, \u001b[38;5;124m\"\u001b[39m\u001b[38;5;124m_keras_call_info_injected\u001b[39m\u001b[38;5;124m\"\u001b[39m):\n\u001b[1;32m     99\u001b[0m         \u001b[38;5;66;03m# Only inject info for the innermost failing call\u001b[39;00m\n",
      "File \u001b[0;32m~/miniconda3/envs/tf-2.12.0/lib/python3.8/site-packages/transformers/models/gpt2/modeling_tf_gpt2.py:191\u001b[0m, in \u001b[0;36mTFAttention.call\u001b[0;34m(self, x, layer_past, attention_mask, head_mask, encoder_hidden_states, encoder_attention_mask, use_cache, output_attentions, training)\u001b[0m\n\u001b[1;32m    188\u001b[0m \u001b[38;5;28;01melse\u001b[39;00m:\n\u001b[1;32m    189\u001b[0m     present \u001b[38;5;241m=\u001b[39m (\u001b[38;5;28;01mNone\u001b[39;00m,)\n\u001b[0;32m--> 191\u001b[0m attn_outputs \u001b[38;5;241m=\u001b[39m \u001b[38;5;28;43mself\u001b[39;49m\u001b[38;5;241;43m.\u001b[39;49m\u001b[43m_attn\u001b[49m\u001b[43m(\u001b[49m\u001b[43mquery\u001b[49m\u001b[43m,\u001b[49m\u001b[43m \u001b[49m\u001b[43mkey\u001b[49m\u001b[43m,\u001b[49m\u001b[43m \u001b[49m\u001b[43mvalue\u001b[49m\u001b[43m,\u001b[49m\u001b[43m \u001b[49m\u001b[43mattention_mask\u001b[49m\u001b[43m,\u001b[49m\u001b[43m \u001b[49m\u001b[43mhead_mask\u001b[49m\u001b[43m,\u001b[49m\u001b[43m \u001b[49m\u001b[43moutput_attentions\u001b[49m\u001b[43m,\u001b[49m\u001b[43m \u001b[49m\u001b[43mtraining\u001b[49m\u001b[38;5;241;43m=\u001b[39;49m\u001b[43mtraining\u001b[49m\u001b[43m)\u001b[49m\n\u001b[1;32m    192\u001b[0m a \u001b[38;5;241m=\u001b[39m attn_outputs[\u001b[38;5;241m0\u001b[39m]\n\u001b[1;32m    194\u001b[0m a \u001b[38;5;241m=\u001b[39m \u001b[38;5;28mself\u001b[39m\u001b[38;5;241m.\u001b[39mmerge_heads(a)\n",
      "File \u001b[0;32m~/miniconda3/envs/tf-2.12.0/lib/python3.8/site-packages/transformers/models/gpt2/modeling_tf_gpt2.py:126\u001b[0m, in \u001b[0;36mTFAttention._attn\u001b[0;34m(self, q, k, v, attention_mask, head_mask, output_attentions, training)\u001b[0m\n\u001b[1;32m    123\u001b[0m     attention_mask \u001b[38;5;241m=\u001b[39m tf\u001b[38;5;241m.\u001b[39mcast(attention_mask, dtype\u001b[38;5;241m=\u001b[39mw\u001b[38;5;241m.\u001b[39mdtype)\n\u001b[1;32m    124\u001b[0m     w \u001b[38;5;241m=\u001b[39m w \u001b[38;5;241m+\u001b[39m attention_mask\n\u001b[0;32m--> 126\u001b[0m w \u001b[38;5;241m=\u001b[39m \u001b[43mstable_softmax\u001b[49m\u001b[43m(\u001b[49m\u001b[43mw\u001b[49m\u001b[43m,\u001b[49m\u001b[43m \u001b[49m\u001b[43maxis\u001b[49m\u001b[38;5;241;43m=\u001b[39;49m\u001b[38;5;241;43m-\u001b[39;49m\u001b[38;5;241;43m1\u001b[39;49m\u001b[43m)\u001b[49m\n\u001b[1;32m    127\u001b[0m w \u001b[38;5;241m=\u001b[39m \u001b[38;5;28mself\u001b[39m\u001b[38;5;241m.\u001b[39mattn_dropout(w, training\u001b[38;5;241m=\u001b[39mtraining)\n\u001b[1;32m    129\u001b[0m \u001b[38;5;66;03m# Mask heads if we want to\u001b[39;00m\n",
      "File \u001b[0;32m~/miniconda3/envs/tf-2.12.0/lib/python3.8/site-packages/transformers/tf_utils.py:72\u001b[0m, in \u001b[0;36mstable_softmax\u001b[0;34m(logits, axis, name)\u001b[0m\n\u001b[1;32m     52\u001b[0m \u001b[38;5;250m\u001b[39m\u001b[38;5;124;03m\"\"\"\u001b[39;00m\n\u001b[1;32m     53\u001b[0m \u001b[38;5;124;03mStable wrapper that returns the same output as `tf.nn.softmax`, but that works reliably with XLA on CPU. It is\u001b[39;00m\n\u001b[1;32m     54\u001b[0m \u001b[38;5;124;03mmeant as a workaround for the [following issue](https://github.com/tensorflow/tensorflow/issues/55682), and will be\u001b[39;00m\n\u001b[0;32m   (...)\u001b[0m\n\u001b[1;32m     68\u001b[0m \u001b[38;5;124;03m        A Tensor. Has the same type and shape as logits.\u001b[39;00m\n\u001b[1;32m     69\u001b[0m \u001b[38;5;124;03m\"\"\"\u001b[39;00m\n\u001b[1;32m     70\u001b[0m \u001b[38;5;66;03m# TODO: When the issue linked above gets sorted, add a check on TF version here and use the original function if\u001b[39;00m\n\u001b[1;32m     71\u001b[0m \u001b[38;5;66;03m# it has the fix. After we drop the support for unfixed versions, remove this function.\u001b[39;00m\n\u001b[0;32m---> 72\u001b[0m \u001b[38;5;28;01mreturn\u001b[39;00m \u001b[43mtf\u001b[49m\u001b[38;5;241;43m.\u001b[39;49m\u001b[43mnn\u001b[49m\u001b[38;5;241;43m.\u001b[39;49m\u001b[43msoftmax\u001b[49m\u001b[43m(\u001b[49m\u001b[43mlogits\u001b[49m\u001b[38;5;241;43m=\u001b[39;49m\u001b[43mlogits\u001b[49m\u001b[43m \u001b[49m\u001b[38;5;241;43m+\u001b[39;49m\u001b[43m \u001b[49m\u001b[38;5;241;43m1e-9\u001b[39;49m\u001b[43m,\u001b[49m\u001b[43m \u001b[49m\u001b[43maxis\u001b[49m\u001b[38;5;241;43m=\u001b[39;49m\u001b[43maxis\u001b[49m\u001b[43m,\u001b[49m\u001b[43m \u001b[49m\u001b[43mname\u001b[49m\u001b[38;5;241;43m=\u001b[39;49m\u001b[43mname\u001b[49m\u001b[43m)\u001b[49m\n",
      "File \u001b[0;32m~/miniconda3/envs/tf-2.12.0/lib/python3.8/site-packages/tensorflow/python/util/traceback_utils.py:150\u001b[0m, in \u001b[0;36mfilter_traceback.<locals>.error_handler\u001b[0;34m(*args, **kwargs)\u001b[0m\n\u001b[1;32m    148\u001b[0m filtered_tb \u001b[38;5;241m=\u001b[39m \u001b[38;5;28;01mNone\u001b[39;00m\n\u001b[1;32m    149\u001b[0m \u001b[38;5;28;01mtry\u001b[39;00m:\n\u001b[0;32m--> 150\u001b[0m   \u001b[38;5;28;01mreturn\u001b[39;00m \u001b[43mfn\u001b[49m\u001b[43m(\u001b[49m\u001b[38;5;241;43m*\u001b[39;49m\u001b[43margs\u001b[49m\u001b[43m,\u001b[49m\u001b[43m \u001b[49m\u001b[38;5;241;43m*\u001b[39;49m\u001b[38;5;241;43m*\u001b[39;49m\u001b[43mkwargs\u001b[49m\u001b[43m)\u001b[49m\n\u001b[1;32m    151\u001b[0m \u001b[38;5;28;01mexcept\u001b[39;00m \u001b[38;5;167;01mException\u001b[39;00m \u001b[38;5;28;01mas\u001b[39;00m e:\n\u001b[1;32m    152\u001b[0m   filtered_tb \u001b[38;5;241m=\u001b[39m _process_traceback_frames(e\u001b[38;5;241m.\u001b[39m__traceback__)\n",
      "File \u001b[0;32m~/miniconda3/envs/tf-2.12.0/lib/python3.8/site-packages/tensorflow/python/util/dispatch.py:1176\u001b[0m, in \u001b[0;36madd_dispatch_support.<locals>.decorator.<locals>.op_dispatch_handler\u001b[0;34m(*args, **kwargs)\u001b[0m\n\u001b[1;32m   1174\u001b[0m \u001b[38;5;66;03m# Fallback dispatch system (dispatch v1):\u001b[39;00m\n\u001b[1;32m   1175\u001b[0m \u001b[38;5;28;01mtry\u001b[39;00m:\n\u001b[0;32m-> 1176\u001b[0m   \u001b[38;5;28;01mreturn\u001b[39;00m \u001b[43mdispatch_target\u001b[49m\u001b[43m(\u001b[49m\u001b[38;5;241;43m*\u001b[39;49m\u001b[43margs\u001b[49m\u001b[43m,\u001b[49m\u001b[43m \u001b[49m\u001b[38;5;241;43m*\u001b[39;49m\u001b[38;5;241;43m*\u001b[39;49m\u001b[43mkwargs\u001b[49m\u001b[43m)\u001b[49m\n\u001b[1;32m   1177\u001b[0m \u001b[38;5;28;01mexcept\u001b[39;00m (\u001b[38;5;167;01mTypeError\u001b[39;00m, \u001b[38;5;167;01mValueError\u001b[39;00m):\n\u001b[1;32m   1178\u001b[0m   \u001b[38;5;66;03m# Note: convert_to_eager_tensor currently raises a ValueError, not a\u001b[39;00m\n\u001b[1;32m   1179\u001b[0m   \u001b[38;5;66;03m# TypeError, when given unexpected types.  So we need to catch both.\u001b[39;00m\n\u001b[1;32m   1180\u001b[0m   result \u001b[38;5;241m=\u001b[39m dispatch(op_dispatch_handler, args, kwargs)\n",
      "File \u001b[0;32m~/miniconda3/envs/tf-2.12.0/lib/python3.8/site-packages/tensorflow/python/ops/nn_ops.py:3902\u001b[0m, in \u001b[0;36msoftmax_v2\u001b[0;34m(logits, axis, name)\u001b[0m\n\u001b[1;32m   3900\u001b[0m \u001b[38;5;28;01mif\u001b[39;00m axis \u001b[38;5;129;01mis\u001b[39;00m \u001b[38;5;28;01mNone\u001b[39;00m:\n\u001b[1;32m   3901\u001b[0m   axis \u001b[38;5;241m=\u001b[39m \u001b[38;5;241m-\u001b[39m\u001b[38;5;241m1\u001b[39m\n\u001b[0;32m-> 3902\u001b[0m \u001b[38;5;28;01mreturn\u001b[39;00m \u001b[43m_wrap_2d_function\u001b[49m\u001b[43m(\u001b[49m\u001b[43mlogits\u001b[49m\u001b[43m,\u001b[49m\u001b[43m \u001b[49m\u001b[43mgen_nn_ops\u001b[49m\u001b[38;5;241;43m.\u001b[39;49m\u001b[43msoftmax\u001b[49m\u001b[43m,\u001b[49m\u001b[43m \u001b[49m\u001b[43maxis\u001b[49m\u001b[43m,\u001b[49m\u001b[43m \u001b[49m\u001b[43mname\u001b[49m\u001b[43m)\u001b[49m\n",
      "File \u001b[0;32m~/miniconda3/envs/tf-2.12.0/lib/python3.8/site-packages/tensorflow/python/ops/nn_ops.py:3778\u001b[0m, in \u001b[0;36m_wrap_2d_function\u001b[0;34m(inputs, compute_op, dim, name)\u001b[0m\n\u001b[1;32m   3773\u001b[0m         output\u001b[38;5;241m.\u001b[39mset_shape(output_shape)\n\u001b[1;32m   3775\u001b[0m   \u001b[38;5;28;01mreturn\u001b[39;00m output\n\u001b[0;32m-> 3778\u001b[0m \u001b[38;5;28;01mdef\u001b[39;00m \u001b[38;5;21m_wrap_2d_function\u001b[39m(inputs, compute_op, dim\u001b[38;5;241m=\u001b[39m\u001b[38;5;241m-\u001b[39m\u001b[38;5;241m1\u001b[39m, name\u001b[38;5;241m=\u001b[39m\u001b[38;5;28;01mNone\u001b[39;00m):\n\u001b[1;32m   3779\u001b[0m \u001b[38;5;250m  \u001b[39m\u001b[38;5;124;03m\"\"\"Helper function for ops that accept and return 2d inputs of same shape.\u001b[39;00m\n\u001b[1;32m   3780\u001b[0m \n\u001b[1;32m   3781\u001b[0m \u001b[38;5;124;03m  It reshapes and transposes the inputs into a 2-D Tensor and then invokes\u001b[39;00m\n\u001b[0;32m   (...)\u001b[0m\n\u001b[1;32m   3800\u001b[0m \u001b[38;5;124;03m      dimension of `inputs`.\u001b[39;00m\n\u001b[1;32m   3801\u001b[0m \u001b[38;5;124;03m  \"\"\"\u001b[39;00m\n\u001b[1;32m   3803\u001b[0m   \u001b[38;5;28;01mdef\u001b[39;00m \u001b[38;5;21m_swap_axis\u001b[39m(input_tensor, dim_index, last_index, name\u001b[38;5;241m=\u001b[39m\u001b[38;5;28;01mNone\u001b[39;00m):\n",
      "\u001b[0;31mKeyboardInterrupt\u001b[0m: "
     ]
    }
   ],
   "source": [
    "\n",
    "with open('perplexity_g=0.5_d=1.0.txt', 'w') as f:  #file내용 clear\n",
    "    f.write('')\n",
    "\n",
    "for line in lines:\n",
    "    line = line.strip()\n",
    "    print(f\"prompt : {line}\")\n",
    "\n",
    "    input_text = line\n",
    "    input_ids = tokenizer.encode(input_text, return_tensors='tf')\n",
    "    #term = 3\n",
    "\n",
    "    last_index = input_ids.shape[-1]\n",
    "    nlls = []\n",
    "            \n",
    "    with mirrored_strategy.scope():\n",
    "        for _ in tqdm(range(100)):  # 최대 100번 반복\n",
    "            if input_ids.shape[-1] >= 100:\n",
    "                break  # input_ids의 길이가 100 이상이면 반복 중단\n",
    "            \n",
    "            #print(\"================================\")\n",
    "            #print(f\"문장의 토큰 개수 : {input_ids.shape[-1]}\")\n",
    "            #set 나눠서 green set 로짓을 촉진하기\n",
    "            gamma = 0.7\n",
    "            delta = 10.0\n",
    "            Logits = model(input_ids).logits\n",
    "            #print(f\"original Logits : {Logits}\")\n",
    "            \n",
    "            #seed 생성\n",
    "            seed = input_ids[-1] % Logits.shape[-1]\n",
    "            print(f\"seed : {seed[-1]}\")\n",
    "            np.random.seed(seed[-1])\n",
    "\n",
    "            #random green list 설정\n",
    "            indices = np.arange(Logits.shape[-1]) #0~51999\n",
    "            green_list_size = int(Logits.shape[-1] * gamma)  #25600\n",
    "            green_list = np.random.choice(indices, green_list_size, replace=False)\n",
    "            print(f\"green list : {green_list} {green_list.shape}\") #25600개의 green list\n",
    "\n",
    "            #--여기부터 probability 구하기\n",
    "            # green logit과 red logit의 값을 담을 리스트 생성\n",
    "            green_logits = tf.zeros(green_list_size)\n",
    "            red_logits = tf.zeros(Logits.shape[-1] - green_list_size)\n",
    "\n",
    "            #그린 리스트에 속한 idx 값의 Logit에는 델타 추가!!!!!!\n",
    "            Logits_num = np.zeros((0,last_index-1,Logits.shape[-1]))\n",
    "            Logits_num = Logits.numpy()\n",
    "            for i in green_list :\n",
    "                Logits_num[0,last_index-1,i] = Logits_num[0,last_index-1,i]+delta\n",
    "            Logits = tf.convert_to_tensor(Logits_num, dtype=tf.float32)\n",
    "            #print(f\"updated Logits : {Logits}\")\n",
    "            \n",
    "            # softmax 계산을 위한 분모\n",
    "            denominator = tf.reduce_sum(tf.exp(Logits), axis=-1)  \n",
    "            #print(f\"denominator : {denominator}\") #25600개의 green list\n",
    "\n",
    "            # Logits 텐서에 softmax 적용하여 확률 계산 (병렬 계산), softmax_tensor = probability\n",
    "            softmax_tensor = Logits.numpy()\n",
    "            softmax_tensor[0, last_index-1, :] = np.exp(softmax_tensor[0, last_index-1, :])\n",
    "            softmax_tensor[0, last_index-1, :] /= denominator[0,last_index-1]\n",
    "            #print(softmax_tensor.shape)\n",
    "            #print(f\"Probabilities : {softmax_tensor}\")\n",
    "            #print(softmax_tensor[0, last_index-1, add_token_id])\n",
    "\n",
    "            # 데이터 타입 확인 및 조정\n",
    "            add_token_id = tf.argmax(softmax_tensor[0][last_index-1])\n",
    "            #print(f\"updated Logits Max value : {add_token_id}\")\n",
    "            \n",
    "            # Calculate perplexity\n",
    "            # 참고 https://huggingface.co/docs/transformers/main/ko/perplexity\n",
    "            selected_probability = softmax_tensor[0, last_index-1, add_token_id]\n",
    "            nlls.append(np.log(selected_probability))\n",
    "\n",
    "            # 텐서 연결\n",
    "            add_token_id = tf.reshape(add_token_id, [1,1])\n",
    "            add_token_id = tf.cast(add_token_id, input_ids.dtype)\n",
    "            input_ids = tf.concat([input_ids, add_token_id], axis=-1)\n",
    "            next_token = tokenizer.decode(input_ids.numpy()[0,:])\n",
    "            print(f\"next token : {next_token}\")\n",
    "            \n",
    "            last_index = input_ids.shape[-1]\n",
    "            #term = 3\n",
    "        final_token = tokenizer.decode(input_ids.numpy()[0,:])\n",
    "        print(final_token)\n",
    "        print(f\"is this sentence written by machine? {detection(final_token, Logits.shape[-1], gamma)}\")\n",
    "\n",
    "        # Calculate perplexity\n",
    "        perplexity = tf.exp(-tf.reduce_mean(nlls))\n",
    "        print(\"Perplexity: \", perplexity.numpy())\n",
    "        \n",
    "        perplexity_str = str(perplexity.numpy())  # perplexity를 문자열로 변환\n",
    "        with open('perplexity_g=0.5_d=1.0.txt', 'a') as f:  # with 문을 사용하여 파일을 열면 자동으로 닫힙니다.\n",
    "            f.write(perplexity_str + '\\n')"
   ]
  },
  {
   "cell_type": "code",
   "execution_count": 35,
   "metadata": {},
   "outputs": [
    {
     "name": "stdout",
     "output_type": "stream",
     "text": [
      "green list : [18100 37771 17147 ... 26412 26911 43793] (25600,)\n"
     ]
    }
   ],
   "source": [
    "np.random.seed(9154)\n",
    "green_list_size = int(Logits.shape[-1] * gamma)  #25600\n",
    "green_list = np.random.choice(indices, green_list_size, replace=False)\n",
    "print(f\"green list : {green_list} {green_list.shape}\") #25600개의 green list"
   ]
  },
  {
   "cell_type": "code",
   "execution_count": null,
   "metadata": {},
   "outputs": [],
   "source": []
  }
 ],
 "metadata": {
  "kernelspec": {
   "display_name": "tf-2.12.0",
   "language": "python",
   "name": "python3"
  },
  "language_info": {
   "codemirror_mode": {
    "name": "ipython",
    "version": 3
   },
   "file_extension": ".py",
   "mimetype": "text/x-python",
   "name": "python",
   "nbconvert_exporter": "python",
   "pygments_lexer": "ipython3",
   "version": "3.8.18"
  }
 },
 "nbformat": 4,
 "nbformat_minor": 2
}
