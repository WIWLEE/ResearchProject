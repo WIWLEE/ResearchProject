{
 "cells": [
  {
   "cell_type": "code",
   "execution_count": 3,
   "metadata": {},
   "outputs": [
    {
     "name": "stderr",
     "output_type": "stream",
     "text": [
      "2024-05-13 22:31:15.709323: I tensorflow/core/util/port.cc:110] oneDNN custom operations are on. You may see slightly different numerical results due to floating-point round-off errors from different computation orders. To turn them off, set the environment variable `TF_ENABLE_ONEDNN_OPTS=0`.\n",
      "2024-05-13 22:31:16.079121: I tensorflow/core/platform/cpu_feature_guard.cc:182] This TensorFlow binary is optimized to use available CPU instructions in performance-critical operations.\n",
      "To enable the following instructions: AVX2 AVX512F AVX512_VNNI FMA, in other operations, rebuild TensorFlow with the appropriate compiler flags.\n",
      "2024-05-13 22:31:17.496449: W tensorflow/compiler/tf2tensorrt/utils/py_utils.cc:38] TF-TRT Warning: Could not find TensorRT\n",
      "/home/undergrad/miniconda3/envs/tf-2.12.0/lib/python3.8/site-packages/tqdm/auto.py:21: TqdmWarning: IProgress not found. Please update jupyter and ipywidgets. See https://ipywidgets.readthedocs.io/en/stable/user_install.html\n",
      "  from .autonotebook import tqdm as notebook_tqdm\n",
      "2024-05-13 22:31:27.675298: I tensorflow/core/common_runtime/gpu/gpu_device.cc:1635] Created device /job:localhost/replica:0/task:0/device:GPU:0 with 22261 MB memory:  -> device: 0, name: NVIDIA GeForce RTX 3090, pci bus id: 0000:18:00.0, compute capability: 8.6\n",
      "2024-05-13 22:31:27.679583: I tensorflow/core/common_runtime/gpu/gpu_device.cc:1635] Created device /job:localhost/replica:0/task:0/device:GPU:1 with 22261 MB memory:  -> device: 1, name: NVIDIA GeForce RTX 3090, pci bus id: 0000:3d:00.0, compute capability: 8.6\n",
      "2024-05-13 22:31:27.680619: I tensorflow/core/common_runtime/gpu/gpu_device.cc:1635] Created device /job:localhost/replica:0/task:0/device:GPU:2 with 22261 MB memory:  -> device: 2, name: NVIDIA GeForce RTX 3090, pci bus id: 0000:3f:00.0, compute capability: 8.6\n",
      "2024-05-13 22:31:27.681602: I tensorflow/core/common_runtime/gpu/gpu_device.cc:1635] Created device /job:localhost/replica:0/task:0/device:GPU:3 with 22261 MB memory:  -> device: 3, name: NVIDIA GeForce RTX 3090, pci bus id: 0000:40:00.0, compute capability: 8.6\n",
      "2024-05-13 22:31:27.682549: I tensorflow/core/common_runtime/gpu/gpu_device.cc:1635] Created device /job:localhost/replica:0/task:0/device:GPU:4 with 22261 MB memory:  -> device: 4, name: NVIDIA GeForce RTX 3090, pci bus id: 0000:41:00.0, compute capability: 8.6\n",
      "2024-05-13 22:31:27.683516: I tensorflow/core/common_runtime/gpu/gpu_device.cc:1635] Created device /job:localhost/replica:0/task:0/device:GPU:5 with 22261 MB memory:  -> device: 5, name: NVIDIA GeForce RTX 3090, pci bus id: 0000:62:00.0, compute capability: 8.6\n",
      "2024-05-13 22:31:27.684500: I tensorflow/core/common_runtime/gpu/gpu_device.cc:1635] Created device /job:localhost/replica:0/task:0/device:GPU:6 with 22261 MB memory:  -> device: 6, name: NVIDIA GeForce RTX 3090, pci bus id: 0000:63:00.0, compute capability: 8.6\n",
      "2024-05-13 22:31:27.685478: I tensorflow/core/common_runtime/gpu/gpu_device.cc:1635] Created device /job:localhost/replica:0/task:0/device:GPU:7 with 22261 MB memory:  -> device: 7, name: NVIDIA GeForce RTX 3090, pci bus id: 0000:64:00.0, compute capability: 8.6\n"
     ]
    },
    {
     "name": "stdout",
     "output_type": "stream",
     "text": [
      "INFO:tensorflow:Using MirroredStrategy with devices ('/job:localhost/replica:0/task:0/device:GPU:0', '/job:localhost/replica:0/task:0/device:GPU:1', '/job:localhost/replica:0/task:0/device:GPU:2', '/job:localhost/replica:0/task:0/device:GPU:3', '/job:localhost/replica:0/task:0/device:GPU:4', '/job:localhost/replica:0/task:0/device:GPU:5', '/job:localhost/replica:0/task:0/device:GPU:6', '/job:localhost/replica:0/task:0/device:GPU:7')\n"
     ]
    },
    {
     "name": "stderr",
     "output_type": "stream",
     "text": [
      "2024-05-13 22:31:33.728686: I tensorflow/compiler/xla/stream_executor/cuda/cuda_blas.cc:637] TensorFloat-32 will be used for the matrix multiplication. This will only be logged once.\n",
      "Some weights of the PyTorch model were not used when initializing the TF 2.0 model TFGPT2LMHeadModel: ['transformer.h.8.attn.masked_bias', 'transformer.h.6.attn.masked_bias', 'transformer.h.3.attn.masked_bias', 'transformer.h.11.attn.masked_bias', 'transformer.h.4.attn.masked_bias', 'transformer.h.2.attn.masked_bias', 'transformer.h.5.attn.masked_bias', 'transformer.h.9.attn.masked_bias', 'transformer.h.10.attn.masked_bias', 'transformer.h.7.attn.masked_bias', 'lm_head.weight', 'transformer.h.0.attn.masked_bias', 'transformer.h.1.attn.masked_bias']\n",
      "- This IS expected if you are initializing TFGPT2LMHeadModel from a PyTorch model trained on another task or with another architecture (e.g. initializing a TFBertForSequenceClassification model from a BertForPreTraining model).\n",
      "- This IS NOT expected if you are initializing TFGPT2LMHeadModel from a PyTorch model that you expect to be exactly identical (e.g. initializing a TFBertForSequenceClassification model from a BertForSequenceClassification model).\n",
      "All the weights of TFGPT2LMHeadModel were initialized from the PyTorch model.\n",
      "If your task is similar to the task the model of the checkpoint was trained on, you can already use TFGPT2LMHeadModel for predictions without further training.\n"
     ]
    }
   ],
   "source": [
    "import tensorflow as tf\n",
    "from transformers import AutoTokenizer\n",
    "from transformers import TFGPT2LMHeadModel #tensorflow GPT2 LM\n",
    "import numpy as np\n",
    "import torch\n",
    "from tqdm import tqdm  # 진행률 표시를 위한 tqdm 라이브러리\n",
    "from scipy.stats import norm #p-value 를 위함\n",
    "\n",
    "\n",
    "mirrored_strategy = tf.distribute.MirroredStrategy()\n",
    "model = TFGPT2LMHeadModel.from_pretrained('skt/kogpt2-base-v2', from_pt=True)\n",
    "tokenizer = AutoTokenizer.from_pretrained('skt/kogpt2-base-v2')"
   ]
  },
  {
   "cell_type": "code",
   "execution_count": 86,
   "metadata": {},
   "outputs": [],
   "source": [
    "def detection(final_sequence, logit_shape, gamma, delta, token_num, initial_ids) :\n",
    "    \n",
    "    input_ids = tokenizer.encode(final_sequence, return_tensors='tf')\n",
    "    input_ids_list = input_ids.numpy().tolist()[0]\n",
    "    prev_tk = input_ids[0]\n",
    "    green_counts = 0\n",
    "    \n",
    "    seed = initial_ids[-1]\n",
    "    np.random.seed(seed)\n",
    "    indices = np.arange(logit_shape) #0~51999\n",
    "    green_list_size = int(logit_shape * gamma)  #25600\n",
    "    green_list = np.random.choice(indices, green_list_size, replace=False)\n",
    "    print(len(initial_ids[-1]))\n",
    "    input_ids_list = input_ids_list[len(initial_ids[-1]):]\n",
    "    print(len(input_ids_list))\n",
    "    \n",
    "    num = 0\n",
    "    for id in input_ids_list :\n",
    "        \n",
    "        if id in green_list :\n",
    "            green_counts = green_counts + 1\n",
    "        \n",
    "        seed = id % logit_shape\n",
    "        #print(f\"seed in detection : {seed}\")\n",
    "        np.random.seed(seed)\n",
    "        \n",
    "        indices = np.arange(logit_shape) #0~51999\n",
    "        green_list_size = int(logit_shape * gamma)  #25600\n",
    "        green_list = np.random.choice(indices, green_list_size, replace=False)\n",
    "       #print(f\"detection greenList : {green_list}\")\n",
    "       \n",
    "        num += 1\n",
    "        \n",
    "\n",
    "    print(f\"green list 단어 개수 : {green_counts}\")\n",
    "    print(f\"red list 단어 개수 : {len(input_ids_list)-green_counts}\")\n",
    "    green_proportion = green_counts/len(input_ids_list) #u2\n",
    "    red_proportion = 1-green_proportion \n",
    "    print(f\"green list 단어 비율 : {green_proportion}\")\n",
    "    print(f\"red list 단어 비율 : {red_proportion}\")\n",
    "    #expected_proportion = 0.5 #green list 를 모를 것이다 -> H0 #u1\n",
    "    #std_error = np.sqrt(expected_proportion * (1 - expected_proportion) / len(input_ids))\n",
    "    #z_score = 2*(green_counts - len(input_ids_list)/2)/np.sqrt(len(input_ids_list)) #기댓값에서 많이 벗어나면 기각\n",
    "    z_score = (green_counts - len(input_ids_list)*gamma)/(np.sqrt(len(input_ids_list)*gamma*(1-gamma)))\n",
    "    #p_value = norm.sf(np.abs(z_score)) #기댓값에 못미치면 green list를 안다!\n",
    "    \n",
    "    with open(f'Z_score_g={gamma}_d={delta}.txt', 'a') as f:  # with 문을 사용하여 파일을 열면 자동으로 닫힙니다.\n",
    "        f.write(str(z_score) + '\\n')\n",
    "            \n",
    "    print(f\"Z-score: {z_score}\")\n",
    "    if z_score > 4 :\n",
    "        return True\n",
    "    else :\n",
    "        return False\n"
   ]
  },
  {
   "cell_type": "code",
   "execution_count": 87,
   "metadata": {},
   "outputs": [
    {
     "name": "stdout",
     "output_type": "stream",
     "text": [
      "['아침 일과 시작하기\\n', '책 읽기의 즐거움\\n', '가족과 함께 하는 저녁 식사\\n', '친구와의 영화 관람\\n', '주말 동안의 여행 계획\\n', '정원 가꾸기의 효과\\n', '요리를 통한 스트레스 해소\\n', '자전거 타기의 장점\\n', '집안 정리 정돈 팁\\n', '개인 운동 루틴 유지하기\\n', '취미 활동의 중요성\\n', '새로운 언어 배우기\\n', '음악 연주와 그 영향\\n', '사진 촬영을 통한 추억 만들기\\n', '지역 사회 봉사의 보람\\n', '패션과 개인 스타일 표현\\n', '휴일을 활용한 가족 모임\\n', '건강한 식생활을 위한 조리법\\n', '애완동물과 보내는 시간\\n', '독서 클럽에서의 토론\\n', '도서관 방문의 장점\\n', '집에서의 필름 감상\\n', '커피 한 잔과의 여유\\n', '일기 쓰기의 치유 효과\\n', '홈 베이킹의 즐거움\\n', '직접 만든 공예품\\n', '새로운 요리법 시도하기\\n', '지역 공연 관람\\n', '자연 속에서의 하이킹\\n', '가구 리폼 프로젝트\\n', '아이와 함께하는 공원 나들이\\n', '새로운 스포츠 도전\\n', '개인 기록의 개선\\n', '집에서의 요가 세션\\n', '반려동물과의 산책\\n', '가족 앨범 만들기\\n', '매일의 명상 시간\\n', '가벼운 아침 조깅\\n', '주말 브런치 준비\\n', '일상의 소소한 행복 찾기\\n', '스마트폰 없는 하루\\n', '책상 정리의 중요성\\n', '옷장 정리하기\\n', '새벽 시간의 고요함\\n', '오후의 티타임\\n', '자기 전 명상\\n', '집안 식물 가꾸기\\n', '근처 박물관 탐방\\n', '집에서의 칵테일 파티\\n', '커뮤니티 클래스 참여\\n', '셀프 케어 루틴\\n', '장거리 걷기의 이점\\n', '텃밭 가꾸기\\n', '개인적인 스타일 개발\\n', '책 추천 공유\\n', '로컬 마켓 쇼핑\\n', '장기 게임의 즐거움\\n', '가족과의 보드게임 밤\\n', '디지털 디톡스\\n', '가까운 도시 탐험\\n', '수제 비누 만들기\\n', '로컬 아티스트 지원\\n', '실내 데코레이션 변경\\n', '뜨개질의 즐거움\\n', '핸드폰 배경화면 만들기\\n', '지속 가능한 생활 실천\\n', '주방 도구 정비\\n', '전통 축제 참여\\n', '친구와의 화상 통화\\n', '가족 사진 정리\\n', '주변 환경 정화 활동\\n', '하루의 목표 세우기\\n', '온라인 학습 코스\\n', '집에서의 필라테스\\n', '베란다 텃밭 가꾸기\\n', '평화로운 아침 산책\\n', '친구와의 장거리 여행 계획\\n', '커피숍에서의 독서\\n', '로컬 음식 시도\\n', '스마트폰 사진술\\n', '주변 사람들과의 교류\\n', '홈 오피스 최적화\\n', '스트리트 아트 감상\\n', '새로운 헤어스타일 시도\\n', '집에서의 영화 마라톤\\n', '시골 마을 여행\\n', '가족 요리 대결\\n', '집안 고장 난 물건 수리\\n', '친구와 함께하는 쇼핑\\n', '재활용 프로젝트 참여\\n', '커뮤니티 정원 가꾸기\\n', '개인 재정 관리\\n', '차량 관리와 유지\\n', '올드테크 아이템 수집\\n', '반려동물의 건강 관리\\n', '일상 속 작은 모험 찾기\\n', '스트레스 관리 방법\\n', '지역사회와의 소통 강화\\n', '가족과의 소중한 대화\\n', '개인 발전을 위한 목표 설정']\n",
      "----------\n"
     ]
    }
   ],
   "source": [
    "filename = 'prompt.txt'\n",
    "f = open(filename, 'r')\n",
    "lines = f.readlines()\n",
    "print(lines)\n",
    "print('-' * 10)"
   ]
  },
  {
   "cell_type": "code",
   "execution_count": 26,
   "metadata": {},
   "outputs": [],
   "source": [
    "# Function to apply dynamic repetition penalty to logits\n",
    "def apply_repetition_penalty(logits, token_counts, penalty_coefficient):\n",
    "    penalty_factors = np.ones(logits.shape[-1])\n",
    "\n",
    "    for token_id, count in enumerate(token_counts):\n",
    "        if count > 0:\n",
    "            penalty_factors[token_id] = penalty_coefficient ** count\n",
    "\n",
    "    # Apply the calculated penalties to logits\n",
    "    return logits / penalty_factors"
   ]
  },
  {
   "cell_type": "code",
   "execution_count": 88,
   "metadata": {},
   "outputs": [],
   "source": [
    "\n",
    "def detection_func(param_d, param_g, token_num, penalty_coefficient):\n",
    "\n",
    "  with open(f'Z_score_g={param_g}_d={param_d}.txt', 'w') as f:  #file내용 clear\n",
    "      f.write('')\n",
    "\n",
    "  with open(f'output_g={param_g}_d={param_d}.txt', 'w') as f:  #file내용 clear\n",
    "      f.write('')\n",
    "      \n",
    "  for line in lines:\n",
    "      line = line.strip()\n",
    "      print(f\"prompt : {line}\")\n",
    "\n",
    "      input_text = line\n",
    "      input_ids = tokenizer.encode(input_text, return_tensors='tf')\n",
    "      initial_ids = input_ids\n",
    "\n",
    "      with open(f'output_g={param_g}_d={param_d}.txt', 'a') as f:  # with 문을 사용하여 파일을 열면 자동으로 닫힙니다.\n",
    "        f.write(f'{str(len(input_ids[-1]))}' + '\\n') #한 문장 토큰 앞서서, input 토큰 개수 \n",
    "        f.write(f'{str(token_num)}' + '\\n') #한 문장 토큰 앞서서, 생성 토큰 개수 \n",
    "        for i in range(len(input_ids[-1])) :\n",
    "          f.write(str(input_ids.numpy()[0][i]) + '\\n')\n",
    "\n",
    "      last_index = input_ids.shape[-1]\n",
    "      nlls = []\n",
    "      token_counts = np.zeros(tokenizer.vocab_size)\n",
    "              \n",
    "      with mirrored_strategy.scope():\n",
    "          for _ in tqdm(range(token_num)):  # 최대 100번 반복\n",
    "              #if input_ids.shape[-1] >= token_num:\n",
    "              #    break  # input_ids의 길이가 100 이상이면 반복 중단\n",
    "              \n",
    "              #print(\"================================\")\n",
    "              #print(f\"문장의 토큰 개수 : {input_ids.shape[-1]}\")\n",
    "              #set 나눠서 green set 로짓을 촉진하기\n",
    "              gamma = param_g\n",
    "              delta = param_d\n",
    "              Logits = model(input_ids).logits\n",
    "              #print(f\"original Logits : {Logits}\")\n",
    "              \n",
    "              #seed 생성\n",
    "              seed = input_ids[-1] % Logits.shape[-1]\n",
    "              #print(f\"seed : {seed[-1]}\")\n",
    "              np.random.seed(seed[-1])\n",
    "\n",
    "              #random green list 설정\n",
    "              indices = np.arange(Logits.shape[-1]) #0~51999\n",
    "              green_list_size = int(Logits.shape[-1] * gamma)  #25600\n",
    "              green_list = np.random.choice(indices, green_list_size, replace=False)\n",
    "              #print(f\"green list : {green_list} {green_list[200]} {green_list[1000]}\") #25600개의 green list\n",
    "\n",
    "              #--여기부터 probability 구하기\n",
    "              # green logit과 red logit의 값을 담을 리스트 생성\n",
    "              green_logits = tf.zeros(green_list_size)\n",
    "              red_logits = tf.zeros(Logits.shape[-1] - green_list_size)\n",
    "\n",
    "              #그린 리스트에 속한 idx 값의 Logit에는 델타 추가!!!!!!\n",
    "              Logits_num = np.zeros((0,last_index-1,Logits.shape[-1]))\n",
    "              Logits_num = Logits.numpy()\n",
    "              Logits_num[0, -1, :] = apply_repetition_penalty(Logits_num[0, -1, :], token_counts, penalty_coefficient)\n",
    "              \n",
    "              for i in green_list :\n",
    "                  Logits_num[0,last_index-1,i] = Logits_num[0,last_index-1,i]+delta\n",
    "              Logits = tf.convert_to_tensor(Logits_num, dtype=tf.float32)\n",
    "              #print(f\"updated Logits : {Logits}\")\n",
    "              \n",
    "              probs = tf.nn.softmax(Logits[0,last_index-1,:])\n",
    "\n",
    "              add_token_id = tf.argmax(probs)\n",
    "              #print(f\"max : {max(probs)}\")\n",
    "              \n",
    "              token_counts[add_token_id] += 1\n",
    "              \n",
    "              selected_probability = probs[add_token_id]\n",
    "              nlls.append(np.log(selected_probability))\n",
    "              \n",
    "              #print(softmax_tensor[0, last_index-1, add_token_id])\n",
    "\n",
    "              # 텐서 연결\n",
    "              add_token_id = tf.reshape(add_token_id, [1,1])\n",
    "              add_token_id = tf.cast(add_token_id, input_ids.dtype)\n",
    "              input_ids = tf.concat([input_ids, add_token_id], axis=-1)\n",
    "              next_token = tokenizer.decode(input_ids.numpy()[0,:])\n",
    "              with open(f'output_g={param_g}_d={param_d}.txt', 'a') as f:\n",
    "                f.write(str(add_token_id[0][0].numpy()) + '\\n')\n",
    "              #print(f\"next token : {next_token}\")\n",
    "              \n",
    "              last_index = input_ids.shape[-1]\n",
    "              #term = 3\n",
    "          final_token = tokenizer.decode(input_ids.numpy()[0,:])\n",
    "          print(f\"final sequence : {final_token}\")\n",
    "          print(f\"detection function : {detection(final_token, Logits.shape[-1], gamma, delta, token_num, initial_ids)}\")"
   ]
  },
  {
   "cell_type": "code",
   "execution_count": 210,
   "metadata": {},
   "outputs": [
    {
     "name": "stdout",
     "output_type": "stream",
     "text": [
      "prompt : 아침 일과 시작하기\n"
     ]
    },
    {
     "name": "stderr",
     "output_type": "stream",
     "text": [
      "100%|██████████| 100/100 [00:14<00:00,  6.96it/s]\n"
     ]
    },
    {
     "name": "stdout",
     "output_type": "stream",
     "text": [
      "final sequence : 아침 일과 시작하기 전에 미리 준비해두면 좋다.\n",
      "아침식사는 아침과 저녁으로 나눠서 한다.\n",
      "저녁은 밥 한 공기를 먹고, 점심은 반찬이랑 같이 먹는다.\n",
      "점심시간에는 식사 후 간단한 간식을 챙겨먹는다.\n",
      "오후 2시 30분부터 4시까지는 잠자리에 들기 전 식사를 하고 오후 5시부터 6시까지 자야한다.\n",
      "잠을 잘 때 가장 중요한 것은 규칙적인 식습관이다.\n",
      "규칙적인 생활로 인해 체중이 늘거나 과체중일 경우엔 반드시 전문의와 상의\n",
      "4\n",
      "100\n",
      "green list 단어 개수 : 11\n",
      "red list 단어 개수 : 89\n",
      "green list 단어 비율 : 0.11\n",
      "red list 단어 비율 : 0.89\n",
      "Z-score: 0.3333333333333333\n",
      "detection function : False\n",
      "prompt : 책 읽기의 즐거움\n"
     ]
    },
    {
     "name": "stderr",
     "output_type": "stream",
     "text": [
      "100%|██████████| 100/100 [00:14<00:00,  6.96it/s]\n"
     ]
    },
    {
     "name": "stdout",
     "output_type": "stream",
     "text": [
      "final sequence : 책 읽기의 즐거움도 함께 느낄 수 있다.\n",
      "이번 행사는 오는 27일까지 진행되며, 참가비는 무료다.\n",
      "참가 신청은 이메일(kimsang<unk>gmail.com)로 하면 된다.\n",
      "한편 이번 행사에서는 '2017 대한민국 독서대전' 수상작 전시회도 열린다.\n",
      "올해로 6회째를 맞는 대한민국 독서대전은 문화체육관광부가 주최하고 한국출판문화산업진흥원이 주관하는 행사로 올해는 총 10개 부문으로 나눠 진행된다.\n",
      "특히, 올해의 경우 지난해보다 한 단계 업그레이드된\n",
      "5\n",
      "100\n",
      "green list 단어 개수 : 23\n",
      "red list 단어 개수 : 77\n",
      "green list 단어 비율 : 0.23\n",
      "red list 단어 비율 : 0.77\n",
      "Z-score: 4.333333333333333\n",
      "detection function : True\n",
      "prompt : 가족과 함께 하는 저녁 식사\n"
     ]
    },
    {
     "name": "stderr",
     "output_type": "stream",
     "text": [
      "100%|██████████| 100/100 [00:14<00:00,  6.98it/s]\n"
     ]
    },
    {
     "name": "stdout",
     "output_type": "stream",
     "text": [
      "final sequence : 가족과 함께 하는 저녁 식사 시간도 마련된다.\n",
      "이번 행사는 '2017 서울국제요리경연대회'의 일환으로 진행되며, 참가비는 무료다.\n",
      "참가 신청은 오는 21일까지 이메일(kimsang<unk>gmail.com)로 하면 된다.\n",
      "한편 이번 요리 경연대회는 지난해부터 한국조리사회중앙회 주관으로 개최돼 왔으며, 올해는 코로나19로 인해 온라인 생중계로 진행된다.\n",
      "또한, 행사 당일 현장 접수도 가능하다.</d> 현대자동차가 미국 자동차 전문지 오토모티브뉴스가\n",
      "5\n",
      "100\n",
      "green list 단어 개수 : 24\n",
      "red list 단어 개수 : 76\n",
      "green list 단어 비율 : 0.24\n",
      "red list 단어 비율 : 0.76\n",
      "Z-score: 4.666666666666667\n",
      "detection function : True\n",
      "prompt : 친구와의 영화 관람\n"
     ]
    },
    {
     "name": "stderr",
     "output_type": "stream",
     "text": [
      "100%|██████████| 100/100 [00:14<00:00,  6.97it/s]\n"
     ]
    },
    {
     "name": "stdout",
     "output_type": "stream",
     "text": [
      "final sequence : 친구와의 영화 관람을 위해 지난달 31일부터 이달 1일까지 서울 종로구 세종로 일민미술관 앞에서 열린 ‘2010 대한민국 미술대전’ 시상식에서 대상을 받았다.\n",
      "이번 공모전은 한국미술협회와 동아일보가 주최하고 문화체육관광부가 후원했다.\n",
      "수상작은 총 3점으로, 대상에는 상금 100만원이 수여됐다.\n",
      "대상 수상작인 김지은 작가의 작품은 현대미술의 새로운 가능성을 제시했다는 평가를 받고 있다.\n",
      "김 작가는 “현대미술에 대한 관심이 높아지면서 다양한 장르의 작품을 접하기 어려워졌다”며 “이런 상황에서 이번 수\n",
      "4\n",
      "100\n",
      "green list 단어 개수 : 14\n",
      "red list 단어 개수 : 86\n",
      "green list 단어 비율 : 0.14\n",
      "red list 단어 비율 : 0.86\n",
      "Z-score: 1.3333333333333333\n",
      "detection function : False\n",
      "prompt : 주말 동안의 여행 계획\n"
     ]
    },
    {
     "name": "stderr",
     "output_type": "stream",
     "text": [
      "100%|██████████| 100/100 [00:14<00:00,  6.98it/s]\n"
     ]
    },
    {
     "name": "stdout",
     "output_type": "stream",
     "text": [
      "final sequence : 주말 동안의 여행 계획도 세우지 못한 채, 여행의 마지막을 보내고 있다.\n",
      "이런 상황에서 한 가지 더. 바로 '여행'이다.\n",
      "그것은 여행을 통해 얻는 즐거움인 것이다.\n",
      "여행을 떠나기 전 가장 먼저 해야 할 일은 그 어떤 것도 포기할 수 없다는 점이다.\n",
      "그리고 그 모든 것을 포기하고 싶다는 생각이 들 때 비로소 진정한 휴식이 찾아온다.\n",
      "휴식은 단순히 휴식을 위한 것이 아니라 삶의 질을 향상시키는 데 도움을 준다.\n",
      "또한 여행을 떠나는 동안 우리는 다른 사람들과 함께 시간을 보내면서 새로운 경험을 하게 된다.\n",
      "그러므로 여행은\n",
      "5\n",
      "99\n",
      "green list 단어 개수 : 19\n",
      "red list 단어 개수 : 80\n",
      "green list 단어 비율 : 0.1919191919191919\n",
      "red list 단어 비율 : 0.8080808080808081\n",
      "Z-score: 3.0486147062862763\n",
      "detection function : False\n",
      "prompt : 정원 가꾸기의 효과\n"
     ]
    },
    {
     "name": "stderr",
     "output_type": "stream",
     "text": [
      "100%|██████████| 100/100 [00:14<00:00,  6.98it/s]\n"
     ]
    },
    {
     "name": "stdout",
     "output_type": "stream",
     "text": [
      "final sequence : 정원 가꾸기의 효과도 있다.\n",
      "이런 이유로 최근 들어 ‘자연친화적’ 아파트 단지가 인기를 끌고 있다.\n",
      "특히, 자연 친화적인 아파트는 단지 내 조경시설이나 커뮤니티 시설 등을 잘 갖춰 입주민들이 쾌적한 주거생활을 누릴 수 있다는 장점이 있어 수요자들의 관심이 높다.\n",
      "실제로 지난해 12월 경기도 화성시 동탄2신도시 A-15블록에 공급된 ‘동탄역 아이파크’는 총 559가구 모집에 1만5천여명이 몰리며 평균 경쟁률 4.4대 1을 기록했다.\n",
      "\n",
      "4\n",
      "100\n",
      "green list 단어 개수 : 18\n",
      "red list 단어 개수 : 82\n",
      "green list 단어 비율 : 0.18\n",
      "red list 단어 비율 : 0.8200000000000001\n",
      "Z-score: 2.6666666666666665\n",
      "detection function : False\n",
      "prompt : 요리를 통한 스트레스 해소\n"
     ]
    },
    {
     "name": "stderr",
     "output_type": "stream",
     "text": [
      "100%|██████████| 100/100 [00:14<00:00,  6.96it/s]\n"
     ]
    },
    {
     "name": "stdout",
     "output_type": "stream",
     "text": [
      "final sequence : 요리를 통한 스트레스 해소에도 도움이 된다.\n",
      "또한 비타민C가 풍부한 음식은 체내 에너지 생성을 촉진해 혈압을 낮춰주고 신진대사를 원활하게 해줘 피로회복에 도움을 준다.\n",
      "특히, 고단백 저칼로리 식품인 닭가슴살과 오리고기는 콜레스테롤을 낮추고 혈액순환을 도와 다이어트에 효과적이다.\n",
      "닭가슴살은 단백질 함량이 높아 칼로리가 낮고 식이섬유와 칼슘이 풍부하며, 불포화지방산이 많아 동맥경화를 예방하고 심장질환의 위험을 감소시킨다.\n",
      "오리고기의 경우 지방이 적고 단백질이\n",
      "5\n",
      "100\n",
      "green list 단어 개수 : 14\n",
      "red list 단어 개수 : 86\n",
      "green list 단어 비율 : 0.14\n",
      "red list 단어 비율 : 0.86\n",
      "Z-score: 1.3333333333333333\n",
      "detection function : False\n",
      "prompt : 자전거 타기의 장점\n"
     ]
    },
    {
     "name": "stderr",
     "output_type": "stream",
     "text": [
      "100%|██████████| 100/100 [00:14<00:00,  6.96it/s]\n"
     ]
    },
    {
     "name": "stdout",
     "output_type": "stream",
     "text": [
      "final sequence : 자전거 타기의 장점인 ‘스마트폰을 이용한 운동’ 등 다양한 체험 프로그램을 운영한다.\n",
      "또한 어린이들의 눈높이에 맞춘 놀이 프로그램도 준비했다.\n",
      "‘어린이날 기념 그림 그리기 대회’와 ‘어린이 날 노래자랑’, ‘그림책 만들기 교실’을 통해 어린이들이 직접 그림을 그려보고 즐길 수 있는 기회를 제공한다.\n",
      "이외에도 어린이날을 맞아 오는 27일부터 다음달 5일까지 서울광장에서 열리는 ‘제10회 대한민국 미술대전’에 참가해 작품 전시 및 판매, 경품 추첨 등의 이벤트를 진행\n",
      "4\n",
      "100\n",
      "green list 단어 개수 : 14\n",
      "red list 단어 개수 : 86\n",
      "green list 단어 비율 : 0.14\n",
      "red list 단어 비율 : 0.86\n",
      "Z-score: 1.3333333333333333\n",
      "detection function : False\n",
      "prompt : 집안 정리 정돈 팁\n"
     ]
    },
    {
     "name": "stderr",
     "output_type": "stream",
     "text": [
      "100%|██████████| 100/100 [00:14<00:00,  6.82it/s]\n"
     ]
    },
    {
     "name": "stdout",
     "output_type": "stream",
     "text": [
      "final sequence : 집안 정리 정돈 팁을 알려주세요.\n",
      "이때는 칫솔질부터 시작해서요.\n",
      "세정제 사용법\n",
      "1. 치약이나 세제를 사용하지 않고 물로 헹궈낸 후 물기를 제거한 다음 양치질을 합니다.\n",
      "2. 양치를 할 때는 미지근한 물을 이용해 닦아내고요.\n",
      "3. 면도기를 사용해 면도를 하고 나면 면도날로 닦은 뒤 다시 한번 씻어내 줍니다.\n",
      "4. 면도는 하지 않은 상태에서 바로 씻고 나서 5분 정도 지나면 깨끗이 지워줍니다.</d> 오늘도 어김없이 비가 내\n",
      "5\n",
      "100\n",
      "green list 단어 개수 : 20\n",
      "red list 단어 개수 : 80\n",
      "green list 단어 비율 : 0.2\n",
      "red list 단어 비율 : 0.8\n",
      "Z-score: 3.3333333333333335\n",
      "detection function : False\n",
      "prompt : 개인 운동 루틴 유지하기\n"
     ]
    },
    {
     "name": "stderr",
     "output_type": "stream",
     "text": [
      "100%|██████████| 100/100 [00:14<00:00,  6.80it/s]\n"
     ]
    },
    {
     "name": "stdout",
     "output_type": "stream",
     "text": [
      "final sequence : 개인 운동 루틴 유지하기, 운동량 조절 등 다양한 운동을 할 수 있다.\n",
      "또한 운동 후 체내 호르몬 분비에 따라 근육량이 증가해 근육의 긴장도를 높여준다.\n",
      "이러한 이유로 다이어트 중 가장 많이 하는 운동은 바로 유산소운동이다.\n",
      "유산소운동은 근력 강화와 함께 체중 감량을 통해 신체 밸런스를 맞춰주는 효과가 있어 많은 사람들이 꾸준히 실천하고 있는 운동으로 알려져 있다.</d> 현대자동차가 지난달 국내 시장에서 전년 동월 대비 9.1% 증가한 5만8천516대를 판매했다고 1일\n",
      "5\n",
      "100\n",
      "green list 단어 개수 : 23\n",
      "red list 단어 개수 : 77\n",
      "green list 단어 비율 : 0.23\n",
      "red list 단어 비율 : 0.77\n",
      "Z-score: 4.333333333333333\n",
      "detection function : True\n",
      "prompt : 취미 활동의 중요성\n"
     ]
    },
    {
     "name": "stderr",
     "output_type": "stream",
     "text": [
      "100%|██████████| 100/100 [00:14<00:00,  6.97it/s]\n"
     ]
    },
    {
     "name": "stdout",
     "output_type": "stream",
     "text": [
      "final sequence : 취미 활동의 중요성 및 그 중요성을 인식하고, 이를 통해 청소년들이 자신의 꿈을 실현할 수 있도록 돕는 것이 목적이다.\n",
      "이번 캠프는 오는 6월까지 총 4회에 걸쳐 진행되며, 참가자들은 ▲청소년들의 진로탐색 프로그램인 '꿈꾸는 학교' ▲진로체험프로그램인 '멘토링', 멘티와의 만남을 통한 자기주도적 학습법 등 다양한 프로그램을 체험할 예정이다.\n",
      "참가신청은 이메일(kimjin<unk>hanmail.net)로 하면 된다.\n",
      "한편 이번 행사는\n",
      "3\n",
      "100\n",
      "green list 단어 개수 : 14\n",
      "red list 단어 개수 : 86\n",
      "green list 단어 비율 : 0.14\n",
      "red list 단어 비율 : 0.86\n",
      "Z-score: 1.3333333333333333\n",
      "detection function : False\n",
      "prompt : 새로운 언어 배우기\n"
     ]
    },
    {
     "name": "stderr",
     "output_type": "stream",
     "text": [
      "100%|██████████| 100/100 [00:14<00:00,  6.93it/s]\n"
     ]
    },
    {
     "name": "stdout",
     "output_type": "stream",
     "text": [
      "final sequence : 새로운 언어 배우기' 등 다양한 프로그램을 운영한다.\n",
      "또한 '2017학년도 대학입시 설명회'를 통해 수험생들이 궁금해 하는 사항을 직접 상담할 예정이다.\n",
      "이번 설명회는 오는 23일 오후 2시부터 3시까지 서울 강남구 대치동 메가스터디 본사에서 열린다.\n",
      "설명회에서는 입시설명회를 비롯해 정시 지원전략, 수시지원 전략 및 합격예측 방법 등에 대한 정보를 제공할 계획이다.\n",
      "수능 이후 대입을 준비하는 예비 고3 학생들을 위한 진학상담도 진행된다.\n",
      "참가비는 무료이며 자세한 사항은\n",
      "3\n",
      "100\n",
      "green list 단어 개수 : 20\n",
      "red list 단어 개수 : 80\n",
      "green list 단어 비율 : 0.2\n",
      "red list 단어 비율 : 0.8\n",
      "Z-score: 3.3333333333333335\n",
      "detection function : False\n",
      "prompt : 음악 연주와 그 영향\n"
     ]
    },
    {
     "name": "stderr",
     "output_type": "stream",
     "text": [
      "100%|██████████| 100/100 [00:14<00:00,  6.90it/s]\n"
     ]
    },
    {
     "name": "stdout",
     "output_type": "stream",
     "text": [
      "final sequence : 음악 연주와 그 영향력으로 인해 많은 사람들이 음악 활동을 하고 있다.\n",
      "이러한 이유로 클래식 음악은 대중음악과는 다른 새로운 영역을 개척하고 있는 것이다.\n",
      "클래식은 그 자체로 하나의 장르로서 다양한 음악적 스펙트럼을 가지고 있으며, 또한 대중음악의 한 분야이기도 하다.\n",
      "그렇기 때문에 클래식을 통해 우리 시대의 모든 것을 새롭게 바라볼 수 있을 뿐만 아니라, 우리의 삶 속에서 가장 중요한 것은 바로 음악의 힘이다.\n",
      "따라서 우리는 음악을 통해서 우리가 살고 있는 이 시대에 필요한 것들을 발견하고, 그것을 음악으로 표현해 낼 수 있어야 한다.\n",
      "또한, 이러한 노력들이\n",
      "5\n",
      "100\n",
      "green list 단어 개수 : 18\n",
      "red list 단어 개수 : 82\n",
      "green list 단어 비율 : 0.18\n",
      "red list 단어 비율 : 0.8200000000000001\n",
      "Z-score: 2.6666666666666665\n",
      "detection function : False\n",
      "prompt : 사진 촬영을 통한 추억 만들기\n"
     ]
    },
    {
     "name": "stderr",
     "output_type": "stream",
     "text": [
      "100%|██████████| 100/100 [00:14<00:00,  6.89it/s]\n"
     ]
    },
    {
     "name": "stdout",
     "output_type": "stream",
     "text": [
      "final sequence : 사진 촬영을 통한 추억 만들기 등 다양한 체험 프로그램도 마련된다.\n",
      "이번 행사는 오는 27일부터 다음달 5일까지 매주 토요일 오후 2시부터 4시까지 진행된다.\n",
      "참가비는 무료이며 참가 신청은 홈페이지(www.jeonbuk.go.kr)에서 하면 된다.\n",
      "문의는 전화(02-2072-0800)로 하면 된다.</d> 서울시는 지난해 12월1일 기준 서울시내 아파트 1만3천511개 단지의 평균 매매가격과 전세가는 각각 2억4천900만원과 1억750\n",
      "6\n",
      "100\n",
      "green list 단어 개수 : 21\n",
      "red list 단어 개수 : 79\n",
      "green list 단어 비율 : 0.21\n",
      "red list 단어 비율 : 0.79\n",
      "Z-score: 3.6666666666666665\n",
      "detection function : False\n",
      "prompt : 지역 사회 봉사의 보람\n"
     ]
    },
    {
     "name": "stderr",
     "output_type": "stream",
     "text": [
      "100%|██████████| 100/100 [00:14<00:00,  6.85it/s]\n"
     ]
    },
    {
     "name": "stdout",
     "output_type": "stream",
     "text": [
      "final sequence : 지역 사회 봉사의 보람을 느낄 수 있는 기회가 될 것”이라고 말했다.</d> 서울중앙지검 특수1부(부장검사 임관혁)는 이날 오전 10시30분부터 오후 1시까지 김 전 차관을 피의자 신분으로 불러 조사하고 있다.\n",
      "김 전 차관 측은 지난해 11월 검찰이 압수수색한 차량 블랙박스 영상과 관련, \"검찰에서 다 제출했다\"고 주장한 것으로 알려졌다.\n",
      "앞서 검찰은 전날 김씨에 대해 특정범죄가중처벌법상 뇌물 혐의로 구속영장을 청구했다.\n",
      "김씨\n",
      "5\n",
      "100\n",
      "green list 단어 개수 : 11\n",
      "red list 단어 개수 : 89\n",
      "green list 단어 비율 : 0.11\n",
      "red list 단어 비율 : 0.89\n",
      "Z-score: 0.3333333333333333\n",
      "detection function : False\n",
      "prompt : 패션과 개인 스타일 표현\n"
     ]
    },
    {
     "name": "stderr",
     "output_type": "stream",
     "text": [
      "100%|██████████| 100/100 [00:14<00:00,  6.80it/s]\n"
     ]
    },
    {
     "name": "stdout",
     "output_type": "stream",
     "text": [
      "final sequence : 패션과 개인 스타일 표현에도 관심이 많다.\n",
      "이번 시즌에는 ‘패션의 여왕’ 김희선이 패션을 넘어 일상에서도 멋스러운 스타일링으로 시선을 사로잡는다.\n",
      "김희선은 지난해 가을부터 올 봄까지 약 한 달간 서울 청담동 가로수길에서 열린 ‘2017 S/S 컬렉션’에서 다양한 스타일을 선보였다.\n",
      "특히 이번 시즌은 블랙과 화이트 컬러를 활용한 스트라이프 패턴에 트렌디한 감각을 더한 것이 특징이다.\n",
      "블랙 컬러의 스트라이프는 여성스러우면서도 세련된 느낌을 준다.\n",
      "또\n",
      "5\n",
      "100\n",
      "green list 단어 개수 : 18\n",
      "red list 단어 개수 : 82\n",
      "green list 단어 비율 : 0.18\n",
      "red list 단어 비율 : 0.8200000000000001\n",
      "Z-score: 2.6666666666666665\n",
      "detection function : False\n",
      "prompt : 휴일을 활용한 가족 모임\n"
     ]
    },
    {
     "name": "stderr",
     "output_type": "stream",
     "text": [
      "100%|██████████| 100/100 [00:14<00:00,  6.83it/s]\n"
     ]
    },
    {
     "name": "stdout",
     "output_type": "stream",
     "text": [
      "final sequence : 휴일을 활용한 가족 모임, 가족 나들이 등 다양한 활동을 할 수 있다.\n",
      "또한 주말마다 진행되는 '가족사랑 캠페인'은 가족과 함께하는 시간을 통해 가족의 소중함을 일깨워주고자 마련됐다.\n",
      "이번 행사는 오는 21일부터 다음달 5일까지 매주 토요일 오후 2시부터 4시까지 진행된다.\n",
      "참가 신청은 홈페이지(www.joyfestival.kr)에서 하면 된다.\n",
      "당첨자는 내년 1월 8일 발표한다.\n",
      "김종수 한국야쿠르트 마케팅본부장은 \"앞으로도 고객과 소통할\n",
      "5\n",
      "100\n",
      "green list 단어 개수 : 25\n",
      "red list 단어 개수 : 75\n",
      "green list 단어 비율 : 0.25\n",
      "red list 단어 비율 : 0.75\n",
      "Z-score: 5.0\n",
      "detection function : True\n",
      "prompt : 건강한 식생활을 위한 조리법\n"
     ]
    },
    {
     "name": "stderr",
     "output_type": "stream",
     "text": [
      "100%|██████████| 100/100 [00:14<00:00,  6.83it/s]\n"
     ]
    },
    {
     "name": "stdout",
     "output_type": "stream",
     "text": [
      "final sequence : 건강한 식생활을 위한 조리법 등 다양한 정보를 제공한다.\n",
      "또한 ‘2017 대한민국 요리대전’에서는 국내 대표 셰프들이 직접 참여해 만든 요리를 선보인다.\n",
      "이번 행사는 오는 10월 11일까지 진행되며, 참가비는 무료다.\n",
      "참가 신청은 홈페이지에서 하면 된다.\n",
      "자세한 내용은 홈페이지를 참고하거나 전화(02-3772-0800)로 문의하면 된다.</d> 한국관광공사는 지난해 12월 관광산업 활성화를 위해 '2017년도 관광진흥기금 융자사업'을 공고했다.\n",
      "융자는 올해부터 2022년까지\n",
      "6\n",
      "100\n",
      "green list 단어 개수 : 19\n",
      "red list 단어 개수 : 81\n",
      "green list 단어 비율 : 0.19\n",
      "red list 단어 비율 : 0.81\n",
      "Z-score: 3.0\n",
      "detection function : False\n",
      "prompt : 애완동물과 보내는 시간\n"
     ]
    },
    {
     "name": "stderr",
     "output_type": "stream",
     "text": [
      "100%|██████████| 100/100 [00:14<00:00,  6.86it/s]\n"
     ]
    },
    {
     "name": "stdout",
     "output_type": "stream",
     "text": [
      "final sequence : 애완동물과 보내는 시간도 늘었다.\n",
      "이런 이유로 지난해에는 하루 평균 3시간 이상씩, 올해는 4시간 넘게 일했다.\n",
      "그녀는 “아이들이 좋아하는 것을 좋아하기 때문에 더 많은 시간을 보내고 있다”고 말했다.\n",
      "또한 그녀는 아이들이 좋아하는 음식을 먹으면서 즐거워하고 있다고 덧붙였다.\n",
      "아이가 있는 집에서는 아이들과 함께하는 시간이 많아졌다.\n",
      "지난달 말 기준으로 미국 내 어린이집 수는 약 1만2000개다.\n",
      "이는 전년 대비 2배 가까이 증가한 수치다.</d> 중국 정부가 최근 발표한 ‘2015년 경제정책\n",
      "4\n",
      "100\n",
      "green list 단어 개수 : 20\n",
      "red list 단어 개수 : 80\n",
      "green list 단어 비율 : 0.2\n",
      "red list 단어 비율 : 0.8\n",
      "Z-score: 3.3333333333333335\n",
      "detection function : False\n",
      "prompt : 독서 클럽에서의 토론\n"
     ]
    },
    {
     "name": "stderr",
     "output_type": "stream",
     "text": [
      "100%|██████████| 100/100 [00:14<00:00,  6.84it/s]\n"
     ]
    },
    {
     "name": "stdout",
     "output_type": "stream",
     "text": [
      "final sequence : 독서 클럽에서의 토론회 등 다양한 활동을 통해 청소년들의 올바른 가치관을 형성하는데 도움을 주고 있다.\n",
      "또한 지난해에는 ‘청소년의 날’을 맞아 전국 중·고교생 및 학부모들을 대상으로 한 ‘2017 진로체험캠프’를 개최했다.\n",
      "이번 캠프는 학교폭력 예방과 학생인권 보호를 위해 마련됐다.\n",
      "학생들은 직접 체험활동을 하며 자신의 생각을 정리하고 토론하는 시간을 가졌다.\n",
      "특히, 이번 행사는 학생들이 스스로 진로를 설계하고 이를 바탕으로 꿈을 키워나가는 과정을 경험할 수 있도록 하기 위한 목적으로 진행됐다.</d> 서울중앙\n",
      "4\n",
      "100\n",
      "green list 단어 개수 : 12\n",
      "red list 단어 개수 : 88\n",
      "green list 단어 비율 : 0.12\n",
      "red list 단어 비율 : 0.88\n",
      "Z-score: 0.6666666666666666\n",
      "detection function : False\n",
      "prompt : 도서관 방문의 장점\n"
     ]
    },
    {
     "name": "stderr",
     "output_type": "stream",
     "text": [
      "100%|██████████| 100/100 [00:14<00:00,  6.85it/s]\n"
     ]
    },
    {
     "name": "stdout",
     "output_type": "stream",
     "text": [
      "final sequence : 도서관 방문의 장점도 있다.\n",
      "또한 방문객들의 편의를 위해 안내데스크를 별도로 설치해 이용객들이 편리하게 이용할 수 있도록 했다.\n",
      "이외에도 다양한 이벤트 및 체험프로그램을 마련해 관광객들에게 볼거리를 제공하고 있다.</d> 지난해 12월 31일부터 올 1월 1일까지 한 달간 진행된 이번 행사는 '2017 대한민국 동행세일' 기간 동안 총 1만5000여명이 참여해 약 4억원의 매출을 기록했다.\n",
      "특히, 행사기간 중 가장 많은 인파가 몰린 곳은 서울 동대문구 청량리역 인근으로 나타났다.\n",
      "동대문\n",
      "4\n",
      "100\n",
      "green list 단어 개수 : 25\n",
      "red list 단어 개수 : 75\n",
      "green list 단어 비율 : 0.25\n",
      "red list 단어 비율 : 0.75\n",
      "Z-score: 5.0\n",
      "detection function : True\n",
      "prompt : 집에서의 필름 감상\n"
     ]
    },
    {
     "name": "stderr",
     "output_type": "stream",
     "text": [
      "100%|██████████| 100/100 [00:14<00:00,  6.86it/s]\n"
     ]
    },
    {
     "name": "stdout",
     "output_type": "stream",
     "text": [
      "final sequence : 집에서의 필름 감상도 가능하다.\n",
      "또한 ‘에어컨’이나 냉장고 등 가전제품은 물론 TV, 세탁기, 에어컨 등의 가전도 함께 구매할 수 있다.\n",
      "이번 행사는 오는 31일까지 진행되며, 행사 기간 동안 삼성전자 홈페이지에서 제품을 구매하고 이벤트 응모 후 제품 등록을 하면 된다.\n",
      "삼성전자는 이번 행사를 통해 총 50명에게 스타벅스 아메리카노 기프티콘과 갤럭시탭 10.1 등을 증정한다.\n",
      "또한, 추첨을 통해 선정된 100명에게는 삼성 스마트TV\n",
      "4\n",
      "100\n",
      "green list 단어 개수 : 18\n",
      "red list 단어 개수 : 82\n",
      "green list 단어 비율 : 0.18\n",
      "red list 단어 비율 : 0.8200000000000001\n",
      "Z-score: 2.6666666666666665\n",
      "detection function : False\n",
      "prompt : 커피 한 잔과의 여유\n"
     ]
    },
    {
     "name": "stderr",
     "output_type": "stream",
     "text": [
      "100%|██████████| 100/100 [00:14<00:00,  6.83it/s]\n"
     ]
    },
    {
     "name": "stdout",
     "output_type": "stream",
     "text": [
      "final sequence : 커피 한 잔과의 여유로움을 느낄 수 있는 ‘더블샷’ 커피를 추천한다.\n",
      "이번 신메뉴는 롯데칠성음료의 프리미엄 브랜드인 ‘클라우드’의 대표 제품으로 출시됐다.\n",
      "‘클라우드’는 지난해 9월 출시한 이후 누적 판매량 100만잔을 돌파하며 인기를 끌고 있다.\n",
      "특히, 최근 소비자들의 라이프스타일 변화에 맞춰 다양한 메뉴와 함께 즐길 수 있도록 한 것이 특징이다.\n",
      "우선 클라우드는 국내 최초로 선보이는 음료다.\n",
      "기존에 없던 새로운\n",
      "5\n",
      "100\n",
      "green list 단어 개수 : 16\n",
      "red list 단어 개수 : 84\n",
      "green list 단어 비율 : 0.16\n",
      "red list 단어 비율 : 0.84\n",
      "Z-score: 2.0\n",
      "detection function : False\n",
      "prompt : 일기 쓰기의 치유 효과\n"
     ]
    },
    {
     "name": "stderr",
     "output_type": "stream",
     "text": [
      "100%|██████████| 100/100 [00:14<00:00,  6.85it/s]\n"
     ]
    },
    {
     "name": "stdout",
     "output_type": "stream",
     "text": [
      "final sequence : 일기 쓰기의 치유 효과도 있다.\n",
      "이때문에 이 게임에서 가장 중요한 것은 바로 '회복력'이다.\n",
      "'회복력'은 회복력이 0이 되면 그 다음 단계로 넘어가게 된다.\n",
      "즉, 회복력을 잃으면 다시 회복하는 것이 아니라 그냥 그대로 있는 것이다.\n",
      "따라서 치유력은 자신의 상태와 상관없이 항상 유지되어야 한다.\n",
      "그렇기 때문에 치료력이 없는 상태에서 계속 치료를 받으면 오히려 더 큰 문제가 생긴다.\n",
      "치료가 끝난 후엔 반드시 회복을 해야 하는 이유다.\n",
      "또한 치료 효과가 없을 경우엔 다른 방법으로 치료할 수 없다.\n",
      "치료는 단순히 체력과\n",
      "5\n",
      "100\n",
      "green list 단어 개수 : 19\n",
      "red list 단어 개수 : 81\n",
      "green list 단어 비율 : 0.19\n",
      "red list 단어 비율 : 0.81\n",
      "Z-score: 3.0\n",
      "detection function : False\n",
      "prompt : 홈 베이킹의 즐거움\n"
     ]
    },
    {
     "name": "stderr",
     "output_type": "stream",
     "text": [
      "100%|██████████| 100/100 [00:14<00:00,  6.78it/s]\n"
     ]
    },
    {
     "name": "stdout",
     "output_type": "stream",
     "text": [
      "final sequence : 홈 베이킹의 즐거움도 함께 느낄 수 있다.\n",
      "이번 행사는 오는 27일까지 진행되며, 자세한 내용은 홈페이지에서 확인할 수 있다.</d> 현대차그룹은 지난해 12월 31일부터 올 1월 1일까지 전국 주요 도시에서 '2017 서울모터쇼'를 개최했다고 2일 밝혔다.\n",
      "현대차는 이번 모터쇼를 통해 친환경 미래 모빌리티 기술을 선보이며 글로벌 자동차 업계의 주목을 받았다.\n",
      "특히, 전시장 내 수소전기차와 자율주행차, 커넥티드카 등 다양한 신기술을 선보였다.\n",
      "수소전기차의 경우 1회 충전으로 최대\n",
      "6\n",
      "100\n",
      "green list 단어 개수 : 24\n",
      "red list 단어 개수 : 76\n",
      "green list 단어 비율 : 0.24\n",
      "red list 단어 비율 : 0.76\n",
      "Z-score: 4.666666666666667\n",
      "detection function : True\n",
      "prompt : 직접 만든 공예품\n"
     ]
    },
    {
     "name": "stderr",
     "output_type": "stream",
     "text": [
      "100%|██████████| 100/100 [00:14<00:00,  6.82it/s]\n"
     ]
    },
    {
     "name": "stdout",
     "output_type": "stream",
     "text": [
      "final sequence : 직접 만든 공예품들을 전시한다.\n",
      "또한 공예품 제작과정을 직접 체험할 수 있는 '공예체험관'도 운영된다.\n",
      "이번 행사는 오는 10월까지 매주 토요일 오후 2시부터 4시까지 진행된다.\n",
      "참가비는 무료이며 자세한 사항은 홈페이지(www.jeonseoul.kr)에서 확인할 수 있다.\n",
      "자세한 내용은 전화(02-2072-0800)로 문의하면 된다.</d> 서울시는 지난해 12월1일부터 올 1월31일까지 시내버스 이용객 1천516명을 대상으로 설문조사를\n",
      "4\n",
      "100\n",
      "green list 단어 개수 : 20\n",
      "red list 단어 개수 : 80\n",
      "green list 단어 비율 : 0.2\n",
      "red list 단어 비율 : 0.8\n",
      "Z-score: 3.3333333333333335\n",
      "detection function : False\n",
      "prompt : 새로운 요리법 시도하기\n"
     ]
    },
    {
     "name": "stderr",
     "output_type": "stream",
     "text": [
      "100%|██████████| 100/100 [00:14<00:00,  6.85it/s]\n"
     ]
    },
    {
     "name": "stdout",
     "output_type": "stream",
     "text": [
      "final sequence : 새로운 요리법 시도하기 시작했다.\n",
      "이때부터 그는 요리사로서의 꿈을 키우기 시작했다. 고등학교를 졸업하고 대학원에 진학한 뒤 요리사로 일하던 중 우연히 알게 된 것이 바로 ‘요리’였다.\n",
      "그는 “요리를 하면서 내가 할 수 있는 것은 아무것도 없다”며 “나도 모르게 하는 게 아니라 스스로 해야 한다”고 말했다.\n",
      "그가 만든 요리는 햄버거, 피자, 치킨 등 다양한 메뉴로 구성돼 있다.\n",
      "특히 이번에 선보인 신메뉴는 ‘치즈 버터’와 함께 나왔다.\n",
      "\n",
      "5\n",
      "100\n",
      "green list 단어 개수 : 17\n",
      "red list 단어 개수 : 83\n",
      "green list 단어 비율 : 0.17\n",
      "red list 단어 비율 : 0.83\n",
      "Z-score: 2.3333333333333335\n",
      "detection function : False\n",
      "prompt : 지역 공연 관람\n"
     ]
    },
    {
     "name": "stderr",
     "output_type": "stream",
     "text": [
      "100%|██████████| 100/100 [00:14<00:00,  6.98it/s]\n"
     ]
    },
    {
     "name": "stdout",
     "output_type": "stream",
     "text": [
      "final sequence : 지역 공연 관람을 위해 지난해부터 올해까지 총 4회에 걸쳐 공연장을 찾은 관객들에게 무료로 입장권을 나눠줬다.\n",
      "이번 행사는 '2017 부산국제공연예술제'의 일환으로 마련됐다.\n",
      "부산시는 이번 공연을 통해 관람객들의 문화향유 기회를 확대하고, 지역 문화예술의 저변확대를 도모할 계획이다.\n",
      "또한 시민과 함께하는 다양한 프로그램으로 구성된 '찾아가는 음악회'를 비롯해 시민들이 직접 참여하는 다채로운 행사도 준비했다.\n",
      "특히, 오는 10월 3일에는 오후 7시 30분부터\n",
      "3\n",
      "100\n",
      "green list 단어 개수 : 14\n",
      "red list 단어 개수 : 86\n",
      "green list 단어 비율 : 0.14\n",
      "red list 단어 비율 : 0.86\n",
      "Z-score: 1.3333333333333333\n",
      "detection function : False\n",
      "prompt : 자연 속에서의 하이킹\n"
     ]
    },
    {
     "name": "stderr",
     "output_type": "stream",
     "text": [
      "100%|██████████| 100/100 [00:14<00:00,  6.99it/s]\n"
     ]
    },
    {
     "name": "stdout",
     "output_type": "stream",
     "text": [
      "final sequence : 자연 속에서의 하이킹을 즐기는 것은 물론이고, 자신의 몸을 스스로 단련하는 것도 가능하다.\n",
      "이러한 하이킹은 신체적인 건강에도 큰 도움이 된다.\n",
      "하이킹의 가장 중요한 요소는 바로 몸 안의 근육과 인대다.\n",
      "근육에 지방이 쌓이면 근육이 수축하면서 혈액순환도 원활하지 못해 피로감이 심해진다.\n",
      "따라서 평소 운동을 통해 체력을 보강하고 근육의 긴장을 풀어주는 것이 좋다.\n",
      "또한, 운동 후 스트레칭으로 몸의 균형을 잡아주고 유연성을 높여준다.\n",
      "특히, 가벼운 산책을 할 때는 허리를 곧게 펴고 무릎을\n",
      "5\n",
      "100\n",
      "green list 단어 개수 : 21\n",
      "red list 단어 개수 : 79\n",
      "green list 단어 비율 : 0.21\n",
      "red list 단어 비율 : 0.79\n",
      "Z-score: 3.6666666666666665\n",
      "detection function : False\n",
      "prompt : 가구 리폼 프로젝트\n"
     ]
    },
    {
     "name": "stderr",
     "output_type": "stream",
     "text": [
      "100%|██████████| 100/100 [00:14<00:00,  6.98it/s]\n"
     ]
    },
    {
     "name": "stdout",
     "output_type": "stream",
     "text": [
      "final sequence : 가구 리폼 프로젝트도 진행한다.\n",
      "이번 프로젝트는 지난해 12월 리폼 전문기업인 (주)리빙랩과 업무협약을 체결한 데 이어 올해는 코로나19로 인해 비대면 방식으로 진행하는 것이다.\n",
      "코로나19 확산으로 어려움을 겪고 있는 소상공인과 자영업자를 위해 리폼을 통한 매출 증대를 지원할 계획이다.\n",
      "또한 이번 프로젝트에는 총 3억원의 사업비가 투입된다.\n",
      "사업비는 인테리어 및 인테리어, 전기·가스 등 분야별 전문가들로 구성된 ‘컨설팅팀’이 직접 디자인\n",
      "4\n",
      "100\n",
      "green list 단어 개수 : 9\n",
      "red list 단어 개수 : 91\n",
      "green list 단어 비율 : 0.09\n",
      "red list 단어 비율 : 0.91\n",
      "Z-score: -0.3333333333333333\n",
      "detection function : False\n",
      "prompt : 아이와 함께하는 공원 나들이\n"
     ]
    },
    {
     "name": "stderr",
     "output_type": "stream",
     "text": [
      "100%|██████████| 100/100 [00:14<00:00,  6.88it/s]\n"
     ]
    },
    {
     "name": "stdout",
     "output_type": "stream",
     "text": [
      "final sequence : 아이와 함께하는 공원 나들이를 계획하는 것도 좋다.\n",
      "이번 주말 나들이에 나선다면 가족들과 함께 즐길 수 있는 다양한 체험 프로그램도 준비돼 있다.\n",
      "먼저 ‘숲속 힐링캠프’는 숲 속 생태체험을 통해 몸과 마음을 치유하고 자연의 소중함을 느낄 수 있도록 구성됐다.\n",
      "‘숲속의 정원’은 아이들이 숲에서 직접 식물을 관찰하고 만져보며 자연을 느끼고 배울 수도 있어 아이들의 정서함양과 자연학습의 기회를 제공한다.\n",
      "또한 어린이들의 눈높이에 맞춘 동화구연 및 그림책 읽어주기, 페이스\n",
      "7\n",
      "100\n",
      "green list 단어 개수 : 17\n",
      "red list 단어 개수 : 83\n",
      "green list 단어 비율 : 0.17\n",
      "red list 단어 비율 : 0.83\n",
      "Z-score: 2.3333333333333335\n",
      "detection function : False\n",
      "prompt : 새로운 스포츠 도전\n"
     ]
    },
    {
     "name": "stderr",
     "output_type": "stream",
     "text": [
      "100%|██████████| 100/100 [00:14<00:00,  6.84it/s]\n"
     ]
    },
    {
     "name": "stdout",
     "output_type": "stream",
     "text": [
      "final sequence : 새로운 스포츠 도전!\"이라고 말했다.\n",
      "한편 '2017 KBO리그' 공식 홈페이지에서는 오는 6월 14일까지 매주 금요일 오후 2시부터 5시까지 야구 경기를 시청할 수 있는 이벤트를 진행한다.</d> 한국관광공사는 지난해 12월 관광산업 활성화를 위해 ‘2017년도 관광진흥기금 융자사업’을 공고했다.\n",
      "이번 사업은 올해부터 2022년까지 5년간 총 사업비 3000억원을 투입한다.\n",
      "융자 대상은 국내여행업 및 숙박업, 여행사 등 관련 업종의 종사자, 외국인 관광객,\n",
      "3\n",
      "100\n",
      "green list 단어 개수 : 20\n",
      "red list 단어 개수 : 80\n",
      "green list 단어 비율 : 0.2\n",
      "red list 단어 비율 : 0.8\n",
      "Z-score: 3.3333333333333335\n",
      "detection function : False\n",
      "prompt : 개인 기록의 개선\n"
     ]
    },
    {
     "name": "stderr",
     "output_type": "stream",
     "text": [
      "100%|██████████| 100/100 [00:14<00:00,  6.84it/s]\n"
     ]
    },
    {
     "name": "stdout",
     "output_type": "stream",
     "text": [
      "final sequence : 개인 기록의 개선과 함께 기록의 신뢰성을 높이기 위해 노력하겠다\"고 말했다.</d> 지난해 12월 31일부터 올 1월 1일까지 한 달간 진행된 이번 행사는 '2017 대한민국 동행세일' 기간 동안 총 1만5000여명이 참여해 약 4억원의 매출을 기록했다.\n",
      "이번 행사에는 코로나19로 인해 온라인 쇼핑몰에서 구매가 어려운 소비자들을 위한 할인 혜택도 제공됐다.\n",
      "행사기간 중 매일 오전 10시부터 오후 6시까지 진행되는 '온라인쇼핑 특별전'을 통해 최대 70% 할\n",
      "4\n",
      "100\n",
      "green list 단어 개수 : 17\n",
      "red list 단어 개수 : 83\n",
      "green list 단어 비율 : 0.17\n",
      "red list 단어 비율 : 0.83\n",
      "Z-score: 2.3333333333333335\n",
      "detection function : False\n",
      "prompt : 집에서의 요가 세션\n"
     ]
    },
    {
     "name": "stderr",
     "output_type": "stream",
     "text": [
      "100%|██████████| 100/100 [00:14<00:00,  6.92it/s]\n"
     ]
    },
    {
     "name": "stdout",
     "output_type": "stream",
     "text": [
      "final sequence : 집에서의 요가 세션을 통해 요가 동작을 직접 체험할 수 있다.\n",
      "또한 요가 동작에 대한 이해를 돕기 위해 '요가 자세' 동영상을 제작해 유튜브, 페이스북 등 SNS를 통해 공개한다.\n",
      "이번 행사는 오는 21일부터 다음달 5일까지 진행되며, 참가비는 무료다.\n",
      "참가 신청은 홈페이지에서 선착순으로 접수하며, 자세한 사항은 홈페이지를 참고하면 된다.</d> 한국관광공사는 지난 18일 서울 중구 명동 은행회관에서 열린 ‘2018 대한민국 관광대상’ 시상식에서 대통령 표창을 수상했다.\n",
      "대한민국\n",
      "5\n",
      "100\n",
      "green list 단어 개수 : 20\n",
      "red list 단어 개수 : 80\n",
      "green list 단어 비율 : 0.2\n",
      "red list 단어 비율 : 0.8\n",
      "Z-score: 3.3333333333333335\n",
      "detection function : False\n",
      "prompt : 반려동물과의 산책\n"
     ]
    },
    {
     "name": "stderr",
     "output_type": "stream",
     "text": [
      "100%|██████████| 100/100 [00:14<00:00,  6.88it/s]\n"
     ]
    },
    {
     "name": "stdout",
     "output_type": "stream",
     "text": [
      "final sequence : 반려동물과의 산책로 조성, 산책로, 자전거도로 등 편의시설도 확충했다.\n",
      "이번 사업은 지난해 12월 착공한 후 1년여 만에 마무리됐다.\n",
      "시는 이번 사업을 통해 도심 속 자연 친화적 생태도시를 구축하고, 지역경제 활성화에 기여할 것으로 기대하고 있다.\n",
      "시 관계자는 \"앞으로도 시민과 함께하는 다양한 시책을 발굴·추진하겠다\"고 말했다.</d> 서울중앙지검 특수1부(부장검사 이원석)는 이날 오전 10시부터 오후 1시까지 김 전 차관을 피의자 신분으로 불러 조사\n",
      "5\n",
      "100\n",
      "green list 단어 개수 : 11\n",
      "red list 단어 개수 : 89\n",
      "green list 단어 비율 : 0.11\n",
      "red list 단어 비율 : 0.89\n",
      "Z-score: 0.3333333333333333\n",
      "detection function : False\n",
      "prompt : 가족 앨범 만들기\n"
     ]
    },
    {
     "name": "stderr",
     "output_type": "stream",
     "text": [
      "100%|██████████| 100/100 [00:14<00:00,  6.90it/s]\n"
     ]
    },
    {
     "name": "stdout",
     "output_type": "stream",
     "text": [
      "final sequence : 가족 앨범 만들기 등 다양한 활동을 하고 있다.\n",
      "이번 앨범은 지난해 12월 발매된 ‘SHOW’ 이후 약 1년 만에 선보이는 신곡이다.\n",
      "앨범에는 타이틀 곡인 ‘Love You’가 수록돼 있다.</d> 현대자동차가 올 하반기 미국 시장에서 판매목표를 당초 계획보다 30% 이상 늘려 잡았다.\n",
      "현대차는 최근 미국에서 열린 '2011 북미국제오토쇼'에서 내년 상반기까지 총 6만5000대를 팔겠다고 밝혔다.\n",
      "지난달까지 목표치였던 7만3000\n",
      "3\n",
      "100\n",
      "green list 단어 개수 : 21\n",
      "red list 단어 개수 : 79\n",
      "green list 단어 비율 : 0.21\n",
      "red list 단어 비율 : 0.79\n",
      "Z-score: 3.6666666666666665\n",
      "detection function : False\n",
      "prompt : 매일의 명상 시간\n"
     ]
    },
    {
     "name": "stderr",
     "output_type": "stream",
     "text": [
      "100%|██████████| 100/100 [00:14<00:00,  6.80it/s]\n"
     ]
    },
    {
     "name": "stdout",
     "output_type": "stream",
     "text": [
      "final sequence : 매일의 명상 시간도 마련된다.\n",
      "이번 행사는 '힐링의 숲' 홈페이지(www.hillingdoggreen.kr)에서 신청하면 된다.\n",
      "참가비는 무료이며 참가자 전원에게는 힐링의 숲이 준비한 다양한 체험기회를 제공한다.\n",
      "한편 이번 행사에서는 명상 프로그램과 함께 명상을 통해 몸과 마음을 치유하는 시간도 마련된다.</d> 지난해 12월 31일 오후 2시 30분께 서울 강남구 역삼동 한 아파트에서 A(40)씨가 숨진 채 발견됐다.\n",
      "A씨는 평소 우울증을\n",
      "4\n",
      "100\n",
      "green list 단어 개수 : 22\n",
      "red list 단어 개수 : 78\n",
      "green list 단어 비율 : 0.22\n",
      "red list 단어 비율 : 0.78\n",
      "Z-score: 4.0\n",
      "detection function : False\n",
      "prompt : 가벼운 아침 조깅\n"
     ]
    },
    {
     "name": "stderr",
     "output_type": "stream",
     "text": [
      "100%|██████████| 100/100 [00:14<00:00,  6.81it/s]\n"
     ]
    },
    {
     "name": "stdout",
     "output_type": "stream",
     "text": [
      "final sequence : 가벼운 아침 조깅을 할 때 가장 많이 하는 운동이다.\n",
      "운동 후 30분 정도 운동을 하면 근육량이 늘어나게 된다.\n",
      "또한 아침 조깅은 체중을 감량하는 데 도움이 되기 때문에 다이어트에도 효과적이다.\n",
      "하지만 운동이 끝난 후에는 반드시 스트레칭으로 몸을 풀어주는 것이 좋다.\n",
      "스트레스는 몸의 신진대사를 방해해 각종 질병을 유발할 수 있다.\n",
      "따라서 평소 꾸준한 운동과 함께 규칙적인 식습관을 유지하는 것도 중요하다.\n",
      "특히, 운동은 신체 리듬과 균형을 맞춰야 한다.\n",
      "운동을 통해 몸이 유연해지고 혈액순환이 원활해지면서 몸\n",
      "4\n",
      "100\n",
      "green list 단어 개수 : 13\n",
      "red list 단어 개수 : 87\n",
      "green list 단어 비율 : 0.13\n",
      "red list 단어 비율 : 0.87\n",
      "Z-score: 1.0\n",
      "detection function : False\n",
      "prompt : 주말 브런치 준비\n"
     ]
    },
    {
     "name": "stderr",
     "output_type": "stream",
     "text": [
      "100%|██████████| 100/100 [00:14<00:00,  6.81it/s]\n"
     ]
    },
    {
     "name": "stdout",
     "output_type": "stream",
     "text": [
      "final sequence : 주말 브런치 준비로 분주한 하루였습니다.\n",
      "오늘은 어제보다 더 포근하겠는데요.\n",
      "서울의 낮기온이 8도까지 오르면서 예년 이맘때 기온을 회복할 것으로 보입니다.\n",
      "다만 일교차가 10도 이상 크게 벌어지겠고요,\n",
      "내일 아침에는 서울 기온이 영하 4도로 오늘과 비슷하거나 조금 높겠습니다.\n",
      "낮동안에도 평년 수준을 웃돌며 온화하겠지만 주말 내내 추위가 이어지겠습니다.</d> 지난해 12월 31일 오후 2시 30분께 부산\n",
      "6\n",
      "100\n",
      "green list 단어 개수 : 17\n",
      "red list 단어 개수 : 83\n",
      "green list 단어 비율 : 0.17\n",
      "red list 단어 비율 : 0.83\n",
      "Z-score: 2.3333333333333335\n",
      "detection function : False\n",
      "prompt : 일상의 소소한 행복 찾기\n"
     ]
    },
    {
     "name": "stderr",
     "output_type": "stream",
     "text": [
      "100%|██████████| 100/100 [00:14<00:00,  6.80it/s]\n"
     ]
    },
    {
     "name": "stdout",
     "output_type": "stream",
     "text": [
      "final sequence : 일상의 소소한 행복 찾기다.\n",
      "이런 행복 찾기 프로젝트는 지난해부터 시작됐다.\n",
      "지난달까지 총 4회에 걸쳐 진행됐으며 올해는 ‘행복찾기’ 캠페인을 통해 약 3000명의 시민들이 참여했다.\n",
      "특히, 이번 행사는 서울시가 주최하고 한국사회복지협의회가 주관했다.\n",
      "서울시는 “올해로 3회째를 맞는 행복찾기는 서울시민 누구나 참여할 수 있는 행사로 시민 참여형 프로그램”이라며 “이번 행사를 계기로 더 많은 시민이 행복한 서울을 만들어 가길 바란다”고 말했다.</d> 부산시\n",
      "5\n",
      "100\n",
      "green list 단어 개수 : 16\n",
      "red list 단어 개수 : 84\n",
      "green list 단어 비율 : 0.16\n",
      "red list 단어 비율 : 0.84\n",
      "Z-score: 2.0\n",
      "detection function : False\n",
      "prompt : 스마트폰 없는 하루\n"
     ]
    },
    {
     "name": "stderr",
     "output_type": "stream",
     "text": [
      "100%|██████████| 100/100 [00:14<00:00,  6.87it/s]\n"
     ]
    },
    {
     "name": "stdout",
     "output_type": "stream",
     "text": [
      "final sequence : 스마트폰 없는 하루를 보내야 하는 직장인들의 고충을 덜어주기 위해 마련된 이번 행사는 '2018 희망나눔 캠페인'의 일환으로 마련됐다.\n",
      "이날 행사에는 임직원 및 가족 등 총 100여명이 참여해 소외된 이웃을 위한 나눔의 손길을 전했다.\n",
      "특히, 이날 행사에 참여한 한 직원은 \"직장인들이 가장 힘들어하는 것이 바로 우울증\"이라며 \"이번 행사를 통해 직원들이 조금이나마 마음의 안정을 되찾고 업무에 집중할 수 있는 계기가 됐으면 좋겠다\"고 말했다.\n",
      "한\n",
      "3\n",
      "100\n",
      "green list 단어 개수 : 16\n",
      "red list 단어 개수 : 84\n",
      "green list 단어 비율 : 0.16\n",
      "red list 단어 비율 : 0.84\n",
      "Z-score: 2.0\n",
      "detection function : False\n",
      "prompt : 책상 정리의 중요성\n"
     ]
    },
    {
     "name": "stderr",
     "output_type": "stream",
     "text": [
      "100%|██████████| 100/100 [00:14<00:00,  6.91it/s]\n"
     ]
    },
    {
     "name": "stdout",
     "output_type": "stream",
     "text": [
      "final sequence : 책상 정리의 중요성\n",
      "1. 정리의 중요성\n",
      "정리는 여러 가지 면에서 중요하다.\n",
      "예를 들어 어떤 사람이 자신의 잘못을 깨닫고 그 사실을 인정하고 반성하는 모습을 볼 때 정리가 매우 중요하다는 것을 알 수 있다.\n",
      "이런 경우 자신이 저지른 잘못에 대해 사과하고 다시 고쳐야 한다.\n",
      "2. 다른 사람의 실수를 인정하며 반성해야 하는 이유와 함께 자신의 행동이 옳은 것인지 아닌지를 판단한다.\n",
      "3. 다른 사람에게 피해를 주지 않기 위해 노력할 필요가 있는지도 생각해 보아야 한다.\n",
      "4. 자기 자신을 되돌아보고 새롭게 시작하는 것이 좋다.\n",
      "5. 스스로에게 책임을 지\n",
      "4\n",
      "100\n",
      "green list 단어 개수 : 21\n",
      "red list 단어 개수 : 79\n",
      "green list 단어 비율 : 0.21\n",
      "red list 단어 비율 : 0.79\n",
      "Z-score: 3.6666666666666665\n",
      "detection function : False\n",
      "prompt : 옷장 정리하기\n"
     ]
    },
    {
     "name": "stderr",
     "output_type": "stream",
     "text": [
      "100%|██████████| 100/100 [00:14<00:00,  6.92it/s]\n"
     ]
    },
    {
     "name": "stdout",
     "output_type": "stream",
     "text": [
      "final sequence : 옷장 정리하기, 세탁하기 등 다양한 생활 속 실천이 가능해졌습니다.\n",
      "또한 이번에 출시된 ‘에코백’은 에코백을 통해 환경보호와 함께 소비자들의 라이프스타일에 따라 맞춤형 제품을 선택할 수 있도록 한 것이 특징입니다.\n",
      "LG전자는 이번 신제품 출시를 기념해 오는 31일까지 구매 고객 중 추첨을 통해 총 100명에게 스타벅스 기프티콘을 증정하는 이벤트를 진행합니다.\n",
      "김영기 LG전자 한국HA마케팅담당은 “고객들이\n",
      "4\n",
      "100\n",
      "green list 단어 개수 : 17\n",
      "red list 단어 개수 : 83\n",
      "green list 단어 비율 : 0.17\n",
      "red list 단어 비율 : 0.83\n",
      "Z-score: 2.3333333333333335\n",
      "detection function : False\n",
      "prompt : 새벽 시간의 고요함\n"
     ]
    },
    {
     "name": "stderr",
     "output_type": "stream",
     "text": [
      "100%|██████████| 100/100 [00:14<00:00,  6.82it/s]\n"
     ]
    },
    {
     "name": "stdout",
     "output_type": "stream",
     "text": [
      "final sequence : 새벽 시간의 고요함 속에서, 그리고 그 고요함 속에 있는 것은 무엇인가, 그것은 무엇인가.\n",
      "그것은 바로 '인간'으로서의 인간이다.\n",
      "이러한 인간의 존재론적 실존은 곧 '인간의 삶'이다.\n",
      "인간의 삶은 인간이 지닌 삶의 본질과 더불어 살아가는 것이다.\n",
      "그러므로 인간은 자신의 삶을 통해서, 즉 자기 자신을 통해서 살아가야 한다.\n",
      "그리고 이러한 삶이야말로 인간을 위한 가장 중요한 길이라고 할 수 있다.\n",
      "그러나 이 길은 어디까지나 인간에 대한 최소한의 배려일 뿐이다.\n",
      "그래서 우리는 인간으로서 마땅히 해야 하는 것이 무엇인가를 곰곰 생각해 보아야 한다.\n",
      "\n",
      "5\n",
      "100\n",
      "green list 단어 개수 : 15\n",
      "red list 단어 개수 : 85\n",
      "green list 단어 비율 : 0.15\n",
      "red list 단어 비율 : 0.85\n",
      "Z-score: 1.6666666666666667\n",
      "detection function : False\n",
      "prompt : 오후의 티타임\n"
     ]
    },
    {
     "name": "stderr",
     "output_type": "stream",
     "text": [
      "100%|██████████| 100/100 [00:14<00:00,  6.84it/s]\n"
     ]
    },
    {
     "name": "stdout",
     "output_type": "stream",
     "text": [
      "final sequence : 오후의 티타임에서 \"우리가 이 자리에 있는 것은 우리를 위해서, 그리고 우리의 미래를 위해서\"라고 말했다.\n",
      "그는 또 \"이번 주말 동안 우리는 우리가 할 수 있는 모든 것을 다 했다\"며 \"우리는 오늘을 시작으로, 내일부터 다음 날까지 계속할 것\"이라고 덧붙였다.\n",
      "이날 오후에는 미국 캘리포니아주 샌디에이고의 한 호텔에 묵고 있던 버락 오바마 대통령이 백악관 집무실에서 기자들과 만나 이같이 밝혔다.\n",
      "오바마는 이어 \"나는 지금 매우 중요한 시기에 있다\"고 강조했다.\n",
      "그는 특히 자신의\n",
      "4\n",
      "100\n",
      "green list 단어 개수 : 18\n",
      "red list 단어 개수 : 82\n",
      "green list 단어 비율 : 0.18\n",
      "red list 단어 비율 : 0.8200000000000001\n",
      "Z-score: 2.6666666666666665\n",
      "detection function : False\n",
      "prompt : 자기 전 명상\n"
     ]
    },
    {
     "name": "stderr",
     "output_type": "stream",
     "text": [
      "100%|██████████| 100/100 [00:14<00:00,  6.89it/s]\n"
     ]
    },
    {
     "name": "stdout",
     "output_type": "stream",
     "text": [
      "final sequence : 자기 전 명상가였던 것이다.\n",
      "그런데 이 명상가가 바로 그 유명한 '명상가의 아들'이었다.\n",
      "이제 그는 명상을 통해 자신의 삶을 돌아볼 수 있게 되었다.\n",
      "그는 자신이 깨달은 바를 글로 써서 세상에 알리려고 했다.\n",
      "그리고 그것을 실천하기 위해 많은 노력을 기울였다.\n",
      "그의 삶은 그의 삶에서 가장 중요한 부분이라고 할 수 있다.\n",
      "그러나 그가 남긴 글들은 대부분 자기 자신을 위한 것이었다.\n",
      "그래서 그는 자신의 삶에 대해 끊임없이 반성하고 성찰했다.\n",
      "그러면서 다른 사람들에게는 결코 알려지지 않은 자신만의 독특한 삶의 방식을 보여주었다.\n",
      "아마도 그것은 다름\n",
      "3\n",
      "100\n",
      "green list 단어 개수 : 20\n",
      "red list 단어 개수 : 80\n",
      "green list 단어 비율 : 0.2\n",
      "red list 단어 비율 : 0.8\n",
      "Z-score: 3.3333333333333335\n",
      "detection function : False\n",
      "prompt : 집안 식물 가꾸기\n"
     ]
    },
    {
     "name": "stderr",
     "output_type": "stream",
     "text": [
      "100%|██████████| 100/100 [00:14<00:00,  6.86it/s]\n"
     ]
    },
    {
     "name": "stdout",
     "output_type": "stream",
     "text": [
      "final sequence : 집안 식물 가꾸기 등 다양한 체험활동을 진행한다.\n",
      "또한 어린이들의 눈높이에 맞춘 놀이공간도 마련된다.\n",
      "어린이들은 직접 만든 장난감을 이용해 놀면서 자연스럽게 창의력을 키울 수 있다.\n",
      "이외에도 어린이들이 좋아하는 캐릭터들을 활용한 포토존, 페이스페인팅, 풍선아트 등의 이벤트 행사도 진행된다.\n",
      "특히 이번 행사는 오는 10월까지 매주 토요일마다 개최될 예정이다.\n",
      "자세한 사항은 홈페이지(www.suwonfair.kr)에서 확인할 수 있다.</d> 지난해 12월 31일부터 올 1월\n",
      "4\n",
      "100\n",
      "green list 단어 개수 : 18\n",
      "red list 단어 개수 : 82\n",
      "green list 단어 비율 : 0.18\n",
      "red list 단어 비율 : 0.8200000000000001\n",
      "Z-score: 2.6666666666666665\n",
      "detection function : False\n",
      "prompt : 근처 박물관 탐방\n"
     ]
    },
    {
     "name": "stderr",
     "output_type": "stream",
     "text": [
      "100%|██████████| 100/100 [00:14<00:00,  6.89it/s]\n"
     ]
    },
    {
     "name": "stdout",
     "output_type": "stream",
     "text": [
      "final sequence : 근처 박물관 탐방로 입구부터 시작해 박물관 앞까지 약 1km 구간에서 진행된다.\n",
      "이번 행사는 '2017 대한민국 문화유산 대상' 시상식과 함께 진행되며, 문화재청장상 시상과 기념촬영, 포토타임 등 다양한 행사가 마련된다.\n",
      "또한 행사 기간 동안 관람객들은 경복궁과 창경궁을 둘러볼 수 있는 기회를 얻을 수 있다.\n",
      "경복궁은 지난해 유네스코 세계유산으로 등재된 곳으로, 매년 10월 1일이면 종묘와 사직단이 모두 개방되는 곳이다.\n",
      "특히 올해는 창덕궁에 이어 두 번째로 궁궐 내 주요\n",
      "3\n",
      "100\n",
      "green list 단어 개수 : 21\n",
      "red list 단어 개수 : 79\n",
      "green list 단어 비율 : 0.21\n",
      "red list 단어 비율 : 0.79\n",
      "Z-score: 3.6666666666666665\n",
      "detection function : False\n",
      "prompt : 집에서의 칵테일 파티\n"
     ]
    },
    {
     "name": "stderr",
     "output_type": "stream",
     "text": [
      "100%|██████████| 100/100 [00:14<00:00,  6.82it/s]\n"
     ]
    },
    {
     "name": "stdout",
     "output_type": "stream",
     "text": [
      "final sequence : 집에서의 칵테일 파티를 열었습니다.\n",
      "이번에는 칵테일 파티에 앞서서 오늘은 '카페인 없는 커피'를 주제로 한 세미나를 진행했습니다.\n",
      "오늘 세미나에서는 카페인이 건강에 미치는 영향에 대해 알아봤는데요.\n",
      "먼저 카페인은 몸에 해로운 영향을 주는 것으로 알려져 있습니다.\n",
      "커피전문점이나 패스트푸드점에서 많이 팔리는 카페라떼는 대부분 커피의 원재료가 되는 폴리페놀 성분이 들어있기 때문에 인체에 유해할 수 있다는 연구결과도 나왔습니다.</d> 지난해 12월\n",
      "7\n",
      "100\n",
      "green list 단어 개수 : 13\n",
      "red list 단어 개수 : 87\n",
      "green list 단어 비율 : 0.13\n",
      "red list 단어 비율 : 0.87\n",
      "Z-score: 1.0\n",
      "detection function : False\n",
      "prompt : 커뮤니티 클래스 참여\n"
     ]
    },
    {
     "name": "stderr",
     "output_type": "stream",
     "text": [
      "100%|██████████| 100/100 [00:14<00:00,  6.85it/s]\n"
     ]
    },
    {
     "name": "stdout",
     "output_type": "stream",
     "text": [
      "final sequence : 커뮤니티 클래스 참여자 중 추첨을 통해 총 50명에게 스타벅스 아메리카노 기프티콘을 증정한다.\n",
      "또한 오는 6월 30일까지 ‘스타벅스 커피 클래스(STARBUCK CONTER)’를 진행해 커피와 함께하는 다양한 이벤트를 진행할 예정이다.\n",
      "이벤트 참여 방법은 간단하다.\n",
      "커피전문점 카페베네 홈페이지(www.caffebene.kr)에서 이벤트 페이지에 접속하면 된다.\n",
      "당첨자는 7월 1일 발표된다.\n",
      "카페베네는 이번\n",
      "5\n",
      "100\n",
      "green list 단어 개수 : 15\n",
      "red list 단어 개수 : 85\n",
      "green list 단어 비율 : 0.15\n",
      "red list 단어 비율 : 0.85\n",
      "Z-score: 1.6666666666666667\n",
      "detection function : False\n",
      "prompt : 셀프 케어 루틴\n"
     ]
    },
    {
     "name": "stderr",
     "output_type": "stream",
     "text": [
      "100%|██████████| 100/100 [00:14<00:00,  6.84it/s]\n"
     ]
    },
    {
     "name": "stdout",
     "output_type": "stream",
     "text": [
      "final sequence : 셀프 케어 루틴을 통해 피부 속부터 탄력을 되찾아주는 것이 중요하다.\n",
      "특히, 최근 들어 미세먼지 등 외부 환경으로부터 피부를 보호해주는 기능성 화장품이 인기를 끌고 있다.\n",
      "피부 보습과 진정 효과를 동시에 얻을 수 있는 ‘에센스’ 성분이 함유된 제품들이 인기다.\n",
      "‘에센스’는 천연 유래 성분인 에코서트 성분을 함유해 피부에 영양감을 더해준다.\n",
      "또한 피부 진정과 수분 공급에 도움을 주는 비타민 B1, B2, C가 풍부한 식물성 오일이 함유되어 있어 촉촉하고\n",
      "6\n",
      "100\n",
      "green list 단어 개수 : 17\n",
      "red list 단어 개수 : 83\n",
      "green list 단어 비율 : 0.17\n",
      "red list 단어 비율 : 0.83\n",
      "Z-score: 2.3333333333333335\n",
      "detection function : False\n",
      "prompt : 장거리 걷기의 이점\n"
     ]
    },
    {
     "name": "stderr",
     "output_type": "stream",
     "text": [
      "100%|██████████| 100/100 [00:14<00:00,  6.86it/s]\n"
     ]
    },
    {
     "name": "stdout",
     "output_type": "stream",
     "text": [
      "final sequence : 장거리 걷기의 이점 때문에 많은 사람들이 걷기 운동을 하고 있다.\n",
      "걷기를 할 때 가장 중요한 것은 바로 걷는 것이다.\n",
      "이러한 이유로 걷기는 건강에도 도움이 된다.\n",
      "걷는 동안 체중을 감량하는 것이 중요하다.\n",
      "체중감량을 위해 운동할 때는 반드시 30분 정도 걸어야 한다.\n",
      "또한 하루 10분 이상 꾸준히 달리면 근육량이 늘어나게 되고 근력도 좋아진다.\n",
      "하지만 너무 오래 뛰지 말고 천천히 걷는 것도 좋다.\n",
      "운동 후 스트레칭을 통해 근육의 긴장을 풀어주고 혈액순환을 원활하게 해줘야 한다.</d>\n",
      "5\n",
      "100\n",
      "green list 단어 개수 : 9\n",
      "red list 단어 개수 : 91\n",
      "green list 단어 비율 : 0.09\n",
      "red list 단어 비율 : 0.91\n",
      "Z-score: -0.3333333333333333\n",
      "detection function : False\n",
      "prompt : 텃밭 가꾸기\n"
     ]
    },
    {
     "name": "stderr",
     "output_type": "stream",
     "text": [
      "100%|██████████| 100/100 [00:14<00:00,  6.84it/s]\n"
     ]
    },
    {
     "name": "stdout",
     "output_type": "stream",
     "text": [
      "final sequence : 텃밭 가꾸기 등 다양한 활동을 펼칠 예정이다.\n",
      "이번 행사는 지난해 11월부터 추진해온 '2017 희망나눔 캠페인'의 일환으로 마련됐다.\n",
      "희망나눔캠페인은 저소득층 아동에게 꿈과 희망을 심어주기 위해 매년 실시하고 있다.\n",
      "올해는 총 4억원의 예산을 들여 관내 취약계층 아동을 대상으로 한 교육 및 체험활동을 진행한다.\n",
      "또한 지역아동센터와 연계하여 방과 후 학교 프로그램을 운영할 계획이다.\n",
      "김영종 종로구청장은 \"앞으로도 소외된 이웃을 위한 나\n",
      "5\n",
      "100\n",
      "green list 단어 개수 : 12\n",
      "red list 단어 개수 : 88\n",
      "green list 단어 비율 : 0.12\n",
      "red list 단어 비율 : 0.88\n",
      "Z-score: 0.6666666666666666\n",
      "detection function : False\n",
      "prompt : 개인적인 스타일 개발\n"
     ]
    },
    {
     "name": "stderr",
     "output_type": "stream",
     "text": [
      "100%|██████████| 100/100 [00:14<00:00,  6.85it/s]\n"
     ]
    },
    {
     "name": "stdout",
     "output_type": "stream",
     "text": [
      "final sequence : 개인적인 스타일 개발에도 도움이 될 수 있다.\n",
      "이러한 스타일을 연출하기 위해서는 먼저 자신의 스타일링을 잘 살펴봐야 한다.\n",
      "자신의 개성을 살릴 수 있는 아이템은 무엇인지, 어떤 옷을 입어야 하는지 등을 꼼꼼히 따져보는 것이 좋다.\n",
      "또한 자신에게 어울리는 옷의 종류와 가격도 고려해 보는 것도 중요하다.\n",
      "최근에는 다양한 디자인의 제품을 선보이고 있지만 그 중에서도 가장 눈에 띄는 것은 바로 ‘패션’이다.\n",
      "특히 최근 유행하는 패딩이나 코트에 비해 상대적으로 가격이 저렴한 편인 코트나 재킷 등은\n",
      "3\n",
      "100\n",
      "green list 단어 개수 : 19\n",
      "red list 단어 개수 : 81\n",
      "green list 단어 비율 : 0.19\n",
      "red list 단어 비율 : 0.81\n",
      "Z-score: 3.0\n",
      "detection function : False\n",
      "prompt : 책 추천 공유\n"
     ]
    },
    {
     "name": "stderr",
     "output_type": "stream",
     "text": [
      "100%|██████████| 100/100 [00:14<00:00,  6.91it/s]\n"
     ]
    },
    {
     "name": "stdout",
     "output_type": "stream",
     "text": [
      "final sequence : 책 추천 공유 사이트인 ‘스마트폰 어플리케이션’을 통해서도 확인할 수 있다.\n",
      "이번 이벤트는 오는 31일까지 진행되며, 당첨자는 내달 1일 발표된다.\n",
      "한편 스마트워치 전문 브랜드 넥스트플로어는 지난해 11월 출시한 스마트 워치의 후속 모델로 다양한 기능을 갖춘 신제품 '워치 액티브'를 출시했다.\n",
      "'워치는 스마트폰을 위한 기능으로 사용자에게 편리함을 제공한다'는 콘셉트로 개발된 이 제품은 기존 제품보다 한층 업그레이드된 사용자 경험(U\n",
      "3\n",
      "100\n",
      "green list 단어 개수 : 11\n",
      "red list 단어 개수 : 89\n",
      "green list 단어 비율 : 0.11\n",
      "red list 단어 비율 : 0.89\n",
      "Z-score: 0.3333333333333333\n",
      "detection function : False\n",
      "prompt : 로컬 마켓 쇼핑\n"
     ]
    },
    {
     "name": "stderr",
     "output_type": "stream",
     "text": [
      "100%|██████████| 100/100 [00:14<00:00,  6.98it/s]\n"
     ]
    },
    {
     "name": "stdout",
     "output_type": "stream",
     "text": [
      "final sequence : 로컬 마켓 쇼핑몰을 통해 판매되는 상품은 총 6000여개다.\n",
      "이 중 절반에 가까운 약 2000개가 해외 직구상품으로 구성돼 있다.\n",
      "해외직구는 주로 온라인 쇼핑몰이 가장 많이 하는 것으로 나타났다.\n",
      "온라인쇼핑몰의 경우 지난달 기준 전체 거래액 가운데 해외직구가 차지하는 비중은 42%에 달한다.\n",
      "특히 최근 몇 년간 국내 소비자들이 해외에서 직접 구매하는 비중이 꾸준히 증가하고 있는 추세여서 향후에도 이 같은 추세는 지속될 전망이다.\n",
      "실제로 올 상반기(1~6월) 국내 온라인쇼핑\n",
      "5\n",
      "100\n",
      "green list 단어 개수 : 18\n",
      "red list 단어 개수 : 82\n",
      "green list 단어 비율 : 0.18\n",
      "red list 단어 비율 : 0.8200000000000001\n",
      "Z-score: 2.6666666666666665\n",
      "detection function : False\n",
      "prompt : 장기 게임의 즐거움\n"
     ]
    },
    {
     "name": "stderr",
     "output_type": "stream",
     "text": [
      "100%|██████████| 100/100 [00:14<00:00,  6.98it/s]\n"
     ]
    },
    {
     "name": "stdout",
     "output_type": "stream",
     "text": [
      "final sequence : 장기 게임의 즐거움도 함께 누릴 수 있다.\n",
      "이번 이벤트는 오는 31일까지 진행되며, 게임에 접속한 모든 유저에게 '게임머니'를 지급한다.\n",
      "또한, 이벤트 기간 동안 매일 선착순 100명에게 '아이패드 미니', 아이폰, 갤럭시탭 등 다양한 경품을 증정하며, 추첨을 통해 총 50명을 선정해 스타벅스 기프티콘과 문화상품권을 제공한다.\n",
      "이와 함께, 이번 이벤트를 기념해 신규 캐릭터인 '아쿠아맨'을 추가하고, 기존 캐릭\n",
      "5\n",
      "100\n",
      "green list 단어 개수 : 12\n",
      "red list 단어 개수 : 88\n",
      "green list 단어 비율 : 0.12\n",
      "red list 단어 비율 : 0.88\n",
      "Z-score: 0.6666666666666666\n",
      "detection function : False\n",
      "prompt : 가족과의 보드게임 밤\n"
     ]
    },
    {
     "name": "stderr",
     "output_type": "stream",
     "text": [
      "100%|██████████| 100/100 [00:14<00:00,  6.98it/s]\n"
     ]
    },
    {
     "name": "stdout",
     "output_type": "stream",
     "text": [
      "final sequence : 가족과의 보드게임 밤’ 이벤트를 진행한다.\n",
      "이벤트 기간 동안 매일 선착순 100명에게 ‘카페베네 커피’를 무료로 증정하며, 추첨을 통해 총 50명을 선정해 카페라떼 기프티콘과 함께 영화예매권 2매를 제공한다.\n",
      "또한 이벤트 참여자 중 매주 10명씩에게는 카페베네 아메리카노 교환권을, 매주 20명에게는 카페베네의 인기 음료인 ‘아메리카노 모카골드’와 ‘모짜렐라 치즈케이크’, 그리고 30명은 커피빈\n",
      "6\n",
      "100\n",
      "green list 단어 개수 : 15\n",
      "red list 단어 개수 : 85\n",
      "green list 단어 비율 : 0.15\n",
      "red list 단어 비율 : 0.85\n",
      "Z-score: 1.6666666666666667\n",
      "detection function : False\n",
      "prompt : 디지털 디톡스\n"
     ]
    },
    {
     "name": "stderr",
     "output_type": "stream",
     "text": [
      "100%|██████████| 100/100 [00:14<00:00,  6.99it/s]\n"
     ]
    },
    {
     "name": "stdout",
     "output_type": "stream",
     "text": [
      "final sequence : 디지털 디톡스 솔루션을 통해 고객들이 보다 편리하게 디톡스 서비스를 이용할 수 있도록 할 계획이다.\n",
      "디지털 디톡스는 디지털 기기를 이용해 다양한 기능을 구현할 수 있는 기술이다.\n",
      "기존에는 PC나 스마트폰, 태블릿PC 등 모바일 기기만 활용이 가능했다.\n",
      "하지만 이번 신제품은 기존 제품보다 더 많은 기능이 탑재돼 더욱 편리하고 빠른 사용이 가능하다.\n",
      "또한 스마트패드처럼 별도의 앱 설치 없이 바로 사용할 수도 있다.\n",
      "특히 이 제품은 삼성전자가 자체 개발한 ‘S펜’을 탑재해\n",
      "4\n",
      "100\n",
      "green list 단어 개수 : 12\n",
      "red list 단어 개수 : 88\n",
      "green list 단어 비율 : 0.12\n",
      "red list 단어 비율 : 0.88\n",
      "Z-score: 0.6666666666666666\n",
      "detection function : False\n",
      "prompt : 가까운 도시 탐험\n"
     ]
    },
    {
     "name": "stderr",
     "output_type": "stream",
     "text": [
      "100%|██████████| 100/100 [00:14<00:00,  7.01it/s]\n"
     ]
    },
    {
     "name": "stdout",
     "output_type": "stream",
     "text": [
      "final sequence : 가까운 도시 탐험을 통해 얻은 경험을 바탕으로 한 여행의 즐거움과 즐거움을 함께 나누고자 기획됐다.\n",
      "이번 행사는 오는 8월 31일까지 진행되며, 참가비는 무료다.\n",
      "참가 신청은 이메일(kimsang<unk>hanmail.net)로 하면 된다.\n",
      "한편 이번 행사에서는 ‘2017 서울국제관광전’ 홍보부스를 운영해 다양한 볼거리와 즐길거리를 제공한다.\n",
      "또한, 서울시 관광홍보대사로 위촉된 배우 박보검과 함께하는 포토존, 룰렛 이벤트, 페이스페\n",
      "3\n",
      "100\n",
      "green list 단어 개수 : 17\n",
      "red list 단어 개수 : 83\n",
      "green list 단어 비율 : 0.17\n",
      "red list 단어 비율 : 0.83\n",
      "Z-score: 2.3333333333333335\n",
      "detection function : False\n",
      "prompt : 수제 비누 만들기\n"
     ]
    },
    {
     "name": "stderr",
     "output_type": "stream",
     "text": [
      "100%|██████████| 100/100 [00:14<00:00,  7.01it/s]\n"
     ]
    },
    {
     "name": "stdout",
     "output_type": "stream",
     "text": [
      "final sequence : 수제 비누 만들기 체험, 천연비누 만들기 등 다양한 체험을 할 수 있다.\n",
      "또한 어린이날에는 가족들과 함께하는 '가족사랑 음악회'와 '우리집 아빠와 함께 하는 동화구연' 등의 프로그램이 마련돼 있어 자녀들에게 즐거운 시간을 선사할 예정이다.\n",
      "이외에도 행사장 내 마련된 포토존에서는 페이스페인팅과 풍선아트, 캐리커처 그리기, 페이스 페인팅을 통해 추억의 사진을 남길 수 있는 기회를 제공한다.\n",
      "행사 관계자는 \"어린이날을 맞아 가족과 연인, 친구\n",
      "3\n",
      "100\n",
      "green list 단어 개수 : 15\n",
      "red list 단어 개수 : 85\n",
      "green list 단어 비율 : 0.15\n",
      "red list 단어 비율 : 0.85\n",
      "Z-score: 1.6666666666666667\n",
      "detection function : False\n",
      "prompt : 로컬 아티스트 지원\n"
     ]
    },
    {
     "name": "stderr",
     "output_type": "stream",
     "text": [
      "100%|██████████| 100/100 [00:14<00:00,  6.98it/s]\n"
     ]
    },
    {
     "name": "stdout",
     "output_type": "stream",
     "text": [
      "final sequence : 로컬 아티스트 지원 및 창작활동 지원 등 다양한 프로그램을 운영할 계획이다.\n",
      "한편 이번 공모전은 지난해 12월 열린 ‘2017 대한민국 콘텐츠대상’에서 우수상을 수상한 바 있다.</d> 한국관광공사는 오는 27일부터 다음달 5일까지 서울 삼성동 코엑스에서 열리는 '제9회 국제관광박람회(IFTA)'에 참가한다고 25일 밝혔다.\n",
      "이번 박람회는 세계 각국의 관광산업 동향을 한눈에 볼 수 있는 전시회로 올해는 전년 대비 약 30% 증가한 총 3000여개 업체가 참가할 예정이다.\n",
      "특히,\n",
      "5\n",
      "100\n",
      "green list 단어 개수 : 18\n",
      "red list 단어 개수 : 82\n",
      "green list 단어 비율 : 0.18\n",
      "red list 단어 비율 : 0.8200000000000001\n",
      "Z-score: 2.6666666666666665\n",
      "detection function : False\n",
      "prompt : 실내 데코레이션 변경\n"
     ]
    },
    {
     "name": "stderr",
     "output_type": "stream",
     "text": [
      "100%|██████████| 100/100 [00:14<00:00,  6.94it/s]\n"
     ]
    },
    {
     "name": "stdout",
     "output_type": "stream",
     "text": [
      "final sequence : 실내 데코레이션 변경, 고객 편의성 강화 등을 통해 올해 매출 목표를 지난해(3조5000억원)보다 10% 증가한 3조2000억원으로 잡았다.\n",
      "이 회사는 또 내년부터 해외시장 공략을 위해 중국 베이징에 현지법인을 설립할 계획이다.\n",
      "중국 시장에서는 이미 진출한 베트남과 인도네시아 등 동남아 지역에서의 영업도 강화하고 있다.\n",
      "지난달에는 인도 시장에 진출하기 위한 양해각서(MOU)를 체결했다.\n",
      "인도네시아는 인구 1억명 이상의 거대 시장으로 연간 약 1000만명의 관광객이 찾는 관광도시\n",
      "5\n",
      "100\n",
      "green list 단어 개수 : 18\n",
      "red list 단어 개수 : 82\n",
      "green list 단어 비율 : 0.18\n",
      "red list 단어 비율 : 0.8200000000000001\n",
      "Z-score: 2.6666666666666665\n",
      "detection function : False\n",
      "prompt : 뜨개질의 즐거움\n"
     ]
    },
    {
     "name": "stderr",
     "output_type": "stream",
     "text": [
      "100%|██████████| 100/100 [00:14<00:00,  6.86it/s]\n"
     ]
    },
    {
     "name": "stdout",
     "output_type": "stream",
     "text": [
      "final sequence : 뜨개질의 즐거움도 함께 느낄 수 있다.\n",
      "이번 행사는 오는 27일까지 진행되며, 참가비는 무료다.\n",
      "한편 ‘2017 대한민국 퍼스트브랜드 대상’은 산업통상자원부가 주최하고 한국소비자단체협의회가 주관하는 행사로 올해로 6회째를 맞았다.</d> 현대자동차가 지난해 미국 시장에서 판매된 승용차 가운데 가장 많이 팔린 차량은 기아자동차 쏘울인 것으로 나타났다.\n",
      "현대차는 지난달 미국에서 5만8천7백여대를 팔아 전년 동월 대비 9.1% 증가했다고 1일 밝혔다.\n",
      "\n",
      "5\n",
      "100\n",
      "green list 단어 개수 : 18\n",
      "red list 단어 개수 : 82\n",
      "green list 단어 비율 : 0.18\n",
      "red list 단어 비율 : 0.8200000000000001\n",
      "Z-score: 2.6666666666666665\n",
      "detection function : False\n",
      "prompt : 핸드폰 배경화면 만들기\n"
     ]
    },
    {
     "name": "stderr",
     "output_type": "stream",
     "text": [
      "100%|██████████| 100/100 [00:14<00:00,  6.82it/s]\n"
     ]
    },
    {
     "name": "stdout",
     "output_type": "stream",
     "text": [
      "final sequence : 핸드폰 배경화면 만들기 등 다양한 기능을 제공한다.\n",
      "LG전자는 또 이달 중 휴대폰을 통해 사진과 동영상을 촬영할 수 있는 `사진 인화 서비스'를 선보일 예정이다.\n",
      "이 서비스는 LG전자 홈페이지(www.lge.co.kr)에서 신청하면 된다.\n",
      "한편 삼성전자와 팬택앤큐리텔은 지난해 12월 휴대전화용 카메라폰인 `SCH-V110'을 출시했다.</d> 한국과학기술원(KAIST) 생명화학공학과 김민수 교수팀은 최근 미국 캘리포니아\n",
      "7\n",
      "100\n",
      "green list 단어 개수 : 17\n",
      "red list 단어 개수 : 83\n",
      "green list 단어 비율 : 0.17\n",
      "red list 단어 비율 : 0.83\n",
      "Z-score: 2.3333333333333335\n",
      "detection function : False\n",
      "prompt : 지속 가능한 생활 실천\n"
     ]
    },
    {
     "name": "stderr",
     "output_type": "stream",
     "text": [
      "100%|██████████| 100/100 [00:14<00:00,  6.89it/s]\n"
     ]
    },
    {
     "name": "stdout",
     "output_type": "stream",
     "text": [
      "final sequence : 지속 가능한 생활 실천으로 지역경제 활성화에 기여하겠다\"고 말했다.</d> 서울중앙지검 특수1부(부장검사 이원석)는 이날 오전 10시30분부터 오후 1시까지 김 전 차관을 피의자 신분으로 불러 조사하고 있다.\n",
      "김 전 차관 측은 지난해 11월 검찰이 압수수색한 차량 블랙박스 영상과 관련, \"검찰에서 다 제출했다\"며 혐의를 부인했다.\n",
      "앞서 경찰은 전날 김씨에 대해 특정범죄가중처벌법상 뇌물 혐의로 구속영장을 신청했으나 법원은\n",
      "4\n",
      "100\n",
      "green list 단어 개수 : 10\n",
      "red list 단어 개수 : 90\n",
      "green list 단어 비율 : 0.1\n",
      "red list 단어 비율 : 0.9\n",
      "Z-score: 0.0\n",
      "detection function : False\n",
      "prompt : 주방 도구 정비\n"
     ]
    },
    {
     "name": "stderr",
     "output_type": "stream",
     "text": [
      "100%|██████████| 100/100 [00:14<00:00,  6.91it/s]\n"
     ]
    },
    {
     "name": "stdout",
     "output_type": "stream",
     "text": [
      "final sequence : 주방 도구 정비와 함께 주방용품을 세척하고 청소하는 등 집안 청소를 철저히 해 준다.\n",
      "또한 세탁 후 물기를 제거한 뒤 건조기를 이용해 말려주면 된다.\n",
      "이외에도 세제를 사용하지 않고 물로 헹궈주는 것도 잊지 말자.\n",
      "세탁 후에는 물기가 남아 있는 부분을 깨끗이 씻어내고 마른 수건으로 닦아내면 좋다.\n",
      "아울러 옷장 속 먼지를 털어내는 것은 물론 빨래를 널어두면 세균 번식을 막을 수 있다.\n",
      "빨래할 때는 물걸레로 구석구석 닦고 옷을 말리는\n",
      "4\n",
      "100\n",
      "green list 단어 개수 : 20\n",
      "red list 단어 개수 : 80\n",
      "green list 단어 비율 : 0.2\n",
      "red list 단어 비율 : 0.8\n",
      "Z-score: 3.3333333333333335\n",
      "detection function : False\n",
      "prompt : 전통 축제 참여\n"
     ]
    },
    {
     "name": "stderr",
     "output_type": "stream",
     "text": [
      "100%|██████████| 100/100 [00:14<00:00,  6.89it/s]\n"
     ]
    },
    {
     "name": "stdout",
     "output_type": "stream",
     "text": [
      "final sequence : 전통 축제 참여와 함께 지역경제 활성화를 위해 다양한 행사를 마련한다.\n",
      "이번 축제는 '2017 대한민국 축제박람회' 공식 홈페이지(www.festival.kr)를 통해 사전 신청을 받는다.\n",
      "사전 접수는 오는 21일부터 다음달 5일까지다.\n",
      "축제 기간 중 매일 오후 2시부터 5시까지 진행되는 개막식에는 가수 박상민, 김범수, 이적, 임창정, 최진희, 장윤정 등 유명 가수와 개그맨들이 출연해 축하공연을 펼친다.\n",
      "개막식은 식전\n",
      "3\n",
      "100\n",
      "green list 단어 개수 : 20\n",
      "red list 단어 개수 : 80\n",
      "green list 단어 비율 : 0.2\n",
      "red list 단어 비율 : 0.8\n",
      "Z-score: 3.3333333333333335\n",
      "detection function : False\n",
      "prompt : 친구와의 화상 통화\n"
     ]
    },
    {
     "name": "stderr",
     "output_type": "stream",
     "text": [
      "100%|██████████| 100/100 [00:14<00:00,  6.85it/s]\n"
     ]
    },
    {
     "name": "stdout",
     "output_type": "stream",
     "text": [
      "final sequence : 친구와의 화상 통화에서 “(김 전 대통령이) ‘너무 오래 살았다. 내가 잘 살 수 있도록 도와달라’고 말했다”고 말했다.\n",
      "이어 김 전 대통령은 “제가 (대통령이 된다면) 저도 대통령직을 수행하게 될 것”이라며 “그런데 제가 너무 오랫동안 살아왔기 때문에 그런 말씀을 하신 것 같다”고도 했다.\n",
      "그는 또 “이제 와서 무슨 말을 하겠느냐”는 질문에 대해선 “내가 할 말이 없는데 어떻게 그렇게까지 말할 수가 있느냐”고 반문했다.\n",
      "한편 이날 오전\n",
      "5\n",
      "100\n",
      "green list 단어 개수 : 15\n",
      "red list 단어 개수 : 85\n",
      "green list 단어 비율 : 0.15\n",
      "red list 단어 비율 : 0.85\n",
      "Z-score: 1.6666666666666667\n",
      "detection function : False\n",
      "prompt : 가족 사진 정리\n"
     ]
    },
    {
     "name": "stderr",
     "output_type": "stream",
     "text": [
      "100%|██████████| 100/100 [00:14<00:00,  6.91it/s]\n"
     ]
    },
    {
     "name": "stdout",
     "output_type": "stream",
     "text": [
      "final sequence : 가족 사진 정리\n",
      "#사진 #일상스타그램 <unk>dailyfood</d> 오늘은 저희 집 근처 카페에서 커피를 마시며\n",
      "커피 한잔을 마셨어요.\n",
      "이제 막 차를 마시고 있는 중이에요.\n",
      "저희는 이제 곧 다가올 여름 휴가 준비에 한창입니다.\n",
      "그래서 제가 선택한 곳이 바로 ``카페베네`>\n",
      "저는 이번에 방문한 카페베네의 매장을 찾았습니다.\n",
      "여기서는 아메리카노를 주문했답니다.\n",
      "아메리카노 가격은 2,000원 정도.\n",
      "그리고 카페라떼\n",
      "3\n",
      "100\n",
      "green list 단어 개수 : 24\n",
      "red list 단어 개수 : 76\n",
      "green list 단어 비율 : 0.24\n",
      "red list 단어 비율 : 0.76\n",
      "Z-score: 4.666666666666667\n",
      "detection function : True\n",
      "prompt : 주변 환경 정화 활동\n"
     ]
    },
    {
     "name": "stderr",
     "output_type": "stream",
     "text": [
      "100%|██████████| 100/100 [00:14<00:00,  6.80it/s]\n"
     ]
    },
    {
     "name": "stdout",
     "output_type": "stream",
     "text": [
      "final sequence : 주변 환경 정화 활동 등을 통해 환경보호 활동을 지속적으로 펼쳐나갈 계획이다.\n",
      "한편 지난해에는 총 3억원의 사업비를 투입, 관내 초등학교 주변과 학교 주변에 대한 정화활동을 펼쳤다.</d> 서울중앙지검 특수2부(부장검사 송경호)는 이날 오전 10시30분부터 오후 1시까지 김 전 차관을 피의자 신분으로 불러 조사하고 있다.\n",
      "김 전 차관 측은 \"검찰에서 진술할 내용이 많아 오늘은 출석하지 않을 것\"이라며 말을 아꼈다.\n",
      "앞서 검찰 특별수사\n",
      "4\n",
      "100\n",
      "green list 단어 개수 : 13\n",
      "red list 단어 개수 : 87\n",
      "green list 단어 비율 : 0.13\n",
      "red list 단어 비율 : 0.87\n",
      "Z-score: 1.0\n",
      "detection function : False\n",
      "prompt : 하루의 목표 세우기\n"
     ]
    },
    {
     "name": "stderr",
     "output_type": "stream",
     "text": [
      "100%|██████████| 100/100 [00:14<00:00,  6.84it/s]\n"
     ]
    },
    {
     "name": "stdout",
     "output_type": "stream",
     "text": [
      "final sequence : 하루의 목표 세우기다.\n",
      "이번 캠페인은 지난해 12월 31일부터 올 1월 1일까지 진행됐다.\n",
      "캠페인 기간 동안 총 1만5000여명이 참여해 약 4억원의 매출을 올렸다.\n",
      "특히, 이번 캠프에서는 ‘2017 대한민국 동행세일’ 행사에서 판매된 상품 중 가장 높은 수익률을 기록한 상품을 선정했다.\n",
      "‘대한민국 동행세일’은 코로나19로 인해 어려움을 겪고 있는 소상공인과 자영업자를 지원하기 위해 기획한 행사로 전국 주요 백화점과 대형마트, 온라인 쇼핑몰 등에서\n",
      "4\n",
      "100\n",
      "green list 단어 개수 : 12\n",
      "red list 단어 개수 : 88\n",
      "green list 단어 비율 : 0.12\n",
      "red list 단어 비율 : 0.88\n",
      "Z-score: 0.6666666666666666\n",
      "detection function : False\n",
      "prompt : 온라인 학습 코스\n"
     ]
    },
    {
     "name": "stderr",
     "output_type": "stream",
     "text": [
      " 52%|█████▏    | 52/100 [00:07<00:07,  6.83it/s]"
     ]
    }
   ],
   "source": [
    "detection_func(0.5,0.1, 100, 1.2)"
   ]
  },
  {
   "cell_type": "markdown",
   "metadata": {},
   "source": [
    "### Perplexity 계산"
   ]
  },
  {
   "cell_type": "code",
   "execution_count": null,
   "metadata": {},
   "outputs": [],
   "source": [
    "def calculate_perplexity(param_d, param_g, prompt_num):\n",
    "\n",
    "    with open(f'perplexity_g={param_g}_d={param_d}.txt', 'w') as f:  #file내용 clear\n",
    "        f.write('')\n",
    "\n",
    "    with open(f'output_g={param_g}_d={param_d}.txt', 'r') as file:\n",
    "        token_ids = [int(line.strip()) for line in file.readlines()]\n",
    "    \n",
    "    for _ in range(prompt_num) :\n",
    "      prompt_size = int(token_ids[0])\n",
    "      token_num = int(token_ids[1])\n",
    "\n",
    "      # Prepare to collect nll\n",
    "      log_probs = []\n",
    "\n",
    "      # Calculate the probability for each token in the list\n",
    "      for k in tqdm(range(prompt_size+3, prompt_size + token_num+3)):\n",
    "          # Prepare the input for the model: all previous tokens up to the k-th token\n",
    "          input_ids = tf.convert_to_tensor([token_ids[0:k]], dtype=tf.int32)\n",
    "          \n",
    "          # Get the logits from the model\n",
    "          outputs = model(input_ids)\n",
    "          logits = outputs.logits\n",
    "          \n",
    "          # Select the logits for the last position (k-th token prediction)\n",
    "          last_logits = logits[0, -1, :]\n",
    "          \n",
    "          # Apply softmax to convert logits to probabilities\n",
    "          token_probabilities = tf.nn.softmax(last_logits, axis=-1)\n",
    "          \n",
    "          # Get the probability of the k-th token\n",
    "          k_token_id = token_ids[k]\n",
    "          k_probability = token_probabilities[k_token_id].numpy()\n",
    "\n",
    "          # Calculate the log probability\n",
    "          log_prob = np.log(k_probability)\n",
    "          log_probs.append(log_prob)\n",
    "      \n",
    "      # Calculate the mean of the negative log probabilities\n",
    "      mean_nll = -np.mean(log_probs)\n",
    "        \n",
    "      # Calculate perplexity\n",
    "      perplexity = np.exp(mean_nll)\n",
    "      print(f\"perplexity : {perplexity}\")\n",
    "\n",
    "      with open(f'perplexity_g={param_g}_d={param_d}.txt', 'a') as f:  # with 문을 사용하여 파일을 열면 자동으로 닫힙니다.\n",
    "        f.write(str(perplexity) + '\\n')\n",
    "\n",
    "      #다음 프롬프트\n",
    "      if prompt_size + token_num + 2 <= len(token_ids) :\n",
    "          token_ids = token_ids[prompt_size + token_num + 2:]"
   ]
  },
  {
   "cell_type": "code",
   "execution_count": null,
   "metadata": {},
   "outputs": [
    {
     "ename": "NameError",
     "evalue": "name 'calculate_perplexity' is not defined",
     "output_type": "error",
     "traceback": [
      "\u001b[0;31m---------------------------------------------------------------------------\u001b[0m",
      "\u001b[0;31mNameError\u001b[0m                                 Traceback (most recent call last)",
      "Cell \u001b[0;32mIn[2], line 1\u001b[0m\n\u001b[0;32m----> 1\u001b[0m \u001b[43mcalculate_perplexity\u001b[49m(\u001b[38;5;241m10.0\u001b[39m,\u001b[38;5;241m0.5\u001b[39m,\u001b[38;5;241m100\u001b[39m)\n",
      "\u001b[0;31mNameError\u001b[0m: name 'calculate_perplexity' is not defined"
     ]
    }
   ],
   "source": [
    "calculate_perplexity(0.5,0.1,100)"
   ]
  },
  {
   "cell_type": "markdown",
   "metadata": {},
   "source": [
    "#### Token에 따른 detection_func"
   ]
  },
  {
   "cell_type": "code",
   "execution_count": 186,
   "metadata": {},
   "outputs": [],
   "source": [
    "def detection_func_for_token(final_sequence, logit_shape, gamma, delta, token_num, initial_ids) :\n",
    "    \n",
    "    input_ids_list = final_sequence[len(initial_ids[-1]):]\n",
    "    green_counts = 0\n",
    "    \n",
    "    seed = initial_ids[-1]\n",
    "    np.random.seed(seed)\n",
    "    indices = np.arange(logit_shape) #0~51999\n",
    "    green_list_size = int(logit_shape * gamma)  #25600\n",
    "    green_list = np.random.choice(indices, green_list_size, replace=False)\n",
    "    \n",
    "    num = 0\n",
    "    for id in input_ids_list :\n",
    "        \n",
    "        if id in green_list :\n",
    "            green_counts = green_counts + 1\n",
    "        #else :\n",
    "        #    print(tokenizer.decode(id))\n",
    "        \n",
    "        seed = id % logit_shape\n",
    "        #print(f\"seed in detection : {seed}\")\n",
    "        np.random.seed(seed)\n",
    "        \n",
    "        indices = np.arange(logit_shape) #0~51999\n",
    "        green_list_size = int(logit_shape * gamma)  #25600\n",
    "        green_list = np.random.choice(indices, green_list_size, replace=False)\n",
    "       #print(f\"detection greenList : {green_list}\")\n",
    "       \n",
    "        num += 1\n",
    "        \n",
    "\n",
    "    print(f\"green list 단어 개수 : {green_counts}\")\n",
    "    print(f\"red list 단어 개수 : {len(input_ids_list)-green_counts}\")\n",
    "    green_proportion = green_counts/len(input_ids_list) #u2\n",
    "    red_proportion = 1-green_proportion \n",
    "    #print(f\"green list 단어 비율 : {green_proportion}\")\n",
    "    #print(f\"red list 단어 비율 : {red_proportion}\")\n",
    "    #expected_proportion = 0.5 #green list 를 모를 것이다 -> H0 #u1\n",
    "    #std_error = np.sqrt(expected_proportion * (1 - expected_proportion) / len(input_ids))\n",
    "    #z_score = 2*(green_counts - len(input_ids_list)/2)/np.sqrt(len(input_ids_list)) #기댓값에서 많이 벗어나면 기각\n",
    "    z_score = (green_counts - len(input_ids_list)*gamma)/(np.sqrt(len(input_ids_list)*gamma*(1-gamma)))\n",
    "    #p_value = norm.sf(np.abs(z_score)) #기댓값에 못미치면 green list를 안다!\n",
    "    \n",
    "    with open(f'Z_score_g={gamma}_d={delta}_token.txt', 'a') as f:  # with 문을 사용하여 파일을 열면 자동으로 닫힙니다.\n",
    "        f.write(str(z_score) + '\\n')\n",
    "            \n",
    "    print(f\"Z-score: {z_score}\")\n",
    "    if z_score > 4 :\n",
    "        return True\n",
    "    else :\n",
    "        return False\n"
   ]
  },
  {
   "cell_type": "code",
   "execution_count": 199,
   "metadata": {},
   "outputs": [],
   "source": [
    "def token_detection(delta, gamma, prompt_num) :\n",
    "      with open(f'output_g={gamma}_d={delta}.txt', 'r') as file:\n",
    "            token_ids = [int(line.strip()) for line in file.readlines()]\n",
    "      #print(tokenizer.decode(token_ids[0:]))\n",
    "            \n",
    "      with open(f'Z_score_g={gamma}_d={delta}_token.txt', 'w') as f:\n",
    "            f.write('')\n",
    "            \n",
    "      for _ in range(0,1) :\n",
    "            prompt_size = int(token_ids[0])\n",
    "            token_num = int(token_ids[1])\n",
    "            token_ids = token_ids[prompt_size + token_num + 2:]\n",
    "            initial_ids = token_ids[2:2+prompt_size]\n",
    "            final_token = token_ids[2:prompt_size + token_num+2]\n",
    "            print(initial_ids)\n",
    "            print(final_token)\n",
    "            \n",
    "            for i in tqdm(range(1,prompt_size+token_num+1)) :\n",
    "                  if i>prompt_size :\n",
    "                        print(i)\n",
    "                        detection_func_for_token(final_token[0:i], 51200, gamma, delta, i, [initial_ids])\n",
    "\n",
    "            #다음 프롬프트\n",
    "            if prompt_size + token_num + 2 <= len(token_ids) :\n",
    "                  token_ids = token_ids[prompt_size + token_num + 2:]"
   ]
  },
  {
   "cell_type": "code",
   "execution_count": 209,
   "metadata": {},
   "outputs": [
    {
     "name": "stdout",
     "output_type": "stream",
     "text": [
      "[9450, 11088, 9480, 20244]\n",
      "[9450, 11088, 9480, 20244, 8098, 7235, 9304, 20166, 9025, 9029, 8146, 7623, 10647, 7162, 9194, 8347, 26347, 20244, 8098, 12141, 16727, 9036, 9882, 13230, 6903, 9494, 11328, 9021, 9389, 14465, 14453, 9052, 9450, 11088, 9480, 28881, 9103, 7049, 8705, 9025, 9080, 11153, 8148, 9194, 8347, 7607, 17196, 19534, 8563, 7428, 25843, 9233, 8429, 8643, 9225, 10488, 7249, 9029, 7335, 8704, 39735, 10741, 10251, 31412, 11204, 387, 39848, 9030, 35533, 20738, 8719, 18649, 24733, 26421, 22301, 10647, 9180, 13216, 36766, 9277, 9553, 6918, 10946, 26655, 37484, 9207, 12846, 9023, 9939, 9855, 50490, 41730, 18567, 9033, 15631, 26026, 8187, 9140, 19534, 8563, 7428, 13065, 10001, 9156]\n"
     ]
    },
    {
     "name": "stderr",
     "output_type": "stream",
     "text": [
      " 17%|█▋        | 18/104 [00:00<00:00, 174.15it/s]"
     ]
    },
    {
     "name": "stdout",
     "output_type": "stream",
     "text": [
      "5\n",
      "green list 단어 개수 : 1\n",
      "red list 단어 개수 : 0\n",
      "Z-score: 0.33333333333333326\n",
      "6\n",
      "green list 단어 개수 : 2\n",
      "red list 단어 개수 : 0\n",
      "Z-score: 0.4714045207910316\n",
      "7\n",
      "green list 단어 개수 : 3\n",
      "red list 단어 개수 : 0\n",
      "Z-score: 0.5773502691896255\n",
      "8\n",
      "green list 단어 개수 : 4\n",
      "red list 단어 개수 : 0\n",
      "Z-score: 0.6666666666666665\n",
      "9\n",
      "green list 단어 개수 : 5\n",
      "red list 단어 개수 : 0\n",
      "Z-score: 0.74535599249993\n",
      "10\n",
      "green list 단어 개수 : 6\n",
      "red list 단어 개수 : 0\n",
      "Z-score: 0.8164965809277257\n",
      "11\n",
      "green list 단어 개수 : 7\n",
      "red list 단어 개수 : 0\n",
      "Z-score: 0.8819171036881972\n",
      "12\n",
      "green list 단어 개수 : 8\n",
      "red list 단어 개수 : 0\n",
      "Z-score: 0.9428090415820632\n",
      "13\n",
      "green list 단어 개수 : 9\n",
      "red list 단어 개수 : 0\n",
      "Z-score: 1.0000000000000004\n",
      "14\n",
      "green list 단어 개수 : 10\n",
      "red list 단어 개수 : 0\n",
      "Z-score: 1.0540925533894598\n",
      "15\n",
      "green list 단어 개수 : 11\n",
      "red list 단어 개수 : 0\n",
      "Z-score: 1.105541596785133\n",
      "16\n",
      "green list 단어 개수 : 12\n",
      "red list 단어 개수 : 0\n",
      "Z-score: 1.154700538379251\n",
      "17\n",
      "green list 단어 개수 : 13\n",
      "red list 단어 개수 : 0\n",
      "Z-score: 1.2018504251546622\n",
      "18\n",
      "green list 단어 개수 : 14\n",
      "red list 단어 개수 : 0\n",
      "Z-score: 1.2472191289246477\n",
      "19\n",
      "green list 단어 개수 : 15\n",
      "red list 단어 개수 : 0\n",
      "Z-score: 1.2909944487358058\n",
      "20\n",
      "green list 단어 개수 : 16\n",
      "red list 단어 개수 : 0\n",
      "Z-score: 1.333333333333333\n",
      "21\n",
      "green list 단어 개수 : 17\n",
      "red list 단어 개수 : 0\n",
      "Z-score: 1.374368541872553\n",
      "22\n",
      "green list 단어 개수 : 18\n",
      "red list 단어 개수 : 0\n",
      "Z-score: 1.4142135623730956\n",
      "23\n",
      "green list 단어 개수 : 19\n",
      "red list 단어 개수 : 0\n",
      "Z-score: 1.452966314513557\n",
      "24\n",
      "green list 단어 개수 : 20\n",
      "red list 단어 개수 : 0\n",
      "Z-score: 1.49071198499986\n",
      "25\n",
      "green list 단어 개수 : 21\n",
      "red list 단어 개수 : 0\n",
      "Z-score: 1.527525231651945\n",
      "26\n",
      "green list 단어 개수 : 22\n",
      "red list 단어 개수 : 0\n",
      "Z-score: 1.5634719199411429\n",
      "27\n",
      "green list 단어 개수 : 23\n",
      "red list 단어 개수 : 0\n",
      "Z-score: 1.5986105077709072\n",
      "28\n",
      "green list 단어 개수 : 24\n",
      "red list 단어 개수 : 0\n",
      "Z-score: 1.6329931618554514\n",
      "29\n",
      "green list 단어 개수 : 25\n",
      "red list 단어 개수 : 0\n",
      "Z-score: 1.666666666666667\n",
      "30\n",
      "green list 단어 개수 : 26\n",
      "red list 단어 개수 : 0\n",
      "Z-score: 1.6996731711975936\n",
      "31\n",
      "green list 단어 개수 : 27\n",
      "red list 단어 개수 : 0\n",
      "Z-score: 1.732050807568877\n",
      "32\n",
      "green list 단어 개수 : 28\n",
      "red list 단어 개수 : 0\n",
      "Z-score: 1.7638342073763944\n",
      "33\n",
      "green list 단어 개수 : 29\n",
      "red list 단어 개수 : 0\n",
      "Z-score: 1.7950549357115007\n",
      "34\n",
      "green list 단어 개수 : 30\n",
      "red list 단어 개수 : 0\n",
      "Z-score: 1.8257418583505538\n",
      "35\n",
      "green list 단어 개수 : 31\n",
      "red list 단어 개수 : 0\n",
      "Z-score: 1.8559214542766727\n",
      "36\n"
     ]
    },
    {
     "name": "stderr",
     "output_type": "stream",
     "text": [
      " 35%|███▍      | 36/104 [00:00<00:00, 78.27it/s] "
     ]
    },
    {
     "name": "stdout",
     "output_type": "stream",
     "text": [
      "green list 단어 개수 : 32\n",
      "red list 단어 개수 : 0\n",
      "Z-score: 1.8856180831641265\n",
      "37\n",
      "green list 단어 개수 : 33\n",
      "red list 단어 개수 : 0\n",
      "Z-score: 1.9148542155126769\n",
      "38\n",
      "green list 단어 개수 : 34\n",
      "red list 단어 개수 : 0\n",
      "Z-score: 1.9436506316150997\n",
      "39\n",
      "green list 단어 개수 : 35\n",
      "red list 단어 개수 : 0\n",
      "Z-score: 1.972026594366539\n",
      "40\n",
      "green list 단어 개수 : 36\n",
      "red list 단어 개수 : 0\n",
      "Z-score: 2.000000000000001\n",
      "41\n",
      "green list 단어 개수 : 37\n",
      "red list 단어 개수 : 0\n",
      "Z-score: 2.027587510099404\n",
      "42\n",
      "green list 단어 개수 : 38\n",
      "red list 단어 개수 : 0\n",
      "Z-score: 2.0548046676563243\n",
      "43\n",
      "green list 단어 개수 : 39\n",
      "red list 단어 개수 : 0\n",
      "Z-score: 2.081665999466132\n",
      "44\n"
     ]
    },
    {
     "name": "stderr",
     "output_type": "stream",
     "text": [
      " 45%|████▌     | 47/104 [00:00<00:01, 55.48it/s]"
     ]
    },
    {
     "name": "stdout",
     "output_type": "stream",
     "text": [
      "green list 단어 개수 : 40\n",
      "red list 단어 개수 : 0\n",
      "Z-score: 2.1081851067789197\n",
      "45\n",
      "green list 단어 개수 : 41\n",
      "red list 단어 개수 : 0\n",
      "Z-score: 2.1343747458109505\n",
      "46\n",
      "green list 단어 개수 : 42\n",
      "red list 단어 개수 : 0\n",
      "Z-score: 2.1602468994692847\n",
      "47\n",
      "green list 단어 개수 : 43\n",
      "red list 단어 개수 : 0\n",
      "Z-score: 2.185812841433999\n",
      "48\n",
      "green list 단어 개수 : 44\n",
      "red list 단어 개수 : 0\n",
      "Z-score: 2.211083193570266\n",
      "49\n",
      "green list 단어 개수 : 45\n",
      "red list 단어 개수 : 0\n",
      "Z-score: 2.23606797749979\n",
      "50\n",
      "green list 단어 개수 : 46\n",
      "red list 단어 개수 : 0\n",
      "Z-score: 2.2607766610417572\n",
      "51\n"
     ]
    },
    {
     "name": "stderr",
     "output_type": "stream",
     "text": [
      " 53%|█████▎    | 55/104 [00:01<00:01, 44.38it/s]"
     ]
    },
    {
     "name": "stdout",
     "output_type": "stream",
     "text": [
      "green list 단어 개수 : 47\n",
      "red list 단어 개수 : 0\n",
      "Z-score: 2.2852182001336794\n",
      "52\n",
      "green list 단어 개수 : 48\n",
      "red list 단어 개수 : 0\n",
      "Z-score: 2.309401076758502\n",
      "53\n",
      "green list 단어 개수 : 49\n",
      "red list 단어 개수 : 0\n",
      "Z-score: 2.333333333333333\n",
      "54\n",
      "green list 단어 개수 : 50\n",
      "red list 단어 개수 : 0\n",
      "Z-score: 2.3570226039551585\n",
      "55\n",
      "green list 단어 개수 : 51\n",
      "red list 단어 개수 : 0\n",
      "Z-score: 2.380476142847618\n",
      "56\n",
      "green list 단어 개수 : 52\n",
      "red list 단어 개수 : 0\n",
      "Z-score: 2.4037008503093245\n",
      "57\n"
     ]
    },
    {
     "name": "stderr",
     "output_type": "stream",
     "text": [
      " 59%|█████▊    | 61/104 [00:01<00:01, 37.52it/s]"
     ]
    },
    {
     "name": "stdout",
     "output_type": "stream",
     "text": [
      "green list 단어 개수 : 53\n",
      "red list 단어 개수 : 0\n",
      "Z-score: 2.426703296426838\n",
      "58\n",
      "green list 단어 개수 : 54\n",
      "red list 단어 개수 : 0\n",
      "Z-score: 2.4494897427831774\n",
      "59\n",
      "green list 단어 개수 : 55\n",
      "red list 단어 개수 : 0\n",
      "Z-score: 2.472066162365221\n",
      "60\n",
      "green list 단어 개수 : 56\n",
      "red list 단어 개수 : 0\n",
      "Z-score: 2.4944382578492954\n",
      "61\n",
      "green list 단어 개수 : 57\n",
      "red list 단어 개수 : 0\n",
      "Z-score: 2.5166114784235813\n",
      "62\n"
     ]
    },
    {
     "name": "stderr",
     "output_type": "stream",
     "text": [
      " 63%|██████▎   | 66/104 [00:01<00:01, 33.15it/s]"
     ]
    },
    {
     "name": "stdout",
     "output_type": "stream",
     "text": [
      "green list 단어 개수 : 58\n",
      "red list 단어 개수 : 0\n",
      "Z-score: 2.5385910352879684\n",
      "63\n",
      "green list 단어 개수 : 59\n",
      "red list 단어 개수 : 0\n",
      "Z-score: 2.5603819159562025\n",
      "64\n",
      "green list 단어 개수 : 60\n",
      "red list 단어 개수 : 0\n",
      "Z-score: 2.5819888974716116\n",
      "65\n",
      "green list 단어 개수 : 61\n",
      "red list 단어 개수 : 0\n",
      "Z-score: 2.6034165586355527\n",
      "66\n",
      "green list 단어 개수 : 62\n",
      "red list 단어 개수 : 0\n",
      "Z-score: 2.624669291337269\n",
      "67\n"
     ]
    },
    {
     "name": "stderr",
     "output_type": "stream",
     "text": [
      " 67%|██████▋   | 70/104 [00:01<00:01, 29.96it/s]"
     ]
    },
    {
     "name": "stdout",
     "output_type": "stream",
     "text": [
      "green list 단어 개수 : 63\n",
      "red list 단어 개수 : 0\n",
      "Z-score: 2.6457513110645894\n",
      "68\n",
      "green list 단어 개수 : 64\n",
      "red list 단어 개수 : 0\n",
      "Z-score: 2.666666666666666\n",
      "69\n",
      "green list 단어 개수 : 65\n",
      "red list 단어 개수 : 0\n",
      "Z-score: 2.68741924943285\n",
      "70\n",
      "green list 단어 개수 : 66\n",
      "red list 단어 개수 : 0\n",
      "Z-score: 2.708012801545321\n",
      "71\n",
      "green list 단어 개수 : 67\n",
      "red list 단어 개수 : 0\n",
      "Z-score: 2.7284509239574817\n",
      "72\n"
     ]
    },
    {
     "name": "stderr",
     "output_type": "stream",
     "text": [
      " 71%|███████   | 74/104 [00:01<00:01, 27.07it/s]"
     ]
    },
    {
     "name": "stdout",
     "output_type": "stream",
     "text": [
      "green list 단어 개수 : 68\n",
      "red list 단어 개수 : 0\n",
      "Z-score: 2.748737083745106\n",
      "73\n",
      "green list 단어 개수 : 69\n",
      "red list 단어 개수 : 0\n",
      "Z-score: 2.7688746209726913\n",
      "74\n",
      "green list 단어 개수 : 70\n",
      "red list 단어 개수 : 0\n",
      "Z-score: 2.7888667551135855\n",
      "75\n",
      "green list 단어 개수 : 71\n",
      "red list 단어 개수 : 0\n",
      "Z-score: 2.8087165910587872\n",
      "76\n"
     ]
    },
    {
     "name": "stderr",
     "output_type": "stream",
     "text": [
      " 74%|███████▍  | 77/104 [00:02<00:01, 24.46it/s]"
     ]
    },
    {
     "name": "stdout",
     "output_type": "stream",
     "text": [
      "green list 단어 개수 : 72\n",
      "red list 단어 개수 : 0\n",
      "Z-score: 2.828427124746191\n",
      "77\n",
      "green list 단어 개수 : 73\n",
      "red list 단어 개수 : 0\n",
      "Z-score: 2.848001248439176\n",
      "78\n",
      "green list 단어 개수 : 74\n",
      "red list 단어 개수 : 0\n",
      "Z-score: 2.8674417556808725\n",
      "79\n",
      "green list 단어 개수 : 75\n",
      "red list 단어 개수 : 0\n",
      "Z-score: 2.886751345948129\n",
      "80\n"
     ]
    },
    {
     "name": "stderr",
     "output_type": "stream",
     "text": [
      " 80%|███████▉  | 83/104 [00:02<00:00, 21.40it/s]"
     ]
    },
    {
     "name": "stdout",
     "output_type": "stream",
     "text": [
      "green list 단어 개수 : 76\n",
      "red list 단어 개수 : 0\n",
      "Z-score: 2.905932629027114\n",
      "81\n",
      "green list 단어 개수 : 77\n",
      "red list 단어 개수 : 0\n",
      "Z-score: 2.924988129130709\n",
      "82\n",
      "green list 단어 개수 : 78\n",
      "red list 단어 개수 : 0\n",
      "Z-score: 2.9439202887759484\n",
      "83\n",
      "green list 단어 개수 : 79\n",
      "red list 단어 개수 : 0\n",
      "Z-score: 2.9627314724385267\n",
      "84\n"
     ]
    },
    {
     "name": "stderr",
     "output_type": "stream",
     "text": [
      " 83%|████████▎ | 86/104 [00:02<00:00, 20.09it/s]"
     ]
    },
    {
     "name": "stdout",
     "output_type": "stream",
     "text": [
      "green list 단어 개수 : 80\n",
      "red list 단어 개수 : 0\n",
      "Z-score: 2.98142396999972\n",
      "85\n",
      "green list 단어 개수 : 81\n",
      "red list 단어 개수 : 0\n",
      "Z-score: 2.9999999999999982\n",
      "86\n",
      "green list 단어 개수 : 82\n",
      "red list 단어 개수 : 0\n",
      "Z-score: 3.0184617127124733\n",
      "87\n",
      "green list 단어 개수 : 83\n",
      "red list 단어 개수 : 0\n",
      "Z-score: 3.036811193048099\n",
      "88\n"
     ]
    },
    {
     "name": "stderr",
     "output_type": "stream",
     "text": [
      " 87%|████████▋ | 90/104 [00:02<00:00, 18.40it/s]"
     ]
    },
    {
     "name": "stdout",
     "output_type": "stream",
     "text": [
      "green list 단어 개수 : 84\n",
      "red list 단어 개수 : 0\n",
      "Z-score: 3.05505046330389\n",
      "89\n",
      "green list 단어 개수 : 85\n",
      "red list 단어 개수 : 0\n",
      "Z-score: 3.073181485764296\n",
      "90\n",
      "green list 단어 개수 : 86\n",
      "red list 단어 개수 : 0\n",
      "Z-score: 3.0912061651652327\n",
      "91\n",
      "green list 단어 개수 : 87\n",
      "red list 단어 개수 : 0\n",
      "Z-score: 3.109126351029606\n",
      "92\n"
     ]
    },
    {
     "name": "stderr",
     "output_type": "stream",
     "text": [
      " 90%|█████████ | 94/104 [00:03<00:00, 16.66it/s]"
     ]
    },
    {
     "name": "stdout",
     "output_type": "stream",
     "text": [
      "green list 단어 개수 : 88\n",
      "red list 단어 개수 : 0\n",
      "Z-score: 3.1269438398822857\n",
      "93\n",
      "green list 단어 개수 : 89\n",
      "red list 단어 개수 : 0\n",
      "Z-score: 3.144660377352198\n",
      "94\n",
      "green list 단어 개수 : 90\n",
      "red list 단어 개수 : 0\n",
      "Z-score: 3.1622776601683795\n",
      "95\n"
     ]
    },
    {
     "name": "stderr",
     "output_type": "stream",
     "text": [
      " 94%|█████████▍| 98/104 [00:03<00:00, 15.77it/s]"
     ]
    },
    {
     "name": "stdout",
     "output_type": "stream",
     "text": [
      "green list 단어 개수 : 91\n",
      "red list 단어 개수 : 0\n",
      "Z-score: 3.179797338056484\n",
      "96\n",
      "green list 단어 개수 : 92\n",
      "red list 단어 개수 : 0\n",
      "Z-score: 3.1972210155418144\n",
      "97\n",
      "green list 단어 개수 : 93\n",
      "red list 단어 개수 : 0\n",
      "Z-score: 3.214550253664317\n",
      "98\n",
      "green list 단어 개수 : 94\n",
      "red list 단어 개수 : 0\n",
      "Z-score: 3.2317865716108836\n"
     ]
    },
    {
     "name": "stderr",
     "output_type": "stream",
     "text": [
      " 96%|█████████▌| 100/104 [00:03<00:00, 15.35it/s]"
     ]
    },
    {
     "name": "stdout",
     "output_type": "stream",
     "text": [
      "99\n",
      "green list 단어 개수 : 95\n",
      "red list 단어 개수 : 0\n",
      "Z-score: 3.2489314482696545\n",
      "100\n",
      "green list 단어 개수 : 96\n",
      "red list 단어 개수 : 0\n",
      "Z-score: 3.265986323710903\n",
      "101\n"
     ]
    },
    {
     "name": "stderr",
     "output_type": "stream",
     "text": [
      " 98%|█████████▊| 102/104 [00:03<00:00, 14.96it/s]"
     ]
    },
    {
     "name": "stdout",
     "output_type": "stream",
     "text": [
      "green list 단어 개수 : 97\n",
      "red list 단어 개수 : 0\n",
      "Z-score: 3.282952600598703\n",
      "102\n",
      "green list 단어 개수 : 98\n",
      "red list 단어 개수 : 0\n",
      "Z-score: 3.2998316455372207\n",
      "103\n",
      "green list 단어 개수 : 99\n",
      "red list 단어 개수 : 0\n",
      "Z-score: 3.316624790355397\n",
      "104\n"
     ]
    },
    {
     "name": "stderr",
     "output_type": "stream",
     "text": [
      "100%|██████████| 104/104 [00:03<00:00, 27.61it/s]"
     ]
    },
    {
     "name": "stdout",
     "output_type": "stream",
     "text": [
      "green list 단어 개수 : 100\n",
      "red list 단어 개수 : 0\n",
      "Z-score: 3.333333333333334\n"
     ]
    },
    {
     "name": "stderr",
     "output_type": "stream",
     "text": [
      "\n"
     ]
    }
   ],
   "source": [
    "token_detection(5.0,0.9,100)"
   ]
  },
  {
   "cell_type": "markdown",
   "metadata": {},
   "source": [
    "### Output Token 색깔 확인"
   ]
  },
  {
   "cell_type": "code",
   "execution_count": 81,
   "metadata": {},
   "outputs": [],
   "source": [
    "def detection_output_token_color(final_sequence, logit_shape, gamma, initial_ids) :\n",
    "    \n",
    "    input_ids_list = final_sequence\n",
    "    green_counts = 0\n",
    "    \n",
    "    seed = initial_ids[-1]\n",
    "    np.random.seed(seed)\n",
    "    indices = np.arange(logit_shape) #0~51999\n",
    "    green_list_size = int(logit_shape * gamma)  #25600\n",
    "    green_list = np.random.choice(indices, green_list_size, replace=False)\n",
    "    \n",
    "    num = 0\n",
    "    green_token_represent = []\n",
    "    \n",
    "    for id in input_ids_list :\n",
    "        \n",
    "        if id in green_list :\n",
    "            green_counts = green_counts + 1\n",
    "            green_token_represent.append(tokenizer.decode(id))\n",
    "        \n",
    "        seed = id % logit_shape\n",
    "        #print(f\"seed in detection : {seed}\")\n",
    "        np.random.seed(seed)\n",
    "        indices = np.arange(logit_shape) #0~51999\n",
    "        green_list_size = int(logit_shape * gamma)  #25600\n",
    "        green_list = np.random.choice(indices, green_list_size, replace=False)\n",
    "       #print(f\"detection greenList : {green_list}\")\n",
    "       \n",
    "        num += 1\n",
    "        \n",
    "    print(f\"green token sequence : {green_token_represent}\")\n",
    "    print(f\"green list 단어 개수 : {green_counts}\")\n",
    "    print(f\"red list 단어 개수 : {len(input_ids_list)-green_counts}\")\n"
   ]
  },
  {
   "cell_type": "code",
   "execution_count": 82,
   "metadata": {},
   "outputs": [
    {
     "name": "stdout",
     "output_type": "stream",
     "text": [
      "책 읽기의 즐거움도 함께 느낄 것이다.\n",
      "이번 전시는 '책과 세상을 잇는 길'이라는 주제 하에 작가인 김혜숙씨가 참여했다.\n",
      "책읽기의 즐거움뿐만 아니라, 책을 통해 삶의 지혜와 지혜를 배울 수 있는 자리다.\n",
      "김씨는 \"'책은 읽는 사람'과 '책을 읽어야만 사는 사람'의 차이를 이해하고 책 읽는 사람의 마음을 이해하는 것이 중요하다”며 “이런 점에서 이번에 마련한 특별전은 독서문화의 새로운 지평(知평을 넓힘으로써, 책과 사람을 잇는 길을 제시해 준다”고 말했다.\n",
      "한편 서울시는 오는\n",
      "[9450, 11088, 9480, 20244, 8098, 7235, 9304, 20166, 9257, 8146, 7623, 10647, 7162, 9194, 28175, 14757, 14140, 9367, 12951, 14283, 22651, 10892, 8148, 9324, 8746, 7848, 15389, 18992, 8347, 8150, 9480, 20244, 8098, 11314, 12105, 13216, 9430, 13368, 48730, 30528, 35315, 9025, 9080, 10300, 9017, 6963, 16372, 10063, 382, 16095, 26347, 9179, 17196, 9194, 12115, 11088, 11992, 7489, 11594, 9179, 12479, 14632, 20771, 9450, 26347, 10829, 13489, 17450, 9199, 9861, 8702, 15910, 7530, 22137, 7399, 10943, 9018, 18554, 30175, 10228, 11865, 19534, 15820, 9689, 9027, 13825, 4267, 15558, 9849, 45858, 387, 39735, 11389, 14140, 13165, 10657, 8711, 9701, 26973, 13525, 8704, 8652, 9563, 11768, 14472]\n",
      "green token sequence : ['책', '즐거', '움', '도', '함께', '느낄', '것이다.\\n', '이', '번', '전시', '는', \"'\", '책과', '세상을', '잇는', '길', \"'이라는\", '주제', '하에', '작가', '인', '김', '혜', '숙', '씨가', '참여했다.\\n', '책', '읽', '기의', '즐거', '움', '뿐만', '아니라,', '책을', '통해', '삶의', '지혜와', '지혜를', '배울', '수', '있는', '자리', '다.\\n', '김', '씨는', '\"', \"'\", '책은', '읽는', '사람', \"'과\", \"'\", '책을', '읽', '어야', '만', '사는', '사람', \"'의\", '차이를', '이해하고', '책', '읽는', '사람의', '마음을', '이해하는', '것이', '중요', '하', '다”', '며', '“이', '런', '점에서', '이', '번에', '마련한', '특별', '전은', '독서', '문화의', '새로운', '지', '평(', '知', '평을', '넓', '힘으로써', ',', '책과', '사람을', '잇는', '길을', '제시', '해', '준', '다”고', '말했다.\\n', '한', '편', '서울', '시는', '오는']\n",
      "green list 단어 개수 : 103\n",
      "red list 단어 개수 : 2\n"
     ]
    }
   ],
   "source": [
    "with open(f'test_output.txt', 'r') as file:\n",
    "    token_ids = [int(line.strip()) for line in file.readlines()]\n",
    "final_sequence = token_ids\n",
    "print(tokenizer.decode(final_sequence))\n",
    "print(final_sequence)\n",
    "initial_ids = final_sequence[0:4]\n",
    "detection_output_token_color(final_sequence, 51200, 0.5, initial_ids) "
   ]
  },
  {
   "cell_type": "markdown",
   "metadata": {},
   "source": [
    "#### Output으로 Z-score만 계산하기"
   ]
  },
  {
   "cell_type": "code",
   "execution_count": 109,
   "metadata": {},
   "outputs": [],
   "source": [
    "\n",
    "def calculate_only_zscore(param_d, param_g, token_num, penalty_coefficient, prompt_num):\n",
    "\n",
    "    with open(f'Z_score_g={param_g}_d={param_d}.txt', 'w') as f:  #file내용 clear\n",
    "        f.write('')\n",
    "      \n",
    "    with open(f'output_g={param_g}_d={param_d}.txt', 'r') as file:\n",
    "        token_ids = [int(line.strip()) for line in file.readlines()]\n",
    "      \n",
    "    for _ in range(prompt_num) :\n",
    "        prompt_size = int(token_ids[0])\n",
    "        token_num = int(token_ids[1])\n",
    "        initial_ids = token_ids[2:2+prompt_size]\n",
    "        final_token = token_ids[2:prompt_size + token_num+2]\n",
    "        final_token = tokenizer.decode(final_token)\n",
    "        print(f\"final sequence : {final_token}\")\n",
    "        print(f\"detection function : {detection(final_token, 51200, param_g, param_d, token_num, [initial_ids])}\")\n",
    "        \n",
    "        if prompt_size + token_num + 2 <= len(token_ids) :\n",
    "            token_ids = token_ids[prompt_size + token_num + 2:]"
   ]
  },
  {
   "cell_type": "code",
   "execution_count": 121,
   "metadata": {},
   "outputs": [
    {
     "ename": "FileNotFoundError",
     "evalue": "[Errno 2] No such file or directory: 'output_g=0.1_d=0.5.txt'",
     "output_type": "error",
     "traceback": [
      "\u001b[0;31m---------------------------------------------------------------------------\u001b[0m",
      "\u001b[0;31mFileNotFoundError\u001b[0m                         Traceback (most recent call last)",
      "Cell \u001b[0;32mIn[121], line 1\u001b[0m\n\u001b[0;32m----> 1\u001b[0m \u001b[43mcalculate_only_zscore\u001b[49m\u001b[43m(\u001b[49m\u001b[38;5;241;43m0.5\u001b[39;49m\u001b[43m,\u001b[49m\u001b[43m \u001b[49m\u001b[38;5;241;43m0.1\u001b[39;49m\u001b[43m,\u001b[49m\u001b[43m \u001b[49m\u001b[38;5;241;43m100\u001b[39;49m\u001b[43m,\u001b[49m\u001b[43m \u001b[49m\u001b[38;5;241;43m1.2\u001b[39;49m\u001b[43m,\u001b[49m\u001b[43m \u001b[49m\u001b[38;5;241;43m100\u001b[39;49m\u001b[43m)\u001b[49m\n",
      "Cell \u001b[0;32mIn[109], line 6\u001b[0m, in \u001b[0;36mcalculate_only_zscore\u001b[0;34m(param_d, param_g, token_num, penalty_coefficient, prompt_num)\u001b[0m\n\u001b[1;32m      3\u001b[0m \u001b[38;5;28;01mwith\u001b[39;00m \u001b[38;5;28mopen\u001b[39m(\u001b[38;5;124mf\u001b[39m\u001b[38;5;124m'\u001b[39m\u001b[38;5;124mZ_score_g=\u001b[39m\u001b[38;5;132;01m{\u001b[39;00mparam_g\u001b[38;5;132;01m}\u001b[39;00m\u001b[38;5;124m_d=\u001b[39m\u001b[38;5;132;01m{\u001b[39;00mparam_d\u001b[38;5;132;01m}\u001b[39;00m\u001b[38;5;124m.txt\u001b[39m\u001b[38;5;124m'\u001b[39m, \u001b[38;5;124m'\u001b[39m\u001b[38;5;124mw\u001b[39m\u001b[38;5;124m'\u001b[39m) \u001b[38;5;28;01mas\u001b[39;00m f:  \u001b[38;5;66;03m#file내용 clear\u001b[39;00m\n\u001b[1;32m      4\u001b[0m     f\u001b[38;5;241m.\u001b[39mwrite(\u001b[38;5;124m'\u001b[39m\u001b[38;5;124m'\u001b[39m)\n\u001b[0;32m----> 6\u001b[0m \u001b[38;5;28;01mwith\u001b[39;00m \u001b[38;5;28;43mopen\u001b[39;49m\u001b[43m(\u001b[49m\u001b[38;5;124;43mf\u001b[39;49m\u001b[38;5;124;43m'\u001b[39;49m\u001b[38;5;124;43moutput_g=\u001b[39;49m\u001b[38;5;132;43;01m{\u001b[39;49;00m\u001b[43mparam_g\u001b[49m\u001b[38;5;132;43;01m}\u001b[39;49;00m\u001b[38;5;124;43m_d=\u001b[39;49m\u001b[38;5;132;43;01m{\u001b[39;49;00m\u001b[43mparam_d\u001b[49m\u001b[38;5;132;43;01m}\u001b[39;49;00m\u001b[38;5;124;43m.txt\u001b[39;49m\u001b[38;5;124;43m'\u001b[39;49m\u001b[43m,\u001b[49m\u001b[43m \u001b[49m\u001b[38;5;124;43m'\u001b[39;49m\u001b[38;5;124;43mr\u001b[39;49m\u001b[38;5;124;43m'\u001b[39;49m\u001b[43m)\u001b[49m \u001b[38;5;28;01mas\u001b[39;00m file:\n\u001b[1;32m      7\u001b[0m     token_ids \u001b[38;5;241m=\u001b[39m [\u001b[38;5;28mint\u001b[39m(line\u001b[38;5;241m.\u001b[39mstrip()) \u001b[38;5;28;01mfor\u001b[39;00m line \u001b[38;5;129;01min\u001b[39;00m file\u001b[38;5;241m.\u001b[39mreadlines()]\n\u001b[1;32m      9\u001b[0m \u001b[38;5;28;01mfor\u001b[39;00m _ \u001b[38;5;129;01min\u001b[39;00m \u001b[38;5;28mrange\u001b[39m(prompt_num) :\n",
      "File \u001b[0;32m~/miniconda3/envs/tf-2.12.0/lib/python3.8/site-packages/IPython/core/interactiveshell.py:284\u001b[0m, in \u001b[0;36m_modified_open\u001b[0;34m(file, *args, **kwargs)\u001b[0m\n\u001b[1;32m    277\u001b[0m \u001b[38;5;28;01mif\u001b[39;00m file \u001b[38;5;129;01min\u001b[39;00m {\u001b[38;5;241m0\u001b[39m, \u001b[38;5;241m1\u001b[39m, \u001b[38;5;241m2\u001b[39m}:\n\u001b[1;32m    278\u001b[0m     \u001b[38;5;28;01mraise\u001b[39;00m \u001b[38;5;167;01mValueError\u001b[39;00m(\n\u001b[1;32m    279\u001b[0m         \u001b[38;5;124mf\u001b[39m\u001b[38;5;124m\"\u001b[39m\u001b[38;5;124mIPython won\u001b[39m\u001b[38;5;124m'\u001b[39m\u001b[38;5;124mt let you open fd=\u001b[39m\u001b[38;5;132;01m{\u001b[39;00mfile\u001b[38;5;132;01m}\u001b[39;00m\u001b[38;5;124m by default \u001b[39m\u001b[38;5;124m\"\u001b[39m\n\u001b[1;32m    280\u001b[0m         \u001b[38;5;124m\"\u001b[39m\u001b[38;5;124mas it is likely to crash IPython. If you know what you are doing, \u001b[39m\u001b[38;5;124m\"\u001b[39m\n\u001b[1;32m    281\u001b[0m         \u001b[38;5;124m\"\u001b[39m\u001b[38;5;124myou can use builtins\u001b[39m\u001b[38;5;124m'\u001b[39m\u001b[38;5;124m open.\u001b[39m\u001b[38;5;124m\"\u001b[39m\n\u001b[1;32m    282\u001b[0m     )\n\u001b[0;32m--> 284\u001b[0m \u001b[38;5;28;01mreturn\u001b[39;00m \u001b[43mio_open\u001b[49m\u001b[43m(\u001b[49m\u001b[43mfile\u001b[49m\u001b[43m,\u001b[49m\u001b[43m \u001b[49m\u001b[38;5;241;43m*\u001b[39;49m\u001b[43margs\u001b[49m\u001b[43m,\u001b[49m\u001b[43m \u001b[49m\u001b[38;5;241;43m*\u001b[39;49m\u001b[38;5;241;43m*\u001b[39;49m\u001b[43mkwargs\u001b[49m\u001b[43m)\u001b[49m\n",
      "\u001b[0;31mFileNotFoundError\u001b[0m: [Errno 2] No such file or directory: 'output_g=0.1_d=0.5.txt'"
     ]
    }
   ],
   "source": [
    "calculate_only_zscore(0.5, 0.1, 100, 1.2, 100)"
   ]
  },
  {
   "cell_type": "code",
   "execution_count": null,
   "metadata": {},
   "outputs": [],
   "source": []
  }
 ],
 "metadata": {
  "kernelspec": {
   "display_name": "tf-2.12.0",
   "language": "python",
   "name": "python3"
  },
  "language_info": {
   "codemirror_mode": {
    "name": "ipython",
    "version": 3
   },
   "file_extension": ".py",
   "mimetype": "text/x-python",
   "name": "python",
   "nbconvert_exporter": "python",
   "pygments_lexer": "ipython3",
   "version": "3.8.19"
  }
 },
 "nbformat": 4,
 "nbformat_minor": 2
}
