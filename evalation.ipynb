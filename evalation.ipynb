{
 "cells": [
  {
   "cell_type": "code",
   "execution_count": 1,
   "metadata": {},
   "outputs": [
    {
     "name": "stderr",
     "output_type": "stream",
     "text": [
      "2024-04-21 22:47:14.690751: I tensorflow/core/platform/cpu_feature_guard.cc:182] This TensorFlow binary is optimized to use available CPU instructions in performance-critical operations.\n",
      "To enable the following instructions: AVX2 FMA, in other operations, rebuild TensorFlow with the appropriate compiler flags.\n",
      "2024-04-21 22:47:15.267156: W tensorflow/compiler/tf2tensorrt/utils/py_utils.cc:38] TF-TRT Warning: Could not find TensorRT\n",
      "/home/undergrad/miniconda3/envs/tf-2.12.0/lib/python3.8/site-packages/tqdm/auto.py:21: TqdmWarning: IProgress not found. Please update jupyter and ipywidgets. See https://ipywidgets.readthedocs.io/en/stable/user_install.html\n",
      "  from .autonotebook import tqdm as notebook_tqdm\n"
     ]
    }
   ],
   "source": [
    "import tensorflow as tf\n",
    "from transformers import AutoTokenizer\n",
    "from transformers import TFGPT2LMHeadModel #tensorflow GPT2 LM\n",
    "import numpy as np\n",
    "import torch\n",
    "\n",
    "\n",
    "mirrored_strategy = tf.distribute.MirroredStrategy()\n",
    "model = TFGPT2LMHeadModel.from_pretrained('skt/kogpt2-base-v2', from_pt=True)\n",
    "tokenizer = AutoTokenizer.from_pretrained('skt/kogpt2-base-v2')"
   ]
  },
  {
   "cell_type": "code",
   "execution_count": 2,
   "metadata": {},
   "outputs": [
    {
     "ename": "NameError",
     "evalue": "name 'tokenizer' is not defined",
     "output_type": "error",
     "traceback": [
      "\u001b[0;31m---------------------------------------------------------------------------\u001b[0m",
      "\u001b[0;31mNameError\u001b[0m                                 Traceback (most recent call last)",
      "Cell \u001b[0;32mIn[2], line 2\u001b[0m\n\u001b[1;32m      1\u001b[0m input_text \u001b[38;5;241m=\u001b[39m \u001b[38;5;124m'\u001b[39m\u001b[38;5;124m아이들의 정서적인 발달에 동화책은\u001b[39m\u001b[38;5;124m'\u001b[39m\n\u001b[0;32m----> 2\u001b[0m input_ids \u001b[38;5;241m=\u001b[39m \u001b[43mtokenizer\u001b[49m\u001b[38;5;241m.\u001b[39mencode(input_text, return_tensors\u001b[38;5;241m=\u001b[39m\u001b[38;5;124m'\u001b[39m\u001b[38;5;124mtf\u001b[39m\u001b[38;5;124m'\u001b[39m)\n\u001b[1;32m      3\u001b[0m \u001b[38;5;66;03m#term = 3\u001b[39;00m\n\u001b[1;32m      5\u001b[0m last_index \u001b[38;5;241m=\u001b[39m input_ids\u001b[38;5;241m.\u001b[39mshape[\u001b[38;5;241m-\u001b[39m\u001b[38;5;241m1\u001b[39m]\n",
      "\u001b[0;31mNameError\u001b[0m: name 'tokenizer' is not defined"
     ]
    }
   ],
   "source": [
    "input_text = '아이들의 정서적인 발달에 동화책은'\n",
    "input_ids = tokenizer.encode(input_text, return_tensors='tf')\n",
    "#term = 3\n",
    "\n",
    "last_index = input_ids.shape[-1]\n",
    "\n",
    "with mirrored_strategy.scope():\n",
    "    while input_ids.shape[-1] < 100:\n",
    "        print(\"================================\")\n",
    "        print(input_ids.shape[-1])\n",
    "        #set 나눠서 green set 로짓을 촉진하기\n",
    "        gamma = 1.0\n",
    "        delta = 0.0\n",
    "        Logits = model(input_ids).logits\n",
    "        print(f\"original Logits : {Logits}\")\n",
    "        \n",
    "        #seed 생성\n",
    "        seed = input_ids[-1] % Logits.shape[-1]\n",
    "        print(f\"seed : {seed[-1]}\")\n",
    "        np.random.seed(seed[-1])\n",
    "\n",
    "        #random green list 설정\n",
    "        indices = np.arange(Logits.shape[-1]) #0~51999\n",
    "        green_list_size = int(Logits.shape[-1] * gamma)  #25600\n",
    "        green_list = np.random.choice(indices, green_list_size, replace=False)\n",
    "        print(f\"green list : {green_list} {green_list.shape}\") #25600개의 green list\n",
    "\n",
    "        #--여기부터 probability 구하기\n",
    "        # green logit과 red logit의 값을 담을 리스트 생성\n",
    "        green_logits = tf.zeros(green_list_size)\n",
    "        red_logits = tf.zeros(Logits.shape[-1] - green_list_size)\n",
    "\n",
    "        #그린 리스트에 속한 idx 값의 Logit에는 델타 추가!!!!!!\n",
    "        Logits_num = np.zeros((0,last_index-1,Logits.shape[-1]))\n",
    "        Logits_num = Logits.numpy()\n",
    "        for i in green_list :\n",
    "            Logits_num[0,last_index-1,i] = Logits_num[0,last_index-1,i]+delta\n",
    "        Logits = tf.convert_to_tensor(Logits_num, dtype=tf.float32)\n",
    "        print(f\"updated Logits : {Logits}\")\n",
    "        \n",
    "        # softmax 계산을 위한 분모\n",
    "        denominator = tf.reduce_sum(tf.exp(Logits), axis=-1)  \n",
    "        print(f\"denominator : {denominator}\") #25600개의 green list\n",
    "\n",
    "        # Logits 텐서에 softmax 적용하여 확률 계산 (병렬 계산)\n",
    "        softmax_tensor = Logits.numpy()\n",
    "        softmax_tensor[0, last_index-1, :] = np.exp(softmax_tensor[0, last_index-1, :])\n",
    "        softmax_tensor[0, last_index-1, :] /= denominator[0,last_index-1]\n",
    "        print(softmax_tensor.shape)\n",
    "        print(f\"Probabilities : {softmax_tensor}\")\n",
    "\n",
    "        # 데이터 타입 확인 및 조정\n",
    "        add_token_id = tf.argmax(softmax_tensor[0][last_index-1])\n",
    "        print(f\"updated Logits Max value : {add_token_id}\")\n",
    "\n",
    "\n",
    "        # 텐서 연결\n",
    "        add_token_id = tf.reshape(add_token_id, [1,1])\n",
    "        add_token_id = tf.cast(add_token_id, input_ids.dtype)\n",
    "        input_ids = tf.concat([input_ids, add_token_id], axis=-1)\n",
    "        next_token = tokenizer.decode(input_ids.numpy()[0,:])\n",
    "        print(f\"next token : {next_token}\")\n",
    "        \n",
    "        last_index = input_ids.shape[-1]\n",
    "        #term = 3"
   ]
  },
  {
   "cell_type": "code",
   "execution_count": null,
   "metadata": {},
   "outputs": [],
   "source": []
  }
 ],
 "metadata": {
  "kernelspec": {
   "display_name": "tf-2.12.0",
   "language": "python",
   "name": "python3"
  },
  "language_info": {
   "codemirror_mode": {
    "name": "ipython",
    "version": 3
   },
   "file_extension": ".py",
   "mimetype": "text/x-python",
   "name": "python",
   "nbconvert_exporter": "python",
   "pygments_lexer": "ipython3",
   "version": "3.8.19"
  }
 },
 "nbformat": 4,
 "nbformat_minor": 2
}
