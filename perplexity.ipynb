{
 "cells": [
  {
   "cell_type": "code",
   "execution_count": 1,
   "metadata": {},
   "outputs": [
    {
     "name": "stderr",
     "output_type": "stream",
     "text": [
      "2024-05-11 08:14:33.111379: I tensorflow/tsl/cuda/cudart_stub.cc:28] Could not find cuda drivers on your machine, GPU will not be used.\n",
      "2024-05-11 08:14:33.140559: I tensorflow/tsl/cuda/cudart_stub.cc:28] Could not find cuda drivers on your machine, GPU will not be used.\n",
      "2024-05-11 08:14:33.141267: I tensorflow/core/platform/cpu_feature_guard.cc:182] This TensorFlow binary is optimized to use available CPU instructions in performance-critical operations.\n",
      "To enable the following instructions: AVX2 FMA, in other operations, rebuild TensorFlow with the appropriate compiler flags.\n",
      "2024-05-11 08:14:33.789573: W tensorflow/compiler/tf2tensorrt/utils/py_utils.cc:38] TF-TRT Warning: Could not find TensorRT\n",
      "/home/undergrad/miniconda3/envs/tf-2.12.0/lib/python3.8/site-packages/tqdm/auto.py:21: TqdmWarning: IProgress not found. Please update jupyter and ipywidgets. See https://ipywidgets.readthedocs.io/en/stable/user_install.html\n",
      "  from .autonotebook import tqdm as notebook_tqdm\n"
     ]
    },
    {
     "name": "stdout",
     "output_type": "stream",
     "text": [
      "WARNING:tensorflow:There are non-GPU devices in `tf.distribute.Strategy`, not using nccl allreduce.\n",
      "INFO:tensorflow:Using MirroredStrategy with devices ('/job:localhost/replica:0/task:0/device:CPU:0',)\n"
     ]
    },
    {
     "name": "stderr",
     "output_type": "stream",
     "text": [
      "2024-05-11 08:14:37.334710: W tensorflow/core/common_runtime/gpu/gpu_device.cc:1956] Cannot dlopen some GPU libraries. Please make sure the missing libraries mentioned above are installed properly if you would like to use GPU. Follow the guide at https://www.tensorflow.org/install/gpu for how to download and setup the required libraries for your platform.\n",
      "Skipping registering GPU devices...\n",
      "Some weights of the PyTorch model were not used when initializing the TF 2.0 model TFGPT2LMHeadModel: ['transformer.h.11.attn.masked_bias', 'transformer.h.4.attn.masked_bias', 'transformer.h.9.attn.masked_bias', 'transformer.h.2.attn.masked_bias', 'transformer.h.0.attn.masked_bias', 'transformer.h.7.attn.masked_bias', 'transformer.h.8.attn.masked_bias', 'transformer.h.5.attn.masked_bias', 'transformer.h.10.attn.masked_bias', 'transformer.h.1.attn.masked_bias', 'transformer.h.3.attn.masked_bias', 'transformer.h.6.attn.masked_bias', 'lm_head.weight']\n",
      "- This IS expected if you are initializing TFGPT2LMHeadModel from a PyTorch model trained on another task or with another architecture (e.g. initializing a TFBertForSequenceClassification model from a BertForPreTraining model).\n",
      "- This IS NOT expected if you are initializing TFGPT2LMHeadModel from a PyTorch model that you expect to be exactly identical (e.g. initializing a TFBertForSequenceClassification model from a BertForSequenceClassification model).\n",
      "All the weights of TFGPT2LMHeadModel were initialized from the PyTorch model.\n",
      "If your task is similar to the task the model of the checkpoint was trained on, you can already use TFGPT2LMHeadModel for predictions without further training.\n"
     ]
    }
   ],
   "source": [
    "import tensorflow as tf\n",
    "from transformers import AutoTokenizer\n",
    "from transformers import TFGPT2LMHeadModel #tensorflow GPT2 LM\n",
    "import numpy as np\n",
    "import torch\n",
    "from tqdm import tqdm  # 진행률 표시를 위한 tqdm 라이브러리\n",
    "from scipy.stats import norm #p-value 를 위함\n",
    "\n",
    "\n",
    "mirrored_strategy = tf.distribute.MirroredStrategy()\n",
    "model = TFGPT2LMHeadModel.from_pretrained('skt/kogpt2-base-v2', from_pt=True)\n",
    "tokenizer = AutoTokenizer.from_pretrained('skt/kogpt2-base-v2')"
   ]
  },
  {
   "cell_type": "code",
   "execution_count": 2,
   "metadata": {},
   "outputs": [],
   "source": [
    "def detection(final_sequence, logit_shape, gamma, delta, token_num, initial_ids) :\n",
    "    \n",
    "    input_ids = tokenizer.encode(final_sequence, return_tensors='tf')\n",
    "    input_ids_list = input_ids.numpy().tolist()[0]\n",
    "    prev_tk = input_ids[0]\n",
    "    green_counts = 0\n",
    "    \n",
    "    seed = initial_ids[-1]\n",
    "    np.random.seed(seed)\n",
    "    indices = np.arange(logit_shape) #0~51999\n",
    "    green_list_size = int(logit_shape * gamma)  #25600\n",
    "    green_list = np.random.choice(indices, green_list_size, replace=False)\n",
    "    \n",
    "    num = 0\n",
    "    for id in input_ids_list :\n",
    "        \n",
    "        if id in green_list :\n",
    "            green_counts = green_counts + 1\n",
    "        \n",
    "        seed = id % logit_shape\n",
    "        #print(f\"seed in detection : {seed}\")\n",
    "        np.random.seed(seed)\n",
    "        \n",
    "        indices = np.arange(logit_shape) #0~51999\n",
    "        green_list_size = int(logit_shape * gamma)  #25600\n",
    "        green_list = np.random.choice(indices, green_list_size, replace=False)\n",
    "       #print(f\"detection greenList : {green_list}\")\n",
    "       \n",
    "        num += 1\n",
    "        \n",
    "\n",
    "    print(f\"green list 단어 개수 : {green_counts}\")\n",
    "    print(f\"red list 단어 개수 : {len(input_ids_list)-green_counts}\")\n",
    "    green_proportion = green_counts/len(input_ids_list) #u2\n",
    "    red_proportion = 1-green_proportion \n",
    "    print(f\"green list 단어 비율 : {green_proportion}\")\n",
    "    print(f\"red list 단어 비율 : {red_proportion}\")\n",
    "    #expected_proportion = 0.5 #green list 를 모를 것이다 -> H0 #u1\n",
    "    #std_error = np.sqrt(expected_proportion * (1 - expected_proportion) / len(input_ids))\n",
    "    #z_score = 2*(green_counts - len(input_ids_list)/2)/np.sqrt(len(input_ids_list)) #기댓값에서 많이 벗어나면 기각\n",
    "    z_score = (green_counts - len(input_ids_list)*gamma)/(np.sqrt(len(input_ids_list)*gamma*(1-gamma)))\n",
    "    #p_value = norm.sf(np.abs(z_score)) #기댓값에 못미치면 green list를 안다!\n",
    "    \n",
    "    with open(f'Z_score_g={gamma}_d={delta}.txt', 'a') as f:  # with 문을 사용하여 파일을 열면 자동으로 닫힙니다.\n",
    "        f.write(str(z_score) + '\\n')\n",
    "            \n",
    "    print(f\"Z-score: {z_score}\")\n",
    "    if z_score > 4 :\n",
    "        return True\n",
    "    else :\n",
    "        return False\n",
    "\n",
    "#g=0.7, d=10.0 ->red list 단어 비율 : 0.580000000000000\n",
    "#sentence = \"책 읽기의 즐거움도 함께 느낄 수 있다. 이번 전시는 '책 읽는 즐거움'이라는 주제로 '책 읽는 즐거움'이라는 주제로 진행된다. 전시에는 책 읽는 즐거움이란 주제로 '책 읽는 즐거움'이라는 주제로 '책 읽는 즐거움'이라는 주제로 '책 읽는 즐거움'이라는 주제로 '책 읽는 즐거움'이라는 주제로 '책 읽는 즐거움'이라는 주제로 '책 읽는 즐거움'이라는 주제로 '책 읽는 즐거움'이라는 주제로 '책 읽는 즐거움'이라는 주제로 '책 읽는 즐거움'이라는 주제로\"\n",
    "#g=0.5, d=50.0 -> red list 단어 비율 : 0.5252525252525253\n",
    "#sentence = \"책 읽기의 즐거움도 함께 느낄 것이다.이번 전시는 '책과 세상을 잇는 길'이라는 주제 하에 작가인 김혜숙씨가 참여했다. 이번 전시는 '책과 세상을 잇는 길'이라는 주제 하에 김혜숙씨가 참여한 '책과 세상을 잇는 길'이라는 주제 하에 작가인 김혜숙씨가 참여한 '책과 세상을 잇는 길'이라는 주제 하에 진행됐고 전시는 '책과 세상을 잇는 길'이라는 주제 하에 진행됐고 전시는 '책과 세상을 잇는 길'이라는 주제 하에 진행됐고 전시는\"\n",
    "#g=0.5, d=20.0 -> red list 단어 비율 : 0.53\n",
    "#sentence = \"책 읽기의 즐거움도 함께 느낄 것이다.이번 전시는 '책과 세상을 잇는 길'이라는 주제 하에 작가인 김혜숙씨가 참여했다. 이번 전시는 '책과 세상을 잇는 길'이라는 주제 하에 김혜숙씨가 참여한 '책과 세상을 잇는 길'이라는 주제 하에 작가인 김혜숙씨가 참여한 '책과 세상을 잇는 길'이라는 주제 하에 진행됐고 전시는 '책과 세상을 잇는 길'이라는 주제 하에 진행됐고 전시는 '책과 세상을 잇는 길'이라는 주제 하에 진행됐고 전시는 \"\n",
    "#g=0.5, d=10.0 -> red list 단어 비율 : 0.5252525252525253\n",
    "#sentence = \"책 읽기의 즐거움도 함께 느낄 것이다.이번 전시는 '책과 세상을 잇는 길'이라는 주제 하에 작가인 김혜숙씨가 참여했다. 이번 전시는 '책과 세상을 잇는 길'이라는 주제 하에 김혜숙씨가 참여한 '책과 세상을 잇는 길'이라는 주제 하에 작가인 김혜숙씨가 참여한 '책과 세상을 잇는 길'이라는 주제 하에 진행됐고 전시는 '책과 세상을 잇는 길'이라는 주제 하에 진행됐고 전시는 '책과 세상을 잇는 길'이라는 주제 하에 진행됐고 전시는\"\n",
    "#g=0.5, d=5.0 -> red list 단어 비율 : 0.505050505050505\n",
    "#sentence = \"책 읽기의 즐거움도 함께 느낄 수 있다. 이번 전시는 '책과 나눔'이라는 주제 하에 지난달 27일 개막한 '책과 나눔'전을 통해 처음 선보였으며, 오는 9월까지 계속된다. 특히, 전시 기간 동안 '책과 나눔'전을 통해서는 '책과 나눔'전을 통해서는 '책과 나눔'전을 통해서는 '책과 나눔'전을 통해서는 '책과 나눔'전을 통해서는 '책과 나눔'전을 통해서는 '책과 나눔'전을 통해\"\n",
    "#g=0.5, d=1.0 -> red list 단어 비율 : 0.6\n",
    "#sentence = \"책 읽기의 즐거움도 함께 느낄 수 있다.이번 전시는 ‘책 읽는 즐거움’을 주제로 한 ‘책 읽는 즐거움’ 전시를 비롯해 ‘책 읽는 즐거움’ 전시, ‘책 읽는 즐거움’ 전시, ‘책 읽는 즐거움’ 전시, ‘책 읽는 즐거움’ 전시, ‘책 읽는 즐거움’ 전시, ‘책 읽는 즐거움’ 전시, ‘책 읽는 즐거움’ 전시, ‘책 읽는 즐거움’ 전시, ‘책 읽는 즐거움\"\n",
    "#g=1.0, d=0.0 -> red list 단어 비율 : 0.5700000000000001\n",
    "#sentence = \"책 읽기의 즐거움도 함께 느낄 수 있다. 이번 전시는 '책 읽는 즐거움'이라는 주제로 '책 읽는 즐거움'이라는 주제로 진행된다. 전시에서는 '책 읽는 즐거움'이라는 주제로 '책 읽는 즐거움'이라는 주제로 '책 읽는 즐거움'이라는 주제로 '책 읽는 즐거움'이라는 주제로 '책 읽는 즐거움'이라는 주제로 '책 읽는 즐거움'이라는 주제로 '책 읽는 즐거움'이라는 주제로 '책 읽는 즐거움'이라는 주제로 '책 읽는 즐거움'이라는 주제로 '책 읽는 즐거움'이라는\"\n",
    "\n",
    "#g=0.5\n",
    "#sentence = \"아침 일과 시작하기 전에 미리 준비해두면 좋겠습니다. 오늘은 전국이 대체로 맑겠습니다. 하지만 제주도는 구름이 많이 끼겠고요. 강원 영동 지역은 밤 한때 비가 조금 내리겠습니다. 내일 아침 기온 오늘과 비슷하겠습니다. 서울이 4도, 대구 6도로 출발하겠습니다. 낮 기온은 서울이 13도, 대구와 광주 16도로 오늘과 비슷하겠습니다. 바다의 물결은 동해 먼바다에서 최고 2.5미터까지 높게 일겠습니다. 내일 아침 기온 오늘과 비슷하겠습니다.\"\n",
    "\n",
    "#사람\n",
    "#sentence = \"안정된 순방향 전파: 만약 우리가 오프셋 δ를 0으로 초기화하고 스케일 γ를 1로 초기화한다면, 각 출력 활성화는 단위 분산을 갖게 됩니다. 일반적인 네트워크에서는 이는 초기화 과정에서 순방향 전파 중에 분산이 안정적으로 유지됨을 보장합니다. 하지만 잔차 네트워크에서는 분산은 여전히 새로운 변동 요소가 각 레이어에서 입력에 추가되면서 증가해야 합니다. 그러나 잔차 블록마다 분산은 선형적으로 증가할 것입니다. k번째 레이어는 k의 기존\"\n",
    "\n",
    "#사람\n",
    "#sentence = \"이건 사람이 작성한 글입니다. 절대 절대 p-value 가 낮게 나와서도 안되고 z-score가 0 근처여서도 안됩니다. 제발 좀 잘 나와보자 제발제발 할말이 없네 이게 다야\"\n",
    "#detection(sentence, 25600, 0.5)"
   ]
  },
  {
   "cell_type": "code",
   "execution_count": 3,
   "metadata": {},
   "outputs": [
    {
     "name": "stdout",
     "output_type": "stream",
     "text": [
      "['아침 일과 시작하기\\n', '책 읽기의 즐거움\\n', '가족과 함께 하는 저녁 식사\\n', '친구와의 영화 관람\\n', '주말 동안의 여행 계획\\n', '정원 가꾸기의 효과\\n', '요리를 통한 스트레스 해소\\n', '자전거 타기의 장점\\n', '집안 정리 정돈 팁\\n', '개인 운동 루틴 유지하기\\n', '취미 활동의 중요성\\n', '새로운 언어 배우기\\n', '음악 연주와 그 영향\\n', '사진 촬영을 통한 추억 만들기\\n', '지역 사회 봉사의 보람\\n', '패션과 개인 스타일 표현\\n', '휴일을 활용한 가족 모임\\n', '건강한 식생활을 위한 조리법\\n', '애완동물과 보내는 시간\\n', '독서 클럽에서의 토론\\n', '도서관 방문의 장점\\n', '집에서의 필름 감상\\n', '커피 한 잔과의 여유\\n', '일기 쓰기의 치유 효과\\n', '홈 베이킹의 즐거움\\n', '직접 만든 공예품\\n', '새로운 요리법 시도하기\\n', '지역 공연 관람\\n', '자연 속에서의 하이킹\\n', '가구 리폼 프로젝트\\n', '아이와 함께하는 공원 나들이\\n', '새로운 스포츠 도전\\n', '개인 기록의 개선\\n', '집에서의 요가 세션\\n', '반려동물과의 산책\\n', '가족 앨범 만들기\\n', '매일의 명상 시간\\n', '가벼운 아침 조깅\\n', '주말 브런치 준비\\n', '일상의 소소한 행복 찾기\\n', '스마트폰 없는 하루\\n', '책상 정리의 중요성\\n', '옷장 정리하기\\n', '새벽 시간의 고요함\\n', '오후의 티타임\\n', '자기 전 명상\\n', '집안 식물 가꾸기\\n', '근처 박물관 탐방\\n', '집에서의 칵테일 파티\\n', '커뮤니티 클래스 참여\\n', '셀프 케어 루틴\\n', '장거리 걷기의 이점\\n', '텃밭 가꾸기\\n', '개인적인 스타일 개발\\n', '책 추천 공유\\n', '로컬 마켓 쇼핑\\n', '장기 게임의 즐거움\\n', '가족과의 보드게임 밤\\n', '디지털 디톡스\\n', '가까운 도시 탐험\\n', '수제 비누 만들기\\n', '로컬 아티스트 지원\\n', '실내 데코레이션 변경\\n', '뜨개질의 즐거움\\n', '핸드폰 배경화면 만들기\\n', '지속 가능한 생활 실천\\n', '주방 도구 정비\\n', '전통 축제 참여\\n', '친구와의 화상 통화\\n', '가족 사진 정리\\n', '주변 환경 정화 활동\\n', '하루의 목표 세우기\\n', '온라인 학습 코스\\n', '집에서의 필라테스\\n', '베란다 텃밭 가꾸기\\n', '평화로운 아침 산책\\n', '친구와의 장거리 여행 계획\\n', '커피숍에서의 독서\\n', '로컬 음식 시도\\n', '스마트폰 사진술\\n', '주변 사람들과의 교류\\n', '홈 오피스 최적화\\n', '스트리트 아트 감상\\n', '새로운 헤어스타일 시도\\n', '집에서의 영화 마라톤\\n', '시골 마을 여행\\n', '가족 요리 대결\\n', '집안 고장 난 물건 수리\\n', '친구와 함께하는 쇼핑\\n', '재활용 프로젝트 참여\\n', '커뮤니티 정원 가꾸기\\n', '개인 재정 관리\\n', '차량 관리와 유지\\n', '올드테크 아이템 수집\\n', '반려동물의 건강 관리\\n', '일상 속 작은 모험 찾기\\n', '스트레스 관리 방법\\n', '지역사회와의 소통 강화\\n', '가족과의 소중한 대화\\n', '개인 발전을 위한 목표 설정']\n",
      "----------\n"
     ]
    }
   ],
   "source": [
    "filename = 'prompt.txt'\n",
    "f = open(filename, 'r')\n",
    "lines = f.readlines()\n",
    "print(lines)\n",
    "print('-' * 10)"
   ]
  },
  {
   "cell_type": "code",
   "execution_count": 4,
   "metadata": {},
   "outputs": [],
   "source": [
    "# Function to apply dynamic repetition penalty to logits\n",
    "def apply_repetition_penalty(logits, token_counts, penalty_coefficient):\n",
    "    penalty_factors = np.ones(logits.shape[-1])\n",
    "\n",
    "    for token_id, count in enumerate(token_counts):\n",
    "        if count > 0:\n",
    "            penalty_factors[token_id] = penalty_coefficient ** count\n",
    "\n",
    "    # Apply the calculated penalties to logits\n",
    "    return logits / penalty_factors"
   ]
  },
  {
   "cell_type": "code",
   "execution_count": 5,
   "metadata": {},
   "outputs": [],
   "source": [
    "\n",
    "def detection_func(param_d, param_g, token_num, penalty_coefficient):\n",
    "\n",
    "  with open(f'Z_score_g={param_g}_d={param_d}.txt', 'w') as f:  #file내용 clear\n",
    "      f.write('')\n",
    "\n",
    "  with open(f'output_g={param_g}_d={param_d}.txt', 'w') as f:  #file내용 clear\n",
    "      f.write('')\n",
    "      \n",
    "  for line in lines:\n",
    "      line = line.strip()\n",
    "      print(f\"prompt : {line}\")\n",
    "\n",
    "      input_text = line\n",
    "      input_ids = tokenizer.encode(input_text, return_tensors='tf')\n",
    "      initial_ids = input_ids\n",
    "\n",
    "      with open(f'output_g={param_g}_d={param_d}.txt', 'a') as f:  # with 문을 사용하여 파일을 열면 자동으로 닫힙니다.\n",
    "        f.write(f'{str(len(input_ids[-1]))}' + '\\n') #한 문장 토큰 앞서서, input 토큰 개수 \n",
    "        f.write(f'{str(token_num)}' + '\\n') #한 문장 토큰 앞서서, 생성 토큰 개수 \n",
    "        for i in range(len(input_ids[-1])) :\n",
    "          f.write(str(input_ids.numpy()[0][i]) + '\\n')\n",
    "\n",
    "      last_index = input_ids.shape[-1]\n",
    "      nlls = []\n",
    "      token_counts = np.zeros(tokenizer.vocab_size)\n",
    "              \n",
    "      with mirrored_strategy.scope():\n",
    "          for _ in tqdm(range(token_num)):  # 최대 100번 반복\n",
    "              #if input_ids.shape[-1] >= token_num:\n",
    "              #    break  # input_ids의 길이가 100 이상이면 반복 중단\n",
    "              \n",
    "              #print(\"================================\")\n",
    "              #print(f\"문장의 토큰 개수 : {input_ids.shape[-1]}\")\n",
    "              #set 나눠서 green set 로짓을 촉진하기\n",
    "              gamma = param_g\n",
    "              delta = param_d\n",
    "              Logits = model(input_ids).logits\n",
    "              #print(f\"original Logits : {Logits}\")\n",
    "              \n",
    "              #seed 생성\n",
    "              seed = input_ids[-1] % Logits.shape[-1]\n",
    "              #print(f\"seed : {seed[-1]}\")\n",
    "              np.random.seed(seed[-1])\n",
    "\n",
    "              #random green list 설정\n",
    "              indices = np.arange(Logits.shape[-1]) #0~51999\n",
    "              green_list_size = int(Logits.shape[-1] * gamma)  #25600\n",
    "              green_list = np.random.choice(indices, green_list_size, replace=False)\n",
    "              #print(f\"green list : {green_list} {green_list[200]} {green_list[1000]}\") #25600개의 green list\n",
    "\n",
    "              #--여기부터 probability 구하기\n",
    "              # green logit과 red logit의 값을 담을 리스트 생성\n",
    "              green_logits = tf.zeros(green_list_size)\n",
    "              red_logits = tf.zeros(Logits.shape[-1] - green_list_size)\n",
    "\n",
    "              #그린 리스트에 속한 idx 값의 Logit에는 델타 추가!!!!!!\n",
    "              Logits_num = np.zeros((0,last_index-1,Logits.shape[-1]))\n",
    "              Logits_num = Logits.numpy()\n",
    "              Logits_num[0, -1, :] = apply_repetition_penalty(Logits_num[0, -1, :], token_counts, penalty_coefficient)\n",
    "              \n",
    "              for i in green_list :\n",
    "                  Logits_num[0,last_index-1,i] = Logits_num[0,last_index-1,i]+delta\n",
    "              Logits = tf.convert_to_tensor(Logits_num, dtype=tf.float32)\n",
    "              #print(f\"updated Logits : {Logits}\")\n",
    "              \n",
    "              probs = tf.nn.softmax(Logits[0,last_index-1,:])\n",
    "\n",
    "              add_token_id = tf.argmax(probs)\n",
    "              #print(f\"max : {max(probs)}\")\n",
    "              \n",
    "              token_counts[add_token_id] += 1\n",
    "              \n",
    "              selected_probability = probs[add_token_id]\n",
    "              nlls.append(np.log(selected_probability))\n",
    "              \n",
    "              #print(softmax_tensor[0, last_index-1, add_token_id])\n",
    "\n",
    "              # 텐서 연결\n",
    "              add_token_id = tf.reshape(add_token_id, [1,1])\n",
    "              add_token_id = tf.cast(add_token_id, input_ids.dtype)\n",
    "              input_ids = tf.concat([input_ids, add_token_id], axis=-1)\n",
    "              next_token = tokenizer.decode(input_ids.numpy()[0,:])\n",
    "              with open(f'output_g={param_g}_d={param_d}.txt', 'a') as f:\n",
    "                f.write(str(add_token_id[0][0].numpy()) + '\\n')\n",
    "              #print(f\"next token : {next_token}\")\n",
    "              \n",
    "              last_index = input_ids.shape[-1]\n",
    "              #term = 3\n",
    "          final_token = tokenizer.decode(input_ids.numpy()[0,:])\n",
    "          print(f\"final sequence : {final_token}\")\n",
    "          print(f\"detection function : {detection(final_token, Logits.shape[-1], gamma, delta, token_num, initial_ids)}\")"
   ]
  },
  {
   "cell_type": "code",
   "execution_count": 10,
   "metadata": {},
   "outputs": [
    {
     "name": "stdout",
     "output_type": "stream",
     "text": [
      "prompt : 아침 일과 시작하기\n"
     ]
    },
    {
     "name": "stderr",
     "output_type": "stream",
     "text": [
      "100%|██████████| 100/100 [00:59<00:00,  1.69it/s]\n"
     ]
    },
    {
     "name": "stdout",
     "output_type": "stream",
     "text": [
      "final sequence : 아침 일과 시작하기 전에 미리 준비해두면 좋다.\n",
      "아침식사는 아침과 저녁으로 나눠서 한다.\n",
      "저녁은 밥 한 공기를 먹고, 점심은 반찬, 그리고 간단한 간식으로 먹는다.\n",
      "점심시간에는 식사 후 30분 정도 휴식을 취한다.\n",
      "이때는 반드시 식사를 마친 뒤 식전에 일어나야 한다.\n",
      "그런 다음 다시 잠자리에 들 때까지 기다려야 하기 때문이다.\n",
      "잠을 자지 않고서는 절대로 잠을 이룰 수 없다.\n",
      "수면을 취하는 것은 수면무호흡증이나 뇌졸중 등 심혈관질환의 발생 위험을 증가\n",
      "green list 단어 개수 : 103\n",
      "red list 단어 개수 : 1\n",
      "green list 단어 비율 : 0.9903846153846154\n",
      "red list 단어 비율 : 0.009615384615384581\n",
      "Z-score: 3.0724861171648805\n",
      "detection function : False\n",
      "prompt : 책 읽기의 즐거움\n"
     ]
    },
    {
     "name": "stderr",
     "output_type": "stream",
     "text": [
      "100%|██████████| 100/100 [00:55<00:00,  1.80it/s]\n"
     ]
    },
    {
     "name": "stdout",
     "output_type": "stream",
     "text": [
      "final sequence : 책 읽기의 즐거움도 함께 느낄 수 있다.\n",
      "이번 전시는 '책 읽는 즐거움'을 주제로 한 다양한 체험과 교육 프로그램으로 구성됐다.\n",
      "전시에는 책 읽기의 즐거움을 만끽할 수 있는 공간인 '책방'과 독서토론방, 북카페 등이 마련돼 있다.\n",
      "또한 책과 관련된 각종 전시와 공연, 전시회 등 다채로운 부대행사도 열린다.\n",
      "특히 이번 전시에서는 책을 매개로 하는 문화교류의 장을 마련하기 위해 도서관에서 직접 만든 도서를 무료로 대여하는 도서교환전 및 독서토론방이 운영된다.\n",
      "도서관\n",
      "green list 단어 개수 : 105\n",
      "red list 단어 개수 : 0\n",
      "green list 단어 비율 : 1.0\n",
      "red list 단어 비율 : 0.0\n",
      "Z-score: 3.4156502553198664\n",
      "detection function : False\n",
      "prompt : 가족과 함께 하는 저녁 식사\n"
     ]
    },
    {
     "name": "stderr",
     "output_type": "stream",
     "text": [
      "100%|██████████| 100/100 [00:58<00:00,  1.72it/s]\n"
     ]
    },
    {
     "name": "stdout",
     "output_type": "stream",
     "text": [
      "final sequence : 가족과 함께 하는 저녁 식사 시간도 마련된다.\n",
      "이번 행사는 '2018 평창동계올림픽 성공개최를 위한 국민적 염원을 담아'라는 주제로 열린다.\n",
      "국민과 함께하는 다양한 문화행사를 통해 올림픽의 성공을 기원하고 국민의 화합 분위기를 조성하기 위해 기획됐다.\n",
      "행사에서는 개막식 축하공연, 불꽃놀이 등 다채로운 행사가 펼쳐진다.\n",
      "또한 행사장 내 메인무대에서 열리는 개회식과 폐막식이 진행된다.\n",
      "폐막식은 오후 7시30분 강릉아트센터, 오후 8시에는 강릉시립교향악단의 연주로 시작된다.\n",
      "이어 폐\n",
      "green list 단어 개수 : 104\n",
      "red list 단어 개수 : 1\n",
      "green list 단어 비율 : 0.9904761904761905\n",
      "red list 단어 비율 : 0.00952380952380949\n",
      "Z-score: 3.090350231003689\n",
      "detection function : False\n",
      "prompt : 친구와의 영화 관람\n"
     ]
    },
    {
     "name": "stderr",
     "output_type": "stream",
     "text": [
      "100%|██████████| 100/100 [01:02<00:00,  1.60it/s]\n"
     ]
    },
    {
     "name": "stdout",
     "output_type": "stream",
     "text": [
      "final sequence : 친구와의 영화 관람을 위해 서울 시내 주요 극장가를 돌며 영화 관람에 나섰다.\n",
      "이날 오후 2시부터 5시30분까지는 서울시내 유명 극장에서 영화를 상영했다.\n",
      "영화 '친구'와 '아바타' 등 인기 영화는 물론 '아이언맨', '마더'가 개봉한 지난해 12월31일부터 올 1월1일까지 관객들을 만났다.\n",
      "서울의 한 대형서점에서는 이날 오전 10시부터 1시간 동안 영화관 입구에서 대기하는 시민들과 함께 영화를 감상하고 있었다.\n",
      "또 다른 대형서점은 같은 시간대\n",
      "green list 단어 개수 : 104\n",
      "red list 단어 개수 : 0\n",
      "green list 단어 비율 : 1.0\n",
      "red list 단어 비율 : 0.0\n",
      "Z-score: 3.3993463423951873\n",
      "detection function : False\n",
      "prompt : 주말 동안의 여행 계획\n"
     ]
    },
    {
     "name": "stderr",
     "output_type": "stream",
     "text": [
      "100%|██████████| 100/100 [01:03<00:00,  1.59it/s]\n"
     ]
    },
    {
     "name": "stdout",
     "output_type": "stream",
     "text": [
      "final sequence : 주말 동안의 여행 계획도 세우면 좋겠습니다.\n",
      "지금까지 YTN 박현실입니다.</d> 지난해 12월 31일부터 올 1월 1일 사이에 발생한 지진은 모두 6건으로, 이 가운데 3건은 규모 5.0 이상의 지진이 발생했거나 발생할 가능성이 있는 것으로 나타났다.\n",
      "지난해 11월 28일 오후 4시 30분께 경북 경주시 남남서쪽 9km 지역에서 규모 2.0의 강진이 발생했다.\n",
      "이번 지진의 진앙지는 포항에서 남서쪽으로 약 50km, 울산에서 동쪽으로 약 30km로 추정됐다.\n",
      "기상청 관계자는 \"규모\n",
      "green list 단어 개수 : 104\n",
      "red list 단어 개수 : 1\n",
      "green list 단어 비율 : 0.9904761904761905\n",
      "red list 단어 비율 : 0.00952380952380949\n",
      "Z-score: 3.090350231003689\n",
      "detection function : False\n",
      "prompt : 정원 가꾸기의 효과\n"
     ]
    },
    {
     "name": "stderr",
     "output_type": "stream",
     "text": [
      "100%|██████████| 100/100 [00:57<00:00,  1.74it/s]\n"
     ]
    },
    {
     "name": "stdout",
     "output_type": "stream",
     "text": [
      "final sequence : 정원 가꾸기의 효과도 볼 수 있다.\n",
      "이번 행사는 지난해부터 추진해온 ‘2015 대한민국 자원봉사대상’ 수상자 및 우수자원봉사자를 대상으로 진행됐다.\n",
      "올해는 총 4회에 걸쳐 전국 각지에서 선발된 자원봉사대원과 가족 등 500여명이 참가했다.\n",
      "참가자들은 이날 행사에서 봉사활동 중 느낀 소감 등을 담은 영상물을 상영했다.\n",
      "또한 참가자들이 직접 만든 다양한 먹거리 장터에서는 지역 내 소외계층에게 따뜻한 온정을 전할 예정이다.\n",
      "특히 이번 행사에 참여한 한 시민은 “평소\n",
      "green list 단어 개수 : 104\n",
      "red list 단어 개수 : 0\n",
      "green list 단어 비율 : 1.0\n",
      "red list 단어 비율 : 0.0\n",
      "Z-score: 3.3993463423951873\n",
      "detection function : False\n",
      "prompt : 요리를 통한 스트레스 해소\n"
     ]
    },
    {
     "name": "stderr",
     "output_type": "stream",
     "text": [
      "100%|██████████| 100/100 [00:58<00:00,  1.72it/s]\n"
     ]
    },
    {
     "name": "stdout",
     "output_type": "stream",
     "text": [
      "final sequence : 요리를 통한 스트레스 해소에도 도움이 된다.\n",
      "또한 비타민C가 풍부한 과일과 채소를 섭취하면 면역력 증진에 도움을 준다.\n",
      "이외에도 스트레스를 해소하는 데 좋은 음식으로 피자, 치킨, 맥주, 커피 등을 추천한다.\n",
      "스트레스에 지쳐 있는 현대인들에게는 특히 다이어트에 대한 관심이 높다.\n",
      "하지만 이러한 식습관 때문에 체중이 늘면 오히려 살이 찌게 되고 이는 곧 건강까지 해치게 되는 악순환으로 이어진다.\n",
      "따라서 평소 꾸준한 운동과 함께 규칙적인 운동을 통해 건강을 챙기는 것이 좋다.\n",
      "특히 운동 후 스트레\n",
      "green list 단어 개수 : 105\n",
      "red list 단어 개수 : 0\n",
      "green list 단어 비율 : 1.0\n",
      "red list 단어 비율 : 0.0\n",
      "Z-score: 3.4156502553198664\n",
      "detection function : False\n",
      "prompt : 자전거 타기의 장점\n"
     ]
    },
    {
     "name": "stderr",
     "output_type": "stream",
     "text": [
      "100%|██████████| 100/100 [00:57<00:00,  1.75it/s]\n"
     ]
    },
    {
     "name": "stdout",
     "output_type": "stream",
     "text": [
      "final sequence : 자전거 타기의 장점인 ‘친환경적인’ 실내외 환경을 조성해 쾌적한 생활을 누릴 수 있도록 했다.\n",
      "또한 단지 내 커뮤니티는 입주민들을 위한 다양한 편의시설을 갖췄다.\n",
      "단지 내에는 어린이집, 경로당, 주민자치센터, 도서관, 작은도서관 등 각종 생활편의시설이 마련돼 있다.\n",
      "특히 단지는 지하 2층~지상 최고 29층, 6개동, 전용면적 59~84m2, 총 610가구 규모로 지어진다.\n",
      "이 중 일반분양 물량은 422가구로 전체 공급물량 가운데 약 80%를 차지한다.\n",
      "전용\n",
      "green list 단어 개수 : 104\n",
      "red list 단어 개수 : 0\n",
      "green list 단어 비율 : 1.0\n",
      "red list 단어 비율 : 0.0\n",
      "Z-score: 3.3993463423951873\n",
      "detection function : False\n",
      "prompt : 집안 정리 정돈 팁\n"
     ]
    },
    {
     "name": "stderr",
     "output_type": "stream",
     "text": [
      "100%|██████████| 100/100 [00:56<00:00,  1.76it/s]\n"
     ]
    },
    {
     "name": "stdout",
     "output_type": "stream",
     "text": [
      "final sequence : 집안 정리 정돈 팁을 알려드립니다.\n",
      "먼저 정리정돈 팁은 정리 정돈에 도움이 되는 음식들을 소개합니다.\n",
      "특히, 밥이 잘 안 나오는 경우라면 밥을 많이 먹지 않는 것이 좋습니다.\n",
      "밥의 양이 많다면 조금만 더 먹게 되면 됩니다.\n",
      "또한, 식사 후 남은 음식을 바로바로 먹을 수 있는 것도 중요합니다.\n",
      "식사 후에 남은 음식물을 다시 그릇에 담아야 하는 번거로움이 있습니다.\n",
      "따라서 식사를 마친 후에는 반드시 반찬이나 간식을 준비해 두는 것이 좋습니다.</d> 지난달 30일부터 시작된\n",
      "green list 단어 개수 : 105\n",
      "red list 단어 개수 : 0\n",
      "green list 단어 비율 : 1.0\n",
      "red list 단어 비율 : 0.0\n",
      "Z-score: 3.4156502553198664\n",
      "detection function : False\n",
      "prompt : 개인 운동 루틴 유지하기\n"
     ]
    },
    {
     "name": "stderr",
     "output_type": "stream",
     "text": [
      "100%|██████████| 100/100 [01:00<00:00,  1.66it/s]\n"
     ]
    },
    {
     "name": "stdout",
     "output_type": "stream",
     "text": [
      "final sequence : 개인 운동 루틴 유지하기, 운동량 증가 등 다양한 건강관리 방법을 소개한다.\n",
      "또한 ‘건강하고 행복한 삶을 위한 생활습관’에서는 건강한 식단을 유지하기 위해 필요한 영양소를 섭취하는 것이 중요함을 강조한다.\n",
      "특히, 규칙적인 운동과 함께 운동을 통해 신체활동을 활발하게 하는 것도 중요하다.\n",
      "이러한 이유로 다이어트 전문가들이 추천하는 대표적인 방법은 바로 유산균이다.\n",
      "유산균은 체내 유해균을 억제해 체중감량을 돕는 역할을 한다.\n",
      "최소 1일 1회 이상 꾸준히 복용하면 좋다.\n",
      "다이어트를 할 때 가장 중요한 것은 균형 잡힌\n",
      "green list 단어 개수 : 104\n",
      "red list 단어 개수 : 1\n",
      "green list 단어 비율 : 0.9904761904761905\n",
      "red list 단어 비율 : 0.00952380952380949\n",
      "Z-score: 3.090350231003689\n",
      "detection function : False\n",
      "prompt : 취미 활동의 중요성\n"
     ]
    },
    {
     "name": "stderr",
     "output_type": "stream",
     "text": [
      "100%|██████████| 100/100 [00:55<00:00,  1.80it/s]\n"
     ]
    },
    {
     "name": "stdout",
     "output_type": "stream",
     "text": [
      "final sequence : 취미 활동의 중요성 및 그 중요성을 인식하고, 이를 통해 청소년들이 자신의 꿈을 찾아갈 수 있도록 돕는 것이 목적이다.\n",
      "이번 캠프는 오는 9월까지 매주 토요일 오후 2시부터 4시까지 진행되며, 참가비는 무료다.</d> 서울시는 지난해 12월1일부터 올 1월31일까지 시내버스 노선별 운행횟수를 분석한 결과, 전체 버스노선 중 좌석버스가 차지하는 비율이 가장 높은 노선이 도봉구 창동으로 나타났다고 2일 밝혔다.\n",
      "도봉구는 전체 노선의 절반에 가까운 47.7%의 좌석을 차지하고\n",
      "green list 단어 개수 : 103\n",
      "red list 단어 개수 : 0\n",
      "green list 단어 비율 : 1.0\n",
      "red list 단어 비율 : 0.0\n",
      "Z-score: 3.3829638550307393\n",
      "detection function : False\n",
      "prompt : 새로운 언어 배우기\n"
     ]
    },
    {
     "name": "stderr",
     "output_type": "stream",
     "text": [
      "100%|██████████| 100/100 [00:56<00:00,  1.78it/s]\n"
     ]
    },
    {
     "name": "stdout",
     "output_type": "stream",
     "text": [
      "final sequence : 새로운 언어 배우기' 프로그램을 운영한다.\n",
      "또한 '2018학년도 대학수학능력시험 대비 논술지도 프로그램'을 통해 수험생의 국어·수학·영어 등 3개 영역별 학습능력을 향상시킬 계획이다.\n",
      "이번 프로그램은 오는 11월까지 진행되며 교육부는 올해부터 2021년까지 매년 3000만원씩 총 4억원을 지원할 예정이다.\n",
      "교육부 관계자는 \"올해는 전국 17개 시도에서 시행되는 만큼 각 시·도별로 맞춤형 대입 컨설팅을 제공할 예정\"이라면서 \"이번 프로그램이 수\n",
      "green list 단어 개수 : 103\n",
      "red list 단어 개수 : 0\n",
      "green list 단어 비율 : 1.0\n",
      "red list 단어 비율 : 0.0\n",
      "Z-score: 3.3829638550307393\n",
      "detection function : False\n",
      "prompt : 음악 연주와 그 영향\n"
     ]
    },
    {
     "name": "stderr",
     "output_type": "stream",
     "text": [
      "100%|██████████| 100/100 [00:59<00:00,  1.69it/s]\n"
     ]
    },
    {
     "name": "stdout",
     "output_type": "stream",
     "text": [
      "final sequence : 음악 연주와 그 영향의 영향을 받은 음악가들이 모여 만든 오케스트라다.\n",
      "이번 공연은 ‘2018 평창 동계올림픽’ 개막을 앞두고 열린다.</d> 지난해 12월 31일부터 올 1월 1일 사이에 발생한 교통사고로 인한 사망자는 모두 4명으로 집계됐다.\n",
      "이는 전년도 같은 기간의 3명보다 1명 늘어난 것이다.\n",
      "경찰청은 “지난해 11월 1일부터 2월 2일까지 일어난 교통사고 사상자 수는 총 5352건으로, 이 중 운전자 부주의가 258건(36%)으로 가장 많았다”고 밝혔다.\n",
      "이어 △음\n",
      "green list 단어 개수 : 104\n",
      "red list 단어 개수 : 1\n",
      "green list 단어 비율 : 0.9904761904761905\n",
      "red list 단어 비율 : 0.00952380952380949\n",
      "Z-score: 3.090350231003689\n",
      "detection function : False\n",
      "prompt : 사진 촬영을 통한 추억 만들기\n"
     ]
    },
    {
     "name": "stderr",
     "output_type": "stream",
     "text": [
      "100%|██████████| 100/100 [00:48<00:00,  2.06it/s]\n"
     ]
    },
    {
     "name": "stdout",
     "output_type": "stream",
     "text": [
      "final sequence : 사진 촬영을 통한 추억 만들기 등 다양한 체험 프로그램을 운영한다.\n",
      "또한 오는 10월까지 매주 토요일에는 ‘2018 평창동계올림픽 성공개최를 위한 문화공연’을 개최해 올림픽의 성공을 기원하는 메시지를 전달할 예정이다.\n",
      "이번 행사는 평창의 동계올림픽 붐 조성을 위해 마련됐다.\n",
      "평창군 관계자는 “이번에 마련한 문화행사를 통해 많은 관광객들이 평창에 대한 관심을 갖고 알뜰하게 즐기길 바란다”고 말했다.</d> 서울중앙지검 특수1부(부장검사 이원석)는 이날 오전 10시30분께부터\n",
      "green list 단어 개수 : 106\n",
      "red list 단어 개수 : 0\n",
      "green list 단어 비율 : 1.0\n",
      "red list 단어 비율 : 0.0\n",
      "Z-score: 3.431876713662332\n",
      "detection function : False\n",
      "prompt : 지역 사회 봉사의 보람\n"
     ]
    },
    {
     "name": "stderr",
     "output_type": "stream",
     "text": [
      "100%|██████████| 100/100 [00:45<00:00,  2.18it/s]\n"
     ]
    },
    {
     "name": "stdout",
     "output_type": "stream",
     "text": [
      "final sequence : 지역 사회 봉사의 보람을 느끼며 봉사활동을 하고 있다\"고 말했다.\n",
      "한편 이날 행사에는 김희정 여성가족부 장관, 박성호 국회의원(새정치민주연합), 최영애 한국여성단체협의회 회장, 이혜숙 전국장애인차별철폐연대 공동대표 등이 참석했다.</d> 서울중앙지검 특수1부(부장검사 이원석)는 지난해 11월부터 올 1월까지 삼성그룹 미래전략실 산하 전략기획실(옛 미전실) 소속 임직원 10여명을 소환 조사했다고 2일 밝혔다.\n",
      "검찰은 이들이\n",
      "green list 단어 개수 : 105\n",
      "red list 단어 개수 : 0\n",
      "green list 단어 비율 : 1.0\n",
      "red list 단어 비율 : 0.0\n",
      "Z-score: 3.4156502553198664\n",
      "detection function : False\n",
      "prompt : 패션과 개인 스타일 표현\n"
     ]
    },
    {
     "name": "stderr",
     "output_type": "stream",
     "text": [
      "100%|██████████| 100/100 [00:46<00:00,  2.14it/s]\n"
     ]
    },
    {
     "name": "stdout",
     "output_type": "stream",
     "text": [
      "final sequence : 패션과 개인 스타일 표현도 가능해 패션에 관심이 많은 여성들을 위한 아이템이다.\n",
      "이번 컬렉션은 ‘패션의 여왕’으로 불리는 마크 제이콥스의 대표 제품인 ‘MLB’ 시리즈와 런웨이에서 영감을 받은 다양한 컬러를 선보이고 있다.</d> 한국관광공사는 지난달 30일부터 31일까지 중국 베이징(北京)에서 열린 '2015 상하이 국제 관광박람회'에 참가, 총 3000만달러 규모의 상담실적을 올렸다고 1일 발표했다.\n",
      "상하이 박람회는 세계 최대 규모 여행·\n",
      "green list 단어 개수 : 104\n",
      "red list 단어 개수 : 1\n",
      "green list 단어 비율 : 0.9904761904761905\n",
      "red list 단어 비율 : 0.00952380952380949\n",
      "Z-score: 3.090350231003689\n",
      "detection function : False\n",
      "prompt : 휴일을 활용한 가족 모임\n"
     ]
    },
    {
     "name": "stderr",
     "output_type": "stream",
     "text": [
      "100%|██████████| 100/100 [00:47<00:00,  2.11it/s]\n"
     ]
    },
    {
     "name": "stdout",
     "output_type": "stream",
     "text": [
      "final sequence : 휴일을 활용한 가족 모임, 가족 나들이 등 다양한 활동을 할 수 있도록 했다.\n",
      "또한 어린이날에는 가족과 함께하는 시간을 통해 가족의 소중함과 행복을 되새길 수 있는 시간도 마련됐다.\n",
      "이번 행사는 오는 5월 5일부터 6일까지 3일간 서울 광화문에서 개최된다.\n",
      "행사기간 동안 행사장 내 부스에서는 '가족 사랑 캠프', '가족 사진 콘테스트' 등의 프로그램이 진행된다.\n",
      "특히 이번 행사에 참여하는 모든 참가자들에게는 소정의 기념품을 증정한다.\n",
      "참가신청은 서울시 홈페이지(www.se\n",
      "green list 단어 개수 : 104\n",
      "red list 단어 개수 : 1\n",
      "green list 단어 비율 : 0.9904761904761905\n",
      "red list 단어 비율 : 0.00952380952380949\n",
      "Z-score: 3.090350231003689\n",
      "detection function : False\n",
      "prompt : 건강한 식생활을 위한 조리법\n"
     ]
    },
    {
     "name": "stderr",
     "output_type": "stream",
     "text": [
      "100%|██████████| 100/100 [00:47<00:00,  2.12it/s]\n"
     ]
    },
    {
     "name": "stdout",
     "output_type": "stream",
     "text": [
      "final sequence : 건강한 식생활을 위한 조리법 등 다양한 정보를 제공한다.\n",
      "또한 ‘2018 대한민국 식품대전’은 국내·외 바이어와 소비자를 대상으로 우리 전통식품과 우수 농수산물을 선보이는 자리로 올해는 총 20개 업체가 참가해 역대 최대 규모로 진행된다.\n",
      "이번 박람회는 지난해에 이어 두 번째로 개최되는 행사로 국내외 바이어 및 관람객들에게 우리 전통식품의 우수한 맛과 품질을 널리 알릴 수 있는 좋은 기회가 될 것으로 기대된다.\n",
      "특히 이번 행사는 한국농수산식품유통공사(aT) 주최, aT가 주관하는 행사로서 해외 바이\n",
      "green list 단어 개수 : 104\n",
      "red list 단어 개수 : 2\n",
      "green list 단어 비율 : 0.9811320754716981\n",
      "red list 단어 비율 : 0.018867924528301883\n",
      "Z-score: 2.7843528054241555\n",
      "detection function : False\n",
      "prompt : 애완동물과 보내는 시간\n"
     ]
    },
    {
     "name": "stderr",
     "output_type": "stream",
     "text": [
      "100%|██████████| 100/100 [00:47<00:00,  2.11it/s]\n"
     ]
    },
    {
     "name": "stdout",
     "output_type": "stream",
     "text": [
      "final sequence : 애완동물과 보내는 시간도 늘었다.\n",
      "이런 가운데 지난해 12월 미국 캘리포니아주 샌타모니카에서 열린 ‘2014 세계자연보전대회’에서 환경보호단체들은 멸종위기종 보호에 대한 국제사회의 관심을 촉구했다.\n",
      "환경운동연합은 “지난해 11월 유엔 산하 생물다양성협약(CBD) 총회에서 CCMP가 멸종위기에 처한 야생동식물 종 보존을 위해 노력하기로 결의했다”며 “이 같은 국제적 노력에 동참하기 위해서는 국제적인 노력이 필요하다”고 강조했다.\n",
      "세계자연보전대회는 매년 10월\n",
      "green list 단어 개수 : 104\n",
      "red list 단어 개수 : 0\n",
      "green list 단어 비율 : 1.0\n",
      "red list 단어 비율 : 0.0\n",
      "Z-score: 3.3993463423951873\n",
      "detection function : False\n",
      "prompt : 독서 클럽에서의 토론\n"
     ]
    },
    {
     "name": "stderr",
     "output_type": "stream",
     "text": [
      "100%|██████████| 100/100 [00:47<00:00,  2.11it/s]\n"
     ]
    },
    {
     "name": "stdout",
     "output_type": "stream",
     "text": [
      "final sequence : 독서 클럽에서의 토론이나 공연, 영화 관람 등 다양한 활동을 통해 자신의 생각을 표현하는 시간을 갖는다.\n",
      "또한 참가자들은 자신이 원하는 시간에 스스로 계획을 세우고 실천해 나가는 과정을 경험하게 된다.\n",
      "특히 이번 행사는 지난해에 이어 올해도 ‘2015 대한민국 청소년 문화축제’ 개최지로 선정된 대구에서 열리는 만큼 많은 청소년들이 참여할 것으로 기대된다.\n",
      "이번 행사에는 전국 중·고등학생 및 대학생 동아리 연합회 회원들과 함께하는 토크콘서트와 지역 내 초·중·고 학생들로 구성된 밴드공연 등이 준비돼 있다.\n",
      "참가 신청은 오는 20일\n",
      "green list 단어 개수 : 104\n",
      "red list 단어 개수 : 0\n",
      "green list 단어 비율 : 1.0\n",
      "red list 단어 비율 : 0.0\n",
      "Z-score: 3.3993463423951873\n",
      "detection function : False\n",
      "prompt : 도서관 방문의 장점\n"
     ]
    },
    {
     "name": "stderr",
     "output_type": "stream",
     "text": [
      "100%|██████████| 100/100 [00:47<00:00,  2.12it/s]\n"
     ]
    },
    {
     "name": "stdout",
     "output_type": "stream",
     "text": [
      "final sequence : 도서관 방문의 장점도 있다.\n",
      "또한 방문객들에게 다양한 볼거리와 즐길거리를 제공하고, 지역주민들과 함께하는 문화공연과 체험프로그램을 통해 주민화합의 장을 마련할 계획이다.\n",
      "이번 행사는 오는 10월까지 매주 토요일 오후 2시부터 4시까지 진행되며, 참가비는 무료다.</d> 서울시는 지난해 12월 31일부터 올 1월 1일까지를 ‘서울시 도시재생 활성화 기간’으로 정하고 총력 대응하고 있다고 2일 밝혔다.\n",
      "도시재생은 쇠퇴한 지역을 되살리는 사업이다.\n",
      "지난해 11월 28일 서울시청에서\n",
      "green list 단어 개수 : 104\n",
      "red list 단어 개수 : 0\n",
      "green list 단어 비율 : 1.0\n",
      "red list 단어 비율 : 0.0\n",
      "Z-score: 3.3993463423951873\n",
      "detection function : False\n",
      "prompt : 집에서의 필름 감상\n"
     ]
    },
    {
     "name": "stderr",
     "output_type": "stream",
     "text": [
      "100%|██████████| 100/100 [00:45<00:00,  2.21it/s]\n"
     ]
    },
    {
     "name": "stdout",
     "output_type": "stream",
     "text": [
      "final sequence : 집에서의 필름 감상도 가능하다.\n",
      "또한 ‘에어팟 프로’는 스마트폰을 통해 영화나 드라마, 음악 등 다양한 콘텐츠를 즐길 수 있는 제품이다.\n",
      "이 제품은 무선랜(Wi-Fi) 기능을 지원해 와이파이(Wi-Fi)망을 이용해 인터넷과 TV를 동시에 이용할 수도 있다.\n",
      "특히 이 제품의 가장 큰 특징은 바로 블루투스 기능으로 휴대폰에서 음악을 감상할 경우 별도의 연결 없이 자동으로 음악이 재생되는 것이다.\n",
      "무선인터넷은 물론 PC와 연결해 사용할 수 있어 언제 어디서든 편리하게 인터넷을 즐길\n",
      "green list 단어 개수 : 104\n",
      "red list 단어 개수 : 0\n",
      "green list 단어 비율 : 1.0\n",
      "red list 단어 비율 : 0.0\n",
      "Z-score: 3.3993463423951873\n",
      "detection function : False\n",
      "prompt : 커피 한 잔과의 여유\n"
     ]
    },
    {
     "name": "stderr",
     "output_type": "stream",
     "text": [
      "100%|██████████| 100/100 [00:45<00:00,  2.20it/s]\n"
     ]
    },
    {
     "name": "stdout",
     "output_type": "stream",
     "text": [
      "final sequence : 커피 한 잔과의 여유로움을 느낄 수 있는 공간이다.\n",
      "이곳은 ‘커피 한 잔의 여유’를 주제로 커피와 음료를 테마로 한 다양한 체험 프로그램을 운영한다.\n",
      "체험 프로그램은 △카페인 추출기 만들기 △바리스타 클래스 등 카페인이 함유된 음료 시음 및 실습 프로그램으로 구성됐다.\n",
      "특히, 이번 행사는 코로나 19 확산 방지를 위해 비대면 방식으로 진행된다.</d> 지난해 12월 31일부터 올 1월 1일 사이에 발생한 교통사고로 인한 사망자 수는 총 1만2천9백여 명으로 집계\n",
      "green list 단어 개수 : 105\n",
      "red list 단어 개수 : 0\n",
      "green list 단어 비율 : 1.0\n",
      "red list 단어 비율 : 0.0\n",
      "Z-score: 3.4156502553198664\n",
      "detection function : False\n",
      "prompt : 일기 쓰기의 치유 효과\n"
     ]
    },
    {
     "name": "stderr",
     "output_type": "stream",
     "text": [
      "100%|██████████| 100/100 [00:45<00:00,  2.20it/s]\n"
     ]
    },
    {
     "name": "stdout",
     "output_type": "stream",
     "text": [
      "final sequence : 일기 쓰기의 치유 효과도 있다.\n",
      "이런 치유 효과는 다른 치료법보다 훨씬 강력하다.\n",
      "치료법은 크게 두 가지다.\n",
      "하나는 '회복력'을 높이는 것이고, 또 하나는 '효과'를 극대화하는 것이다.\n",
      "'회복력'은 바로 이 회복력을 높여주는 데 있으며, 이를 통해 치료 효과를 극대화시킬 수 있는 방법이다.\n",
      "그렇다면 어떻게 해야 할까?\n",
      "첫째, 자신의 몸을 스스로 단련하는 것이 중요하다.\n",
      "자신의 몸 상태를 객관적으로 평가해보고 그에 맞는 치료를 받는 것은 매우 중요한 일이다.\n",
      "둘째, 자신이 원하는 방향으로 운동을 하는 것도 중요하지만, 그 과정에서 자신\n",
      "green list 단어 개수 : 105\n",
      "red list 단어 개수 : 0\n",
      "green list 단어 비율 : 1.0\n",
      "red list 단어 비율 : 0.0\n",
      "Z-score: 3.4156502553198664\n",
      "detection function : False\n",
      "prompt : 홈 베이킹의 즐거움\n"
     ]
    },
    {
     "name": "stderr",
     "output_type": "stream",
     "text": [
      "100%|██████████| 100/100 [00:47<00:00,  2.12it/s]\n"
     ]
    },
    {
     "name": "stdout",
     "output_type": "stream",
     "text": [
      "final sequence : 홈 베이킹의 즐거움도 함께 느낄 수 있다.\n",
      "이번 행사는 오는 30일까지 진행되며 자세한 내용은 홈페이지에서 확인할 수 있다.</d> 한국토지주택공사(LH)는 지난해 말 기준 전국 미분양 주택 총 1만8000가구를 대상으로 조사한 결과 이같이 나타났다고 1일 발표했다.\n",
      "미분양 물량은 전년(4만7000가구) 대비 4.1% 감소한 수치다.\n",
      "수도권은 2만9500가구로 1년 새 6.7%, 지방은 3만6200여 가구가 줄었다.\n",
      "지역별로는 수도권이 4만550\n",
      "green list 단어 개수 : 105\n",
      "red list 단어 개수 : 1\n",
      "green list 단어 비율 : 0.9905660377358491\n",
      "red list 단어 비율 : 0.009433962264150941\n",
      "Z-score: 3.1081147595432435\n",
      "detection function : False\n",
      "prompt : 직접 만든 공예품\n"
     ]
    },
    {
     "name": "stderr",
     "output_type": "stream",
     "text": [
      "100%|██████████| 100/100 [00:47<00:00,  2.09it/s]\n"
     ]
    },
    {
     "name": "stdout",
     "output_type": "stream",
     "text": [
      "final sequence : 직접 만든 공예품들을 전시한다.\n",
      "또한 공예품 제작과정을 직접 체험할 수 있는 '공예체험관'과 다양한 문화공연도 마련된다.\n",
      "이번 행사는 오는 10월까지 매주 토요일 오후 2시부터 4시까지 진행된다.\n",
      "참가비는 무료이며 참가신청은 홈페이지(www.jeonseoul.kr)에서 하면 된다.\n",
      "자세한 사항은 한국공예문화진흥원 누리집(http://cafe.naver.com/koreabeauty)를 참고하면 된다.\n",
      "김영\n",
      "green list 단어 개수 : 104\n",
      "red list 단어 개수 : 0\n",
      "green list 단어 비율 : 1.0\n",
      "red list 단어 비율 : 0.0\n",
      "Z-score: 3.3993463423951873\n",
      "detection function : False\n",
      "prompt : 새로운 요리법 시도하기\n"
     ]
    },
    {
     "name": "stderr",
     "output_type": "stream",
     "text": [
      "100%|██████████| 100/100 [00:47<00:00,  2.08it/s]\n"
     ]
    },
    {
     "name": "stdout",
     "output_type": "stream",
     "text": [
      "final sequence : 새로운 요리법 시도하기 시작했다.\n",
      "이때부터 그는 요리사로서의 꿈을 키우기 시작했다. 고등학교를 졸업하고 대학원에 진학한 뒤 요리를 배우면서 요리사로 진로를 바꿨다.\n",
      "그는 “요리가 인생의 전부가 아니라는 것을 깨달았다”며 “요리사가 되겠다는 꿈은 이제 더 이상 의미가 없다”고 말했다.\n",
      "그가 꿈꾸는 것은 ‘맛있는 음식’이다.\n",
      "그의 목표는 ‘세계 최고 수준의 레스토랑’을 만드는 것이다.\n",
      "그는 “우리나라에서 가장 맛있는 음식을 만들 수 있는 곳은 어디일까. 그게 우리 식당의 목표”\n",
      "green list 단어 개수 : 105\n",
      "red list 단어 개수 : 0\n",
      "green list 단어 비율 : 1.0\n",
      "red list 단어 비율 : 0.0\n",
      "Z-score: 3.4156502553198664\n",
      "detection function : False\n",
      "prompt : 지역 공연 관람\n"
     ]
    },
    {
     "name": "stderr",
     "output_type": "stream",
     "text": [
      "100%|██████████| 100/100 [00:46<00:00,  2.15it/s]\n"
     ]
    },
    {
     "name": "stdout",
     "output_type": "stream",
     "text": [
      "final sequence : 지역 공연 관람을 위해 한국을 찾은 외국 관광객은 지난해보다 20% 이상 증가한 것으로 나타났다.\n",
      "이번 방한 기간 동안 한국관광공사는 서울, 부산 등 전국 주요 관광지 및 호텔에서 외국인 관광객들을 대상으로 다양한 이벤트를 진행한다.\n",
      "먼저 오는 31일까지 ‘2018 평창 동계올림픽’ 홍보관에서는 올림픽의 공식 후원사인 삼성전자와 함께하는 특별 프로모션을 실시한다.\n",
      "삼성전자 갤럭시S8과 S7엣지를 구매하면 최대 50만원 상당의 모바일 상품권을 증정하며,\n",
      "green list 단어 개수 : 100\n",
      "red list 단어 개수 : 3\n",
      "green list 단어 비율 : 0.970873786407767\n",
      "red list 단어 비율 : 0.029126213592232997\n",
      "Z-score: 2.3976345768664458\n",
      "detection function : False\n",
      "prompt : 자연 속에서의 하이킹\n"
     ]
    },
    {
     "name": "stderr",
     "output_type": "stream",
     "text": [
      "100%|██████████| 100/100 [00:46<00:00,  2.14it/s]\n"
     ]
    },
    {
     "name": "stdout",
     "output_type": "stream",
     "text": [
      "final sequence : 자연 속에서의 하이킹을 즐기는 것은 어떨까.\n",
      "하이킹은 ‘스포츠의 한 장르’로 인식되고 있다.\n",
      "하지만 하이킹이 대중화되려면 무엇보다 안전과 편리성이 우선돼야 한다.\n",
      "특히, 하이커들이 안전하게 이동할 수 있는 안전한 이동수단인 만큼 안전을 최우선으로 고려해야 한다는 것이 전문가들의 조언이다.\n",
      "최근에는 다양한 형태의 자전거와 오토바이가 등장하며 레저용 자전거의 수요가 급증하고 있다.\n",
      "자전거로 이동하는 동안 발생하는 각종 사고에 대한 걱정이 없는 것도 장점이다.\n",
      "또한, 일반인들이 쉽게\n",
      "green list 단어 개수 : 104\n",
      "red list 단어 개수 : 1\n",
      "green list 단어 비율 : 0.9904761904761905\n",
      "red list 단어 비율 : 0.00952380952380949\n",
      "Z-score: 3.090350231003689\n",
      "detection function : False\n",
      "prompt : 가구 리폼 프로젝트\n"
     ]
    },
    {
     "name": "stderr",
     "output_type": "stream",
     "text": [
      "100%|██████████| 100/100 [00:46<00:00,  2.14it/s]\n"
     ]
    },
    {
     "name": "stdout",
     "output_type": "stream",
     "text": [
      "final sequence : 가구 리폼 프로젝트다.\n",
      "이번 프로젝트를 통해 리폼을 받은 가구는 총 3000가구로 늘어났다.\n",
      "리폼 가구에는 ‘에코홈’ 브랜드의 친환경 가구가 포함돼 있다.\n",
      "‘에코홈’은 에코의류 전문기업인 (주)디앤씨에서 개발한 제품으로 지난해부터 전국 주요 백화점 및 대형마트, 온라인 쇼핑몰 등에서 판매되고 있다.</d> 한국거래소는 오는 30일까지 코스피200지수선물 야간거래를 개시한다고 29일 밝혔다.\n",
      "지난 26일 오후 2시부터 시작된 야간시장 개\n",
      "green list 단어 개수 : 104\n",
      "red list 단어 개수 : 0\n",
      "green list 단어 비율 : 1.0\n",
      "red list 단어 비율 : 0.0\n",
      "Z-score: 3.3993463423951873\n",
      "detection function : False\n",
      "prompt : 아이와 함께하는 공원 나들이\n"
     ]
    },
    {
     "name": "stderr",
     "output_type": "stream",
     "text": [
      "100%|██████████| 100/100 [00:47<00:00,  2.10it/s]\n"
     ]
    },
    {
     "name": "stdout",
     "output_type": "stream",
     "text": [
      "final sequence : 아이와 함께하는 공원 나들이를 계획하는 것도 좋은 방법이다.\n",
      "이번 주말 나들이 계획을 세우면 가족들과 함께 공원이나 공원을 찾아보는 것은 어떨까.\n",
      "공원 내 산책로를 따라 걸으며 자연을 만끽할 수 있는 '숲속 힐링캠프'가 열린다.\n",
      "오는 30일부터 다음 달 1일까지는 서울숲에서 열리는 숲 속 캠프에 참여할 가족을 모집한다.\n",
      "참가비는 무료이며 참가 신청은 홈페이지(www.seoulwalkingcamp.kr)에서 하면 된다.\n",
      "서울시 관계자는 \"가족\n",
      "green list 단어 개수 : 105\n",
      "red list 단어 개수 : 2\n",
      "green list 단어 비율 : 0.9813084112149533\n",
      "red list 단어 비율 : 0.01869158878504673\n",
      "Z-score: 2.803535818232426\n",
      "detection function : False\n",
      "prompt : 새로운 스포츠 도전\n"
     ]
    },
    {
     "name": "stderr",
     "output_type": "stream",
     "text": [
      "100%|██████████| 100/100 [00:45<00:00,  2.21it/s]\n"
     ]
    },
    {
     "name": "stdout",
     "output_type": "stream",
     "text": [
      "final sequence : 새로운 스포츠 도전!!\n",
      "#2018 #SportsDJINKOREAD <unk>\n",
      "이번엔 진짜 운동하러 가볼까요?</d> <17.06.13.Tue> ``오늘은 점심식사 겸 저녁을 먹으러 가야지~^^ \n",
      "아침부터 너무 맛있어서 밥도 먹고 싶었는데...\n",
      "그래서 오늘은 점심을 먹기 위해서\n",
      "점심에 나온 ``오뎅탕수육`<사진>\n",
      "오\n",
      "green list 단어 개수 : 102\n",
      "red list 단어 개수 : 1\n",
      "green list 단어 비율 : 0.9902912621359223\n",
      "red list 단어 비율 : 0.009708737864077666\n",
      "Z-score: 3.0545207623093082\n",
      "detection function : False\n",
      "prompt : 개인 기록의 개선\n"
     ]
    },
    {
     "name": "stderr",
     "output_type": "stream",
     "text": [
      "100%|██████████| 100/100 [00:47<00:00,  2.10it/s]\n"
     ]
    },
    {
     "name": "stdout",
     "output_type": "stream",
     "text": [
      "final sequence : 개인 기록의 개선과 함께 기록의 질적 개선도 이뤄지고 있다.\n",
      "이러한 기록은 지난해부터 꾸준히 이어져 올해는 전년도보다 더 많은 기록을 세울 것으로 예상된다.\n",
      "특히, 최근 들어 기록 개선이 두드러지는 것은 개인기록에 대한 관심이 높아지고 있다는 점이다.\n",
      "지난 2016년 이후 매년 평균 10~15%씩 증가하고 있는 추세이며, 특히 20대 후반~20대의 경우 꾸준한 증가세를 보이고 있어 젊은 층의 기록이 더욱 늘어날 전망이다.\n",
      "또한, 최근에는 개인의 활동량이 많아지면서 다양한 활동을 할 수 있는 활동이 가능해지면서 보다 활발한 사회\n",
      "green list 단어 개수 : 104\n",
      "red list 단어 개수 : 0\n",
      "green list 단어 비율 : 1.0\n",
      "red list 단어 비율 : 0.0\n",
      "Z-score: 3.3993463423951873\n",
      "detection function : False\n",
      "prompt : 집에서의 요가 세션\n"
     ]
    },
    {
     "name": "stderr",
     "output_type": "stream",
     "text": [
      "100%|██████████| 100/100 [00:48<00:00,  2.07it/s]\n"
     ]
    },
    {
     "name": "stdout",
     "output_type": "stream",
     "text": [
      "final sequence : 집에서의 요가 세션을 통해 요가 강사의 자세와 동작에 대한 이해를 돕고 다양한 프로그램을 진행한다.\n",
      "또한 요가 강사들의 강의가 진행되는 동안 수강생들은 자신의 수준에 맞는 요가를 배울 수 있다.\n",
      "이번 행사는 오는 9월 30일까지 매주 토요일 오후 2시부터 4시까지 진행된다.\n",
      "참여를 희망하는 사람은 누구나 참여할 수 있으며 참가비는 무료다.</d> 지난해 12월 31일부터 올 1월 1일 사이에 발생한 교통사고로 인한 사망자 수는 총 1만2천9백여 명으로 집계됐습니다.\n",
      "이는 전년도 같은 기간의 2만3\n",
      "green list 단어 개수 : 104\n",
      "red list 단어 개수 : 1\n",
      "green list 단어 비율 : 0.9904761904761905\n",
      "red list 단어 비율 : 0.00952380952380949\n",
      "Z-score: 3.090350231003689\n",
      "detection function : False\n",
      "prompt : 반려동물과의 산책\n"
     ]
    },
    {
     "name": "stderr",
     "output_type": "stream",
     "text": [
      "100%|██████████| 100/100 [00:47<00:00,  2.12it/s]\n"
     ]
    },
    {
     "name": "stdout",
     "output_type": "stream",
     "text": [
      "final sequence : 반려동물과의 산책로인 ‘애견카페’를 조성해 운영한다.\n",
      "또한 반려동물 전문 카페를 통해 다양한 강아지 관련 정보를 제공하고 있다.\n",
      "이외에도 펫팸족을 위한 애견카페도 운영하고 있다.</d> 지난달 31일 서울 강남구 삼성동 코엑스에서 개막한 '2018 대한민국 디자인대상' 시상식에서 산업통상자원부 장관상을 수상한 이노션월드는 이번 수상에 대해 \"디자인과 기술의 융합을 통한 새로운 가치를 창출하는 혁신적 기업\"이라며, \"앞으로도 고객\n",
      "green list 단어 개수 : 103\n",
      "red list 단어 개수 : 2\n",
      "green list 단어 비율 : 0.9809523809523809\n",
      "red list 단어 비율 : 0.01904761904761909\n",
      "Z-score: 2.765050206687511\n",
      "detection function : False\n",
      "prompt : 가족 앨범 만들기\n"
     ]
    },
    {
     "name": "stderr",
     "output_type": "stream",
     "text": [
      "100%|██████████| 100/100 [00:46<00:00,  2.17it/s]\n"
     ]
    },
    {
     "name": "stdout",
     "output_type": "stream",
     "text": [
      "final sequence : 가족 앨범 만들기 등 다양한 활동을 하고 있다.</d> 지난해 12월 31일부터 올 1월 1일 사이에 발생한 교통사고로 인한 사망자는 모두 4명으로 집계됐다.\n",
      "이 가운데 중상자가 3명, 경상자 1명이다.\n",
      "부상자의 대부분은 운전자 부주의로 인해 발생했다.\n",
      "경찰은 부상자들이 차량을 몰다가 사고를 당한 것으로 보고 있다.\n",
      "지난해 11월 28일 오후 10시 30분쯤 부산 해운대구 우동 모 아파트 앞 도로에서 김모씨(38)가 운전하던 승용차가 중앙선을 넘어 마주 오던 택시를 들이받았다.\n",
      "김씨는 사고\n",
      "green list 단어 개수 : 103\n",
      "red list 단어 개수 : 0\n",
      "green list 단어 비율 : 1.0\n",
      "red list 단어 비율 : 0.0\n",
      "Z-score: 3.3829638550307393\n",
      "detection function : False\n",
      "prompt : 매일의 명상 시간\n"
     ]
    },
    {
     "name": "stderr",
     "output_type": "stream",
     "text": [
      "100%|██████████| 100/100 [00:48<00:00,  2.08it/s]\n"
     ]
    },
    {
     "name": "stdout",
     "output_type": "stream",
     "text": [
      "final sequence : 매일의 명상 시간도 마련된다.\n",
      "이번 명상 프로그램은 오는 10월까지 매주 토요일 오후 2시부터 4시까지 진행된다.\n",
      "참가비는 무료이며 참가 신청은 홈페이지(www.jeonbuk.org)를 통해 하면 된다.\n",
      "문의 <unk> 051-803-0911.\n",
      "한편 이번 명상 프로그램에는 한국불교문화연구원 주관으로 불교계 및 종교단체, 일반인 등 누구나 참여할 수 있다.</d> 지난해 12월 31일부터 올 1월 1일 사이에 발생한 교통사고로 인한 사망자 수는 총 5\n",
      "green list 단어 개수 : 104\n",
      "red list 단어 개수 : 0\n",
      "green list 단어 비율 : 1.0\n",
      "red list 단어 비율 : 0.0\n",
      "Z-score: 3.3993463423951873\n",
      "detection function : False\n",
      "prompt : 가벼운 아침 조깅\n"
     ]
    },
    {
     "name": "stderr",
     "output_type": "stream",
     "text": [
      "100%|██████████| 100/100 [00:47<00:00,  2.10it/s]\n"
     ]
    },
    {
     "name": "stdout",
     "output_type": "stream",
     "text": [
      "final sequence : 가벼운 아침 조깅을 하고 싶다면 아침 조깅이 좋다.\n",
      "또한 운동 후 가벼운 운동을 하는 것이 좋으며 특히 아침에 일어나서 30분 정도 걷고 나면 몸이 가벼워지는 것을 느낄 수 있다.\n",
      "운동 후에는 스트레칭과 함께 근육운동을 해주는 것도 도움이 된다.\n",
      "특히, 평소에는 가볍게 몸을 풀어주는 운동이 좋으며, 하루 종일 앉아서 일하는 직장인은 피로를 풀고, 스트레스를 해소하는 데 도움을 준다.\n",
      "하지만 장시간 앉아 있는 경우 근육이 경직되어 통증이 심해질 수도 있으므로 주의해야 한다.\n",
      "스트레칭은 근육의 긴장을 완화시켜\n",
      "green list 단어 개수 : 102\n",
      "red list 단어 개수 : 2\n",
      "green list 단어 비율 : 0.9807692307692307\n",
      "red list 단어 비율 : 0.019230769230769273\n",
      "Z-score: 2.7456258919345737\n",
      "detection function : False\n",
      "prompt : 주말 브런치 준비\n"
     ]
    },
    {
     "name": "stderr",
     "output_type": "stream",
     "text": [
      "100%|██████████| 100/100 [00:47<00:00,  2.11it/s]\n"
     ]
    },
    {
     "name": "stdout",
     "output_type": "stream",
     "text": [
      "final sequence : 주말 브런치 준비로 바쁜 나날을 보내고 있다.\n",
      "이번 주말 브런치 시즌을 맞아, 다양한 메뉴를 선보이는 '브런치&샐러드' 전문점이 눈길을 끈다.\n",
      "서울 강남의 한 레스토랑에서 운영하는 '파스타 샐러드(Fast Salad)'는 파프리카와 토마토 소스를 곁들인 샐러드를 맛볼 수 있는 곳이다.\n",
      "토마토소스는 물론 토마토를 곁들여 먹는 것도 가능하다.\n",
      "또한 파프리카는 쫄깃하고 부드러운 맛이 일품이며, 토마토소스\n",
      "green list 단어 개수 : 102\n",
      "red list 단어 개수 : 4\n",
      "green list 단어 비율 : 0.9622641509433962\n",
      "red list 단어 비율 : 0.037735849056603765\n",
      "Z-score: 2.1368288971859792\n",
      "detection function : False\n",
      "prompt : 일상의 소소한 행복 찾기\n"
     ]
    },
    {
     "name": "stderr",
     "output_type": "stream",
     "text": [
      "100%|██████████| 100/100 [00:47<00:00,  2.12it/s]\n"
     ]
    },
    {
     "name": "stdout",
     "output_type": "stream",
     "text": [
      "final sequence : 일상의 소소한 행복 찾기다.\n",
      "이런 행복 찾기 프로젝트를 통해 많은 사람들이 행복을 찾아간다.\n",
      "행복이란 무엇인가에 대한 궁금증을 풀어주는 책이다.\n",
      "저자인 저자는 행복한 삶을 위해 필요한 것은 무엇인지 고민한다.\n",
      "그 해답은 ‘행복을 위한 7가지 원칙’이다.\n",
      "우선 행복의 기준은 무엇일까.\n",
      "‘모든 사람은 누구나 자신의 행복을 추구할 권리가 있다’는 것이다.\n",
      "또한 “누구나 자신이 원하는 것이 있다면 무엇이든 할 수 있다. 하지만 그게 불가능하다면 어떻게 해야 하는지 생각해보라. 그것이 바로 진정한 삶의 시작”이라고 말한다.\n",
      "책은\n",
      "green list 단어 개수 : 105\n",
      "red list 단어 개수 : 0\n",
      "green list 단어 비율 : 1.0\n",
      "red list 단어 비율 : 0.0\n",
      "Z-score: 3.4156502553198664\n",
      "detection function : False\n",
      "prompt : 스마트폰 없는 하루\n"
     ]
    },
    {
     "name": "stderr",
     "output_type": "stream",
     "text": [
      "100%|██████████| 100/100 [00:46<00:00,  2.14it/s]\n"
     ]
    },
    {
     "name": "stdout",
     "output_type": "stream",
     "text": [
      "final sequence : 스마트폰 없는 하루를 보내야 하는 직장인들에게는 더없이 좋은 소식이다.\n",
      "이런 가운데 최근 한 달간 국내 온라인 쇼핑몰에서 가장 많이 팔린 상품은 ‘화장품’이었다.\n",
      "최근에는 화장품 브랜드들이 잇따라 신제품을 출시하면서 소비자들의 관심이 높아지고 있다.\n",
      "특히, 화장품은 피부 트러블을 유발하는 것으로 알려진 성분인 멜라닌 색소를 차단해 주는 기능성 제품으로 인기를 끌고 있는 추세다.</d> 한국은행이 기준금리를 연 1.5%로 동결했다.\n",
      "한은 금융통화위원회는 지난\n",
      "green list 단어 개수 : 100\n",
      "red list 단어 개수 : 3\n",
      "green list 단어 비율 : 0.970873786407767\n",
      "red list 단어 비율 : 0.029126213592232997\n",
      "Z-score: 2.3976345768664458\n",
      "detection function : False\n",
      "prompt : 책상 정리의 중요성\n"
     ]
    },
    {
     "name": "stderr",
     "output_type": "stream",
     "text": [
      "100%|██████████| 100/100 [00:46<00:00,  2.13it/s]\n"
     ]
    },
    {
     "name": "stdout",
     "output_type": "stream",
     "text": [
      "final sequence : 책상 정리의 중요성\n",
      "이제부터라도 정리를 제대로 해야 한다.\n",
      "정리가 잘 안 되면 그 다음부터는 다시 정리해야 할 것이다.\n",
      "정리할 수 있는 것은 정리하지 않고는 아무것도 하지 못한다.\n",
      "그렇다고 해서 반드시 정리의 중요성을 간과하는 것도 아니다.\n",
      "정리는 항상 생각의 연속이다.\n",
      "그러니 매일매일 꾸준히 하는 것이 좋다.\n",
      "그리고 하루를 정리하는 습관을 들여야 한다.\n",
      "하루가 시작되기 전에 한 가지씩 정리하고 넘어가자.\n",
      "첫째, 하루에 한번은 꼭 기억하라.\n",
      "둘째, 매일 아침마다 하나씩 정리해라.\n",
      "셋째\n",
      "green list 단어 개수 : 104\n",
      "red list 단어 개수 : 0\n",
      "green list 단어 비율 : 1.0\n",
      "red list 단어 비율 : 0.0\n",
      "Z-score: 3.3993463423951873\n",
      "detection function : False\n",
      "prompt : 옷장 정리하기\n"
     ]
    },
    {
     "name": "stderr",
     "output_type": "stream",
     "text": [
      "100%|██████████| 100/100 [00:47<00:00,  2.12it/s]\n"
     ]
    },
    {
     "name": "stdout",
     "output_type": "stream",
     "text": [
      "final sequence : 옷장 정리하기, 세탁하기 등 다양한 생활 속 실천이 가능해졌다”며 “앞으로도 고객들이 보다 편리하게 이용할 수 있는 서비스를 지속적으로 개발해 나갈 것”이라고 말했다.</d> 한국은행이 기준금리를 연 1.5%로 동결했다.\n",
      "한은은 지난달 31일 금융통화위원회를 열고 이달 기준금리인 현 수준(연 1.25%)에서 동결을 결정했다.\n",
      "기준금리는 올 들어 다섯 차례 연속으로 금리를 인하한 데 이어 두 번째다.\n",
      "지난 7월과 9월에도 각각 0.75%, 0.50%를\n",
      "green list 단어 개수 : 101\n",
      "red list 단어 개수 : 3\n",
      "green list 단어 비율 : 0.9711538461538461\n",
      "red list 단어 비율 : 0.028846153846153855\n",
      "Z-score: 2.418765666704267\n",
      "detection function : False\n",
      "prompt : 새벽 시간의 고요함\n"
     ]
    },
    {
     "name": "stderr",
     "output_type": "stream",
     "text": [
      "100%|██████████| 100/100 [00:47<00:00,  2.10it/s]\n"
     ]
    },
    {
     "name": "stdout",
     "output_type": "stream",
     "text": [
      "final sequence : 새벽 시간의 고요함 속에서 한숨을 내쉬었다.\n",
      "\"이제 그만 돌아가야지.\"\n",
      "그녀는 다시 일어나서 창밖으로 시선을 던졌다.\n",
      "그리고는 천천히 고개를 들었다.\n",
      "창 밖은 여전히 어두웠다.\n",
      "아직 어둠 속에 잠겨 있었다.\n",
      "나는 그녀의 얼굴을 바라보았다.\n",
      "어둠의 그림자가 나를 덮치고 있는 것 같았다. 가슴이 두근거리고 숨도 쉬기 힘들 정도로 아파왔다.\n",
      "그러나 나는 그녀를 올려다보고 싶지는 않았다.\n",
      "왜냐하면 그녀는 내가 잠든 사이에 이미 죽어 있었기 때문이다.\n",
      "내가 눈을 떴을 때 그녀가 몸을\n",
      "green list 단어 개수 : 105\n",
      "red list 단어 개수 : 0\n",
      "green list 단어 비율 : 1.0\n",
      "red list 단어 비율 : 0.0\n",
      "Z-score: 3.4156502553198664\n",
      "detection function : False\n",
      "prompt : 오후의 티타임\n"
     ]
    },
    {
     "name": "stderr",
     "output_type": "stream",
     "text": [
      "100%|██████████| 100/100 [00:47<00:00,  2.10it/s]\n"
     ]
    },
    {
     "name": "stdout",
     "output_type": "stream",
     "text": [
      "final sequence : 오후의 티타임에서 \"아직까지는 (미국의) 대선 결과가 나오지 않았다\"며 이같이 밝혔다.\n",
      "그는 또 \"(미국 대통령 선거는) 내일 아침에 나올 것\"이라면서 \"이번 주말쯤에는 결과를 알 수 있을 것\"이라고 덧붙였다.\n",
      "한편 오바마 대통령은 이날 오후 백악관에서 기자회견을 갖고 이라크전 종료를 공식 선언할 예정이다.\n",
      "이날 회견은 지난달 30일 조지 부시 대통령이 미군의 바그다드 진격에 대해 '매우 실망스럽다'고 밝힌 이후 처음 열리는 것이다.\n",
      "오\n",
      "green list 단어 개수 : 104\n",
      "red list 단어 개수 : 0\n",
      "green list 단어 비율 : 1.0\n",
      "red list 단어 비율 : 0.0\n",
      "Z-score: 3.3993463423951873\n",
      "detection function : False\n",
      "prompt : 자기 전 명상\n"
     ]
    },
    {
     "name": "stderr",
     "output_type": "stream",
     "text": [
      "100%|██████████| 100/100 [00:46<00:00,  2.13it/s]\n"
     ]
    },
    {
     "name": "stdout",
     "output_type": "stream",
     "text": [
      "final sequence : 자기 전 명상가였던 것이다.\n",
      "이런 그의 명상적 태도는 그가 자신의 삶을 통해 깨달은 바가 있다.\n",
      "그는 자신이 어떤 사람인지 잘 알지 못한다.\n",
      "그렇지만 그는 자기 자신을 '자기 자신'이라고 부른다.\n",
      "'자기 자신'은 바로 이 자기 자신에 대한 믿음이다.\n",
      "자신을 믿으면 그 믿음이 곧 자기를 믿는다는 것을 의미한다.\n",
      "그래서 그는 자기가 어떻게 해서라도 자기의 믿음을 지키려고 노력한다.\n",
      "그리고 그것을 실천하기 위해 끊임없이 노력하는 사람이다.\n",
      "그의 이러한 자세야말로 진정한 자아를 만드는 데 큰 힘이 된다.\n",
      "그러면 우리는 왜 이렇게 해야 하는가?\n",
      "왜\n",
      "green list 단어 개수 : 103\n",
      "red list 단어 개수 : 0\n",
      "green list 단어 비율 : 1.0\n",
      "red list 단어 비율 : 0.0\n",
      "Z-score: 3.3829638550307393\n",
      "detection function : False\n",
      "prompt : 집안 식물 가꾸기\n"
     ]
    },
    {
     "name": "stderr",
     "output_type": "stream",
     "text": [
      "100%|██████████| 100/100 [00:47<00:00,  2.09it/s]\n"
     ]
    },
    {
     "name": "stdout",
     "output_type": "stream",
     "text": [
      "final sequence : 집안 식물 가꾸기 등 다양한 체험활동을 통해 지역주민들에게 자연의 소중함과 가치를 일깨워주고 있다.\n",
      "또한 지난해에는 ‘숲속음악회’를 열어 주민들로부터 큰 호응을 얻었다.\n",
      "이번 음악회는 숲속에서 음악을 감상하고 함께하는 시간을 갖기 위해 마련됐다.\n",
      "특히 올해는 코로나 19로 인한 사회적 거리두기 2단계 격상과 비대면 공연으로 인해 더욱 많은 주민들이 참여할 수 있도록 했다.\n",
      "김영종 종로구청장은 “코로나 19 확산 방지를 위한 사회적 거리 두기를 실천하며 주민들의 작은 정성이\n",
      "green list 단어 개수 : 103\n",
      "red list 단어 개수 : 1\n",
      "green list 단어 비율 : 0.9903846153846154\n",
      "red list 단어 비율 : 0.009615384615384581\n",
      "Z-score: 3.0724861171648805\n",
      "detection function : False\n",
      "prompt : 근처 박물관 탐방\n"
     ]
    },
    {
     "name": "stderr",
     "output_type": "stream",
     "text": [
      "100%|██████████| 100/100 [00:46<00:00,  2.13it/s]\n"
     ]
    },
    {
     "name": "stdout",
     "output_type": "stream",
     "text": [
      "final sequence : 근처 박물관 탐방로 입구에는 ‘박물관의 밤’ 행사가 열리고 있다.\n",
      "이날 오후 2시부터 박물관 앞 광장에서는 한국 근현대미술을 대표하는 작가인 김환기 화백의 작품전이 열린다.\n",
      "김화백은 “한국 현대미술에 대한 관심이 높아지면서 전시를 기획하게 됐다”며 “이번에 선보이는 작품은 한국의 근대화와 산업화를 보여주는 것”이라고 말했다.\n",
      "전시회 개막식은 오는 28일 오전 10시30분 국립고궁박물관에서 열릴 예정이다.\n",
      "국립고궁박물관은 지난해부터 ‘한국근대미술의 발자취’를 주제로\n",
      "green list 단어 개수 : 103\n",
      "red list 단어 개수 : 0\n",
      "green list 단어 비율 : 1.0\n",
      "red list 단어 비율 : 0.0\n",
      "Z-score: 3.3829638550307393\n",
      "detection function : False\n",
      "prompt : 집에서의 칵테일 파티\n"
     ]
    },
    {
     "name": "stderr",
     "output_type": "stream",
     "text": [
      "100%|██████████| 100/100 [00:46<00:00,  2.15it/s]\n"
     ]
    },
    {
     "name": "stdout",
     "output_type": "stream",
     "text": [
      "final sequence : 집에서의 칵테일 파티를 열었습니다.\n",
      "이번에는 칵테일 파티에 참석하기 위해 온 손님들이 줄을 섰는데요.\n",
      "그런데 이게 웬일인지 사람들이 많이 몰려들지 않았습니다.\n",
      "한참 동안 자리를 비운 사이, 한 남성이 갑자기 나타나더니 테이블 위에 있는 음식을 집어 던집니다.\n",
      "그리고는 그대로 바닥에 쓰러지고 말았죠.\n",
      "결국엔 다른 남성은 도망가 버렸습니다.</d> 지난해 12월 미국 뉴욕 맨해튼의 한 호텔에서 발생한 총기 난사로 최소 6명\n",
      "green list 단어 개수 : 106\n",
      "red list 단어 개수 : 1\n",
      "green list 단어 비율 : 0.9906542056074766\n",
      "red list 단어 비율 : 0.009345794392523366\n",
      "Z-score: 3.1257813145809803\n",
      "detection function : False\n",
      "prompt : 커뮤니티 클래스 참여\n"
     ]
    },
    {
     "name": "stderr",
     "output_type": "stream",
     "text": [
      "100%|██████████| 100/100 [00:46<00:00,  2.15it/s]\n"
     ]
    },
    {
     "name": "stdout",
     "output_type": "stream",
     "text": [
      "final sequence : 커뮤니티 클래스 참여자 중 추첨을 통해 총 100명에게 스타벅스 아메리카노 기프트카드를 증정한다.\n",
      "또한 오는 31일까지 ‘2019 S/S 시즌 컬렉션’ 이벤트를 진행해 패션 브랜드의 인기 상품을 최대 50% 할인된 가격에 구매할 수 있는 기회도 제공한다.\n",
      "이번 행사는 전국 백화점 및 온라인 쇼핑몰에서 동시에 진행된다.\n",
      "롯데백화점은 이번 행사를 위해 Δ브랜드별로 특가 상품 기획전 Δ상품별 특별기획전 등 다양한 프로모션을 준비\n",
      "green list 단어 개수 : 103\n",
      "red list 단어 개수 : 2\n",
      "green list 단어 비율 : 0.9809523809523809\n",
      "red list 단어 비율 : 0.01904761904761909\n",
      "Z-score: 2.765050206687511\n",
      "detection function : False\n",
      "prompt : 셀프 케어 루틴\n"
     ]
    },
    {
     "name": "stderr",
     "output_type": "stream",
     "text": [
      "100%|██████████| 100/100 [00:44<00:00,  2.23it/s]\n"
     ]
    },
    {
     "name": "stdout",
     "output_type": "stream",
     "text": [
      "final sequence : 셀프 케어 루틴은 물론 피부 진정에 도움을 주는 비타민C, E 등 다양한 성분이 함유돼 있다.\n",
      "또한 피부에 영양을 공급해 피부를 건강하게 가꿔주는 ‘에센스’ 성분도 들어 있어 민감한 피부의 수분을 채워주고 촉촉하고 윤기 있는 피부로 가꾸어 준다.\n",
      "이 외에도 에센스는 보습과 진정 효과가 뛰어난 식물 추출물을 함유하고 있으며, 천연 유래 성분을 함유한 제품으로 민감성피부에 적합하다.\n",
      "특히 이번에 출시되는 제품은 기존 제품에 비해 더욱 강력해진 수분크림인 만큼 소비\n",
      "green list 단어 개수 : 103\n",
      "red list 단어 개수 : 3\n",
      "green list 단어 비율 : 0.9716981132075472\n",
      "red list 단어 비율 : 0.028301886792452824\n",
      "Z-score: 2.4605908513050676\n",
      "detection function : False\n",
      "prompt : 장거리 걷기의 이점\n"
     ]
    },
    {
     "name": "stderr",
     "output_type": "stream",
     "text": [
      "100%|██████████| 100/100 [00:45<00:00,  2.21it/s]\n"
     ]
    },
    {
     "name": "stdout",
     "output_type": "stream",
     "text": [
      "final sequence : 장거리 걷기의 이점 때문에 많은 사람들이 이 길을 걷고 있다.\n",
      "이런 가운데 지난해 11월부터 시작된 '걷기 좋은 날'은 올해도 계속될 것으로 보인다.\n",
      "서울시 관계자는 \"올해는 코로나 19로 인한 사회적 거리두기가 강화되면서 걷기를 즐기는 시민들이 많아졌다\"며 \"이번 주말부터는 서울 전역에서 다양한 행사가 열린다\"고 말했다.\n",
      "한편 서울시에서는 오는 30일까지 매주 토요일마다 '2019 서울숲 둘레축제'를 연다.\n",
      "'서울 숲길 축제'는 다음 달 1일 오후 2시부터 5\n",
      "green list 단어 개수 : 105\n",
      "red list 단어 개수 : 0\n",
      "green list 단어 비율 : 1.0\n",
      "red list 단어 비율 : 0.0\n",
      "Z-score: 3.4156502553198664\n",
      "detection function : False\n",
      "prompt : 텃밭 가꾸기\n"
     ]
    },
    {
     "name": "stderr",
     "output_type": "stream",
     "text": [
      "100%|██████████| 100/100 [00:45<00:00,  2.21it/s]\n"
     ]
    },
    {
     "name": "stdout",
     "output_type": "stream",
     "text": [
      "final sequence : 텃밭 가꾸기 등 다양한 활동을 통해 지역주민들과 함께하는 봉사활동을 펼칠 계획이다.\n",
      "이번 행사는 지난해 12월 31일부터 올 1월 1일까지를 ‘2018 평창동계올림픽 성공개최를 위한 자원봉사활동 기간’으로 정하고 전 직원이 자발적으로 참여해 진행했다.\n",
      "자원봉사는 동계올림픽 개최지인 평창의 아름다운 자연환경에 대한 홍보와 올림픽 붐 조성을 위해 마련됐다.\n",
      "평창군 관계자는 “이번에 마련한 자원봉사활동은 평창군의 주요 현안인 교통·숙박·의류업종 지원과 관광지\n",
      "green list 단어 개수 : 105\n",
      "red list 단어 개수 : 0\n",
      "green list 단어 비율 : 1.0\n",
      "red list 단어 비율 : 0.0\n",
      "Z-score: 3.4156502553198664\n",
      "detection function : False\n",
      "prompt : 개인적인 스타일 개발\n"
     ]
    },
    {
     "name": "stderr",
     "output_type": "stream",
     "text": [
      "100%|██████████| 100/100 [00:44<00:00,  2.26it/s]\n"
     ]
    },
    {
     "name": "stdout",
     "output_type": "stream",
     "text": [
      "final sequence : 개인적인 스타일 개발에도 도움이 될 수 있다.\n",
      "이러한 스타일의 연출은 자신의 개성을 살릴 수 있는 가장 좋은 방법 중 하나다.\n",
      "특히, 최근 유행하고 있는, 트렌디하면서도 감각적인 스타일링을 원한다면 더욱 그렇다.\n",
      "그렇다면 어떤 스타일을 선택해야 할까?\n",
      "먼저 자신에게 어울리는 컬러를 선택하는 것이 중요하다.\n",
      "컬러는 기본에 충실하면서도, 전체적인 분위기를 잘 살려주는 데 중점을 뒀다면, 그 중에서도 특히 여성스러운 느낌을 주는 아이템에는 블랙이나 화이트 등 모노톤 계열의 컬러가 좋다.\n",
      "또한, 톤\n",
      "green list 단어 개수 : 103\n",
      "red list 단어 개수 : 0\n",
      "green list 단어 비율 : 1.0\n",
      "red list 단어 비율 : 0.0\n",
      "Z-score: 3.3829638550307393\n",
      "detection function : False\n",
      "prompt : 책 추천 공유\n"
     ]
    },
    {
     "name": "stderr",
     "output_type": "stream",
     "text": [
      "100%|██████████| 100/100 [00:44<00:00,  2.24it/s]\n"
     ]
    },
    {
     "name": "stdout",
     "output_type": "stream",
     "text": [
      "final sequence : 책 추천 공유 사이트인 ‘더블유’에서는 지난달 30일부터 한 달간 총 1만5000여명의 회원들이 추천한 ‘2018 올해의 책’을 선정했다.\n",
      "이 책은 올해 출간된 지 20년 된 책이다.\n",
      "저자인 김지은 작가는 “‘올해는 책을 읽어야 한다’고 생각했다”며 “이 책이 독자들의 마음을 사로잡았다”고 말했다.\n",
      "김 작가의 이력은 이렇다.\n",
      "그는 서울대 경제학과를 졸업하고 미국 하버드대에서 경제학 박사 학위를 받았다.\n",
      "이후 뉴욕대 대학원에서 경영학 석사, 컬럼비아대학에서 법학박사\n",
      "green list 단어 개수 : 103\n",
      "red list 단어 개수 : 0\n",
      "green list 단어 비율 : 1.0\n",
      "red list 단어 비율 : 0.0\n",
      "Z-score: 3.3829638550307393\n",
      "detection function : False\n",
      "prompt : 로컬 마켓 쇼핑\n"
     ]
    },
    {
     "name": "stderr",
     "output_type": "stream",
     "text": [
      "100%|██████████| 100/100 [00:44<00:00,  2.23it/s]\n"
     ]
    },
    {
     "name": "stdout",
     "output_type": "stream",
     "text": [
      "final sequence : 로컬 마켓 쇼핑몰에서 판매되는 상품은 모두 온라인 쇼핑몰에서만 구매할 수 있다.\n",
      "이번 행사는 코로나 19로 인한 사회적 거리두기 강화와 소비심리 위축으로 어려움을 겪고 있는 소상공인을 돕기 위해 마련됐다.\n",
      "행사 기간 동안 매일 오전 10시부터 오후 6시까지 진행되는 '코리아 세일 페스타'에서는 다양한 할인 혜택도 제공한다.\n",
      "먼저 행사기간 중 매일 선착순 100명에게 롯데상품권 1만원권을 증정한다.\n",
      "또한 당일 10만원 이상 결제 시 최대\n",
      "green list 단어 개수 : 105\n",
      "red list 단어 개수 : 0\n",
      "green list 단어 비율 : 1.0\n",
      "red list 단어 비율 : 0.0\n",
      "Z-score: 3.4156502553198664\n",
      "detection function : False\n",
      "prompt : 장기 게임의 즐거움\n"
     ]
    },
    {
     "name": "stderr",
     "output_type": "stream",
     "text": [
      "100%|██████████| 100/100 [00:49<00:00,  2.02it/s]\n"
     ]
    },
    {
     "name": "stdout",
     "output_type": "stream",
     "text": [
      "final sequence : 장기 게임의 즐거움도 함께 누릴 수 있는 게임이다.\n",
      "이번 업데이트를 통해 신규 캐릭터 ‘카운터 스트라이크’와 ‘블레이드&소울’ 등 다양한 콘텐츠가 추가됐다.\n",
      "특히, 이번 업데이트는 기존 이용자들이 보다 쉽게 게임을 즐길 수 있도록 하기 위해 PC방 전용 서버인 '게임존'을 새롭게 오픈해 더욱 많은 유저가 이용할 것으로 기대된다.\n",
      "또한, 새로운 영웅과 장비 아이템을 획득할 경우 경험치 및 방어력 상승 효과가 적용되며, 신규 직업의 레벨\n",
      "green list 단어 개수 : 104\n",
      "red list 단어 개수 : 1\n",
      "green list 단어 비율 : 0.9904761904761905\n",
      "red list 단어 비율 : 0.00952380952380949\n",
      "Z-score: 3.090350231003689\n",
      "detection function : False\n",
      "prompt : 가족과의 보드게임 밤\n"
     ]
    },
    {
     "name": "stderr",
     "output_type": "stream",
     "text": [
      "100%|██████████| 100/100 [00:50<00:00,  1.99it/s]\n"
     ]
    },
    {
     "name": "stdout",
     "output_type": "stream",
     "text": [
      "final sequence : 가족과의 보드게임 밤\n",
      "이제부터 시작!!\n",
      "#아기 #육아스타그램 <unk>baby_moments</d> <18.05.22.Tue> ``오늘은 점심식사하러 가야지~^^ \n",
      "점심은 저녁으로 먹었어요~^^ \n",
      "저녁에 먹은건데...\n",
      "그런데...ᄏᄏ\n",
      "밥도 안먹고..\n",
      "오랜만에 먹는거라서 그런가..ᄒᄒ\n",
      "그래도 밥은 먹고싶네\n",
      "green list 단어 개수 : 106\n",
      "red list 단어 개수 : 0\n",
      "green list 단어 비율 : 1.0\n",
      "red list 단어 비율 : 0.0\n",
      "Z-score: 3.431876713662332\n",
      "detection function : False\n",
      "prompt : 디지털 디톡스\n"
     ]
    },
    {
     "name": "stderr",
     "output_type": "stream",
     "text": [
      "100%|██████████| 100/100 [00:49<00:00,  2.03it/s]\n"
     ]
    },
    {
     "name": "stdout",
     "output_type": "stream",
     "text": [
      "final sequence : 디지털 디톡스 솔루션을 통해 다양한 디톡스 제품군을 선보이고 있다.</d> 한국전자통신연구원(ETRI)은 지난해 12월 31일부터 올 1월 1일 사이에 발생한 국내 전자파 인체 유해성 논란과 관련해 ETRI가 자체적으로 실시한 연구결과와 국제학술지(Journal of International Journal) 최신호에 게재한 논문을 분석한 결과, 이같이 나타났다고 2일 밝혔다.\n",
      "이번 연구는 미국 국립보건원 산하 국립암센터(NCI) 암예방사업단(NIAC)의 의뢰를 받아\n",
      "green list 단어 개수 : 103\n",
      "red list 단어 개수 : 1\n",
      "green list 단어 비율 : 0.9903846153846154\n",
      "red list 단어 비율 : 0.009615384615384581\n",
      "Z-score: 3.0724861171648805\n",
      "detection function : False\n",
      "prompt : 가까운 도시 탐험\n"
     ]
    },
    {
     "name": "stderr",
     "output_type": "stream",
     "text": [
      "100%|██████████| 100/100 [00:46<00:00,  2.16it/s]\n"
     ]
    },
    {
     "name": "stdout",
     "output_type": "stream",
     "text": [
      "final sequence : 가까운 도시 탐험을 통해 얻은 경험을 바탕으로 새로운 탐험의 길을 개척해 나갈 계획이다.\n",
      "이번 여행은 오는 8월 31일까지 진행되며 자세한 내용은 홈페이지(www.tourselfare.kr)를 참조하면 된다.\n",
      "김영석 한국관광공사 해외사업본부장은 \"지난해에 이어 올해도 다양한 이벤트를 준비했으니 많은 관심과 참여를 바란다\"고 말했다.</d> 지난달 30일 오후 서울 종로구 세종로 정부중앙청사 별관에 마련된 ‘2010 대한민국 희망나눔 콘서트’에서는 가수\n",
      "green list 단어 개수 : 102\n",
      "red list 단어 개수 : 1\n",
      "green list 단어 비율 : 0.9902912621359223\n",
      "red list 단어 비율 : 0.009708737864077666\n",
      "Z-score: 3.0545207623093082\n",
      "detection function : False\n",
      "prompt : 수제 비누 만들기\n"
     ]
    },
    {
     "name": "stderr",
     "output_type": "stream",
     "text": [
      "100%|██████████| 100/100 [00:46<00:00,  2.14it/s]\n"
     ]
    },
    {
     "name": "stdout",
     "output_type": "stream",
     "text": [
      "final sequence : 수제 비누 만들기 체험과 함께 다양한 먹거리도 즐길 수 있다.\n",
      "또한 어린이날에는 가족들과 함께하는 '가족뮤지컬' 공연, 마술쇼 등 다채로운 볼거리와 먹을거리가 준비돼 있어 가족과 연인, 친구와 즐거운 시간을 보낼 수 있다.</d> 서울시는 지난해 12월1일부터 올 1월31일까지 시내버스 노선별 운행횟수를 분석한 결과, 전체 버스노선 중 좌석버스가 차지하는 비율이 22.9%로 가장 높았다고 1일 발표했다.\n",
      "좌석버스는 승객이 버스를 타고 내릴\n",
      "green list 단어 개수 : 103\n",
      "red list 단어 개수 : 0\n",
      "green list 단어 비율 : 1.0\n",
      "red list 단어 비율 : 0.0\n",
      "Z-score: 3.3829638550307393\n",
      "detection function : False\n",
      "prompt : 로컬 아티스트 지원\n"
     ]
    },
    {
     "name": "stderr",
     "output_type": "stream",
     "text": [
      "100%|██████████| 100/100 [00:46<00:00,  2.13it/s]\n"
     ]
    },
    {
     "name": "stdout",
     "output_type": "stream",
     "text": [
      "final sequence : 로컬 아티스트 지원 프로그램인 ‘SKY Culture’ 프로그램을 통해 국내 아티스트들의 해외 진출을 지원하고 있다.\n",
      "이번 협약으로 SKY Culture는 K팝과 관련된 다양한 분야의 국내외 유명 아티스트들이 참여하는 글로벌 프로젝트 지원 및 교류 활동을 진행할 예정이다.\n",
      "또한 SNS를 기반으로 한 콘텐츠 제작 지원, 온라인 홍보, 마케팅 등 다양한 분야에서 협력 관계를 구축해 나갈 계획이다.\n",
      "김준성 대표는 “이번에 체결한 MOU 체결을 계기로 양사가 보유한 역량을 바탕으로 더욱 활발한 교류를 이어가겠\n",
      "green list 단어 개수 : 103\n",
      "red list 단어 개수 : 2\n",
      "green list 단어 비율 : 0.9809523809523809\n",
      "red list 단어 비율 : 0.01904761904761909\n",
      "Z-score: 2.765050206687511\n",
      "detection function : False\n",
      "prompt : 실내 데코레이션 변경\n"
     ]
    },
    {
     "name": "stderr",
     "output_type": "stream",
     "text": [
      "100%|██████████| 100/100 [00:48<00:00,  2.08it/s]\n"
     ]
    },
    {
     "name": "stdout",
     "output_type": "stream",
     "text": [
      "final sequence : 실내 데코레이션 변경, 고객 서비스 강화 등 다양한 노력을 기울이고 있다.\n",
      "이번 신상품 출시를 통해 기존 제품 대비 약 30% 이상 가격을 낮춘 것이 특징이다.\n",
      "또한 ‘더블유’만의 차별화 된 디자인과 기능으로 소비자들의 만족도를 높였다.\n",
      "‘더블유’는 이번 신제품을 시작으로 향후에도 소비자 니즈를 반영한 제품을 지속 선보여 나갈 계획이다.\n",
      "김영진 롯데백화점 식품부문장은 “최고의 품질로 사랑 받는 더위와의 상생경영을 위해 앞으로도 고객의 기\n",
      "green list 단어 개수 : 105\n",
      "red list 단어 개수 : 0\n",
      "green list 단어 비율 : 1.0\n",
      "red list 단어 비율 : 0.0\n",
      "Z-score: 3.4156502553198664\n",
      "detection function : False\n",
      "prompt : 뜨개질의 즐거움\n"
     ]
    },
    {
     "name": "stderr",
     "output_type": "stream",
     "text": [
      "100%|██████████| 100/100 [00:47<00:00,  2.10it/s]\n"
     ]
    },
    {
     "name": "stdout",
     "output_type": "stream",
     "text": [
      "final sequence : 뜨개질의 즐거움도 함께 느낄 수 있다.\n",
      "이번 행사는 오는 10월까지 매주 토요일 오후 2시부터 4시까지 진행되며, 참가비는 무료이다.\n",
      "참가신청은 홈페이지(www.beautyfood.kr)에서 신청서를 다운받아 작성한 후 이메일(kr<unk>naver.com)로 접수하면 된다.\n",
      "자세한 사항은 홈페이지에서 확인할 수 있다.</d> 지난해 12월 31일부터 올 1월 1일 사이에 발생한 교통사고로 인한 사망자는 모두 8명이었다.\n",
      "지난해 같은 기간에 비해 사망자가\n",
      "green list 단어 개수 : 104\n",
      "red list 단어 개수 : 1\n",
      "green list 단어 비율 : 0.9904761904761905\n",
      "red list 단어 비율 : 0.00952380952380949\n",
      "Z-score: 3.090350231003689\n",
      "detection function : False\n",
      "prompt : 핸드폰 배경화면 만들기\n"
     ]
    },
    {
     "name": "stderr",
     "output_type": "stream",
     "text": [
      "100%|██████████| 100/100 [00:48<00:00,  2.07it/s]\n"
     ]
    },
    {
     "name": "stdout",
     "output_type": "stream",
     "text": [
      "final sequence : 핸드폰 배경화면 만들기 등 다양한 체험이 가능하다.\n",
      "또한 스마트폰을 통해 사진과 동영상을 촬영할 수 있는 '모바일 포토존'에서는 사진을 찍어 SNS에 올리면 자동으로 응모가 되는 이벤트도 진행한다.\n",
      "SK텔레콤은 이번 이벤트를 시작으로 오는 10월까지 전국 주요 도시 및 지하철역 등에서 모바일 포토존을 운영해 고객들이 직접 찍은 사진을 휴대폰으로 즉석에서 인화해주는 서비스를 제공할 계획이다.\n",
      "아울러 올 하반기에는 서울, 부산, 대구 등 대도시를 중심으로 모바일 포토스마트\n",
      "green list 단어 개수 : 106\n",
      "red list 단어 개수 : 1\n",
      "green list 단어 비율 : 0.9906542056074766\n",
      "red list 단어 비율 : 0.009345794392523366\n",
      "Z-score: 3.1257813145809803\n",
      "detection function : False\n",
      "prompt : 지속 가능한 생활 실천\n"
     ]
    },
    {
     "name": "stderr",
     "output_type": "stream",
     "text": [
      "100%|██████████| 100/100 [00:48<00:00,  2.08it/s]\n"
     ]
    },
    {
     "name": "stdout",
     "output_type": "stream",
     "text": [
      "final sequence : 지속 가능한 생활 실천과 함께 지역사회와 상생하는 기업문화를 만들어 나가겠다\"고 말했다.</d> 지난해 12월 31일부터 올 1월 1일 사이에 발생한 화재 사고는 모두 7건으로, 이 가운데 3건이 사망으로 집계됐다.\n",
      "소방청은 \"지난해 11월 1일부터 2월 2일까지 전국 소방관서에서 총 5건의 화재가 발생해 4명이 숨지고 6명은 다쳤다\"며 \"이 중 2건은 화재의 원인이 밝혀지지 않아 사망자는 없었지만 부상자 수는 각각 8명과 9명으로 늘었다\"고 밝혔다.\n",
      "화재 원인별로는\n",
      "green list 단어 개수 : 102\n",
      "red list 단어 개수 : 2\n",
      "green list 단어 비율 : 0.9807692307692307\n",
      "red list 단어 비율 : 0.019230769230769273\n",
      "Z-score: 2.7456258919345737\n",
      "detection function : False\n",
      "prompt : 주방 도구 정비\n"
     ]
    },
    {
     "name": "stderr",
     "output_type": "stream",
     "text": [
      "100%|██████████| 100/100 [00:47<00:00,  2.10it/s]\n"
     ]
    },
    {
     "name": "stdout",
     "output_type": "stream",
     "text": [
      "final sequence : 주방 도구 정비 등 다양한 서비스를 제공한다.\n",
      "또한 고객들이 직접 체험할 수 있는 '찾아가는 서비스'도 운영한다.\n",
      "고객이 원하는 장소에서 전문가가 방문해 맞춤형 상담을 진행하고, 고객이 원하는 시간에 방문하면 상담원이 고객의 상태를 확인하고 필요한 정보를 안내해준다.\n",
      "현대홈쇼핑은 지난해부터 홈앤쇼핑을 통해 판매하고 있던 건강식품, 생활잡화, 유아용품 등을 현대백화점그룹 계열사인 H&B스토어와 연계해 선보이고 있다.</d> 한국은행이 기준금리를 연 1.5%로 동결했다.\n",
      "한은\n",
      "green list 단어 개수 : 103\n",
      "red list 단어 개수 : 1\n",
      "green list 단어 비율 : 0.9903846153846154\n",
      "red list 단어 비율 : 0.009615384615384581\n",
      "Z-score: 3.0724861171648805\n",
      "detection function : False\n",
      "prompt : 전통 축제 참여\n"
     ]
    },
    {
     "name": "stderr",
     "output_type": "stream",
     "text": [
      "100%|██████████| 100/100 [00:47<00:00,  2.10it/s]\n"
     ]
    },
    {
     "name": "stdout",
     "output_type": "stream",
     "text": [
      "final sequence : 전통 축제 참여와 지역경제 활성화를 위해 마련됐다.\n",
      "이번 행사는 '2018 평창동계올림픽 성공개최를 위한 강원도의 역할'을 주제로 열린다.\n",
      "특히, 이번 축제는 2018평창동계올림픽의 성공을 기원하고 성공적인 개최를 기원하는 의미로 개최된다.\n",
      "행사에서는 개막식 및 환영만찬, 축하공연 등 다양한 행사가 진행된다.\n",
      "또한, 폐막식과 함께 올림픽 홍보영상 상영, 기념촬영 등의 부대행사도 진행될 예정이다.\n",
      "한편, 이날 행사에는 최문순 강원도지사, 김학용 국회의원(강원\n",
      "green list 단어 개수 : 103\n",
      "red list 단어 개수 : 0\n",
      "green list 단어 비율 : 1.0\n",
      "red list 단어 비율 : 0.0\n",
      "Z-score: 3.3829638550307393\n",
      "detection function : False\n",
      "prompt : 친구와의 화상 통화\n"
     ]
    },
    {
     "name": "stderr",
     "output_type": "stream",
     "text": [
      "100%|██████████| 100/100 [00:48<00:00,  2.07it/s]\n"
     ]
    },
    {
     "name": "stdout",
     "output_type": "stream",
     "text": [
      "final sequence : 친구와의 화상 통화에서 \"아직까지는 (김 전 대통령의) 건강 상태가 좋지 않다\"며 이같이 밝혔다.\n",
      "그는 또 김 전 대통령이 지난해 12월 대선 출마 선언 이후 줄곧 '건강 이상설'을 제기해온 것과 관련, \"그런 얘기를 하는 게 적절치 않다고 생각한다\"고 말했다.\n",
      "이날 회동에는 한나라당에서 박희태 대표와 홍준표 원내대표, 원혜영 정책위의장, 정병국 사무총장 등이 참석했다.</d> 새누리당은 이날 오전 국회에서 열린 최고중진연\n",
      "green list 단어 개수 : 103\n",
      "red list 단어 개수 : 2\n",
      "green list 단어 비율 : 0.9809523809523809\n",
      "red list 단어 비율 : 0.01904761904761909\n",
      "Z-score: 2.765050206687511\n",
      "detection function : False\n",
      "prompt : 가족 사진 정리\n"
     ]
    },
    {
     "name": "stderr",
     "output_type": "stream",
     "text": [
      "100%|██████████| 100/100 [00:47<00:00,  2.10it/s]\n"
     ]
    },
    {
     "name": "stdout",
     "output_type": "stream",
     "text": [
      "final sequence : 가족 사진 정리\n",
      "이제 사진은 #사진스타그램 #셀피</d> 오늘은 제가 좋아하는 영화 <그린스탠딩>입니다.\n",
      "제가 좋아하는 영화는 <그린스탠딩>이죠.\n",
      "<그레이트 스카이>는 저는 그린스를 좋아합니다.\n",
      "그래서 그레이트를 보고 싶어서 그린스에 대한 이야기를 많이 했습니다.\n",
      "저는 이 영화를 보면서 ``그레이트는 정말 멋진 사람이구나, 그리고 그 사람은 정말 멋있어 보여요!\n",
      "`라고 생각했었거든요.\n",
      "하지만 사실 저도 그레이트의\n",
      "green list 단어 개수 : 103\n",
      "red list 단어 개수 : 0\n",
      "green list 단어 비율 : 1.0\n",
      "red list 단어 비율 : 0.0\n",
      "Z-score: 3.3829638550307393\n",
      "detection function : False\n",
      "prompt : 주변 환경 정화 활동\n"
     ]
    },
    {
     "name": "stderr",
     "output_type": "stream",
     "text": [
      "100%|██████████| 100/100 [00:48<00:00,  2.08it/s]\n"
     ]
    },
    {
     "name": "stdout",
     "output_type": "stream",
     "text": [
      "final sequence : 주변 환경 정화 활동 등을 통해 환경 보호에 앞장서고 있다.\n",
      "이번 캠프는 지난해부터 추진 중인 ‘환경사랑 나눔캠페인’의 일환으로 마련됐다.\n",
      "지난해에 이어 올해도 전국 초·중·고교생 및 일반인을 대상으로 진행되며, 참가비는 무료이다.\n",
      "참가 신청은 오는 31일까지 홈페이지(www.greenfund.kr)를 통해 하면 된다.\n",
      "김영진 대구시 기후변화대응과장은 “기후변화에 대한 관심이 높아지면서 지구온난화에 따른 온실가스 배출량이 급증하고 있다”며\n",
      "green list 단어 개수 : 103\n",
      "red list 단어 개수 : 1\n",
      "green list 단어 비율 : 0.9903846153846154\n",
      "red list 단어 비율 : 0.009615384615384581\n",
      "Z-score: 3.0724861171648805\n",
      "detection function : False\n",
      "prompt : 하루의 목표 세우기\n"
     ]
    },
    {
     "name": "stderr",
     "output_type": "stream",
     "text": [
      "100%|██████████| 100/100 [00:47<00:00,  2.11it/s]\n"
     ]
    },
    {
     "name": "stdout",
     "output_type": "stream",
     "text": [
      "final sequence : 하루의 목표 세우기다.\n",
      "이번 캠프는 지난해 11월부터 올 1월까지 진행됐으며 총 4회에 걸쳐 약 3000여명의 참가자들이 참여했다.\n",
      "캠프에는 ‘2018 평창동계올림픽 성공개최를 위한 국민적 공감대를 형성하기 위해’라는 주제로 올림픽의 성공을 기원하는 메시지를 담은 영상물이 상영됐다.\n",
      "영상물 상영은 평창 동계올림픽을 홍보하는 동시에 성공적인 개최를 기원하고자 기획된 것으로 이번 캠프를 통해 모인 국민들의 참여로 이뤄졌다.\n",
      "특히, 이날 행사에서는 2018평창동계패\n",
      "green list 단어 개수 : 104\n",
      "red list 단어 개수 : 0\n",
      "green list 단어 비율 : 1.0\n",
      "red list 단어 비율 : 0.0\n",
      "Z-score: 3.3993463423951873\n",
      "detection function : False\n",
      "prompt : 온라인 학습 코스\n"
     ]
    },
    {
     "name": "stderr",
     "output_type": "stream",
     "text": [
      "100%|██████████| 100/100 [00:47<00:00,  2.12it/s]\n"
     ]
    },
    {
     "name": "stdout",
     "output_type": "stream",
     "text": [
      "final sequence : 온라인 학습 코스인 ‘토플’(TOEIC) 시험이 지난해보다 2배 이상 늘었다.\n",
      "한국외대 영어교육원 관계자는 “이달 토플 시험을 앞두고 수험생과 학부모들이 몰려들고 있다”고 말했다.\n",
      "서울 강남의 한 학원에서는 토익시험 당일 오전 8시부터 오후 6시까지 2시간 동안 수강생들의 발길이 이어졌다.\n",
      "수능시험을 치른 뒤 학원에 등록한 학생들도 많았다.\n",
      "학원 측은 “지난해에는 수험생의 절반 이상이 원서를 냈다”며 “올해는 예년\n",
      "green list 단어 개수 : 102\n",
      "red list 단어 개수 : 1\n",
      "green list 단어 비율 : 0.9902912621359223\n",
      "red list 단어 비율 : 0.009708737864077666\n",
      "Z-score: 3.0545207623093082\n",
      "detection function : False\n",
      "prompt : 집에서의 필라테스\n"
     ]
    },
    {
     "name": "stderr",
     "output_type": "stream",
     "text": [
      "100%|██████████| 100/100 [00:47<00:00,  2.09it/s]\n"
     ]
    },
    {
     "name": "stdout",
     "output_type": "stream",
     "text": [
      "final sequence : 집에서의 필라테스나 요가 등 다양한 활동을 통해 건강을 챙기고 싶다면 ‘헬스&뷰티’ 브랜드를 주목해 볼 만하다.\n",
      "‘헬스앤뷰티(Hells & Beauty)’란 건강하고 아름다운 피부를 가꾸는 것을 목표로 하는 뷰티의 합성어다.\n",
      "건강은 물론 아름다움까지 추구하는 라이프스타일 브랜드가 각광받고 있다.\n",
      "이런 트렌드에 맞춰 헬스케어 기업들은 새로운 형태의 제품을 출시하는 추세. 최근엔 피부관리 전문기업인 (주)아모레퍼시픽의 ‘아이오\n",
      "green list 단어 개수 : 103\n",
      "red list 단어 개수 : 1\n",
      "green list 단어 비율 : 0.9903846153846154\n",
      "red list 단어 비율 : 0.009615384615384581\n",
      "Z-score: 3.0724861171648805\n",
      "detection function : False\n",
      "prompt : 베란다 텃밭 가꾸기\n"
     ]
    },
    {
     "name": "stderr",
     "output_type": "stream",
     "text": [
      "100%|██████████| 100/100 [00:48<00:00,  2.05it/s]\n"
     ]
    },
    {
     "name": "stdout",
     "output_type": "stream",
     "text": [
      "final sequence : 베란다 텃밭 가꾸기 등 다양한 농촌체험을 할 수 있다.\n",
      "또한 텃밭 가꾸기 체험은 마을주민들이 직접 재배한 농산물을 수확해 가져갈 수 있는 기회도 제공한다.\n",
      "이번 행사는 오는 10월까지 매주 토요일 오전 10시부터 오후 5시30분까지, 총 4회에 걸쳐 진행되며 참가비는 무료이다.\n",
      "참가신청은 농업기술센터 홈페이지(http://www.nongju.go.kr)에서 신청서를 다운받아 작성한 후 이메일(kr<unk>nongju<unk>\n",
      "green list 단어 개수 : 108\n",
      "red list 단어 개수 : 0\n",
      "green list 단어 비율 : 1.0\n",
      "red list 단어 비율 : 0.0\n",
      "Z-score: 3.464101615137754\n",
      "detection function : False\n",
      "prompt : 평화로운 아침 산책\n"
     ]
    },
    {
     "name": "stderr",
     "output_type": "stream",
     "text": [
      "100%|██████████| 100/100 [00:47<00:00,  2.13it/s]\n"
     ]
    },
    {
     "name": "stdout",
     "output_type": "stream",
     "text": [
      "final sequence : 평화로운 아침 산책로\n",
      "아침 산책로는 걷기 좋은 길이다.\n",
      "이곳은 산책을 하면서 잠시 쉬어가면서 걸을 수 있는 곳이다.\n",
      "그런데 이 길은 너무도 가파르다.\n",
      "산책로를 따라 걷는 것이 아니라 길을 따라서 걷다 보면 어느새 한 폭의 그림 같은 풍경이 펼쳐지고 있다.\n",
      "길에서 내려다보는 풍경들은 마치 동화 속 주인공이 된 것 같다.\n",
      "어느 순간부터인지 그 모습이 무척이나 아름답다.\n",
      "마치 영화 속의 주인공처럼 보인다.\n",
      "한참 동안 걸어가는 동안 나는 다시 한번 산을 오르며\n",
      "green list 단어 개수 : 104\n",
      "red list 단어 개수 : 0\n",
      "green list 단어 비율 : 1.0\n",
      "red list 단어 비율 : 0.0\n",
      "Z-score: 3.3993463423951873\n",
      "detection function : False\n",
      "prompt : 친구와의 장거리 여행 계획\n"
     ]
    },
    {
     "name": "stderr",
     "output_type": "stream",
     "text": [
      "100%|██████████| 100/100 [00:47<00:00,  2.10it/s]\n"
     ]
    },
    {
     "name": "stdout",
     "output_type": "stream",
     "text": [
      "final sequence : 친구와의 장거리 여행 계획도 세웠다.\n",
      "이런 이유로 그는 지난해 12월 미국 캘리포니아주 샌타모니카에서 열린 ‘2014 세계 청소년 리더십 콘퍼런스’에 참가, “미국의 젊은이들이 가장 좋아하는 것은 바로 자기 자신을 사랑하고 사랑하는 것”이라고 말했다.\n",
      "그가 말하는 ‘자신감’이란 자신의 감정을 표현하는 것이다.\n",
      "그는 또 “자신을 사랑하지 않는 사람은 다른 사람을 위해 봉사하는 삶을 살지 못할 것”이라면서 “나는 모든 것을 다 할 수 있는 사람이지만 남을 돕는 일은 하지 않을 뿐”이라고 강조했다.\n",
      "미국에서는 최근\n",
      "green list 단어 개수 : 102\n",
      "red list 단어 개수 : 2\n",
      "green list 단어 비율 : 0.9807692307692307\n",
      "red list 단어 비율 : 0.019230769230769273\n",
      "Z-score: 2.7456258919345737\n",
      "detection function : False\n",
      "prompt : 커피숍에서의 독서\n"
     ]
    },
    {
     "name": "stderr",
     "output_type": "stream",
     "text": [
      "100%|██████████| 100/100 [00:47<00:00,  2.11it/s]\n"
     ]
    },
    {
     "name": "stdout",
     "output_type": "stream",
     "text": [
      "final sequence : 커피숍에서의 독서실 이용은 물론이고, 독서실에서 책을 읽는 것만으로도 스트레스를 해소할 수 있다.\n",
      "또한 책읽기를 좋아하는 아이들에게 좋은 학습효과를 줄 것으로 기대된다.\n",
      "이러한 가운데 ‘독서토론방’은 독서토론을 통해 아이들의 창의력과 문제 해결력을 길러주는 프로그램으로 운영된다.\n",
      "아이들이 스스로 토론하는 시간을 가질 수 있도록 다양한 프로그램을 준비했다.\n",
      "먼저 토론은 아이들이 직접 참여해 자신의 생각을 논리적으로 표현하는 방식으로 이뤄진다.\n",
      "특히, 아이들은 자신이 생각하는 것을 바탕으로 자유롭게 이야기하고 토론하면서 자연스럽게 문제를 해결할\n",
      "green list 단어 개수 : 104\n",
      "red list 단어 개수 : 0\n",
      "green list 단어 비율 : 1.0\n",
      "red list 단어 비율 : 0.0\n",
      "Z-score: 3.3993463423951873\n",
      "detection function : False\n",
      "prompt : 로컬 음식 시도\n"
     ]
    },
    {
     "name": "stderr",
     "output_type": "stream",
     "text": [
      "100%|██████████| 100/100 [00:47<00:00,  2.10it/s]\n"
     ]
    },
    {
     "name": "stdout",
     "output_type": "stream",
     "text": [
      "final sequence : 로컬 음식 시도도 있다.\n",
      "이런 식이다.\n",
      "그렇다면 이 음식들은 어떤 것일까.\n",
      "우선 ‘맛’을 가장 먼저 떠올릴 수 있는 음식이 바로 ‘치킨’이다.\n",
      "닭고기는 닭고기보다 더 맛있지만 치킨은 그 맛이 없다.\n",
      "그래서인지 치즈에 비해 짭조름한 맛을 내는 것이 특징이다.\n",
      "또 다른 예로 감자튀김을 꼽을 수 있는데, 감자튀김의 경우 감자는 물론 고구마, 양파, 마늘 등 다양한 재료를 넣어 만든 튀긴 것이다.\n",
      "감자튀김 역시 마찬가지\n",
      "green list 단어 개수 : 104\n",
      "red list 단어 개수 : 0\n",
      "green list 단어 비율 : 1.0\n",
      "red list 단어 비율 : 0.0\n",
      "Z-score: 3.3993463423951873\n",
      "detection function : False\n",
      "prompt : 스마트폰 사진술\n"
     ]
    },
    {
     "name": "stderr",
     "output_type": "stream",
     "text": [
      "100%|██████████| 100/100 [00:47<00:00,  2.10it/s]\n"
     ]
    },
    {
     "name": "stdout",
     "output_type": "stream",
     "text": [
      "final sequence : 스마트폰 사진술사'다.\n",
      "이들은 \"한국의 전통술인 '청주막걸리'를 세계 각국에 알리고 싶다\"며 \"세계인의 입맛을 사로잡을 수 있는 막걸리를 만들어보겠다\"고 포부를 밝혔다.\n",
      "또 이들은 지난해 11월부터 청주시내 한 식당에서 열린 '2018 대한민국 술 품평회'에서 대상을 수상하기도 했다.\n",
      "올해로 3회째를 맞는 이번 행사는 전국 각지에서 모인 200여명의 참가자들이 참여해 다양한 술을 선보이며 한국 술과 함께하는 축제의 장으로 꾸며졌다.\n",
      "특히\n",
      "green list 단어 개수 : 102\n",
      "red list 단어 개수 : 1\n",
      "green list 단어 비율 : 0.9902912621359223\n",
      "red list 단어 비율 : 0.009708737864077666\n",
      "Z-score: 3.0545207623093082\n",
      "detection function : False\n",
      "prompt : 주변 사람들과의 교류\n"
     ]
    },
    {
     "name": "stderr",
     "output_type": "stream",
     "text": [
      "100%|██████████| 100/100 [00:46<00:00,  2.16it/s]\n"
     ]
    },
    {
     "name": "stdout",
     "output_type": "stream",
     "text": [
      "final sequence : 주변 사람들과의 교류도 활발해지고 있다.\n",
      "이런 가운데 지난해 12월, 서울시가 ‘서울형 도시재생 뉴딜사업’을 통해 세운재정비촉진지구 내 세운3구역에 대한 재정비 촉진계획을 수립하면서 이 일대가 새로운 주거지로 주목 받고 있다.</d> 한국토지주택공사(LH)는 오는 27일부터 다음달 3일까지 경기도 성남시 분당구에 위치한 LH 경기지역본부에서 '2019 대한민국 혁신도시 우수사례 경진대회'를 개최한다고 25일 밝혔다.\n",
      "혁신도시는 공공기관이 지방으로 이전하는 첫 번째\n",
      "green list 단어 개수 : 104\n",
      "red list 단어 개수 : 0\n",
      "green list 단어 비율 : 1.0\n",
      "red list 단어 비율 : 0.0\n",
      "Z-score: 3.3993463423951873\n",
      "detection function : False\n",
      "prompt : 홈 오피스 최적화\n"
     ]
    },
    {
     "name": "stderr",
     "output_type": "stream",
     "text": [
      "100%|██████████| 100/100 [00:48<00:00,  2.08it/s]\n"
     ]
    },
    {
     "name": "stdout",
     "output_type": "stream",
     "text": [
      "final sequence : 홈 오피스 최적화 솔루션을 제공한다.\n",
      "이번 협약으로 KT는 오피스 구축에 소요되는 비용을 절감하고 고객들은 보다 저렴한 비용으로 다양한 서비스를 이용할 수 있게 됐다.\n",
      "KT의 클라우드 서비스인 '올레샵'은 기업 내 업무 환경을 최적화해 효율적인 업무환경과 생산성을 향상시킬 뿐만 아니라 기업의 IT 인프라도 효율적으로 관리할 수 있다.\n",
      "또한 KT가 제공하는 클라우드 기반의 통합 보안 관리 시스템도 함께 지원한다.\n",
      "Kt 관계자는 \"클라우드를 기반으로 한 스마트오피스를 구현해\n",
      "green list 단어 개수 : 104\n",
      "red list 단어 개수 : 1\n",
      "green list 단어 비율 : 0.9904761904761905\n",
      "red list 단어 비율 : 0.00952380952380949\n",
      "Z-score: 3.090350231003689\n",
      "detection function : False\n",
      "prompt : 스트리트 아트 감상\n"
     ]
    },
    {
     "name": "stderr",
     "output_type": "stream",
     "text": [
      "100%|██████████| 100/100 [00:49<00:00,  2.02it/s]\n"
     ]
    },
    {
     "name": "stdout",
     "output_type": "stream",
     "text": [
      "final sequence : 스트리트 아트 감상법\n",
      "이번에는 #아트클래스 를 소개해드리겠습니다.\n",
      "저는 아트클래스를 처음 시작했어요\n",
      "그때부터 제가 좋아하는 미술작품을 많이 접했고요.\n",
      "그래서 이번에 처음으로 아트 클래스에 참여하게 되었어요.\n",
      "제가 좋아하는 작품은 바로 ‘에코’입니다.\n",
      "저희도 에코를 좋아하고 있는데요,\n",
      "미술을 통해 다른 사람과 소통할 수 있는 기회가 많아지고 있어요.\n",
      "특히나 요즘은 저의 작품을 보고 있으면 더더욱 기분이 좋답니다.\n",
      "그리고\n",
      "green list 단어 개수 : 103\n",
      "red list 단어 개수 : 1\n",
      "green list 단어 비율 : 0.9903846153846154\n",
      "red list 단어 비율 : 0.009615384615384581\n",
      "Z-score: 3.0724861171648805\n",
      "detection function : False\n",
      "prompt : 새로운 헤어스타일 시도\n"
     ]
    },
    {
     "name": "stderr",
     "output_type": "stream",
     "text": [
      "100%|██████████| 100/100 [00:54<00:00,  1.83it/s]\n"
     ]
    },
    {
     "name": "stdout",
     "output_type": "stream",
     "text": [
      "final sequence : 새로운 헤어스타일 시도도 가능하다.\n",
      "또한 헤어스타일 연출에 있어 가장 중요한 것은 바로 자신의 모발 상태와 어울리는 스타일링을 하는 것이다.</d> 한국관광공사는 지난해 11월부터 올 1월까지 외국인 관광객 유치실적을 집계한 결과 전년도 같은 기간에 비해 12% 증가한 것으로 나타났다고 2일 밝혔다.\n",
      "이는 관광공사가 지난달 발표한 '2012년 외래관광객 실태조사' 결과를 토대로 한 것이다.\n",
      "이번 조사는 한국을 찾는 외국인이 국내 여행지에서 느끼는 만족도를 조사한 것으로, 총 응답자 중 내국인은 64%,\n",
      "green list 단어 개수 : 105\n",
      "red list 단어 개수 : 0\n",
      "green list 단어 비율 : 1.0\n",
      "red list 단어 비율 : 0.0\n",
      "Z-score: 3.4156502553198664\n",
      "detection function : False\n",
      "prompt : 집에서의 영화 마라톤\n"
     ]
    },
    {
     "name": "stderr",
     "output_type": "stream",
     "text": [
      "100%|██████████| 100/100 [00:53<00:00,  1.85it/s]\n"
     ]
    },
    {
     "name": "stdout",
     "output_type": "stream",
     "text": [
      "final sequence : 집에서의 영화 마라톤을 통해 얻은 경험을 바탕으로 영화 속 주인공들이 직접 촬영한 영상과 사진을 공개했다.\n",
      "이번 캠프는 지난해 11월부터 12월까지 약 3개월간 진행됐다.\n",
      "캠프 참가자들은 ‘영화 속의 주인공이 되어라’라는 주제로 다양한 영화를 관람하며 배우들의 연기력과 표현력을 키웠다.\n",
      "특히, 이번 캠프에 참가한 한 관객은 “영화를 보면서 배우의 연기가 얼마나 중요한지 알게 됐다”며 “이렇게 많은 사람들이 함께 모여 영화에 대해 이야기하고 공감하는 시간이 되길 바란다”고 말했다.\n",
      "또한, 이번에\n",
      "green list 단어 개수 : 104\n",
      "red list 단어 개수 : 0\n",
      "green list 단어 비율 : 1.0\n",
      "red list 단어 비율 : 0.0\n",
      "Z-score: 3.3993463423951873\n",
      "detection function : False\n",
      "prompt : 시골 마을 여행\n"
     ]
    },
    {
     "name": "stderr",
     "output_type": "stream",
     "text": [
      "100%|██████████| 100/100 [00:53<00:00,  1.86it/s]\n"
     ]
    },
    {
     "name": "stdout",
     "output_type": "stream",
     "text": [
      "final sequence : 시골 마을 여행은 물론이고, 마을 사람들과의 만남을 통해 새로운 삶의 의미를 발견하는 기회가 될 것이다.\n",
      "이번 여행에서는 '마을 사람들'들이 직접 만든 다양한 음식을 맛볼 수도 있다.\n",
      "또한 마을에서 생산되는 농산물을 이용해 만든 음식도 판매할 예정이다.\n",
      "여행객들에게 가장 인기 있는 프로그램은 바로 '해피투게더(Happy Together)'다.\n",
      "해피투게더는 지역 주민들과 함께 만들어가는 프로그램이다.\n",
      "지역 주민들이 직접 참여해 마을의 특산물을 활용해 만드는 요리 경연대회, 즉석 사진 촬영 등 다채로운 프로그램이\n",
      "green list 단어 개수 : 102\n",
      "red list 단어 개수 : 1\n",
      "green list 단어 비율 : 0.9902912621359223\n",
      "red list 단어 비율 : 0.009708737864077666\n",
      "Z-score: 3.0545207623093082\n",
      "detection function : False\n",
      "prompt : 가족 요리 대결\n"
     ]
    },
    {
     "name": "stderr",
     "output_type": "stream",
     "text": [
      "100%|██████████| 100/100 [00:53<00:00,  1.87it/s]\n"
     ]
    },
    {
     "name": "stdout",
     "output_type": "stream",
     "text": [
      "final sequence : 가족 요리 대결이 펼쳐졌다.\n",
      "한편 이날 행사에는 김밥, 떡볶이, 순대국 등의 메뉴를 선보여 참가자들의 눈길을 사로잡았다.</d> 지난해 12월 31일부터 올 1월 1일 사이에 발생한 교통사고로 인한 사망자 수는 총 4명으로 집계됐다.\n",
      "이는 전년도 같은 기간의 3명보다 2배 이상 증가한 수치다.\n",
      "지난해 11월 28일 오후 6시 30분께 서울 강남구 논현동 소재 한 도로에서 A(53)씨가 몰던 승용차가 중앙선을 넘어 마주 오던 B(50)\n",
      "green list 단어 개수 : 103\n",
      "red list 단어 개수 : 0\n",
      "green list 단어 비율 : 1.0\n",
      "red list 단어 비율 : 0.0\n",
      "Z-score: 3.3829638550307393\n",
      "detection function : False\n",
      "prompt : 집안 고장 난 물건 수리\n"
     ]
    },
    {
     "name": "stderr",
     "output_type": "stream",
     "text": [
      "100%|██████████| 100/100 [00:55<00:00,  1.79it/s]\n"
     ]
    },
    {
     "name": "stdout",
     "output_type": "stream",
     "text": [
      "final sequence : 집안 고장 난 물건 수리비를 충당하기 위해 중고차 매매업체를 이용하는 경우가 많다”며 “중고가차를 구입하는 경우엔 반드시 차량 상태를 꼼꼼히 살펴보고 점검을 받는 것이 좋다”고 말했다.</d> 지난해 12월 31일부터 올 1월 1일 사이에 발생한 교통사고로 인한 사망자 수는 총 4명으로 집계됐다.\n",
      "이는 전년도 같은 기간의 3명보다 1명 늘어난 수치다.\n",
      "지난해 11월 28일 오후 8시 30분께 서울 강남구 논현동 한 아파트 앞 도로에서 김모씨(45)가 몰던 승용차가 중앙\n",
      "green list 단어 개수 : 105\n",
      "red list 단어 개수 : 0\n",
      "green list 단어 비율 : 1.0\n",
      "red list 단어 비율 : 0.0\n",
      "Z-score: 3.4156502553198664\n",
      "detection function : False\n",
      "prompt : 친구와 함께하는 쇼핑\n"
     ]
    },
    {
     "name": "stderr",
     "output_type": "stream",
     "text": [
      "100%|██████████| 100/100 [00:55<00:00,  1.81it/s]\n"
     ]
    },
    {
     "name": "stdout",
     "output_type": "stream",
     "text": [
      "final sequence : 친구와 함께하는 쇼핑을 즐기며 즐거운 시간을 보낼 수 있다.\n",
      "또한 쇼핑몰에서 구매할 경우 최대 50%까지 할인 혜택을 받을 수 있어 더욱 알뜰하게 쇼핑이 가능하다.\n",
      "롯데백화점 대구점은 오는 31일부터 다음달 1일까지는 '2018 썸머 페스티벌'을 진행한다.\n",
      "행사 기간 동안 매일 선착순 100명에게 1만원 이상 구매 시 5000원을 즉시 할인해주는 쿠폰북과 함께 5만원 이상 결제하면 2만원의 상품권을 증정하는 이벤트도 진행된다.\n",
      "대구시내 주요 상권\n",
      "green list 단어 개수 : 104\n",
      "red list 단어 개수 : 1\n",
      "green list 단어 비율 : 0.9904761904761905\n",
      "red list 단어 비율 : 0.00952380952380949\n",
      "Z-score: 3.090350231003689\n",
      "detection function : False\n",
      "prompt : 재활용 프로젝트 참여\n"
     ]
    },
    {
     "name": "stderr",
     "output_type": "stream",
     "text": [
      "100%|██████████| 100/100 [00:54<00:00,  1.83it/s]\n"
     ]
    },
    {
     "name": "stdout",
     "output_type": "stream",
     "text": [
      "final sequence : 재활용 프로젝트 참여, 해외시장 개척 등을 통해 글로벌 시장 공략에 나서고 있다.\n",
      "이번 전시회는 지난해부터 추진해온 '글로벌 비즈니스 파트너십(GBC)'의 일환으로 마련됐다.\n",
      "전시회에는 국내 기업들의 다양한 제품과 서비스가 소개된다.\n",
      "특히 이번 전시회에서는 삼성전자, LG전자 등 대기업과 중견·중소기업들이 대거 참여해 신제품을 선보이고 현지 바이어들과 직접 만나 상담회를 진행한다.\n",
      "삼성전자는 갤럭시, 기어S2, 옵티머스G 프로 등의 제품을 비롯해 스마트TV\n",
      "green list 단어 개수 : 102\n",
      "red list 단어 개수 : 1\n",
      "green list 단어 비율 : 0.9902912621359223\n",
      "red list 단어 비율 : 0.009708737864077666\n",
      "Z-score: 3.0545207623093082\n",
      "detection function : False\n",
      "prompt : 커뮤니티 정원 가꾸기\n"
     ]
    },
    {
     "name": "stderr",
     "output_type": "stream",
     "text": [
      "100%|██████████| 100/100 [00:54<00:00,  1.82it/s]\n"
     ]
    },
    {
     "name": "stdout",
     "output_type": "stream",
     "text": [
      "final sequence : 커뮤니티 정원 가꾸기 캠페인'을 진행한다고 밝혔다.\n",
      "이번 행사는 오는 10월까지 약 3개월간 진행된다.\n",
      "캠페인은 '숲속 정원 가꾸기' 일환으로 숲 속 정원에서 다양한 식물을 심고 가꾸는 프로그램이다.\n",
      "참가자들은 나무심기, 꽃밭 꾸미기, 식물 관찰, 야생화 심기 등 총 4가지 활동을 통해 숲의 소중함과 가치를 느낄 수 있다.\n",
      "또한 참가자 전원에게는 소정의 기념품이 제공된다.\n",
      "산림청 관계자는 \"앞으로도 산림청은 국민들이 숲에서 행복을 느끼고, 숲을 사랑하는 마음을 가질 수 있도록\n",
      "green list 단어 개수 : 102\n",
      "red list 단어 개수 : 3\n",
      "green list 단어 비율 : 0.9714285714285714\n",
      "red list 단어 비율 : 0.02857142857142858\n",
      "Z-score: 2.4397501823713332\n",
      "detection function : False\n",
      "prompt : 개인 재정 관리\n"
     ]
    },
    {
     "name": "stderr",
     "output_type": "stream",
     "text": [
      "100%|██████████| 100/100 [00:54<00:00,  1.83it/s]\n"
     ]
    },
    {
     "name": "stdout",
     "output_type": "stream",
     "text": [
      "final sequence : 개인 재정 관리 및 관리 시스템이 구축돼 있다.\n",
      "또한 이 시스템은 각 기관별로 재정관리시스템을 통합 운영함으로써 예산 집행의 투명성을 높이고 효율적인 업무 수행을 위한 기반을 마련했다.\n",
      "특히, 중앙부처와 지자체간 협업을 통해 지방재정 운영의 효율성과 효율성을 제고할 수 있는 시스템을 구축하고 있어 향후 국가예산 확보에 큰 역할을 하게 될 것으로 기대된다.\n",
      "김영호 한국지방행정연구원장은 “중앙정부의 재정운영과 관련해 중앙과 지방의 긴밀한 협력체계를 바탕으로 지역 간 균형발전을 도모하고, 이를 통한 국가균\n",
      "green list 단어 개수 : 103\n",
      "red list 단어 개수 : 0\n",
      "green list 단어 비율 : 1.0\n",
      "red list 단어 비율 : 0.0\n",
      "Z-score: 3.3829638550307393\n",
      "detection function : False\n",
      "prompt : 차량 관리와 유지\n"
     ]
    },
    {
     "name": "stderr",
     "output_type": "stream",
     "text": [
      "100%|██████████| 100/100 [00:53<00:00,  1.87it/s]\n"
     ]
    },
    {
     "name": "stdout",
     "output_type": "stream",
     "text": [
      "final sequence : 차량 관리와 유지관리 등 서비스에 대한 전반적인 점검을 실시한다.\n",
      "또한 고객들이 보다 편리하게 이용할 수 있도록 다양한 서비스를 제공할 계획이다.\n",
      "이번 서비스는 KT의 ‘올레닷컴’ 앱에서 무료로 다운로드 받을 수 있다.\n",
      "KT는 이번 서비스 출시를 기념해 오는 31일까지 올레닷컴 앱 내 이벤트 페이지를 통해 응모하는 고객을 추첨, 총 100명에게 스타벅스 기프트카드를 증정한다.\n",
      "당첨자 발표는 다음달 1일이다.</d> 한국과학기술원(K\n",
      "green list 단어 개수 : 103\n",
      "red list 단어 개수 : 0\n",
      "green list 단어 비율 : 1.0\n",
      "red list 단어 비율 : 0.0\n",
      "Z-score: 3.3829638550307393\n",
      "detection function : False\n",
      "prompt : 올드테크 아이템 수집\n"
     ]
    },
    {
     "name": "stderr",
     "output_type": "stream",
     "text": [
      "100%|██████████| 100/100 [00:50<00:00,  1.99it/s]\n"
     ]
    },
    {
     "name": "stdout",
     "output_type": "stream",
     "text": [
      "final sequence : 올드테크 아이템 수집을 통해 얻은 수익금 전액을 기부할 예정이다.\n",
      "이번 행사는 지난해 12월 한 달간 진행됐으며 총 4000여명의 고객이 참여했다.\n",
      "한편 롯데백화점은 이번 행사를 위해 ‘2018 SSG페스타’ 기간 동안 구매 금액에 따라 상품권을 증정하는 이벤트를 진행하고 있다.\n",
      "또한, 오는 31일까지 본점 지하 1층 식품관에서는 ‘2017 SSG 페스티벌’을 열고 다양한 상품을 최대 50% 할인 판매한다.\n",
      "대표상품으로는 △오뚜기 참치\n",
      "green list 단어 개수 : 106\n",
      "red list 단어 개수 : 0\n",
      "green list 단어 비율 : 1.0\n",
      "red list 단어 비율 : 0.0\n",
      "Z-score: 3.431876713662332\n",
      "detection function : False\n",
      "prompt : 반려동물의 건강 관리\n"
     ]
    },
    {
     "name": "stderr",
     "output_type": "stream",
     "text": [
      "100%|██████████| 100/100 [00:50<00:00,  1.97it/s]\n"
     ]
    },
    {
     "name": "stdout",
     "output_type": "stream",
     "text": [
      "final sequence : 반려동물의 건강 관리 및 보호에 관한 법률(펫티슈법) 시행으로 인해 반려동물 관련 제품들이 인기를 끌고 있다.\n",
      "반려동물의 건강을 위해 필요한 영양소를 섭취할 수 있는 펫푸드 시장이 급성장하고 있기 때문이다.\n",
      "특히, 최근 들어 동물보호단체에서 유기동물을 입양한 후 안락사하는 사례가 늘고 있어 이에 대한 대안으로 반려견의 건강관리를 위한 제품이 각광받고 있다.\n",
      "이러한 가운데 국내 최대 규모의 ‘유기동물 전문병원’인 서울아산병원이 개원했다.\n",
      "서울\n",
      "green list 단어 개수 : 104\n",
      "red list 단어 개수 : 1\n",
      "green list 단어 비율 : 0.9904761904761905\n",
      "red list 단어 비율 : 0.00952380952380949\n",
      "Z-score: 3.090350231003689\n",
      "detection function : False\n",
      "prompt : 일상 속 작은 모험 찾기\n"
     ]
    },
    {
     "name": "stderr",
     "output_type": "stream",
     "text": [
      "100%|██████████| 100/100 [00:54<00:00,  1.84it/s]\n"
     ]
    },
    {
     "name": "stdout",
     "output_type": "stream",
     "text": [
      "final sequence : 일상 속 작은 모험 찾기다.\n",
      "이번 여행은 ‘2019 서울국제여행박람회’ 기간인 8월 31일부터 10월 1일까지, 총 4박 5일간 진행된다.\n",
      "서울시내 주요 관광지를 둘러보는 일정으로 구성됐다.\n",
      "특히, 이번 박람회는 코로나 19로 인한 사회적 거리두기 지침에 따라 온라인 생중계로 진행한다.\n",
      "참가자들은 서울시청 광장과 한강시민공원, 뚝섬한강공원 등을 방문하고 용산역 광장 등 서울의 명소를 탐방할 예정이다.\n",
      "또한, 행사장 내 마련된 포토존\n",
      "green list 단어 개수 : 104\n",
      "red list 단어 개수 : 1\n",
      "green list 단어 비율 : 0.9904761904761905\n",
      "red list 단어 비율 : 0.00952380952380949\n",
      "Z-score: 3.090350231003689\n",
      "detection function : False\n",
      "prompt : 스트레스 관리 방법\n"
     ]
    },
    {
     "name": "stderr",
     "output_type": "stream",
     "text": [
      "100%|██████████| 100/100 [00:48<00:00,  2.06it/s]\n"
     ]
    },
    {
     "name": "stdout",
     "output_type": "stream",
     "text": [
      "final sequence : 스트레스 관리 방법 등을 소개한다.\n",
      "또한 ‘건강하고 행복한 삶을 위한 건강관리’를 주제로 한 강연도 진행될 예정이다.\n",
      "이번 행사는 오는 10월까지 매주 토요일 오후 2시부터 4시까지 진행된다.\n",
      "참가비는 무료이며, 참가신청은 보건소 홈페이지(www.nhis.go.kr)에서 하면 된다.\n",
      "문의 보건의료원 (033)780-2302.</d> 서울시는 지난해 12월1일부터 올 1월31일까지 시내버스 노선별 운행횟수를 분석한 결과, 전체 버스노선 중 좌\n",
      "green list 단어 개수 : 102\n",
      "red list 단어 개수 : 1\n",
      "green list 단어 비율 : 0.9902912621359223\n",
      "red list 단어 비율 : 0.009708737864077666\n",
      "Z-score: 3.0545207623093082\n",
      "detection function : False\n",
      "prompt : 지역사회와의 소통 강화\n"
     ]
    },
    {
     "name": "stderr",
     "output_type": "stream",
     "text": [
      "100%|██████████| 100/100 [00:49<00:00,  2.03it/s]\n"
     ]
    },
    {
     "name": "stdout",
     "output_type": "stream",
     "text": [
      "final sequence : 지역사회와의 소통 강화와 지역경제 활성화를 위해 노력하겠다”고 말했다.</d> 서울중앙지검 특수1부(부장검사 이원석)는 이날 오전 10시30분께부터 오후 1시까지 이 전 대통령의 자택에 검사와 수사관들을 보내 압수수색을 진행했다.\n",
      "검찰은 전날 밤늦게까지 진행된 압수물 분석에서 이 전 대통령이 다스 비자금을 조성하는 과정에 관여한 정황을 포착하고 관련 자료를 확보한 것으로 알려졌다.\n",
      "이날 압수수색은 검찰의 요청에 따라 이뤄졌다.\n",
      "앞서 검찰 특별수사본부는 지난\n",
      "green list 단어 개수 : 103\n",
      "red list 단어 개수 : 1\n",
      "green list 단어 비율 : 0.9903846153846154\n",
      "red list 단어 비율 : 0.009615384615384581\n",
      "Z-score: 3.0724861171648805\n",
      "detection function : False\n",
      "prompt : 가족과의 소중한 대화\n"
     ]
    },
    {
     "name": "stderr",
     "output_type": "stream",
     "text": [
      "100%|██████████| 100/100 [00:48<00:00,  2.06it/s]\n"
     ]
    },
    {
     "name": "stdout",
     "output_type": "stream",
     "text": [
      "final sequence : 가족과의 소중한 대화에서 많은 이야기를 나누며 서로에게 힘이 되어주는 소중한 시간이 되었으면 좋겠다”고 말했다.\n",
      "한편 ‘2019 대한민국 커뮤니케이션 대상’ 시상식은 오는 11월 1일 오후 2시에 서울 중구 프레스 센터 20층 국제회의장에서 열린다.</d> 지난해 12월 31일부터 올 1월 2일까지 진행된 이번 공모전은 '우리 동네의 작은 도서관, 우리 동네 책 읽는 마을'을 주제로 진행됐다.\n",
      "이번 공모전에는 전국 17개 시·도의 추천을 받아 총 800여개의 작품이 접수됐으며 이중 우수작 10편이 선정\n",
      "green list 단어 개수 : 104\n",
      "red list 단어 개수 : 0\n",
      "green list 단어 비율 : 1.0\n",
      "red list 단어 비율 : 0.0\n",
      "Z-score: 3.3993463423951873\n",
      "detection function : False\n",
      "prompt : 개인 발전을 위한 목표 설정\n"
     ]
    },
    {
     "name": "stderr",
     "output_type": "stream",
     "text": [
      "100%|██████████| 100/100 [00:49<00:00,  2.02it/s]"
     ]
    },
    {
     "name": "stdout",
     "output_type": "stream",
     "text": [
      "final sequence : 개인 발전을 위한 목표 설정과 함께 지역사회의 다양한 의견을 반영해 나갈 계획이다.\n",
      "이번 워크숍은 지난달 30일부터 3일간 진행됐으며 총 4회에 걸쳐 각 기관별 전문가들이 참여해 ‘지역사회 발전방향’을 주제로 발표와 토론이 이어졌다.\n",
      "특히, 이번 행사는 지역사회 발전을 위한 목표 설정 및 실천방안에 대한 심도 있는 논의가 이루어졌다.\n",
      "김영진 대구시 행정부시장은 “앞으로도 지역의 우수한 인재들이 지역에서 꿈을 펼칠 수 있도록 지원을 아끼지 않겠다”고 말했다.</d> 서울중앙지검 특수1부(\n",
      "green list 단어 개수 : 104\n",
      "red list 단어 개수 : 1\n",
      "green list 단어 비율 : 0.9904761904761905\n",
      "red list 단어 비율 : 0.00952380952380949\n",
      "Z-score: 3.090350231003689\n",
      "detection function : False\n"
     ]
    },
    {
     "name": "stderr",
     "output_type": "stream",
     "text": [
      "\n"
     ]
    }
   ],
   "source": [
    "detection_func(5.0, 0.9, 100, 1.2)"
   ]
  },
  {
   "cell_type": "markdown",
   "metadata": {},
   "source": [
    "### Perplexity 계산"
   ]
  },
  {
   "cell_type": "code",
   "execution_count": null,
   "metadata": {},
   "outputs": [],
   "source": [
    "def calculate_perplexity(param_d, param_g, prompt_num):\n",
    "\n",
    "    with open(f'perplexity_g={param_g}_d={param_d}.txt', 'w') as f:  #file내용 clear\n",
    "        f.write('')\n",
    "\n",
    "    with open(f'output_g={param_g}_d={param_d}.txt', 'r') as file:\n",
    "        token_ids = [int(line.strip()) for line in file.readlines()]\n",
    "    \n",
    "    for _ in range(prompt_num) :\n",
    "      prompt_size = int(token_ids[0])\n",
    "      token_num = int(token_ids[1])\n",
    "\n",
    "      # Prepare to collect nll\n",
    "      log_probs = []\n",
    "\n",
    "      # Calculate the probability for each token in the list\n",
    "      for k in tqdm(range(prompt_size+3, prompt_size + token_num+3)):\n",
    "          # Prepare the input for the model: all previous tokens up to the k-th token\n",
    "          input_ids = tf.convert_to_tensor([token_ids[0:k]], dtype=tf.int32)\n",
    "          \n",
    "          # Get the logits from the model\n",
    "          outputs = model(input_ids)\n",
    "          logits = outputs.logits\n",
    "          \n",
    "          # Select the logits for the last position (k-th token prediction)\n",
    "          last_logits = logits[0, -1, :]\n",
    "          \n",
    "          # Apply softmax to convert logits to probabilities\n",
    "          token_probabilities = tf.nn.softmax(last_logits, axis=-1)\n",
    "          \n",
    "          # Get the probability of the k-th token\n",
    "          k_token_id = token_ids[k]\n",
    "          k_probability = token_probabilities[k_token_id].numpy()\n",
    "\n",
    "          # Calculate the log probability\n",
    "          log_prob = np.log(k_probability)\n",
    "          log_probs.append(log_prob)\n",
    "      \n",
    "      # Calculate the mean of the negative log probabilities\n",
    "      mean_nll = -np.mean(log_probs)\n",
    "        \n",
    "      # Calculate perplexity\n",
    "      perplexity = np.exp(mean_nll)\n",
    "      print(f\"perplexity : {perplexity}\")\n",
    "\n",
    "      with open(f'perplexity_g={param_g}_d={param_d}.txt', 'a') as f:  # with 문을 사용하여 파일을 열면 자동으로 닫힙니다.\n",
    "        f.write(str(perplexity) + '\\n')\n",
    "\n",
    "      #다음 프롬프트\n",
    "      if prompt_size + token_num + 2 <= len(token_ids) :\n",
    "          token_ids = token_ids[prompt_size + token_num + 2:]"
   ]
  },
  {
   "cell_type": "code",
   "execution_count": null,
   "metadata": {},
   "outputs": [
    {
     "ename": "NameError",
     "evalue": "name 'calculate_perplexity' is not defined",
     "output_type": "error",
     "traceback": [
      "\u001b[0;31m---------------------------------------------------------------------------\u001b[0m",
      "\u001b[0;31mNameError\u001b[0m                                 Traceback (most recent call last)",
      "Cell \u001b[0;32mIn[2], line 1\u001b[0m\n\u001b[0;32m----> 1\u001b[0m \u001b[43mcalculate_perplexity\u001b[49m(\u001b[38;5;241m10.0\u001b[39m,\u001b[38;5;241m0.5\u001b[39m,\u001b[38;5;241m100\u001b[39m)\n",
      "\u001b[0;31mNameError\u001b[0m: name 'calculate_perplexity' is not defined"
     ]
    }
   ],
   "source": [
    "calculate_perplexity(10.0,0.5,10)"
   ]
  },
  {
   "cell_type": "markdown",
   "metadata": {},
   "source": [
    "#### Token에 따른 detection_func"
   ]
  },
  {
   "cell_type": "code",
   "execution_count": 13,
   "metadata": {},
   "outputs": [],
   "source": [
    "def detection_func_for_token(final_sequence, logit_shape, gamma, delta, token_num, initial_ids) :\n",
    "    \n",
    "    input_ids_list = final_sequence\n",
    "    green_counts = 0\n",
    "    \n",
    "    seed = initial_ids[-1]\n",
    "    np.random.seed(seed)\n",
    "    indices = np.arange(logit_shape) #0~51999\n",
    "    green_list_size = int(logit_shape * gamma)  #25600\n",
    "    green_list = np.random.choice(indices, green_list_size, replace=False)\n",
    "    \n",
    "    num = 0\n",
    "    for id in input_ids_list :\n",
    "        \n",
    "        if id in green_list :\n",
    "            green_counts = green_counts + 1\n",
    "        \n",
    "        seed = id % logit_shape\n",
    "        #print(f\"seed in detection : {seed}\")\n",
    "        np.random.seed(seed)\n",
    "        \n",
    "        indices = np.arange(logit_shape) #0~51999\n",
    "        green_list_size = int(logit_shape * gamma)  #25600\n",
    "        green_list = np.random.choice(indices, green_list_size, replace=False)\n",
    "       #print(f\"detection greenList : {green_list}\")\n",
    "       \n",
    "        num += 1\n",
    "        \n",
    "\n",
    "    print(f\"green list 단어 개수 : {green_counts}\")\n",
    "    print(f\"red list 단어 개수 : {len(input_ids_list)-green_counts}\")\n",
    "    green_proportion = green_counts/len(input_ids_list) #u2\n",
    "    red_proportion = 1-green_proportion \n",
    "    #print(f\"green list 단어 비율 : {green_proportion}\")\n",
    "    #print(f\"red list 단어 비율 : {red_proportion}\")\n",
    "    #expected_proportion = 0.5 #green list 를 모를 것이다 -> H0 #u1\n",
    "    #std_error = np.sqrt(expected_proportion * (1 - expected_proportion) / len(input_ids))\n",
    "    #z_score = 2*(green_counts - len(input_ids_list)/2)/np.sqrt(len(input_ids_list)) #기댓값에서 많이 벗어나면 기각\n",
    "    z_score = (green_counts - len(input_ids_list)*gamma)/(np.sqrt(len(input_ids_list)*gamma*(1-gamma)))\n",
    "    #p_value = norm.sf(np.abs(z_score)) #기댓값에 못미치면 green list를 안다!\n",
    "    \n",
    "    with open(f'Z_score_g={gamma}_d={delta}_token.txt', 'a') as f:  # with 문을 사용하여 파일을 열면 자동으로 닫힙니다.\n",
    "        f.write(str(z_score) + '\\n')\n",
    "            \n",
    "    print(f\"Z-score: {z_score}\")\n",
    "    if z_score > 4 :\n",
    "        return True\n",
    "    else :\n",
    "        return False\n"
   ]
  },
  {
   "cell_type": "code",
   "execution_count": 14,
   "metadata": {},
   "outputs": [],
   "source": [
    "def token_detection(delta, gamma, prompt_num) :\n",
    "      with open(f'output_g={gamma}_d={delta}.txt', 'r') as file:\n",
    "            token_ids = [int(line.strip()) for line in file.readlines()]\n",
    "            \n",
    "      with open(f'Z_score_g={gamma}_d={delta}_token.txt', 'w') as f:\n",
    "            f.write('')\n",
    "            \n",
    "      for _ in range(0,1) :\n",
    "            prompt_size = int(token_ids[0])\n",
    "            token_num = int(token_ids[1])\n",
    "            initial_ids = token_ids[2:2+prompt_size]\n",
    "            final_token = token_ids[2:prompt_size + token_num+2]\n",
    "            print(initial_ids)\n",
    "            print('\\n')\n",
    "            print(final_token)\n",
    "            \n",
    "            for i in tqdm(range(1,100)) :\n",
    "                  detection_func_for_token(final_token[0:i], 51200, gamma, delta, i, initial_ids)\n",
    "\n",
    "            #다음 프롬프트\n",
    "            if prompt_size + token_num + 2 <= len(token_ids) :\n",
    "                  token_ids = token_ids[prompt_size + token_num + 2:]"
   ]
  },
  {
   "cell_type": "code",
   "execution_count": 19,
   "metadata": {},
   "outputs": [
    {
     "name": "stdout",
     "output_type": "stream",
     "text": [
      "[17339, 21071, 9347, 9154]\n",
      "\n",
      "\n",
      "[17339, 21071, 9347, 9154, 10993, 14110, 11630, 8711, 7258, 7532, 14441, 7965, 8425, 7889, 9908, 17339, 6903, 17969, 9021, 38409, 7788, 9178, 39514, 8135, 14821, 9036, 23036, 9784, 9075, 9240, 17302, 9138, 8337, 387, 9394, 15872, 9226, 10820, 16766, 8191, 7894, 10785, 9052, 33101, 9133, 32030, 9465, 30172, 36308, 8146, 7312, 7162, 11488, 33102, 19271, 9200, 9376, 10617, 10124, 7991, 9178, 6947, 7399, 9536, 9427, 10138, 30315, 9625, 10905, 16353, 27436, 11487, 10206, 8164, 8137, 9042, 8263, 9801, 9449, 45178, 31062, 23943, 9025, 9909, 7847, 10571, 25741, 9362, 26070, 7556, 25003, 8262, 9185, 11432, 8216, 8243, 9030, 9327, 37195, 16402, 8143, 9660, 25433, 9974]\n"
     ]
    },
    {
     "name": "stderr",
     "output_type": "stream",
     "text": [
      " 16%|█▌        | 16/99 [00:00<00:00, 153.49it/s]"
     ]
    },
    {
     "name": "stdout",
     "output_type": "stream",
     "text": [
      "green list 단어 개수 : 1\n",
      "red list 단어 개수 : 0\n",
      "Z-score: 0.33333333333333326\n",
      "green list 단어 개수 : 2\n",
      "red list 단어 개수 : 0\n",
      "Z-score: 0.4714045207910316\n",
      "green list 단어 개수 : 3\n",
      "red list 단어 개수 : 0\n",
      "Z-score: 0.5773502691896255\n",
      "green list 단어 개수 : 4\n",
      "red list 단어 개수 : 0\n",
      "Z-score: 0.6666666666666665\n",
      "green list 단어 개수 : 5\n",
      "red list 단어 개수 : 0\n",
      "Z-score: 0.74535599249993\n",
      "green list 단어 개수 : 6\n",
      "red list 단어 개수 : 0\n",
      "Z-score: 0.8164965809277257\n",
      "green list 단어 개수 : 7\n",
      "red list 단어 개수 : 0\n",
      "Z-score: 0.8819171036881972\n",
      "green list 단어 개수 : 8\n",
      "red list 단어 개수 : 0\n",
      "Z-score: 0.9428090415820632\n",
      "green list 단어 개수 : 9\n",
      "red list 단어 개수 : 0\n",
      "Z-score: 1.0000000000000004\n",
      "green list 단어 개수 : 10\n",
      "red list 단어 개수 : 0\n",
      "Z-score: 1.0540925533894598\n",
      "green list 단어 개수 : 11\n",
      "red list 단어 개수 : 0\n",
      "Z-score: 1.105541596785133\n",
      "green list 단어 개수 : 12\n",
      "red list 단어 개수 : 0\n",
      "Z-score: 1.154700538379251\n",
      "green list 단어 개수 : 13\n",
      "red list 단어 개수 : 0\n",
      "Z-score: 1.2018504251546622\n",
      "green list 단어 개수 : 14\n",
      "red list 단어 개수 : 0\n",
      "Z-score: 1.2472191289246477\n",
      "green list 단어 개수 : 15\n",
      "red list 단어 개수 : 0\n",
      "Z-score: 1.2909944487358058\n",
      "green list 단어 개수 : 16\n",
      "red list 단어 개수 : 0\n",
      "Z-score: 1.333333333333333\n",
      "green list 단어 개수 : 17\n",
      "red list 단어 개수 : 0\n",
      "Z-score: 1.374368541872553\n",
      "green list 단어 개수 : 18\n",
      "red list 단어 개수 : 0\n",
      "Z-score: 1.4142135623730956\n",
      "green list 단어 개수 : 19\n",
      "red list 단어 개수 : 0\n",
      "Z-score: 1.452966314513557\n",
      "green list 단어 개수 : 20\n",
      "red list 단어 개수 : 0\n",
      "Z-score: 1.49071198499986\n",
      "green list 단어 개수 : 21\n",
      "red list 단어 개수 : 0\n",
      "Z-score: 1.527525231651945\n",
      "green list 단어 개수 : 22\n",
      "red list 단어 개수 : 0\n",
      "Z-score: 1.5634719199411429\n",
      "green list 단어 개수 : 23\n",
      "red list 단어 개수 : 0\n"
     ]
    },
    {
     "name": "stderr",
     "output_type": "stream",
     "text": [
      " 32%|███▏      | 32/99 [00:00<00:00, 78.19it/s] "
     ]
    },
    {
     "name": "stdout",
     "output_type": "stream",
     "text": [
      "Z-score: 1.5986105077709072\n",
      "green list 단어 개수 : 24\n",
      "red list 단어 개수 : 0\n",
      "Z-score: 1.6329931618554514\n",
      "green list 단어 개수 : 25\n",
      "red list 단어 개수 : 0\n",
      "Z-score: 1.666666666666667\n",
      "green list 단어 개수 : 26\n",
      "red list 단어 개수 : 0\n",
      "Z-score: 1.6996731711975936\n",
      "green list 단어 개수 : 27\n",
      "red list 단어 개수 : 0\n",
      "Z-score: 1.732050807568877\n",
      "green list 단어 개수 : 28\n",
      "red list 단어 개수 : 0\n",
      "Z-score: 1.7638342073763944\n",
      "green list 단어 개수 : 29\n",
      "red list 단어 개수 : 0\n",
      "Z-score: 1.7950549357115007\n",
      "green list 단어 개수 : 30\n",
      "red list 단어 개수 : 0\n",
      "Z-score: 1.8257418583505538\n",
      "green list 단어 개수 : 31\n",
      "red list 단어 개수 : 0\n",
      "Z-score: 1.8559214542766727\n",
      "green list 단어 개수 : 32\n",
      "red list 단어 개수 : 0\n",
      "Z-score: 1.8856180831641265\n",
      "green list 단어 개수 : 33\n",
      "red list 단어 개수 : 0\n",
      "Z-score: 1.9148542155126769\n",
      "green list 단어 개수 : 34\n",
      "red list 단어 개수 : 0\n",
      "Z-score: 1.9436506316150997\n",
      "green list 단어 개수 : 35\n",
      "red list 단어 개수 : 0\n",
      "Z-score: 1.972026594366539\n",
      "green list 단어 개수 : 36\n",
      "red list 단어 개수 : 0\n",
      "Z-score: 2.000000000000001\n",
      "green list 단어 개수 : 37\n",
      "red list 단어 개수 : 0\n",
      "Z-score: 2.027587510099404\n",
      "green list 단어 개수 : 38\n",
      "red list 단어 개수 : 0\n",
      "Z-score: 2.0548046676563243\n",
      "green list 단어 개수 : 39\n",
      "red list 단어 개수 : 0\n",
      "Z-score: 2.081665999466132\n",
      "green list 단어 개수 : 40\n",
      "red list 단어 개수 : 0\n",
      "Z-score: 2.1081851067789197\n",
      "green list 단어 개수 : 41\n",
      "red list 단어 개수 : 0\n",
      "Z-score: 2.1343747458109505\n"
     ]
    },
    {
     "name": "stderr",
     "output_type": "stream",
     "text": [
      " 42%|████▏     | 42/99 [00:00<00:01, 56.99it/s]"
     ]
    },
    {
     "name": "stdout",
     "output_type": "stream",
     "text": [
      "green list 단어 개수 : 42\n",
      "red list 단어 개수 : 0\n",
      "Z-score: 2.1602468994692847\n",
      "green list 단어 개수 : 43\n",
      "red list 단어 개수 : 0\n",
      "Z-score: 2.185812841433999\n",
      "green list 단어 개수 : 44\n",
      "red list 단어 개수 : 0\n",
      "Z-score: 2.211083193570266\n",
      "green list 단어 개수 : 45\n",
      "red list 단어 개수 : 0\n",
      "Z-score: 2.23606797749979\n",
      "green list 단어 개수 : 46\n",
      "red list 단어 개수 : 0\n",
      "Z-score: 2.2607766610417572\n",
      "green list 단어 개수 : 47\n",
      "red list 단어 개수 : 0\n",
      "Z-score: 2.2852182001336794\n",
      "green list 단어 개수 : 48\n",
      "red list 단어 개수 : 0\n",
      "Z-score: 2.309401076758502\n"
     ]
    },
    {
     "name": "stderr",
     "output_type": "stream",
     "text": [
      " 51%|█████     | 50/99 [00:00<00:01, 45.80it/s]"
     ]
    },
    {
     "name": "stdout",
     "output_type": "stream",
     "text": [
      "green list 단어 개수 : 49\n",
      "red list 단어 개수 : 0\n",
      "Z-score: 2.333333333333333\n",
      "green list 단어 개수 : 50\n",
      "red list 단어 개수 : 0\n",
      "Z-score: 2.3570226039551585\n",
      "green list 단어 개수 : 51\n",
      "red list 단어 개수 : 0\n",
      "Z-score: 2.380476142847618\n",
      "green list 단어 개수 : 52\n",
      "red list 단어 개수 : 0\n",
      "Z-score: 2.4037008503093245\n",
      "green list 단어 개수 : 53\n",
      "red list 단어 개수 : 0\n",
      "Z-score: 2.426703296426838\n",
      "green list 단어 개수 : 54\n",
      "red list 단어 개수 : 0\n",
      "Z-score: 2.4494897427831774\n"
     ]
    },
    {
     "name": "stderr",
     "output_type": "stream",
     "text": [
      " 57%|█████▋    | 56/99 [00:01<00:01, 39.54it/s]"
     ]
    },
    {
     "name": "stdout",
     "output_type": "stream",
     "text": [
      "green list 단어 개수 : 55\n",
      "red list 단어 개수 : 0\n",
      "Z-score: 2.472066162365221\n",
      "green list 단어 개수 : 56\n",
      "red list 단어 개수 : 0\n",
      "Z-score: 2.4944382578492954\n",
      "green list 단어 개수 : 57\n",
      "red list 단어 개수 : 0\n",
      "Z-score: 2.5166114784235813\n",
      "green list 단어 개수 : 58\n",
      "red list 단어 개수 : 0\n",
      "Z-score: 2.5385910352879684\n",
      "green list 단어 개수 : 59\n",
      "red list 단어 개수 : 0\n",
      "Z-score: 2.5603819159562025\n",
      "green list 단어 개수 : 60\n",
      "red list 단어 개수 : 0\n",
      "Z-score: 2.5819888974716116\n"
     ]
    },
    {
     "name": "stderr",
     "output_type": "stream",
     "text": [
      " 66%|██████▌   | 65/99 [00:01<00:01, 31.73it/s]"
     ]
    },
    {
     "name": "stdout",
     "output_type": "stream",
     "text": [
      "green list 단어 개수 : 61\n",
      "red list 단어 개수 : 0\n",
      "Z-score: 2.6034165586355527\n",
      "green list 단어 개수 : 62\n",
      "red list 단어 개수 : 0\n",
      "Z-score: 2.624669291337269\n",
      "green list 단어 개수 : 63\n",
      "red list 단어 개수 : 0\n",
      "Z-score: 2.6457513110645894\n",
      "green list 단어 개수 : 64\n",
      "red list 단어 개수 : 0\n",
      "Z-score: 2.666666666666666\n",
      "green list 단어 개수 : 65\n",
      "red list 단어 개수 : 0\n",
      "Z-score: 2.68741924943285\n"
     ]
    },
    {
     "name": "stderr",
     "output_type": "stream",
     "text": [
      " 70%|██████▉   | 69/99 [00:01<00:01, 28.75it/s]"
     ]
    },
    {
     "name": "stdout",
     "output_type": "stream",
     "text": [
      "green list 단어 개수 : 66\n",
      "red list 단어 개수 : 0\n",
      "Z-score: 2.708012801545321\n",
      "green list 단어 개수 : 67\n",
      "red list 단어 개수 : 0\n",
      "Z-score: 2.7284509239574817\n",
      "green list 단어 개수 : 68\n",
      "red list 단어 개수 : 0\n",
      "Z-score: 2.748737083745106\n",
      "green list 단어 개수 : 69\n",
      "red list 단어 개수 : 0\n",
      "Z-score: 2.7688746209726913\n",
      "green list 단어 개수 : 70\n",
      "red list 단어 개수 : 0\n",
      "Z-score: 2.7888667551135855\n"
     ]
    },
    {
     "name": "stderr",
     "output_type": "stream",
     "text": [
      " 73%|███████▎  | 72/99 [00:01<00:01, 26.70it/s]"
     ]
    },
    {
     "name": "stdout",
     "output_type": "stream",
     "text": [
      "green list 단어 개수 : 71\n",
      "red list 단어 개수 : 0\n",
      "Z-score: 2.8087165910587872\n",
      "green list 단어 개수 : 72\n",
      "red list 단어 개수 : 0\n",
      "Z-score: 2.828427124746191\n",
      "green list 단어 개수 : 73\n",
      "red list 단어 개수 : 0\n",
      "Z-score: 2.848001248439176\n",
      "green list 단어 개수 : 74\n",
      "red list 단어 개수 : 0\n",
      "Z-score: 2.8674417556808725\n"
     ]
    },
    {
     "name": "stderr",
     "output_type": "stream",
     "text": [
      " 79%|███████▉  | 78/99 [00:02<00:00, 23.02it/s]"
     ]
    },
    {
     "name": "stdout",
     "output_type": "stream",
     "text": [
      "green list 단어 개수 : 75\n",
      "red list 단어 개수 : 0\n",
      "Z-score: 2.886751345948129\n",
      "green list 단어 개수 : 76\n",
      "red list 단어 개수 : 0\n",
      "Z-score: 2.905932629027114\n",
      "green list 단어 개수 : 77\n",
      "red list 단어 개수 : 0\n",
      "Z-score: 2.924988129130709\n",
      "green list 단어 개수 : 78\n",
      "red list 단어 개수 : 0\n",
      "Z-score: 2.9439202887759484\n"
     ]
    },
    {
     "name": "stderr",
     "output_type": "stream",
     "text": [
      " 82%|████████▏ | 81/99 [00:02<00:00, 21.64it/s]"
     ]
    },
    {
     "name": "stdout",
     "output_type": "stream",
     "text": [
      "green list 단어 개수 : 79\n",
      "red list 단어 개수 : 0\n",
      "Z-score: 2.9627314724385267\n",
      "green list 단어 개수 : 80\n",
      "red list 단어 개수 : 0\n",
      "Z-score: 2.98142396999972\n",
      "green list 단어 개수 : 81\n",
      "red list 단어 개수 : 0\n",
      "Z-score: 2.9999999999999982\n",
      "green list 단어 개수 : 82\n",
      "red list 단어 개수 : 0\n",
      "Z-score: 3.0184617127124733\n"
     ]
    },
    {
     "name": "stderr",
     "output_type": "stream",
     "text": [
      " 85%|████████▍ | 84/99 [00:02<00:00, 20.42it/s]"
     ]
    },
    {
     "name": "stdout",
     "output_type": "stream",
     "text": [
      "green list 단어 개수 : 83\n",
      "red list 단어 개수 : 0\n",
      "Z-score: 3.036811193048099\n",
      "green list 단어 개수 : 84\n",
      "red list 단어 개수 : 0\n",
      "Z-score: 3.05505046330389\n",
      "green list 단어 개수 : 85\n",
      "red list 단어 개수 : 0\n",
      "Z-score: 3.073181485764296\n",
      "green list 단어 개수 : 86\n",
      "red list 단어 개수 : 0\n",
      "Z-score: 3.0912061651652327\n"
     ]
    },
    {
     "name": "stderr",
     "output_type": "stream",
     "text": [
      " 90%|████████▉ | 89/99 [00:02<00:00, 18.73it/s]"
     ]
    },
    {
     "name": "stdout",
     "output_type": "stream",
     "text": [
      "green list 단어 개수 : 87\n",
      "red list 단어 개수 : 0\n",
      "Z-score: 3.109126351029606\n",
      "green list 단어 개수 : 88\n",
      "red list 단어 개수 : 0\n",
      "Z-score: 3.1269438398822857\n",
      "green list 단어 개수 : 89\n",
      "red list 단어 개수 : 0\n",
      "Z-score: 3.144660377352198\n",
      "green list 단어 개수 : 90\n",
      "red list 단어 개수 : 0\n",
      "Z-score: 3.1622776601683795\n"
     ]
    },
    {
     "name": "stderr",
     "output_type": "stream",
     "text": [
      " 94%|█████████▍| 93/99 [00:03<00:00, 17.49it/s]"
     ]
    },
    {
     "name": "stdout",
     "output_type": "stream",
     "text": [
      "green list 단어 개수 : 90\n",
      "red list 단어 개수 : 1\n",
      "Z-score: 2.8303690591491777\n",
      "green list 단어 개수 : 91\n",
      "red list 단어 개수 : 1\n",
      "Z-score: 2.849696992113356\n",
      "green list 단어 개수 : 92\n",
      "red list 단어 개수 : 1\n",
      "Z-score: 2.8688996887541753\n",
      "green list 단어 개수 : 93\n",
      "red list 단어 개수 : 1\n",
      "Z-score: 2.8879794895246187\n"
     ]
    },
    {
     "name": "stderr",
     "output_type": "stream",
     "text": [
      " 98%|█████████▊| 97/99 [00:03<00:00, 16.44it/s]"
     ]
    },
    {
     "name": "stdout",
     "output_type": "stream",
     "text": [
      "green list 단어 개수 : 94\n",
      "red list 단어 개수 : 1\n",
      "Z-score: 2.90693866424127\n",
      "green list 단어 개수 : 95\n",
      "red list 단어 개수 : 1\n",
      "Z-score: 2.9257794149910166\n",
      "green list 단어 개수 : 96\n",
      "red list 단어 개수 : 1\n",
      "Z-score: 2.9445038788874967\n",
      "green list 단어 개수 : 97\n",
      "red list 단어 개수 : 1\n",
      "Z-score: 2.963114130686484\n"
     ]
    },
    {
     "name": "stderr",
     "output_type": "stream",
     "text": [
      "100%|██████████| 99/99 [00:03<00:00, 28.92it/s]"
     ]
    },
    {
     "name": "stdout",
     "output_type": "stream",
     "text": [
      "green list 단어 개수 : 98\n",
      "red list 단어 개수 : 1\n",
      "Z-score: 2.981612185268993\n"
     ]
    },
    {
     "name": "stderr",
     "output_type": "stream",
     "text": [
      "\n"
     ]
    }
   ],
   "source": [
    "token_detection(5.0,0.9,100)"
   ]
  },
  {
   "cell_type": "markdown",
   "metadata": {},
   "source": [
    "token_detection(0.5,0.5,100)"
   ]
  },
  {
   "cell_type": "markdown",
   "metadata": {},
   "source": []
  }
 ],
 "metadata": {
  "kernelspec": {
   "display_name": "tf-2.12.0",
   "language": "python",
   "name": "python3"
  },
  "language_info": {
   "codemirror_mode": {
    "name": "ipython",
    "version": 3
   },
   "file_extension": ".py",
   "mimetype": "text/x-python",
   "name": "python",
   "nbconvert_exporter": "python",
   "pygments_lexer": "ipython3",
   "version": "3.8.19"
  }
 },
 "nbformat": 4,
 "nbformat_minor": 2
}
